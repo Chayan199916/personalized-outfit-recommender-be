{
  "cells": [
    {
      "cell_type": "code",
      "execution_count": null,
      "metadata": {
        "colab": {
          "base_uri": "https://localhost:8080/"
        },
        "id": "P-OC5aa-jqki",
        "outputId": "3bae0a72-3ce6-42c6-8acf-96938620100d"
      },
      "outputs": [
        {
          "output_type": "stream",
          "name": "stdout",
          "text": [
            "Mounted at /content/drive\n"
          ]
        }
      ],
      "source": [
        "from google.colab import drive\n",
        "drive.mount('/content/drive')"
      ]
    },
    {
      "cell_type": "code",
      "execution_count": null,
      "metadata": {
        "colab": {
          "base_uri": "https://localhost:8080/"
        },
        "id": "sROaI0J7H36y",
        "outputId": "b4b7ea1a-d6df-4b5f-85ed-782fe458c2f3"
      },
      "outputs": [
        {
          "output_type": "stream",
          "name": "stdout",
          "text": [
            "/content/drive/.shortcut-targets-by-id/1-0ODWkYUqKds7i6A9u5GtxUYKvjnHaS_/fashion_product_images\n"
          ]
        }
      ],
      "source": [
        "import os\n",
        "os.environ[\"KAGGLE_CONFIG_DIR\"] = \"/content/drive/MyDrive/fashion_product_images\"\n",
        "%cd \"/content/drive/MyDrive/fashion_product_images\""
      ]
    },
    {
      "cell_type": "code",
      "execution_count": null,
      "metadata": {
        "colab": {
          "base_uri": "https://localhost:8080/"
        },
        "id": "Zw1pzZtwIDhC",
        "outputId": "abca8cf2-7497-4e3f-c296-0f5c42b89f2a"
      },
      "outputs": [
        {
          "name": "stdout",
          "output_type": "stream",
          "text": [
            "Dataset URL: https://www.kaggle.com/datasets/paramaggarwal/fashion-product-images-small\n",
            "License(s): copyright-authors\n",
            "fashion-product-images-small.zip: Skipping, found more recently modified local copy (use --force to force download)\n"
          ]
        }
      ],
      "source": [
        "!kaggle datasets download -d paramaggarwal/fashion-product-images-small"
      ]
    },
    {
      "cell_type": "code",
      "execution_count": null,
      "metadata": {
        "colab": {
          "base_uri": "https://localhost:8080/"
        },
        "id": "w8wRjucEYYJZ",
        "outputId": "5cb1658c-1401-4cba-c719-6f969be93d83"
      },
      "outputs": [
        {
          "name": "stdout",
          "output_type": "stream",
          "text": [
            "\u001b[1;30;43mStreaming output truncated to the last 5000 lines.\u001b[0m\n",
            "  inflating: myntradataset/images/5813.jpg  \n",
            "  inflating: myntradataset/images/58131.jpg  \n",
            "  inflating: myntradataset/images/58132.jpg  \n",
            "  inflating: myntradataset/images/58133.jpg  \n",
            "  inflating: myntradataset/images/58135.jpg  \n",
            "  inflating: myntradataset/images/58136.jpg  \n",
            "  inflating: myntradataset/images/58137.jpg  \n",
            "  inflating: myntradataset/images/58138.jpg  \n",
            "  inflating: myntradataset/images/58139.jpg  \n",
            "  inflating: myntradataset/images/5814.jpg  \n",
            "  inflating: myntradataset/images/58140.jpg  \n",
            "  inflating: myntradataset/images/58141.jpg  \n",
            "  inflating: myntradataset/images/58143.jpg  \n",
            "  inflating: myntradataset/images/58144.jpg  \n",
            "  inflating: myntradataset/images/58145.jpg  \n",
            "  inflating: myntradataset/images/58146.jpg  \n",
            "  inflating: myntradataset/images/58147.jpg  \n",
            "  inflating: myntradataset/images/58148.jpg  \n",
            "  inflating: myntradataset/images/58149.jpg  \n",
            "  inflating: myntradataset/images/5815.jpg  \n",
            "  inflating: myntradataset/images/58150.jpg  \n",
            "  inflating: myntradataset/images/58151.jpg  \n",
            "  inflating: myntradataset/images/58152.jpg  \n",
            "  inflating: myntradataset/images/58153.jpg  \n",
            "  inflating: myntradataset/images/58154.jpg  \n",
            "  inflating: myntradataset/images/58155.jpg  \n",
            "  inflating: myntradataset/images/58156.jpg  \n",
            "  inflating: myntradataset/images/58157.jpg  \n",
            "  inflating: myntradataset/images/58158.jpg  \n",
            "  inflating: myntradataset/images/58159.jpg  \n",
            "  inflating: myntradataset/images/5816.jpg  \n",
            "  inflating: myntradataset/images/58160.jpg  \n",
            "  inflating: myntradataset/images/58161.jpg  \n",
            "  inflating: myntradataset/images/58162.jpg  \n",
            "  inflating: myntradataset/images/58163.jpg  \n",
            "  inflating: myntradataset/images/58164.jpg  \n",
            "  inflating: myntradataset/images/58165.jpg  \n",
            "  inflating: myntradataset/images/58166.jpg  \n",
            "  inflating: myntradataset/images/58167.jpg  \n",
            "  inflating: myntradataset/images/58168.jpg  \n",
            "  inflating: myntradataset/images/58169.jpg  \n",
            "  inflating: myntradataset/images/5817.jpg  \n",
            "  inflating: myntradataset/images/58170.jpg  \n",
            "  inflating: myntradataset/images/58171.jpg  \n",
            "  inflating: myntradataset/images/58172.jpg  \n",
            "  inflating: myntradataset/images/58173.jpg  \n",
            "  inflating: myntradataset/images/58174.jpg  \n",
            "  inflating: myntradataset/images/58175.jpg  \n",
            "  inflating: myntradataset/images/58176.jpg  \n",
            "  inflating: myntradataset/images/58177.jpg  \n",
            "  inflating: myntradataset/images/58178.jpg  \n",
            "  inflating: myntradataset/images/58179.jpg  \n",
            "  inflating: myntradataset/images/5818.jpg  \n",
            "  inflating: myntradataset/images/58180.jpg  \n",
            "  inflating: myntradataset/images/58181.jpg  \n",
            "  inflating: myntradataset/images/58182.jpg  \n",
            "  inflating: myntradataset/images/58183.jpg  \n",
            "  inflating: myntradataset/images/58184.jpg  \n",
            "  inflating: myntradataset/images/58185.jpg  \n",
            "  inflating: myntradataset/images/58186.jpg  \n",
            "  inflating: myntradataset/images/58187.jpg  \n",
            "  inflating: myntradataset/images/58188.jpg  \n",
            "  inflating: myntradataset/images/58189.jpg  \n",
            "  inflating: myntradataset/images/5819.jpg  \n",
            "  inflating: myntradataset/images/58190.jpg  \n",
            "  inflating: myntradataset/images/58191.jpg  \n",
            "  inflating: myntradataset/images/58194.jpg  \n",
            "  inflating: myntradataset/images/58195.jpg  \n",
            "  inflating: myntradataset/images/58196.jpg  \n",
            "  inflating: myntradataset/images/5820.jpg  \n",
            "  inflating: myntradataset/images/58200.jpg  \n",
            "  inflating: myntradataset/images/58201.jpg  \n",
            "  inflating: myntradataset/images/58202.jpg  \n",
            "  inflating: myntradataset/images/58203.jpg  \n",
            "  inflating: myntradataset/images/58204.jpg  \n",
            "  inflating: myntradataset/images/58205.jpg  \n",
            "  inflating: myntradataset/images/58206.jpg  \n",
            "  inflating: myntradataset/images/58207.jpg  \n",
            "  inflating: myntradataset/images/58208.jpg  \n",
            "  inflating: myntradataset/images/58209.jpg  \n",
            "  inflating: myntradataset/images/5821.jpg  \n",
            "  inflating: myntradataset/images/58210.jpg  \n",
            "  inflating: myntradataset/images/58211.jpg  \n",
            "  inflating: myntradataset/images/58212.jpg  \n",
            "  inflating: myntradataset/images/58213.jpg  \n",
            "  inflating: myntradataset/images/58214.jpg  \n",
            "  inflating: myntradataset/images/58215.jpg  \n",
            "  inflating: myntradataset/images/58216.jpg  \n",
            "  inflating: myntradataset/images/58218.jpg  \n",
            "  inflating: myntradataset/images/5822.jpg  \n",
            "  inflating: myntradataset/images/58220.jpg  \n",
            "  inflating: myntradataset/images/58222.jpg  \n",
            "  inflating: myntradataset/images/58225.jpg  \n",
            "  inflating: myntradataset/images/58226.jpg  \n",
            "  inflating: myntradataset/images/58227.jpg  \n",
            "  inflating: myntradataset/images/58229.jpg  \n",
            "  inflating: myntradataset/images/5823.jpg  \n",
            "  inflating: myntradataset/images/58231.jpg  \n",
            "  inflating: myntradataset/images/58232.jpg  \n",
            "  inflating: myntradataset/images/58233.jpg  \n",
            "  inflating: myntradataset/images/58234.jpg  \n",
            "  inflating: myntradataset/images/58235.jpg  \n",
            "  inflating: myntradataset/images/58236.jpg  \n",
            "  inflating: myntradataset/images/58237.jpg  \n",
            "  inflating: myntradataset/images/58238.jpg  \n",
            "  inflating: myntradataset/images/58239.jpg  \n",
            "  inflating: myntradataset/images/5824.jpg  \n",
            "  inflating: myntradataset/images/58240.jpg  \n",
            "  inflating: myntradataset/images/58241.jpg  \n",
            "  inflating: myntradataset/images/58242.jpg  \n",
            "  inflating: myntradataset/images/58243.jpg  \n",
            "  inflating: myntradataset/images/58244.jpg  \n",
            "  inflating: myntradataset/images/58245.jpg  \n",
            "  inflating: myntradataset/images/58246.jpg  \n",
            "  inflating: myntradataset/images/58247.jpg  \n",
            "  inflating: myntradataset/images/58248.jpg  \n",
            "  inflating: myntradataset/images/58249.jpg  \n",
            "  inflating: myntradataset/images/5825.jpg  \n",
            "  inflating: myntradataset/images/58250.jpg  \n",
            "  inflating: myntradataset/images/58251.jpg  \n",
            "  inflating: myntradataset/images/58252.jpg  \n",
            "  inflating: myntradataset/images/58253.jpg  \n",
            "  inflating: myntradataset/images/58254.jpg  \n",
            "  inflating: myntradataset/images/58255.jpg  \n",
            "  inflating: myntradataset/images/58256.jpg  \n",
            "  inflating: myntradataset/images/58257.jpg  \n",
            "  inflating: myntradataset/images/58258.jpg  \n",
            "  inflating: myntradataset/images/58259.jpg  \n",
            "  inflating: myntradataset/images/5826.jpg  \n",
            "  inflating: myntradataset/images/58260.jpg  \n",
            "  inflating: myntradataset/images/58261.jpg  \n",
            "  inflating: myntradataset/images/58262.jpg  \n",
            "  inflating: myntradataset/images/58263.jpg  \n",
            "  inflating: myntradataset/images/58264.jpg  \n",
            "  inflating: myntradataset/images/58265.jpg  \n",
            "  inflating: myntradataset/images/58266.jpg  \n",
            "  inflating: myntradataset/images/58267.jpg  \n",
            "  inflating: myntradataset/images/58268.jpg  \n",
            "  inflating: myntradataset/images/58269.jpg  \n",
            "  inflating: myntradataset/images/5827.jpg  \n",
            "  inflating: myntradataset/images/58270.jpg  \n",
            "  inflating: myntradataset/images/58271.jpg  \n",
            "  inflating: myntradataset/images/58272.jpg  \n",
            "  inflating: myntradataset/images/58273.jpg  \n",
            "  inflating: myntradataset/images/58274.jpg  \n",
            "  inflating: myntradataset/images/58275.jpg  \n",
            "  inflating: myntradataset/images/58276.jpg  \n",
            "  inflating: myntradataset/images/58277.jpg  \n",
            "  inflating: myntradataset/images/58278.jpg  \n",
            "  inflating: myntradataset/images/58279.jpg  \n",
            "  inflating: myntradataset/images/5828.jpg  \n",
            "  inflating: myntradataset/images/58280.jpg  \n",
            "  inflating: myntradataset/images/58281.jpg  \n",
            "  inflating: myntradataset/images/58282.jpg  \n",
            "  inflating: myntradataset/images/58283.jpg  \n",
            "  inflating: myntradataset/images/58284.jpg  \n",
            "  inflating: myntradataset/images/58286.jpg  \n",
            "  inflating: myntradataset/images/5829.jpg  \n",
            "  inflating: myntradataset/images/58291.jpg  \n",
            "  inflating: myntradataset/images/58292.jpg  \n",
            "  inflating: myntradataset/images/58293.jpg  \n",
            "  inflating: myntradataset/images/58294.jpg  \n",
            "  inflating: myntradataset/images/58295.jpg  \n",
            "  inflating: myntradataset/images/58296.jpg  \n",
            "  inflating: myntradataset/images/58297.jpg  \n",
            "  inflating: myntradataset/images/58298.jpg  \n",
            "  inflating: myntradataset/images/58299.jpg  \n",
            "  inflating: myntradataset/images/5830.jpg  \n",
            "  inflating: myntradataset/images/58300.jpg  \n",
            "  inflating: myntradataset/images/58301.jpg  \n",
            "  inflating: myntradataset/images/58304.jpg  \n",
            "  inflating: myntradataset/images/58305.jpg  \n",
            "  inflating: myntradataset/images/58306.jpg  \n",
            "  inflating: myntradataset/images/58307.jpg  \n",
            "  inflating: myntradataset/images/58308.jpg  \n",
            "  inflating: myntradataset/images/58309.jpg  \n",
            "  inflating: myntradataset/images/5831.jpg  \n",
            "  inflating: myntradataset/images/58310.jpg  \n",
            "  inflating: myntradataset/images/58311.jpg  \n",
            "  inflating: myntradataset/images/58312.jpg  \n",
            "  inflating: myntradataset/images/58313.jpg  \n",
            "  inflating: myntradataset/images/58314.jpg  \n",
            "  inflating: myntradataset/images/58315.jpg  \n",
            "  inflating: myntradataset/images/58316.jpg  \n",
            "  inflating: myntradataset/images/58317.jpg  \n",
            "  inflating: myntradataset/images/58318.jpg  \n",
            "  inflating: myntradataset/images/58319.jpg  \n",
            "  inflating: myntradataset/images/5832.jpg  \n",
            "  inflating: myntradataset/images/58320.jpg  \n",
            "  inflating: myntradataset/images/58321.jpg  \n",
            "  inflating: myntradataset/images/58322.jpg  \n",
            "  inflating: myntradataset/images/58323.jpg  \n",
            "  inflating: myntradataset/images/58324.jpg  \n",
            "  inflating: myntradataset/images/58325.jpg  \n",
            "  inflating: myntradataset/images/58326.jpg  \n",
            "  inflating: myntradataset/images/58327.jpg  \n",
            "  inflating: myntradataset/images/58328.jpg  \n",
            "  inflating: myntradataset/images/58329.jpg  \n",
            "  inflating: myntradataset/images/5833.jpg  \n",
            "  inflating: myntradataset/images/58330.jpg  \n",
            "  inflating: myntradataset/images/58331.jpg  \n",
            "  inflating: myntradataset/images/58332.jpg  \n",
            "  inflating: myntradataset/images/58333.jpg  \n",
            "  inflating: myntradataset/images/58334.jpg  \n",
            "  inflating: myntradataset/images/58335.jpg  \n",
            "  inflating: myntradataset/images/58336.jpg  \n",
            "  inflating: myntradataset/images/58337.jpg  \n",
            "  inflating: myntradataset/images/58338.jpg  \n",
            "  inflating: myntradataset/images/58339.jpg  \n",
            "  inflating: myntradataset/images/5834.jpg  \n",
            "  inflating: myntradataset/images/58340.jpg  \n",
            "  inflating: myntradataset/images/58349.jpg  \n",
            "  inflating: myntradataset/images/5835.jpg  \n",
            "  inflating: myntradataset/images/58351.jpg  \n",
            "  inflating: myntradataset/images/58357.jpg  \n",
            "  inflating: myntradataset/images/58358.jpg  \n",
            "  inflating: myntradataset/images/5836.jpg  \n",
            "  inflating: myntradataset/images/5837.jpg  \n",
            "  inflating: myntradataset/images/58372.jpg  \n",
            "  inflating: myntradataset/images/58375.jpg  \n",
            "  inflating: myntradataset/images/5838.jpg  \n",
            "  inflating: myntradataset/images/58381.jpg  \n",
            "  inflating: myntradataset/images/58385.jpg  \n",
            "  inflating: myntradataset/images/5839.jpg  \n",
            "  inflating: myntradataset/images/58394.jpg  \n",
            "  inflating: myntradataset/images/58395.jpg  \n",
            "  inflating: myntradataset/images/5840.jpg  \n",
            "  inflating: myntradataset/images/5841.jpg  \n",
            "  inflating: myntradataset/images/58411.jpg  \n",
            "  inflating: myntradataset/images/58418.jpg  \n",
            "  inflating: myntradataset/images/5842.jpg  \n",
            "  inflating: myntradataset/images/58425.jpg  \n",
            "  inflating: myntradataset/images/5843.jpg  \n",
            "  inflating: myntradataset/images/58439.jpg  \n",
            "  inflating: myntradataset/images/5844.jpg  \n",
            "  inflating: myntradataset/images/58444.jpg  \n",
            "  inflating: myntradataset/images/58445.jpg  \n",
            "  inflating: myntradataset/images/58446.jpg  \n",
            "  inflating: myntradataset/images/58447.jpg  \n",
            "  inflating: myntradataset/images/58448.jpg  \n",
            "  inflating: myntradataset/images/58449.jpg  \n",
            "  inflating: myntradataset/images/5845.jpg  \n",
            "  inflating: myntradataset/images/58450.jpg  \n",
            "  inflating: myntradataset/images/58451.jpg  \n",
            "  inflating: myntradataset/images/58452.jpg  \n",
            "  inflating: myntradataset/images/58453.jpg  \n",
            "  inflating: myntradataset/images/58454.jpg  \n",
            "  inflating: myntradataset/images/58455.jpg  \n",
            "  inflating: myntradataset/images/58456.jpg  \n",
            "  inflating: myntradataset/images/58458.jpg  \n",
            "  inflating: myntradataset/images/58459.jpg  \n",
            "  inflating: myntradataset/images/5846.jpg  \n",
            "  inflating: myntradataset/images/58460.jpg  \n",
            "  inflating: myntradataset/images/58463.jpg  \n",
            "  inflating: myntradataset/images/58464.jpg  \n",
            "  inflating: myntradataset/images/58465.jpg  \n",
            "  inflating: myntradataset/images/58466.jpg  \n",
            "  inflating: myntradataset/images/58467.jpg  \n",
            "  inflating: myntradataset/images/58468.jpg  \n",
            "  inflating: myntradataset/images/5847.jpg  \n",
            "  inflating: myntradataset/images/58470.jpg  \n",
            "  inflating: myntradataset/images/58471.jpg  \n",
            "  inflating: myntradataset/images/58472.jpg  \n",
            "  inflating: myntradataset/images/58473.jpg  \n",
            "  inflating: myntradataset/images/58474.jpg  \n",
            "  inflating: myntradataset/images/58475.jpg  \n",
            "  inflating: myntradataset/images/58476.jpg  \n",
            "  inflating: myntradataset/images/58477.jpg  \n",
            "  inflating: myntradataset/images/58478.jpg  \n",
            "  inflating: myntradataset/images/58479.jpg  \n",
            "  inflating: myntradataset/images/5848.jpg  \n",
            "  inflating: myntradataset/images/58480.jpg  \n",
            "  inflating: myntradataset/images/58481.jpg  \n",
            "  inflating: myntradataset/images/58482.jpg  \n",
            "  inflating: myntradataset/images/58483.jpg  \n",
            "  inflating: myntradataset/images/58484.jpg  \n",
            "  inflating: myntradataset/images/58485.jpg  \n",
            "  inflating: myntradataset/images/58486.jpg  \n",
            "  inflating: myntradataset/images/58487.jpg  \n",
            "  inflating: myntradataset/images/58488.jpg  \n",
            "  inflating: myntradataset/images/58489.jpg  \n",
            "  inflating: myntradataset/images/5849.jpg  \n",
            "  inflating: myntradataset/images/58490.jpg  \n",
            "  inflating: myntradataset/images/58491.jpg  \n",
            "  inflating: myntradataset/images/58492.jpg  \n",
            "  inflating: myntradataset/images/58493.jpg  \n",
            "  inflating: myntradataset/images/58494.jpg  \n",
            "  inflating: myntradataset/images/58495.jpg  \n",
            "  inflating: myntradataset/images/58496.jpg  \n",
            "  inflating: myntradataset/images/58497.jpg  \n",
            "  inflating: myntradataset/images/58498.jpg  \n",
            "  inflating: myntradataset/images/58499.jpg  \n",
            "  inflating: myntradataset/images/5850.jpg  \n",
            "  inflating: myntradataset/images/58500.jpg  \n",
            "  inflating: myntradataset/images/58501.jpg  \n",
            "  inflating: myntradataset/images/58502.jpg  \n",
            "  inflating: myntradataset/images/58503.jpg  \n",
            "  inflating: myntradataset/images/58504.jpg  \n",
            "  inflating: myntradataset/images/58505.jpg  \n",
            "  inflating: myntradataset/images/58506.jpg  \n",
            "  inflating: myntradataset/images/58507.jpg  \n",
            "  inflating: myntradataset/images/58508.jpg  \n",
            "  inflating: myntradataset/images/58509.jpg  \n",
            "  inflating: myntradataset/images/5851.jpg  \n",
            "  inflating: myntradataset/images/58510.jpg  \n",
            "  inflating: myntradataset/images/58511.jpg  \n",
            "  inflating: myntradataset/images/58512.jpg  \n",
            "  inflating: myntradataset/images/58513.jpg  \n",
            "  inflating: myntradataset/images/58514.jpg  \n",
            "  inflating: myntradataset/images/58515.jpg  \n",
            "  inflating: myntradataset/images/58516.jpg  \n",
            "  inflating: myntradataset/images/58517.jpg  \n",
            "  inflating: myntradataset/images/58518.jpg  \n",
            "  inflating: myntradataset/images/58519.jpg  \n",
            "  inflating: myntradataset/images/5852.jpg  \n",
            "  inflating: myntradataset/images/58520.jpg  \n",
            "  inflating: myntradataset/images/58521.jpg  \n",
            "  inflating: myntradataset/images/58522.jpg  \n",
            "  inflating: myntradataset/images/58523.jpg  \n",
            "  inflating: myntradataset/images/58524.jpg  \n",
            "  inflating: myntradataset/images/58525.jpg  \n",
            "  inflating: myntradataset/images/58526.jpg  \n",
            "  inflating: myntradataset/images/58527.jpg  \n",
            "  inflating: myntradataset/images/58528.jpg  \n",
            "  inflating: myntradataset/images/58529.jpg  \n",
            "  inflating: myntradataset/images/5853.jpg  \n",
            "  inflating: myntradataset/images/58530.jpg  \n",
            "  inflating: myntradataset/images/58531.jpg  \n",
            "  inflating: myntradataset/images/58532.jpg  \n",
            "  inflating: myntradataset/images/58533.jpg  \n",
            "  inflating: myntradataset/images/58534.jpg  \n",
            "  inflating: myntradataset/images/58535.jpg  \n",
            "  inflating: myntradataset/images/58536.jpg  \n",
            "  inflating: myntradataset/images/58537.jpg  \n",
            "  inflating: myntradataset/images/58538.jpg  \n",
            "  inflating: myntradataset/images/58539.jpg  \n",
            "  inflating: myntradataset/images/5854.jpg  \n",
            "  inflating: myntradataset/images/58540.jpg  \n",
            "  inflating: myntradataset/images/58541.jpg  \n",
            "  inflating: myntradataset/images/58542.jpg  \n",
            "  inflating: myntradataset/images/58543.jpg  \n",
            "  inflating: myntradataset/images/58544.jpg  \n",
            "  inflating: myntradataset/images/58545.jpg  \n",
            "  inflating: myntradataset/images/58546.jpg  \n",
            "  inflating: myntradataset/images/58547.jpg  \n",
            "  inflating: myntradataset/images/58548.jpg  \n",
            "  inflating: myntradataset/images/58549.jpg  \n",
            "  inflating: myntradataset/images/5855.jpg  \n",
            "  inflating: myntradataset/images/58550.jpg  \n",
            "  inflating: myntradataset/images/58551.jpg  \n",
            "  inflating: myntradataset/images/58552.jpg  \n",
            "  inflating: myntradataset/images/58553.jpg  \n",
            "  inflating: myntradataset/images/58555.jpg  \n",
            "  inflating: myntradataset/images/58559.jpg  \n",
            "  inflating: myntradataset/images/5856.jpg  \n",
            "  inflating: myntradataset/images/58560.jpg  \n",
            "  inflating: myntradataset/images/58561.jpg  \n",
            "  inflating: myntradataset/images/58562.jpg  \n",
            "  inflating: myntradataset/images/58563.jpg  \n",
            "  inflating: myntradataset/images/58565.jpg  \n",
            "  inflating: myntradataset/images/58566.jpg  \n",
            "  inflating: myntradataset/images/58567.jpg  \n",
            "  inflating: myntradataset/images/58569.jpg  \n",
            "  inflating: myntradataset/images/5857.jpg  \n",
            "  inflating: myntradataset/images/58570.jpg  \n",
            "  inflating: myntradataset/images/58571.jpg  \n",
            "  inflating: myntradataset/images/58573.jpg  \n",
            "  inflating: myntradataset/images/58574.jpg  \n",
            "  inflating: myntradataset/images/58576.jpg  \n",
            "  inflating: myntradataset/images/58577.jpg  \n",
            "  inflating: myntradataset/images/5858.jpg  \n",
            "  inflating: myntradataset/images/58581.jpg  \n",
            "  inflating: myntradataset/images/58586.jpg  \n",
            "  inflating: myntradataset/images/58588.jpg  \n",
            "  inflating: myntradataset/images/58589.jpg  \n",
            "  inflating: myntradataset/images/5859.jpg  \n",
            "  inflating: myntradataset/images/58590.jpg  \n",
            "  inflating: myntradataset/images/58591.jpg  \n",
            "  inflating: myntradataset/images/5860.jpg  \n",
            "  inflating: myntradataset/images/58600.jpg  \n",
            "  inflating: myntradataset/images/58603.jpg  \n",
            "  inflating: myntradataset/images/58605.jpg  \n",
            "  inflating: myntradataset/images/58606.jpg  \n",
            "  inflating: myntradataset/images/58607.jpg  \n",
            "  inflating: myntradataset/images/58608.jpg  \n",
            "  inflating: myntradataset/images/58609.jpg  \n",
            "  inflating: myntradataset/images/5861.jpg  \n",
            "  inflating: myntradataset/images/58610.jpg  \n",
            "  inflating: myntradataset/images/58611.jpg  \n",
            "  inflating: myntradataset/images/58612.jpg  \n",
            "  inflating: myntradataset/images/58614.jpg  \n",
            "  inflating: myntradataset/images/58615.jpg  \n",
            "  inflating: myntradataset/images/58616.jpg  \n",
            "  inflating: myntradataset/images/58618.jpg  \n",
            "  inflating: myntradataset/images/58619.jpg  \n",
            "  inflating: myntradataset/images/5862.jpg  \n",
            "  inflating: myntradataset/images/58620.jpg  \n",
            "  inflating: myntradataset/images/58621.jpg  \n",
            "  inflating: myntradataset/images/58622.jpg  \n",
            "  inflating: myntradataset/images/58624.jpg  \n",
            "  inflating: myntradataset/images/58625.jpg  \n",
            "  inflating: myntradataset/images/58626.jpg  \n",
            "  inflating: myntradataset/images/58627.jpg  \n",
            "  inflating: myntradataset/images/58628.jpg  \n",
            "  inflating: myntradataset/images/58629.jpg  \n",
            "  inflating: myntradataset/images/5863.jpg  \n",
            "  inflating: myntradataset/images/58634.jpg  \n",
            "  inflating: myntradataset/images/58635.jpg  \n",
            "  inflating: myntradataset/images/58636.jpg  \n",
            "  inflating: myntradataset/images/58637.jpg  \n",
            "  inflating: myntradataset/images/58638.jpg  \n",
            "  inflating: myntradataset/images/58639.jpg  \n",
            "  inflating: myntradataset/images/5864.jpg  \n",
            "  inflating: myntradataset/images/58640.jpg  \n",
            "  inflating: myntradataset/images/58641.jpg  \n",
            "  inflating: myntradataset/images/58642.jpg  \n",
            "  inflating: myntradataset/images/58643.jpg  \n",
            "  inflating: myntradataset/images/58644.jpg  \n",
            "  inflating: myntradataset/images/58645.jpg  \n",
            "  inflating: myntradataset/images/58646.jpg  \n",
            "  inflating: myntradataset/images/58647.jpg  \n",
            "  inflating: myntradataset/images/58648.jpg  \n",
            "  inflating: myntradataset/images/5865.jpg  \n",
            "  inflating: myntradataset/images/58652.jpg  \n",
            "  inflating: myntradataset/images/58653.jpg  \n",
            "  inflating: myntradataset/images/58654.jpg  \n",
            "  inflating: myntradataset/images/58655.jpg  \n",
            "  inflating: myntradataset/images/58656.jpg  \n",
            "  inflating: myntradataset/images/58657.jpg  \n",
            "  inflating: myntradataset/images/58658.jpg  \n",
            "  inflating: myntradataset/images/58659.jpg  \n",
            "  inflating: myntradataset/images/5866.jpg  \n",
            "  inflating: myntradataset/images/58660.jpg  \n",
            "  inflating: myntradataset/images/58661.jpg  \n",
            "  inflating: myntradataset/images/58662.jpg  \n",
            "  inflating: myntradataset/images/58663.jpg  \n",
            "  inflating: myntradataset/images/58664.jpg  \n",
            "  inflating: myntradataset/images/58666.jpg  \n",
            "  inflating: myntradataset/images/58667.jpg  \n",
            "  inflating: myntradataset/images/58668.jpg  \n",
            "  inflating: myntradataset/images/58669.jpg  \n",
            "  inflating: myntradataset/images/5867.jpg  \n",
            "  inflating: myntradataset/images/58670.jpg  \n",
            "  inflating: myntradataset/images/58671.jpg  \n",
            "  inflating: myntradataset/images/58672.jpg  \n",
            "  inflating: myntradataset/images/58673.jpg  \n",
            "  inflating: myntradataset/images/58674.jpg  \n",
            "  inflating: myntradataset/images/58675.jpg  \n",
            "  inflating: myntradataset/images/58676.jpg  \n",
            "  inflating: myntradataset/images/58677.jpg  \n",
            "  inflating: myntradataset/images/58678.jpg  \n",
            "  inflating: myntradataset/images/5868.jpg  \n",
            "  inflating: myntradataset/images/58680.jpg  \n",
            "  inflating: myntradataset/images/58681.jpg  \n",
            "  inflating: myntradataset/images/58682.jpg  \n",
            "  inflating: myntradataset/images/58683.jpg  \n",
            "  inflating: myntradataset/images/58684.jpg  \n",
            "  inflating: myntradataset/images/58685.jpg  \n",
            "  inflating: myntradataset/images/58686.jpg  \n",
            "  inflating: myntradataset/images/58687.jpg  \n",
            "  inflating: myntradataset/images/58689.jpg  \n",
            "  inflating: myntradataset/images/5869.jpg  \n",
            "  inflating: myntradataset/images/58690.jpg  \n",
            "  inflating: myntradataset/images/58691.jpg  \n",
            "  inflating: myntradataset/images/58692.jpg  \n",
            "  inflating: myntradataset/images/58693.jpg  \n",
            "  inflating: myntradataset/images/58694.jpg  \n",
            "  inflating: myntradataset/images/58695.jpg  \n",
            "  inflating: myntradataset/images/58696.jpg  \n",
            "  inflating: myntradataset/images/58698.jpg  \n",
            "  inflating: myntradataset/images/5870.jpg  \n",
            "  inflating: myntradataset/images/58700.jpg  \n",
            "  inflating: myntradataset/images/58701.jpg  \n",
            "  inflating: myntradataset/images/58702.jpg  \n",
            "  inflating: myntradataset/images/58703.jpg  \n",
            "  inflating: myntradataset/images/5871.jpg  \n",
            "  inflating: myntradataset/images/58718.jpg  \n",
            "  inflating: myntradataset/images/58719.jpg  \n",
            "  inflating: myntradataset/images/58720.jpg  \n",
            "  inflating: myntradataset/images/58722.jpg  \n",
            "  inflating: myntradataset/images/58723.jpg  \n",
            "  inflating: myntradataset/images/58724.jpg  \n",
            "  inflating: myntradataset/images/58725.jpg  \n",
            "  inflating: myntradataset/images/58726.jpg  \n",
            "  inflating: myntradataset/images/58727.jpg  \n",
            "  inflating: myntradataset/images/58728.jpg  \n",
            "  inflating: myntradataset/images/58729.jpg  \n",
            "  inflating: myntradataset/images/5873.jpg  \n",
            "  inflating: myntradataset/images/58730.jpg  \n",
            "  inflating: myntradataset/images/58731.jpg  \n",
            "  inflating: myntradataset/images/58732.jpg  \n",
            "  inflating: myntradataset/images/58734.jpg  \n",
            "  inflating: myntradataset/images/58735.jpg  \n",
            "  inflating: myntradataset/images/58736.jpg  \n",
            "  inflating: myntradataset/images/58737.jpg  \n",
            "  inflating: myntradataset/images/58738.jpg  \n",
            "  inflating: myntradataset/images/5874.jpg  \n",
            "  inflating: myntradataset/images/58740.jpg  \n",
            "  inflating: myntradataset/images/58741.jpg  \n",
            "  inflating: myntradataset/images/58742.jpg  \n",
            "  inflating: myntradataset/images/58743.jpg  \n",
            "  inflating: myntradataset/images/58744.jpg  \n",
            "  inflating: myntradataset/images/58745.jpg  \n",
            "  inflating: myntradataset/images/5875.jpg  \n",
            "  inflating: myntradataset/images/5876.jpg  \n",
            "  inflating: myntradataset/images/58765.jpg  \n",
            "  inflating: myntradataset/images/5877.jpg  \n",
            "  inflating: myntradataset/images/58770.jpg  \n",
            "  inflating: myntradataset/images/5878.jpg  \n",
            "  inflating: myntradataset/images/5879.jpg  \n",
            "  inflating: myntradataset/images/58793.jpg  \n",
            "  inflating: myntradataset/images/58794.jpg  \n",
            "  inflating: myntradataset/images/58795.jpg  \n",
            "  inflating: myntradataset/images/58796.jpg  \n",
            "  inflating: myntradataset/images/58797.jpg  \n",
            "  inflating: myntradataset/images/58798.jpg  \n",
            "  inflating: myntradataset/images/58800.jpg  \n",
            "  inflating: myntradataset/images/58801.jpg  \n",
            "  inflating: myntradataset/images/58802.jpg  \n",
            "  inflating: myntradataset/images/58805.jpg  \n",
            "  inflating: myntradataset/images/58807.jpg  \n",
            "  inflating: myntradataset/images/58808.jpg  \n",
            "  inflating: myntradataset/images/58809.jpg  \n",
            "  inflating: myntradataset/images/5881.jpg  \n",
            "  inflating: myntradataset/images/58810.jpg  \n",
            "  inflating: myntradataset/images/58815.jpg  \n",
            "  inflating: myntradataset/images/58816.jpg  \n",
            "  inflating: myntradataset/images/58817.jpg  \n",
            "  inflating: myntradataset/images/58818.jpg  \n",
            "  inflating: myntradataset/images/58819.jpg  \n",
            "  inflating: myntradataset/images/5882.jpg  \n",
            "  inflating: myntradataset/images/58820.jpg  \n",
            "  inflating: myntradataset/images/58821.jpg  \n",
            "  inflating: myntradataset/images/58822.jpg  \n",
            "  inflating: myntradataset/images/58823.jpg  \n",
            "  inflating: myntradataset/images/58825.jpg  \n",
            "  inflating: myntradataset/images/58827.jpg  \n",
            "  inflating: myntradataset/images/58828.jpg  \n",
            "  inflating: myntradataset/images/58829.jpg  \n",
            "  inflating: myntradataset/images/5883.jpg  \n",
            "  inflating: myntradataset/images/58830.jpg  \n",
            "  inflating: myntradataset/images/58831.jpg  \n",
            "  inflating: myntradataset/images/58832.jpg  \n",
            "  inflating: myntradataset/images/58833.jpg  \n",
            "  inflating: myntradataset/images/58834.jpg  \n",
            "  inflating: myntradataset/images/58835.jpg  \n",
            "  inflating: myntradataset/images/58836.jpg  \n",
            "  inflating: myntradataset/images/58837.jpg  \n",
            "  inflating: myntradataset/images/58838.jpg  \n",
            "  inflating: myntradataset/images/58839.jpg  \n",
            "  inflating: myntradataset/images/5884.jpg  \n",
            "  inflating: myntradataset/images/58840.jpg  \n",
            "  inflating: myntradataset/images/58841.jpg  \n",
            "  inflating: myntradataset/images/58842.jpg  \n",
            "  inflating: myntradataset/images/58843.jpg  \n",
            "  inflating: myntradataset/images/58844.jpg  \n",
            "  inflating: myntradataset/images/58845.jpg  \n",
            "  inflating: myntradataset/images/58846.jpg  \n",
            "  inflating: myntradataset/images/58847.jpg  \n",
            "  inflating: myntradataset/images/58848.jpg  \n",
            "  inflating: myntradataset/images/58849.jpg  \n",
            "  inflating: myntradataset/images/5885.jpg  \n",
            "  inflating: myntradataset/images/58850.jpg  \n",
            "  inflating: myntradataset/images/58851.jpg  \n",
            "  inflating: myntradataset/images/58852.jpg  \n",
            "  inflating: myntradataset/images/58853.jpg  \n",
            "  inflating: myntradataset/images/58854.jpg  \n",
            "  inflating: myntradataset/images/58855.jpg  \n",
            "  inflating: myntradataset/images/58856.jpg  \n",
            "  inflating: myntradataset/images/58857.jpg  \n",
            "  inflating: myntradataset/images/58858.jpg  \n",
            "  inflating: myntradataset/images/58859.jpg  \n",
            "  inflating: myntradataset/images/5886.jpg  \n",
            "  inflating: myntradataset/images/58860.jpg  \n",
            "  inflating: myntradataset/images/58861.jpg  \n",
            "  inflating: myntradataset/images/58862.jpg  \n",
            "  inflating: myntradataset/images/58863.jpg  \n",
            "  inflating: myntradataset/images/58864.jpg  \n",
            "  inflating: myntradataset/images/58865.jpg  \n",
            "  inflating: myntradataset/images/58867.jpg  \n",
            "  inflating: myntradataset/images/58868.jpg  \n",
            "  inflating: myntradataset/images/58869.jpg  \n",
            "  inflating: myntradataset/images/5887.jpg  \n",
            "  inflating: myntradataset/images/58870.jpg  \n",
            "  inflating: myntradataset/images/58871.jpg  \n",
            "  inflating: myntradataset/images/58872.jpg  \n",
            "  inflating: myntradataset/images/58873.jpg  \n",
            "  inflating: myntradataset/images/58874.jpg  \n",
            "  inflating: myntradataset/images/58875.jpg  \n",
            "  inflating: myntradataset/images/58876.jpg  \n",
            "  inflating: myntradataset/images/58877.jpg  \n",
            "  inflating: myntradataset/images/58878.jpg  \n",
            "  inflating: myntradataset/images/58879.jpg  \n",
            "  inflating: myntradataset/images/5888.jpg  \n",
            "  inflating: myntradataset/images/58880.jpg  \n",
            "  inflating: myntradataset/images/58881.jpg  \n",
            "  inflating: myntradataset/images/58882.jpg  \n",
            "  inflating: myntradataset/images/58883.jpg  \n",
            "  inflating: myntradataset/images/58884.jpg  \n",
            "  inflating: myntradataset/images/58885.jpg  \n",
            "  inflating: myntradataset/images/58886.jpg  \n",
            "  inflating: myntradataset/images/58887.jpg  \n",
            "  inflating: myntradataset/images/58888.jpg  \n",
            "  inflating: myntradataset/images/58889.jpg  \n",
            "  inflating: myntradataset/images/5889.jpg  \n",
            "  inflating: myntradataset/images/58890.jpg  \n",
            "  inflating: myntradataset/images/58891.jpg  \n",
            "  inflating: myntradataset/images/58892.jpg  \n",
            "  inflating: myntradataset/images/58893.jpg  \n",
            "  inflating: myntradataset/images/58894.jpg  \n",
            "  inflating: myntradataset/images/58895.jpg  \n",
            "  inflating: myntradataset/images/58896.jpg  \n",
            "  inflating: myntradataset/images/58897.jpg  \n",
            "  inflating: myntradataset/images/58898.jpg  \n",
            "  inflating: myntradataset/images/58899.jpg  \n",
            "  inflating: myntradataset/images/5890.jpg  \n",
            "  inflating: myntradataset/images/58900.jpg  \n",
            "  inflating: myntradataset/images/58901.jpg  \n",
            "  inflating: myntradataset/images/58902.jpg  \n",
            "  inflating: myntradataset/images/58903.jpg  \n",
            "  inflating: myntradataset/images/58904.jpg  \n",
            "  inflating: myntradataset/images/58905.jpg  \n",
            "  inflating: myntradataset/images/58906.jpg  \n",
            "  inflating: myntradataset/images/58907.jpg  \n",
            "  inflating: myntradataset/images/58908.jpg  \n",
            "  inflating: myntradataset/images/58909.jpg  \n",
            "  inflating: myntradataset/images/5891.jpg  \n",
            "  inflating: myntradataset/images/58910.jpg  \n",
            "  inflating: myntradataset/images/58911.jpg  \n",
            "  inflating: myntradataset/images/58912.jpg  \n",
            "  inflating: myntradataset/images/58913.jpg  \n",
            "  inflating: myntradataset/images/58914.jpg  \n",
            "  inflating: myntradataset/images/58915.jpg  \n",
            "  inflating: myntradataset/images/58916.jpg  \n",
            "  inflating: myntradataset/images/58917.jpg  \n",
            "  inflating: myntradataset/images/58918.jpg  \n",
            "  inflating: myntradataset/images/58919.jpg  \n",
            "  inflating: myntradataset/images/5892.jpg  \n",
            "  inflating: myntradataset/images/58920.jpg  \n",
            "  inflating: myntradataset/images/58921.jpg  \n",
            "  inflating: myntradataset/images/58922.jpg  \n",
            "  inflating: myntradataset/images/58923.jpg  \n",
            "  inflating: myntradataset/images/58924.jpg  \n",
            "  inflating: myntradataset/images/58925.jpg  \n",
            "  inflating: myntradataset/images/58926.jpg  \n",
            "  inflating: myntradataset/images/58928.jpg  \n",
            "  inflating: myntradataset/images/5893.jpg  \n",
            "  inflating: myntradataset/images/58931.jpg  \n",
            "  inflating: myntradataset/images/58932.jpg  \n",
            "  inflating: myntradataset/images/58934.jpg  \n",
            "  inflating: myntradataset/images/58935.jpg  \n",
            "  inflating: myntradataset/images/58937.jpg  \n",
            "  inflating: myntradataset/images/58939.jpg  \n",
            "  inflating: myntradataset/images/5894.jpg  \n",
            "  inflating: myntradataset/images/58940.jpg  \n",
            "  inflating: myntradataset/images/58941.jpg  \n",
            "  inflating: myntradataset/images/58942.jpg  \n",
            "  inflating: myntradataset/images/58943.jpg  \n",
            "  inflating: myntradataset/images/58944.jpg  \n",
            "  inflating: myntradataset/images/58945.jpg  \n",
            "  inflating: myntradataset/images/58946.jpg  \n",
            "  inflating: myntradataset/images/58947.jpg  \n",
            "  inflating: myntradataset/images/58948.jpg  \n",
            "  inflating: myntradataset/images/58949.jpg  \n",
            "  inflating: myntradataset/images/5895.jpg  \n",
            "  inflating: myntradataset/images/58950.jpg  \n",
            "  inflating: myntradataset/images/58951.jpg  \n",
            "  inflating: myntradataset/images/58952.jpg  \n",
            "  inflating: myntradataset/images/58954.jpg  \n",
            "  inflating: myntradataset/images/58955.jpg  \n",
            "  inflating: myntradataset/images/58956.jpg  \n",
            "  inflating: myntradataset/images/58958.jpg  \n",
            "  inflating: myntradataset/images/58959.jpg  \n",
            "  inflating: myntradataset/images/5896.jpg  \n",
            "  inflating: myntradataset/images/58960.jpg  \n",
            "  inflating: myntradataset/images/58961.jpg  \n",
            "  inflating: myntradataset/images/58962.jpg  \n",
            "  inflating: myntradataset/images/58963.jpg  \n",
            "  inflating: myntradataset/images/58964.jpg  \n",
            "  inflating: myntradataset/images/58965.jpg  \n",
            "  inflating: myntradataset/images/58966.jpg  \n",
            "  inflating: myntradataset/images/58967.jpg  \n",
            "  inflating: myntradataset/images/58968.jpg  \n",
            "  inflating: myntradataset/images/58969.jpg  \n",
            "  inflating: myntradataset/images/5897.jpg  \n",
            "  inflating: myntradataset/images/58970.jpg  \n",
            "  inflating: myntradataset/images/58971.jpg  \n",
            "  inflating: myntradataset/images/58972.jpg  \n",
            "  inflating: myntradataset/images/58973.jpg  \n",
            "  inflating: myntradataset/images/58974.jpg  \n",
            "  inflating: myntradataset/images/58975.jpg  \n",
            "  inflating: myntradataset/images/58976.jpg  \n",
            "  inflating: myntradataset/images/58977.jpg  \n",
            "  inflating: myntradataset/images/58978.jpg  \n",
            "  inflating: myntradataset/images/58979.jpg  \n",
            "  inflating: myntradataset/images/5898.jpg  \n",
            "  inflating: myntradataset/images/58980.jpg  \n",
            "  inflating: myntradataset/images/58981.jpg  \n",
            "  inflating: myntradataset/images/58982.jpg  \n",
            "  inflating: myntradataset/images/58983.jpg  \n",
            "  inflating: myntradataset/images/58984.jpg  \n",
            "  inflating: myntradataset/images/58985.jpg  \n",
            "  inflating: myntradataset/images/58986.jpg  \n",
            "  inflating: myntradataset/images/58987.jpg  \n",
            "  inflating: myntradataset/images/58988.jpg  \n",
            "  inflating: myntradataset/images/58989.jpg  \n",
            "  inflating: myntradataset/images/5899.jpg  \n",
            "  inflating: myntradataset/images/58990.jpg  \n",
            "  inflating: myntradataset/images/58991.jpg  \n",
            "  inflating: myntradataset/images/58992.jpg  \n",
            "  inflating: myntradataset/images/5900.jpg  \n",
            "  inflating: myntradataset/images/59002.jpg  \n",
            "  inflating: myntradataset/images/59003.jpg  \n",
            "  inflating: myntradataset/images/59004.jpg  \n",
            "  inflating: myntradataset/images/59005.jpg  \n",
            "  inflating: myntradataset/images/59006.jpg  \n",
            "  inflating: myntradataset/images/59008.jpg  \n",
            "  inflating: myntradataset/images/5901.jpg  \n",
            "  inflating: myntradataset/images/59010.jpg  \n",
            "  inflating: myntradataset/images/59011.jpg  \n",
            "  inflating: myntradataset/images/59012.jpg  \n",
            "  inflating: myntradataset/images/59013.jpg  \n",
            "  inflating: myntradataset/images/59014.jpg  \n",
            "  inflating: myntradataset/images/59015.jpg  \n",
            "  inflating: myntradataset/images/59016.jpg  \n",
            "  inflating: myntradataset/images/59017.jpg  \n",
            "  inflating: myntradataset/images/59018.jpg  \n",
            "  inflating: myntradataset/images/59019.jpg  \n",
            "  inflating: myntradataset/images/5902.jpg  \n",
            "  inflating: myntradataset/images/59020.jpg  \n",
            "  inflating: myntradataset/images/59021.jpg  \n",
            "  inflating: myntradataset/images/59022.jpg  \n",
            "  inflating: myntradataset/images/59023.jpg  \n",
            "  inflating: myntradataset/images/59024.jpg  \n",
            "  inflating: myntradataset/images/59025.jpg  \n",
            "  inflating: myntradataset/images/59026.jpg  \n",
            "  inflating: myntradataset/images/59027.jpg  \n",
            "  inflating: myntradataset/images/59028.jpg  \n",
            "  inflating: myntradataset/images/59029.jpg  \n",
            "  inflating: myntradataset/images/5903.jpg  \n",
            "  inflating: myntradataset/images/59030.jpg  \n",
            "  inflating: myntradataset/images/59031.jpg  \n",
            "  inflating: myntradataset/images/59032.jpg  \n",
            "  inflating: myntradataset/images/59033.jpg  \n",
            "  inflating: myntradataset/images/59034.jpg  \n",
            "  inflating: myntradataset/images/59035.jpg  \n",
            "  inflating: myntradataset/images/59036.jpg  \n",
            "  inflating: myntradataset/images/59037.jpg  \n",
            "  inflating: myntradataset/images/59038.jpg  \n",
            "  inflating: myntradataset/images/59039.jpg  \n",
            "  inflating: myntradataset/images/5904.jpg  \n",
            "  inflating: myntradataset/images/59040.jpg  \n",
            "  inflating: myntradataset/images/59042.jpg  \n",
            "  inflating: myntradataset/images/59043.jpg  \n",
            "  inflating: myntradataset/images/59044.jpg  \n",
            "  inflating: myntradataset/images/59045.jpg  \n",
            "  inflating: myntradataset/images/59046.jpg  \n",
            "  inflating: myntradataset/images/59047.jpg  \n",
            "  inflating: myntradataset/images/59048.jpg  \n",
            "  inflating: myntradataset/images/59049.jpg  \n",
            "  inflating: myntradataset/images/5905.jpg  \n",
            "  inflating: myntradataset/images/59050.jpg  \n",
            "  inflating: myntradataset/images/59051.jpg  \n",
            "  inflating: myntradataset/images/59052.jpg  \n",
            "  inflating: myntradataset/images/59053.jpg  \n",
            "  inflating: myntradataset/images/59054.jpg  \n",
            "  inflating: myntradataset/images/59055.jpg  \n",
            "  inflating: myntradataset/images/59056.jpg  \n",
            "  inflating: myntradataset/images/59058.jpg  \n",
            "  inflating: myntradataset/images/59059.jpg  \n",
            "  inflating: myntradataset/images/5906.jpg  \n",
            "  inflating: myntradataset/images/59060.jpg  \n",
            "  inflating: myntradataset/images/59061.jpg  \n",
            "  inflating: myntradataset/images/59062.jpg  \n",
            "  inflating: myntradataset/images/59063.jpg  \n",
            "  inflating: myntradataset/images/59064.jpg  \n",
            "  inflating: myntradataset/images/59065.jpg  \n",
            "  inflating: myntradataset/images/59066.jpg  \n",
            "  inflating: myntradataset/images/59067.jpg  \n",
            "  inflating: myntradataset/images/59068.jpg  \n",
            "  inflating: myntradataset/images/59069.jpg  \n",
            "  inflating: myntradataset/images/5907.jpg  \n",
            "  inflating: myntradataset/images/59070.jpg  \n",
            "  inflating: myntradataset/images/59071.jpg  \n",
            "  inflating: myntradataset/images/59072.jpg  \n",
            "  inflating: myntradataset/images/59073.jpg  \n",
            "  inflating: myntradataset/images/59074.jpg  \n",
            "  inflating: myntradataset/images/59075.jpg  \n",
            "  inflating: myntradataset/images/59076.jpg  \n",
            "  inflating: myntradataset/images/59077.jpg  \n",
            "  inflating: myntradataset/images/59078.jpg  \n",
            "  inflating: myntradataset/images/59079.jpg  \n",
            "  inflating: myntradataset/images/5908.jpg  \n",
            "  inflating: myntradataset/images/59080.jpg  \n",
            "  inflating: myntradataset/images/59081.jpg  \n",
            "  inflating: myntradataset/images/59082.jpg  \n",
            "  inflating: myntradataset/images/59083.jpg  \n",
            "  inflating: myntradataset/images/59084.jpg  \n",
            "  inflating: myntradataset/images/59085.jpg  \n",
            "  inflating: myntradataset/images/59086.jpg  \n",
            "  inflating: myntradataset/images/59087.jpg  \n",
            "  inflating: myntradataset/images/59088.jpg  \n",
            "  inflating: myntradataset/images/59089.jpg  \n",
            "  inflating: myntradataset/images/5909.jpg  \n",
            "  inflating: myntradataset/images/59090.jpg  \n",
            "  inflating: myntradataset/images/59091.jpg  \n",
            "  inflating: myntradataset/images/59092.jpg  \n",
            "  inflating: myntradataset/images/59093.jpg  \n",
            "  inflating: myntradataset/images/59094.jpg  \n",
            "  inflating: myntradataset/images/59095.jpg  \n",
            "  inflating: myntradataset/images/59096.jpg  \n",
            "  inflating: myntradataset/images/59097.jpg  \n",
            "  inflating: myntradataset/images/59098.jpg  \n",
            "  inflating: myntradataset/images/59099.jpg  \n",
            "  inflating: myntradataset/images/5910.jpg  \n",
            "  inflating: myntradataset/images/59100.jpg  \n",
            "  inflating: myntradataset/images/59101.jpg  \n",
            "  inflating: myntradataset/images/59102.jpg  \n",
            "  inflating: myntradataset/images/59103.jpg  \n",
            "  inflating: myntradataset/images/59104.jpg  \n",
            "  inflating: myntradataset/images/59105.jpg  \n",
            "  inflating: myntradataset/images/59106.jpg  \n",
            "  inflating: myntradataset/images/5911.jpg  \n",
            "  inflating: myntradataset/images/59112.jpg  \n",
            "  inflating: myntradataset/images/59115.jpg  \n",
            "  inflating: myntradataset/images/59116.jpg  \n",
            "  inflating: myntradataset/images/59117.jpg  \n",
            "  inflating: myntradataset/images/59118.jpg  \n",
            "  inflating: myntradataset/images/59119.jpg  \n",
            "  inflating: myntradataset/images/5912.jpg  \n",
            "  inflating: myntradataset/images/59120.jpg  \n",
            "  inflating: myntradataset/images/59121.jpg  \n",
            "  inflating: myntradataset/images/59122.jpg  \n",
            "  inflating: myntradataset/images/59123.jpg  \n",
            "  inflating: myntradataset/images/59124.jpg  \n",
            "  inflating: myntradataset/images/59126.jpg  \n",
            "  inflating: myntradataset/images/59127.jpg  \n",
            "  inflating: myntradataset/images/59128.jpg  \n",
            "  inflating: myntradataset/images/59129.jpg  \n",
            "  inflating: myntradataset/images/59130.jpg  \n",
            "  inflating: myntradataset/images/59131.jpg  \n",
            "  inflating: myntradataset/images/59132.jpg  \n",
            "  inflating: myntradataset/images/59133.jpg  \n",
            "  inflating: myntradataset/images/59142.jpg  \n",
            "  inflating: myntradataset/images/59143.jpg  \n",
            "  inflating: myntradataset/images/59144.jpg  \n",
            "  inflating: myntradataset/images/59145.jpg  \n",
            "  inflating: myntradataset/images/59146.jpg  \n",
            "  inflating: myntradataset/images/59147.jpg  \n",
            "  inflating: myntradataset/images/59149.jpg  \n",
            "  inflating: myntradataset/images/5915.jpg  \n",
            "  inflating: myntradataset/images/5916.jpg  \n",
            "  inflating: myntradataset/images/59160.jpg  \n",
            "  inflating: myntradataset/images/59161.jpg  \n",
            "  inflating: myntradataset/images/59165.jpg  \n",
            "  inflating: myntradataset/images/59166.jpg  \n",
            "  inflating: myntradataset/images/59167.jpg  \n",
            "  inflating: myntradataset/images/5917.jpg  \n",
            "  inflating: myntradataset/images/59172.jpg  \n",
            "  inflating: myntradataset/images/59173.jpg  \n",
            "  inflating: myntradataset/images/59174.jpg  \n",
            "  inflating: myntradataset/images/59175.jpg  \n",
            "  inflating: myntradataset/images/59176.jpg  \n",
            "  inflating: myntradataset/images/59177.jpg  \n",
            "  inflating: myntradataset/images/59178.jpg  \n",
            "  inflating: myntradataset/images/59181.jpg  \n",
            "  inflating: myntradataset/images/59185.jpg  \n",
            "  inflating: myntradataset/images/59187.jpg  \n",
            "  inflating: myntradataset/images/59188.jpg  \n",
            "  inflating: myntradataset/images/5919.jpg  \n",
            "  inflating: myntradataset/images/59190.jpg  \n",
            "  inflating: myntradataset/images/5920.jpg  \n",
            "  inflating: myntradataset/images/5921.jpg  \n",
            "  inflating: myntradataset/images/59212.jpg  \n",
            "  inflating: myntradataset/images/59213.jpg  \n",
            "  inflating: myntradataset/images/59214.jpg  \n",
            "  inflating: myntradataset/images/59215.jpg  \n",
            "  inflating: myntradataset/images/59216.jpg  \n",
            "  inflating: myntradataset/images/59217.jpg  \n",
            "  inflating: myntradataset/images/59218.jpg  \n",
            "  inflating: myntradataset/images/59219.jpg  \n",
            "  inflating: myntradataset/images/5922.jpg  \n",
            "  inflating: myntradataset/images/59220.jpg  \n",
            "  inflating: myntradataset/images/59221.jpg  \n",
            "  inflating: myntradataset/images/59222.jpg  \n",
            "  inflating: myntradataset/images/59223.jpg  \n",
            "  inflating: myntradataset/images/59224.jpg  \n",
            "  inflating: myntradataset/images/59225.jpg  \n",
            "  inflating: myntradataset/images/59226.jpg  \n",
            "  inflating: myntradataset/images/59227.jpg  \n",
            "  inflating: myntradataset/images/59228.jpg  \n",
            "  inflating: myntradataset/images/59229.jpg  \n",
            "  inflating: myntradataset/images/5923.jpg  \n",
            "  inflating: myntradataset/images/59230.jpg  \n",
            "  inflating: myntradataset/images/59231.jpg  \n",
            "  inflating: myntradataset/images/59232.jpg  \n",
            "  inflating: myntradataset/images/59233.jpg  \n",
            "  inflating: myntradataset/images/59235.jpg  \n",
            "  inflating: myntradataset/images/59236.jpg  \n",
            "  inflating: myntradataset/images/59237.jpg  \n",
            "  inflating: myntradataset/images/59238.jpg  \n",
            "  inflating: myntradataset/images/59239.jpg  \n",
            "  inflating: myntradataset/images/5924.jpg  \n",
            "  inflating: myntradataset/images/59240.jpg  \n",
            "  inflating: myntradataset/images/59241.jpg  \n",
            "  inflating: myntradataset/images/59242.jpg  \n",
            "  inflating: myntradataset/images/59243.jpg  \n",
            "  inflating: myntradataset/images/59244.jpg  \n",
            "  inflating: myntradataset/images/59245.jpg  \n",
            "  inflating: myntradataset/images/59246.jpg  \n",
            "  inflating: myntradataset/images/59247.jpg  \n",
            "  inflating: myntradataset/images/59248.jpg  \n",
            "  inflating: myntradataset/images/59249.jpg  \n",
            "  inflating: myntradataset/images/5925.jpg  \n",
            "  inflating: myntradataset/images/59250.jpg  \n",
            "  inflating: myntradataset/images/59251.jpg  \n",
            "  inflating: myntradataset/images/59252.jpg  \n",
            "  inflating: myntradataset/images/59253.jpg  \n",
            "  inflating: myntradataset/images/59254.jpg  \n",
            "  inflating: myntradataset/images/59255.jpg  \n",
            "  inflating: myntradataset/images/59256.jpg  \n",
            "  inflating: myntradataset/images/59257.jpg  \n",
            "  inflating: myntradataset/images/59258.jpg  \n",
            "  inflating: myntradataset/images/59259.jpg  \n",
            "  inflating: myntradataset/images/5926.jpg  \n",
            "  inflating: myntradataset/images/59260.jpg  \n",
            "  inflating: myntradataset/images/59261.jpg  \n",
            "  inflating: myntradataset/images/59262.jpg  \n",
            "  inflating: myntradataset/images/59263.jpg  \n",
            "  inflating: myntradataset/images/59264.jpg  \n",
            "  inflating: myntradataset/images/59265.jpg  \n",
            "  inflating: myntradataset/images/59266.jpg  \n",
            "  inflating: myntradataset/images/59267.jpg  \n",
            "  inflating: myntradataset/images/59268.jpg  \n",
            "  inflating: myntradataset/images/59269.jpg  \n",
            "  inflating: myntradataset/images/5927.jpg  \n",
            "  inflating: myntradataset/images/59270.jpg  \n",
            "  inflating: myntradataset/images/59271.jpg  \n",
            "  inflating: myntradataset/images/59272.jpg  \n",
            "  inflating: myntradataset/images/59273.jpg  \n",
            "  inflating: myntradataset/images/59274.jpg  \n",
            "  inflating: myntradataset/images/59275.jpg  \n",
            "  inflating: myntradataset/images/59276.jpg  \n",
            "  inflating: myntradataset/images/59277.jpg  \n",
            "  inflating: myntradataset/images/59278.jpg  \n",
            "  inflating: myntradataset/images/59279.jpg  \n",
            "  inflating: myntradataset/images/5928.jpg  \n",
            "  inflating: myntradataset/images/59280.jpg  \n",
            "  inflating: myntradataset/images/59281.jpg  \n",
            "  inflating: myntradataset/images/59282.jpg  \n",
            "  inflating: myntradataset/images/59283.jpg  \n",
            "  inflating: myntradataset/images/59284.jpg  \n",
            "  inflating: myntradataset/images/59286.jpg  \n",
            "  inflating: myntradataset/images/59287.jpg  \n",
            "  inflating: myntradataset/images/5929.jpg  \n",
            "  inflating: myntradataset/images/59290.jpg  \n",
            "  inflating: myntradataset/images/59291.jpg  \n",
            "  inflating: myntradataset/images/59292.jpg  \n",
            "  inflating: myntradataset/images/59293.jpg  \n",
            "  inflating: myntradataset/images/59294.jpg  \n",
            "  inflating: myntradataset/images/59295.jpg  \n",
            "  inflating: myntradataset/images/59296.jpg  \n",
            "  inflating: myntradataset/images/59297.jpg  \n",
            "  inflating: myntradataset/images/59298.jpg  \n",
            "  inflating: myntradataset/images/59299.jpg  \n",
            "  inflating: myntradataset/images/5930.jpg  \n",
            "  inflating: myntradataset/images/59300.jpg  \n",
            "  inflating: myntradataset/images/59301.jpg  \n",
            "  inflating: myntradataset/images/59302.jpg  \n",
            "  inflating: myntradataset/images/59303.jpg  \n",
            "  inflating: myntradataset/images/59304.jpg  \n",
            "  inflating: myntradataset/images/59305.jpg  \n",
            "  inflating: myntradataset/images/59306.jpg  \n",
            "  inflating: myntradataset/images/5931.jpg  \n",
            "  inflating: myntradataset/images/59311.jpg  \n",
            "  inflating: myntradataset/images/59312.jpg  \n",
            "  inflating: myntradataset/images/59315.jpg  \n",
            "  inflating: myntradataset/images/5932.jpg  \n",
            "  inflating: myntradataset/images/59323.jpg  \n",
            "  inflating: myntradataset/images/59324.jpg  \n",
            "  inflating: myntradataset/images/59326.jpg  \n",
            "  inflating: myntradataset/images/59329.jpg  \n",
            "  inflating: myntradataset/images/5933.jpg  \n",
            "  inflating: myntradataset/images/59330.jpg  \n",
            "  inflating: myntradataset/images/59338.jpg  \n",
            "  inflating: myntradataset/images/5934.jpg  \n",
            "  inflating: myntradataset/images/59342.jpg  \n",
            "  inflating: myntradataset/images/59349.jpg  \n",
            "  inflating: myntradataset/images/5935.jpg  \n",
            "  inflating: myntradataset/images/59352.jpg  \n",
            "  inflating: myntradataset/images/59353.jpg  \n",
            "  inflating: myntradataset/images/59354.jpg  \n",
            "  inflating: myntradataset/images/59355.jpg  \n",
            "  inflating: myntradataset/images/59356.jpg  \n",
            "  inflating: myntradataset/images/59357.jpg  \n",
            "  inflating: myntradataset/images/59358.jpg  \n",
            "  inflating: myntradataset/images/59359.jpg  \n",
            "  inflating: myntradataset/images/5936.jpg  \n",
            "  inflating: myntradataset/images/59360.jpg  \n",
            "  inflating: myntradataset/images/59361.jpg  \n",
            "  inflating: myntradataset/images/59362.jpg  \n",
            "  inflating: myntradataset/images/59363.jpg  \n",
            "  inflating: myntradataset/images/59364.jpg  \n",
            "  inflating: myntradataset/images/59365.jpg  \n",
            "  inflating: myntradataset/images/59366.jpg  \n",
            "  inflating: myntradataset/images/59367.jpg  \n",
            "  inflating: myntradataset/images/59368.jpg  \n",
            "  inflating: myntradataset/images/59369.jpg  \n",
            "  inflating: myntradataset/images/5937.jpg  \n",
            "  inflating: myntradataset/images/59370.jpg  \n",
            "  inflating: myntradataset/images/59371.jpg  \n",
            "  inflating: myntradataset/images/59372.jpg  \n",
            "  inflating: myntradataset/images/59373.jpg  \n",
            "  inflating: myntradataset/images/59374.jpg  \n",
            "  inflating: myntradataset/images/59375.jpg  \n",
            "  inflating: myntradataset/images/59376.jpg  \n",
            "  inflating: myntradataset/images/59377.jpg  \n",
            "  inflating: myntradataset/images/59378.jpg  \n",
            "  inflating: myntradataset/images/59379.jpg  \n",
            "  inflating: myntradataset/images/5938.jpg  \n",
            "  inflating: myntradataset/images/59380.jpg  \n",
            "  inflating: myntradataset/images/59381.jpg  \n",
            "  inflating: myntradataset/images/59382.jpg  \n",
            "  inflating: myntradataset/images/59383.jpg  \n",
            "  inflating: myntradataset/images/59387.jpg  \n",
            "  inflating: myntradataset/images/59388.jpg  \n",
            "  inflating: myntradataset/images/5939.jpg  \n",
            "  inflating: myntradataset/images/59390.jpg  \n",
            "  inflating: myntradataset/images/59396.jpg  \n",
            "  inflating: myntradataset/images/59399.jpg  \n",
            "  inflating: myntradataset/images/5940.jpg  \n",
            "  inflating: myntradataset/images/59400.jpg  \n",
            "  inflating: myntradataset/images/59403.jpg  \n",
            "  inflating: myntradataset/images/59404.jpg  \n",
            "  inflating: myntradataset/images/59405.jpg  \n",
            "  inflating: myntradataset/images/59407.jpg  \n",
            "  inflating: myntradataset/images/5941.jpg  \n",
            "  inflating: myntradataset/images/59410.jpg  \n",
            "  inflating: myntradataset/images/59413.jpg  \n",
            "  inflating: myntradataset/images/59418.jpg  \n",
            "  inflating: myntradataset/images/5942.jpg  \n",
            "  inflating: myntradataset/images/59421.jpg  \n",
            "  inflating: myntradataset/images/59422.jpg  \n",
            "  inflating: myntradataset/images/59428.jpg  \n",
            "  inflating: myntradataset/images/5943.jpg  \n",
            "  inflating: myntradataset/images/59430.jpg  \n",
            "  inflating: myntradataset/images/59432.jpg  \n",
            "  inflating: myntradataset/images/59433.jpg  \n",
            "  inflating: myntradataset/images/59435.jpg  \n",
            "  inflating: myntradataset/images/59436.jpg  \n",
            "  inflating: myntradataset/images/59437.jpg  \n",
            "  inflating: myntradataset/images/59439.jpg  \n",
            "  inflating: myntradataset/images/5944.jpg  \n",
            "  inflating: myntradataset/images/59440.jpg  \n",
            "  inflating: myntradataset/images/59441.jpg  \n",
            "  inflating: myntradataset/images/59442.jpg  \n",
            "  inflating: myntradataset/images/59443.jpg  \n",
            "  inflating: myntradataset/images/59444.jpg  \n",
            "  inflating: myntradataset/images/59445.jpg  \n",
            "  inflating: myntradataset/images/59446.jpg  \n",
            "  inflating: myntradataset/images/59448.jpg  \n",
            "  inflating: myntradataset/images/5945.jpg  \n",
            "  inflating: myntradataset/images/59451.jpg  \n",
            "  inflating: myntradataset/images/59452.jpg  \n",
            "  inflating: myntradataset/images/59453.jpg  \n",
            "  inflating: myntradataset/images/59454.jpg  \n",
            "  inflating: myntradataset/images/59455.jpg  \n",
            "  inflating: myntradataset/images/59456.jpg  \n",
            "  inflating: myntradataset/images/59457.jpg  \n",
            "  inflating: myntradataset/images/59458.jpg  \n",
            "  inflating: myntradataset/images/59459.jpg  \n",
            "  inflating: myntradataset/images/5946.jpg  \n",
            "  inflating: myntradataset/images/59460.jpg  \n",
            "  inflating: myntradataset/images/59461.jpg  \n",
            "  inflating: myntradataset/images/59462.jpg  \n",
            "  inflating: myntradataset/images/59463.jpg  \n",
            "  inflating: myntradataset/images/59464.jpg  \n",
            "  inflating: myntradataset/images/59465.jpg  \n",
            "  inflating: myntradataset/images/59466.jpg  \n",
            "  inflating: myntradataset/images/59467.jpg  \n",
            "  inflating: myntradataset/images/59468.jpg  \n",
            "  inflating: myntradataset/images/59469.jpg  \n",
            "  inflating: myntradataset/images/5947.jpg  \n",
            "  inflating: myntradataset/images/59470.jpg  \n",
            "  inflating: myntradataset/images/59471.jpg  \n",
            "  inflating: myntradataset/images/59474.jpg  \n",
            "  inflating: myntradataset/images/5948.jpg  \n",
            "  inflating: myntradataset/images/59481.jpg  \n",
            "  inflating: myntradataset/images/59484.jpg  \n",
            "  inflating: myntradataset/images/5949.jpg  \n",
            "  inflating: myntradataset/images/59498.jpg  \n",
            "  inflating: myntradataset/images/59499.jpg  \n",
            "  inflating: myntradataset/images/59501.jpg  \n",
            "  inflating: myntradataset/images/59502.jpg  \n",
            "  inflating: myntradataset/images/59503.jpg  \n",
            "  inflating: myntradataset/images/59504.jpg  \n",
            "  inflating: myntradataset/images/59505.jpg  \n",
            "  inflating: myntradataset/images/59507.jpg  \n",
            "  inflating: myntradataset/images/59508.jpg  \n",
            "  inflating: myntradataset/images/59509.jpg  \n",
            "  inflating: myntradataset/images/5951.jpg  \n",
            "  inflating: myntradataset/images/59510.jpg  \n",
            "  inflating: myntradataset/images/59511.jpg  \n",
            "  inflating: myntradataset/images/59512.jpg  \n",
            "  inflating: myntradataset/images/59513.jpg  \n",
            "  inflating: myntradataset/images/59514.jpg  \n",
            "  inflating: myntradataset/images/59515.jpg  \n",
            "  inflating: myntradataset/images/59516.jpg  \n",
            "  inflating: myntradataset/images/59518.jpg  \n",
            "  inflating: myntradataset/images/59519.jpg  \n",
            "  inflating: myntradataset/images/5952.jpg  \n",
            "  inflating: myntradataset/images/59520.jpg  \n",
            "  inflating: myntradataset/images/59521.jpg  \n",
            "  inflating: myntradataset/images/59522.jpg  \n",
            "  inflating: myntradataset/images/59523.jpg  \n",
            "  inflating: myntradataset/images/59524.jpg  \n",
            "  inflating: myntradataset/images/59525.jpg  \n",
            "  inflating: myntradataset/images/59526.jpg  \n",
            "  inflating: myntradataset/images/59527.jpg  \n",
            "  inflating: myntradataset/images/59528.jpg  \n",
            "  inflating: myntradataset/images/59529.jpg  \n",
            "  inflating: myntradataset/images/5953.jpg  \n",
            "  inflating: myntradataset/images/59530.jpg  \n",
            "  inflating: myntradataset/images/59531.jpg  \n",
            "  inflating: myntradataset/images/59532.jpg  \n",
            "  inflating: myntradataset/images/59533.jpg  \n",
            "  inflating: myntradataset/images/59534.jpg  \n",
            "  inflating: myntradataset/images/59535.jpg  \n",
            "  inflating: myntradataset/images/59537.jpg  \n",
            "  inflating: myntradataset/images/5954.jpg  \n",
            "  inflating: myntradataset/images/59541.jpg  \n",
            "  inflating: myntradataset/images/59543.jpg  \n",
            "  inflating: myntradataset/images/59544.jpg  \n",
            "  inflating: myntradataset/images/59545.jpg  \n",
            "  inflating: myntradataset/images/59546.jpg  \n",
            "  inflating: myntradataset/images/59547.jpg  \n",
            "  inflating: myntradataset/images/5955.jpg  \n",
            "  inflating: myntradataset/images/59550.jpg  \n",
            "  inflating: myntradataset/images/59551.jpg  \n",
            "  inflating: myntradataset/images/59552.jpg  \n",
            "  inflating: myntradataset/images/59553.jpg  \n",
            "  inflating: myntradataset/images/59554.jpg  \n",
            "  inflating: myntradataset/images/59555.jpg  \n",
            "  inflating: myntradataset/images/59556.jpg  \n",
            "  inflating: myntradataset/images/59557.jpg  \n",
            "  inflating: myntradataset/images/59558.jpg  \n",
            "  inflating: myntradataset/images/59559.jpg  \n",
            "  inflating: myntradataset/images/5956.jpg  \n",
            "  inflating: myntradataset/images/59560.jpg  \n",
            "  inflating: myntradataset/images/59561.jpg  \n",
            "  inflating: myntradataset/images/59563.jpg  \n",
            "  inflating: myntradataset/images/59564.jpg  \n",
            "  inflating: myntradataset/images/59565.jpg  \n",
            "  inflating: myntradataset/images/59566.jpg  \n",
            "  inflating: myntradataset/images/59567.jpg  \n",
            "  inflating: myntradataset/images/59568.jpg  \n",
            "  inflating: myntradataset/images/59569.jpg  \n",
            "  inflating: myntradataset/images/5957.jpg  \n",
            "  inflating: myntradataset/images/59570.jpg  \n",
            "  inflating: myntradataset/images/59571.jpg  \n",
            "  inflating: myntradataset/images/59572.jpg  \n",
            "  inflating: myntradataset/images/59573.jpg  \n",
            "  inflating: myntradataset/images/59574.jpg  \n",
            "  inflating: myntradataset/images/59575.jpg  \n",
            "  inflating: myntradataset/images/59576.jpg  \n",
            "  inflating: myntradataset/images/59577.jpg  \n",
            "  inflating: myntradataset/images/59578.jpg  \n",
            "  inflating: myntradataset/images/59579.jpg  \n",
            "  inflating: myntradataset/images/5958.jpg  \n",
            "  inflating: myntradataset/images/59580.jpg  \n",
            "  inflating: myntradataset/images/59581.jpg  \n",
            "  inflating: myntradataset/images/59582.jpg  \n",
            "  inflating: myntradataset/images/59583.jpg  \n",
            "  inflating: myntradataset/images/59584.jpg  \n",
            "  inflating: myntradataset/images/59585.jpg  \n",
            "  inflating: myntradataset/images/59586.jpg  \n",
            "  inflating: myntradataset/images/59587.jpg  \n",
            "  inflating: myntradataset/images/59589.jpg  \n",
            "  inflating: myntradataset/images/5959.jpg  \n",
            "  inflating: myntradataset/images/59590.jpg  \n",
            "  inflating: myntradataset/images/59591.jpg  \n",
            "  inflating: myntradataset/images/59592.jpg  \n",
            "  inflating: myntradataset/images/59593.jpg  \n",
            "  inflating: myntradataset/images/59594.jpg  \n",
            "  inflating: myntradataset/images/59595.jpg  \n",
            "  inflating: myntradataset/images/59596.jpg  \n",
            "  inflating: myntradataset/images/59597.jpg  \n",
            "  inflating: myntradataset/images/59598.jpg  \n",
            "  inflating: myntradataset/images/59599.jpg  \n",
            "  inflating: myntradataset/images/5960.jpg  \n",
            "  inflating: myntradataset/images/59600.jpg  \n",
            "  inflating: myntradataset/images/59601.jpg  \n",
            "  inflating: myntradataset/images/59603.jpg  \n",
            "  inflating: myntradataset/images/59604.jpg  \n",
            "  inflating: myntradataset/images/59606.jpg  \n",
            "  inflating: myntradataset/images/59607.jpg  \n",
            "  inflating: myntradataset/images/59608.jpg  \n",
            "  inflating: myntradataset/images/59609.jpg  \n",
            "  inflating: myntradataset/images/59610.jpg  \n",
            "  inflating: myntradataset/images/59611.jpg  \n",
            "  inflating: myntradataset/images/59612.jpg  \n",
            "  inflating: myntradataset/images/59613.jpg  \n",
            "  inflating: myntradataset/images/59614.jpg  \n",
            "  inflating: myntradataset/images/59615.jpg  \n",
            "  inflating: myntradataset/images/59616.jpg  \n",
            "  inflating: myntradataset/images/59618.jpg  \n",
            "  inflating: myntradataset/images/59619.jpg  \n",
            "  inflating: myntradataset/images/5962.jpg  \n",
            "  inflating: myntradataset/images/59620.jpg  \n",
            "  inflating: myntradataset/images/59621.jpg  \n",
            "  inflating: myntradataset/images/59622.jpg  \n",
            "  inflating: myntradataset/images/59623.jpg  \n",
            "  inflating: myntradataset/images/59624.jpg  \n",
            "  inflating: myntradataset/images/59625.jpg  \n",
            "  inflating: myntradataset/images/59626.jpg  \n",
            "  inflating: myntradataset/images/59628.jpg  \n",
            "  inflating: myntradataset/images/5963.jpg  \n",
            "  inflating: myntradataset/images/59630.jpg  \n",
            "  inflating: myntradataset/images/59631.jpg  \n",
            "  inflating: myntradataset/images/59632.jpg  \n",
            "  inflating: myntradataset/images/59633.jpg  \n",
            "  inflating: myntradataset/images/59634.jpg  \n",
            "  inflating: myntradataset/images/59635.jpg  \n",
            "  inflating: myntradataset/images/59636.jpg  \n",
            "  inflating: myntradataset/images/59637.jpg  \n",
            "  inflating: myntradataset/images/59638.jpg  \n",
            "  inflating: myntradataset/images/59639.jpg  \n",
            "  inflating: myntradataset/images/5964.jpg  \n",
            "  inflating: myntradataset/images/59640.jpg  \n",
            "  inflating: myntradataset/images/59641.jpg  \n",
            "  inflating: myntradataset/images/59642.jpg  \n",
            "  inflating: myntradataset/images/59643.jpg  \n",
            "  inflating: myntradataset/images/59644.jpg  \n",
            "  inflating: myntradataset/images/59645.jpg  \n",
            "  inflating: myntradataset/images/59646.jpg  \n",
            "  inflating: myntradataset/images/59647.jpg  \n",
            "  inflating: myntradataset/images/59648.jpg  \n",
            "  inflating: myntradataset/images/59649.jpg  \n",
            "  inflating: myntradataset/images/59650.jpg  \n",
            "  inflating: myntradataset/images/59651.jpg  \n",
            "  inflating: myntradataset/images/59652.jpg  \n",
            "  inflating: myntradataset/images/59653.jpg  \n",
            "  inflating: myntradataset/images/59654.jpg  \n",
            "  inflating: myntradataset/images/59655.jpg  \n",
            "  inflating: myntradataset/images/59656.jpg  \n",
            "  inflating: myntradataset/images/59657.jpg  \n",
            "  inflating: myntradataset/images/59658.jpg  \n",
            "  inflating: myntradataset/images/59659.jpg  \n",
            "  inflating: myntradataset/images/5966.jpg  \n",
            "  inflating: myntradataset/images/59660.jpg  \n",
            "  inflating: myntradataset/images/59661.jpg  \n",
            "  inflating: myntradataset/images/59662.jpg  \n",
            "  inflating: myntradataset/images/59663.jpg  \n",
            "  inflating: myntradataset/images/59664.jpg  \n",
            "  inflating: myntradataset/images/59665.jpg  \n",
            "  inflating: myntradataset/images/59666.jpg  \n",
            "  inflating: myntradataset/images/59667.jpg  \n",
            "  inflating: myntradataset/images/59668.jpg  \n",
            "  inflating: myntradataset/images/59669.jpg  \n",
            "  inflating: myntradataset/images/5967.jpg  \n",
            "  inflating: myntradataset/images/59670.jpg  \n",
            "  inflating: myntradataset/images/59672.jpg  \n",
            "  inflating: myntradataset/images/59673.jpg  \n",
            "  inflating: myntradataset/images/59674.jpg  \n",
            "  inflating: myntradataset/images/59675.jpg  \n",
            "  inflating: myntradataset/images/59676.jpg  \n",
            "  inflating: myntradataset/images/59677.jpg  \n",
            "  inflating: myntradataset/images/59678.jpg  \n",
            "  inflating: myntradataset/images/59679.jpg  \n",
            "  inflating: myntradataset/images/59680.jpg  \n",
            "  inflating: myntradataset/images/59681.jpg  \n",
            "  inflating: myntradataset/images/59682.jpg  \n",
            "  inflating: myntradataset/images/59683.jpg  \n",
            "  inflating: myntradataset/images/59684.jpg  \n",
            "  inflating: myntradataset/images/59685.jpg  \n",
            "  inflating: myntradataset/images/59686.jpg  \n",
            "  inflating: myntradataset/images/59687.jpg  \n",
            "  inflating: myntradataset/images/59688.jpg  \n",
            "  inflating: myntradataset/images/59689.jpg  \n",
            "  inflating: myntradataset/images/5969.jpg  \n",
            "  inflating: myntradataset/images/59690.jpg  \n",
            "  inflating: myntradataset/images/59691.jpg  \n",
            "  inflating: myntradataset/images/59692.jpg  \n",
            "  inflating: myntradataset/images/59693.jpg  \n",
            "  inflating: myntradataset/images/59694.jpg  \n",
            "  inflating: myntradataset/images/59695.jpg  \n",
            "  inflating: myntradataset/images/59696.jpg  \n",
            "  inflating: myntradataset/images/59697.jpg  \n",
            "  inflating: myntradataset/images/59698.jpg  \n",
            "  inflating: myntradataset/images/59699.jpg  \n",
            "  inflating: myntradataset/images/5970.jpg  \n",
            "  inflating: myntradataset/images/59700.jpg  \n",
            "  inflating: myntradataset/images/59701.jpg  \n",
            "  inflating: myntradataset/images/59702.jpg  \n",
            "  inflating: myntradataset/images/59703.jpg  \n",
            "  inflating: myntradataset/images/59704.jpg  \n",
            "  inflating: myntradataset/images/59705.jpg  \n",
            "  inflating: myntradataset/images/59706.jpg  \n",
            "  inflating: myntradataset/images/59707.jpg  \n",
            "  inflating: myntradataset/images/59708.jpg  \n",
            "  inflating: myntradataset/images/59709.jpg  \n",
            "  inflating: myntradataset/images/5971.jpg  \n",
            "  inflating: myntradataset/images/59710.jpg  \n",
            "  inflating: myntradataset/images/59711.jpg  \n",
            "  inflating: myntradataset/images/59712.jpg  \n",
            "  inflating: myntradataset/images/59713.jpg  \n",
            "  inflating: myntradataset/images/59714.jpg  \n",
            "  inflating: myntradataset/images/59715.jpg  \n",
            "  inflating: myntradataset/images/59716.jpg  \n",
            "  inflating: myntradataset/images/59717.jpg  \n",
            "  inflating: myntradataset/images/59718.jpg  \n",
            "  inflating: myntradataset/images/59719.jpg  \n",
            "  inflating: myntradataset/images/5972.jpg  \n",
            "  inflating: myntradataset/images/59720.jpg  \n",
            "  inflating: myntradataset/images/59721.jpg  \n",
            "  inflating: myntradataset/images/59722.jpg  \n",
            "  inflating: myntradataset/images/59723.jpg  \n",
            "  inflating: myntradataset/images/59724.jpg  \n",
            "  inflating: myntradataset/images/59725.jpg  \n",
            "  inflating: myntradataset/images/59726.jpg  \n",
            "  inflating: myntradataset/images/59727.jpg  \n",
            "  inflating: myntradataset/images/59728.jpg  \n",
            "  inflating: myntradataset/images/59729.jpg  \n",
            "  inflating: myntradataset/images/5973.jpg  \n",
            "  inflating: myntradataset/images/59730.jpg  \n",
            "  inflating: myntradataset/images/59731.jpg  \n",
            "  inflating: myntradataset/images/59732.jpg  \n",
            "  inflating: myntradataset/images/59733.jpg  \n",
            "  inflating: myntradataset/images/59734.jpg  \n",
            "  inflating: myntradataset/images/59735.jpg  \n",
            "  inflating: myntradataset/images/59736.jpg  \n",
            "  inflating: myntradataset/images/59739.jpg  \n",
            "  inflating: myntradataset/images/5974.jpg  \n",
            "  inflating: myntradataset/images/59740.jpg  \n",
            "  inflating: myntradataset/images/59741.jpg  \n",
            "  inflating: myntradataset/images/59742.jpg  \n",
            "  inflating: myntradataset/images/59743.jpg  \n",
            "  inflating: myntradataset/images/59744.jpg  \n",
            "  inflating: myntradataset/images/59745.jpg  \n",
            "  inflating: myntradataset/images/59746.jpg  \n",
            "  inflating: myntradataset/images/59747.jpg  \n",
            "  inflating: myntradataset/images/59748.jpg  \n",
            "  inflating: myntradataset/images/59749.jpg  \n",
            "  inflating: myntradataset/images/5975.jpg  \n",
            "  inflating: myntradataset/images/59750.jpg  \n",
            "  inflating: myntradataset/images/59751.jpg  \n",
            "  inflating: myntradataset/images/59752.jpg  \n",
            "  inflating: myntradataset/images/59753.jpg  \n",
            "  inflating: myntradataset/images/59754.jpg  \n",
            "  inflating: myntradataset/images/59755.jpg  \n",
            "  inflating: myntradataset/images/59756.jpg  \n",
            "  inflating: myntradataset/images/59757.jpg  \n",
            "  inflating: myntradataset/images/59758.jpg  \n",
            "  inflating: myntradataset/images/59759.jpg  \n",
            "  inflating: myntradataset/images/5976.jpg  \n",
            "  inflating: myntradataset/images/59760.jpg  \n",
            "  inflating: myntradataset/images/59761.jpg  \n",
            "  inflating: myntradataset/images/59762.jpg  \n",
            "  inflating: myntradataset/images/59763.jpg  \n",
            "  inflating: myntradataset/images/59764.jpg  \n",
            "  inflating: myntradataset/images/59765.jpg  \n",
            "  inflating: myntradataset/images/59766.jpg  \n",
            "  inflating: myntradataset/images/59767.jpg  \n",
            "  inflating: myntradataset/images/59768.jpg  \n",
            "  inflating: myntradataset/images/59769.jpg  \n",
            "  inflating: myntradataset/images/59770.jpg  \n",
            "  inflating: myntradataset/images/59771.jpg  \n",
            "  inflating: myntradataset/images/59772.jpg  \n",
            "  inflating: myntradataset/images/59773.jpg  \n",
            "  inflating: myntradataset/images/59774.jpg  \n",
            "  inflating: myntradataset/images/59775.jpg  \n",
            "  inflating: myntradataset/images/59776.jpg  \n",
            "  inflating: myntradataset/images/59777.jpg  \n",
            "  inflating: myntradataset/images/59778.jpg  \n",
            "  inflating: myntradataset/images/59779.jpg  \n",
            "  inflating: myntradataset/images/5978.jpg  \n",
            "  inflating: myntradataset/images/59780.jpg  \n",
            "  inflating: myntradataset/images/59781.jpg  \n",
            "  inflating: myntradataset/images/59782.jpg  \n",
            "  inflating: myntradataset/images/59783.jpg  \n",
            "  inflating: myntradataset/images/59784.jpg  \n",
            "  inflating: myntradataset/images/5979.jpg  \n",
            "  inflating: myntradataset/images/59794.jpg  \n",
            "  inflating: myntradataset/images/59795.jpg  \n",
            "  inflating: myntradataset/images/59796.jpg  \n",
            "  inflating: myntradataset/images/59797.jpg  \n",
            "  inflating: myntradataset/images/5980.jpg  \n",
            "  inflating: myntradataset/images/5981.jpg  \n",
            "  inflating: myntradataset/images/59810.jpg  \n",
            "  inflating: myntradataset/images/59811.jpg  \n",
            "  inflating: myntradataset/images/59813.jpg  \n",
            "  inflating: myntradataset/images/59814.jpg  \n",
            "  inflating: myntradataset/images/59819.jpg  \n",
            "  inflating: myntradataset/images/5982.jpg  \n",
            "  inflating: myntradataset/images/59824.jpg  \n",
            "  inflating: myntradataset/images/59826.jpg  \n",
            "  inflating: myntradataset/images/59827.jpg  \n",
            "  inflating: myntradataset/images/5983.jpg  \n",
            "  inflating: myntradataset/images/59832.jpg  \n",
            "  inflating: myntradataset/images/59833.jpg  \n",
            "  inflating: myntradataset/images/59834.jpg  \n",
            "  inflating: myntradataset/images/59838.jpg  \n",
            "  inflating: myntradataset/images/59839.jpg  \n",
            "  inflating: myntradataset/images/5984.jpg  \n",
            "  inflating: myntradataset/images/5985.jpg  \n",
            "  inflating: myntradataset/images/59851.jpg  \n",
            "  inflating: myntradataset/images/59853.jpg  \n",
            "  inflating: myntradataset/images/59856.jpg  \n",
            "  inflating: myntradataset/images/59858.jpg  \n",
            "  inflating: myntradataset/images/59859.jpg  \n",
            "  inflating: myntradataset/images/5986.jpg  \n",
            "  inflating: myntradataset/images/59860.jpg  \n",
            "  inflating: myntradataset/images/59862.jpg  \n",
            "  inflating: myntradataset/images/59863.jpg  \n",
            "  inflating: myntradataset/images/59866.jpg  \n",
            "  inflating: myntradataset/images/5987.jpg  \n",
            "  inflating: myntradataset/images/59872.jpg  \n",
            "  inflating: myntradataset/images/59873.jpg  \n",
            "  inflating: myntradataset/images/59874.jpg  \n",
            "  inflating: myntradataset/images/59875.jpg  \n",
            "  inflating: myntradataset/images/59876.jpg  \n",
            "  inflating: myntradataset/images/59877.jpg  \n",
            "  inflating: myntradataset/images/59878.jpg  \n",
            "  inflating: myntradataset/images/59879.jpg  \n",
            "  inflating: myntradataset/images/5988.jpg  \n",
            "  inflating: myntradataset/images/59880.jpg  \n",
            "  inflating: myntradataset/images/59881.jpg  \n",
            "  inflating: myntradataset/images/59882.jpg  \n",
            "  inflating: myntradataset/images/59883.jpg  \n",
            "  inflating: myntradataset/images/59884.jpg  \n",
            "  inflating: myntradataset/images/59885.jpg  \n",
            "  inflating: myntradataset/images/59886.jpg  \n",
            "  inflating: myntradataset/images/59887.jpg  \n",
            "  inflating: myntradataset/images/59888.jpg  \n",
            "  inflating: myntradataset/images/59889.jpg  \n",
            "  inflating: myntradataset/images/59890.jpg  \n",
            "  inflating: myntradataset/images/59891.jpg  \n",
            "  inflating: myntradataset/images/59892.jpg  \n",
            "  inflating: myntradataset/images/59893.jpg  \n",
            "  inflating: myntradataset/images/59894.jpg  \n",
            "  inflating: myntradataset/images/59895.jpg  \n",
            "  inflating: myntradataset/images/59896.jpg  \n",
            "  inflating: myntradataset/images/59897.jpg  \n",
            "  inflating: myntradataset/images/59898.jpg  \n",
            "  inflating: myntradataset/images/5990.jpg  \n",
            "  inflating: myntradataset/images/59900.jpg  \n",
            "  inflating: myntradataset/images/59901.jpg  \n",
            "  inflating: myntradataset/images/59902.jpg  \n",
            "  inflating: myntradataset/images/59903.jpg  \n",
            "  inflating: myntradataset/images/59904.jpg  \n",
            "  inflating: myntradataset/images/59905.jpg  \n",
            "  inflating: myntradataset/images/59906.jpg  \n",
            "  inflating: myntradataset/images/59907.jpg  \n",
            "  inflating: myntradataset/images/59908.jpg  \n",
            "  inflating: myntradataset/images/59909.jpg  \n",
            "  inflating: myntradataset/images/5991.jpg  \n",
            "  inflating: myntradataset/images/59910.jpg  \n",
            "  inflating: myntradataset/images/59911.jpg  \n",
            "  inflating: myntradataset/images/59912.jpg  \n",
            "  inflating: myntradataset/images/59914.jpg  \n",
            "  inflating: myntradataset/images/59915.jpg  \n",
            "  inflating: myntradataset/images/59916.jpg  \n",
            "  inflating: myntradataset/images/59917.jpg  \n",
            "  inflating: myntradataset/images/59918.jpg  \n",
            "  inflating: myntradataset/images/59919.jpg  \n",
            "  inflating: myntradataset/images/5992.jpg  \n",
            "  inflating: myntradataset/images/59920.jpg  \n",
            "  inflating: myntradataset/images/59921.jpg  \n",
            "  inflating: myntradataset/images/59922.jpg  \n",
            "  inflating: myntradataset/images/59923.jpg  \n",
            "  inflating: myntradataset/images/59924.jpg  \n",
            "  inflating: myntradataset/images/59925.jpg  \n",
            "  inflating: myntradataset/images/59926.jpg  \n",
            "  inflating: myntradataset/images/59927.jpg  \n",
            "  inflating: myntradataset/images/59928.jpg  \n",
            "  inflating: myntradataset/images/59929.jpg  \n",
            "  inflating: myntradataset/images/5993.jpg  \n",
            "  inflating: myntradataset/images/59930.jpg  \n",
            "  inflating: myntradataset/images/59931.jpg  \n",
            "  inflating: myntradataset/images/59932.jpg  \n",
            "  inflating: myntradataset/images/59933.jpg  \n",
            "  inflating: myntradataset/images/59934.jpg  \n",
            "  inflating: myntradataset/images/59935.jpg  \n",
            "  inflating: myntradataset/images/59936.jpg  \n",
            "  inflating: myntradataset/images/59937.jpg  \n",
            "  inflating: myntradataset/images/59938.jpg  \n",
            "  inflating: myntradataset/images/59939.jpg  \n",
            "  inflating: myntradataset/images/5994.jpg  \n",
            "  inflating: myntradataset/images/59940.jpg  \n",
            "  inflating: myntradataset/images/59941.jpg  \n",
            "  inflating: myntradataset/images/59942.jpg  \n",
            "  inflating: myntradataset/images/59943.jpg  \n",
            "  inflating: myntradataset/images/59944.jpg  \n",
            "  inflating: myntradataset/images/59945.jpg  \n",
            "  inflating: myntradataset/images/59946.jpg  \n",
            "  inflating: myntradataset/images/59947.jpg  \n",
            "  inflating: myntradataset/images/59948.jpg  \n",
            "  inflating: myntradataset/images/59949.jpg  \n",
            "  inflating: myntradataset/images/5995.jpg  \n",
            "  inflating: myntradataset/images/59950.jpg  \n",
            "  inflating: myntradataset/images/59951.jpg  \n",
            "  inflating: myntradataset/images/5996.jpg  \n",
            "  inflating: myntradataset/images/59961.jpg  \n",
            "  inflating: myntradataset/images/59962.jpg  \n",
            "  inflating: myntradataset/images/59963.jpg  \n",
            "  inflating: myntradataset/images/59964.jpg  \n",
            "  inflating: myntradataset/images/59965.jpg  \n",
            "  inflating: myntradataset/images/59966.jpg  \n",
            "  inflating: myntradataset/images/59967.jpg  \n",
            "  inflating: myntradataset/images/59968.jpg  \n",
            "  inflating: myntradataset/images/59969.jpg  \n",
            "  inflating: myntradataset/images/59970.jpg  \n",
            "  inflating: myntradataset/images/59971.jpg  \n",
            "  inflating: myntradataset/images/59972.jpg  \n",
            "  inflating: myntradataset/images/59973.jpg  \n",
            "  inflating: myntradataset/images/59974.jpg  \n",
            "  inflating: myntradataset/images/59975.jpg  \n",
            "  inflating: myntradataset/images/59976.jpg  \n",
            "  inflating: myntradataset/images/59977.jpg  \n",
            "  inflating: myntradataset/images/59978.jpg  \n",
            "  inflating: myntradataset/images/59979.jpg  \n",
            "  inflating: myntradataset/images/5998.jpg  \n",
            "  inflating: myntradataset/images/59980.jpg  \n",
            "  inflating: myntradataset/images/59981.jpg  \n",
            "  inflating: myntradataset/images/59982.jpg  \n",
            "  inflating: myntradataset/images/59983.jpg  \n",
            "  inflating: myntradataset/images/59984.jpg  \n",
            "  inflating: myntradataset/images/59985.jpg  \n",
            "  inflating: myntradataset/images/59986.jpg  \n",
            "  inflating: myntradataset/images/59987.jpg  \n",
            "  inflating: myntradataset/images/59988.jpg  \n",
            "  inflating: myntradataset/images/59989.jpg  \n",
            "  inflating: myntradataset/images/5999.jpg  \n",
            "  inflating: myntradataset/images/59990.jpg  \n",
            "  inflating: myntradataset/images/59991.jpg  \n",
            "  inflating: myntradataset/images/59992.jpg  \n",
            "  inflating: myntradataset/images/59993.jpg  \n",
            "  inflating: myntradataset/images/59994.jpg  \n",
            "  inflating: myntradataset/images/59995.jpg  \n",
            "  inflating: myntradataset/images/59996.jpg  \n",
            "  inflating: myntradataset/images/59998.jpg  \n",
            "  inflating: myntradataset/images/59999.jpg  \n",
            "  inflating: myntradataset/images/60000.jpg  \n",
            "  inflating: myntradataset/images/6001.jpg  \n",
            "  inflating: myntradataset/images/6002.jpg  \n",
            "  inflating: myntradataset/images/6003.jpg  \n",
            "  inflating: myntradataset/images/6004.jpg  \n",
            "  inflating: myntradataset/images/6005.jpg  \n",
            "  inflating: myntradataset/images/6006.jpg  \n",
            "  inflating: myntradataset/images/6007.jpg  \n",
            "  inflating: myntradataset/images/6008.jpg  \n",
            "  inflating: myntradataset/images/6009.jpg  \n",
            "  inflating: myntradataset/images/6010.jpg  \n",
            "  inflating: myntradataset/images/6011.jpg  \n",
            "  inflating: myntradataset/images/6012.jpg  \n",
            "  inflating: myntradataset/images/6013.jpg  \n",
            "  inflating: myntradataset/images/6014.jpg  \n",
            "  inflating: myntradataset/images/6015.jpg  \n",
            "  inflating: myntradataset/images/6016.jpg  \n",
            "  inflating: myntradataset/images/6017.jpg  \n",
            "  inflating: myntradataset/images/6020.jpg  \n",
            "  inflating: myntradataset/images/6021.jpg  \n",
            "  inflating: myntradataset/images/6022.jpg  \n",
            "  inflating: myntradataset/images/6023.jpg  \n",
            "  inflating: myntradataset/images/6024.jpg  \n",
            "  inflating: myntradataset/images/6025.jpg  \n",
            "  inflating: myntradataset/images/6026.jpg  \n",
            "  inflating: myntradataset/images/6027.jpg  \n",
            "  inflating: myntradataset/images/6029.jpg  \n",
            "  inflating: myntradataset/images/6030.jpg  \n",
            "  inflating: myntradataset/images/6031.jpg  \n",
            "  inflating: myntradataset/images/6032.jpg  \n",
            "  inflating: myntradataset/images/6033.jpg  \n",
            "  inflating: myntradataset/images/6035.jpg  \n",
            "  inflating: myntradataset/images/6036.jpg  \n",
            "  inflating: myntradataset/images/6037.jpg  \n",
            "  inflating: myntradataset/images/6038.jpg  \n",
            "  inflating: myntradataset/images/6039.jpg  \n",
            "  inflating: myntradataset/images/6040.jpg  \n",
            "  inflating: myntradataset/images/6041.jpg  \n",
            "  inflating: myntradataset/images/6042.jpg  \n",
            "  inflating: myntradataset/images/6043.jpg  \n",
            "  inflating: myntradataset/images/6044.jpg  \n",
            "  inflating: myntradataset/images/6046.jpg  \n",
            "  inflating: myntradataset/images/6048.jpg  \n",
            "  inflating: myntradataset/images/6049.jpg  \n",
            "  inflating: myntradataset/images/6052.jpg  \n",
            "  inflating: myntradataset/images/6053.jpg  \n",
            "  inflating: myntradataset/images/6054.jpg  \n",
            "  inflating: myntradataset/images/6055.jpg  \n",
            "  inflating: myntradataset/images/6057.jpg  \n",
            "  inflating: myntradataset/images/6059.jpg  \n",
            "  inflating: myntradataset/images/6060.jpg  \n",
            "  inflating: myntradataset/images/6061.jpg  \n",
            "  inflating: myntradataset/images/6062.jpg  \n",
            "  inflating: myntradataset/images/6063.jpg  \n",
            "  inflating: myntradataset/images/6064.jpg  \n",
            "  inflating: myntradataset/images/6065.jpg  \n",
            "  inflating: myntradataset/images/6066.jpg  \n",
            "  inflating: myntradataset/images/6067.jpg  \n",
            "  inflating: myntradataset/images/6068.jpg  \n",
            "  inflating: myntradataset/images/6069.jpg  \n",
            "  inflating: myntradataset/images/6070.jpg  \n",
            "  inflating: myntradataset/images/6071.jpg  \n",
            "  inflating: myntradataset/images/6073.jpg  \n",
            "  inflating: myntradataset/images/6076.jpg  \n",
            "  inflating: myntradataset/images/6079.jpg  \n",
            "  inflating: myntradataset/images/6080.jpg  \n",
            "  inflating: myntradataset/images/6082.jpg  \n",
            "  inflating: myntradataset/images/6083.jpg  \n",
            "  inflating: myntradataset/images/6084.jpg  \n",
            "  inflating: myntradataset/images/6085.jpg  \n",
            "  inflating: myntradataset/images/6086.jpg  \n",
            "  inflating: myntradataset/images/6087.jpg  \n",
            "  inflating: myntradataset/images/6088.jpg  \n",
            "  inflating: myntradataset/images/6089.jpg  \n",
            "  inflating: myntradataset/images/6090.jpg  \n",
            "  inflating: myntradataset/images/6091.jpg  \n",
            "  inflating: myntradataset/images/6092.jpg  \n",
            "  inflating: myntradataset/images/6093.jpg  \n",
            "  inflating: myntradataset/images/6094.jpg  \n",
            "  inflating: myntradataset/images/6095.jpg  \n",
            "  inflating: myntradataset/images/6097.jpg  \n",
            "  inflating: myntradataset/images/6099.jpg  \n",
            "  inflating: myntradataset/images/6100.jpg  \n",
            "  inflating: myntradataset/images/6101.jpg  \n",
            "  inflating: myntradataset/images/6102.jpg  \n",
            "  inflating: myntradataset/images/6103.jpg  \n",
            "  inflating: myntradataset/images/6104.jpg  \n",
            "  inflating: myntradataset/images/6105.jpg  \n",
            "  inflating: myntradataset/images/6106.jpg  \n",
            "  inflating: myntradataset/images/6107.jpg  \n",
            "  inflating: myntradataset/images/6108.jpg  \n",
            "  inflating: myntradataset/images/6109.jpg  \n",
            "  inflating: myntradataset/images/6110.jpg  \n",
            "  inflating: myntradataset/images/6111.jpg  \n",
            "  inflating: myntradataset/images/6112.jpg  \n",
            "  inflating: myntradataset/images/6113.jpg  \n",
            "  inflating: myntradataset/images/6114.jpg  \n",
            "  inflating: myntradataset/images/6115.jpg  \n",
            "  inflating: myntradataset/images/6116.jpg  \n",
            "  inflating: myntradataset/images/6117.jpg  \n",
            "  inflating: myntradataset/images/6118.jpg  \n",
            "  inflating: myntradataset/images/6119.jpg  \n",
            "  inflating: myntradataset/images/6120.jpg  \n",
            "  inflating: myntradataset/images/6121.jpg  \n",
            "  inflating: myntradataset/images/6122.jpg  \n",
            "  inflating: myntradataset/images/6123.jpg  \n",
            "  inflating: myntradataset/images/6124.jpg  \n",
            "  inflating: myntradataset/images/6125.jpg  \n",
            "  inflating: myntradataset/images/6126.jpg  \n",
            "  inflating: myntradataset/images/6127.jpg  \n",
            "  inflating: myntradataset/images/6128.jpg  \n",
            "  inflating: myntradataset/images/6129.jpg  \n",
            "  inflating: myntradataset/images/6130.jpg  \n",
            "  inflating: myntradataset/images/6131.jpg  \n",
            "  inflating: myntradataset/images/6132.jpg  \n",
            "  inflating: myntradataset/images/6133.jpg  \n",
            "  inflating: myntradataset/images/6134.jpg  \n",
            "  inflating: myntradataset/images/6135.jpg  \n",
            "  inflating: myntradataset/images/6136.jpg  \n",
            "  inflating: myntradataset/images/6137.jpg  \n",
            "  inflating: myntradataset/images/6138.jpg  \n",
            "  inflating: myntradataset/images/6139.jpg  \n",
            "  inflating: myntradataset/images/6140.jpg  \n",
            "  inflating: myntradataset/images/6141.jpg  \n",
            "  inflating: myntradataset/images/6142.jpg  \n",
            "  inflating: myntradataset/images/6143.jpg  \n",
            "  inflating: myntradataset/images/6144.jpg  \n",
            "  inflating: myntradataset/images/6145.jpg  \n",
            "  inflating: myntradataset/images/6146.jpg  \n",
            "  inflating: myntradataset/images/6147.jpg  \n",
            "  inflating: myntradataset/images/6148.jpg  \n",
            "  inflating: myntradataset/images/6149.jpg  \n",
            "  inflating: myntradataset/images/6150.jpg  \n",
            "  inflating: myntradataset/images/6151.jpg  \n",
            "  inflating: myntradataset/images/6152.jpg  \n",
            "  inflating: myntradataset/images/6153.jpg  \n",
            "  inflating: myntradataset/images/6154.jpg  \n",
            "  inflating: myntradataset/images/6155.jpg  \n",
            "  inflating: myntradataset/images/6156.jpg  \n",
            "  inflating: myntradataset/images/6157.jpg  \n",
            "  inflating: myntradataset/images/6158.jpg  \n",
            "  inflating: myntradataset/images/6159.jpg  \n",
            "  inflating: myntradataset/images/6160.jpg  \n",
            "  inflating: myntradataset/images/6161.jpg  \n",
            "  inflating: myntradataset/images/6162.jpg  \n",
            "  inflating: myntradataset/images/6163.jpg  \n",
            "  inflating: myntradataset/images/6164.jpg  \n",
            "  inflating: myntradataset/images/6165.jpg  \n",
            "  inflating: myntradataset/images/6166.jpg  \n",
            "  inflating: myntradataset/images/6167.jpg  \n",
            "  inflating: myntradataset/images/6168.jpg  \n",
            "  inflating: myntradataset/images/6169.jpg  \n",
            "  inflating: myntradataset/images/6170.jpg  \n",
            "  inflating: myntradataset/images/6171.jpg  \n",
            "  inflating: myntradataset/images/6172.jpg  \n",
            "  inflating: myntradataset/images/6173.jpg  \n",
            "  inflating: myntradataset/images/6174.jpg  \n",
            "  inflating: myntradataset/images/6175.jpg  \n",
            "  inflating: myntradataset/images/6176.jpg  \n",
            "  inflating: myntradataset/images/6177.jpg  \n",
            "  inflating: myntradataset/images/6178.jpg  \n",
            "  inflating: myntradataset/images/6180.jpg  \n",
            "  inflating: myntradataset/images/6181.jpg  \n",
            "  inflating: myntradataset/images/6182.jpg  \n",
            "  inflating: myntradataset/images/6183.jpg  \n",
            "  inflating: myntradataset/images/6184.jpg  \n",
            "  inflating: myntradataset/images/6185.jpg  \n",
            "  inflating: myntradataset/images/6187.jpg  \n",
            "  inflating: myntradataset/images/6188.jpg  \n",
            "  inflating: myntradataset/images/6189.jpg  \n",
            "  inflating: myntradataset/images/6190.jpg  \n",
            "  inflating: myntradataset/images/6191.jpg  \n",
            "  inflating: myntradataset/images/6192.jpg  \n",
            "  inflating: myntradataset/images/6194.jpg  \n",
            "  inflating: myntradataset/images/6195.jpg  \n",
            "  inflating: myntradataset/images/6196.jpg  \n",
            "  inflating: myntradataset/images/6197.jpg  \n",
            "  inflating: myntradataset/images/6198.jpg  \n",
            "  inflating: myntradataset/images/6199.jpg  \n",
            "  inflating: myntradataset/images/6200.jpg  \n",
            "  inflating: myntradataset/images/6201.jpg  \n",
            "  inflating: myntradataset/images/6202.jpg  \n",
            "  inflating: myntradataset/images/6203.jpg  \n",
            "  inflating: myntradataset/images/6204.jpg  \n",
            "  inflating: myntradataset/images/6205.jpg  \n",
            "  inflating: myntradataset/images/6206.jpg  \n",
            "  inflating: myntradataset/images/6207.jpg  \n",
            "  inflating: myntradataset/images/6208.jpg  \n",
            "  inflating: myntradataset/images/6209.jpg  \n",
            "  inflating: myntradataset/images/6211.jpg  \n",
            "  inflating: myntradataset/images/6212.jpg  \n",
            "  inflating: myntradataset/images/6213.jpg  \n",
            "  inflating: myntradataset/images/6214.jpg  \n",
            "  inflating: myntradataset/images/6215.jpg  \n",
            "  inflating: myntradataset/images/6216.jpg  \n",
            "  inflating: myntradataset/images/6217.jpg  \n",
            "  inflating: myntradataset/images/6219.jpg  \n",
            "  inflating: myntradataset/images/6220.jpg  \n",
            "  inflating: myntradataset/images/6222.jpg  \n",
            "  inflating: myntradataset/images/6223.jpg  \n",
            "  inflating: myntradataset/images/6224.jpg  \n",
            "  inflating: myntradataset/images/6225.jpg  \n",
            "  inflating: myntradataset/images/6226.jpg  \n",
            "  inflating: myntradataset/images/6227.jpg  \n",
            "  inflating: myntradataset/images/6228.jpg  \n",
            "  inflating: myntradataset/images/6229.jpg  \n",
            "  inflating: myntradataset/images/6230.jpg  \n",
            "  inflating: myntradataset/images/6231.jpg  \n",
            "  inflating: myntradataset/images/6232.jpg  \n",
            "  inflating: myntradataset/images/6233.jpg  \n",
            "  inflating: myntradataset/images/6234.jpg  \n",
            "  inflating: myntradataset/images/6235.jpg  \n",
            "  inflating: myntradataset/images/6236.jpg  \n",
            "  inflating: myntradataset/images/6237.jpg  \n",
            "  inflating: myntradataset/images/6238.jpg  \n",
            "  inflating: myntradataset/images/6239.jpg  \n",
            "  inflating: myntradataset/images/6240.jpg  \n",
            "  inflating: myntradataset/images/6241.jpg  \n",
            "  inflating: myntradataset/images/6242.jpg  \n",
            "  inflating: myntradataset/images/6243.jpg  \n",
            "  inflating: myntradataset/images/6244.jpg  \n",
            "  inflating: myntradataset/images/6245.jpg  \n",
            "  inflating: myntradataset/images/6246.jpg  \n",
            "  inflating: myntradataset/images/6247.jpg  \n",
            "  inflating: myntradataset/images/6248.jpg  \n",
            "  inflating: myntradataset/images/6249.jpg  \n",
            "  inflating: myntradataset/images/6251.jpg  \n",
            "  inflating: myntradataset/images/6252.jpg  \n",
            "  inflating: myntradataset/images/6253.jpg  \n",
            "  inflating: myntradataset/images/6254.jpg  \n",
            "  inflating: myntradataset/images/6255.jpg  \n",
            "  inflating: myntradataset/images/6257.jpg  \n",
            "  inflating: myntradataset/images/6258.jpg  \n",
            "  inflating: myntradataset/images/6259.jpg  \n",
            "  inflating: myntradataset/images/6264.jpg  \n",
            "  inflating: myntradataset/images/6266.jpg  \n",
            "  inflating: myntradataset/images/6267.jpg  \n",
            "  inflating: myntradataset/images/6268.jpg  \n",
            "  inflating: myntradataset/images/6269.jpg  \n",
            "  inflating: myntradataset/images/6271.jpg  \n",
            "  inflating: myntradataset/images/6272.jpg  \n",
            "  inflating: myntradataset/images/6274.jpg  \n",
            "  inflating: myntradataset/images/6275.jpg  \n",
            "  inflating: myntradataset/images/6277.jpg  \n",
            "  inflating: myntradataset/images/6278.jpg  \n",
            "  inflating: myntradataset/images/6279.jpg  \n",
            "  inflating: myntradataset/images/6280.jpg  \n",
            "  inflating: myntradataset/images/6282.jpg  \n",
            "  inflating: myntradataset/images/6283.jpg  \n",
            "  inflating: myntradataset/images/6285.jpg  \n",
            "  inflating: myntradataset/images/6286.jpg  \n",
            "  inflating: myntradataset/images/6287.jpg  \n",
            "  inflating: myntradataset/images/6288.jpg  \n",
            "  inflating: myntradataset/images/6289.jpg  \n",
            "  inflating: myntradataset/images/6291.jpg  \n",
            "  inflating: myntradataset/images/6292.jpg  \n",
            "  inflating: myntradataset/images/6293.jpg  \n",
            "  inflating: myntradataset/images/6294.jpg  \n",
            "  inflating: myntradataset/images/6295.jpg  \n",
            "  inflating: myntradataset/images/6297.jpg  \n",
            "  inflating: myntradataset/images/6298.jpg  \n",
            "  inflating: myntradataset/images/6300.jpg  \n",
            "  inflating: myntradataset/images/6301.jpg  \n",
            "  inflating: myntradataset/images/6302.jpg  \n",
            "  inflating: myntradataset/images/6303.jpg  \n",
            "  inflating: myntradataset/images/6304.jpg  \n",
            "  inflating: myntradataset/images/6306.jpg  \n",
            "  inflating: myntradataset/images/6307.jpg  \n",
            "  inflating: myntradataset/images/6308.jpg  \n",
            "  inflating: myntradataset/images/6310.jpg  \n",
            "  inflating: myntradataset/images/6311.jpg  \n",
            "  inflating: myntradataset/images/6312.jpg  \n",
            "  inflating: myntradataset/images/6313.jpg  \n",
            "  inflating: myntradataset/images/6314.jpg  \n",
            "  inflating: myntradataset/images/6315.jpg  \n",
            "  inflating: myntradataset/images/6317.jpg  \n",
            "  inflating: myntradataset/images/6318.jpg  \n",
            "  inflating: myntradataset/images/6319.jpg  \n",
            "  inflating: myntradataset/images/6320.jpg  \n",
            "  inflating: myntradataset/images/6321.jpg  \n",
            "  inflating: myntradataset/images/6323.jpg  \n",
            "  inflating: myntradataset/images/6325.jpg  \n",
            "  inflating: myntradataset/images/6326.jpg  \n",
            "  inflating: myntradataset/images/6327.jpg  \n",
            "  inflating: myntradataset/images/6328.jpg  \n",
            "  inflating: myntradataset/images/6329.jpg  \n",
            "  inflating: myntradataset/images/6331.jpg  \n",
            "  inflating: myntradataset/images/6332.jpg  \n",
            "  inflating: myntradataset/images/6334.jpg  \n",
            "  inflating: myntradataset/images/6338.jpg  \n",
            "  inflating: myntradataset/images/6339.jpg  \n",
            "  inflating: myntradataset/images/6341.jpg  \n",
            "  inflating: myntradataset/images/6342.jpg  \n",
            "  inflating: myntradataset/images/6343.jpg  \n",
            "  inflating: myntradataset/images/6344.jpg  \n",
            "  inflating: myntradataset/images/6345.jpg  \n",
            "  inflating: myntradataset/images/6347.jpg  \n",
            "  inflating: myntradataset/images/6348.jpg  \n",
            "  inflating: myntradataset/images/6349.jpg  \n",
            "  inflating: myntradataset/images/6350.jpg  \n",
            "  inflating: myntradataset/images/6351.jpg  \n",
            "  inflating: myntradataset/images/6352.jpg  \n",
            "  inflating: myntradataset/images/6353.jpg  \n",
            "  inflating: myntradataset/images/6356.jpg  \n",
            "  inflating: myntradataset/images/6357.jpg  \n",
            "  inflating: myntradataset/images/6359.jpg  \n",
            "  inflating: myntradataset/images/6360.jpg  \n",
            "  inflating: myntradataset/images/6361.jpg  \n",
            "  inflating: myntradataset/images/6362.jpg  \n",
            "  inflating: myntradataset/images/6363.jpg  \n",
            "  inflating: myntradataset/images/6366.jpg  \n",
            "  inflating: myntradataset/images/6368.jpg  \n",
            "  inflating: myntradataset/images/6370.jpg  \n",
            "  inflating: myntradataset/images/6371.jpg  \n",
            "  inflating: myntradataset/images/6372.jpg  \n",
            "  inflating: myntradataset/images/6373.jpg  \n",
            "  inflating: myntradataset/images/6374.jpg  \n",
            "  inflating: myntradataset/images/6376.jpg  \n",
            "  inflating: myntradataset/images/6377.jpg  \n",
            "  inflating: myntradataset/images/6378.jpg  \n",
            "  inflating: myntradataset/images/6379.jpg  \n",
            "  inflating: myntradataset/images/6380.jpg  \n",
            "  inflating: myntradataset/images/6381.jpg  \n",
            "  inflating: myntradataset/images/6382.jpg  \n",
            "  inflating: myntradataset/images/6383.jpg  \n",
            "  inflating: myntradataset/images/6385.jpg  \n",
            "  inflating: myntradataset/images/6386.jpg  \n",
            "  inflating: myntradataset/images/6387.jpg  \n",
            "  inflating: myntradataset/images/6388.jpg  \n",
            "  inflating: myntradataset/images/6389.jpg  \n",
            "  inflating: myntradataset/images/6390.jpg  \n",
            "  inflating: myntradataset/images/6391.jpg  \n",
            "  inflating: myntradataset/images/6392.jpg  \n",
            "  inflating: myntradataset/images/6393.jpg  \n",
            "  inflating: myntradataset/images/6394.jpg  \n",
            "  inflating: myntradataset/images/6395.jpg  \n",
            "  inflating: myntradataset/images/6396.jpg  \n",
            "  inflating: myntradataset/images/6397.jpg  \n",
            "  inflating: myntradataset/images/6398.jpg  \n",
            "  inflating: myntradataset/images/6399.jpg  \n",
            "  inflating: myntradataset/images/6400.jpg  \n",
            "  inflating: myntradataset/images/6401.jpg  \n",
            "  inflating: myntradataset/images/6402.jpg  \n",
            "  inflating: myntradataset/images/6403.jpg  \n",
            "  inflating: myntradataset/images/6404.jpg  \n",
            "  inflating: myntradataset/images/6405.jpg  \n",
            "  inflating: myntradataset/images/6406.jpg  \n",
            "  inflating: myntradataset/images/6407.jpg  \n",
            "  inflating: myntradataset/images/6408.jpg  \n",
            "  inflating: myntradataset/images/6409.jpg  \n",
            "  inflating: myntradataset/images/6410.jpg  \n",
            "  inflating: myntradataset/images/6411.jpg  \n",
            "  inflating: myntradataset/images/6412.jpg  \n",
            "  inflating: myntradataset/images/6413.jpg  \n",
            "  inflating: myntradataset/images/6414.jpg  \n",
            "  inflating: myntradataset/images/6415.jpg  \n",
            "  inflating: myntradataset/images/6416.jpg  \n",
            "  inflating: myntradataset/images/6417.jpg  \n",
            "  inflating: myntradataset/images/6418.jpg  \n",
            "  inflating: myntradataset/images/6419.jpg  \n",
            "  inflating: myntradataset/images/6420.jpg  \n",
            "  inflating: myntradataset/images/6421.jpg  \n",
            "  inflating: myntradataset/images/6422.jpg  \n",
            "  inflating: myntradataset/images/6423.jpg  \n",
            "  inflating: myntradataset/images/6424.jpg  \n",
            "  inflating: myntradataset/images/6425.jpg  \n",
            "  inflating: myntradataset/images/6426.jpg  \n",
            "  inflating: myntradataset/images/6427.jpg  \n",
            "  inflating: myntradataset/images/6428.jpg  \n",
            "  inflating: myntradataset/images/6429.jpg  \n",
            "  inflating: myntradataset/images/6430.jpg  \n",
            "  inflating: myntradataset/images/6431.jpg  \n",
            "  inflating: myntradataset/images/6432.jpg  \n",
            "  inflating: myntradataset/images/6433.jpg  \n",
            "  inflating: myntradataset/images/6434.jpg  \n",
            "  inflating: myntradataset/images/6435.jpg  \n",
            "  inflating: myntradataset/images/6436.jpg  \n",
            "  inflating: myntradataset/images/6437.jpg  \n",
            "  inflating: myntradataset/images/6438.jpg  \n",
            "  inflating: myntradataset/images/6439.jpg  \n",
            "  inflating: myntradataset/images/6440.jpg  \n",
            "  inflating: myntradataset/images/6441.jpg  \n",
            "  inflating: myntradataset/images/6442.jpg  \n",
            "  inflating: myntradataset/images/6443.jpg  \n",
            "  inflating: myntradataset/images/6444.jpg  \n",
            "  inflating: myntradataset/images/6445.jpg  \n",
            "  inflating: myntradataset/images/6446.jpg  \n",
            "  inflating: myntradataset/images/6447.jpg  \n",
            "  inflating: myntradataset/images/6448.jpg  \n",
            "  inflating: myntradataset/images/6449.jpg  \n",
            "  inflating: myntradataset/images/6450.jpg  \n",
            "  inflating: myntradataset/images/6451.jpg  \n",
            "  inflating: myntradataset/images/6452.jpg  \n",
            "  inflating: myntradataset/images/6453.jpg  \n",
            "  inflating: myntradataset/images/6454.jpg  \n",
            "  inflating: myntradataset/images/6455.jpg  \n",
            "  inflating: myntradataset/images/6456.jpg  \n",
            "  inflating: myntradataset/images/6457.jpg  \n",
            "  inflating: myntradataset/images/6458.jpg  \n",
            "  inflating: myntradataset/images/6459.jpg  \n",
            "  inflating: myntradataset/images/6460.jpg  \n",
            "  inflating: myntradataset/images/6461.jpg  \n",
            "  inflating: myntradataset/images/6462.jpg  \n",
            "  inflating: myntradataset/images/6463.jpg  \n",
            "  inflating: myntradataset/images/6464.jpg  \n",
            "  inflating: myntradataset/images/6465.jpg  \n",
            "  inflating: myntradataset/images/6466.jpg  \n",
            "  inflating: myntradataset/images/6467.jpg  \n",
            "  inflating: myntradataset/images/6468.jpg  \n",
            "  inflating: myntradataset/images/6469.jpg  \n",
            "  inflating: myntradataset/images/6470.jpg  \n",
            "  inflating: myntradataset/images/6471.jpg  \n",
            "  inflating: myntradataset/images/6472.jpg  \n",
            "  inflating: myntradataset/images/6473.jpg  \n",
            "  inflating: myntradataset/images/6474.jpg  \n",
            "  inflating: myntradataset/images/6475.jpg  \n",
            "  inflating: myntradataset/images/6476.jpg  \n",
            "  inflating: myntradataset/images/6477.jpg  \n",
            "  inflating: myntradataset/images/6478.jpg  \n",
            "  inflating: myntradataset/images/6479.jpg  \n",
            "  inflating: myntradataset/images/6480.jpg  \n",
            "  inflating: myntradataset/images/6481.jpg  \n",
            "  inflating: myntradataset/images/6482.jpg  \n",
            "  inflating: myntradataset/images/6483.jpg  \n",
            "  inflating: myntradataset/images/6484.jpg  \n",
            "  inflating: myntradataset/images/6485.jpg  \n",
            "  inflating: myntradataset/images/6486.jpg  \n",
            "  inflating: myntradataset/images/6487.jpg  \n",
            "  inflating: myntradataset/images/6488.jpg  \n",
            "  inflating: myntradataset/images/6489.jpg  \n",
            "  inflating: myntradataset/images/6490.jpg  \n",
            "  inflating: myntradataset/images/6491.jpg  \n",
            "  inflating: myntradataset/images/6492.jpg  \n",
            "  inflating: myntradataset/images/6493.jpg  \n",
            "  inflating: myntradataset/images/6494.jpg  \n",
            "  inflating: myntradataset/images/6495.jpg  \n",
            "  inflating: myntradataset/images/6496.jpg  \n",
            "  inflating: myntradataset/images/6497.jpg  \n",
            "  inflating: myntradataset/images/6498.jpg  \n",
            "  inflating: myntradataset/images/6499.jpg  \n",
            "  inflating: myntradataset/images/6500.jpg  \n",
            "  inflating: myntradataset/images/6501.jpg  \n",
            "  inflating: myntradataset/images/6502.jpg  \n",
            "  inflating: myntradataset/images/6503.jpg  \n",
            "  inflating: myntradataset/images/6504.jpg  \n",
            "  inflating: myntradataset/images/6505.jpg  \n",
            "  inflating: myntradataset/images/6506.jpg  \n",
            "  inflating: myntradataset/images/6507.jpg  \n",
            "  inflating: myntradataset/images/6508.jpg  \n",
            "  inflating: myntradataset/images/6509.jpg  \n",
            "  inflating: myntradataset/images/6510.jpg  \n",
            "  inflating: myntradataset/images/6511.jpg  \n",
            "  inflating: myntradataset/images/6512.jpg  \n",
            "  inflating: myntradataset/images/6513.jpg  \n",
            "  inflating: myntradataset/images/6514.jpg  \n",
            "  inflating: myntradataset/images/6515.jpg  \n",
            "  inflating: myntradataset/images/6516.jpg  \n",
            "  inflating: myntradataset/images/6517.jpg  \n",
            "  inflating: myntradataset/images/6518.jpg  \n",
            "  inflating: myntradataset/images/6519.jpg  \n",
            "  inflating: myntradataset/images/6520.jpg  \n",
            "  inflating: myntradataset/images/6521.jpg  \n",
            "  inflating: myntradataset/images/6522.jpg  \n",
            "  inflating: myntradataset/images/6523.jpg  \n",
            "  inflating: myntradataset/images/6524.jpg  \n",
            "  inflating: myntradataset/images/6525.jpg  \n",
            "  inflating: myntradataset/images/6526.jpg  \n",
            "  inflating: myntradataset/images/6527.jpg  \n",
            "  inflating: myntradataset/images/6528.jpg  \n",
            "  inflating: myntradataset/images/6529.jpg  \n",
            "  inflating: myntradataset/images/6530.jpg  \n",
            "  inflating: myntradataset/images/6531.jpg  \n",
            "  inflating: myntradataset/images/6532.jpg  \n",
            "  inflating: myntradataset/images/6533.jpg  \n",
            "  inflating: myntradataset/images/6534.jpg  \n",
            "  inflating: myntradataset/images/6535.jpg  \n",
            "  inflating: myntradataset/images/6536.jpg  \n",
            "  inflating: myntradataset/images/6537.jpg  \n",
            "  inflating: myntradataset/images/6538.jpg  \n",
            "  inflating: myntradataset/images/6539.jpg  \n",
            "  inflating: myntradataset/images/6540.jpg  \n",
            "  inflating: myntradataset/images/6541.jpg  \n",
            "  inflating: myntradataset/images/6542.jpg  \n",
            "  inflating: myntradataset/images/6543.jpg  \n",
            "  inflating: myntradataset/images/6544.jpg  \n",
            "  inflating: myntradataset/images/6545.jpg  \n",
            "  inflating: myntradataset/images/6546.jpg  \n",
            "  inflating: myntradataset/images/6547.jpg  \n",
            "  inflating: myntradataset/images/6548.jpg  \n",
            "  inflating: myntradataset/images/6549.jpg  \n",
            "  inflating: myntradataset/images/6550.jpg  \n",
            "  inflating: myntradataset/images/6551.jpg  \n",
            "  inflating: myntradataset/images/6552.jpg  \n",
            "  inflating: myntradataset/images/6553.jpg  \n",
            "  inflating: myntradataset/images/6554.jpg  \n",
            "  inflating: myntradataset/images/6555.jpg  \n",
            "  inflating: myntradataset/images/6556.jpg  \n",
            "  inflating: myntradataset/images/6557.jpg  \n",
            "  inflating: myntradataset/images/6558.jpg  \n",
            "  inflating: myntradataset/images/6559.jpg  \n",
            "  inflating: myntradataset/images/6560.jpg  \n",
            "  inflating: myntradataset/images/6561.jpg  \n",
            "  inflating: myntradataset/images/6562.jpg  \n",
            "  inflating: myntradataset/images/6563.jpg  \n",
            "  inflating: myntradataset/images/6564.jpg  \n",
            "  inflating: myntradataset/images/6565.jpg  \n",
            "  inflating: myntradataset/images/6566.jpg  \n",
            "  inflating: myntradataset/images/6567.jpg  \n",
            "  inflating: myntradataset/images/6568.jpg  \n",
            "  inflating: myntradataset/images/6569.jpg  \n",
            "  inflating: myntradataset/images/6570.jpg  \n",
            "  inflating: myntradataset/images/6571.jpg  \n",
            "  inflating: myntradataset/images/6572.jpg  \n",
            "  inflating: myntradataset/images/6574.jpg  \n",
            "  inflating: myntradataset/images/6575.jpg  \n",
            "  inflating: myntradataset/images/6576.jpg  \n",
            "  inflating: myntradataset/images/6577.jpg  \n",
            "  inflating: myntradataset/images/6578.jpg  \n",
            "  inflating: myntradataset/images/6579.jpg  \n",
            "  inflating: myntradataset/images/6581.jpg  \n",
            "  inflating: myntradataset/images/6582.jpg  \n",
            "  inflating: myntradataset/images/6583.jpg  \n",
            "  inflating: myntradataset/images/6584.jpg  \n",
            "  inflating: myntradataset/images/6585.jpg  \n",
            "  inflating: myntradataset/images/6586.jpg  \n",
            "  inflating: myntradataset/images/6587.jpg  \n",
            "  inflating: myntradataset/images/6588.jpg  \n",
            "  inflating: myntradataset/images/6589.jpg  \n",
            "  inflating: myntradataset/images/6590.jpg  \n",
            "  inflating: myntradataset/images/6591.jpg  \n",
            "  inflating: myntradataset/images/6592.jpg  \n",
            "  inflating: myntradataset/images/6593.jpg  \n",
            "  inflating: myntradataset/images/6594.jpg  \n",
            "  inflating: myntradataset/images/6595.jpg  \n",
            "  inflating: myntradataset/images/6596.jpg  \n",
            "  inflating: myntradataset/images/6597.jpg  \n",
            "  inflating: myntradataset/images/6598.jpg  \n",
            "  inflating: myntradataset/images/6599.jpg  \n",
            "  inflating: myntradataset/images/6600.jpg  \n",
            "  inflating: myntradataset/images/6601.jpg  \n",
            "  inflating: myntradataset/images/6602.jpg  \n",
            "  inflating: myntradataset/images/6603.jpg  \n",
            "  inflating: myntradataset/images/6604.jpg  \n",
            "  inflating: myntradataset/images/6605.jpg  \n",
            "  inflating: myntradataset/images/6606.jpg  \n",
            "  inflating: myntradataset/images/6607.jpg  \n",
            "  inflating: myntradataset/images/6608.jpg  \n",
            "  inflating: myntradataset/images/6609.jpg  \n",
            "  inflating: myntradataset/images/6610.jpg  \n",
            "  inflating: myntradataset/images/6611.jpg  \n",
            "  inflating: myntradataset/images/6612.jpg  \n",
            "  inflating: myntradataset/images/6613.jpg  \n",
            "  inflating: myntradataset/images/6614.jpg  \n",
            "  inflating: myntradataset/images/6615.jpg  \n",
            "  inflating: myntradataset/images/6616.jpg  \n",
            "  inflating: myntradataset/images/6617.jpg  \n",
            "  inflating: myntradataset/images/6618.jpg  \n",
            "  inflating: myntradataset/images/6619.jpg  \n",
            "  inflating: myntradataset/images/6620.jpg  \n",
            "  inflating: myntradataset/images/6621.jpg  \n",
            "  inflating: myntradataset/images/6622.jpg  \n",
            "  inflating: myntradataset/images/6623.jpg  \n",
            "  inflating: myntradataset/images/6624.jpg  \n",
            "  inflating: myntradataset/images/6625.jpg  \n",
            "  inflating: myntradataset/images/6626.jpg  \n",
            "  inflating: myntradataset/images/6627.jpg  \n",
            "  inflating: myntradataset/images/6628.jpg  \n",
            "  inflating: myntradataset/images/6629.jpg  \n",
            "  inflating: myntradataset/images/6630.jpg  \n",
            "  inflating: myntradataset/images/6631.jpg  \n",
            "  inflating: myntradataset/images/6632.jpg  \n",
            "  inflating: myntradataset/images/6633.jpg  \n",
            "  inflating: myntradataset/images/6634.jpg  \n",
            "  inflating: myntradataset/images/6635.jpg  \n",
            "  inflating: myntradataset/images/6636.jpg  \n",
            "  inflating: myntradataset/images/6637.jpg  \n",
            "  inflating: myntradataset/images/6638.jpg  \n",
            "  inflating: myntradataset/images/6639.jpg  \n",
            "  inflating: myntradataset/images/6640.jpg  \n",
            "  inflating: myntradataset/images/6641.jpg  \n",
            "  inflating: myntradataset/images/6642.jpg  \n",
            "  inflating: myntradataset/images/6643.jpg  \n",
            "  inflating: myntradataset/images/6644.jpg  \n",
            "  inflating: myntradataset/images/6645.jpg  \n",
            "  inflating: myntradataset/images/6646.jpg  \n",
            "  inflating: myntradataset/images/6647.jpg  \n",
            "  inflating: myntradataset/images/6648.jpg  \n",
            "  inflating: myntradataset/images/6649.jpg  \n",
            "  inflating: myntradataset/images/6650.jpg  \n",
            "  inflating: myntradataset/images/6651.jpg  \n",
            "  inflating: myntradataset/images/6652.jpg  \n",
            "  inflating: myntradataset/images/6653.jpg  \n",
            "  inflating: myntradataset/images/6654.jpg  \n",
            "  inflating: myntradataset/images/6655.jpg  \n",
            "  inflating: myntradataset/images/6656.jpg  \n",
            "  inflating: myntradataset/images/6657.jpg  \n",
            "  inflating: myntradataset/images/6658.jpg  \n",
            "  inflating: myntradataset/images/6659.jpg  \n",
            "  inflating: myntradataset/images/6660.jpg  \n",
            "  inflating: myntradataset/images/6661.jpg  \n",
            "  inflating: myntradataset/images/6662.jpg  \n",
            "  inflating: myntradataset/images/6663.jpg  \n",
            "  inflating: myntradataset/images/6664.jpg  \n",
            "  inflating: myntradataset/images/6665.jpg  \n",
            "  inflating: myntradataset/images/6666.jpg  \n",
            "  inflating: myntradataset/images/6667.jpg  \n",
            "  inflating: myntradataset/images/6668.jpg  \n",
            "  inflating: myntradataset/images/6669.jpg  \n",
            "  inflating: myntradataset/images/6670.jpg  \n",
            "  inflating: myntradataset/images/6671.jpg  \n",
            "  inflating: myntradataset/images/6672.jpg  \n",
            "  inflating: myntradataset/images/6673.jpg  \n",
            "  inflating: myntradataset/images/6674.jpg  \n",
            "  inflating: myntradataset/images/6675.jpg  \n",
            "  inflating: myntradataset/images/6676.jpg  \n",
            "  inflating: myntradataset/images/6677.jpg  \n",
            "  inflating: myntradataset/images/6678.jpg  \n",
            "  inflating: myntradataset/images/6679.jpg  \n",
            "  inflating: myntradataset/images/6680.jpg  \n",
            "  inflating: myntradataset/images/6681.jpg  \n",
            "  inflating: myntradataset/images/6682.jpg  \n",
            "  inflating: myntradataset/images/6683.jpg  \n",
            "  inflating: myntradataset/images/6684.jpg  \n",
            "  inflating: myntradataset/images/6685.jpg  \n",
            "  inflating: myntradataset/images/6686.jpg  \n",
            "  inflating: myntradataset/images/6687.jpg  \n",
            "  inflating: myntradataset/images/6688.jpg  \n",
            "  inflating: myntradataset/images/6689.jpg  \n",
            "  inflating: myntradataset/images/6690.jpg  \n",
            "  inflating: myntradataset/images/6691.jpg  \n",
            "  inflating: myntradataset/images/6692.jpg  \n",
            "  inflating: myntradataset/images/6693.jpg  \n",
            "  inflating: myntradataset/images/6694.jpg  \n",
            "  inflating: myntradataset/images/6695.jpg  \n",
            "  inflating: myntradataset/images/6696.jpg  \n",
            "  inflating: myntradataset/images/6697.jpg  \n",
            "  inflating: myntradataset/images/6698.jpg  \n",
            "  inflating: myntradataset/images/6699.jpg  \n",
            "  inflating: myntradataset/images/6700.jpg  \n",
            "  inflating: myntradataset/images/6701.jpg  \n",
            "  inflating: myntradataset/images/6703.jpg  \n",
            "  inflating: myntradataset/images/6704.jpg  \n",
            "  inflating: myntradataset/images/6705.jpg  \n",
            "  inflating: myntradataset/images/6706.jpg  \n",
            "  inflating: myntradataset/images/6707.jpg  \n",
            "  inflating: myntradataset/images/6708.jpg  \n",
            "  inflating: myntradataset/images/6709.jpg  \n",
            "  inflating: myntradataset/images/6710.jpg  \n",
            "  inflating: myntradataset/images/6711.jpg  \n",
            "  inflating: myntradataset/images/6712.jpg  \n",
            "  inflating: myntradataset/images/6713.jpg  \n",
            "  inflating: myntradataset/images/6714.jpg  \n",
            "  inflating: myntradataset/images/6715.jpg  \n",
            "  inflating: myntradataset/images/6716.jpg  \n",
            "  inflating: myntradataset/images/6717.jpg  \n",
            "  inflating: myntradataset/images/6718.jpg  \n",
            "  inflating: myntradataset/images/6720.jpg  \n",
            "  inflating: myntradataset/images/6721.jpg  \n",
            "  inflating: myntradataset/images/6722.jpg  \n",
            "  inflating: myntradataset/images/6724.jpg  \n",
            "  inflating: myntradataset/images/6725.jpg  \n",
            "  inflating: myntradataset/images/6726.jpg  \n",
            "  inflating: myntradataset/images/6727.jpg  \n",
            "  inflating: myntradataset/images/6728.jpg  \n",
            "  inflating: myntradataset/images/6729.jpg  \n",
            "  inflating: myntradataset/images/6731.jpg  \n",
            "  inflating: myntradataset/images/6732.jpg  \n",
            "  inflating: myntradataset/images/6733.jpg  \n",
            "  inflating: myntradataset/images/6734.jpg  \n",
            "  inflating: myntradataset/images/6735.jpg  \n",
            "  inflating: myntradataset/images/6736.jpg  \n",
            "  inflating: myntradataset/images/6738.jpg  \n",
            "  inflating: myntradataset/images/6739.jpg  \n",
            "  inflating: myntradataset/images/6740.jpg  \n",
            "  inflating: myntradataset/images/6741.jpg  \n",
            "  inflating: myntradataset/images/6742.jpg  \n",
            "  inflating: myntradataset/images/6743.jpg  \n",
            "  inflating: myntradataset/images/6744.jpg  \n",
            "  inflating: myntradataset/images/6745.jpg  \n",
            "  inflating: myntradataset/images/6746.jpg  \n",
            "  inflating: myntradataset/images/6747.jpg  \n",
            "  inflating: myntradataset/images/6748.jpg  \n",
            "  inflating: myntradataset/images/6751.jpg  \n",
            "  inflating: myntradataset/images/6752.jpg  \n",
            "  inflating: myntradataset/images/6753.jpg  \n",
            "  inflating: myntradataset/images/6754.jpg  \n",
            "  inflating: myntradataset/images/6755.jpg  \n",
            "  inflating: myntradataset/images/6756.jpg  \n",
            "  inflating: myntradataset/images/6757.jpg  \n",
            "  inflating: myntradataset/images/6758.jpg  \n",
            "  inflating: myntradataset/images/6759.jpg  \n",
            "  inflating: myntradataset/images/6760.jpg  \n",
            "  inflating: myntradataset/images/6761.jpg  \n",
            "  inflating: myntradataset/images/6762.jpg  \n",
            "  inflating: myntradataset/images/6763.jpg  \n",
            "  inflating: myntradataset/images/6764.jpg  \n",
            "  inflating: myntradataset/images/6765.jpg  \n",
            "  inflating: myntradataset/images/6766.jpg  \n",
            "  inflating: myntradataset/images/6767.jpg  \n",
            "  inflating: myntradataset/images/6768.jpg  \n",
            "  inflating: myntradataset/images/6769.jpg  \n",
            "  inflating: myntradataset/images/6770.jpg  \n",
            "  inflating: myntradataset/images/6771.jpg  \n",
            "  inflating: myntradataset/images/6772.jpg  \n",
            "  inflating: myntradataset/images/6773.jpg  \n",
            "  inflating: myntradataset/images/6774.jpg  \n",
            "  inflating: myntradataset/images/6775.jpg  \n",
            "  inflating: myntradataset/images/6776.jpg  \n",
            "  inflating: myntradataset/images/6777.jpg  \n",
            "  inflating: myntradataset/images/6778.jpg  \n",
            "  inflating: myntradataset/images/6779.jpg  \n",
            "  inflating: myntradataset/images/6780.jpg  \n",
            "  inflating: myntradataset/images/6781.jpg  \n",
            "  inflating: myntradataset/images/6782.jpg  \n",
            "  inflating: myntradataset/images/6783.jpg  \n",
            "  inflating: myntradataset/images/6784.jpg  \n",
            "  inflating: myntradataset/images/6785.jpg  \n",
            "  inflating: myntradataset/images/6786.jpg  \n",
            "  inflating: myntradataset/images/6787.jpg  \n",
            "  inflating: myntradataset/images/6788.jpg  \n",
            "  inflating: myntradataset/images/6789.jpg  \n",
            "  inflating: myntradataset/images/6790.jpg  \n",
            "  inflating: myntradataset/images/6791.jpg  \n",
            "  inflating: myntradataset/images/6792.jpg  \n",
            "  inflating: myntradataset/images/6793.jpg  \n",
            "  inflating: myntradataset/images/6794.jpg  \n",
            "  inflating: myntradataset/images/6795.jpg  \n",
            "  inflating: myntradataset/images/6796.jpg  \n",
            "  inflating: myntradataset/images/6797.jpg  \n",
            "  inflating: myntradataset/images/6798.jpg  \n",
            "  inflating: myntradataset/images/6799.jpg  \n",
            "  inflating: myntradataset/images/6800.jpg  \n",
            "  inflating: myntradataset/images/6801.jpg  \n",
            "  inflating: myntradataset/images/6802.jpg  \n",
            "  inflating: myntradataset/images/6803.jpg  \n",
            "  inflating: myntradataset/images/6804.jpg  \n",
            "  inflating: myntradataset/images/6805.jpg  \n",
            "  inflating: myntradataset/images/6806.jpg  \n",
            "  inflating: myntradataset/images/6807.jpg  \n",
            "  inflating: myntradataset/images/6808.jpg  \n",
            "  inflating: myntradataset/images/6809.jpg  \n",
            "  inflating: myntradataset/images/6810.jpg  \n",
            "  inflating: myntradataset/images/6811.jpg  \n",
            "  inflating: myntradataset/images/6812.jpg  \n",
            "  inflating: myntradataset/images/6813.jpg  \n",
            "  inflating: myntradataset/images/6814.jpg  \n",
            "  inflating: myntradataset/images/6815.jpg  \n",
            "  inflating: myntradataset/images/6816.jpg  \n",
            "  inflating: myntradataset/images/6817.jpg  \n",
            "  inflating: myntradataset/images/6818.jpg  \n",
            "  inflating: myntradataset/images/6819.jpg  \n",
            "  inflating: myntradataset/images/6820.jpg  \n",
            "  inflating: myntradataset/images/6821.jpg  \n",
            "  inflating: myntradataset/images/6822.jpg  \n",
            "  inflating: myntradataset/images/6823.jpg  \n",
            "  inflating: myntradataset/images/6824.jpg  \n",
            "  inflating: myntradataset/images/6825.jpg  \n",
            "  inflating: myntradataset/images/6826.jpg  \n",
            "  inflating: myntradataset/images/6827.jpg  \n",
            "  inflating: myntradataset/images/6829.jpg  \n",
            "  inflating: myntradataset/images/6830.jpg  \n",
            "  inflating: myntradataset/images/6831.jpg  \n",
            "  inflating: myntradataset/images/6832.jpg  \n",
            "  inflating: myntradataset/images/6833.jpg  \n",
            "  inflating: myntradataset/images/6834.jpg  \n",
            "  inflating: myntradataset/images/6835.jpg  \n",
            "  inflating: myntradataset/images/6836.jpg  \n",
            "  inflating: myntradataset/images/6837.jpg  \n",
            "  inflating: myntradataset/images/6838.jpg  \n",
            "  inflating: myntradataset/images/6839.jpg  \n",
            "  inflating: myntradataset/images/6840.jpg  \n",
            "  inflating: myntradataset/images/6841.jpg  \n",
            "  inflating: myntradataset/images/6842.jpg  \n",
            "  inflating: myntradataset/images/6843.jpg  \n",
            "  inflating: myntradataset/images/6844.jpg  \n",
            "  inflating: myntradataset/images/6845.jpg  \n",
            "  inflating: myntradataset/images/6848.jpg  \n",
            "  inflating: myntradataset/images/6852.jpg  \n",
            "  inflating: myntradataset/images/6853.jpg  \n",
            "  inflating: myntradataset/images/6854.jpg  \n",
            "  inflating: myntradataset/images/6855.jpg  \n",
            "  inflating: myntradataset/images/6856.jpg  \n",
            "  inflating: myntradataset/images/6857.jpg  \n",
            "  inflating: myntradataset/images/6859.jpg  \n",
            "  inflating: myntradataset/images/6860.jpg  \n",
            "  inflating: myntradataset/images/6861.jpg  \n",
            "  inflating: myntradataset/images/6862.jpg  \n",
            "  inflating: myntradataset/images/6863.jpg  \n",
            "  inflating: myntradataset/images/6864.jpg  \n",
            "  inflating: myntradataset/images/6865.jpg  \n",
            "  inflating: myntradataset/images/6866.jpg  \n",
            "  inflating: myntradataset/images/6867.jpg  \n",
            "  inflating: myntradataset/images/6868.jpg  \n",
            "  inflating: myntradataset/images/6869.jpg  \n",
            "  inflating: myntradataset/images/6870.jpg  \n",
            "  inflating: myntradataset/images/6871.jpg  \n",
            "  inflating: myntradataset/images/6872.jpg  \n",
            "  inflating: myntradataset/images/6873.jpg  \n",
            "  inflating: myntradataset/images/6874.jpg  \n",
            "  inflating: myntradataset/images/6875.jpg  \n",
            "  inflating: myntradataset/images/6876.jpg  \n",
            "  inflating: myntradataset/images/6877.jpg  \n",
            "  inflating: myntradataset/images/6878.jpg  \n",
            "  inflating: myntradataset/images/6879.jpg  \n",
            "  inflating: myntradataset/images/6880.jpg  \n",
            "  inflating: myntradataset/images/6881.jpg  \n",
            "  inflating: myntradataset/images/6882.jpg  \n",
            "  inflating: myntradataset/images/6883.jpg  \n",
            "  inflating: myntradataset/images/6884.jpg  \n",
            "  inflating: myntradataset/images/6885.jpg  \n",
            "  inflating: myntradataset/images/6886.jpg  \n",
            "  inflating: myntradataset/images/6887.jpg  \n",
            "  inflating: myntradataset/images/6888.jpg  \n",
            "  inflating: myntradataset/images/6889.jpg  \n",
            "  inflating: myntradataset/images/6890.jpg  \n",
            "  inflating: myntradataset/images/6891.jpg  \n",
            "  inflating: myntradataset/images/6892.jpg  \n",
            "  inflating: myntradataset/images/6893.jpg  \n",
            "  inflating: myntradataset/images/6894.jpg  \n",
            "  inflating: myntradataset/images/6895.jpg  \n",
            "  inflating: myntradataset/images/6896.jpg  \n",
            "  inflating: myntradataset/images/6897.jpg  \n",
            "  inflating: myntradataset/images/6898.jpg  \n",
            "  inflating: myntradataset/images/6899.jpg  \n",
            "  inflating: myntradataset/images/6900.jpg  \n",
            "  inflating: myntradataset/images/6901.jpg  \n",
            "  inflating: myntradataset/images/6902.jpg  \n",
            "  inflating: myntradataset/images/6903.jpg  \n",
            "  inflating: myntradataset/images/6904.jpg  \n",
            "  inflating: myntradataset/images/6905.jpg  \n",
            "  inflating: myntradataset/images/6906.jpg  \n",
            "  inflating: myntradataset/images/6907.jpg  \n",
            "  inflating: myntradataset/images/6908.jpg  \n",
            "  inflating: myntradataset/images/6909.jpg  \n",
            "  inflating: myntradataset/images/6910.jpg  \n",
            "  inflating: myntradataset/images/6911.jpg  \n",
            "  inflating: myntradataset/images/6912.jpg  \n",
            "  inflating: myntradataset/images/6913.jpg  \n",
            "  inflating: myntradataset/images/6914.jpg  \n",
            "  inflating: myntradataset/images/6915.jpg  \n",
            "  inflating: myntradataset/images/6918.jpg  \n",
            "  inflating: myntradataset/images/6924.jpg  \n",
            "  inflating: myntradataset/images/6926.jpg  \n",
            "  inflating: myntradataset/images/6928.jpg  \n",
            "  inflating: myntradataset/images/6929.jpg  \n",
            "  inflating: myntradataset/images/6930.jpg  \n",
            "  inflating: myntradataset/images/6931.jpg  \n",
            "  inflating: myntradataset/images/6932.jpg  \n",
            "  inflating: myntradataset/images/6933.jpg  \n",
            "  inflating: myntradataset/images/6934.jpg  \n",
            "  inflating: myntradataset/images/6935.jpg  \n",
            "  inflating: myntradataset/images/6936.jpg  \n",
            "  inflating: myntradataset/images/6937.jpg  \n",
            "  inflating: myntradataset/images/6938.jpg  \n",
            "  inflating: myntradataset/images/6939.jpg  \n",
            "  inflating: myntradataset/images/6940.jpg  \n",
            "  inflating: myntradataset/images/6941.jpg  \n",
            "  inflating: myntradataset/images/6943.jpg  \n",
            "  inflating: myntradataset/images/6944.jpg  \n",
            "  inflating: myntradataset/images/6945.jpg  \n",
            "  inflating: myntradataset/images/6946.jpg  \n",
            "  inflating: myntradataset/images/6947.jpg  \n",
            "  inflating: myntradataset/images/6948.jpg  \n",
            "  inflating: myntradataset/images/6949.jpg  \n",
            "  inflating: myntradataset/images/6950.jpg  \n",
            "  inflating: myntradataset/images/6951.jpg  \n",
            "  inflating: myntradataset/images/6952.jpg  \n",
            "  inflating: myntradataset/images/6953.jpg  \n",
            "  inflating: myntradataset/images/6954.jpg  \n",
            "  inflating: myntradataset/images/6956.jpg  \n",
            "  inflating: myntradataset/images/6958.jpg  \n",
            "  inflating: myntradataset/images/6961.jpg  \n",
            "  inflating: myntradataset/images/6962.jpg  \n",
            "  inflating: myntradataset/images/6963.jpg  \n",
            "  inflating: myntradataset/images/6965.jpg  \n",
            "  inflating: myntradataset/images/6966.jpg  \n",
            "  inflating: myntradataset/images/6967.jpg  \n",
            "  inflating: myntradataset/images/6969.jpg  \n",
            "  inflating: myntradataset/images/6971.jpg  \n",
            "  inflating: myntradataset/images/6972.jpg  \n",
            "  inflating: myntradataset/images/6973.jpg  \n",
            "  inflating: myntradataset/images/6974.jpg  \n",
            "  inflating: myntradataset/images/6977.jpg  \n",
            "  inflating: myntradataset/images/6979.jpg  \n",
            "  inflating: myntradataset/images/6980.jpg  \n",
            "  inflating: myntradataset/images/6981.jpg  \n",
            "  inflating: myntradataset/images/6982.jpg  \n",
            "  inflating: myntradataset/images/6983.jpg  \n",
            "  inflating: myntradataset/images/6984.jpg  \n",
            "  inflating: myntradataset/images/6985.jpg  \n",
            "  inflating: myntradataset/images/6986.jpg  \n",
            "  inflating: myntradataset/images/6987.jpg  \n",
            "  inflating: myntradataset/images/6988.jpg  \n",
            "  inflating: myntradataset/images/6990.jpg  \n",
            "  inflating: myntradataset/images/6991.jpg  \n",
            "  inflating: myntradataset/images/6994.jpg  \n",
            "  inflating: myntradataset/images/6995.jpg  \n",
            "  inflating: myntradataset/images/6996.jpg  \n",
            "  inflating: myntradataset/images/6997.jpg  \n",
            "  inflating: myntradataset/images/6998.jpg  \n",
            "  inflating: myntradataset/images/6999.jpg  \n",
            "  inflating: myntradataset/images/7000.jpg  \n",
            "  inflating: myntradataset/images/7001.jpg  \n",
            "  inflating: myntradataset/images/7002.jpg  \n",
            "  inflating: myntradataset/images/7003.jpg  \n",
            "  inflating: myntradataset/images/7004.jpg  \n",
            "  inflating: myntradataset/images/7005.jpg  \n",
            "  inflating: myntradataset/images/7006.jpg  \n",
            "  inflating: myntradataset/images/7007.jpg  \n",
            "  inflating: myntradataset/images/7008.jpg  \n",
            "  inflating: myntradataset/images/7009.jpg  \n",
            "  inflating: myntradataset/images/7010.jpg  \n",
            "  inflating: myntradataset/images/7011.jpg  \n",
            "  inflating: myntradataset/images/7012.jpg  \n",
            "  inflating: myntradataset/images/7013.jpg  \n",
            "  inflating: myntradataset/images/7015.jpg  \n",
            "  inflating: myntradataset/images/7017.jpg  \n",
            "  inflating: myntradataset/images/7019.jpg  \n",
            "  inflating: myntradataset/images/7020.jpg  \n",
            "  inflating: myntradataset/images/7021.jpg  \n",
            "  inflating: myntradataset/images/7023.jpg  \n",
            "  inflating: myntradataset/images/7025.jpg  \n",
            "  inflating: myntradataset/images/7026.jpg  \n",
            "  inflating: myntradataset/images/7027.jpg  \n",
            "  inflating: myntradataset/images/7028.jpg  \n",
            "  inflating: myntradataset/images/7029.jpg  \n",
            "  inflating: myntradataset/images/7030.jpg  \n",
            "  inflating: myntradataset/images/7031.jpg  \n",
            "  inflating: myntradataset/images/7032.jpg  \n",
            "  inflating: myntradataset/images/7035.jpg  \n",
            "  inflating: myntradataset/images/7036.jpg  \n",
            "  inflating: myntradataset/images/7037.jpg  \n",
            "  inflating: myntradataset/images/7038.jpg  \n",
            "  inflating: myntradataset/images/7039.jpg  \n",
            "  inflating: myntradataset/images/7040.jpg  \n",
            "  inflating: myntradataset/images/7041.jpg  \n",
            "  inflating: myntradataset/images/7042.jpg  \n",
            "  inflating: myntradataset/images/7043.jpg  \n",
            "  inflating: myntradataset/images/7044.jpg  \n",
            "  inflating: myntradataset/images/7045.jpg  \n",
            "  inflating: myntradataset/images/7046.jpg  \n",
            "  inflating: myntradataset/images/7047.jpg  \n",
            "  inflating: myntradataset/images/7048.jpg  \n",
            "  inflating: myntradataset/images/7049.jpg  \n",
            "  inflating: myntradataset/images/7051.jpg  \n",
            "  inflating: myntradataset/images/7053.jpg  \n",
            "  inflating: myntradataset/images/7054.jpg  \n",
            "  inflating: myntradataset/images/7055.jpg  \n",
            "  inflating: myntradataset/images/7056.jpg  \n",
            "  inflating: myntradataset/images/7057.jpg  \n",
            "  inflating: myntradataset/images/7058.jpg  \n",
            "  inflating: myntradataset/images/7059.jpg  \n",
            "  inflating: myntradataset/images/7060.jpg  \n",
            "  inflating: myntradataset/images/7061.jpg  \n",
            "  inflating: myntradataset/images/7062.jpg  \n",
            "  inflating: myntradataset/images/7063.jpg  \n",
            "  inflating: myntradataset/images/7064.jpg  \n",
            "  inflating: myntradataset/images/7065.jpg  \n",
            "  inflating: myntradataset/images/7066.jpg  \n",
            "  inflating: myntradataset/images/7067.jpg  \n",
            "  inflating: myntradataset/images/7068.jpg  \n",
            "  inflating: myntradataset/images/7069.jpg  \n",
            "  inflating: myntradataset/images/7070.jpg  \n",
            "  inflating: myntradataset/images/7071.jpg  \n",
            "  inflating: myntradataset/images/7072.jpg  \n",
            "  inflating: myntradataset/images/7073.jpg  \n",
            "  inflating: myntradataset/images/7074.jpg  \n",
            "  inflating: myntradataset/images/7075.jpg  \n",
            "  inflating: myntradataset/images/7076.jpg  \n",
            "  inflating: myntradataset/images/7077.jpg  \n",
            "  inflating: myntradataset/images/7078.jpg  \n",
            "  inflating: myntradataset/images/7079.jpg  \n",
            "  inflating: myntradataset/images/7080.jpg  \n",
            "  inflating: myntradataset/images/7081.jpg  \n",
            "  inflating: myntradataset/images/7082.jpg  \n",
            "  inflating: myntradataset/images/7083.jpg  \n",
            "  inflating: myntradataset/images/7084.jpg  \n",
            "  inflating: myntradataset/images/7085.jpg  \n",
            "  inflating: myntradataset/images/7086.jpg  \n",
            "  inflating: myntradataset/images/7087.jpg  \n",
            "  inflating: myntradataset/images/7088.jpg  \n",
            "  inflating: myntradataset/images/7089.jpg  \n",
            "  inflating: myntradataset/images/7090.jpg  \n",
            "  inflating: myntradataset/images/7091.jpg  \n",
            "  inflating: myntradataset/images/7092.jpg  \n",
            "  inflating: myntradataset/images/7093.jpg  \n",
            "  inflating: myntradataset/images/7096.jpg  \n",
            "  inflating: myntradataset/images/7097.jpg  \n",
            "  inflating: myntradataset/images/7098.jpg  \n",
            "  inflating: myntradataset/images/7099.jpg  \n",
            "  inflating: myntradataset/images/7100.jpg  \n",
            "  inflating: myntradataset/images/7101.jpg  \n",
            "  inflating: myntradataset/images/7102.jpg  \n",
            "  inflating: myntradataset/images/7103.jpg  \n",
            "  inflating: myntradataset/images/7104.jpg  \n",
            "  inflating: myntradataset/images/7105.jpg  \n",
            "  inflating: myntradataset/images/7106.jpg  \n",
            "  inflating: myntradataset/images/7107.jpg  \n",
            "  inflating: myntradataset/images/7108.jpg  \n",
            "  inflating: myntradataset/images/7109.jpg  \n",
            "  inflating: myntradataset/images/7110.jpg  \n",
            "  inflating: myntradataset/images/7111.jpg  \n",
            "  inflating: myntradataset/images/7112.jpg  \n",
            "  inflating: myntradataset/images/7113.jpg  \n",
            "  inflating: myntradataset/images/7114.jpg  \n",
            "  inflating: myntradataset/images/7115.jpg  \n",
            "  inflating: myntradataset/images/7116.jpg  \n",
            "  inflating: myntradataset/images/7117.jpg  \n",
            "  inflating: myntradataset/images/7118.jpg  \n",
            "  inflating: myntradataset/images/7119.jpg  \n",
            "  inflating: myntradataset/images/7120.jpg  \n",
            "  inflating: myntradataset/images/7121.jpg  \n",
            "  inflating: myntradataset/images/7122.jpg  \n",
            "  inflating: myntradataset/images/7123.jpg  \n",
            "  inflating: myntradataset/images/7124.jpg  \n",
            "  inflating: myntradataset/images/7126.jpg  \n",
            "  inflating: myntradataset/images/7127.jpg  \n",
            "  inflating: myntradataset/images/7128.jpg  \n",
            "  inflating: myntradataset/images/7129.jpg  \n",
            "  inflating: myntradataset/images/7130.jpg  \n",
            "  inflating: myntradataset/images/7131.jpg  \n",
            "  inflating: myntradataset/images/7132.jpg  \n",
            "  inflating: myntradataset/images/7133.jpg  \n",
            "  inflating: myntradataset/images/7134.jpg  \n",
            "  inflating: myntradataset/images/7135.jpg  \n",
            "  inflating: myntradataset/images/7136.jpg  \n",
            "  inflating: myntradataset/images/7137.jpg  \n",
            "  inflating: myntradataset/images/7138.jpg  \n",
            "  inflating: myntradataset/images/7139.jpg  \n",
            "  inflating: myntradataset/images/7140.jpg  \n",
            "  inflating: myntradataset/images/7141.jpg  \n",
            "  inflating: myntradataset/images/7142.jpg  \n",
            "  inflating: myntradataset/images/7143.jpg  \n",
            "  inflating: myntradataset/images/7144.jpg  \n",
            "  inflating: myntradataset/images/7145.jpg  \n",
            "  inflating: myntradataset/images/7146.jpg  \n",
            "  inflating: myntradataset/images/7147.jpg  \n",
            "  inflating: myntradataset/images/7148.jpg  \n",
            "  inflating: myntradataset/images/7149.jpg  \n",
            "  inflating: myntradataset/images/7150.jpg  \n",
            "  inflating: myntradataset/images/7151.jpg  \n",
            "  inflating: myntradataset/images/7152.jpg  \n",
            "  inflating: myntradataset/images/7153.jpg  \n",
            "  inflating: myntradataset/images/7154.jpg  \n",
            "  inflating: myntradataset/images/7155.jpg  \n",
            "  inflating: myntradataset/images/7156.jpg  \n",
            "  inflating: myntradataset/images/7157.jpg  \n",
            "  inflating: myntradataset/images/7158.jpg  \n",
            "  inflating: myntradataset/images/7160.jpg  \n",
            "  inflating: myntradataset/images/7162.jpg  \n",
            "  inflating: myntradataset/images/7163.jpg  \n",
            "  inflating: myntradataset/images/7164.jpg  \n",
            "  inflating: myntradataset/images/7165.jpg  \n",
            "  inflating: myntradataset/images/7166.jpg  \n",
            "  inflating: myntradataset/images/7167.jpg  \n",
            "  inflating: myntradataset/images/7168.jpg  \n",
            "  inflating: myntradataset/images/7169.jpg  \n",
            "  inflating: myntradataset/images/7170.jpg  \n",
            "  inflating: myntradataset/images/7171.jpg  \n",
            "  inflating: myntradataset/images/7172.jpg  \n",
            "  inflating: myntradataset/images/7173.jpg  \n",
            "  inflating: myntradataset/images/7174.jpg  \n",
            "  inflating: myntradataset/images/7175.jpg  \n",
            "  inflating: myntradataset/images/7176.jpg  \n",
            "  inflating: myntradataset/images/7177.jpg  \n",
            "  inflating: myntradataset/images/7178.jpg  \n",
            "  inflating: myntradataset/images/7179.jpg  \n",
            "  inflating: myntradataset/images/7180.jpg  \n",
            "  inflating: myntradataset/images/7181.jpg  \n",
            "  inflating: myntradataset/images/7182.jpg  \n",
            "  inflating: myntradataset/images/7183.jpg  \n",
            "  inflating: myntradataset/images/7184.jpg  \n",
            "  inflating: myntradataset/images/7185.jpg  \n",
            "  inflating: myntradataset/images/7186.jpg  \n",
            "  inflating: myntradataset/images/7187.jpg  \n",
            "  inflating: myntradataset/images/7188.jpg  \n",
            "  inflating: myntradataset/images/7189.jpg  \n",
            "  inflating: myntradataset/images/7190.jpg  \n",
            "  inflating: myntradataset/images/7191.jpg  \n",
            "  inflating: myntradataset/images/7192.jpg  \n",
            "  inflating: myntradataset/images/7193.jpg  \n",
            "  inflating: myntradataset/images/7194.jpg  \n",
            "  inflating: myntradataset/images/7195.jpg  \n",
            "  inflating: myntradataset/images/7196.jpg  \n",
            "  inflating: myntradataset/images/7197.jpg  \n",
            "  inflating: myntradataset/images/7198.jpg  \n",
            "  inflating: myntradataset/images/7199.jpg  \n",
            "  inflating: myntradataset/images/7200.jpg  \n",
            "  inflating: myntradataset/images/7201.jpg  \n",
            "  inflating: myntradataset/images/7202.jpg  \n",
            "  inflating: myntradataset/images/7203.jpg  \n",
            "  inflating: myntradataset/images/7204.jpg  \n",
            "  inflating: myntradataset/images/7205.jpg  \n",
            "  inflating: myntradataset/images/7206.jpg  \n",
            "  inflating: myntradataset/images/7207.jpg  \n",
            "  inflating: myntradataset/images/7208.jpg  \n",
            "  inflating: myntradataset/images/7209.jpg  \n",
            "  inflating: myntradataset/images/7210.jpg  \n",
            "  inflating: myntradataset/images/7211.jpg  \n",
            "  inflating: myntradataset/images/7212.jpg  \n",
            "  inflating: myntradataset/images/7213.jpg  \n",
            "  inflating: myntradataset/images/7214.jpg  \n",
            "  inflating: myntradataset/images/7215.jpg  \n",
            "  inflating: myntradataset/images/7216.jpg  \n",
            "  inflating: myntradataset/images/7217.jpg  \n",
            "  inflating: myntradataset/images/7218.jpg  \n",
            "  inflating: myntradataset/images/7219.jpg  \n",
            "  inflating: myntradataset/images/7220.jpg  \n",
            "  inflating: myntradataset/images/7221.jpg  \n",
            "  inflating: myntradataset/images/7222.jpg  \n",
            "  inflating: myntradataset/images/7223.jpg  \n",
            "  inflating: myntradataset/images/7224.jpg  \n",
            "  inflating: myntradataset/images/7226.jpg  \n",
            "  inflating: myntradataset/images/7227.jpg  \n",
            "  inflating: myntradataset/images/7228.jpg  \n",
            "  inflating: myntradataset/images/7230.jpg  \n",
            "  inflating: myntradataset/images/7231.jpg  \n",
            "  inflating: myntradataset/images/7232.jpg  \n",
            "  inflating: myntradataset/images/7233.jpg  \n",
            "  inflating: myntradataset/images/7234.jpg  \n",
            "  inflating: myntradataset/images/7235.jpg  \n",
            "  inflating: myntradataset/images/7236.jpg  \n",
            "  inflating: myntradataset/images/7237.jpg  \n",
            "  inflating: myntradataset/images/7238.jpg  \n",
            "  inflating: myntradataset/images/7239.jpg  \n",
            "  inflating: myntradataset/images/7240.jpg  \n",
            "  inflating: myntradataset/images/7241.jpg  \n",
            "  inflating: myntradataset/images/7242.jpg  \n",
            "  inflating: myntradataset/images/7243.jpg  \n",
            "  inflating: myntradataset/images/7244.jpg  \n",
            "  inflating: myntradataset/images/7246.jpg  \n",
            "  inflating: myntradataset/images/7247.jpg  \n",
            "  inflating: myntradataset/images/7248.jpg  \n",
            "  inflating: myntradataset/images/7249.jpg  \n",
            "  inflating: myntradataset/images/7250.jpg  \n",
            "  inflating: myntradataset/images/7251.jpg  \n",
            "  inflating: myntradataset/images/7252.jpg  \n",
            "  inflating: myntradataset/images/7253.jpg  \n",
            "  inflating: myntradataset/images/7254.jpg  \n",
            "  inflating: myntradataset/images/7255.jpg  \n",
            "  inflating: myntradataset/images/7256.jpg  \n",
            "  inflating: myntradataset/images/7257.jpg  \n",
            "  inflating: myntradataset/images/7258.jpg  \n",
            "  inflating: myntradataset/images/7259.jpg  \n",
            "  inflating: myntradataset/images/7260.jpg  \n",
            "  inflating: myntradataset/images/7261.jpg  \n",
            "  inflating: myntradataset/images/7262.jpg  \n",
            "  inflating: myntradataset/images/7263.jpg  \n",
            "  inflating: myntradataset/images/7265.jpg  \n",
            "  inflating: myntradataset/images/7266.jpg  \n",
            "  inflating: myntradataset/images/7267.jpg  \n",
            "  inflating: myntradataset/images/7268.jpg  \n",
            "  inflating: myntradataset/images/7269.jpg  \n",
            "  inflating: myntradataset/images/7270.jpg  \n",
            "  inflating: myntradataset/images/7271.jpg  \n",
            "  inflating: myntradataset/images/7272.jpg  \n",
            "  inflating: myntradataset/images/7273.jpg  \n",
            "  inflating: myntradataset/images/7275.jpg  \n",
            "  inflating: myntradataset/images/7276.jpg  \n",
            "  inflating: myntradataset/images/7277.jpg  \n",
            "  inflating: myntradataset/images/7278.jpg  \n",
            "  inflating: myntradataset/images/7281.jpg  \n",
            "  inflating: myntradataset/images/7282.jpg  \n",
            "  inflating: myntradataset/images/7283.jpg  \n",
            "  inflating: myntradataset/images/7284.jpg  \n",
            "  inflating: myntradataset/images/7285.jpg  \n",
            "  inflating: myntradataset/images/7286.jpg  \n",
            "  inflating: myntradataset/images/7287.jpg  \n",
            "  inflating: myntradataset/images/7288.jpg  \n",
            "  inflating: myntradataset/images/7289.jpg  \n",
            "  inflating: myntradataset/images/7290.jpg  \n",
            "  inflating: myntradataset/images/7291.jpg  \n",
            "  inflating: myntradataset/images/7292.jpg  \n",
            "  inflating: myntradataset/images/7293.jpg  \n",
            "  inflating: myntradataset/images/7294.jpg  \n",
            "  inflating: myntradataset/images/7295.jpg  \n",
            "  inflating: myntradataset/images/7296.jpg  \n",
            "  inflating: myntradataset/images/7297.jpg  \n",
            "  inflating: myntradataset/images/7298.jpg  \n",
            "  inflating: myntradataset/images/7299.jpg  \n",
            "  inflating: myntradataset/images/7300.jpg  \n",
            "  inflating: myntradataset/images/7301.jpg  \n",
            "  inflating: myntradataset/images/7302.jpg  \n",
            "  inflating: myntradataset/images/7303.jpg  \n",
            "  inflating: myntradataset/images/7304.jpg  \n",
            "  inflating: myntradataset/images/7305.jpg  \n",
            "  inflating: myntradataset/images/7306.jpg  \n",
            "  inflating: myntradataset/images/7307.jpg  \n",
            "  inflating: myntradataset/images/7308.jpg  \n",
            "  inflating: myntradataset/images/7309.jpg  \n",
            "  inflating: myntradataset/images/7310.jpg  \n",
            "  inflating: myntradataset/images/7311.jpg  \n",
            "  inflating: myntradataset/images/7312.jpg  \n",
            "  inflating: myntradataset/images/7313.jpg  \n",
            "  inflating: myntradataset/images/7314.jpg  \n",
            "  inflating: myntradataset/images/7315.jpg  \n",
            "  inflating: myntradataset/images/7316.jpg  \n",
            "  inflating: myntradataset/images/7317.jpg  \n",
            "  inflating: myntradataset/images/7319.jpg  \n",
            "  inflating: myntradataset/images/7320.jpg  \n",
            "  inflating: myntradataset/images/7321.jpg  \n",
            "  inflating: myntradataset/images/7322.jpg  \n",
            "  inflating: myntradataset/images/7323.jpg  \n",
            "  inflating: myntradataset/images/7324.jpg  \n",
            "  inflating: myntradataset/images/7325.jpg  \n",
            "  inflating: myntradataset/images/7326.jpg  \n",
            "  inflating: myntradataset/images/7327.jpg  \n",
            "  inflating: myntradataset/images/7328.jpg  \n",
            "  inflating: myntradataset/images/7329.jpg  \n",
            "  inflating: myntradataset/images/7330.jpg  \n",
            "  inflating: myntradataset/images/7331.jpg  \n",
            "  inflating: myntradataset/images/7332.jpg  \n",
            "  inflating: myntradataset/images/7340.jpg  \n",
            "  inflating: myntradataset/images/7341.jpg  \n",
            "  inflating: myntradataset/images/7342.jpg  \n",
            "  inflating: myntradataset/images/7343.jpg  \n",
            "  inflating: myntradataset/images/7345.jpg  \n",
            "  inflating: myntradataset/images/7346.jpg  \n",
            "  inflating: myntradataset/images/7347.jpg  \n",
            "  inflating: myntradataset/images/7348.jpg  \n",
            "  inflating: myntradataset/images/7349.jpg  \n",
            "  inflating: myntradataset/images/7350.jpg  \n",
            "  inflating: myntradataset/images/7351.jpg  \n",
            "  inflating: myntradataset/images/7352.jpg  \n",
            "  inflating: myntradataset/images/7353.jpg  \n",
            "  inflating: myntradataset/images/7355.jpg  \n",
            "  inflating: myntradataset/images/7357.jpg  \n",
            "  inflating: myntradataset/images/7359.jpg  \n",
            "  inflating: myntradataset/images/7362.jpg  \n",
            "  inflating: myntradataset/images/7363.jpg  \n",
            "  inflating: myntradataset/images/7364.jpg  \n",
            "  inflating: myntradataset/images/7365.jpg  \n",
            "  inflating: myntradataset/images/7366.jpg  \n",
            "  inflating: myntradataset/images/7367.jpg  \n",
            "  inflating: myntradataset/images/7368.jpg  \n",
            "  inflating: myntradataset/images/7369.jpg  \n",
            "  inflating: myntradataset/images/7370.jpg  \n",
            "  inflating: myntradataset/images/7371.jpg  \n",
            "  inflating: myntradataset/images/7372.jpg  \n",
            "  inflating: myntradataset/images/7373.jpg  \n",
            "  inflating: myntradataset/images/7374.jpg  \n",
            "  inflating: myntradataset/images/7375.jpg  \n",
            "  inflating: myntradataset/images/7376.jpg  \n",
            "  inflating: myntradataset/images/7377.jpg  \n",
            "  inflating: myntradataset/images/7378.jpg  \n",
            "  inflating: myntradataset/images/7379.jpg  \n",
            "  inflating: myntradataset/images/7380.jpg  \n",
            "  inflating: myntradataset/images/7381.jpg  \n",
            "  inflating: myntradataset/images/7382.jpg  \n",
            "  inflating: myntradataset/images/7383.jpg  \n",
            "  inflating: myntradataset/images/7384.jpg  \n",
            "  inflating: myntradataset/images/7385.jpg  \n",
            "  inflating: myntradataset/images/7386.jpg  \n",
            "  inflating: myntradataset/images/7387.jpg  \n",
            "  inflating: myntradataset/images/7388.jpg  \n",
            "  inflating: myntradataset/images/7389.jpg  \n",
            "  inflating: myntradataset/images/7390.jpg  \n",
            "  inflating: myntradataset/images/7391.jpg  \n",
            "  inflating: myntradataset/images/7392.jpg  \n",
            "  inflating: myntradataset/images/7393.jpg  \n",
            "  inflating: myntradataset/images/7394.jpg  \n",
            "  inflating: myntradataset/images/7395.jpg  \n",
            "  inflating: myntradataset/images/7396.jpg  \n",
            "  inflating: myntradataset/images/7397.jpg  \n",
            "  inflating: myntradataset/images/7398.jpg  \n",
            "  inflating: myntradataset/images/7399.jpg  \n",
            "  inflating: myntradataset/images/7400.jpg  \n",
            "  inflating: myntradataset/images/7401.jpg  \n",
            "  inflating: myntradataset/images/7402.jpg  \n",
            "  inflating: myntradataset/images/7403.jpg  \n",
            "  inflating: myntradataset/images/7404.jpg  \n",
            "  inflating: myntradataset/images/7405.jpg  \n",
            "  inflating: myntradataset/images/7406.jpg  \n",
            "  inflating: myntradataset/images/7407.jpg  \n",
            "  inflating: myntradataset/images/7408.jpg  \n",
            "  inflating: myntradataset/images/7409.jpg  \n",
            "  inflating: myntradataset/images/7410.jpg  \n",
            "  inflating: myntradataset/images/7411.jpg  \n",
            "  inflating: myntradataset/images/7412.jpg  \n",
            "  inflating: myntradataset/images/7413.jpg  \n",
            "  inflating: myntradataset/images/7414.jpg  \n",
            "  inflating: myntradataset/images/7415.jpg  \n",
            "  inflating: myntradataset/images/7416.jpg  \n",
            "  inflating: myntradataset/images/7417.jpg  \n",
            "  inflating: myntradataset/images/7418.jpg  \n",
            "  inflating: myntradataset/images/7419.jpg  \n",
            "  inflating: myntradataset/images/7420.jpg  \n",
            "  inflating: myntradataset/images/7421.jpg  \n",
            "  inflating: myntradataset/images/7422.jpg  \n",
            "  inflating: myntradataset/images/7423.jpg  \n",
            "  inflating: myntradataset/images/7424.jpg  \n",
            "  inflating: myntradataset/images/7425.jpg  \n",
            "  inflating: myntradataset/images/7426.jpg  \n",
            "  inflating: myntradataset/images/7427.jpg  \n",
            "  inflating: myntradataset/images/7428.jpg  \n",
            "  inflating: myntradataset/images/7429.jpg  \n",
            "  inflating: myntradataset/images/7430.jpg  \n",
            "  inflating: myntradataset/images/7431.jpg  \n",
            "  inflating: myntradataset/images/7432.jpg  \n",
            "  inflating: myntradataset/images/7433.jpg  \n",
            "  inflating: myntradataset/images/7434.jpg  \n",
            "  inflating: myntradataset/images/7435.jpg  \n",
            "  inflating: myntradataset/images/7436.jpg  \n",
            "  inflating: myntradataset/images/7437.jpg  \n",
            "  inflating: myntradataset/images/7438.jpg  \n",
            "  inflating: myntradataset/images/7439.jpg  \n",
            "  inflating: myntradataset/images/7440.jpg  \n",
            "  inflating: myntradataset/images/7441.jpg  \n",
            "  inflating: myntradataset/images/7442.jpg  \n",
            "  inflating: myntradataset/images/7443.jpg  \n",
            "  inflating: myntradataset/images/7445.jpg  \n",
            "  inflating: myntradataset/images/7446.jpg  \n",
            "  inflating: myntradataset/images/7447.jpg  \n",
            "  inflating: myntradataset/images/7449.jpg  \n",
            "  inflating: myntradataset/images/7450.jpg  \n",
            "  inflating: myntradataset/images/7451.jpg  \n",
            "  inflating: myntradataset/images/7452.jpg  \n",
            "  inflating: myntradataset/images/7453.jpg  \n",
            "  inflating: myntradataset/images/7454.jpg  \n",
            "  inflating: myntradataset/images/7455.jpg  \n",
            "  inflating: myntradataset/images/7456.jpg  \n",
            "  inflating: myntradataset/images/7457.jpg  \n",
            "  inflating: myntradataset/images/7458.jpg  \n",
            "  inflating: myntradataset/images/7459.jpg  \n",
            "  inflating: myntradataset/images/7460.jpg  \n",
            "  inflating: myntradataset/images/7462.jpg  \n",
            "  inflating: myntradataset/images/7463.jpg  \n",
            "  inflating: myntradataset/images/7465.jpg  \n",
            "  inflating: myntradataset/images/7467.jpg  \n",
            "  inflating: myntradataset/images/7468.jpg  \n",
            "  inflating: myntradataset/images/7469.jpg  \n",
            "  inflating: myntradataset/images/7470.jpg  \n",
            "  inflating: myntradataset/images/7471.jpg  \n",
            "  inflating: myntradataset/images/7472.jpg  \n",
            "  inflating: myntradataset/images/7473.jpg  \n",
            "  inflating: myntradataset/images/7475.jpg  \n",
            "  inflating: myntradataset/images/7476.jpg  \n",
            "  inflating: myntradataset/images/7479.jpg  \n",
            "  inflating: myntradataset/images/7480.jpg  \n",
            "  inflating: myntradataset/images/7481.jpg  \n",
            "  inflating: myntradataset/images/7482.jpg  \n",
            "  inflating: myntradataset/images/7483.jpg  \n",
            "  inflating: myntradataset/images/7484.jpg  \n",
            "  inflating: myntradataset/images/7486.jpg  \n",
            "  inflating: myntradataset/images/7487.jpg  \n",
            "  inflating: myntradataset/images/7488.jpg  \n",
            "  inflating: myntradataset/images/7489.jpg  \n",
            "  inflating: myntradataset/images/7490.jpg  \n",
            "  inflating: myntradataset/images/7491.jpg  \n",
            "  inflating: myntradataset/images/7492.jpg  \n",
            "  inflating: myntradataset/images/7493.jpg  \n",
            "  inflating: myntradataset/images/7494.jpg  \n",
            "  inflating: myntradataset/images/7495.jpg  \n",
            "  inflating: myntradataset/images/7496.jpg  \n",
            "  inflating: myntradataset/images/7497.jpg  \n",
            "  inflating: myntradataset/images/7498.jpg  \n",
            "  inflating: myntradataset/images/7499.jpg  \n",
            "  inflating: myntradataset/images/7500.jpg  \n",
            "  inflating: myntradataset/images/7501.jpg  \n",
            "  inflating: myntradataset/images/7502.jpg  \n",
            "  inflating: myntradataset/images/7503.jpg  \n",
            "  inflating: myntradataset/images/7504.jpg  \n",
            "  inflating: myntradataset/images/7505.jpg  \n",
            "  inflating: myntradataset/images/7506.jpg  \n",
            "  inflating: myntradataset/images/7507.jpg  \n",
            "  inflating: myntradataset/images/7508.jpg  \n",
            "  inflating: myntradataset/images/7509.jpg  \n",
            "  inflating: myntradataset/images/7510.jpg  \n",
            "  inflating: myntradataset/images/7511.jpg  \n",
            "  inflating: myntradataset/images/7512.jpg  \n",
            "  inflating: myntradataset/images/7513.jpg  \n",
            "  inflating: myntradataset/images/7514.jpg  \n",
            "  inflating: myntradataset/images/7515.jpg  \n",
            "  inflating: myntradataset/images/7516.jpg  \n",
            "  inflating: myntradataset/images/7517.jpg  \n",
            "  inflating: myntradataset/images/7518.jpg  \n",
            "  inflating: myntradataset/images/7519.jpg  \n",
            "  inflating: myntradataset/images/7520.jpg  \n",
            "  inflating: myntradataset/images/7521.jpg  \n",
            "  inflating: myntradataset/images/7522.jpg  \n",
            "  inflating: myntradataset/images/7523.jpg  \n",
            "  inflating: myntradataset/images/7524.jpg  \n",
            "  inflating: myntradataset/images/7525.jpg  \n",
            "  inflating: myntradataset/images/7526.jpg  \n",
            "  inflating: myntradataset/images/7527.jpg  \n",
            "  inflating: myntradataset/images/7528.jpg  \n",
            "  inflating: myntradataset/images/7529.jpg  \n",
            "  inflating: myntradataset/images/7530.jpg  \n",
            "  inflating: myntradataset/images/7531.jpg  \n",
            "  inflating: myntradataset/images/7532.jpg  \n",
            "  inflating: myntradataset/images/7533.jpg  \n",
            "  inflating: myntradataset/images/7534.jpg  \n",
            "  inflating: myntradataset/images/7535.jpg  \n",
            "  inflating: myntradataset/images/7536.jpg  \n",
            "  inflating: myntradataset/images/7537.jpg  \n",
            "  inflating: myntradataset/images/7538.jpg  \n",
            "  inflating: myntradataset/images/7539.jpg  \n",
            "  inflating: myntradataset/images/7540.jpg  \n",
            "  inflating: myntradataset/images/7541.jpg  \n",
            "  inflating: myntradataset/images/7542.jpg  \n",
            "  inflating: myntradataset/images/7543.jpg  \n",
            "  inflating: myntradataset/images/7544.jpg  \n",
            "  inflating: myntradataset/images/7545.jpg  \n",
            "  inflating: myntradataset/images/7546.jpg  \n",
            "  inflating: myntradataset/images/7547.jpg  \n",
            "  inflating: myntradataset/images/7548.jpg  \n",
            "  inflating: myntradataset/images/7549.jpg  \n",
            "  inflating: myntradataset/images/7550.jpg  \n",
            "  inflating: myntradataset/images/7551.jpg  \n",
            "  inflating: myntradataset/images/7552.jpg  \n",
            "  inflating: myntradataset/images/7553.jpg  \n",
            "  inflating: myntradataset/images/7554.jpg  \n",
            "  inflating: myntradataset/images/7555.jpg  \n",
            "  inflating: myntradataset/images/7556.jpg  \n",
            "  inflating: myntradataset/images/7557.jpg  \n",
            "  inflating: myntradataset/images/7558.jpg  \n",
            "  inflating: myntradataset/images/7559.jpg  \n",
            "  inflating: myntradataset/images/7560.jpg  \n",
            "  inflating: myntradataset/images/7561.jpg  \n",
            "  inflating: myntradataset/images/7562.jpg  \n",
            "  inflating: myntradataset/images/7563.jpg  \n",
            "  inflating: myntradataset/images/7564.jpg  \n",
            "  inflating: myntradataset/images/7565.jpg  \n",
            "  inflating: myntradataset/images/7566.jpg  \n",
            "  inflating: myntradataset/images/7567.jpg  \n",
            "  inflating: myntradataset/images/7568.jpg  \n",
            "  inflating: myntradataset/images/7569.jpg  \n",
            "  inflating: myntradataset/images/7570.jpg  \n",
            "  inflating: myntradataset/images/7571.jpg  \n",
            "  inflating: myntradataset/images/7572.jpg  \n",
            "  inflating: myntradataset/images/7573.jpg  \n",
            "  inflating: myntradataset/images/7574.jpg  \n",
            "  inflating: myntradataset/images/7575.jpg  \n",
            "  inflating: myntradataset/images/7576.jpg  \n",
            "  inflating: myntradataset/images/7577.jpg  \n",
            "  inflating: myntradataset/images/7578.jpg  \n",
            "  inflating: myntradataset/images/7579.jpg  \n",
            "  inflating: myntradataset/images/7580.jpg  \n",
            "  inflating: myntradataset/images/7581.jpg  \n",
            "  inflating: myntradataset/images/7582.jpg  \n",
            "  inflating: myntradataset/images/7583.jpg  \n",
            "  inflating: myntradataset/images/7584.jpg  \n",
            "  inflating: myntradataset/images/7585.jpg  \n",
            "  inflating: myntradataset/images/7586.jpg  \n",
            "  inflating: myntradataset/images/7587.jpg  \n",
            "  inflating: myntradataset/images/7588.jpg  \n",
            "  inflating: myntradataset/images/7589.jpg  \n",
            "  inflating: myntradataset/images/7590.jpg  \n",
            "  inflating: myntradataset/images/7591.jpg  \n",
            "  inflating: myntradataset/images/7592.jpg  \n",
            "  inflating: myntradataset/images/7593.jpg  \n",
            "  inflating: myntradataset/images/7594.jpg  \n",
            "  inflating: myntradataset/images/7595.jpg  \n",
            "  inflating: myntradataset/images/7596.jpg  \n",
            "  inflating: myntradataset/images/7597.jpg  \n",
            "  inflating: myntradataset/images/7598.jpg  \n",
            "  inflating: myntradataset/images/7599.jpg  \n",
            "  inflating: myntradataset/images/7600.jpg  \n",
            "  inflating: myntradataset/images/7601.jpg  \n",
            "  inflating: myntradataset/images/7602.jpg  \n",
            "  inflating: myntradataset/images/7603.jpg  \n",
            "  inflating: myntradataset/images/7604.jpg  \n",
            "  inflating: myntradataset/images/7605.jpg  \n",
            "  inflating: myntradataset/images/7606.jpg  \n",
            "  inflating: myntradataset/images/7607.jpg  \n",
            "  inflating: myntradataset/images/7608.jpg  \n",
            "  inflating: myntradataset/images/7609.jpg  \n",
            "  inflating: myntradataset/images/7610.jpg  \n",
            "  inflating: myntradataset/images/7611.jpg  \n",
            "  inflating: myntradataset/images/7612.jpg  \n",
            "  inflating: myntradataset/images/7613.jpg  \n",
            "  inflating: myntradataset/images/7614.jpg  \n",
            "  inflating: myntradataset/images/7615.jpg  \n",
            "  inflating: myntradataset/images/7616.jpg  \n",
            "  inflating: myntradataset/images/7617.jpg  \n",
            "  inflating: myntradataset/images/7618.jpg  \n",
            "  inflating: myntradataset/images/7619.jpg  \n",
            "  inflating: myntradataset/images/7621.jpg  \n",
            "  inflating: myntradataset/images/7622.jpg  \n",
            "  inflating: myntradataset/images/7623.jpg  \n",
            "  inflating: myntradataset/images/7624.jpg  \n",
            "  inflating: myntradataset/images/7625.jpg  \n",
            "  inflating: myntradataset/images/7626.jpg  \n",
            "  inflating: myntradataset/images/7629.jpg  \n",
            "  inflating: myntradataset/images/7630.jpg  \n",
            "  inflating: myntradataset/images/7631.jpg  \n",
            "  inflating: myntradataset/images/7632.jpg  \n",
            "  inflating: myntradataset/images/7633.jpg  \n",
            "  inflating: myntradataset/images/7634.jpg  \n",
            "  inflating: myntradataset/images/7635.jpg  \n",
            "  inflating: myntradataset/images/7636.jpg  \n",
            "  inflating: myntradataset/images/7637.jpg  \n",
            "  inflating: myntradataset/images/7638.jpg  \n",
            "  inflating: myntradataset/images/7639.jpg  \n",
            "  inflating: myntradataset/images/7640.jpg  \n",
            "  inflating: myntradataset/images/7641.jpg  \n",
            "  inflating: myntradataset/images/7642.jpg  \n",
            "  inflating: myntradataset/images/7643.jpg  \n",
            "  inflating: myntradataset/images/7644.jpg  \n",
            "  inflating: myntradataset/images/7645.jpg  \n",
            "  inflating: myntradataset/images/7646.jpg  \n",
            "  inflating: myntradataset/images/7647.jpg  \n",
            "  inflating: myntradataset/images/7648.jpg  \n",
            "  inflating: myntradataset/images/7649.jpg  \n",
            "  inflating: myntradataset/images/7650.jpg  \n",
            "  inflating: myntradataset/images/7651.jpg  \n",
            "  inflating: myntradataset/images/7652.jpg  \n",
            "  inflating: myntradataset/images/7653.jpg  \n",
            "  inflating: myntradataset/images/7654.jpg  \n",
            "  inflating: myntradataset/images/7655.jpg  \n",
            "  inflating: myntradataset/images/7656.jpg  \n",
            "  inflating: myntradataset/images/7657.jpg  \n",
            "  inflating: myntradataset/images/7658.jpg  \n",
            "  inflating: myntradataset/images/7659.jpg  \n",
            "  inflating: myntradataset/images/7660.jpg  \n",
            "  inflating: myntradataset/images/7661.jpg  \n",
            "  inflating: myntradataset/images/7662.jpg  \n",
            "  inflating: myntradataset/images/7663.jpg  \n",
            "  inflating: myntradataset/images/7664.jpg  \n",
            "  inflating: myntradataset/images/7665.jpg  \n",
            "  inflating: myntradataset/images/7666.jpg  \n",
            "  inflating: myntradataset/images/7667.jpg  \n",
            "  inflating: myntradataset/images/7668.jpg  \n",
            "  inflating: myntradataset/images/7669.jpg  \n",
            "  inflating: myntradataset/images/7670.jpg  \n",
            "  inflating: myntradataset/images/7671.jpg  \n",
            "  inflating: myntradataset/images/7672.jpg  \n",
            "  inflating: myntradataset/images/7673.jpg  \n",
            "  inflating: myntradataset/images/7674.jpg  \n",
            "  inflating: myntradataset/images/7675.jpg  \n",
            "  inflating: myntradataset/images/7676.jpg  \n",
            "  inflating: myntradataset/images/7677.jpg  \n",
            "  inflating: myntradataset/images/7678.jpg  \n",
            "  inflating: myntradataset/images/7679.jpg  \n",
            "  inflating: myntradataset/images/7680.jpg  \n",
            "  inflating: myntradataset/images/7681.jpg  \n",
            "  inflating: myntradataset/images/7682.jpg  \n",
            "  inflating: myntradataset/images/7683.jpg  \n",
            "  inflating: myntradataset/images/7684.jpg  \n",
            "  inflating: myntradataset/images/7685.jpg  \n",
            "  inflating: myntradataset/images/7686.jpg  \n",
            "  inflating: myntradataset/images/7687.jpg  \n",
            "  inflating: myntradataset/images/7688.jpg  \n",
            "  inflating: myntradataset/images/7689.jpg  \n",
            "  inflating: myntradataset/images/7690.jpg  \n",
            "  inflating: myntradataset/images/7691.jpg  \n",
            "  inflating: myntradataset/images/7692.jpg  \n",
            "  inflating: myntradataset/images/7693.jpg  \n",
            "  inflating: myntradataset/images/7694.jpg  \n",
            "  inflating: myntradataset/images/7695.jpg  \n",
            "  inflating: myntradataset/images/7696.jpg  \n",
            "  inflating: myntradataset/images/7697.jpg  \n",
            "  inflating: myntradataset/images/7698.jpg  \n",
            "  inflating: myntradataset/images/7699.jpg  \n",
            "  inflating: myntradataset/images/7700.jpg  \n",
            "  inflating: myntradataset/images/7701.jpg  \n",
            "  inflating: myntradataset/images/7702.jpg  \n",
            "  inflating: myntradataset/images/7703.jpg  \n",
            "  inflating: myntradataset/images/7704.jpg  \n",
            "  inflating: myntradataset/images/7705.jpg  \n",
            "  inflating: myntradataset/images/7706.jpg  \n",
            "  inflating: myntradataset/images/7707.jpg  \n",
            "  inflating: myntradataset/images/7708.jpg  \n",
            "  inflating: myntradataset/images/7709.jpg  \n",
            "  inflating: myntradataset/images/7710.jpg  \n",
            "  inflating: myntradataset/images/7712.jpg  \n",
            "  inflating: myntradataset/images/7713.jpg  \n",
            "  inflating: myntradataset/images/7714.jpg  \n",
            "  inflating: myntradataset/images/7715.jpg  \n",
            "  inflating: myntradataset/images/7716.jpg  \n",
            "  inflating: myntradataset/images/7717.jpg  \n",
            "  inflating: myntradataset/images/7719.jpg  \n",
            "  inflating: myntradataset/images/7721.jpg  \n",
            "  inflating: myntradataset/images/7722.jpg  \n",
            "  inflating: myntradataset/images/7723.jpg  \n",
            "  inflating: myntradataset/images/7724.jpg  \n",
            "  inflating: myntradataset/images/7726.jpg  \n",
            "  inflating: myntradataset/images/7727.jpg  \n",
            "  inflating: myntradataset/images/7728.jpg  \n",
            "  inflating: myntradataset/images/7729.jpg  \n",
            "  inflating: myntradataset/images/7730.jpg  \n",
            "  inflating: myntradataset/images/7731.jpg  \n",
            "  inflating: myntradataset/images/7732.jpg  \n",
            "  inflating: myntradataset/images/7733.jpg  \n",
            "  inflating: myntradataset/images/7734.jpg  \n",
            "  inflating: myntradataset/images/7735.jpg  \n",
            "  inflating: myntradataset/images/7736.jpg  \n",
            "  inflating: myntradataset/images/7737.jpg  \n",
            "  inflating: myntradataset/images/7739.jpg  \n",
            "  inflating: myntradataset/images/7741.jpg  \n",
            "  inflating: myntradataset/images/7742.jpg  \n",
            "  inflating: myntradataset/images/7743.jpg  \n",
            "  inflating: myntradataset/images/7744.jpg  \n",
            "  inflating: myntradataset/images/7745.jpg  \n",
            "  inflating: myntradataset/images/7746.jpg  \n",
            "  inflating: myntradataset/images/7747.jpg  \n",
            "  inflating: myntradataset/images/7748.jpg  \n",
            "  inflating: myntradataset/images/7749.jpg  \n",
            "  inflating: myntradataset/images/7751.jpg  \n",
            "  inflating: myntradataset/images/7752.jpg  \n",
            "  inflating: myntradataset/images/7753.jpg  \n",
            "  inflating: myntradataset/images/7754.jpg  \n",
            "  inflating: myntradataset/images/7755.jpg  \n",
            "  inflating: myntradataset/images/7756.jpg  \n",
            "  inflating: myntradataset/images/7758.jpg  \n",
            "  inflating: myntradataset/images/7761.jpg  \n",
            "  inflating: myntradataset/images/7763.jpg  \n",
            "  inflating: myntradataset/images/7764.jpg  \n",
            "  inflating: myntradataset/images/7766.jpg  \n",
            "  inflating: myntradataset/images/7767.jpg  \n",
            "  inflating: myntradataset/images/7768.jpg  \n",
            "  inflating: myntradataset/images/7769.jpg  \n",
            "  inflating: myntradataset/images/7770.jpg  \n",
            "  inflating: myntradataset/images/7771.jpg  \n",
            "  inflating: myntradataset/images/7772.jpg  \n",
            "  inflating: myntradataset/images/7773.jpg  \n",
            "  inflating: myntradataset/images/7774.jpg  \n",
            "  inflating: myntradataset/images/7775.jpg  \n",
            "  inflating: myntradataset/images/7776.jpg  \n",
            "  inflating: myntradataset/images/7777.jpg  \n",
            "  inflating: myntradataset/images/7778.jpg  \n",
            "  inflating: myntradataset/images/7779.jpg  \n",
            "  inflating: myntradataset/images/7780.jpg  \n",
            "  inflating: myntradataset/images/7781.jpg  \n",
            "  inflating: myntradataset/images/7782.jpg  \n",
            "  inflating: myntradataset/images/7783.jpg  \n",
            "  inflating: myntradataset/images/7784.jpg  \n",
            "  inflating: myntradataset/images/7785.jpg  \n",
            "  inflating: myntradataset/images/7787.jpg  \n",
            "  inflating: myntradataset/images/7788.jpg  \n",
            "  inflating: myntradataset/images/7789.jpg  \n",
            "  inflating: myntradataset/images/7790.jpg  \n",
            "  inflating: myntradataset/images/7791.jpg  \n",
            "  inflating: myntradataset/images/7792.jpg  \n",
            "  inflating: myntradataset/images/7793.jpg  \n",
            "  inflating: myntradataset/images/7794.jpg  \n",
            "  inflating: myntradataset/images/7795.jpg  \n",
            "  inflating: myntradataset/images/7796.jpg  \n",
            "  inflating: myntradataset/images/7797.jpg  \n",
            "  inflating: myntradataset/images/7798.jpg  \n",
            "  inflating: myntradataset/images/7799.jpg  \n",
            "  inflating: myntradataset/images/7800.jpg  \n",
            "  inflating: myntradataset/images/7801.jpg  \n",
            "  inflating: myntradataset/images/7802.jpg  \n",
            "  inflating: myntradataset/images/7803.jpg  \n",
            "  inflating: myntradataset/images/7804.jpg  \n",
            "  inflating: myntradataset/images/7805.jpg  \n",
            "  inflating: myntradataset/images/7806.jpg  \n",
            "  inflating: myntradataset/images/7807.jpg  \n",
            "  inflating: myntradataset/images/7808.jpg  \n",
            "  inflating: myntradataset/images/7809.jpg  \n",
            "  inflating: myntradataset/images/7810.jpg  \n",
            "  inflating: myntradataset/images/7811.jpg  \n",
            "  inflating: myntradataset/images/7812.jpg  \n",
            "  inflating: myntradataset/images/7813.jpg  \n",
            "  inflating: myntradataset/images/7814.jpg  \n",
            "  inflating: myntradataset/images/7815.jpg  \n",
            "  inflating: myntradataset/images/7816.jpg  \n",
            "  inflating: myntradataset/images/7817.jpg  \n",
            "  inflating: myntradataset/images/7818.jpg  \n",
            "  inflating: myntradataset/images/7819.jpg  \n",
            "  inflating: myntradataset/images/7820.jpg  \n",
            "  inflating: myntradataset/images/7822.jpg  \n",
            "  inflating: myntradataset/images/7823.jpg  \n",
            "  inflating: myntradataset/images/7824.jpg  \n",
            "  inflating: myntradataset/images/7826.jpg  \n",
            "  inflating: myntradataset/images/7827.jpg  \n",
            "  inflating: myntradataset/images/7828.jpg  \n",
            "  inflating: myntradataset/images/7829.jpg  \n",
            "  inflating: myntradataset/images/7830.jpg  \n",
            "  inflating: myntradataset/images/7831.jpg  \n",
            "  inflating: myntradataset/images/7832.jpg  \n",
            "  inflating: myntradataset/images/7833.jpg  \n",
            "  inflating: myntradataset/images/7834.jpg  \n",
            "  inflating: myntradataset/images/7835.jpg  \n",
            "  inflating: myntradataset/images/7836.jpg  \n",
            "  inflating: myntradataset/images/7837.jpg  \n",
            "  inflating: myntradataset/images/7838.jpg  \n",
            "  inflating: myntradataset/images/7840.jpg  \n",
            "  inflating: myntradataset/images/7841.jpg  \n",
            "  inflating: myntradataset/images/7842.jpg  \n",
            "  inflating: myntradataset/images/7843.jpg  \n",
            "  inflating: myntradataset/images/7844.jpg  \n",
            "  inflating: myntradataset/images/7845.jpg  \n",
            "  inflating: myntradataset/images/7846.jpg  \n",
            "  inflating: myntradataset/images/7847.jpg  \n",
            "  inflating: myntradataset/images/7848.jpg  \n",
            "  inflating: myntradataset/images/7850.jpg  \n",
            "  inflating: myntradataset/images/7851.jpg  \n",
            "  inflating: myntradataset/images/7852.jpg  \n",
            "  inflating: myntradataset/images/7853.jpg  \n",
            "  inflating: myntradataset/images/7854.jpg  \n",
            "  inflating: myntradataset/images/7855.jpg  \n",
            "  inflating: myntradataset/images/7856.jpg  \n",
            "  inflating: myntradataset/images/7857.jpg  \n",
            "  inflating: myntradataset/images/7858.jpg  \n",
            "  inflating: myntradataset/images/7859.jpg  \n",
            "  inflating: myntradataset/images/7860.jpg  \n",
            "  inflating: myntradataset/images/7861.jpg  \n",
            "  inflating: myntradataset/images/7862.jpg  \n",
            "  inflating: myntradataset/images/7863.jpg  \n",
            "  inflating: myntradataset/images/7864.jpg  \n",
            "  inflating: myntradataset/images/7865.jpg  \n",
            "  inflating: myntradataset/images/7866.jpg  \n",
            "  inflating: myntradataset/images/7867.jpg  \n",
            "  inflating: myntradataset/images/7868.jpg  \n",
            "  inflating: myntradataset/images/7869.jpg  \n",
            "  inflating: myntradataset/images/7870.jpg  \n",
            "  inflating: myntradataset/images/7871.jpg  \n",
            "  inflating: myntradataset/images/7873.jpg  \n",
            "  inflating: myntradataset/images/7874.jpg  \n",
            "  inflating: myntradataset/images/7875.jpg  \n",
            "  inflating: myntradataset/images/7876.jpg  \n",
            "  inflating: myntradataset/images/7877.jpg  \n",
            "  inflating: myntradataset/images/7878.jpg  \n",
            "  inflating: myntradataset/images/7879.jpg  \n",
            "  inflating: myntradataset/images/7880.jpg  \n",
            "  inflating: myntradataset/images/7881.jpg  \n",
            "  inflating: myntradataset/images/7882.jpg  \n",
            "  inflating: myntradataset/images/7883.jpg  \n",
            "  inflating: myntradataset/images/7884.jpg  \n",
            "  inflating: myntradataset/images/7885.jpg  \n",
            "  inflating: myntradataset/images/7887.jpg  \n",
            "  inflating: myntradataset/images/7888.jpg  \n",
            "  inflating: myntradataset/images/7889.jpg  \n",
            "  inflating: myntradataset/images/7890.jpg  \n",
            "  inflating: myntradataset/images/7891.jpg  \n",
            "  inflating: myntradataset/images/7892.jpg  \n",
            "  inflating: myntradataset/images/7895.jpg  \n",
            "  inflating: myntradataset/images/7896.jpg  \n",
            "  inflating: myntradataset/images/7898.jpg  \n",
            "  inflating: myntradataset/images/7901.jpg  \n",
            "  inflating: myntradataset/images/7902.jpg  \n",
            "  inflating: myntradataset/images/7903.jpg  \n",
            "  inflating: myntradataset/images/7904.jpg  \n",
            "  inflating: myntradataset/images/7905.jpg  \n",
            "  inflating: myntradataset/images/7906.jpg  \n",
            "  inflating: myntradataset/images/7907.jpg  \n",
            "  inflating: myntradataset/images/7908.jpg  \n",
            "  inflating: myntradataset/images/7909.jpg  \n",
            "  inflating: myntradataset/images/7910.jpg  \n",
            "  inflating: myntradataset/images/7911.jpg  \n",
            "  inflating: myntradataset/images/7913.jpg  \n",
            "  inflating: myntradataset/images/7914.jpg  \n",
            "  inflating: myntradataset/images/7915.jpg  \n",
            "  inflating: myntradataset/images/7916.jpg  \n",
            "  inflating: myntradataset/images/7917.jpg  \n",
            "  inflating: myntradataset/images/7918.jpg  \n",
            "  inflating: myntradataset/images/7920.jpg  \n",
            "  inflating: myntradataset/images/7921.jpg  \n",
            "  inflating: myntradataset/images/7922.jpg  \n",
            "  inflating: myntradataset/images/7923.jpg  \n",
            "  inflating: myntradataset/images/7924.jpg  \n",
            "  inflating: myntradataset/images/7925.jpg  \n",
            "  inflating: myntradataset/images/7926.jpg  \n",
            "  inflating: myntradataset/images/7927.jpg  \n",
            "  inflating: myntradataset/images/7928.jpg  \n",
            "  inflating: myntradataset/images/7930.jpg  \n",
            "  inflating: myntradataset/images/7931.jpg  \n",
            "  inflating: myntradataset/images/7932.jpg  \n",
            "  inflating: myntradataset/images/7933.jpg  \n",
            "  inflating: myntradataset/images/7934.jpg  \n",
            "  inflating: myntradataset/images/7935.jpg  \n",
            "  inflating: myntradataset/images/7936.jpg  \n",
            "  inflating: myntradataset/images/7937.jpg  \n",
            "  inflating: myntradataset/images/7938.jpg  \n",
            "  inflating: myntradataset/images/7939.jpg  \n",
            "  inflating: myntradataset/images/7940.jpg  \n",
            "  inflating: myntradataset/images/7941.jpg  \n",
            "  inflating: myntradataset/images/7942.jpg  \n",
            "  inflating: myntradataset/images/7943.jpg  \n",
            "  inflating: myntradataset/images/7944.jpg  \n",
            "  inflating: myntradataset/images/7945.jpg  \n",
            "  inflating: myntradataset/images/7946.jpg  \n",
            "  inflating: myntradataset/images/7947.jpg  \n",
            "  inflating: myntradataset/images/7948.jpg  \n",
            "  inflating: myntradataset/images/7949.jpg  \n",
            "  inflating: myntradataset/images/7950.jpg  \n",
            "  inflating: myntradataset/images/7951.jpg  \n",
            "  inflating: myntradataset/images/7952.jpg  \n",
            "  inflating: myntradataset/images/7953.jpg  \n",
            "  inflating: myntradataset/images/7954.jpg  \n",
            "  inflating: myntradataset/images/7955.jpg  \n",
            "  inflating: myntradataset/images/7956.jpg  \n",
            "  inflating: myntradataset/images/7957.jpg  \n",
            "  inflating: myntradataset/images/7958.jpg  \n",
            "  inflating: myntradataset/images/7959.jpg  \n",
            "  inflating: myntradataset/images/7960.jpg  \n",
            "  inflating: myntradataset/images/7961.jpg  \n",
            "  inflating: myntradataset/images/7962.jpg  \n",
            "  inflating: myntradataset/images/7963.jpg  \n",
            "  inflating: myntradataset/images/7964.jpg  \n",
            "  inflating: myntradataset/images/7965.jpg  \n",
            "  inflating: myntradataset/images/7966.jpg  \n",
            "  inflating: myntradataset/images/7968.jpg  \n",
            "  inflating: myntradataset/images/7969.jpg  \n",
            "  inflating: myntradataset/images/7970.jpg  \n",
            "  inflating: myntradataset/images/7971.jpg  \n",
            "  inflating: myntradataset/images/7979.jpg  \n",
            "  inflating: myntradataset/images/7980.jpg  \n",
            "  inflating: myntradataset/images/7985.jpg  \n",
            "  inflating: myntradataset/images/7987.jpg  \n",
            "  inflating: myntradataset/images/7988.jpg  \n",
            "  inflating: myntradataset/images/7990.jpg  \n",
            "  inflating: myntradataset/images/7996.jpg  \n",
            "  inflating: myntradataset/images/8002.jpg  \n",
            "  inflating: myntradataset/images/8003.jpg  \n",
            "  inflating: myntradataset/images/8004.jpg  \n",
            "  inflating: myntradataset/images/8011.jpg  \n",
            "  inflating: myntradataset/images/8012.jpg  \n",
            "  inflating: myntradataset/images/8014.jpg  \n",
            "  inflating: myntradataset/images/8017.jpg  \n",
            "  inflating: myntradataset/images/8018.jpg  \n",
            "  inflating: myntradataset/images/8020.jpg  \n",
            "  inflating: myntradataset/images/8022.jpg  \n",
            "  inflating: myntradataset/images/8026.jpg  \n",
            "  inflating: myntradataset/images/8030.jpg  \n",
            "  inflating: myntradataset/images/8040.jpg  \n",
            "  inflating: myntradataset/images/8047.jpg  \n",
            "  inflating: myntradataset/images/8050.jpg  \n",
            "  inflating: myntradataset/images/8056.jpg  \n",
            "  inflating: myntradataset/images/8063.jpg  \n",
            "  inflating: myntradataset/images/8064.jpg  \n",
            "  inflating: myntradataset/images/8065.jpg  \n",
            "  inflating: myntradataset/images/8066.jpg  \n",
            "  inflating: myntradataset/images/8067.jpg  \n",
            "  inflating: myntradataset/images/8068.jpg  \n",
            "  inflating: myntradataset/images/8071.jpg  \n",
            "  inflating: myntradataset/images/8072.jpg  \n",
            "  inflating: myntradataset/images/8073.jpg  \n",
            "  inflating: myntradataset/images/8074.jpg  \n",
            "  inflating: myntradataset/images/8075.jpg  \n",
            "  inflating: myntradataset/images/8076.jpg  \n",
            "  inflating: myntradataset/images/8077.jpg  \n",
            "  inflating: myntradataset/images/8078.jpg  \n",
            "  inflating: myntradataset/images/8079.jpg  \n",
            "  inflating: myntradataset/images/8080.jpg  \n",
            "  inflating: myntradataset/images/8081.jpg  \n",
            "  inflating: myntradataset/images/8082.jpg  \n",
            "  inflating: myntradataset/images/8083.jpg  \n",
            "  inflating: myntradataset/images/8084.jpg  \n",
            "  inflating: myntradataset/images/8085.jpg  \n",
            "  inflating: myntradataset/images/8086.jpg  \n",
            "  inflating: myntradataset/images/8087.jpg  \n",
            "  inflating: myntradataset/images/8088.jpg  \n",
            "  inflating: myntradataset/images/8089.jpg  \n",
            "  inflating: myntradataset/images/8090.jpg  \n",
            "  inflating: myntradataset/images/8091.jpg  \n",
            "  inflating: myntradataset/images/8092.jpg  \n",
            "  inflating: myntradataset/images/8093.jpg  \n",
            "  inflating: myntradataset/images/8094.jpg  \n",
            "  inflating: myntradataset/images/8095.jpg  \n",
            "  inflating: myntradataset/images/8096.jpg  \n",
            "  inflating: myntradataset/images/8098.jpg  \n",
            "  inflating: myntradataset/images/8099.jpg  \n",
            "  inflating: myntradataset/images/8100.jpg  \n",
            "  inflating: myntradataset/images/8101.jpg  \n",
            "  inflating: myntradataset/images/8102.jpg  \n",
            "  inflating: myntradataset/images/8103.jpg  \n",
            "  inflating: myntradataset/images/8104.jpg  \n",
            "  inflating: myntradataset/images/8106.jpg  \n",
            "  inflating: myntradataset/images/8107.jpg  \n",
            "  inflating: myntradataset/images/8108.jpg  \n",
            "  inflating: myntradataset/images/8109.jpg  \n",
            "  inflating: myntradataset/images/8110.jpg  \n",
            "  inflating: myntradataset/images/8111.jpg  \n",
            "  inflating: myntradataset/images/8112.jpg  \n",
            "  inflating: myntradataset/images/8113.jpg  \n",
            "  inflating: myntradataset/images/8114.jpg  \n",
            "  inflating: myntradataset/images/8115.jpg  \n",
            "  inflating: myntradataset/images/8116.jpg  \n",
            "  inflating: myntradataset/images/8117.jpg  \n",
            "  inflating: myntradataset/images/8118.jpg  \n",
            "  inflating: myntradataset/images/8119.jpg  \n",
            "  inflating: myntradataset/images/8120.jpg  \n",
            "  inflating: myntradataset/images/8121.jpg  \n",
            "  inflating: myntradataset/images/8122.jpg  \n",
            "  inflating: myntradataset/images/8123.jpg  \n",
            "  inflating: myntradataset/images/8124.jpg  \n",
            "  inflating: myntradataset/images/8125.jpg  \n",
            "  inflating: myntradataset/images/8126.jpg  \n",
            "  inflating: myntradataset/images/8129.jpg  \n",
            "  inflating: myntradataset/images/8130.jpg  \n",
            "  inflating: myntradataset/images/8131.jpg  \n",
            "  inflating: myntradataset/images/8132.jpg  \n",
            "  inflating: myntradataset/images/8133.jpg  \n",
            "  inflating: myntradataset/images/8134.jpg  \n",
            "  inflating: myntradataset/images/8135.jpg  \n",
            "  inflating: myntradataset/images/8136.jpg  \n",
            "  inflating: myntradataset/images/8137.jpg  \n",
            "  inflating: myntradataset/images/8138.jpg  \n",
            "  inflating: myntradataset/images/8139.jpg  \n",
            "  inflating: myntradataset/images/8140.jpg  \n",
            "  inflating: myntradataset/images/8141.jpg  \n",
            "  inflating: myntradataset/images/8142.jpg  \n",
            "  inflating: myntradataset/images/8143.jpg  \n",
            "  inflating: myntradataset/images/8144.jpg  \n",
            "  inflating: myntradataset/images/8145.jpg  \n",
            "  inflating: myntradataset/images/8146.jpg  \n",
            "  inflating: myntradataset/images/8147.jpg  \n",
            "  inflating: myntradataset/images/8148.jpg  \n",
            "  inflating: myntradataset/images/8149.jpg  \n",
            "  inflating: myntradataset/images/8150.jpg  \n",
            "  inflating: myntradataset/images/8151.jpg  \n",
            "  inflating: myntradataset/images/8152.jpg  \n",
            "  inflating: myntradataset/images/8153.jpg  \n",
            "  inflating: myntradataset/images/8154.jpg  \n",
            "  inflating: myntradataset/images/8155.jpg  \n",
            "  inflating: myntradataset/images/8156.jpg  \n",
            "  inflating: myntradataset/images/8157.jpg  \n",
            "  inflating: myntradataset/images/8159.jpg  \n",
            "  inflating: myntradataset/images/8160.jpg  \n",
            "  inflating: myntradataset/images/8161.jpg  \n",
            "  inflating: myntradataset/images/8162.jpg  \n",
            "  inflating: myntradataset/images/8163.jpg  \n",
            "  inflating: myntradataset/images/8164.jpg  \n",
            "  inflating: myntradataset/images/8165.jpg  \n",
            "  inflating: myntradataset/images/8166.jpg  \n",
            "  inflating: myntradataset/images/8167.jpg  \n",
            "  inflating: myntradataset/images/8169.jpg  \n",
            "  inflating: myntradataset/images/8172.jpg  \n",
            "  inflating: myntradataset/images/8175.jpg  \n",
            "  inflating: myntradataset/images/8180.jpg  \n",
            "  inflating: myntradataset/images/8181.jpg  \n",
            "  inflating: myntradataset/images/8182.jpg  \n",
            "  inflating: myntradataset/images/8183.jpg  \n",
            "  inflating: myntradataset/images/8184.jpg  \n",
            "  inflating: myntradataset/images/8185.jpg  \n",
            "  inflating: myntradataset/images/8186.jpg  \n",
            "  inflating: myntradataset/images/8187.jpg  \n",
            "  inflating: myntradataset/images/8188.jpg  \n",
            "  inflating: myntradataset/images/8189.jpg  \n",
            "  inflating: myntradataset/images/8190.jpg  \n",
            "  inflating: myntradataset/images/8191.jpg  \n",
            "  inflating: myntradataset/images/8192.jpg  \n",
            "  inflating: myntradataset/images/8193.jpg  \n",
            "  inflating: myntradataset/images/8194.jpg  \n",
            "  inflating: myntradataset/images/8195.jpg  \n",
            "  inflating: myntradataset/images/8196.jpg  \n",
            "  inflating: myntradataset/images/8197.jpg  \n",
            "  inflating: myntradataset/images/8199.jpg  \n",
            "  inflating: myntradataset/images/8200.jpg  \n",
            "  inflating: myntradataset/images/8202.jpg  \n",
            "  inflating: myntradataset/images/8204.jpg  \n",
            "  inflating: myntradataset/images/8205.jpg  \n",
            "  inflating: myntradataset/images/8206.jpg  \n",
            "  inflating: myntradataset/images/8207.jpg  \n",
            "  inflating: myntradataset/images/8208.jpg  \n",
            "  inflating: myntradataset/images/8209.jpg  \n",
            "  inflating: myntradataset/images/8210.jpg  \n",
            "  inflating: myntradataset/images/8211.jpg  \n",
            "  inflating: myntradataset/images/8212.jpg  \n",
            "  inflating: myntradataset/images/8214.jpg  \n",
            "  inflating: myntradataset/images/8215.jpg  \n",
            "  inflating: myntradataset/images/8216.jpg  \n",
            "  inflating: myntradataset/images/8217.jpg  \n",
            "  inflating: myntradataset/images/8218.jpg  \n",
            "  inflating: myntradataset/images/8219.jpg  \n",
            "  inflating: myntradataset/images/8220.jpg  \n",
            "  inflating: myntradataset/images/8221.jpg  \n",
            "  inflating: myntradataset/images/8222.jpg  \n",
            "  inflating: myntradataset/images/8223.jpg  \n",
            "  inflating: myntradataset/images/8224.jpg  \n",
            "  inflating: myntradataset/images/8227.jpg  \n",
            "  inflating: myntradataset/images/8228.jpg  \n",
            "  inflating: myntradataset/images/8229.jpg  \n",
            "  inflating: myntradataset/images/8231.jpg  \n",
            "  inflating: myntradataset/images/8232.jpg  \n",
            "  inflating: myntradataset/images/8234.jpg  \n",
            "  inflating: myntradataset/images/8235.jpg  \n",
            "  inflating: myntradataset/images/8236.jpg  \n",
            "  inflating: myntradataset/images/8237.jpg  \n",
            "  inflating: myntradataset/images/8238.jpg  \n",
            "  inflating: myntradataset/images/8239.jpg  \n",
            "  inflating: myntradataset/images/8240.jpg  \n",
            "  inflating: myntradataset/images/8242.jpg  \n",
            "  inflating: myntradataset/images/8243.jpg  \n",
            "  inflating: myntradataset/images/8244.jpg  \n",
            "  inflating: myntradataset/images/8245.jpg  \n",
            "  inflating: myntradataset/images/8246.jpg  \n",
            "  inflating: myntradataset/images/8247.jpg  \n",
            "  inflating: myntradataset/images/8248.jpg  \n",
            "  inflating: myntradataset/images/8249.jpg  \n",
            "  inflating: myntradataset/images/8250.jpg  \n",
            "  inflating: myntradataset/images/8251.jpg  \n",
            "  inflating: myntradataset/images/8252.jpg  \n",
            "  inflating: myntradataset/images/8253.jpg  \n",
            "  inflating: myntradataset/images/8254.jpg  \n",
            "  inflating: myntradataset/images/8255.jpg  \n",
            "  inflating: myntradataset/images/8256.jpg  \n",
            "  inflating: myntradataset/images/8257.jpg  \n",
            "  inflating: myntradataset/images/8258.jpg  \n",
            "  inflating: myntradataset/images/8259.jpg  \n",
            "  inflating: myntradataset/images/8260.jpg  \n",
            "  inflating: myntradataset/images/8262.jpg  \n",
            "  inflating: myntradataset/images/8264.jpg  \n",
            "  inflating: myntradataset/images/8265.jpg  \n",
            "  inflating: myntradataset/images/8266.jpg  \n",
            "  inflating: myntradataset/images/8267.jpg  \n",
            "  inflating: myntradataset/images/8268.jpg  \n",
            "  inflating: myntradataset/images/8269.jpg  \n",
            "  inflating: myntradataset/images/8270.jpg  \n",
            "  inflating: myntradataset/images/8271.jpg  \n",
            "  inflating: myntradataset/images/8272.jpg  \n",
            "  inflating: myntradataset/images/8273.jpg  \n",
            "  inflating: myntradataset/images/8274.jpg  \n",
            "  inflating: myntradataset/images/8275.jpg  \n",
            "  inflating: myntradataset/images/8276.jpg  \n",
            "  inflating: myntradataset/images/8277.jpg  \n",
            "  inflating: myntradataset/images/8278.jpg  \n",
            "  inflating: myntradataset/images/8279.jpg  \n",
            "  inflating: myntradataset/images/8280.jpg  \n",
            "  inflating: myntradataset/images/8281.jpg  \n",
            "  inflating: myntradataset/images/8282.jpg  \n",
            "  inflating: myntradataset/images/8284.jpg  \n",
            "  inflating: myntradataset/images/8285.jpg  \n",
            "  inflating: myntradataset/images/8288.jpg  \n",
            "  inflating: myntradataset/images/8289.jpg  \n",
            "  inflating: myntradataset/images/8290.jpg  \n",
            "  inflating: myntradataset/images/8291.jpg  \n",
            "  inflating: myntradataset/images/8292.jpg  \n",
            "  inflating: myntradataset/images/8293.jpg  \n",
            "  inflating: myntradataset/images/8295.jpg  \n",
            "  inflating: myntradataset/images/8298.jpg  \n",
            "  inflating: myntradataset/images/8299.jpg  \n",
            "  inflating: myntradataset/images/8300.jpg  \n",
            "  inflating: myntradataset/images/8302.jpg  \n",
            "  inflating: myntradataset/images/8303.jpg  \n",
            "  inflating: myntradataset/images/8304.jpg  \n",
            "  inflating: myntradataset/images/8306.jpg  \n",
            "  inflating: myntradataset/images/8307.jpg  \n",
            "  inflating: myntradataset/images/8308.jpg  \n",
            "  inflating: myntradataset/images/8309.jpg  \n",
            "  inflating: myntradataset/images/8310.jpg  \n",
            "  inflating: myntradataset/images/8311.jpg  \n",
            "  inflating: myntradataset/images/8312.jpg  \n",
            "  inflating: myntradataset/images/8313.jpg  \n",
            "  inflating: myntradataset/images/8314.jpg  \n",
            "  inflating: myntradataset/images/8315.jpg  \n",
            "  inflating: myntradataset/images/8316.jpg  \n",
            "  inflating: myntradataset/images/8317.jpg  \n",
            "  inflating: myntradataset/images/8318.jpg  \n",
            "  inflating: myntradataset/images/8319.jpg  \n",
            "  inflating: myntradataset/images/8320.jpg  \n",
            "  inflating: myntradataset/images/8321.jpg  \n",
            "  inflating: myntradataset/images/8322.jpg  \n",
            "  inflating: myntradataset/images/8323.jpg  \n",
            "  inflating: myntradataset/images/8324.jpg  \n",
            "  inflating: myntradataset/images/8325.jpg  \n",
            "  inflating: myntradataset/images/8326.jpg  \n",
            "  inflating: myntradataset/images/8327.jpg  \n",
            "  inflating: myntradataset/images/8328.jpg  \n",
            "  inflating: myntradataset/images/8330.jpg  \n",
            "  inflating: myntradataset/images/8331.jpg  \n",
            "  inflating: myntradataset/images/8332.jpg  \n",
            "  inflating: myntradataset/images/8333.jpg  \n",
            "  inflating: myntradataset/images/8334.jpg  \n",
            "  inflating: myntradataset/images/8335.jpg  \n",
            "  inflating: myntradataset/images/8336.jpg  \n",
            "  inflating: myntradataset/images/8337.jpg  \n",
            "  inflating: myntradataset/images/8338.jpg  \n",
            "  inflating: myntradataset/images/8339.jpg  \n",
            "  inflating: myntradataset/images/8340.jpg  \n",
            "  inflating: myntradataset/images/8341.jpg  \n",
            "  inflating: myntradataset/images/8342.jpg  \n",
            "  inflating: myntradataset/images/8343.jpg  \n",
            "  inflating: myntradataset/images/8344.jpg  \n",
            "  inflating: myntradataset/images/8345.jpg  \n",
            "  inflating: myntradataset/images/8346.jpg  \n",
            "  inflating: myntradataset/images/8348.jpg  \n",
            "  inflating: myntradataset/images/8349.jpg  \n",
            "  inflating: myntradataset/images/8350.jpg  \n",
            "  inflating: myntradataset/images/8351.jpg  \n",
            "  inflating: myntradataset/images/8352.jpg  \n",
            "  inflating: myntradataset/images/8353.jpg  \n",
            "  inflating: myntradataset/images/8354.jpg  \n",
            "  inflating: myntradataset/images/8355.jpg  \n",
            "  inflating: myntradataset/images/8356.jpg  \n",
            "  inflating: myntradataset/images/8357.jpg  \n",
            "  inflating: myntradataset/images/8358.jpg  \n",
            "  inflating: myntradataset/images/8359.jpg  \n",
            "  inflating: myntradataset/images/8360.jpg  \n",
            "  inflating: myntradataset/images/8361.jpg  \n",
            "  inflating: myntradataset/images/8364.jpg  \n",
            "  inflating: myntradataset/images/8365.jpg  \n",
            "  inflating: myntradataset/images/8366.jpg  \n",
            "  inflating: myntradataset/images/8367.jpg  \n",
            "  inflating: myntradataset/images/8368.jpg  \n",
            "  inflating: myntradataset/images/8369.jpg  \n",
            "  inflating: myntradataset/images/8371.jpg  \n",
            "  inflating: myntradataset/images/8372.jpg  \n",
            "  inflating: myntradataset/images/8373.jpg  \n",
            "  inflating: myntradataset/images/8374.jpg  \n",
            "  inflating: myntradataset/images/8375.jpg  \n",
            "  inflating: myntradataset/images/8376.jpg  \n",
            "  inflating: myntradataset/images/8377.jpg  \n",
            "  inflating: myntradataset/images/8378.jpg  \n",
            "  inflating: myntradataset/images/8379.jpg  \n",
            "  inflating: myntradataset/images/8380.jpg  \n",
            "  inflating: myntradataset/images/8381.jpg  \n",
            "  inflating: myntradataset/images/8382.jpg  \n",
            "  inflating: myntradataset/images/8383.jpg  \n",
            "  inflating: myntradataset/images/8384.jpg  \n",
            "  inflating: myntradataset/images/8385.jpg  \n",
            "  inflating: myntradataset/images/8386.jpg  \n",
            "  inflating: myntradataset/images/8387.jpg  \n",
            "  inflating: myntradataset/images/8388.jpg  \n",
            "  inflating: myntradataset/images/8389.jpg  \n",
            "  inflating: myntradataset/images/8390.jpg  \n",
            "  inflating: myntradataset/images/8391.jpg  \n",
            "  inflating: myntradataset/images/8392.jpg  \n",
            "  inflating: myntradataset/images/8393.jpg  \n",
            "  inflating: myntradataset/images/8394.jpg  \n",
            "  inflating: myntradataset/images/8395.jpg  \n",
            "  inflating: myntradataset/images/8396.jpg  \n",
            "  inflating: myntradataset/images/8397.jpg  \n",
            "  inflating: myntradataset/images/8398.jpg  \n",
            "  inflating: myntradataset/images/8399.jpg  \n",
            "  inflating: myntradataset/images/8400.jpg  \n",
            "  inflating: myntradataset/images/8401.jpg  \n",
            "  inflating: myntradataset/images/8402.jpg  \n",
            "  inflating: myntradataset/images/8403.jpg  \n",
            "  inflating: myntradataset/images/8404.jpg  \n",
            "  inflating: myntradataset/images/8405.jpg  \n",
            "  inflating: myntradataset/images/8406.jpg  \n",
            "  inflating: myntradataset/images/8407.jpg  \n",
            "  inflating: myntradataset/images/8408.jpg  \n",
            "  inflating: myntradataset/images/8409.jpg  \n",
            "  inflating: myntradataset/images/8410.jpg  \n",
            "  inflating: myntradataset/images/8411.jpg  \n",
            "  inflating: myntradataset/images/8412.jpg  \n",
            "  inflating: myntradataset/images/8413.jpg  \n",
            "  inflating: myntradataset/images/8414.jpg  \n",
            "  inflating: myntradataset/images/8415.jpg  \n",
            "  inflating: myntradataset/images/8417.jpg  \n",
            "  inflating: myntradataset/images/8418.jpg  \n",
            "  inflating: myntradataset/images/8419.jpg  \n",
            "  inflating: myntradataset/images/8420.jpg  \n",
            "  inflating: myntradataset/images/8422.jpg  \n",
            "  inflating: myntradataset/images/8426.jpg  \n",
            "  inflating: myntradataset/images/8427.jpg  \n",
            "  inflating: myntradataset/images/8432.jpg  \n",
            "  inflating: myntradataset/images/8433.jpg  \n",
            "  inflating: myntradataset/images/8434.jpg  \n",
            "  inflating: myntradataset/images/8435.jpg  \n",
            "  inflating: myntradataset/images/8436.jpg  \n",
            "  inflating: myntradataset/images/8437.jpg  \n",
            "  inflating: myntradataset/images/8438.jpg  \n",
            "  inflating: myntradataset/images/8439.jpg  \n",
            "  inflating: myntradataset/images/8440.jpg  \n",
            "  inflating: myntradataset/images/8441.jpg  \n",
            "  inflating: myntradataset/images/8442.jpg  \n",
            "  inflating: myntradataset/images/8443.jpg  \n",
            "  inflating: myntradataset/images/8444.jpg  \n",
            "  inflating: myntradataset/images/8445.jpg  \n",
            "  inflating: myntradataset/images/8446.jpg  \n",
            "  inflating: myntradataset/images/8447.jpg  \n",
            "  inflating: myntradataset/images/8448.jpg  \n",
            "  inflating: myntradataset/images/8449.jpg  \n",
            "  inflating: myntradataset/images/8450.jpg  \n",
            "  inflating: myntradataset/images/8451.jpg  \n",
            "  inflating: myntradataset/images/8452.jpg  \n",
            "  inflating: myntradataset/images/8453.jpg  \n",
            "  inflating: myntradataset/images/8454.jpg  \n",
            "  inflating: myntradataset/images/8455.jpg  \n",
            "  inflating: myntradataset/images/8456.jpg  \n",
            "  inflating: myntradataset/images/8457.jpg  \n",
            "  inflating: myntradataset/images/8458.jpg  \n",
            "  inflating: myntradataset/images/8459.jpg  \n",
            "  inflating: myntradataset/images/8460.jpg  \n",
            "  inflating: myntradataset/images/8461.jpg  \n",
            "  inflating: myntradataset/images/8462.jpg  \n",
            "  inflating: myntradataset/images/8463.jpg  \n",
            "  inflating: myntradataset/images/8465.jpg  \n",
            "  inflating: myntradataset/images/8466.jpg  \n",
            "  inflating: myntradataset/images/8467.jpg  \n",
            "  inflating: myntradataset/images/8468.jpg  \n",
            "  inflating: myntradataset/images/8469.jpg  \n",
            "  inflating: myntradataset/images/8470.jpg  \n",
            "  inflating: myntradataset/images/8471.jpg  \n",
            "  inflating: myntradataset/images/8472.jpg  \n",
            "  inflating: myntradataset/images/8473.jpg  \n",
            "  inflating: myntradataset/images/8474.jpg  \n",
            "  inflating: myntradataset/images/8475.jpg  \n",
            "  inflating: myntradataset/images/8476.jpg  \n",
            "  inflating: myntradataset/images/8477.jpg  \n",
            "  inflating: myntradataset/images/8478.jpg  \n",
            "  inflating: myntradataset/images/8479.jpg  \n",
            "  inflating: myntradataset/images/8480.jpg  \n",
            "  inflating: myntradataset/images/8481.jpg  \n",
            "  inflating: myntradataset/images/8482.jpg  \n",
            "  inflating: myntradataset/images/8483.jpg  \n",
            "  inflating: myntradataset/images/8484.jpg  \n",
            "  inflating: myntradataset/images/8485.jpg  \n",
            "  inflating: myntradataset/images/8486.jpg  \n",
            "  inflating: myntradataset/images/8487.jpg  \n",
            "  inflating: myntradataset/images/8488.jpg  \n",
            "  inflating: myntradataset/images/8489.jpg  \n",
            "  inflating: myntradataset/images/8490.jpg  \n",
            "  inflating: myntradataset/images/8491.jpg  \n",
            "  inflating: myntradataset/images/8492.jpg  \n",
            "  inflating: myntradataset/images/8493.jpg  \n",
            "  inflating: myntradataset/images/8494.jpg  \n",
            "  inflating: myntradataset/images/8495.jpg  \n",
            "  inflating: myntradataset/images/8496.jpg  \n",
            "  inflating: myntradataset/images/8497.jpg  \n",
            "  inflating: myntradataset/images/8498.jpg  \n",
            "  inflating: myntradataset/images/8499.jpg  \n",
            "  inflating: myntradataset/images/8500.jpg  \n",
            "  inflating: myntradataset/images/8501.jpg  \n",
            "  inflating: myntradataset/images/8503.jpg  \n",
            "  inflating: myntradataset/images/8505.jpg  \n",
            "  inflating: myntradataset/images/8506.jpg  \n",
            "  inflating: myntradataset/images/8507.jpg  \n",
            "  inflating: myntradataset/images/8512.jpg  \n",
            "  inflating: myntradataset/images/8513.jpg  \n",
            "  inflating: myntradataset/images/8514.jpg  \n",
            "  inflating: myntradataset/images/8515.jpg  \n",
            "  inflating: myntradataset/images/8516.jpg  \n",
            "  inflating: myntradataset/images/8517.jpg  \n",
            "  inflating: myntradataset/images/8518.jpg  \n",
            "  inflating: myntradataset/images/8519.jpg  \n",
            "  inflating: myntradataset/images/8520.jpg  \n",
            "  inflating: myntradataset/images/8521.jpg  \n",
            "  inflating: myntradataset/images/8522.jpg  \n",
            "  inflating: myntradataset/images/8523.jpg  \n",
            "  inflating: myntradataset/images/8524.jpg  \n",
            "  inflating: myntradataset/images/8525.jpg  \n",
            "  inflating: myntradataset/images/8526.jpg  \n",
            "  inflating: myntradataset/images/8527.jpg  \n",
            "  inflating: myntradataset/images/8528.jpg  \n",
            "  inflating: myntradataset/images/8529.jpg  \n",
            "  inflating: myntradataset/images/8530.jpg  \n",
            "  inflating: myntradataset/images/8531.jpg  \n",
            "  inflating: myntradataset/images/8532.jpg  \n",
            "  inflating: myntradataset/images/8535.jpg  \n",
            "  inflating: myntradataset/images/8539.jpg  \n",
            "  inflating: myntradataset/images/8542.jpg  \n",
            "  inflating: myntradataset/images/8546.jpg  \n",
            "  inflating: myntradataset/images/8549.jpg  \n",
            "  inflating: myntradataset/images/8550.jpg  \n",
            "  inflating: myntradataset/images/8551.jpg  \n",
            "  inflating: myntradataset/images/8552.jpg  \n",
            "  inflating: myntradataset/images/8553.jpg  \n",
            "  inflating: myntradataset/images/8554.jpg  \n",
            "  inflating: myntradataset/images/8555.jpg  \n",
            "  inflating: myntradataset/images/8556.jpg  \n",
            "  inflating: myntradataset/images/8557.jpg  \n",
            "  inflating: myntradataset/images/8558.jpg  \n",
            "  inflating: myntradataset/images/8574.jpg  \n",
            "  inflating: myntradataset/images/8580.jpg  \n",
            "  inflating: myntradataset/images/8581.jpg  \n",
            "  inflating: myntradataset/images/8582.jpg  \n",
            "  inflating: myntradataset/images/8583.jpg  \n",
            "  inflating: myntradataset/images/8584.jpg  \n",
            "  inflating: myntradataset/images/8585.jpg  \n",
            "  inflating: myntradataset/images/8586.jpg  \n",
            "  inflating: myntradataset/images/8587.jpg  \n",
            "  inflating: myntradataset/images/8588.jpg  \n",
            "  inflating: myntradataset/images/8589.jpg  \n",
            "  inflating: myntradataset/images/8590.jpg  \n",
            "  inflating: myntradataset/images/8591.jpg  \n",
            "  inflating: myntradataset/images/8593.jpg  \n",
            "  inflating: myntradataset/images/8594.jpg  \n",
            "  inflating: myntradataset/images/8595.jpg  \n",
            "  inflating: myntradataset/images/8596.jpg  \n",
            "  inflating: myntradataset/images/8597.jpg  \n",
            "  inflating: myntradataset/images/8598.jpg  \n",
            "  inflating: myntradataset/images/8600.jpg  \n",
            "  inflating: myntradataset/images/8603.jpg  \n",
            "  inflating: myntradataset/images/8605.jpg  \n",
            "  inflating: myntradataset/images/8606.jpg  \n",
            "  inflating: myntradataset/images/8607.jpg  \n",
            "  inflating: myntradataset/images/8608.jpg  \n",
            "  inflating: myntradataset/images/8610.jpg  \n",
            "  inflating: myntradataset/images/8611.jpg  \n",
            "  inflating: myntradataset/images/8612.jpg  \n",
            "  inflating: myntradataset/images/8613.jpg  \n",
            "  inflating: myntradataset/images/8614.jpg  \n",
            "  inflating: myntradataset/images/8616.jpg  \n",
            "  inflating: myntradataset/images/8617.jpg  \n",
            "  inflating: myntradataset/images/8619.jpg  \n",
            "  inflating: myntradataset/images/8620.jpg  \n",
            "  inflating: myntradataset/images/8622.jpg  \n",
            "  inflating: myntradataset/images/8623.jpg  \n",
            "  inflating: myntradataset/images/8625.jpg  \n",
            "  inflating: myntradataset/images/8626.jpg  \n",
            "  inflating: myntradataset/images/8627.jpg  \n",
            "  inflating: myntradataset/images/8631.jpg  \n",
            "  inflating: myntradataset/images/8634.jpg  \n",
            "  inflating: myntradataset/images/8635.jpg  \n",
            "  inflating: myntradataset/images/8636.jpg  \n",
            "  inflating: myntradataset/images/8638.jpg  \n",
            "  inflating: myntradataset/images/8639.jpg  \n",
            "  inflating: myntradataset/images/8640.jpg  \n",
            "  inflating: myntradataset/images/8641.jpg  \n",
            "  inflating: myntradataset/images/8642.jpg  \n",
            "  inflating: myntradataset/images/8643.jpg  \n",
            "  inflating: myntradataset/images/8646.jpg  \n",
            "  inflating: myntradataset/images/8647.jpg  \n",
            "  inflating: myntradataset/images/8648.jpg  \n",
            "  inflating: myntradataset/images/8649.jpg  \n",
            "  inflating: myntradataset/images/8650.jpg  \n",
            "  inflating: myntradataset/images/8651.jpg  \n",
            "  inflating: myntradataset/images/8653.jpg  \n",
            "  inflating: myntradataset/images/8654.jpg  \n",
            "  inflating: myntradataset/images/8655.jpg  \n",
            "  inflating: myntradataset/images/8658.jpg  \n",
            "  inflating: myntradataset/images/8659.jpg  \n",
            "  inflating: myntradataset/images/8660.jpg  \n",
            "  inflating: myntradataset/images/8661.jpg  \n",
            "  inflating: myntradataset/images/8662.jpg  \n",
            "  inflating: myntradataset/images/8663.jpg  \n",
            "  inflating: myntradataset/images/8664.jpg  \n",
            "  inflating: myntradataset/images/8665.jpg  \n",
            "  inflating: myntradataset/images/8666.jpg  \n",
            "  inflating: myntradataset/images/8667.jpg  \n",
            "  inflating: myntradataset/images/8668.jpg  \n",
            "  inflating: myntradataset/images/8669.jpg  \n",
            "  inflating: myntradataset/images/8670.jpg  \n",
            "  inflating: myntradataset/images/8671.jpg  \n",
            "  inflating: myntradataset/images/8672.jpg  \n",
            "  inflating: myntradataset/images/8673.jpg  \n",
            "  inflating: myntradataset/images/8674.jpg  \n",
            "  inflating: myntradataset/images/8675.jpg  \n",
            "  inflating: myntradataset/images/8676.jpg  \n",
            "  inflating: myntradataset/images/8677.jpg  \n",
            "  inflating: myntradataset/images/8678.jpg  \n",
            "  inflating: myntradataset/images/8679.jpg  \n",
            "  inflating: myntradataset/images/8680.jpg  \n",
            "  inflating: myntradataset/images/8681.jpg  \n",
            "  inflating: myntradataset/images/8682.jpg  \n",
            "  inflating: myntradataset/images/8683.jpg  \n",
            "  inflating: myntradataset/images/8684.jpg  \n",
            "  inflating: myntradataset/images/8685.jpg  \n",
            "  inflating: myntradataset/images/8686.jpg  \n",
            "  inflating: myntradataset/images/8687.jpg  \n",
            "  inflating: myntradataset/images/8688.jpg  \n",
            "  inflating: myntradataset/images/8689.jpg  \n",
            "  inflating: myntradataset/images/8690.jpg  \n",
            "  inflating: myntradataset/images/8691.jpg  \n",
            "  inflating: myntradataset/images/8692.jpg  \n",
            "  inflating: myntradataset/images/8693.jpg  \n",
            "  inflating: myntradataset/images/8694.jpg  \n",
            "  inflating: myntradataset/images/8695.jpg  \n",
            "  inflating: myntradataset/images/8696.jpg  \n",
            "  inflating: myntradataset/images/8697.jpg  \n",
            "  inflating: myntradataset/images/8698.jpg  \n",
            "  inflating: myntradataset/images/8699.jpg  \n",
            "  inflating: myntradataset/images/8700.jpg  \n",
            "  inflating: myntradataset/images/8701.jpg  \n",
            "  inflating: myntradataset/images/8702.jpg  \n",
            "  inflating: myntradataset/images/8703.jpg  \n",
            "  inflating: myntradataset/images/8704.jpg  \n",
            "  inflating: myntradataset/images/8705.jpg  \n",
            "  inflating: myntradataset/images/8706.jpg  \n",
            "  inflating: myntradataset/images/8707.jpg  \n",
            "  inflating: myntradataset/images/8708.jpg  \n",
            "  inflating: myntradataset/images/8709.jpg  \n",
            "  inflating: myntradataset/images/8710.jpg  \n",
            "  inflating: myntradataset/images/8711.jpg  \n",
            "  inflating: myntradataset/images/8712.jpg  \n",
            "  inflating: myntradataset/images/8713.jpg  \n",
            "  inflating: myntradataset/images/8714.jpg  \n",
            "  inflating: myntradataset/images/8716.jpg  \n",
            "  inflating: myntradataset/images/8718.jpg  \n",
            "  inflating: myntradataset/images/8719.jpg  \n",
            "  inflating: myntradataset/images/8720.jpg  \n",
            "  inflating: myntradataset/images/8721.jpg  \n",
            "  inflating: myntradataset/images/8722.jpg  \n",
            "  inflating: myntradataset/images/8723.jpg  \n",
            "  inflating: myntradataset/images/8724.jpg  \n",
            "  inflating: myntradataset/images/8725.jpg  \n",
            "  inflating: myntradataset/images/8727.jpg  \n",
            "  inflating: myntradataset/images/8728.jpg  \n",
            "  inflating: myntradataset/images/8729.jpg  \n",
            "  inflating: myntradataset/images/8730.jpg  \n",
            "  inflating: myntradataset/images/8731.jpg  \n",
            "  inflating: myntradataset/images/8734.jpg  \n",
            "  inflating: myntradataset/images/8735.jpg  \n",
            "  inflating: myntradataset/images/8736.jpg  \n",
            "  inflating: myntradataset/images/8737.jpg  \n",
            "  inflating: myntradataset/images/8738.jpg  \n",
            "  inflating: myntradataset/images/8739.jpg  \n",
            "  inflating: myntradataset/images/8740.jpg  \n",
            "  inflating: myntradataset/images/8741.jpg  \n",
            "  inflating: myntradataset/images/8742.jpg  \n",
            "  inflating: myntradataset/images/8743.jpg  \n",
            "  inflating: myntradataset/images/8746.jpg  \n",
            "  inflating: myntradataset/images/8748.jpg  \n",
            "  inflating: myntradataset/images/8749.jpg  \n",
            "  inflating: myntradataset/images/8750.jpg  \n",
            "  inflating: myntradataset/images/8751.jpg  \n",
            "  inflating: myntradataset/images/8752.jpg  \n",
            "  inflating: myntradataset/images/8754.jpg  \n",
            "  inflating: myntradataset/images/8758.jpg  \n",
            "  inflating: myntradataset/images/8759.jpg  \n",
            "  inflating: myntradataset/images/8760.jpg  \n",
            "  inflating: myntradataset/images/8761.jpg  \n",
            "  inflating: myntradataset/images/8762.jpg  \n",
            "  inflating: myntradataset/images/8763.jpg  \n",
            "  inflating: myntradataset/images/8764.jpg  \n",
            "  inflating: myntradataset/images/8765.jpg  \n",
            "  inflating: myntradataset/images/8768.jpg  \n",
            "  inflating: myntradataset/images/8771.jpg  \n",
            "  inflating: myntradataset/images/8773.jpg  \n",
            "  inflating: myntradataset/images/8774.jpg  \n",
            "  inflating: myntradataset/images/8775.jpg  \n",
            "  inflating: myntradataset/images/8776.jpg  \n",
            "  inflating: myntradataset/images/8777.jpg  \n",
            "  inflating: myntradataset/images/8778.jpg  \n",
            "  inflating: myntradataset/images/8779.jpg  \n",
            "  inflating: myntradataset/images/8780.jpg  \n",
            "  inflating: myntradataset/images/8781.jpg  \n",
            "  inflating: myntradataset/images/8782.jpg  \n",
            "  inflating: myntradataset/images/8783.jpg  \n",
            "  inflating: myntradataset/images/8784.jpg  \n",
            "  inflating: myntradataset/images/8785.jpg  \n",
            "  inflating: myntradataset/images/8786.jpg  \n",
            "  inflating: myntradataset/images/8787.jpg  \n",
            "  inflating: myntradataset/images/8788.jpg  \n",
            "  inflating: myntradataset/images/8789.jpg  \n",
            "  inflating: myntradataset/images/8790.jpg  \n",
            "  inflating: myntradataset/images/8791.jpg  \n",
            "  inflating: myntradataset/images/8792.jpg  \n",
            "  inflating: myntradataset/images/8793.jpg  \n",
            "  inflating: myntradataset/images/8795.jpg  \n",
            "  inflating: myntradataset/images/8796.jpg  \n",
            "  inflating: myntradataset/images/8797.jpg  \n",
            "  inflating: myntradataset/images/8798.jpg  \n",
            "  inflating: myntradataset/images/8799.jpg  \n",
            "  inflating: myntradataset/images/8800.jpg  \n",
            "  inflating: myntradataset/images/8801.jpg  \n",
            "  inflating: myntradataset/images/8802.jpg  \n",
            "  inflating: myntradataset/images/8803.jpg  \n",
            "  inflating: myntradataset/images/8804.jpg  \n",
            "  inflating: myntradataset/images/8805.jpg  \n",
            "  inflating: myntradataset/images/8806.jpg  \n",
            "  inflating: myntradataset/images/8807.jpg  \n",
            "  inflating: myntradataset/images/8808.jpg  \n",
            "  inflating: myntradataset/images/8809.jpg  \n",
            "  inflating: myntradataset/images/8810.jpg  \n",
            "  inflating: myntradataset/images/8811.jpg  \n",
            "  inflating: myntradataset/images/8812.jpg  \n",
            "  inflating: myntradataset/images/8813.jpg  \n",
            "  inflating: myntradataset/images/8814.jpg  \n",
            "  inflating: myntradataset/images/8815.jpg  \n",
            "  inflating: myntradataset/images/8816.jpg  \n",
            "  inflating: myntradataset/images/8817.jpg  \n",
            "  inflating: myntradataset/images/8818.jpg  \n",
            "  inflating: myntradataset/images/8819.jpg  \n",
            "  inflating: myntradataset/images/8820.jpg  \n",
            "  inflating: myntradataset/images/8821.jpg  \n",
            "  inflating: myntradataset/images/8823.jpg  \n",
            "  inflating: myntradataset/images/8824.jpg  \n",
            "  inflating: myntradataset/images/8825.jpg  \n",
            "  inflating: myntradataset/images/8826.jpg  \n",
            "  inflating: myntradataset/images/8827.jpg  \n",
            "  inflating: myntradataset/images/8828.jpg  \n",
            "  inflating: myntradataset/images/8829.jpg  \n",
            "  inflating: myntradataset/images/8830.jpg  \n",
            "  inflating: myntradataset/images/8831.jpg  \n",
            "  inflating: myntradataset/images/8832.jpg  \n",
            "  inflating: myntradataset/images/8833.jpg  \n",
            "  inflating: myntradataset/images/8834.jpg  \n",
            "  inflating: myntradataset/images/8835.jpg  \n",
            "  inflating: myntradataset/images/8837.jpg  \n",
            "  inflating: myntradataset/images/8838.jpg  \n",
            "  inflating: myntradataset/images/8839.jpg  \n",
            "  inflating: myntradataset/images/8840.jpg  \n",
            "  inflating: myntradataset/images/8841.jpg  \n",
            "  inflating: myntradataset/images/8842.jpg  \n",
            "  inflating: myntradataset/images/8843.jpg  \n",
            "  inflating: myntradataset/images/8844.jpg  \n",
            "  inflating: myntradataset/images/8845.jpg  \n",
            "  inflating: myntradataset/images/8846.jpg  \n",
            "  inflating: myntradataset/images/8847.jpg  \n",
            "  inflating: myntradataset/images/8848.jpg  \n",
            "  inflating: myntradataset/images/8851.jpg  \n",
            "  inflating: myntradataset/images/8852.jpg  \n",
            "  inflating: myntradataset/images/8853.jpg  \n",
            "  inflating: myntradataset/images/8854.jpg  \n",
            "  inflating: myntradataset/images/8855.jpg  \n",
            "  inflating: myntradataset/images/8856.jpg  \n",
            "  inflating: myntradataset/images/8857.jpg  \n",
            "  inflating: myntradataset/images/8858.jpg  \n",
            "  inflating: myntradataset/images/8859.jpg  \n",
            "  inflating: myntradataset/images/8860.jpg  \n",
            "  inflating: myntradataset/images/8861.jpg  \n",
            "  inflating: myntradataset/images/8862.jpg  \n",
            "  inflating: myntradataset/images/8863.jpg  \n",
            "  inflating: myntradataset/images/8864.jpg  \n",
            "  inflating: myntradataset/images/8865.jpg  \n",
            "  inflating: myntradataset/images/8866.jpg  \n",
            "  inflating: myntradataset/images/8867.jpg  \n",
            "  inflating: myntradataset/images/8868.jpg  \n",
            "  inflating: myntradataset/images/8869.jpg  \n",
            "  inflating: myntradataset/images/8871.jpg  \n",
            "  inflating: myntradataset/images/8872.jpg  \n",
            "  inflating: myntradataset/images/8877.jpg  \n",
            "  inflating: myntradataset/images/8879.jpg  \n",
            "  inflating: myntradataset/images/8880.jpg  \n",
            "  inflating: myntradataset/images/8881.jpg  \n",
            "  inflating: myntradataset/images/8882.jpg  \n",
            "  inflating: myntradataset/images/8883.jpg  \n",
            "  inflating: myntradataset/images/8884.jpg  \n",
            "  inflating: myntradataset/images/8885.jpg  \n",
            "  inflating: myntradataset/images/8887.jpg  \n",
            "  inflating: myntradataset/images/8888.jpg  \n",
            "  inflating: myntradataset/images/8889.jpg  \n",
            "  inflating: myntradataset/images/8890.jpg  \n",
            "  inflating: myntradataset/images/8891.jpg  \n",
            "  inflating: myntradataset/images/8892.jpg  \n",
            "  inflating: myntradataset/images/8895.jpg  \n",
            "  inflating: myntradataset/images/8896.jpg  \n",
            "  inflating: myntradataset/images/8897.jpg  \n",
            "  inflating: myntradataset/images/8898.jpg  \n",
            "  inflating: myntradataset/images/8899.jpg  \n",
            "  inflating: myntradataset/images/8900.jpg  \n",
            "  inflating: myntradataset/images/8901.jpg  \n",
            "  inflating: myntradataset/images/8903.jpg  \n",
            "  inflating: myntradataset/images/8904.jpg  \n",
            "  inflating: myntradataset/images/8905.jpg  \n",
            "  inflating: myntradataset/images/8907.jpg  \n",
            "  inflating: myntradataset/images/8908.jpg  \n",
            "  inflating: myntradataset/images/8909.jpg  \n",
            "  inflating: myntradataset/images/8910.jpg  \n",
            "  inflating: myntradataset/images/8911.jpg  \n",
            "  inflating: myntradataset/images/8912.jpg  \n",
            "  inflating: myntradataset/images/8913.jpg  \n",
            "  inflating: myntradataset/images/8914.jpg  \n",
            "  inflating: myntradataset/images/8915.jpg  \n",
            "  inflating: myntradataset/images/8916.jpg  \n",
            "  inflating: myntradataset/images/8917.jpg  \n",
            "  inflating: myntradataset/images/8918.jpg  \n",
            "  inflating: myntradataset/images/8919.jpg  \n",
            "  inflating: myntradataset/images/8920.jpg  \n",
            "  inflating: myntradataset/images/8921.jpg  \n",
            "  inflating: myntradataset/images/8922.jpg  \n",
            "  inflating: myntradataset/images/8923.jpg  \n",
            "  inflating: myntradataset/images/8924.jpg  \n",
            "  inflating: myntradataset/images/8925.jpg  \n",
            "  inflating: myntradataset/images/8926.jpg  \n",
            "  inflating: myntradataset/images/8927.jpg  \n",
            "  inflating: myntradataset/images/8928.jpg  \n",
            "  inflating: myntradataset/images/8929.jpg  \n",
            "  inflating: myntradataset/images/8930.jpg  \n",
            "  inflating: myntradataset/images/8931.jpg  \n",
            "  inflating: myntradataset/images/8932.jpg  \n",
            "  inflating: myntradataset/images/8933.jpg  \n",
            "  inflating: myntradataset/images/8934.jpg  \n",
            "  inflating: myntradataset/images/8935.jpg  \n",
            "  inflating: myntradataset/images/8936.jpg  \n",
            "  inflating: myntradataset/images/8937.jpg  \n",
            "  inflating: myntradataset/images/8938.jpg  \n",
            "  inflating: myntradataset/images/8939.jpg  \n",
            "  inflating: myntradataset/images/8940.jpg  \n",
            "  inflating: myntradataset/images/8941.jpg  \n",
            "  inflating: myntradataset/images/8942.jpg  \n",
            "  inflating: myntradataset/images/8943.jpg  \n",
            "  inflating: myntradataset/images/8944.jpg  \n",
            "  inflating: myntradataset/images/8946.jpg  \n",
            "  inflating: myntradataset/images/8947.jpg  \n",
            "  inflating: myntradataset/images/8948.jpg  \n",
            "  inflating: myntradataset/images/8949.jpg  \n",
            "  inflating: myntradataset/images/8950.jpg  \n",
            "  inflating: myntradataset/images/8951.jpg  \n",
            "  inflating: myntradataset/images/8952.jpg  \n",
            "  inflating: myntradataset/images/8954.jpg  \n",
            "  inflating: myntradataset/images/8955.jpg  \n",
            "  inflating: myntradataset/images/8956.jpg  \n",
            "  inflating: myntradataset/images/8957.jpg  \n",
            "  inflating: myntradataset/images/8958.jpg  \n",
            "  inflating: myntradataset/images/8959.jpg  \n",
            "  inflating: myntradataset/images/8960.jpg  \n",
            "  inflating: myntradataset/images/8961.jpg  \n",
            "  inflating: myntradataset/images/8962.jpg  \n",
            "  inflating: myntradataset/images/8963.jpg  \n",
            "  inflating: myntradataset/images/8964.jpg  \n",
            "  inflating: myntradataset/images/8965.jpg  \n",
            "  inflating: myntradataset/images/8966.jpg  \n",
            "  inflating: myntradataset/images/8967.jpg  \n",
            "  inflating: myntradataset/images/8968.jpg  \n",
            "  inflating: myntradataset/images/8969.jpg  \n",
            "  inflating: myntradataset/images/8970.jpg  \n",
            "  inflating: myntradataset/images/8971.jpg  \n",
            "  inflating: myntradataset/images/8972.jpg  \n",
            "  inflating: myntradataset/images/8973.jpg  \n",
            "  inflating: myntradataset/images/8974.jpg  \n",
            "  inflating: myntradataset/images/8975.jpg  \n",
            "  inflating: myntradataset/images/8976.jpg  \n",
            "  inflating: myntradataset/images/8977.jpg  \n",
            "  inflating: myntradataset/images/8978.jpg  \n",
            "  inflating: myntradataset/images/8979.jpg  \n",
            "  inflating: myntradataset/images/8980.jpg  \n",
            "  inflating: myntradataset/images/8981.jpg  \n",
            "  inflating: myntradataset/images/8982.jpg  \n",
            "  inflating: myntradataset/images/8983.jpg  \n",
            "  inflating: myntradataset/images/8984.jpg  \n",
            "  inflating: myntradataset/images/8986.jpg  \n",
            "  inflating: myntradataset/images/8987.jpg  \n",
            "  inflating: myntradataset/images/8988.jpg  \n",
            "  inflating: myntradataset/images/8989.jpg  \n",
            "  inflating: myntradataset/images/8990.jpg  \n",
            "  inflating: myntradataset/images/8991.jpg  \n",
            "  inflating: myntradataset/images/8992.jpg  \n",
            "  inflating: myntradataset/images/8993.jpg  \n",
            "  inflating: myntradataset/images/8994.jpg  \n",
            "  inflating: myntradataset/images/8995.jpg  \n",
            "  inflating: myntradataset/images/8996.jpg  \n",
            "  inflating: myntradataset/images/8997.jpg  \n",
            "  inflating: myntradataset/images/8998.jpg  \n",
            "  inflating: myntradataset/images/8999.jpg  \n",
            "  inflating: myntradataset/images/9000.jpg  \n",
            "  inflating: myntradataset/images/9001.jpg  \n",
            "  inflating: myntradataset/images/9002.jpg  \n",
            "  inflating: myntradataset/images/9003.jpg  \n",
            "  inflating: myntradataset/images/9004.jpg  \n",
            "  inflating: myntradataset/images/9005.jpg  \n",
            "  inflating: myntradataset/images/9007.jpg  \n",
            "  inflating: myntradataset/images/9008.jpg  \n",
            "  inflating: myntradataset/images/9009.jpg  \n",
            "  inflating: myntradataset/images/9010.jpg  \n",
            "  inflating: myntradataset/images/9011.jpg  \n",
            "  inflating: myntradataset/images/9012.jpg  \n",
            "  inflating: myntradataset/images/9013.jpg  \n",
            "  inflating: myntradataset/images/9014.jpg  \n",
            "  inflating: myntradataset/images/9015.jpg  \n",
            "  inflating: myntradataset/images/9016.jpg  \n",
            "  inflating: myntradataset/images/9017.jpg  \n",
            "  inflating: myntradataset/images/9018.jpg  \n",
            "  inflating: myntradataset/images/9019.jpg  \n",
            "  inflating: myntradataset/images/9020.jpg  \n",
            "  inflating: myntradataset/images/9022.jpg  \n",
            "  inflating: myntradataset/images/9023.jpg  \n",
            "  inflating: myntradataset/images/9024.jpg  \n",
            "  inflating: myntradataset/images/9025.jpg  \n",
            "  inflating: myntradataset/images/9026.jpg  \n",
            "  inflating: myntradataset/images/9027.jpg  \n",
            "  inflating: myntradataset/images/9028.jpg  \n",
            "  inflating: myntradataset/images/9029.jpg  \n",
            "  inflating: myntradataset/images/9030.jpg  \n",
            "  inflating: myntradataset/images/9031.jpg  \n",
            "  inflating: myntradataset/images/9032.jpg  \n",
            "  inflating: myntradataset/images/9033.jpg  \n",
            "  inflating: myntradataset/images/9034.jpg  \n",
            "  inflating: myntradataset/images/9035.jpg  \n",
            "  inflating: myntradataset/images/9036.jpg  \n",
            "  inflating: myntradataset/images/9037.jpg  \n",
            "  inflating: myntradataset/images/9038.jpg  \n",
            "  inflating: myntradataset/images/9039.jpg  \n",
            "  inflating: myntradataset/images/9040.jpg  \n",
            "  inflating: myntradataset/images/9041.jpg  \n",
            "  inflating: myntradataset/images/9042.jpg  \n",
            "  inflating: myntradataset/images/9043.jpg  \n",
            "  inflating: myntradataset/images/9044.jpg  \n",
            "  inflating: myntradataset/images/9045.jpg  \n",
            "  inflating: myntradataset/images/9046.jpg  \n",
            "  inflating: myntradataset/images/9047.jpg  \n",
            "  inflating: myntradataset/images/9048.jpg  \n",
            "  inflating: myntradataset/images/9049.jpg  \n",
            "  inflating: myntradataset/images/9050.jpg  \n",
            "  inflating: myntradataset/images/9051.jpg  \n",
            "  inflating: myntradataset/images/9052.jpg  \n",
            "  inflating: myntradataset/images/9053.jpg  \n",
            "  inflating: myntradataset/images/9054.jpg  \n",
            "  inflating: myntradataset/images/9055.jpg  \n",
            "  inflating: myntradataset/images/9056.jpg  \n",
            "  inflating: myntradataset/images/9057.jpg  \n",
            "  inflating: myntradataset/images/9058.jpg  \n",
            "  inflating: myntradataset/images/9059.jpg  \n",
            "  inflating: myntradataset/images/9060.jpg  \n",
            "  inflating: myntradataset/images/9061.jpg  \n",
            "  inflating: myntradataset/images/9062.jpg  \n",
            "  inflating: myntradataset/images/9063.jpg  \n",
            "  inflating: myntradataset/images/9064.jpg  \n",
            "  inflating: myntradataset/images/9065.jpg  \n",
            "  inflating: myntradataset/images/9066.jpg  \n",
            "  inflating: myntradataset/images/9067.jpg  \n",
            "  inflating: myntradataset/images/9069.jpg  \n",
            "  inflating: myntradataset/images/9070.jpg  \n",
            "  inflating: myntradataset/images/9071.jpg  \n",
            "  inflating: myntradataset/images/9072.jpg  \n",
            "  inflating: myntradataset/images/9073.jpg  \n",
            "  inflating: myntradataset/images/9074.jpg  \n",
            "  inflating: myntradataset/images/9075.jpg  \n",
            "  inflating: myntradataset/images/9076.jpg  \n",
            "  inflating: myntradataset/images/9077.jpg  \n",
            "  inflating: myntradataset/images/9078.jpg  \n",
            "  inflating: myntradataset/images/9079.jpg  \n",
            "  inflating: myntradataset/images/9080.jpg  \n",
            "  inflating: myntradataset/images/9081.jpg  \n",
            "  inflating: myntradataset/images/9082.jpg  \n",
            "  inflating: myntradataset/images/9083.jpg  \n",
            "  inflating: myntradataset/images/9084.jpg  \n",
            "  inflating: myntradataset/images/9085.jpg  \n",
            "  inflating: myntradataset/images/9086.jpg  \n",
            "  inflating: myntradataset/images/9087.jpg  \n",
            "  inflating: myntradataset/images/9088.jpg  \n",
            "  inflating: myntradataset/images/9089.jpg  \n",
            "  inflating: myntradataset/images/9090.jpg  \n",
            "  inflating: myntradataset/images/9091.jpg  \n",
            "  inflating: myntradataset/images/9092.jpg  \n",
            "  inflating: myntradataset/images/9093.jpg  \n",
            "  inflating: myntradataset/images/9094.jpg  \n",
            "  inflating: myntradataset/images/9095.jpg  \n",
            "  inflating: myntradataset/images/9096.jpg  \n",
            "  inflating: myntradataset/images/9097.jpg  \n",
            "  inflating: myntradataset/images/9099.jpg  \n",
            "  inflating: myntradataset/images/9100.jpg  \n",
            "  inflating: myntradataset/images/9101.jpg  \n",
            "  inflating: myntradataset/images/9102.jpg  \n",
            "  inflating: myntradataset/images/9103.jpg  \n",
            "  inflating: myntradataset/images/9104.jpg  \n",
            "  inflating: myntradataset/images/9105.jpg  \n",
            "  inflating: myntradataset/images/9106.jpg  \n",
            "  inflating: myntradataset/images/9107.jpg  \n",
            "  inflating: myntradataset/images/9108.jpg  \n",
            "  inflating: myntradataset/images/9109.jpg  \n",
            "  inflating: myntradataset/images/9110.jpg  \n",
            "  inflating: myntradataset/images/9111.jpg  \n",
            "  inflating: myntradataset/images/9112.jpg  \n",
            "  inflating: myntradataset/images/9113.jpg  \n",
            "  inflating: myntradataset/images/9114.jpg  \n",
            "  inflating: myntradataset/images/9115.jpg  \n",
            "  inflating: myntradataset/images/9116.jpg  \n",
            "  inflating: myntradataset/images/9117.jpg  \n",
            "  inflating: myntradataset/images/9118.jpg  \n",
            "  inflating: myntradataset/images/9119.jpg  \n",
            "  inflating: myntradataset/images/9120.jpg  \n",
            "  inflating: myntradataset/images/9121.jpg  \n",
            "  inflating: myntradataset/images/9122.jpg  \n",
            "  inflating: myntradataset/images/9123.jpg  \n",
            "  inflating: myntradataset/images/9124.jpg  \n",
            "  inflating: myntradataset/images/9125.jpg  \n",
            "  inflating: myntradataset/images/9126.jpg  \n",
            "  inflating: myntradataset/images/9127.jpg  \n",
            "  inflating: myntradataset/images/9128.jpg  \n",
            "  inflating: myntradataset/images/9129.jpg  \n",
            "  inflating: myntradataset/images/9130.jpg  \n",
            "  inflating: myntradataset/images/9131.jpg  \n",
            "  inflating: myntradataset/images/9132.jpg  \n",
            "  inflating: myntradataset/images/9133.jpg  \n",
            "  inflating: myntradataset/images/9134.jpg  \n",
            "  inflating: myntradataset/images/9135.jpg  \n",
            "  inflating: myntradataset/images/9136.jpg  \n",
            "  inflating: myntradataset/images/9137.jpg  \n",
            "  inflating: myntradataset/images/9138.jpg  \n",
            "  inflating: myntradataset/images/9139.jpg  \n",
            "  inflating: myntradataset/images/9140.jpg  \n",
            "  inflating: myntradataset/images/9141.jpg  \n",
            "  inflating: myntradataset/images/9142.jpg  \n",
            "  inflating: myntradataset/images/9143.jpg  \n",
            "  inflating: myntradataset/images/9144.jpg  \n",
            "  inflating: myntradataset/images/9145.jpg  \n",
            "  inflating: myntradataset/images/9146.jpg  \n",
            "  inflating: myntradataset/images/9147.jpg  \n",
            "  inflating: myntradataset/images/9148.jpg  \n",
            "  inflating: myntradataset/images/9149.jpg  \n",
            "  inflating: myntradataset/images/9150.jpg  \n",
            "  inflating: myntradataset/images/9151.jpg  \n",
            "  inflating: myntradataset/images/9152.jpg  \n",
            "  inflating: myntradataset/images/9153.jpg  \n",
            "  inflating: myntradataset/images/9154.jpg  \n",
            "  inflating: myntradataset/images/9155.jpg  \n",
            "  inflating: myntradataset/images/9156.jpg  \n",
            "  inflating: myntradataset/images/9157.jpg  \n",
            "  inflating: myntradataset/images/9158.jpg  \n",
            "  inflating: myntradataset/images/9160.jpg  \n",
            "  inflating: myntradataset/images/9161.jpg  \n",
            "  inflating: myntradataset/images/9162.jpg  \n",
            "  inflating: myntradataset/images/9163.jpg  \n",
            "  inflating: myntradataset/images/9164.jpg  \n",
            "  inflating: myntradataset/images/9166.jpg  \n",
            "  inflating: myntradataset/images/9167.jpg  \n",
            "  inflating: myntradataset/images/9168.jpg  \n",
            "  inflating: myntradataset/images/9169.jpg  \n",
            "  inflating: myntradataset/images/9170.jpg  \n",
            "  inflating: myntradataset/images/9171.jpg  \n",
            "  inflating: myntradataset/images/9173.jpg  \n",
            "  inflating: myntradataset/images/9174.jpg  \n",
            "  inflating: myntradataset/images/9175.jpg  \n",
            "  inflating: myntradataset/images/9176.jpg  \n",
            "  inflating: myntradataset/images/9177.jpg  \n",
            "  inflating: myntradataset/images/9178.jpg  \n",
            "  inflating: myntradataset/images/9179.jpg  \n",
            "  inflating: myntradataset/images/9180.jpg  \n",
            "  inflating: myntradataset/images/9181.jpg  \n",
            "  inflating: myntradataset/images/9182.jpg  \n",
            "  inflating: myntradataset/images/9186.jpg  \n",
            "  inflating: myntradataset/images/9187.jpg  \n",
            "  inflating: myntradataset/images/9189.jpg  \n",
            "  inflating: myntradataset/images/9191.jpg  \n",
            "  inflating: myntradataset/images/9195.jpg  \n",
            "  inflating: myntradataset/images/9196.jpg  \n",
            "  inflating: myntradataset/images/9197.jpg  \n",
            "  inflating: myntradataset/images/9198.jpg  \n",
            "  inflating: myntradataset/images/9199.jpg  \n",
            "  inflating: myntradataset/images/9200.jpg  \n",
            "  inflating: myntradataset/images/9201.jpg  \n",
            "  inflating: myntradataset/images/9202.jpg  \n",
            "  inflating: myntradataset/images/9203.jpg  \n",
            "  inflating: myntradataset/images/9204.jpg  \n",
            "  inflating: myntradataset/images/9205.jpg  \n",
            "  inflating: myntradataset/images/9206.jpg  \n",
            "  inflating: myntradataset/images/9207.jpg  \n",
            "  inflating: myntradataset/images/9208.jpg  \n",
            "  inflating: myntradataset/images/9209.jpg  \n",
            "  inflating: myntradataset/images/9210.jpg  \n",
            "  inflating: myntradataset/images/9211.jpg  \n",
            "  inflating: myntradataset/images/9212.jpg  \n",
            "  inflating: myntradataset/images/9213.jpg  \n",
            "  inflating: myntradataset/images/9214.jpg  \n",
            "  inflating: myntradataset/images/9215.jpg  \n",
            "  inflating: myntradataset/images/9216.jpg  \n",
            "  inflating: myntradataset/images/9217.jpg  \n",
            "  inflating: myntradataset/images/9218.jpg  \n",
            "  inflating: myntradataset/images/9219.jpg  \n",
            "  inflating: myntradataset/images/9220.jpg  \n",
            "  inflating: myntradataset/images/9221.jpg  \n",
            "  inflating: myntradataset/images/9222.jpg  \n",
            "  inflating: myntradataset/images/9223.jpg  \n",
            "  inflating: myntradataset/images/9225.jpg  \n",
            "  inflating: myntradataset/images/9226.jpg  \n",
            "  inflating: myntradataset/images/9227.jpg  \n",
            "  inflating: myntradataset/images/9229.jpg  \n",
            "  inflating: myntradataset/images/9230.jpg  \n",
            "  inflating: myntradataset/images/9231.jpg  \n",
            "  inflating: myntradataset/images/9233.jpg  \n",
            "  inflating: myntradataset/images/9235.jpg  \n",
            "  inflating: myntradataset/images/9236.jpg  \n",
            "  inflating: myntradataset/images/9237.jpg  \n",
            "  inflating: myntradataset/images/9239.jpg  \n",
            "  inflating: myntradataset/images/9240.jpg  \n",
            "  inflating: myntradataset/images/9241.jpg  \n",
            "  inflating: myntradataset/images/9242.jpg  \n",
            "  inflating: myntradataset/images/9243.jpg  \n",
            "  inflating: myntradataset/images/9244.jpg  \n",
            "  inflating: myntradataset/images/9245.jpg  \n",
            "  inflating: myntradataset/images/9246.jpg  \n",
            "  inflating: myntradataset/images/9247.jpg  \n",
            "  inflating: myntradataset/images/9248.jpg  \n",
            "  inflating: myntradataset/images/9249.jpg  \n",
            "  inflating: myntradataset/images/9250.jpg  \n",
            "  inflating: myntradataset/images/9251.jpg  \n",
            "  inflating: myntradataset/images/9252.jpg  \n",
            "  inflating: myntradataset/images/9253.jpg  \n",
            "  inflating: myntradataset/images/9254.jpg  \n",
            "  inflating: myntradataset/images/9255.jpg  \n",
            "  inflating: myntradataset/images/9256.jpg  \n",
            "  inflating: myntradataset/images/9257.jpg  \n",
            "  inflating: myntradataset/images/9258.jpg  \n",
            "  inflating: myntradataset/images/9259.jpg  \n",
            "  inflating: myntradataset/images/9260.jpg  \n",
            "  inflating: myntradataset/images/9261.jpg  \n",
            "  inflating: myntradataset/images/9262.jpg  \n",
            "  inflating: myntradataset/images/9263.jpg  \n",
            "  inflating: myntradataset/images/9264.jpg  \n",
            "  inflating: myntradataset/images/9265.jpg  \n",
            "  inflating: myntradataset/images/9266.jpg  \n",
            "  inflating: myntradataset/images/9267.jpg  \n",
            "  inflating: myntradataset/images/9268.jpg  \n",
            "  inflating: myntradataset/images/9269.jpg  \n",
            "  inflating: myntradataset/images/9270.jpg  \n",
            "  inflating: myntradataset/images/9271.jpg  \n",
            "  inflating: myntradataset/images/9272.jpg  \n",
            "  inflating: myntradataset/images/9273.jpg  \n",
            "  inflating: myntradataset/images/9274.jpg  \n",
            "  inflating: myntradataset/images/9289.jpg  \n",
            "  inflating: myntradataset/images/9305.jpg  \n",
            "  inflating: myntradataset/images/9309.jpg  \n",
            "  inflating: myntradataset/images/9310.jpg  \n",
            "  inflating: myntradataset/images/9321.jpg  \n",
            "  inflating: myntradataset/images/9323.jpg  \n",
            "  inflating: myntradataset/images/9330.jpg  \n",
            "  inflating: myntradataset/images/9331.jpg  \n",
            "  inflating: myntradataset/images/9332.jpg  \n",
            "  inflating: myntradataset/images/9333.jpg  \n",
            "  inflating: myntradataset/images/9334.jpg  \n",
            "  inflating: myntradataset/images/9335.jpg  \n",
            "  inflating: myntradataset/images/9336.jpg  \n",
            "  inflating: myntradataset/images/9337.jpg  \n",
            "  inflating: myntradataset/images/9338.jpg  \n",
            "  inflating: myntradataset/images/9339.jpg  \n",
            "  inflating: myntradataset/images/9340.jpg  \n",
            "  inflating: myntradataset/images/9341.jpg  \n",
            "  inflating: myntradataset/images/9342.jpg  \n",
            "  inflating: myntradataset/images/9343.jpg  \n",
            "  inflating: myntradataset/images/9344.jpg  \n",
            "  inflating: myntradataset/images/9345.jpg  \n",
            "  inflating: myntradataset/images/9346.jpg  \n",
            "  inflating: myntradataset/images/9347.jpg  \n",
            "  inflating: myntradataset/images/9348.jpg  \n",
            "  inflating: myntradataset/images/9350.jpg  \n",
            "  inflating: myntradataset/images/9351.jpg  \n",
            "  inflating: myntradataset/images/9352.jpg  \n",
            "  inflating: myntradataset/images/9354.jpg  \n",
            "  inflating: myntradataset/images/9355.jpg  \n",
            "  inflating: myntradataset/images/9356.jpg  \n",
            "  inflating: myntradataset/images/9357.jpg  \n",
            "  inflating: myntradataset/images/9358.jpg  \n",
            "  inflating: myntradataset/images/9359.jpg  \n",
            "  inflating: myntradataset/images/9360.jpg  \n",
            "  inflating: myntradataset/images/9361.jpg  \n",
            "  inflating: myntradataset/images/9362.jpg  \n",
            "  inflating: myntradataset/images/9363.jpg  \n",
            "  inflating: myntradataset/images/9364.jpg  \n",
            "  inflating: myntradataset/images/9365.jpg  \n",
            "  inflating: myntradataset/images/9366.jpg  \n",
            "  inflating: myntradataset/images/9367.jpg  \n",
            "  inflating: myntradataset/images/9368.jpg  \n",
            "  inflating: myntradataset/images/9369.jpg  \n",
            "  inflating: myntradataset/images/9370.jpg  \n",
            "  inflating: myntradataset/images/9371.jpg  \n",
            "  inflating: myntradataset/images/9372.jpg  \n",
            "  inflating: myntradataset/images/9373.jpg  \n",
            "  inflating: myntradataset/images/9374.jpg  \n",
            "  inflating: myntradataset/images/9375.jpg  \n",
            "  inflating: myntradataset/images/9376.jpg  \n",
            "  inflating: myntradataset/images/9377.jpg  \n",
            "  inflating: myntradataset/images/9378.jpg  \n",
            "  inflating: myntradataset/images/9379.jpg  \n",
            "  inflating: myntradataset/images/9380.jpg  \n",
            "  inflating: myntradataset/images/9381.jpg  \n",
            "  inflating: myntradataset/images/9382.jpg  \n",
            "  inflating: myntradataset/images/9383.jpg  \n",
            "  inflating: myntradataset/images/9384.jpg  \n",
            "  inflating: myntradataset/images/9385.jpg  \n",
            "  inflating: myntradataset/images/9386.jpg  \n",
            "  inflating: myntradataset/images/9387.jpg  \n",
            "  inflating: myntradataset/images/9389.jpg  \n",
            "  inflating: myntradataset/images/9390.jpg  \n",
            "  inflating: myntradataset/images/9391.jpg  \n",
            "  inflating: myntradataset/images/9392.jpg  \n",
            "  inflating: myntradataset/images/9393.jpg  \n",
            "  inflating: myntradataset/images/9394.jpg  \n",
            "  inflating: myntradataset/images/9395.jpg  \n",
            "  inflating: myntradataset/images/9396.jpg  \n",
            "  inflating: myntradataset/images/9397.jpg  \n",
            "  inflating: myntradataset/images/9398.jpg  \n",
            "  inflating: myntradataset/images/9399.jpg  \n",
            "  inflating: myntradataset/images/9400.jpg  \n",
            "  inflating: myntradataset/images/9401.jpg  \n",
            "  inflating: myntradataset/images/9402.jpg  \n",
            "  inflating: myntradataset/images/9403.jpg  \n",
            "  inflating: myntradataset/images/9404.jpg  \n",
            "  inflating: myntradataset/images/9405.jpg  \n",
            "  inflating: myntradataset/images/9406.jpg  \n",
            "  inflating: myntradataset/images/9407.jpg  \n",
            "  inflating: myntradataset/images/9408.jpg  \n",
            "  inflating: myntradataset/images/9409.jpg  \n",
            "  inflating: myntradataset/images/9410.jpg  \n",
            "  inflating: myntradataset/images/9411.jpg  \n",
            "  inflating: myntradataset/images/9412.jpg  \n",
            "  inflating: myntradataset/images/9413.jpg  \n",
            "  inflating: myntradataset/images/9415.jpg  \n",
            "  inflating: myntradataset/images/9416.jpg  \n",
            "  inflating: myntradataset/images/9417.jpg  \n",
            "  inflating: myntradataset/images/9418.jpg  \n",
            "  inflating: myntradataset/images/9419.jpg  \n",
            "  inflating: myntradataset/images/9420.jpg  \n",
            "  inflating: myntradataset/images/9421.jpg  \n",
            "  inflating: myntradataset/images/9422.jpg  \n",
            "  inflating: myntradataset/images/9423.jpg  \n",
            "  inflating: myntradataset/images/9424.jpg  \n",
            "  inflating: myntradataset/images/9425.jpg  \n",
            "  inflating: myntradataset/images/9426.jpg  \n",
            "  inflating: myntradataset/images/9427.jpg  \n",
            "  inflating: myntradataset/images/9428.jpg  \n",
            "  inflating: myntradataset/images/9430.jpg  \n",
            "  inflating: myntradataset/images/9431.jpg  \n",
            "  inflating: myntradataset/images/9432.jpg  \n",
            "  inflating: myntradataset/images/9433.jpg  \n",
            "  inflating: myntradataset/images/9434.jpg  \n",
            "  inflating: myntradataset/images/9435.jpg  \n",
            "  inflating: myntradataset/images/9436.jpg  \n",
            "  inflating: myntradataset/images/9437.jpg  \n",
            "  inflating: myntradataset/images/9438.jpg  \n",
            "  inflating: myntradataset/images/9439.jpg  \n",
            "  inflating: myntradataset/images/9440.jpg  \n",
            "  inflating: myntradataset/images/9441.jpg  \n",
            "  inflating: myntradataset/images/9442.jpg  \n",
            "  inflating: myntradataset/images/9443.jpg  \n",
            "  inflating: myntradataset/images/9444.jpg  \n",
            "  inflating: myntradataset/images/9445.jpg  \n",
            "  inflating: myntradataset/images/9447.jpg  \n",
            "  inflating: myntradataset/images/9449.jpg  \n",
            "  inflating: myntradataset/images/9450.jpg  \n",
            "  inflating: myntradataset/images/9451.jpg  \n",
            "  inflating: myntradataset/images/9452.jpg  \n",
            "  inflating: myntradataset/images/9453.jpg  \n",
            "  inflating: myntradataset/images/9454.jpg  \n",
            "  inflating: myntradataset/images/9455.jpg  \n",
            "  inflating: myntradataset/images/9456.jpg  \n",
            "  inflating: myntradataset/images/9457.jpg  \n",
            "  inflating: myntradataset/images/9458.jpg  \n",
            "  inflating: myntradataset/images/9460.jpg  \n",
            "  inflating: myntradataset/images/9461.jpg  \n",
            "  inflating: myntradataset/images/9462.jpg  \n",
            "  inflating: myntradataset/images/9463.jpg  \n",
            "  inflating: myntradataset/images/9464.jpg  \n",
            "  inflating: myntradataset/images/9465.jpg  \n",
            "  inflating: myntradataset/images/9466.jpg  \n",
            "  inflating: myntradataset/images/9469.jpg  \n",
            "  inflating: myntradataset/images/9470.jpg  \n",
            "  inflating: myntradataset/images/9471.jpg  \n",
            "  inflating: myntradataset/images/9472.jpg  \n",
            "  inflating: myntradataset/images/9473.jpg  \n",
            "  inflating: myntradataset/images/9474.jpg  \n",
            "  inflating: myntradataset/images/9475.jpg  \n",
            "  inflating: myntradataset/images/9476.jpg  \n",
            "  inflating: myntradataset/images/9477.jpg  \n",
            "  inflating: myntradataset/images/9478.jpg  \n",
            "  inflating: myntradataset/images/9479.jpg  \n",
            "  inflating: myntradataset/images/9480.jpg  \n",
            "  inflating: myntradataset/images/9481.jpg  \n",
            "  inflating: myntradataset/images/9482.jpg  \n",
            "  inflating: myntradataset/images/9483.jpg  \n",
            "  inflating: myntradataset/images/9484.jpg  \n",
            "  inflating: myntradataset/images/9485.jpg  \n",
            "  inflating: myntradataset/images/9486.jpg  \n",
            "  inflating: myntradataset/images/9487.jpg  \n",
            "  inflating: myntradataset/images/9488.jpg  \n",
            "  inflating: myntradataset/images/9489.jpg  \n",
            "  inflating: myntradataset/images/9490.jpg  \n",
            "  inflating: myntradataset/images/9491.jpg  \n",
            "  inflating: myntradataset/images/9492.jpg  \n",
            "  inflating: myntradataset/images/9493.jpg  \n",
            "  inflating: myntradataset/images/9494.jpg  \n",
            "  inflating: myntradataset/images/9495.jpg  \n",
            "  inflating: myntradataset/images/9496.jpg  \n",
            "  inflating: myntradataset/images/9497.jpg  \n",
            "  inflating: myntradataset/images/9498.jpg  \n",
            "  inflating: myntradataset/images/9500.jpg  \n",
            "  inflating: myntradataset/images/9501.jpg  \n",
            "  inflating: myntradataset/images/9502.jpg  \n",
            "  inflating: myntradataset/images/9503.jpg  \n",
            "  inflating: myntradataset/images/9504.jpg  \n",
            "  inflating: myntradataset/images/9506.jpg  \n",
            "  inflating: myntradataset/images/9507.jpg  \n",
            "  inflating: myntradataset/images/9508.jpg  \n",
            "  inflating: myntradataset/images/9509.jpg  \n",
            "  inflating: myntradataset/images/9510.jpg  \n",
            "  inflating: myntradataset/images/9511.jpg  \n",
            "  inflating: myntradataset/images/9512.jpg  \n",
            "  inflating: myntradataset/images/9514.jpg  \n",
            "  inflating: myntradataset/images/9517.jpg  \n",
            "  inflating: myntradataset/images/9519.jpg  \n",
            "  inflating: myntradataset/images/9520.jpg  \n",
            "  inflating: myntradataset/images/9521.jpg  \n",
            "  inflating: myntradataset/images/9522.jpg  \n",
            "  inflating: myntradataset/images/9523.jpg  \n",
            "  inflating: myntradataset/images/9524.jpg  \n",
            "  inflating: myntradataset/images/9525.jpg  \n",
            "  inflating: myntradataset/images/9526.jpg  \n",
            "  inflating: myntradataset/images/9527.jpg  \n",
            "  inflating: myntradataset/images/9528.jpg  \n",
            "  inflating: myntradataset/images/9529.jpg  \n",
            "  inflating: myntradataset/images/9530.jpg  \n",
            "  inflating: myntradataset/images/9531.jpg  \n",
            "  inflating: myntradataset/images/9532.jpg  \n",
            "  inflating: myntradataset/images/9533.jpg  \n",
            "  inflating: myntradataset/images/9534.jpg  \n",
            "  inflating: myntradataset/images/9535.jpg  \n",
            "  inflating: myntradataset/images/9536.jpg  \n",
            "  inflating: myntradataset/images/9537.jpg  \n",
            "  inflating: myntradataset/images/9538.jpg  \n",
            "  inflating: myntradataset/images/9539.jpg  \n",
            "  inflating: myntradataset/images/9540.jpg  \n",
            "  inflating: myntradataset/images/9541.jpg  \n",
            "  inflating: myntradataset/images/9542.jpg  \n",
            "  inflating: myntradataset/images/9543.jpg  \n",
            "  inflating: myntradataset/images/9545.jpg  \n",
            "  inflating: myntradataset/images/9546.jpg  \n",
            "  inflating: myntradataset/images/9547.jpg  \n",
            "  inflating: myntradataset/images/9548.jpg  \n",
            "  inflating: myntradataset/images/9549.jpg  \n",
            "  inflating: myntradataset/images/9550.jpg  \n",
            "  inflating: myntradataset/images/9551.jpg  \n",
            "  inflating: myntradataset/images/9552.jpg  \n",
            "  inflating: myntradataset/images/9553.jpg  \n",
            "  inflating: myntradataset/images/9554.jpg  \n",
            "  inflating: myntradataset/images/9555.jpg  \n",
            "  inflating: myntradataset/images/9556.jpg  \n",
            "  inflating: myntradataset/images/9557.jpg  \n",
            "  inflating: myntradataset/images/9558.jpg  \n",
            "  inflating: myntradataset/images/9559.jpg  \n",
            "  inflating: myntradataset/images/9560.jpg  \n",
            "  inflating: myntradataset/images/9562.jpg  \n",
            "  inflating: myntradataset/images/9563.jpg  \n",
            "  inflating: myntradataset/images/9565.jpg  \n",
            "  inflating: myntradataset/images/9566.jpg  \n",
            "  inflating: myntradataset/images/9567.jpg  \n",
            "  inflating: myntradataset/images/9569.jpg  \n",
            "  inflating: myntradataset/images/9570.jpg  \n",
            "  inflating: myntradataset/images/9571.jpg  \n",
            "  inflating: myntradataset/images/9572.jpg  \n",
            "  inflating: myntradataset/images/9573.jpg  \n",
            "  inflating: myntradataset/images/9574.jpg  \n",
            "  inflating: myntradataset/images/9575.jpg  \n",
            "  inflating: myntradataset/images/9576.jpg  \n",
            "  inflating: myntradataset/images/9577.jpg  \n",
            "  inflating: myntradataset/images/9578.jpg  \n",
            "  inflating: myntradataset/images/9579.jpg  \n",
            "  inflating: myntradataset/images/9580.jpg  \n",
            "  inflating: myntradataset/images/9581.jpg  \n",
            "  inflating: myntradataset/images/9582.jpg  \n",
            "  inflating: myntradataset/images/9583.jpg  \n",
            "  inflating: myntradataset/images/9584.jpg  \n",
            "  inflating: myntradataset/images/9585.jpg  \n",
            "  inflating: myntradataset/images/9586.jpg  \n",
            "  inflating: myntradataset/images/9587.jpg  \n",
            "  inflating: myntradataset/images/9588.jpg  \n",
            "  inflating: myntradataset/images/9589.jpg  \n",
            "  inflating: myntradataset/images/9590.jpg  \n",
            "  inflating: myntradataset/images/9591.jpg  \n",
            "  inflating: myntradataset/images/9592.jpg  \n",
            "  inflating: myntradataset/images/9593.jpg  \n",
            "  inflating: myntradataset/images/9594.jpg  \n",
            "  inflating: myntradataset/images/9595.jpg  \n",
            "  inflating: myntradataset/images/9596.jpg  \n",
            "  inflating: myntradataset/images/9597.jpg  \n",
            "  inflating: myntradataset/images/9598.jpg  \n",
            "  inflating: myntradataset/images/9599.jpg  \n",
            "  inflating: myntradataset/images/9600.jpg  \n",
            "  inflating: myntradataset/images/9601.jpg  \n",
            "  inflating: myntradataset/images/9602.jpg  \n",
            "  inflating: myntradataset/images/9603.jpg  \n",
            "  inflating: myntradataset/images/9604.jpg  \n",
            "  inflating: myntradataset/images/9605.jpg  \n",
            "  inflating: myntradataset/images/9606.jpg  \n",
            "  inflating: myntradataset/images/9607.jpg  \n",
            "  inflating: myntradataset/images/9608.jpg  \n",
            "  inflating: myntradataset/images/9609.jpg  \n",
            "  inflating: myntradataset/images/9610.jpg  \n",
            "  inflating: myntradataset/images/9611.jpg  \n",
            "  inflating: myntradataset/images/9612.jpg  \n",
            "  inflating: myntradataset/images/9613.jpg  \n",
            "  inflating: myntradataset/images/9614.jpg  \n",
            "  inflating: myntradataset/images/9615.jpg  \n",
            "  inflating: myntradataset/images/9616.jpg  \n",
            "  inflating: myntradataset/images/9617.jpg  \n",
            "  inflating: myntradataset/images/9618.jpg  \n",
            "  inflating: myntradataset/images/9619.jpg  \n",
            "  inflating: myntradataset/images/9620.jpg  \n",
            "  inflating: myntradataset/images/9621.jpg  \n",
            "  inflating: myntradataset/images/9622.jpg  \n",
            "  inflating: myntradataset/images/9623.jpg  \n",
            "  inflating: myntradataset/images/9624.jpg  \n",
            "  inflating: myntradataset/images/9627.jpg  \n",
            "  inflating: myntradataset/images/9628.jpg  \n",
            "  inflating: myntradataset/images/9630.jpg  \n",
            "  inflating: myntradataset/images/9631.jpg  \n",
            "  inflating: myntradataset/images/9632.jpg  \n",
            "  inflating: myntradataset/images/9633.jpg  \n",
            "  inflating: myntradataset/images/9634.jpg  \n",
            "  inflating: myntradataset/images/9635.jpg  \n",
            "  inflating: myntradataset/images/9636.jpg  \n",
            "  inflating: myntradataset/images/9637.jpg  \n",
            "  inflating: myntradataset/images/9638.jpg  \n",
            "  inflating: myntradataset/images/9639.jpg  \n",
            "  inflating: myntradataset/images/9640.jpg  \n",
            "  inflating: myntradataset/images/9641.jpg  \n",
            "  inflating: myntradataset/images/9642.jpg  \n",
            "  inflating: myntradataset/images/9643.jpg  \n",
            "  inflating: myntradataset/images/9644.jpg  \n",
            "  inflating: myntradataset/images/9645.jpg  \n",
            "  inflating: myntradataset/images/9646.jpg  \n",
            "  inflating: myntradataset/images/9647.jpg  \n",
            "  inflating: myntradataset/images/9648.jpg  \n",
            "  inflating: myntradataset/images/9649.jpg  \n",
            "  inflating: myntradataset/images/9650.jpg  \n",
            "  inflating: myntradataset/images/9651.jpg  \n",
            "  inflating: myntradataset/images/9652.jpg  \n",
            "  inflating: myntradataset/images/9653.jpg  \n",
            "  inflating: myntradataset/images/9654.jpg  \n",
            "  inflating: myntradataset/images/9655.jpg  \n",
            "  inflating: myntradataset/images/9656.jpg  \n",
            "  inflating: myntradataset/images/9657.jpg  \n",
            "  inflating: myntradataset/images/9658.jpg  \n",
            "  inflating: myntradataset/images/9659.jpg  \n",
            "  inflating: myntradataset/images/9660.jpg  \n",
            "  inflating: myntradataset/images/9661.jpg  \n",
            "  inflating: myntradataset/images/9662.jpg  \n",
            "  inflating: myntradataset/images/9664.jpg  \n",
            "  inflating: myntradataset/images/9665.jpg  \n",
            "  inflating: myntradataset/images/9666.jpg  \n",
            "  inflating: myntradataset/images/9667.jpg  \n",
            "  inflating: myntradataset/images/9669.jpg  \n",
            "  inflating: myntradataset/images/9670.jpg  \n",
            "  inflating: myntradataset/images/9671.jpg  \n",
            "  inflating: myntradataset/images/9672.jpg  \n",
            "  inflating: myntradataset/images/9673.jpg  \n",
            "  inflating: myntradataset/images/9674.jpg  \n",
            "  inflating: myntradataset/images/9675.jpg  \n",
            "  inflating: myntradataset/images/9676.jpg  \n",
            "  inflating: myntradataset/images/9677.jpg  \n",
            "  inflating: myntradataset/images/9678.jpg  \n",
            "  inflating: myntradataset/images/9679.jpg  \n",
            "  inflating: myntradataset/images/9680.jpg  \n",
            "  inflating: myntradataset/images/9681.jpg  \n",
            "  inflating: myntradataset/images/9682.jpg  \n",
            "  inflating: myntradataset/images/9683.jpg  \n",
            "  inflating: myntradataset/images/9684.jpg  \n",
            "  inflating: myntradataset/images/9685.jpg  \n",
            "  inflating: myntradataset/images/9686.jpg  \n",
            "  inflating: myntradataset/images/9687.jpg  \n",
            "  inflating: myntradataset/images/9688.jpg  \n",
            "  inflating: myntradataset/images/9689.jpg  \n",
            "  inflating: myntradataset/images/9690.jpg  \n",
            "  inflating: myntradataset/images/9691.jpg  \n",
            "  inflating: myntradataset/images/9692.jpg  \n",
            "  inflating: myntradataset/images/9694.jpg  \n",
            "  inflating: myntradataset/images/9695.jpg  \n",
            "  inflating: myntradataset/images/9696.jpg  \n",
            "  inflating: myntradataset/images/9697.jpg  \n",
            "  inflating: myntradataset/images/9698.jpg  \n",
            "  inflating: myntradataset/images/9699.jpg  \n",
            "  inflating: myntradataset/images/9700.jpg  \n",
            "  inflating: myntradataset/images/9701.jpg  \n",
            "  inflating: myntradataset/images/9702.jpg  \n",
            "  inflating: myntradataset/images/9703.jpg  \n",
            "  inflating: myntradataset/images/9704.jpg  \n",
            "  inflating: myntradataset/images/9705.jpg  \n",
            "  inflating: myntradataset/images/9706.jpg  \n",
            "  inflating: myntradataset/images/9707.jpg  \n",
            "  inflating: myntradataset/images/9708.jpg  \n",
            "  inflating: myntradataset/images/9709.jpg  \n",
            "  inflating: myntradataset/images/9710.jpg  \n",
            "  inflating: myntradataset/images/9711.jpg  \n",
            "  inflating: myntradataset/images/9712.jpg  \n",
            "  inflating: myntradataset/images/9713.jpg  \n",
            "  inflating: myntradataset/images/9714.jpg  \n",
            "  inflating: myntradataset/images/9715.jpg  \n",
            "  inflating: myntradataset/images/9716.jpg  \n",
            "  inflating: myntradataset/images/9717.jpg  \n",
            "  inflating: myntradataset/images/9718.jpg  \n",
            "  inflating: myntradataset/images/9719.jpg  \n",
            "  inflating: myntradataset/images/9720.jpg  \n",
            "  inflating: myntradataset/images/9722.jpg  \n",
            "  inflating: myntradataset/images/9726.jpg  \n",
            "  inflating: myntradataset/images/9729.jpg  \n",
            "  inflating: myntradataset/images/9730.jpg  \n",
            "  inflating: myntradataset/images/9732.jpg  \n",
            "  inflating: myntradataset/images/9733.jpg  \n",
            "  inflating: myntradataset/images/9738.jpg  \n",
            "  inflating: myntradataset/images/9748.jpg  \n",
            "  inflating: myntradataset/images/9752.jpg  \n",
            "  inflating: myntradataset/images/9754.jpg  \n",
            "  inflating: myntradataset/images/9755.jpg  \n",
            "  inflating: myntradataset/images/9756.jpg  \n",
            "  inflating: myntradataset/images/9757.jpg  \n",
            "  inflating: myntradataset/images/9758.jpg  \n",
            "  inflating: myntradataset/images/9759.jpg  \n",
            "  inflating: myntradataset/images/9760.jpg  \n",
            "  inflating: myntradataset/images/9761.jpg  \n",
            "  inflating: myntradataset/images/9762.jpg  \n",
            "  inflating: myntradataset/images/9763.jpg  \n",
            "  inflating: myntradataset/images/9764.jpg  \n",
            "  inflating: myntradataset/images/9765.jpg  \n",
            "  inflating: myntradataset/images/9766.jpg  \n",
            "  inflating: myntradataset/images/9767.jpg  \n",
            "  inflating: myntradataset/images/9768.jpg  \n",
            "  inflating: myntradataset/images/9769.jpg  \n",
            "  inflating: myntradataset/images/9770.jpg  \n",
            "  inflating: myntradataset/images/9771.jpg  \n",
            "  inflating: myntradataset/images/9772.jpg  \n",
            "  inflating: myntradataset/images/9773.jpg  \n",
            "  inflating: myntradataset/images/9774.jpg  \n",
            "  inflating: myntradataset/images/9775.jpg  \n",
            "  inflating: myntradataset/images/9776.jpg  \n",
            "  inflating: myntradataset/images/9777.jpg  \n",
            "  inflating: myntradataset/images/9778.jpg  \n",
            "  inflating: myntradataset/images/9779.jpg  \n",
            "  inflating: myntradataset/images/9780.jpg  \n",
            "  inflating: myntradataset/images/9781.jpg  \n",
            "  inflating: myntradataset/images/9782.jpg  \n",
            "  inflating: myntradataset/images/9783.jpg  \n",
            "  inflating: myntradataset/images/9784.jpg  \n",
            "  inflating: myntradataset/images/9785.jpg  \n",
            "  inflating: myntradataset/images/9788.jpg  \n",
            "  inflating: myntradataset/images/9789.jpg  \n",
            "  inflating: myntradataset/images/9790.jpg  \n",
            "  inflating: myntradataset/images/9791.jpg  \n",
            "  inflating: myntradataset/images/9792.jpg  \n",
            "  inflating: myntradataset/images/9793.jpg  \n",
            "  inflating: myntradataset/images/9794.jpg  \n",
            "  inflating: myntradataset/images/9795.jpg  \n",
            "  inflating: myntradataset/images/9796.jpg  \n",
            "  inflating: myntradataset/images/9797.jpg  \n",
            "  inflating: myntradataset/images/9798.jpg  \n",
            "  inflating: myntradataset/images/9799.jpg  \n",
            "  inflating: myntradataset/images/9800.jpg  \n",
            "  inflating: myntradataset/images/9801.jpg  \n",
            "  inflating: myntradataset/images/9802.jpg  \n",
            "  inflating: myntradataset/images/9803.jpg  \n",
            "  inflating: myntradataset/images/9804.jpg  \n",
            "  inflating: myntradataset/images/9805.jpg  \n",
            "  inflating: myntradataset/images/9806.jpg  \n",
            "  inflating: myntradataset/images/9807.jpg  \n",
            "  inflating: myntradataset/images/9808.jpg  \n",
            "  inflating: myntradataset/images/9809.jpg  \n",
            "  inflating: myntradataset/images/9810.jpg  \n",
            "  inflating: myntradataset/images/9812.jpg  \n",
            "  inflating: myntradataset/images/9814.jpg  \n",
            "  inflating: myntradataset/images/9815.jpg  \n",
            "  inflating: myntradataset/images/9816.jpg  \n",
            "  inflating: myntradataset/images/9817.jpg  \n",
            "  inflating: myntradataset/images/9818.jpg  \n",
            "  inflating: myntradataset/images/9819.jpg  \n",
            "  inflating: myntradataset/images/9820.jpg  \n",
            "  inflating: myntradataset/images/9821.jpg  \n",
            "  inflating: myntradataset/images/9822.jpg  \n",
            "  inflating: myntradataset/images/9823.jpg  \n",
            "  inflating: myntradataset/images/9824.jpg  \n",
            "  inflating: myntradataset/images/9825.jpg  \n",
            "  inflating: myntradataset/images/9826.jpg  \n",
            "  inflating: myntradataset/images/9827.jpg  \n",
            "  inflating: myntradataset/images/9828.jpg  \n",
            "  inflating: myntradataset/images/9829.jpg  \n",
            "  inflating: myntradataset/images/9830.jpg  \n",
            "  inflating: myntradataset/images/9831.jpg  \n",
            "  inflating: myntradataset/images/9832.jpg  \n",
            "  inflating: myntradataset/images/9833.jpg  \n",
            "  inflating: myntradataset/images/9834.jpg  \n",
            "  inflating: myntradataset/images/9835.jpg  \n",
            "  inflating: myntradataset/images/9836.jpg  \n",
            "  inflating: myntradataset/images/9839.jpg  \n",
            "  inflating: myntradataset/images/9840.jpg  \n",
            "  inflating: myntradataset/images/9841.jpg  \n",
            "  inflating: myntradataset/images/9842.jpg  \n",
            "  inflating: myntradataset/images/9852.jpg  \n",
            "  inflating: myntradataset/images/9854.jpg  \n",
            "  inflating: myntradataset/images/9856.jpg  \n",
            "  inflating: myntradataset/images/9857.jpg  \n",
            "  inflating: myntradataset/images/9858.jpg  \n",
            "  inflating: myntradataset/images/9859.jpg  \n",
            "  inflating: myntradataset/images/9860.jpg  \n",
            "  inflating: myntradataset/images/9862.jpg  \n",
            "  inflating: myntradataset/images/9863.jpg  \n",
            "  inflating: myntradataset/images/9864.jpg  \n",
            "  inflating: myntradataset/images/9865.jpg  \n",
            "  inflating: myntradataset/images/9866.jpg  \n",
            "  inflating: myntradataset/images/9867.jpg  \n",
            "  inflating: myntradataset/images/9868.jpg  \n",
            "  inflating: myntradataset/images/9869.jpg  \n",
            "  inflating: myntradataset/images/9870.jpg  \n",
            "  inflating: myntradataset/images/9871.jpg  \n",
            "  inflating: myntradataset/images/9874.jpg  \n",
            "  inflating: myntradataset/images/9875.jpg  \n",
            "  inflating: myntradataset/images/9876.jpg  \n",
            "  inflating: myntradataset/images/9877.jpg  \n",
            "  inflating: myntradataset/images/9878.jpg  \n",
            "  inflating: myntradataset/images/9879.jpg  \n",
            "  inflating: myntradataset/images/9880.jpg  \n",
            "  inflating: myntradataset/images/9881.jpg  \n",
            "  inflating: myntradataset/images/9882.jpg  \n",
            "  inflating: myntradataset/images/9883.jpg  \n",
            "  inflating: myntradataset/images/9884.jpg  \n",
            "  inflating: myntradataset/images/9885.jpg  \n",
            "  inflating: myntradataset/images/9892.jpg  \n",
            "  inflating: myntradataset/images/9894.jpg  \n",
            "  inflating: myntradataset/images/9900.jpg  \n",
            "  inflating: myntradataset/images/9901.jpg  \n",
            "  inflating: myntradataset/images/9902.jpg  \n",
            "  inflating: myntradataset/images/9903.jpg  \n",
            "  inflating: myntradataset/images/9904.jpg  \n",
            "  inflating: myntradataset/images/9906.jpg  \n",
            "  inflating: myntradataset/images/9907.jpg  \n",
            "  inflating: myntradataset/images/9908.jpg  \n",
            "  inflating: myntradataset/images/9909.jpg  \n",
            "  inflating: myntradataset/images/9910.jpg  \n",
            "  inflating: myntradataset/images/9911.jpg  \n",
            "  inflating: myntradataset/images/9912.jpg  \n",
            "  inflating: myntradataset/images/9913.jpg  \n",
            "  inflating: myntradataset/images/9914.jpg  \n",
            "  inflating: myntradataset/images/9915.jpg  \n",
            "  inflating: myntradataset/images/9916.jpg  \n",
            "  inflating: myntradataset/images/9917.jpg  \n",
            "  inflating: myntradataset/images/9918.jpg  \n",
            "  inflating: myntradataset/images/9919.jpg  \n",
            "  inflating: myntradataset/images/9920.jpg  \n",
            "  inflating: myntradataset/images/9921.jpg  \n",
            "  inflating: myntradataset/images/9922.jpg  \n",
            "  inflating: myntradataset/images/9923.jpg  \n",
            "  inflating: myntradataset/images/9924.jpg  \n",
            "  inflating: myntradataset/images/9925.jpg  \n",
            "  inflating: myntradataset/images/9926.jpg  \n",
            "  inflating: myntradataset/images/9927.jpg  \n",
            "  inflating: myntradataset/images/9929.jpg  \n",
            "  inflating: myntradataset/images/9931.jpg  \n",
            "  inflating: myntradataset/images/9932.jpg  \n",
            "  inflating: myntradataset/images/9933.jpg  \n",
            "  inflating: myntradataset/images/9934.jpg  \n",
            "  inflating: myntradataset/images/9935.jpg  \n",
            "  inflating: myntradataset/images/9937.jpg  \n",
            "  inflating: myntradataset/images/9938.jpg  \n",
            "  inflating: myntradataset/images/9940.jpg  \n",
            "  inflating: myntradataset/images/9941.jpg  \n",
            "  inflating: myntradataset/images/9942.jpg  \n",
            "  inflating: myntradataset/images/9943.jpg  \n",
            "  inflating: myntradataset/images/9944.jpg  \n",
            "  inflating: myntradataset/images/9945.jpg  \n",
            "  inflating: myntradataset/images/9946.jpg  \n",
            "  inflating: myntradataset/images/9947.jpg  \n",
            "  inflating: myntradataset/images/9948.jpg  \n",
            "  inflating: myntradataset/images/9949.jpg  \n",
            "  inflating: myntradataset/images/9950.jpg  \n",
            "  inflating: myntradataset/images/9951.jpg  \n",
            "  inflating: myntradataset/images/9952.jpg  \n",
            "  inflating: myntradataset/images/9953.jpg  \n",
            "  inflating: myntradataset/images/9954.jpg  \n",
            "  inflating: myntradataset/images/9955.jpg  \n",
            "  inflating: myntradataset/images/9956.jpg  \n",
            "  inflating: myntradataset/images/9957.jpg  \n",
            "  inflating: myntradataset/images/9958.jpg  \n",
            "  inflating: myntradataset/images/9959.jpg  \n",
            "  inflating: myntradataset/images/9960.jpg  \n",
            "  inflating: myntradataset/images/9961.jpg  \n",
            "  inflating: myntradataset/images/9962.jpg  \n",
            "  inflating: myntradataset/images/9963.jpg  \n",
            "  inflating: myntradataset/images/9964.jpg  \n",
            "  inflating: myntradataset/images/9965.jpg  \n",
            "  inflating: myntradataset/images/9966.jpg  \n",
            "  inflating: myntradataset/images/9967.jpg  \n",
            "  inflating: myntradataset/images/9968.jpg  \n",
            "  inflating: myntradataset/images/9969.jpg  \n",
            "  inflating: myntradataset/images/9970.jpg  \n",
            "  inflating: myntradataset/images/9971.jpg  \n",
            "  inflating: myntradataset/images/9972.jpg  \n",
            "  inflating: myntradataset/images/9973.jpg  \n",
            "  inflating: myntradataset/images/9974.jpg  \n",
            "  inflating: myntradataset/images/9975.jpg  \n",
            "  inflating: myntradataset/images/9976.jpg  \n",
            "  inflating: myntradataset/images/9977.jpg  \n",
            "  inflating: myntradataset/images/9978.jpg  \n",
            "  inflating: myntradataset/images/9980.jpg  \n",
            "  inflating: myntradataset/images/9981.jpg  \n",
            "  inflating: myntradataset/images/9982.jpg  \n",
            "  inflating: myntradataset/images/9983.jpg  \n",
            "  inflating: myntradataset/images/9984.jpg  \n",
            "  inflating: myntradataset/images/9985.jpg  \n",
            "  inflating: myntradataset/images/9986.jpg  \n",
            "  inflating: myntradataset/images/9987.jpg  \n",
            "  inflating: myntradataset/images/9988.jpg  \n",
            "  inflating: myntradataset/images/9989.jpg  \n",
            "  inflating: myntradataset/images/9990.jpg  \n",
            "  inflating: myntradataset/images/9991.jpg  \n",
            "  inflating: myntradataset/images/9992.jpg  \n",
            "  inflating: myntradataset/images/9993.jpg  \n",
            "  inflating: myntradataset/images/9994.jpg  \n",
            "  inflating: myntradataset/images/9995.jpg  \n",
            "  inflating: myntradataset/images/9996.jpg  \n",
            "  inflating: myntradataset/images/9997.jpg  \n",
            "  inflating: myntradataset/images/9998.jpg  \n",
            "  inflating: myntradataset/images/9999.jpg  \n",
            "  inflating: myntradataset/styles.csv  \n",
            "  inflating: styles.csv              \n"
          ]
        }
      ],
      "source": [
        "!unzip \\*.zip && rm *.zip"
      ]
    },
    {
      "cell_type": "code",
      "execution_count": null,
      "metadata": {
        "id": "Cv_vb8YXa8Ci"
      },
      "outputs": [],
      "source": [
        "# Import necessary libraries\n",
        "from flask import Flask, request, jsonify\n",
        "from flask_cors import CORS\n",
        "import base64\n",
        "from sklearn.neighbors import NearestNeighbors\n",
        "\n",
        "# Initialize Flask app\n",
        "app = Flask(__name__)\n",
        "CORS(app)\n",
        "\n",
        "# Load the model and precomputed features\n",
        "with open('embeddings.pkl', 'rb') as f:\n",
        "    feature_list = pickle.load(f)\n",
        "\n",
        "with open('filenames.pkl', 'rb') as f:\n",
        "    filenames = pickle.load(f)\n",
        "\n",
        "feature_list = np.array(feature_list)\n",
        "neighbors = NearestNeighbors(n_neighbors=6, algorithm='brute', metric='euclidean')\n",
        "neighbors.fit(feature_list)\n",
        "\n",
        "def extract_features(img_path, model):\n",
        "    img = load_img(img_path, target_size=(224, 224))\n",
        "    img_array = img_to_array(img)\n",
        "    expanded_img_array = np.expand_dims(img_array, axis=0)\n",
        "    preprocessed_img = preprocess_input(expanded_img_array)\n",
        "    result = model.predict(preprocessed_img).flatten()\n",
        "    return result\n",
        "\n",
        "@app.route('/', methods=['GET'])\n",
        "def home():\n",
        "    return 'success', 200\n",
        "\n",
        "@app.route('/find_similar', methods=['POST'])\n",
        "def find_similar():\n",
        "    if 'file' not in request.files:\n",
        "        return 'No file part', 400\n",
        "\n",
        "    file = request.files['file']\n",
        "    if file.filename == '':\n",
        "        return 'No selected file', 400\n",
        "\n",
        "    if file:\n",
        "        # Ensure 'uploads' directory exists\n",
        "        if not os.path.exists('uploads'):\n",
        "            os.makedirs('uploads')\n",
        "\n",
        "        filepath = os.path.join('uploads', file.filename)\n",
        "        file.save(filepath)\n",
        "\n",
        "        feature = extract_features(filepath, model)\n",
        "        distances, indices = neighbors.kneighbors([feature])\n",
        "\n",
        "        similar_files = [filenames[i] for i in indices[0][1:6]]\n",
        "        print(similar_files)\n",
        "        # Convert images to base64\n",
        "        similar_images_base64 = []\n",
        "        for filename in similar_files:\n",
        "            with open(filename, \"rb\") as image_file:\n",
        "                encoded_string = base64.b64encode(image_file.read()).decode('utf-8')\n",
        "                similar_images_base64.append(encoded_string)\n",
        "\n",
        "        return jsonify(similar_images_base64)\n",
        "\n",
        "# Run Flask app with ngrok\n",
        "app.run(port=80)"
      ]
    },
    {
      "cell_type": "code",
      "execution_count": null,
      "metadata": {
        "colab": {
          "base_uri": "https://localhost:8080/"
        },
        "id": "TU9-RTqScWRT",
        "outputId": "6a14c75a-9bcc-4f82-e8d9-0db9adf2207d"
      },
      "outputs": [
        {
          "name": "stdout",
          "output_type": "stream",
          "text": [
            "Requirement already satisfied: flask in /usr/local/lib/python3.10/dist-packages (2.2.5)\n",
            "Collecting flask-cors\n",
            "  Downloading Flask_Cors-4.0.1-py2.py3-none-any.whl (14 kB)\n",
            "Collecting pyngrok\n",
            "  Downloading pyngrok-7.1.6-py3-none-any.whl (22 kB)\n",
            "Requirement already satisfied: Werkzeug>=2.2.2 in /usr/local/lib/python3.10/dist-packages (from flask) (3.0.3)\n",
            "Requirement already satisfied: Jinja2>=3.0 in /usr/local/lib/python3.10/dist-packages (from flask) (3.1.4)\n",
            "Requirement already satisfied: itsdangerous>=2.0 in /usr/local/lib/python3.10/dist-packages (from flask) (2.2.0)\n",
            "Requirement already satisfied: click>=8.0 in /usr/local/lib/python3.10/dist-packages (from flask) (8.1.7)\n",
            "Requirement already satisfied: PyYAML>=5.1 in /usr/local/lib/python3.10/dist-packages (from pyngrok) (6.0.1)\n",
            "Requirement already satisfied: MarkupSafe>=2.0 in /usr/local/lib/python3.10/dist-packages (from Jinja2>=3.0->flask) (2.1.5)\n",
            "Installing collected packages: pyngrok, flask-cors\n",
            "Successfully installed flask-cors-4.0.1 pyngrok-7.1.6\n"
          ]
        }
      ],
      "source": [
        "!pip install flask flask-cors pyngrok"
      ]
    },
    {
      "cell_type": "code",
      "execution_count": null,
      "metadata": {
        "colab": {
          "base_uri": "https://localhost:8080/",
          "height": 1000
        },
        "id": "-vRFoJaNt8ul",
        "outputId": "d76b815b-2e44-47ed-e633-da0cac9bf56c"
      },
      "outputs": [
        {
          "output_type": "stream",
          "name": "stdout",
          "text": [
            "Model: \"model_1\"\n",
            "_________________________________________________________________\n",
            " Layer (type)                Output Shape              Param #   \n",
            "=================================================================\n",
            " input_4 (InputLayer)        [(None, 224, 224, 3)]     0         \n",
            "                                                                 \n",
            " resnet50 (Functional)       (None, 7, 7, 2048)        23587712  \n",
            "                                                                 \n",
            " global_max_pooling2d_1 (Gl  (None, 2048)              0         \n",
            " obalMaxPooling2D)                                               \n",
            "                                                                 \n",
            " dense_2 (Dense)             (None, 512)               1049088   \n",
            "                                                                 \n",
            " dropout_1 (Dropout)         (None, 512)               0         \n",
            "                                                                 \n",
            " dense_3 (Dense)             (None, 10)                5130      \n",
            "                                                                 \n",
            "=================================================================\n",
            "Total params: 24641930 (94.00 MB)\n",
            "Trainable params: 5519882 (21.06 MB)\n",
            "Non-trainable params: 19122048 (72.94 MB)\n",
            "_________________________________________________________________\n"
          ]
        },
        {
          "output_type": "stream",
          "name": "stderr",
          "text": [
            "\r  0%|          | 0/541 [00:00<?, ?it/s]"
          ]
        },
        {
          "output_type": "stream",
          "name": "stdout",
          "text": [
            "1/1 [==============================] - 2s 2s/step\n"
          ]
        },
        {
          "output_type": "stream",
          "name": "stderr",
          "text": [
            "\r  0%|          | 1/541 [00:21<3:12:54, 21.43s/it]"
          ]
        },
        {
          "output_type": "stream",
          "name": "stdout",
          "text": [
            "1/1 [==============================] - 1s 556ms/step\n"
          ]
        },
        {
          "output_type": "stream",
          "name": "stderr",
          "text": [
            "\r  0%|          | 2/541 [00:31<2:12:03, 14.70s/it]"
          ]
        },
        {
          "output_type": "stream",
          "name": "stdout",
          "text": [
            "1/1 [==============================] - 1s 576ms/step\n"
          ]
        },
        {
          "output_type": "stream",
          "name": "stderr",
          "text": [
            "\r  1%|          | 3/541 [00:40<1:48:32, 12.11s/it]"
          ]
        },
        {
          "output_type": "stream",
          "name": "stdout",
          "text": [
            "1/1 [==============================] - 1s 535ms/step\n"
          ]
        },
        {
          "output_type": "stream",
          "name": "stderr",
          "text": [
            "\r  1%|          | 4/541 [00:49<1:36:16, 10.76s/it]"
          ]
        },
        {
          "output_type": "stream",
          "name": "stdout",
          "text": [
            "1/1 [==============================] - 1s 546ms/step\n"
          ]
        },
        {
          "output_type": "stream",
          "name": "stderr",
          "text": [
            "\r  1%|          | 5/541 [00:57<1:29:23, 10.01s/it]"
          ]
        },
        {
          "output_type": "stream",
          "name": "stdout",
          "text": [
            "1/1 [==============================] - 1s 563ms/step\n"
          ]
        },
        {
          "output_type": "stream",
          "name": "stderr",
          "text": [
            "\r  1%|          | 6/541 [08:17<23:12:43, 156.19s/it]"
          ]
        },
        {
          "output_type": "stream",
          "name": "stdout",
          "text": [
            "1/1 [==============================] - 1s 559ms/step\n"
          ]
        },
        {
          "output_type": "stream",
          "name": "stderr",
          "text": [
            "\r  1%|▏         | 7/541 [08:18<15:38:04, 105.40s/it]"
          ]
        },
        {
          "output_type": "stream",
          "name": "stdout",
          "text": [
            "1/1 [==============================] - 1s 600ms/step\n"
          ]
        },
        {
          "output_type": "stream",
          "name": "stderr",
          "text": [
            "\r  1%|▏         | 8/541 [08:19<10:40:41, 72.12s/it] "
          ]
        },
        {
          "output_type": "stream",
          "name": "stdout",
          "text": [
            "1/1 [==============================] - 1s 570ms/step\n"
          ]
        },
        {
          "output_type": "stream",
          "name": "stderr",
          "text": [
            "\r  2%|▏         | 9/541 [08:20<7:21:51, 49.83s/it] "
          ]
        },
        {
          "output_type": "stream",
          "name": "stdout",
          "text": [
            "1/1 [==============================] - 1s 568ms/step\n"
          ]
        },
        {
          "output_type": "stream",
          "name": "stderr",
          "text": [
            "\r  2%|▏         | 10/541 [08:21<5:07:14, 34.72s/it]"
          ]
        },
        {
          "output_type": "stream",
          "name": "stdout",
          "text": [
            "1/1 [==============================] - 1s 588ms/step\n"
          ]
        },
        {
          "output_type": "stream",
          "name": "stderr",
          "text": [
            "\r  2%|▏         | 11/541 [08:22<3:35:09, 24.36s/it]"
          ]
        },
        {
          "output_type": "stream",
          "name": "stdout",
          "text": [
            "1/1 [==============================] - 1s 581ms/step\n"
          ]
        },
        {
          "output_type": "stream",
          "name": "stderr",
          "text": [
            "\r  2%|▏         | 12/541 [08:22<2:31:46, 17.21s/it]"
          ]
        },
        {
          "output_type": "stream",
          "name": "stdout",
          "text": [
            "1/1 [==============================] - 1s 579ms/step\n"
          ]
        },
        {
          "output_type": "stream",
          "name": "stderr",
          "text": [
            "\r  2%|▏         | 13/541 [08:23<1:47:51, 12.26s/it]"
          ]
        },
        {
          "output_type": "stream",
          "name": "stdout",
          "text": [
            "1/1 [==============================] - 1s 575ms/step\n"
          ]
        },
        {
          "output_type": "stream",
          "name": "stderr",
          "text": [
            "\r  3%|▎         | 14/541 [08:24<1:17:30,  8.82s/it]"
          ]
        },
        {
          "output_type": "stream",
          "name": "stdout",
          "text": [
            "1/1 [==============================] - 1s 558ms/step\n"
          ]
        },
        {
          "output_type": "stream",
          "name": "stderr",
          "text": [
            "\r  3%|▎         | 15/541 [08:25<56:23,  6.43s/it]  "
          ]
        },
        {
          "output_type": "stream",
          "name": "stdout",
          "text": [
            "1/1 [==============================] - 1s 534ms/step\n"
          ]
        },
        {
          "output_type": "stream",
          "name": "stderr",
          "text": [
            "\r  3%|▎         | 16/541 [08:26<41:35,  4.75s/it]"
          ]
        },
        {
          "output_type": "stream",
          "name": "stdout",
          "text": [
            "1/1 [==============================] - 1s 584ms/step\n"
          ]
        },
        {
          "output_type": "stream",
          "name": "stderr",
          "text": [
            "\r  3%|▎         | 17/541 [08:27<31:12,  3.57s/it]"
          ]
        },
        {
          "output_type": "stream",
          "name": "stdout",
          "text": [
            "1/1 [==============================] - 1s 547ms/step\n"
          ]
        },
        {
          "output_type": "stream",
          "name": "stderr",
          "text": [
            "\r  3%|▎         | 18/541 [08:28<24:03,  2.76s/it]"
          ]
        },
        {
          "output_type": "stream",
          "name": "stdout",
          "text": [
            "1/1 [==============================] - 1s 555ms/step\n"
          ]
        },
        {
          "output_type": "stream",
          "name": "stderr",
          "text": [
            "\r  4%|▎         | 19/541 [08:28<18:59,  2.18s/it]"
          ]
        },
        {
          "output_type": "stream",
          "name": "stdout",
          "text": [
            "1/1 [==============================] - 1s 571ms/step\n"
          ]
        },
        {
          "output_type": "stream",
          "name": "stderr",
          "text": [
            "\r  4%|▎         | 20/541 [08:29<15:35,  1.80s/it]"
          ]
        },
        {
          "output_type": "stream",
          "name": "stdout",
          "text": [
            "1/1 [==============================] - 1s 559ms/step\n"
          ]
        },
        {
          "output_type": "stream",
          "name": "stderr",
          "text": [
            "\r  4%|▍         | 21/541 [08:30<13:08,  1.52s/it]"
          ]
        },
        {
          "output_type": "stream",
          "name": "stdout",
          "text": [
            "1/1 [==============================] - 1s 551ms/step\n"
          ]
        },
        {
          "output_type": "stream",
          "name": "stderr",
          "text": [
            "\r  4%|▍         | 22/541 [08:31<11:14,  1.30s/it]"
          ]
        },
        {
          "output_type": "stream",
          "name": "stdout",
          "text": [
            "1/1 [==============================] - 1s 524ms/step\n"
          ]
        },
        {
          "output_type": "stream",
          "name": "stderr",
          "text": [
            "\r  4%|▍         | 23/541 [08:32<09:54,  1.15s/it]"
          ]
        },
        {
          "output_type": "stream",
          "name": "stdout",
          "text": [
            "1/1 [==============================] - 1s 554ms/step\n"
          ]
        },
        {
          "output_type": "stream",
          "name": "stderr",
          "text": [
            "\r  4%|▍         | 24/541 [08:33<09:18,  1.08s/it]"
          ]
        },
        {
          "output_type": "stream",
          "name": "stdout",
          "text": [
            "1/1 [==============================] - 1s 597ms/step\n"
          ]
        },
        {
          "output_type": "stream",
          "name": "stderr",
          "text": [
            "\r  5%|▍         | 25/541 [08:34<08:43,  1.01s/it]"
          ]
        },
        {
          "output_type": "stream",
          "name": "stdout",
          "text": [
            "1/1 [==============================] - 1s 542ms/step\n"
          ]
        },
        {
          "output_type": "stream",
          "name": "stderr",
          "text": [
            "\r  5%|▍         | 26/541 [08:34<08:12,  1.04it/s]"
          ]
        },
        {
          "output_type": "stream",
          "name": "stdout",
          "text": [
            "1/1 [==============================] - 1s 568ms/step\n"
          ]
        },
        {
          "output_type": "stream",
          "name": "stderr",
          "text": [
            "\r  5%|▍         | 27/541 [08:36<08:53,  1.04s/it]"
          ]
        },
        {
          "output_type": "stream",
          "name": "stdout",
          "text": [
            "1/1 [==============================] - 1s 584ms/step\n"
          ]
        },
        {
          "output_type": "stream",
          "name": "stderr",
          "text": [
            "\r  5%|▌         | 28/541 [08:36<08:24,  1.02it/s]"
          ]
        },
        {
          "output_type": "stream",
          "name": "stdout",
          "text": [
            "1/1 [==============================] - 1s 550ms/step\n"
          ]
        },
        {
          "output_type": "stream",
          "name": "stderr",
          "text": [
            "\r  5%|▌         | 29/541 [08:37<08:01,  1.06it/s]"
          ]
        },
        {
          "output_type": "stream",
          "name": "stdout",
          "text": [
            "1/1 [==============================] - 1s 573ms/step\n"
          ]
        },
        {
          "output_type": "stream",
          "name": "stderr",
          "text": [
            "\r  6%|▌         | 30/541 [08:38<07:42,  1.11it/s]"
          ]
        },
        {
          "output_type": "stream",
          "name": "stdout",
          "text": [
            "1/1 [==============================] - 1s 545ms/step\n"
          ]
        },
        {
          "output_type": "stream",
          "name": "stderr",
          "text": [
            "\r  6%|▌         | 31/541 [08:39<07:25,  1.15it/s]"
          ]
        },
        {
          "output_type": "stream",
          "name": "stdout",
          "text": [
            "1/1 [==============================] - 1s 568ms/step\n"
          ]
        },
        {
          "output_type": "stream",
          "name": "stderr",
          "text": [
            "\r  6%|▌         | 32/541 [08:40<07:15,  1.17it/s]"
          ]
        },
        {
          "output_type": "stream",
          "name": "stdout",
          "text": [
            "1/1 [==============================] - 1s 577ms/step\n"
          ]
        },
        {
          "output_type": "stream",
          "name": "stderr",
          "text": [
            "\r  6%|▌         | 33/541 [08:41<07:14,  1.17it/s]"
          ]
        },
        {
          "output_type": "stream",
          "name": "stdout",
          "text": [
            "1/1 [==============================] - 1s 561ms/step\n"
          ]
        },
        {
          "output_type": "stream",
          "name": "stderr",
          "text": [
            "\r  6%|▋         | 34/541 [08:41<07:14,  1.17it/s]"
          ]
        },
        {
          "output_type": "stream",
          "name": "stdout",
          "text": [
            "1/1 [==============================] - 1s 582ms/step\n"
          ]
        },
        {
          "output_type": "stream",
          "name": "stderr",
          "text": [
            "\r  6%|▋         | 35/541 [08:42<07:12,  1.17it/s]"
          ]
        },
        {
          "output_type": "stream",
          "name": "stdout",
          "text": [
            "1/1 [==============================] - 1s 640ms/step\n"
          ]
        },
        {
          "output_type": "stream",
          "name": "stderr",
          "text": [
            "\r  7%|▋         | 36/541 [08:43<07:17,  1.15it/s]"
          ]
        },
        {
          "output_type": "stream",
          "name": "stdout",
          "text": [
            "1/1 [==============================] - 1s 572ms/step\n"
          ]
        },
        {
          "output_type": "stream",
          "name": "stderr",
          "text": [
            "\r  7%|▋         | 37/541 [08:44<07:18,  1.15it/s]"
          ]
        },
        {
          "output_type": "stream",
          "name": "stdout",
          "text": [
            "1/1 [==============================] - 1s 587ms/step\n"
          ]
        },
        {
          "output_type": "stream",
          "name": "stderr",
          "text": [
            "\r  7%|▋         | 38/541 [08:45<07:13,  1.16it/s]"
          ]
        },
        {
          "output_type": "stream",
          "name": "stdout",
          "text": [
            "1/1 [==============================] - 1s 579ms/step\n"
          ]
        },
        {
          "output_type": "stream",
          "name": "stderr",
          "text": [
            "\r  7%|▋         | 39/541 [08:46<07:08,  1.17it/s]"
          ]
        },
        {
          "output_type": "stream",
          "name": "stdout",
          "text": [
            "1/1 [==============================] - 1s 548ms/step\n"
          ]
        },
        {
          "output_type": "stream",
          "name": "stderr",
          "text": [
            "\r  7%|▋         | 40/541 [08:46<06:42,  1.24it/s]"
          ]
        },
        {
          "output_type": "stream",
          "name": "stdout",
          "text": [
            "1/1 [==============================] - 1s 587ms/step\n"
          ]
        },
        {
          "output_type": "stream",
          "name": "stderr",
          "text": [
            "\r  8%|▊         | 41/541 [08:47<06:35,  1.26it/s]"
          ]
        },
        {
          "output_type": "stream",
          "name": "stdout",
          "text": [
            "1/1 [==============================] - 1s 561ms/step\n"
          ]
        },
        {
          "output_type": "stream",
          "name": "stderr",
          "text": [
            "\r  8%|▊         | 42/541 [08:48<06:21,  1.31it/s]"
          ]
        },
        {
          "output_type": "stream",
          "name": "stdout",
          "text": [
            "1/1 [==============================] - 1s 550ms/step\n"
          ]
        },
        {
          "output_type": "stream",
          "name": "stderr",
          "text": [
            "\r  8%|▊         | 43/541 [08:49<06:09,  1.35it/s]"
          ]
        },
        {
          "output_type": "stream",
          "name": "stdout",
          "text": [
            "1/1 [==============================] - 1s 555ms/step\n"
          ]
        },
        {
          "output_type": "stream",
          "name": "stderr",
          "text": [
            "\r  8%|▊         | 44/541 [08:49<06:06,  1.36it/s]"
          ]
        },
        {
          "output_type": "stream",
          "name": "stdout",
          "text": [
            "1/1 [==============================] - 1s 571ms/step\n"
          ]
        },
        {
          "output_type": "stream",
          "name": "stderr",
          "text": [
            "\r  8%|▊         | 45/541 [08:50<06:01,  1.37it/s]"
          ]
        },
        {
          "output_type": "stream",
          "name": "stdout",
          "text": [
            "1/1 [==============================] - 1s 579ms/step\n"
          ]
        },
        {
          "output_type": "stream",
          "name": "stderr",
          "text": [
            "\r  9%|▊         | 46/541 [08:51<06:16,  1.31it/s]"
          ]
        },
        {
          "output_type": "stream",
          "name": "stdout",
          "text": [
            "1/1 [==============================] - 1s 601ms/step\n"
          ]
        },
        {
          "output_type": "stream",
          "name": "stderr",
          "text": [
            "\r  9%|▊         | 47/541 [08:52<06:12,  1.33it/s]"
          ]
        },
        {
          "output_type": "stream",
          "name": "stdout",
          "text": [
            "1/1 [==============================] - 1s 578ms/step\n"
          ]
        },
        {
          "output_type": "stream",
          "name": "stderr",
          "text": [
            "\r  9%|▉         | 48/541 [08:52<06:11,  1.33it/s]"
          ]
        },
        {
          "output_type": "stream",
          "name": "stdout",
          "text": [
            "1/1 [==============================] - 1s 562ms/step\n"
          ]
        },
        {
          "output_type": "stream",
          "name": "stderr",
          "text": [
            "\r  9%|▉         | 49/541 [08:53<06:03,  1.35it/s]"
          ]
        },
        {
          "output_type": "stream",
          "name": "stdout",
          "text": [
            "1/1 [==============================] - 1s 566ms/step\n"
          ]
        },
        {
          "output_type": "stream",
          "name": "stderr",
          "text": [
            "\r  9%|▉         | 50/541 [08:54<05:56,  1.38it/s]"
          ]
        },
        {
          "output_type": "stream",
          "name": "stdout",
          "text": [
            "1/1 [==============================] - 1s 565ms/step\n"
          ]
        },
        {
          "output_type": "stream",
          "name": "stderr",
          "text": [
            "\r  9%|▉         | 51/541 [08:54<05:58,  1.37it/s]"
          ]
        },
        {
          "output_type": "stream",
          "name": "stdout",
          "text": [
            "1/1 [==============================] - 1s 582ms/step\n"
          ]
        },
        {
          "output_type": "stream",
          "name": "stderr",
          "text": [
            "\r 10%|▉         | 52/541 [08:55<05:56,  1.37it/s]"
          ]
        },
        {
          "output_type": "stream",
          "name": "stdout",
          "text": [
            "1/1 [==============================] - 1s 582ms/step\n"
          ]
        },
        {
          "output_type": "stream",
          "name": "stderr",
          "text": [
            "\r 10%|▉         | 53/541 [08:56<06:00,  1.35it/s]"
          ]
        },
        {
          "output_type": "stream",
          "name": "stdout",
          "text": [
            "1/1 [==============================] - 1s 615ms/step\n"
          ]
        },
        {
          "output_type": "stream",
          "name": "stderr",
          "text": [
            "\r 10%|▉         | 54/541 [08:57<06:02,  1.34it/s]"
          ]
        },
        {
          "output_type": "stream",
          "name": "stdout",
          "text": [
            "1/1 [==============================] - 1s 569ms/step\n"
          ]
        },
        {
          "output_type": "stream",
          "name": "stderr",
          "text": [
            "\r 10%|█         | 55/541 [08:57<06:02,  1.34it/s]"
          ]
        },
        {
          "output_type": "stream",
          "name": "stdout",
          "text": [
            "1/1 [==============================] - 1s 573ms/step\n"
          ]
        },
        {
          "output_type": "stream",
          "name": "stderr",
          "text": [
            "\r 10%|█         | 56/541 [08:58<05:57,  1.36it/s]"
          ]
        },
        {
          "output_type": "stream",
          "name": "stdout",
          "text": [
            "1/1 [==============================] - 1s 602ms/step\n"
          ]
        },
        {
          "output_type": "stream",
          "name": "stderr",
          "text": [
            "\r 11%|█         | 57/541 [08:59<05:57,  1.35it/s]"
          ]
        },
        {
          "output_type": "stream",
          "name": "stdout",
          "text": [
            "1/1 [==============================] - 1s 560ms/step\n"
          ]
        },
        {
          "output_type": "stream",
          "name": "stderr",
          "text": [
            "\r 11%|█         | 58/541 [09:00<05:52,  1.37it/s]"
          ]
        },
        {
          "output_type": "stream",
          "name": "stdout",
          "text": [
            "1/1 [==============================] - 1s 557ms/step\n"
          ]
        },
        {
          "output_type": "stream",
          "name": "stderr",
          "text": [
            "\r 11%|█         | 59/541 [09:00<05:51,  1.37it/s]"
          ]
        },
        {
          "output_type": "stream",
          "name": "stdout",
          "text": [
            "1/1 [==============================] - 1s 556ms/step\n"
          ]
        },
        {
          "output_type": "stream",
          "name": "stderr",
          "text": [
            "\r 11%|█         | 60/541 [09:01<05:52,  1.37it/s]"
          ]
        },
        {
          "output_type": "stream",
          "name": "stdout",
          "text": [
            "1/1 [==============================] - 1s 552ms/step\n"
          ]
        },
        {
          "output_type": "stream",
          "name": "stderr",
          "text": [
            "\r 11%|█▏        | 61/541 [09:02<05:46,  1.38it/s]"
          ]
        },
        {
          "output_type": "stream",
          "name": "stdout",
          "text": [
            "1/1 [==============================] - 1s 571ms/step\n"
          ]
        },
        {
          "output_type": "stream",
          "name": "stderr",
          "text": [
            "\r 11%|█▏        | 62/541 [09:03<05:50,  1.37it/s]"
          ]
        },
        {
          "output_type": "stream",
          "name": "stdout",
          "text": [
            "1/1 [==============================] - 1s 569ms/step\n"
          ]
        },
        {
          "output_type": "stream",
          "name": "stderr",
          "text": [
            "\r 12%|█▏        | 63/541 [09:03<05:46,  1.38it/s]"
          ]
        },
        {
          "output_type": "stream",
          "name": "stdout",
          "text": [
            "1/1 [==============================] - 1s 557ms/step\n"
          ]
        },
        {
          "output_type": "stream",
          "name": "stderr",
          "text": [
            "\r 12%|█▏        | 64/541 [09:04<05:46,  1.38it/s]"
          ]
        },
        {
          "output_type": "stream",
          "name": "stdout",
          "text": [
            "1/1 [==============================] - 1s 555ms/step\n"
          ]
        },
        {
          "output_type": "stream",
          "name": "stderr",
          "text": [
            "\r 12%|█▏        | 65/541 [09:05<05:41,  1.39it/s]"
          ]
        },
        {
          "output_type": "stream",
          "name": "stdout",
          "text": [
            "1/1 [==============================] - 1s 563ms/step\n"
          ]
        },
        {
          "output_type": "stream",
          "name": "stderr",
          "text": [
            "\r 12%|█▏        | 66/541 [09:05<05:38,  1.40it/s]"
          ]
        },
        {
          "output_type": "stream",
          "name": "stdout",
          "text": [
            "1/1 [==============================] - 1s 571ms/step\n"
          ]
        },
        {
          "output_type": "stream",
          "name": "stderr",
          "text": [
            "\r 12%|█▏        | 67/541 [09:06<05:43,  1.38it/s]"
          ]
        },
        {
          "output_type": "stream",
          "name": "stdout",
          "text": [
            "1/1 [==============================] - 1s 549ms/step\n"
          ]
        },
        {
          "output_type": "stream",
          "name": "stderr",
          "text": [
            "\r 13%|█▎        | 68/541 [09:07<05:38,  1.40it/s]"
          ]
        },
        {
          "output_type": "stream",
          "name": "stdout",
          "text": [
            "1/1 [==============================] - 1s 567ms/step\n"
          ]
        },
        {
          "output_type": "stream",
          "name": "stderr",
          "text": [
            "\r 13%|█▎        | 69/541 [09:08<05:41,  1.38it/s]"
          ]
        },
        {
          "output_type": "stream",
          "name": "stdout",
          "text": [
            "1/1 [==============================] - 1s 595ms/step\n"
          ]
        },
        {
          "output_type": "stream",
          "name": "stderr",
          "text": [
            "\r 13%|█▎        | 70/541 [09:08<05:41,  1.38it/s]"
          ]
        },
        {
          "output_type": "stream",
          "name": "stdout",
          "text": [
            "1/1 [==============================] - 1s 571ms/step\n"
          ]
        },
        {
          "output_type": "stream",
          "name": "stderr",
          "text": [
            "\r 13%|█▎        | 71/541 [09:09<05:43,  1.37it/s]"
          ]
        },
        {
          "output_type": "stream",
          "name": "stdout",
          "text": [
            "1/1 [==============================] - 1s 571ms/step\n"
          ]
        },
        {
          "output_type": "stream",
          "name": "stderr",
          "text": [
            "\r 13%|█▎        | 72/541 [09:10<05:38,  1.39it/s]"
          ]
        },
        {
          "output_type": "stream",
          "name": "stdout",
          "text": [
            "1/1 [==============================] - 1s 536ms/step\n"
          ]
        },
        {
          "output_type": "stream",
          "name": "stderr",
          "text": [
            "\r 13%|█▎        | 73/541 [09:10<05:29,  1.42it/s]"
          ]
        },
        {
          "output_type": "stream",
          "name": "stdout",
          "text": [
            "1/1 [==============================] - 1s 564ms/step\n"
          ]
        },
        {
          "output_type": "stream",
          "name": "stderr",
          "text": [
            "\r 14%|█▎        | 74/541 [09:11<05:34,  1.39it/s]"
          ]
        },
        {
          "output_type": "stream",
          "name": "stdout",
          "text": [
            "1/1 [==============================] - 1s 573ms/step\n"
          ]
        },
        {
          "output_type": "stream",
          "name": "stderr",
          "text": [
            "\r 14%|█▍        | 75/541 [09:12<05:33,  1.40it/s]"
          ]
        },
        {
          "output_type": "stream",
          "name": "stdout",
          "text": [
            "1/1 [==============================] - 1s 561ms/step\n"
          ]
        },
        {
          "output_type": "stream",
          "name": "stderr",
          "text": [
            "\r 14%|█▍        | 76/541 [09:13<05:35,  1.38it/s]"
          ]
        },
        {
          "output_type": "stream",
          "name": "stdout",
          "text": [
            "1/1 [==============================] - 1s 530ms/step\n"
          ]
        },
        {
          "output_type": "stream",
          "name": "stderr",
          "text": [
            "\r 14%|█▍        | 77/541 [09:13<05:26,  1.42it/s]"
          ]
        },
        {
          "output_type": "stream",
          "name": "stdout",
          "text": [
            "1/1 [==============================] - 1s 560ms/step\n"
          ]
        },
        {
          "output_type": "stream",
          "name": "stderr",
          "text": [
            "\r 14%|█▍        | 78/541 [09:14<05:34,  1.39it/s]"
          ]
        },
        {
          "output_type": "stream",
          "name": "stdout",
          "text": [
            "1/1 [==============================] - 1s 563ms/step\n"
          ]
        },
        {
          "output_type": "stream",
          "name": "stderr",
          "text": [
            "\r 15%|█▍        | 79/541 [09:15<05:31,  1.39it/s]"
          ]
        },
        {
          "output_type": "stream",
          "name": "stdout",
          "text": [
            "1/1 [==============================] - 1s 579ms/step\n"
          ]
        },
        {
          "output_type": "stream",
          "name": "stderr",
          "text": [
            "\r 15%|█▍        | 80/541 [09:16<05:37,  1.37it/s]"
          ]
        },
        {
          "output_type": "stream",
          "name": "stdout",
          "text": [
            "1/1 [==============================] - 1s 566ms/step\n"
          ]
        },
        {
          "output_type": "stream",
          "name": "stderr",
          "text": [
            "\r 15%|█▍        | 81/541 [09:16<05:32,  1.38it/s]"
          ]
        },
        {
          "output_type": "stream",
          "name": "stdout",
          "text": [
            "1/1 [==============================] - 1s 574ms/step\n"
          ]
        },
        {
          "output_type": "stream",
          "name": "stderr",
          "text": [
            "\r 15%|█▌        | 82/541 [09:17<05:30,  1.39it/s]"
          ]
        },
        {
          "output_type": "stream",
          "name": "stdout",
          "text": [
            "1/1 [==============================] - 1s 624ms/step\n"
          ]
        },
        {
          "output_type": "stream",
          "name": "stderr",
          "text": [
            "\r 15%|█▌        | 83/541 [09:18<05:40,  1.35it/s]"
          ]
        },
        {
          "output_type": "stream",
          "name": "stdout",
          "text": [
            "1/1 [==============================] - 1s 575ms/step\n"
          ]
        },
        {
          "output_type": "stream",
          "name": "stderr",
          "text": [
            "\r 16%|█▌        | 84/541 [09:18<05:36,  1.36it/s]"
          ]
        },
        {
          "output_type": "stream",
          "name": "stdout",
          "text": [
            "1/1 [==============================] - 1s 578ms/step\n"
          ]
        },
        {
          "output_type": "stream",
          "name": "stderr",
          "text": [
            "\r 16%|█▌        | 85/541 [09:19<05:38,  1.35it/s]"
          ]
        },
        {
          "output_type": "stream",
          "name": "stdout",
          "text": [
            "1/1 [==============================] - 1s 586ms/step\n"
          ]
        },
        {
          "output_type": "stream",
          "name": "stderr",
          "text": [
            "\r 16%|█▌        | 86/541 [09:20<05:34,  1.36it/s]"
          ]
        },
        {
          "output_type": "stream",
          "name": "stdout",
          "text": [
            "1/1 [==============================] - 1s 618ms/step\n"
          ]
        },
        {
          "output_type": "stream",
          "name": "stderr",
          "text": [
            "\r 16%|█▌        | 87/541 [09:21<05:43,  1.32it/s]"
          ]
        },
        {
          "output_type": "stream",
          "name": "stdout",
          "text": [
            "1/1 [==============================] - 1s 533ms/step\n"
          ]
        },
        {
          "output_type": "stream",
          "name": "stderr",
          "text": [
            "\r 16%|█▋        | 88/541 [09:21<05:32,  1.36it/s]"
          ]
        },
        {
          "output_type": "stream",
          "name": "stdout",
          "text": [
            "1/1 [==============================] - 1s 553ms/step\n"
          ]
        },
        {
          "output_type": "stream",
          "name": "stderr",
          "text": [
            "\r 16%|█▋        | 89/541 [09:22<05:26,  1.38it/s]"
          ]
        },
        {
          "output_type": "stream",
          "name": "stdout",
          "text": [
            "1/1 [==============================] - 1s 541ms/step\n"
          ]
        },
        {
          "output_type": "stream",
          "name": "stderr",
          "text": [
            "\r 17%|█▋        | 90/541 [09:23<05:26,  1.38it/s]"
          ]
        },
        {
          "output_type": "stream",
          "name": "stdout",
          "text": [
            "1/1 [==============================] - 1s 542ms/step\n"
          ]
        },
        {
          "output_type": "stream",
          "name": "stderr",
          "text": [
            "\r 17%|█▋        | 91/541 [09:24<05:22,  1.39it/s]"
          ]
        },
        {
          "output_type": "stream",
          "name": "stdout",
          "text": [
            "1/1 [==============================] - 1s 584ms/step\n"
          ]
        },
        {
          "output_type": "stream",
          "name": "stderr",
          "text": [
            "\r 17%|█▋        | 92/541 [09:24<05:28,  1.37it/s]"
          ]
        },
        {
          "output_type": "stream",
          "name": "stdout",
          "text": [
            "1/1 [==============================] - 1s 544ms/step\n"
          ]
        },
        {
          "output_type": "stream",
          "name": "stderr",
          "text": [
            "\r 17%|█▋        | 93/541 [09:25<05:21,  1.39it/s]"
          ]
        },
        {
          "output_type": "stream",
          "name": "stdout",
          "text": [
            "1/1 [==============================] - 1s 543ms/step\n"
          ]
        },
        {
          "output_type": "stream",
          "name": "stderr",
          "text": [
            "\r 17%|█▋        | 94/541 [09:26<05:20,  1.39it/s]"
          ]
        },
        {
          "output_type": "stream",
          "name": "stdout",
          "text": [
            "1/1 [==============================] - 1s 591ms/step\n"
          ]
        },
        {
          "output_type": "stream",
          "name": "stderr",
          "text": [
            "\r 18%|█▊        | 95/541 [09:26<05:20,  1.39it/s]"
          ]
        },
        {
          "output_type": "stream",
          "name": "stdout",
          "text": [
            "1/1 [==============================] - 1s 599ms/step\n"
          ]
        },
        {
          "output_type": "stream",
          "name": "stderr",
          "text": [
            "\r 18%|█▊        | 96/541 [09:27<05:21,  1.38it/s]"
          ]
        },
        {
          "output_type": "stream",
          "name": "stdout",
          "text": [
            "1/1 [==============================] - 1s 572ms/step\n"
          ]
        },
        {
          "output_type": "stream",
          "name": "stderr",
          "text": [
            "\r 18%|█▊        | 97/541 [09:28<06:38,  1.11it/s]"
          ]
        },
        {
          "output_type": "stream",
          "name": "stdout",
          "text": [
            "1/1 [==============================] - 1s 610ms/step\n"
          ]
        },
        {
          "output_type": "stream",
          "name": "stderr",
          "text": [
            "\r 18%|█▊        | 98/541 [09:30<07:08,  1.03it/s]"
          ]
        },
        {
          "output_type": "stream",
          "name": "stdout",
          "text": [
            "1/1 [==============================] - 1s 600ms/step\n"
          ]
        },
        {
          "output_type": "stream",
          "name": "stderr",
          "text": [
            "\r 18%|█▊        | 99/541 [09:30<06:53,  1.07it/s]"
          ]
        },
        {
          "output_type": "stream",
          "name": "stdout",
          "text": [
            "1/1 [==============================] - 1s 599ms/step\n"
          ]
        },
        {
          "output_type": "stream",
          "name": "stderr",
          "text": [
            "\r 18%|█▊        | 100/541 [09:31<06:45,  1.09it/s]"
          ]
        },
        {
          "output_type": "stream",
          "name": "stdout",
          "text": [
            "1/1 [==============================] - 1s 608ms/step\n"
          ]
        },
        {
          "output_type": "stream",
          "name": "stderr",
          "text": [
            "\r 19%|█▊        | 101/541 [09:32<06:34,  1.12it/s]"
          ]
        },
        {
          "output_type": "stream",
          "name": "stdout",
          "text": [
            "1/1 [==============================] - 1s 621ms/step\n"
          ]
        },
        {
          "output_type": "stream",
          "name": "stderr",
          "text": [
            "\r 19%|█▉        | 102/541 [09:33<06:28,  1.13it/s]"
          ]
        },
        {
          "output_type": "stream",
          "name": "stdout",
          "text": [
            "1/1 [==============================] - 1s 609ms/step\n"
          ]
        },
        {
          "output_type": "stream",
          "name": "stderr",
          "text": [
            "\r 19%|█▉        | 103/541 [09:34<06:24,  1.14it/s]"
          ]
        },
        {
          "output_type": "stream",
          "name": "stdout",
          "text": [
            "1/1 [==============================] - 1s 623ms/step\n"
          ]
        },
        {
          "output_type": "stream",
          "name": "stderr",
          "text": [
            "\r 19%|█▉        | 104/541 [09:35<06:06,  1.19it/s]"
          ]
        },
        {
          "output_type": "stream",
          "name": "stdout",
          "text": [
            "1/1 [==============================] - 1s 570ms/step\n"
          ]
        },
        {
          "output_type": "stream",
          "name": "stderr",
          "text": [
            "\r 19%|█▉        | 105/541 [09:35<05:51,  1.24it/s]"
          ]
        },
        {
          "output_type": "stream",
          "name": "stdout",
          "text": [
            "1/1 [==============================] - 1s 575ms/step\n"
          ]
        },
        {
          "output_type": "stream",
          "name": "stderr",
          "text": [
            "\r 20%|█▉        | 106/541 [09:36<05:38,  1.29it/s]"
          ]
        },
        {
          "output_type": "stream",
          "name": "stdout",
          "text": [
            "1/1 [==============================] - 1s 557ms/step\n"
          ]
        },
        {
          "output_type": "stream",
          "name": "stderr",
          "text": [
            "\r 20%|█▉        | 107/541 [09:37<05:30,  1.31it/s]"
          ]
        },
        {
          "output_type": "stream",
          "name": "stdout",
          "text": [
            "1/1 [==============================] - 1s 575ms/step\n"
          ]
        },
        {
          "output_type": "stream",
          "name": "stderr",
          "text": [
            "\r 20%|█▉        | 108/541 [09:38<05:23,  1.34it/s]"
          ]
        },
        {
          "output_type": "stream",
          "name": "stdout",
          "text": [
            "1/1 [==============================] - 1s 564ms/step\n"
          ]
        },
        {
          "output_type": "stream",
          "name": "stderr",
          "text": [
            "\r 20%|██        | 109/541 [09:38<05:19,  1.35it/s]"
          ]
        },
        {
          "output_type": "stream",
          "name": "stdout",
          "text": [
            "1/1 [==============================] - 1s 569ms/step\n"
          ]
        },
        {
          "output_type": "stream",
          "name": "stderr",
          "text": [
            "\r 20%|██        | 110/541 [09:39<05:14,  1.37it/s]"
          ]
        },
        {
          "output_type": "stream",
          "name": "stdout",
          "text": [
            "1/1 [==============================] - 1s 575ms/step\n"
          ]
        },
        {
          "output_type": "stream",
          "name": "stderr",
          "text": [
            "\r 21%|██        | 111/541 [09:40<05:10,  1.39it/s]"
          ]
        },
        {
          "output_type": "stream",
          "name": "stdout",
          "text": [
            "1/1 [==============================] - 1s 593ms/step\n"
          ]
        },
        {
          "output_type": "stream",
          "name": "stderr",
          "text": [
            "\r 21%|██        | 112/541 [09:40<05:13,  1.37it/s]"
          ]
        },
        {
          "output_type": "stream",
          "name": "stdout",
          "text": [
            "1/1 [==============================] - 1s 599ms/step\n"
          ]
        },
        {
          "output_type": "stream",
          "name": "stderr",
          "text": [
            "\r 21%|██        | 113/541 [09:41<05:14,  1.36it/s]"
          ]
        },
        {
          "output_type": "stream",
          "name": "stdout",
          "text": [
            "1/1 [==============================] - 1s 585ms/step\n"
          ]
        },
        {
          "output_type": "stream",
          "name": "stderr",
          "text": [
            "\r 21%|██        | 114/541 [09:42<05:15,  1.35it/s]"
          ]
        },
        {
          "output_type": "stream",
          "name": "stdout",
          "text": [
            "1/1 [==============================] - 1s 578ms/step\n"
          ]
        },
        {
          "output_type": "stream",
          "name": "stderr",
          "text": [
            "\r 21%|██▏       | 115/541 [09:43<05:10,  1.37it/s]"
          ]
        },
        {
          "output_type": "stream",
          "name": "stdout",
          "text": [
            "1/1 [==============================] - 1s 562ms/step\n"
          ]
        },
        {
          "output_type": "stream",
          "name": "stderr",
          "text": [
            "\r 21%|██▏       | 116/541 [09:43<05:10,  1.37it/s]"
          ]
        },
        {
          "output_type": "stream",
          "name": "stdout",
          "text": [
            "1/1 [==============================] - 1s 560ms/step\n"
          ]
        },
        {
          "output_type": "stream",
          "name": "stderr",
          "text": [
            "\r 22%|██▏       | 117/541 [09:44<05:07,  1.38it/s]"
          ]
        },
        {
          "output_type": "stream",
          "name": "stdout",
          "text": [
            "1/1 [==============================] - 1s 567ms/step\n"
          ]
        },
        {
          "output_type": "stream",
          "name": "stderr",
          "text": [
            "\r 22%|██▏       | 118/541 [09:45<05:08,  1.37it/s]"
          ]
        },
        {
          "output_type": "stream",
          "name": "stdout",
          "text": [
            "1/1 [==============================] - 1s 560ms/step\n"
          ]
        },
        {
          "output_type": "stream",
          "name": "stderr",
          "text": [
            "\r 22%|██▏       | 119/541 [09:45<05:02,  1.39it/s]"
          ]
        },
        {
          "output_type": "stream",
          "name": "stdout",
          "text": [
            "1/1 [==============================] - 1s 578ms/step\n"
          ]
        },
        {
          "output_type": "stream",
          "name": "stderr",
          "text": [
            "\r 22%|██▏       | 120/541 [09:46<05:00,  1.40it/s]"
          ]
        },
        {
          "output_type": "stream",
          "name": "stdout",
          "text": [
            "1/1 [==============================] - 1s 581ms/step\n"
          ]
        },
        {
          "output_type": "stream",
          "name": "stderr",
          "text": [
            "\r 22%|██▏       | 121/541 [09:47<05:04,  1.38it/s]"
          ]
        },
        {
          "output_type": "stream",
          "name": "stdout",
          "text": [
            "1/1 [==============================] - 1s 514ms/step\n"
          ]
        },
        {
          "output_type": "stream",
          "name": "stderr",
          "text": [
            "\r 23%|██▎       | 122/541 [09:48<04:53,  1.43it/s]"
          ]
        },
        {
          "output_type": "stream",
          "name": "stdout",
          "text": [
            "1/1 [==============================] - 1s 569ms/step\n"
          ]
        },
        {
          "output_type": "stream",
          "name": "stderr",
          "text": [
            "\r 23%|██▎       | 123/541 [09:48<04:56,  1.41it/s]"
          ]
        },
        {
          "output_type": "stream",
          "name": "stdout",
          "text": [
            "1/1 [==============================] - 1s 585ms/step\n"
          ]
        },
        {
          "output_type": "stream",
          "name": "stderr",
          "text": [
            "\r 23%|██▎       | 124/541 [09:49<04:56,  1.41it/s]"
          ]
        },
        {
          "output_type": "stream",
          "name": "stdout",
          "text": [
            "1/1 [==============================] - 1s 529ms/step\n"
          ]
        },
        {
          "output_type": "stream",
          "name": "stderr",
          "text": [
            "\r 23%|██▎       | 125/541 [09:50<04:52,  1.42it/s]"
          ]
        },
        {
          "output_type": "stream",
          "name": "stdout",
          "text": [
            "1/1 [==============================] - 1s 610ms/step\n"
          ]
        },
        {
          "output_type": "stream",
          "name": "stderr",
          "text": [
            "\r 23%|██▎       | 126/541 [09:50<04:56,  1.40it/s]"
          ]
        },
        {
          "output_type": "stream",
          "name": "stdout",
          "text": [
            "1/1 [==============================] - 1s 563ms/step\n"
          ]
        },
        {
          "output_type": "stream",
          "name": "stderr",
          "text": [
            "\r 23%|██▎       | 127/541 [09:51<04:55,  1.40it/s]"
          ]
        },
        {
          "output_type": "stream",
          "name": "stdout",
          "text": [
            "1/1 [==============================] - 1s 577ms/step\n"
          ]
        },
        {
          "output_type": "stream",
          "name": "stderr",
          "text": [
            "\r 24%|██▎       | 128/541 [09:52<04:59,  1.38it/s]"
          ]
        },
        {
          "output_type": "stream",
          "name": "stdout",
          "text": [
            "1/1 [==============================] - 1s 584ms/step\n"
          ]
        },
        {
          "output_type": "stream",
          "name": "stderr",
          "text": [
            "\r 24%|██▍       | 129/541 [09:53<05:48,  1.18it/s]"
          ]
        },
        {
          "output_type": "stream",
          "name": "stdout",
          "text": [
            "1/1 [==============================] - 1s 582ms/step\n"
          ]
        },
        {
          "output_type": "stream",
          "name": "stderr",
          "text": [
            "\r 24%|██▍       | 130/541 [09:54<05:47,  1.18it/s]"
          ]
        },
        {
          "output_type": "stream",
          "name": "stdout",
          "text": [
            "1/1 [==============================] - 1s 583ms/step\n"
          ]
        },
        {
          "output_type": "stream",
          "name": "stderr",
          "text": [
            "\r 24%|██▍       | 131/541 [09:55<05:43,  1.19it/s]"
          ]
        },
        {
          "output_type": "stream",
          "name": "stdout",
          "text": [
            "1/1 [==============================] - 1s 568ms/step\n"
          ]
        },
        {
          "output_type": "stream",
          "name": "stderr",
          "text": [
            "\r 24%|██▍       | 132/541 [09:56<05:43,  1.19it/s]"
          ]
        },
        {
          "output_type": "stream",
          "name": "stdout",
          "text": [
            "1/1 [==============================] - 1s 586ms/step\n"
          ]
        },
        {
          "output_type": "stream",
          "name": "stderr",
          "text": [
            "\r 25%|██▍       | 133/541 [09:56<05:34,  1.22it/s]"
          ]
        },
        {
          "output_type": "stream",
          "name": "stdout",
          "text": [
            "1/1 [==============================] - 1s 633ms/step\n"
          ]
        },
        {
          "output_type": "stream",
          "name": "stderr",
          "text": [
            "\r 25%|██▍       | 134/541 [09:57<05:30,  1.23it/s]"
          ]
        },
        {
          "output_type": "stream",
          "name": "stdout",
          "text": [
            "1/1 [==============================] - 1s 606ms/step\n"
          ]
        },
        {
          "output_type": "stream",
          "name": "stderr",
          "text": [
            "\r 25%|██▍       | 135/541 [09:58<05:27,  1.24it/s]"
          ]
        },
        {
          "output_type": "stream",
          "name": "stdout",
          "text": [
            "1/1 [==============================] - 1s 557ms/step\n"
          ]
        },
        {
          "output_type": "stream",
          "name": "stderr",
          "text": [
            "\r 25%|██▌       | 136/541 [09:59<05:15,  1.29it/s]"
          ]
        },
        {
          "output_type": "stream",
          "name": "stdout",
          "text": [
            "1/1 [==============================] - 1s 613ms/step\n"
          ]
        },
        {
          "output_type": "stream",
          "name": "stderr",
          "text": [
            "\r 25%|██▌       | 137/541 [09:59<05:18,  1.27it/s]"
          ]
        },
        {
          "output_type": "stream",
          "name": "stdout",
          "text": [
            "1/1 [==============================] - 1s 596ms/step\n"
          ]
        },
        {
          "output_type": "stream",
          "name": "stderr",
          "text": [
            "\r 26%|██▌       | 138/541 [10:00<05:10,  1.30it/s]"
          ]
        },
        {
          "output_type": "stream",
          "name": "stdout",
          "text": [
            "1/1 [==============================] - 1s 597ms/step\n"
          ]
        },
        {
          "output_type": "stream",
          "name": "stderr",
          "text": [
            "\r 26%|██▌       | 139/541 [10:01<05:05,  1.32it/s]"
          ]
        },
        {
          "output_type": "stream",
          "name": "stdout",
          "text": [
            "1/1 [==============================] - 1s 568ms/step\n"
          ]
        },
        {
          "output_type": "stream",
          "name": "stderr",
          "text": [
            "\r 26%|██▌       | 140/541 [10:02<05:02,  1.33it/s]"
          ]
        },
        {
          "output_type": "stream",
          "name": "stdout",
          "text": [
            "1/1 [==============================] - 1s 570ms/step\n"
          ]
        },
        {
          "output_type": "stream",
          "name": "stderr",
          "text": [
            "\r 26%|██▌       | 141/541 [10:02<04:56,  1.35it/s]"
          ]
        },
        {
          "output_type": "stream",
          "name": "stdout",
          "text": [
            "1/1 [==============================] - 1s 606ms/step\n"
          ]
        },
        {
          "output_type": "stream",
          "name": "stderr",
          "text": [
            "\r 26%|██▌       | 142/541 [10:03<05:00,  1.33it/s]"
          ]
        },
        {
          "output_type": "stream",
          "name": "stdout",
          "text": [
            "1/1 [==============================] - 1s 620ms/step\n"
          ]
        },
        {
          "output_type": "stream",
          "name": "stderr",
          "text": [
            "\r 26%|██▋       | 143/541 [10:04<05:00,  1.33it/s]"
          ]
        },
        {
          "output_type": "stream",
          "name": "stdout",
          "text": [
            "1/1 [==============================] - 1s 580ms/step\n"
          ]
        },
        {
          "output_type": "stream",
          "name": "stderr",
          "text": [
            "\r 27%|██▋       | 144/541 [10:05<05:00,  1.32it/s]"
          ]
        },
        {
          "output_type": "stream",
          "name": "stdout",
          "text": [
            "1/1 [==============================] - 1s 575ms/step\n"
          ]
        },
        {
          "output_type": "stream",
          "name": "stderr",
          "text": [
            "\r 27%|██▋       | 145/541 [10:05<04:56,  1.33it/s]"
          ]
        },
        {
          "output_type": "stream",
          "name": "stdout",
          "text": [
            "1/1 [==============================] - 1s 561ms/step\n"
          ]
        },
        {
          "output_type": "stream",
          "name": "stderr",
          "text": [
            "\r 27%|██▋       | 146/541 [10:06<04:56,  1.33it/s]"
          ]
        },
        {
          "output_type": "stream",
          "name": "stdout",
          "text": [
            "1/1 [==============================] - 1s 526ms/step\n"
          ]
        },
        {
          "output_type": "stream",
          "name": "stderr",
          "text": [
            "\r 27%|██▋       | 147/541 [10:07<04:46,  1.38it/s]"
          ]
        },
        {
          "output_type": "stream",
          "name": "stdout",
          "text": [
            "1/1 [==============================] - 1s 561ms/step\n"
          ]
        },
        {
          "output_type": "stream",
          "name": "stderr",
          "text": [
            "\r 27%|██▋       | 148/541 [10:08<04:44,  1.38it/s]"
          ]
        },
        {
          "output_type": "stream",
          "name": "stdout",
          "text": [
            "1/1 [==============================] - 1s 558ms/step\n"
          ]
        },
        {
          "output_type": "stream",
          "name": "stderr",
          "text": [
            "\r 28%|██▊       | 149/541 [10:08<04:46,  1.37it/s]"
          ]
        },
        {
          "output_type": "stream",
          "name": "stdout",
          "text": [
            "1/1 [==============================] - 1s 584ms/step\n"
          ]
        },
        {
          "output_type": "stream",
          "name": "stderr",
          "text": [
            "\r 28%|██▊       | 150/541 [10:09<04:45,  1.37it/s]"
          ]
        },
        {
          "output_type": "stream",
          "name": "stdout",
          "text": [
            "1/1 [==============================] - 1s 601ms/step\n"
          ]
        },
        {
          "output_type": "stream",
          "name": "stderr",
          "text": [
            "\r 28%|██▊       | 151/541 [10:10<04:51,  1.34it/s]"
          ]
        },
        {
          "output_type": "stream",
          "name": "stdout",
          "text": [
            "1/1 [==============================] - 1s 588ms/step\n"
          ]
        },
        {
          "output_type": "stream",
          "name": "stderr",
          "text": [
            "\r 28%|██▊       | 152/541 [10:11<04:48,  1.35it/s]"
          ]
        },
        {
          "output_type": "stream",
          "name": "stdout",
          "text": [
            "1/1 [==============================] - 1s 631ms/step\n"
          ]
        },
        {
          "output_type": "stream",
          "name": "stderr",
          "text": [
            "\r 28%|██▊       | 153/541 [10:11<04:55,  1.31it/s]"
          ]
        },
        {
          "output_type": "stream",
          "name": "stdout",
          "text": [
            "1/1 [==============================] - 1s 613ms/step\n"
          ]
        },
        {
          "output_type": "stream",
          "name": "stderr",
          "text": [
            "\r 28%|██▊       | 154/541 [10:12<04:54,  1.31it/s]"
          ]
        },
        {
          "output_type": "stream",
          "name": "stdout",
          "text": [
            "1/1 [==============================] - 1s 615ms/step\n"
          ]
        },
        {
          "output_type": "stream",
          "name": "stderr",
          "text": [
            "\r 29%|██▊       | 155/541 [10:13<04:58,  1.29it/s]"
          ]
        },
        {
          "output_type": "stream",
          "name": "stdout",
          "text": [
            "1/1 [==============================] - 1s 609ms/step\n"
          ]
        },
        {
          "output_type": "stream",
          "name": "stderr",
          "text": [
            "\r 29%|██▉       | 156/541 [10:14<04:58,  1.29it/s]"
          ]
        },
        {
          "output_type": "stream",
          "name": "stdout",
          "text": [
            "1/1 [==============================] - 1s 539ms/step\n"
          ]
        },
        {
          "output_type": "stream",
          "name": "stderr",
          "text": [
            "\r 29%|██▉       | 157/541 [10:14<04:49,  1.32it/s]"
          ]
        },
        {
          "output_type": "stream",
          "name": "stdout",
          "text": [
            "1/1 [==============================] - 1s 543ms/step\n"
          ]
        },
        {
          "output_type": "stream",
          "name": "stderr",
          "text": [
            "\r 29%|██▉       | 158/541 [10:15<04:40,  1.37it/s]"
          ]
        },
        {
          "output_type": "stream",
          "name": "stdout",
          "text": [
            "1/1 [==============================] - 1s 552ms/step\n"
          ]
        },
        {
          "output_type": "stream",
          "name": "stderr",
          "text": [
            "\r 29%|██▉       | 159/541 [10:16<04:37,  1.38it/s]"
          ]
        },
        {
          "output_type": "stream",
          "name": "stdout",
          "text": [
            "1/1 [==============================] - 1s 551ms/step\n"
          ]
        },
        {
          "output_type": "stream",
          "name": "stderr",
          "text": [
            "\r 30%|██▉       | 160/541 [10:16<04:33,  1.39it/s]"
          ]
        },
        {
          "output_type": "stream",
          "name": "stdout",
          "text": [
            "1/1 [==============================] - 1s 554ms/step\n"
          ]
        },
        {
          "output_type": "stream",
          "name": "stderr",
          "text": [
            "\r 30%|██▉       | 161/541 [10:17<04:32,  1.40it/s]"
          ]
        },
        {
          "output_type": "stream",
          "name": "stdout",
          "text": [
            "1/1 [==============================] - 1s 545ms/step\n"
          ]
        },
        {
          "output_type": "stream",
          "name": "stderr",
          "text": [
            "\r 30%|██▉       | 162/541 [10:18<04:27,  1.42it/s]"
          ]
        },
        {
          "output_type": "stream",
          "name": "stdout",
          "text": [
            "1/1 [==============================] - 1s 575ms/step\n"
          ]
        },
        {
          "output_type": "stream",
          "name": "stderr",
          "text": [
            "\r 30%|███       | 163/541 [10:19<04:25,  1.42it/s]"
          ]
        },
        {
          "output_type": "stream",
          "name": "stdout",
          "text": [
            "1/1 [==============================] - 1s 557ms/step\n"
          ]
        },
        {
          "output_type": "stream",
          "name": "stderr",
          "text": [
            "\r 30%|███       | 164/541 [10:19<04:27,  1.41it/s]"
          ]
        },
        {
          "output_type": "stream",
          "name": "stdout",
          "text": [
            "1/1 [==============================] - 1s 565ms/step\n"
          ]
        },
        {
          "output_type": "stream",
          "name": "stderr",
          "text": [
            "\r 30%|███       | 165/541 [10:20<04:24,  1.42it/s]"
          ]
        },
        {
          "output_type": "stream",
          "name": "stdout",
          "text": [
            "1/1 [==============================] - 1s 549ms/step\n"
          ]
        },
        {
          "output_type": "stream",
          "name": "stderr",
          "text": [
            "\r 31%|███       | 166/541 [10:21<04:26,  1.41it/s]"
          ]
        },
        {
          "output_type": "stream",
          "name": "stdout",
          "text": [
            "1/1 [==============================] - 1s 568ms/step\n"
          ]
        },
        {
          "output_type": "stream",
          "name": "stderr",
          "text": [
            "\r 31%|███       | 167/541 [10:21<04:24,  1.41it/s]"
          ]
        },
        {
          "output_type": "stream",
          "name": "stdout",
          "text": [
            "1/1 [==============================] - 1s 553ms/step\n"
          ]
        },
        {
          "output_type": "stream",
          "name": "stderr",
          "text": [
            "\r 31%|███       | 168/541 [10:22<04:25,  1.41it/s]"
          ]
        },
        {
          "output_type": "stream",
          "name": "stdout",
          "text": [
            "1/1 [==============================] - 1s 602ms/step\n"
          ]
        },
        {
          "output_type": "stream",
          "name": "stderr",
          "text": [
            "\r 31%|███       | 169/541 [10:23<04:26,  1.39it/s]"
          ]
        },
        {
          "output_type": "stream",
          "name": "stdout",
          "text": [
            "1/1 [==============================] - 1s 577ms/step\n"
          ]
        },
        {
          "output_type": "stream",
          "name": "stderr",
          "text": [
            "\r 31%|███▏      | 170/541 [10:24<04:28,  1.38it/s]"
          ]
        },
        {
          "output_type": "stream",
          "name": "stdout",
          "text": [
            "1/1 [==============================] - 1s 595ms/step\n"
          ]
        },
        {
          "output_type": "stream",
          "name": "stderr",
          "text": [
            "\r 32%|███▏      | 171/541 [10:24<04:28,  1.38it/s]"
          ]
        },
        {
          "output_type": "stream",
          "name": "stdout",
          "text": [
            "1/1 [==============================] - 1s 606ms/step\n"
          ]
        },
        {
          "output_type": "stream",
          "name": "stderr",
          "text": [
            "\r 32%|███▏      | 172/541 [10:25<04:32,  1.35it/s]"
          ]
        },
        {
          "output_type": "stream",
          "name": "stdout",
          "text": [
            "1/1 [==============================] - 1s 610ms/step\n"
          ]
        },
        {
          "output_type": "stream",
          "name": "stderr",
          "text": [
            "\r 32%|███▏      | 173/541 [10:26<04:34,  1.34it/s]"
          ]
        },
        {
          "output_type": "stream",
          "name": "stdout",
          "text": [
            "1/1 [==============================] - 1s 580ms/step\n"
          ]
        },
        {
          "output_type": "stream",
          "name": "stderr",
          "text": [
            "\r 32%|███▏      | 174/541 [10:27<04:34,  1.34it/s]"
          ]
        },
        {
          "output_type": "stream",
          "name": "stdout",
          "text": [
            "1/1 [==============================] - 1s 572ms/step\n"
          ]
        },
        {
          "output_type": "stream",
          "name": "stderr",
          "text": [
            "\r 32%|███▏      | 175/541 [10:27<04:30,  1.35it/s]"
          ]
        },
        {
          "output_type": "stream",
          "name": "stdout",
          "text": [
            "1/1 [==============================] - 1s 552ms/step\n"
          ]
        },
        {
          "output_type": "stream",
          "name": "stderr",
          "text": [
            "\r 33%|███▎      | 176/541 [10:28<04:25,  1.38it/s]"
          ]
        },
        {
          "output_type": "stream",
          "name": "stdout",
          "text": [
            "1/1 [==============================] - 1s 537ms/step\n"
          ]
        },
        {
          "output_type": "stream",
          "name": "stderr",
          "text": [
            "\r 33%|███▎      | 177/541 [10:29<04:21,  1.39it/s]"
          ]
        },
        {
          "output_type": "stream",
          "name": "stdout",
          "text": [
            "1/1 [==============================] - 1s 551ms/step\n"
          ]
        },
        {
          "output_type": "stream",
          "name": "stderr",
          "text": [
            "\r 33%|███▎      | 178/541 [10:29<04:16,  1.41it/s]"
          ]
        },
        {
          "output_type": "stream",
          "name": "stdout",
          "text": [
            "1/1 [==============================] - 1s 558ms/step\n"
          ]
        },
        {
          "output_type": "stream",
          "name": "stderr",
          "text": [
            "\r 33%|███▎      | 179/541 [10:30<04:17,  1.40it/s]"
          ]
        },
        {
          "output_type": "stream",
          "name": "stdout",
          "text": [
            "1/1 [==============================] - 1s 571ms/step\n"
          ]
        },
        {
          "output_type": "stream",
          "name": "stderr",
          "text": [
            "\r 33%|███▎      | 180/541 [10:31<04:15,  1.41it/s]"
          ]
        },
        {
          "output_type": "stream",
          "name": "stdout",
          "text": [
            "1/1 [==============================] - 1s 565ms/step\n"
          ]
        },
        {
          "output_type": "stream",
          "name": "stderr",
          "text": [
            "\r 33%|███▎      | 181/541 [10:32<04:17,  1.40it/s]"
          ]
        },
        {
          "output_type": "stream",
          "name": "stdout",
          "text": [
            "1/1 [==============================] - 1s 555ms/step\n"
          ]
        },
        {
          "output_type": "stream",
          "name": "stderr",
          "text": [
            "\r 34%|███▎      | 182/541 [10:32<04:13,  1.42it/s]"
          ]
        },
        {
          "output_type": "stream",
          "name": "stdout",
          "text": [
            "1/1 [==============================] - 1s 579ms/step\n"
          ]
        },
        {
          "output_type": "stream",
          "name": "stderr",
          "text": [
            "\r 34%|███▍      | 183/541 [10:33<04:19,  1.38it/s]"
          ]
        },
        {
          "output_type": "stream",
          "name": "stdout",
          "text": [
            "1/1 [==============================] - 1s 565ms/step\n"
          ]
        },
        {
          "output_type": "stream",
          "name": "stderr",
          "text": [
            "\r 34%|███▍      | 184/541 [10:34<04:17,  1.39it/s]"
          ]
        },
        {
          "output_type": "stream",
          "name": "stdout",
          "text": [
            "1/1 [==============================] - 1s 557ms/step\n"
          ]
        },
        {
          "output_type": "stream",
          "name": "stderr",
          "text": [
            "\r 34%|███▍      | 185/541 [10:34<04:15,  1.39it/s]"
          ]
        },
        {
          "output_type": "stream",
          "name": "stdout",
          "text": [
            "1/1 [==============================] - 1s 580ms/step\n"
          ]
        },
        {
          "output_type": "stream",
          "name": "stderr",
          "text": [
            "\r 34%|███▍      | 186/541 [10:35<04:15,  1.39it/s]"
          ]
        },
        {
          "output_type": "stream",
          "name": "stdout",
          "text": [
            "1/1 [==============================] - 1s 579ms/step\n"
          ]
        },
        {
          "output_type": "stream",
          "name": "stderr",
          "text": [
            "\r 35%|███▍      | 187/541 [10:36<04:16,  1.38it/s]"
          ]
        },
        {
          "output_type": "stream",
          "name": "stdout",
          "text": [
            "1/1 [==============================] - 1s 564ms/step\n"
          ]
        },
        {
          "output_type": "stream",
          "name": "stderr",
          "text": [
            "\r 35%|███▍      | 188/541 [10:37<04:15,  1.38it/s]"
          ]
        },
        {
          "output_type": "stream",
          "name": "stdout",
          "text": [
            "1/1 [==============================] - 1s 573ms/step\n"
          ]
        },
        {
          "output_type": "stream",
          "name": "stderr",
          "text": [
            "\r 35%|███▍      | 189/541 [10:37<04:13,  1.39it/s]"
          ]
        },
        {
          "output_type": "stream",
          "name": "stdout",
          "text": [
            "1/1 [==============================] - 1s 584ms/step\n"
          ]
        },
        {
          "output_type": "stream",
          "name": "stderr",
          "text": [
            "\r 35%|███▌      | 190/541 [10:38<04:19,  1.35it/s]"
          ]
        },
        {
          "output_type": "stream",
          "name": "stdout",
          "text": [
            "1/1 [==============================] - 1s 574ms/step\n"
          ]
        },
        {
          "output_type": "stream",
          "name": "stderr",
          "text": [
            "\r 35%|███▌      | 191/541 [10:39<04:52,  1.20it/s]"
          ]
        },
        {
          "output_type": "stream",
          "name": "stdout",
          "text": [
            "1/1 [==============================] - 1s 588ms/step\n"
          ]
        },
        {
          "output_type": "stream",
          "name": "stderr",
          "text": [
            "\r 35%|███▌      | 192/541 [10:40<04:56,  1.18it/s]"
          ]
        },
        {
          "output_type": "stream",
          "name": "stdout",
          "text": [
            "1/1 [==============================] - 1s 555ms/step\n"
          ]
        },
        {
          "output_type": "stream",
          "name": "stderr",
          "text": [
            "\r 36%|███▌      | 193/541 [10:41<04:51,  1.20it/s]"
          ]
        },
        {
          "output_type": "stream",
          "name": "stdout",
          "text": [
            "1/1 [==============================] - 1s 556ms/step\n"
          ]
        },
        {
          "output_type": "stream",
          "name": "stderr",
          "text": [
            "\r 36%|███▌      | 194/541 [10:42<04:48,  1.20it/s]"
          ]
        },
        {
          "output_type": "stream",
          "name": "stdout",
          "text": [
            "1/1 [==============================] - 1s 551ms/step\n"
          ]
        },
        {
          "output_type": "stream",
          "name": "stderr",
          "text": [
            "\r 36%|███▌      | 195/541 [10:43<04:51,  1.19it/s]"
          ]
        },
        {
          "output_type": "stream",
          "name": "stdout",
          "text": [
            "1/1 [==============================] - 1s 548ms/step\n"
          ]
        },
        {
          "output_type": "stream",
          "name": "stderr",
          "text": [
            "\r 36%|███▌      | 196/541 [10:43<04:50,  1.19it/s]"
          ]
        },
        {
          "output_type": "stream",
          "name": "stdout",
          "text": [
            "1/1 [==============================] - 1s 547ms/step\n"
          ]
        },
        {
          "output_type": "stream",
          "name": "stderr",
          "text": [
            "\r 36%|███▋      | 197/541 [10:44<04:45,  1.20it/s]"
          ]
        },
        {
          "output_type": "stream",
          "name": "stdout",
          "text": [
            "1/1 [==============================] - 1s 551ms/step\n"
          ]
        },
        {
          "output_type": "stream",
          "name": "stderr",
          "text": [
            "\r 37%|███▋      | 198/541 [10:45<04:35,  1.25it/s]"
          ]
        },
        {
          "output_type": "stream",
          "name": "stdout",
          "text": [
            "1/1 [==============================] - 1s 524ms/step\n"
          ]
        },
        {
          "output_type": "stream",
          "name": "stderr",
          "text": [
            "\r 37%|███▋      | 199/541 [10:46<04:20,  1.31it/s]"
          ]
        },
        {
          "output_type": "stream",
          "name": "stdout",
          "text": [
            "1/1 [==============================] - 1s 539ms/step\n"
          ]
        },
        {
          "output_type": "stream",
          "name": "stderr",
          "text": [
            "\r 37%|███▋      | 200/541 [10:46<04:15,  1.33it/s]"
          ]
        },
        {
          "output_type": "stream",
          "name": "stdout",
          "text": [
            "1/1 [==============================] - 1s 552ms/step\n"
          ]
        },
        {
          "output_type": "stream",
          "name": "stderr",
          "text": [
            "\r 37%|███▋      | 201/541 [10:47<04:08,  1.37it/s]"
          ]
        },
        {
          "output_type": "stream",
          "name": "stdout",
          "text": [
            "1/1 [==============================] - 1s 551ms/step\n"
          ]
        },
        {
          "output_type": "stream",
          "name": "stderr",
          "text": [
            "\r 37%|███▋      | 202/541 [10:48<04:07,  1.37it/s]"
          ]
        },
        {
          "output_type": "stream",
          "name": "stdout",
          "text": [
            "1/1 [==============================] - 1s 555ms/step\n"
          ]
        },
        {
          "output_type": "stream",
          "name": "stderr",
          "text": [
            "\r 38%|███▊      | 203/541 [10:48<04:02,  1.39it/s]"
          ]
        },
        {
          "output_type": "stream",
          "name": "stdout",
          "text": [
            "1/1 [==============================] - 1s 566ms/step\n"
          ]
        },
        {
          "output_type": "stream",
          "name": "stderr",
          "text": [
            "\r 38%|███▊      | 204/541 [10:49<04:00,  1.40it/s]"
          ]
        },
        {
          "output_type": "stream",
          "name": "stdout",
          "text": [
            "1/1 [==============================] - 1s 572ms/step\n"
          ]
        },
        {
          "output_type": "stream",
          "name": "stderr",
          "text": [
            "\r 38%|███▊      | 205/541 [10:50<04:00,  1.39it/s]"
          ]
        },
        {
          "output_type": "stream",
          "name": "stdout",
          "text": [
            "1/1 [==============================] - 1s 563ms/step\n"
          ]
        },
        {
          "output_type": "stream",
          "name": "stderr",
          "text": [
            "\r 38%|███▊      | 206/541 [10:51<03:59,  1.40it/s]"
          ]
        },
        {
          "output_type": "stream",
          "name": "stdout",
          "text": [
            "1/1 [==============================] - 1s 581ms/step\n"
          ]
        },
        {
          "output_type": "stream",
          "name": "stderr",
          "text": [
            "\r 38%|███▊      | 207/541 [10:51<04:02,  1.38it/s]"
          ]
        },
        {
          "output_type": "stream",
          "name": "stdout",
          "text": [
            "1/1 [==============================] - 1s 569ms/step\n"
          ]
        },
        {
          "output_type": "stream",
          "name": "stderr",
          "text": [
            "\r 38%|███▊      | 208/541 [10:52<04:00,  1.39it/s]"
          ]
        },
        {
          "output_type": "stream",
          "name": "stdout",
          "text": [
            "1/1 [==============================] - 1s 565ms/step\n"
          ]
        },
        {
          "output_type": "stream",
          "name": "stderr",
          "text": [
            "\r 39%|███▊      | 209/541 [10:53<04:01,  1.37it/s]"
          ]
        },
        {
          "output_type": "stream",
          "name": "stdout",
          "text": [
            "1/1 [==============================] - 1s 560ms/step\n"
          ]
        },
        {
          "output_type": "stream",
          "name": "stderr",
          "text": [
            "\r 39%|███▉      | 210/541 [10:53<03:57,  1.39it/s]"
          ]
        },
        {
          "output_type": "stream",
          "name": "stdout",
          "text": [
            "1/1 [==============================] - 1s 568ms/step\n"
          ]
        },
        {
          "output_type": "stream",
          "name": "stderr",
          "text": [
            "\r 39%|███▉      | 211/541 [10:54<03:59,  1.38it/s]"
          ]
        },
        {
          "output_type": "stream",
          "name": "stdout",
          "text": [
            "1/1 [==============================] - 1s 533ms/step\n"
          ]
        },
        {
          "output_type": "stream",
          "name": "stderr",
          "text": [
            "\r 39%|███▉      | 212/541 [10:55<03:53,  1.41it/s]"
          ]
        },
        {
          "output_type": "stream",
          "name": "stdout",
          "text": [
            "1/1 [==============================] - 1s 516ms/step\n"
          ]
        },
        {
          "output_type": "stream",
          "name": "stderr",
          "text": [
            "\r 39%|███▉      | 213/541 [10:56<03:50,  1.42it/s]"
          ]
        },
        {
          "output_type": "stream",
          "name": "stdout",
          "text": [
            "1/1 [==============================] - 1s 567ms/step\n"
          ]
        },
        {
          "output_type": "stream",
          "name": "stderr",
          "text": [
            "\r 40%|███▉      | 214/541 [10:56<03:49,  1.42it/s]"
          ]
        },
        {
          "output_type": "stream",
          "name": "stdout",
          "text": [
            "1/1 [==============================] - 1s 514ms/step\n"
          ]
        },
        {
          "output_type": "stream",
          "name": "stderr",
          "text": [
            "\r 40%|███▉      | 215/541 [10:57<03:49,  1.42it/s]"
          ]
        },
        {
          "output_type": "stream",
          "name": "stdout",
          "text": [
            "1/1 [==============================] - 1s 557ms/step\n"
          ]
        },
        {
          "output_type": "stream",
          "name": "stderr",
          "text": [
            "\r 40%|███▉      | 216/541 [10:58<03:46,  1.43it/s]"
          ]
        },
        {
          "output_type": "stream",
          "name": "stdout",
          "text": [
            "1/1 [==============================] - 1s 548ms/step\n"
          ]
        },
        {
          "output_type": "stream",
          "name": "stderr",
          "text": [
            "\r 40%|████      | 217/541 [10:58<03:48,  1.42it/s]"
          ]
        },
        {
          "output_type": "stream",
          "name": "stdout",
          "text": [
            "1/1 [==============================] - 1s 545ms/step\n"
          ]
        },
        {
          "output_type": "stream",
          "name": "stderr",
          "text": [
            "\r 40%|████      | 218/541 [10:59<03:44,  1.44it/s]"
          ]
        },
        {
          "output_type": "stream",
          "name": "stdout",
          "text": [
            "1/1 [==============================] - 1s 559ms/step\n"
          ]
        },
        {
          "output_type": "stream",
          "name": "stderr",
          "text": [
            "\r 40%|████      | 219/541 [11:00<03:43,  1.44it/s]"
          ]
        },
        {
          "output_type": "stream",
          "name": "stdout",
          "text": [
            "1/1 [==============================] - 1s 557ms/step\n"
          ]
        },
        {
          "output_type": "stream",
          "name": "stderr",
          "text": [
            "\r 41%|████      | 220/541 [11:00<03:44,  1.43it/s]"
          ]
        },
        {
          "output_type": "stream",
          "name": "stdout",
          "text": [
            "1/1 [==============================] - 1s 543ms/step\n"
          ]
        },
        {
          "output_type": "stream",
          "name": "stderr",
          "text": [
            "\r 41%|████      | 221/541 [11:01<03:41,  1.44it/s]"
          ]
        },
        {
          "output_type": "stream",
          "name": "stdout",
          "text": [
            "1/1 [==============================] - 1s 539ms/step\n"
          ]
        },
        {
          "output_type": "stream",
          "name": "stderr",
          "text": [
            "\r 41%|████      | 222/541 [11:02<03:41,  1.44it/s]"
          ]
        },
        {
          "output_type": "stream",
          "name": "stdout",
          "text": [
            "1/1 [==============================] - 1s 546ms/step\n"
          ]
        },
        {
          "output_type": "stream",
          "name": "stderr",
          "text": [
            "\r 41%|████      | 223/541 [11:03<03:38,  1.45it/s]"
          ]
        },
        {
          "output_type": "stream",
          "name": "stdout",
          "text": [
            "1/1 [==============================] - 1s 560ms/step\n"
          ]
        },
        {
          "output_type": "stream",
          "name": "stderr",
          "text": [
            "\r 41%|████▏     | 224/541 [11:03<03:42,  1.42it/s]"
          ]
        },
        {
          "output_type": "stream",
          "name": "stdout",
          "text": [
            "1/1 [==============================] - 1s 560ms/step\n"
          ]
        },
        {
          "output_type": "stream",
          "name": "stderr",
          "text": [
            "\r 42%|████▏     | 225/541 [11:04<03:43,  1.41it/s]"
          ]
        },
        {
          "output_type": "stream",
          "name": "stdout",
          "text": [
            "1/1 [==============================] - 1s 602ms/step\n"
          ]
        },
        {
          "output_type": "stream",
          "name": "stderr",
          "text": [
            "\r 42%|████▏     | 226/541 [11:05<03:50,  1.37it/s]"
          ]
        },
        {
          "output_type": "stream",
          "name": "stdout",
          "text": [
            "1/1 [==============================] - 1s 615ms/step\n"
          ]
        },
        {
          "output_type": "stream",
          "name": "stderr",
          "text": [
            "\r 42%|████▏     | 227/541 [11:06<03:51,  1.36it/s]"
          ]
        },
        {
          "output_type": "stream",
          "name": "stdout",
          "text": [
            "1/1 [==============================] - 1s 594ms/step\n"
          ]
        },
        {
          "output_type": "stream",
          "name": "stderr",
          "text": [
            "\r 42%|████▏     | 228/541 [11:06<03:52,  1.34it/s]"
          ]
        },
        {
          "output_type": "stream",
          "name": "stdout",
          "text": [
            "1/1 [==============================] - 1s 583ms/step\n"
          ]
        },
        {
          "output_type": "stream",
          "name": "stderr",
          "text": [
            "\r 42%|████▏     | 229/541 [11:07<03:48,  1.36it/s]"
          ]
        },
        {
          "output_type": "stream",
          "name": "stdout",
          "text": [
            "1/1 [==============================] - 1s 589ms/step\n"
          ]
        },
        {
          "output_type": "stream",
          "name": "stderr",
          "text": [
            "\r 43%|████▎     | 230/541 [11:08<03:49,  1.35it/s]"
          ]
        },
        {
          "output_type": "stream",
          "name": "stdout",
          "text": [
            "1/1 [==============================] - 1s 600ms/step\n"
          ]
        },
        {
          "output_type": "stream",
          "name": "stderr",
          "text": [
            "\r 43%|████▎     | 231/541 [11:08<03:48,  1.36it/s]"
          ]
        },
        {
          "output_type": "stream",
          "name": "stdout",
          "text": [
            "1/1 [==============================] - 1s 557ms/step\n"
          ]
        },
        {
          "output_type": "stream",
          "name": "stderr",
          "text": [
            "\r 43%|████▎     | 232/541 [11:09<03:42,  1.39it/s]"
          ]
        },
        {
          "output_type": "stream",
          "name": "stdout",
          "text": [
            "1/1 [==============================] - 1s 600ms/step\n"
          ]
        },
        {
          "output_type": "stream",
          "name": "stderr",
          "text": [
            "\r 43%|████▎     | 233/541 [11:10<03:47,  1.36it/s]"
          ]
        },
        {
          "output_type": "stream",
          "name": "stdout",
          "text": [
            "1/1 [==============================] - 1s 602ms/step\n"
          ]
        },
        {
          "output_type": "stream",
          "name": "stderr",
          "text": [
            "\r 43%|████▎     | 234/541 [11:11<03:47,  1.35it/s]"
          ]
        },
        {
          "output_type": "stream",
          "name": "stdout",
          "text": [
            "1/1 [==============================] - 1s 595ms/step\n"
          ]
        },
        {
          "output_type": "stream",
          "name": "stderr",
          "text": [
            "\r 43%|████▎     | 235/541 [11:11<03:51,  1.32it/s]"
          ]
        },
        {
          "output_type": "stream",
          "name": "stdout",
          "text": [
            "1/1 [==============================] - 1s 561ms/step\n"
          ]
        },
        {
          "output_type": "stream",
          "name": "stderr",
          "text": [
            "\r 44%|████▎     | 236/541 [11:12<03:45,  1.36it/s]"
          ]
        },
        {
          "output_type": "stream",
          "name": "stdout",
          "text": [
            "1/1 [==============================] - 1s 555ms/step\n"
          ]
        },
        {
          "output_type": "stream",
          "name": "stderr",
          "text": [
            "\r 44%|████▍     | 237/541 [11:13<03:42,  1.37it/s]"
          ]
        },
        {
          "output_type": "stream",
          "name": "stdout",
          "text": [
            "1/1 [==============================] - 1s 559ms/step\n"
          ]
        },
        {
          "output_type": "stream",
          "name": "stderr",
          "text": [
            "\r 44%|████▍     | 238/541 [11:14<03:37,  1.39it/s]"
          ]
        },
        {
          "output_type": "stream",
          "name": "stdout",
          "text": [
            "1/1 [==============================] - 1s 601ms/step\n"
          ]
        },
        {
          "output_type": "stream",
          "name": "stderr",
          "text": [
            "\r 44%|████▍     | 239/541 [11:14<03:41,  1.36it/s]"
          ]
        },
        {
          "output_type": "stream",
          "name": "stdout",
          "text": [
            "1/1 [==============================] - 1s 600ms/step\n"
          ]
        },
        {
          "output_type": "stream",
          "name": "stderr",
          "text": [
            "\r 44%|████▍     | 240/541 [11:15<03:40,  1.36it/s]"
          ]
        },
        {
          "output_type": "stream",
          "name": "stdout",
          "text": [
            "1/1 [==============================] - 1s 590ms/step\n"
          ]
        },
        {
          "output_type": "stream",
          "name": "stderr",
          "text": [
            "\r 45%|████▍     | 241/541 [11:16<03:41,  1.36it/s]"
          ]
        },
        {
          "output_type": "stream",
          "name": "stdout",
          "text": [
            "1/1 [==============================] - 1s 620ms/step\n"
          ]
        },
        {
          "output_type": "stream",
          "name": "stderr",
          "text": [
            "\r 45%|████▍     | 242/541 [11:17<03:41,  1.35it/s]"
          ]
        },
        {
          "output_type": "stream",
          "name": "stdout",
          "text": [
            "1/1 [==============================] - 1s 583ms/step\n"
          ]
        },
        {
          "output_type": "stream",
          "name": "stderr",
          "text": [
            "\r 45%|████▍     | 243/541 [11:17<03:41,  1.34it/s]"
          ]
        },
        {
          "output_type": "stream",
          "name": "stdout",
          "text": [
            "1/1 [==============================] - 1s 575ms/step\n"
          ]
        },
        {
          "output_type": "stream",
          "name": "stderr",
          "text": [
            "\r 45%|████▌     | 244/541 [11:18<03:38,  1.36it/s]"
          ]
        },
        {
          "output_type": "stream",
          "name": "stdout",
          "text": [
            "1/1 [==============================] - 1s 574ms/step\n"
          ]
        },
        {
          "output_type": "stream",
          "name": "stderr",
          "text": [
            "\r 45%|████▌     | 245/541 [11:19<03:37,  1.36it/s]"
          ]
        },
        {
          "output_type": "stream",
          "name": "stdout",
          "text": [
            "1/1 [==============================] - 1s 604ms/step\n"
          ]
        },
        {
          "output_type": "stream",
          "name": "stderr",
          "text": [
            "\r 45%|████▌     | 246/541 [11:19<03:37,  1.36it/s]"
          ]
        },
        {
          "output_type": "stream",
          "name": "stdout",
          "text": [
            "1/1 [==============================] - 1s 611ms/step\n"
          ]
        },
        {
          "output_type": "stream",
          "name": "stderr",
          "text": [
            "\r 46%|████▌     | 247/541 [11:20<03:37,  1.35it/s]"
          ]
        },
        {
          "output_type": "stream",
          "name": "stdout",
          "text": [
            "1/1 [==============================] - 1s 601ms/step\n"
          ]
        },
        {
          "output_type": "stream",
          "name": "stderr",
          "text": [
            "\r 46%|████▌     | 248/541 [11:21<03:38,  1.34it/s]"
          ]
        },
        {
          "output_type": "stream",
          "name": "stdout",
          "text": [
            "1/1 [==============================] - 1s 561ms/step\n"
          ]
        },
        {
          "output_type": "stream",
          "name": "stderr",
          "text": [
            "\r 46%|████▌     | 249/541 [11:22<03:32,  1.37it/s]"
          ]
        },
        {
          "output_type": "stream",
          "name": "stdout",
          "text": [
            "1/1 [==============================] - 1s 591ms/step\n"
          ]
        },
        {
          "output_type": "stream",
          "name": "stderr",
          "text": [
            "\r 46%|████▌     | 250/541 [11:22<03:33,  1.36it/s]"
          ]
        },
        {
          "output_type": "stream",
          "name": "stdout",
          "text": [
            "1/1 [==============================] - 1s 575ms/step\n"
          ]
        },
        {
          "output_type": "stream",
          "name": "stderr",
          "text": [
            "\r 46%|████▋     | 251/541 [11:23<03:30,  1.38it/s]"
          ]
        },
        {
          "output_type": "stream",
          "name": "stdout",
          "text": [
            "1/1 [==============================] - 1s 568ms/step\n"
          ]
        },
        {
          "output_type": "stream",
          "name": "stderr",
          "text": [
            "\r 47%|████▋     | 252/541 [11:24<03:29,  1.38it/s]"
          ]
        },
        {
          "output_type": "stream",
          "name": "stdout",
          "text": [
            "1/1 [==============================] - 1s 542ms/step\n"
          ]
        },
        {
          "output_type": "stream",
          "name": "stderr",
          "text": [
            "\r 47%|████▋     | 253/541 [11:25<03:24,  1.41it/s]"
          ]
        },
        {
          "output_type": "stream",
          "name": "stdout",
          "text": [
            "1/1 [==============================] - 1s 558ms/step\n"
          ]
        },
        {
          "output_type": "stream",
          "name": "stderr",
          "text": [
            "\r 47%|████▋     | 254/541 [11:25<03:25,  1.40it/s]"
          ]
        },
        {
          "output_type": "stream",
          "name": "stdout",
          "text": [
            "1/1 [==============================] - 1s 549ms/step\n"
          ]
        },
        {
          "output_type": "stream",
          "name": "stderr",
          "text": [
            "\r 47%|████▋     | 255/541 [11:26<03:21,  1.42it/s]"
          ]
        },
        {
          "output_type": "stream",
          "name": "stdout",
          "text": [
            "1/1 [==============================] - 1s 589ms/step\n"
          ]
        },
        {
          "output_type": "stream",
          "name": "stderr",
          "text": [
            "\r 47%|████▋     | 256/541 [11:27<03:25,  1.39it/s]"
          ]
        },
        {
          "output_type": "stream",
          "name": "stdout",
          "text": [
            "1/1 [==============================] - 1s 543ms/step\n"
          ]
        },
        {
          "output_type": "stream",
          "name": "stderr",
          "text": [
            "\r 48%|████▊     | 257/541 [11:27<03:20,  1.42it/s]"
          ]
        },
        {
          "output_type": "stream",
          "name": "stdout",
          "text": [
            "1/1 [==============================] - 1s 556ms/step\n"
          ]
        },
        {
          "output_type": "stream",
          "name": "stderr",
          "text": [
            "\r 48%|████▊     | 258/541 [11:28<03:21,  1.40it/s]"
          ]
        },
        {
          "output_type": "stream",
          "name": "stdout",
          "text": [
            "1/1 [==============================] - 1s 568ms/step\n"
          ]
        },
        {
          "output_type": "stream",
          "name": "stderr",
          "text": [
            "\r 48%|████▊     | 259/541 [11:29<03:20,  1.41it/s]"
          ]
        },
        {
          "output_type": "stream",
          "name": "stdout",
          "text": [
            "1/1 [==============================] - 1s 566ms/step\n"
          ]
        },
        {
          "output_type": "stream",
          "name": "stderr",
          "text": [
            "\r 48%|████▊     | 260/541 [11:30<04:17,  1.09it/s]"
          ]
        },
        {
          "output_type": "stream",
          "name": "stdout",
          "text": [
            "1/1 [==============================] - 1s 601ms/step\n"
          ]
        },
        {
          "output_type": "stream",
          "name": "stderr",
          "text": [
            "\r 48%|████▊     | 261/541 [11:31<04:12,  1.11it/s]"
          ]
        },
        {
          "output_type": "stream",
          "name": "stdout",
          "text": [
            "1/1 [==============================] - 1s 608ms/step\n"
          ]
        },
        {
          "output_type": "stream",
          "name": "stderr",
          "text": [
            "\r 48%|████▊     | 262/541 [11:32<04:13,  1.10it/s]"
          ]
        },
        {
          "output_type": "stream",
          "name": "stdout",
          "text": [
            "1/1 [==============================] - 1s 589ms/step\n"
          ]
        },
        {
          "output_type": "stream",
          "name": "stderr",
          "text": [
            "\r 49%|████▊     | 263/541 [11:33<04:05,  1.13it/s]"
          ]
        },
        {
          "output_type": "stream",
          "name": "stdout",
          "text": [
            "1/1 [==============================] - 1s 613ms/step\n"
          ]
        },
        {
          "output_type": "stream",
          "name": "stderr",
          "text": [
            "\r 49%|████▉     | 264/541 [11:34<04:02,  1.14it/s]"
          ]
        },
        {
          "output_type": "stream",
          "name": "stdout",
          "text": [
            "1/1 [==============================] - 1s 552ms/step\n"
          ]
        },
        {
          "output_type": "stream",
          "name": "stderr",
          "text": [
            "\r 49%|████▉     | 265/541 [11:34<03:54,  1.18it/s]"
          ]
        },
        {
          "output_type": "stream",
          "name": "stdout",
          "text": [
            "1/1 [==============================] - 1s 546ms/step\n"
          ]
        },
        {
          "output_type": "stream",
          "name": "stderr",
          "text": [
            "\r 49%|████▉     | 266/541 [11:35<03:53,  1.18it/s]"
          ]
        },
        {
          "output_type": "stream",
          "name": "stdout",
          "text": [
            "1/1 [==============================] - 1s 609ms/step\n"
          ]
        },
        {
          "output_type": "stream",
          "name": "stderr",
          "text": [
            "\r 49%|████▉     | 267/541 [11:36<03:54,  1.17it/s]"
          ]
        },
        {
          "output_type": "stream",
          "name": "stdout",
          "text": [
            "1/1 [==============================] - 1s 605ms/step\n"
          ]
        },
        {
          "output_type": "stream",
          "name": "stderr",
          "text": [
            "\r 50%|████▉     | 268/541 [11:37<03:55,  1.16it/s]"
          ]
        },
        {
          "output_type": "stream",
          "name": "stdout",
          "text": [
            "1/1 [==============================] - 1s 582ms/step\n"
          ]
        },
        {
          "output_type": "stream",
          "name": "stderr",
          "text": [
            "\r 50%|████▉     | 269/541 [11:38<03:54,  1.16it/s]"
          ]
        },
        {
          "output_type": "stream",
          "name": "stdout",
          "text": [
            "1/1 [==============================] - 1s 579ms/step\n"
          ]
        },
        {
          "output_type": "stream",
          "name": "stderr",
          "text": [
            "\r 50%|████▉     | 270/541 [11:39<03:41,  1.22it/s]"
          ]
        },
        {
          "output_type": "stream",
          "name": "stdout",
          "text": [
            "1/1 [==============================] - 1s 540ms/step\n"
          ]
        },
        {
          "output_type": "stream",
          "name": "stderr",
          "text": [
            "\r 50%|█████     | 271/541 [11:39<03:32,  1.27it/s]"
          ]
        },
        {
          "output_type": "stream",
          "name": "stdout",
          "text": [
            "1/1 [==============================] - 1s 558ms/step\n"
          ]
        },
        {
          "output_type": "stream",
          "name": "stderr",
          "text": [
            "\r 50%|█████     | 272/541 [11:40<03:26,  1.30it/s]"
          ]
        },
        {
          "output_type": "stream",
          "name": "stdout",
          "text": [
            "1/1 [==============================] - 1s 576ms/step\n"
          ]
        },
        {
          "output_type": "stream",
          "name": "stderr",
          "text": [
            "\r 50%|█████     | 273/541 [11:41<03:22,  1.33it/s]"
          ]
        },
        {
          "output_type": "stream",
          "name": "stdout",
          "text": [
            "1/1 [==============================] - 1s 566ms/step\n"
          ]
        },
        {
          "output_type": "stream",
          "name": "stderr",
          "text": [
            "\r 51%|█████     | 274/541 [11:42<03:19,  1.34it/s]"
          ]
        },
        {
          "output_type": "stream",
          "name": "stdout",
          "text": [
            "1/1 [==============================] - 1s 569ms/step\n"
          ]
        },
        {
          "output_type": "stream",
          "name": "stderr",
          "text": [
            "\r 51%|█████     | 275/541 [11:42<03:15,  1.36it/s]"
          ]
        },
        {
          "output_type": "stream",
          "name": "stdout",
          "text": [
            "1/1 [==============================] - 1s 565ms/step\n"
          ]
        },
        {
          "output_type": "stream",
          "name": "stderr",
          "text": [
            "\r 51%|█████     | 276/541 [11:43<03:14,  1.36it/s]"
          ]
        },
        {
          "output_type": "stream",
          "name": "stdout",
          "text": [
            "1/1 [==============================] - 1s 555ms/step\n"
          ]
        },
        {
          "output_type": "stream",
          "name": "stderr",
          "text": [
            "\r 51%|█████     | 277/541 [11:44<03:10,  1.39it/s]"
          ]
        },
        {
          "output_type": "stream",
          "name": "stdout",
          "text": [
            "1/1 [==============================] - 1s 617ms/step\n"
          ]
        },
        {
          "output_type": "stream",
          "name": "stderr",
          "text": [
            "\r 51%|█████▏    | 278/541 [11:44<03:15,  1.35it/s]"
          ]
        },
        {
          "output_type": "stream",
          "name": "stdout",
          "text": [
            "1/1 [==============================] - 1s 581ms/step\n"
          ]
        },
        {
          "output_type": "stream",
          "name": "stderr",
          "text": [
            "\r 52%|█████▏    | 279/541 [11:45<03:13,  1.36it/s]"
          ]
        },
        {
          "output_type": "stream",
          "name": "stdout",
          "text": [
            "1/1 [==============================] - 1s 598ms/step\n"
          ]
        },
        {
          "output_type": "stream",
          "name": "stderr",
          "text": [
            "\r 52%|█████▏    | 280/541 [11:46<03:15,  1.34it/s]"
          ]
        },
        {
          "output_type": "stream",
          "name": "stdout",
          "text": [
            "1/1 [==============================] - 1s 616ms/step\n"
          ]
        },
        {
          "output_type": "stream",
          "name": "stderr",
          "text": [
            "\r 52%|█████▏    | 281/541 [11:47<03:15,  1.33it/s]"
          ]
        },
        {
          "output_type": "stream",
          "name": "stdout",
          "text": [
            "1/1 [==============================] - 1s 582ms/step\n"
          ]
        },
        {
          "output_type": "stream",
          "name": "stderr",
          "text": [
            "\r 52%|█████▏    | 282/541 [11:47<03:15,  1.32it/s]"
          ]
        },
        {
          "output_type": "stream",
          "name": "stdout",
          "text": [
            "1/1 [==============================] - 1s 604ms/step\n"
          ]
        },
        {
          "output_type": "stream",
          "name": "stderr",
          "text": [
            "\r 52%|█████▏    | 283/541 [11:48<03:15,  1.32it/s]"
          ]
        },
        {
          "output_type": "stream",
          "name": "stdout",
          "text": [
            "1/1 [==============================] - 1s 570ms/step\n"
          ]
        },
        {
          "output_type": "stream",
          "name": "stderr",
          "text": [
            "\r 52%|█████▏    | 284/541 [11:49<03:14,  1.32it/s]"
          ]
        },
        {
          "output_type": "stream",
          "name": "stdout",
          "text": [
            "1/1 [==============================] - 1s 561ms/step\n"
          ]
        },
        {
          "output_type": "stream",
          "name": "stderr",
          "text": [
            "\r 53%|█████▎    | 285/541 [11:50<03:09,  1.35it/s]"
          ]
        },
        {
          "output_type": "stream",
          "name": "stdout",
          "text": [
            "1/1 [==============================] - 1s 579ms/step\n"
          ]
        },
        {
          "output_type": "stream",
          "name": "stderr",
          "text": [
            "\r 53%|█████▎    | 286/541 [11:50<03:07,  1.36it/s]"
          ]
        },
        {
          "output_type": "stream",
          "name": "stdout",
          "text": [
            "1/1 [==============================] - 1s 592ms/step\n"
          ]
        },
        {
          "output_type": "stream",
          "name": "stderr",
          "text": [
            "\r 53%|█████▎    | 287/541 [11:51<03:09,  1.34it/s]"
          ]
        },
        {
          "output_type": "stream",
          "name": "stdout",
          "text": [
            "1/1 [==============================] - 1s 546ms/step\n"
          ]
        },
        {
          "output_type": "stream",
          "name": "stderr",
          "text": [
            "\r 53%|█████▎    | 288/541 [11:52<03:04,  1.37it/s]"
          ]
        },
        {
          "output_type": "stream",
          "name": "stdout",
          "text": [
            "1/1 [==============================] - 1s 558ms/step\n"
          ]
        },
        {
          "output_type": "stream",
          "name": "stderr",
          "text": [
            "\r 53%|█████▎    | 289/541 [11:53<03:04,  1.37it/s]"
          ]
        },
        {
          "output_type": "stream",
          "name": "stdout",
          "text": [
            "1/1 [==============================] - 1s 541ms/step\n"
          ]
        },
        {
          "output_type": "stream",
          "name": "stderr",
          "text": [
            "\r 54%|█████▎    | 290/541 [11:54<03:19,  1.26it/s]"
          ]
        },
        {
          "output_type": "stream",
          "name": "stdout",
          "text": [
            "1/1 [==============================] - 1s 603ms/step\n"
          ]
        },
        {
          "output_type": "stream",
          "name": "stderr",
          "text": [
            "\r 54%|█████▍    | 291/541 [11:54<03:21,  1.24it/s]"
          ]
        },
        {
          "output_type": "stream",
          "name": "stdout",
          "text": [
            "1/1 [==============================] - 1s 572ms/step\n"
          ]
        },
        {
          "output_type": "stream",
          "name": "stderr",
          "text": [
            "\r 54%|█████▍    | 292/541 [11:55<03:21,  1.23it/s]"
          ]
        },
        {
          "output_type": "stream",
          "name": "stdout",
          "text": [
            "1/1 [==============================] - 1s 592ms/step\n"
          ]
        },
        {
          "output_type": "stream",
          "name": "stderr",
          "text": [
            "\r 54%|█████▍    | 293/541 [11:56<03:23,  1.22it/s]"
          ]
        },
        {
          "output_type": "stream",
          "name": "stdout",
          "text": [
            "1/1 [==============================] - 1s 605ms/step\n"
          ]
        },
        {
          "output_type": "stream",
          "name": "stderr",
          "text": [
            "\r 54%|█████▍    | 294/541 [11:57<03:15,  1.26it/s]"
          ]
        },
        {
          "output_type": "stream",
          "name": "stdout",
          "text": [
            "1/1 [==============================] - 1s 570ms/step\n"
          ]
        },
        {
          "output_type": "stream",
          "name": "stderr",
          "text": [
            "\r 55%|█████▍    | 295/541 [11:58<03:10,  1.29it/s]"
          ]
        },
        {
          "output_type": "stream",
          "name": "stdout",
          "text": [
            "1/1 [==============================] - 1s 566ms/step\n"
          ]
        },
        {
          "output_type": "stream",
          "name": "stderr",
          "text": [
            "\r 55%|█████▍    | 296/541 [11:58<03:04,  1.33it/s]"
          ]
        },
        {
          "output_type": "stream",
          "name": "stdout",
          "text": [
            "1/1 [==============================] - 1s 566ms/step\n"
          ]
        },
        {
          "output_type": "stream",
          "name": "stderr",
          "text": [
            "\r 55%|█████▍    | 297/541 [11:59<03:02,  1.34it/s]"
          ]
        },
        {
          "output_type": "stream",
          "name": "stdout",
          "text": [
            "1/1 [==============================] - 1s 535ms/step\n"
          ]
        },
        {
          "output_type": "stream",
          "name": "stderr",
          "text": [
            "\r 55%|█████▌    | 298/541 [12:00<02:56,  1.38it/s]"
          ]
        },
        {
          "output_type": "stream",
          "name": "stdout",
          "text": [
            "1/1 [==============================] - 1s 609ms/step\n"
          ]
        },
        {
          "output_type": "stream",
          "name": "stderr",
          "text": [
            "\r 55%|█████▌    | 299/541 [12:00<02:59,  1.35it/s]"
          ]
        },
        {
          "output_type": "stream",
          "name": "stdout",
          "text": [
            "1/1 [==============================] - 1s 584ms/step\n"
          ]
        },
        {
          "output_type": "stream",
          "name": "stderr",
          "text": [
            "\r 55%|█████▌    | 300/541 [12:01<02:56,  1.37it/s]"
          ]
        },
        {
          "output_type": "stream",
          "name": "stdout",
          "text": [
            "1/1 [==============================] - 1s 589ms/step\n"
          ]
        },
        {
          "output_type": "stream",
          "name": "stderr",
          "text": [
            "\r 56%|█████▌    | 301/541 [12:02<02:56,  1.36it/s]"
          ]
        },
        {
          "output_type": "stream",
          "name": "stdout",
          "text": [
            "1/1 [==============================] - 1s 548ms/step\n"
          ]
        },
        {
          "output_type": "stream",
          "name": "stderr",
          "text": [
            "\r 56%|█████▌    | 302/541 [12:03<02:51,  1.40it/s]"
          ]
        },
        {
          "output_type": "stream",
          "name": "stdout",
          "text": [
            "1/1 [==============================] - 1s 610ms/step\n"
          ]
        },
        {
          "output_type": "stream",
          "name": "stderr",
          "text": [
            "\r 56%|█████▌    | 303/541 [12:03<02:54,  1.36it/s]"
          ]
        },
        {
          "output_type": "stream",
          "name": "stdout",
          "text": [
            "1/1 [==============================] - 1s 610ms/step\n"
          ]
        },
        {
          "output_type": "stream",
          "name": "stderr",
          "text": [
            "\r 56%|█████▌    | 304/541 [12:04<02:54,  1.35it/s]"
          ]
        },
        {
          "output_type": "stream",
          "name": "stdout",
          "text": [
            "1/1 [==============================] - 1s 634ms/step\n"
          ]
        },
        {
          "output_type": "stream",
          "name": "stderr",
          "text": [
            "\r 56%|█████▋    | 305/541 [12:05<02:58,  1.32it/s]"
          ]
        },
        {
          "output_type": "stream",
          "name": "stdout",
          "text": [
            "1/1 [==============================] - 1s 598ms/step\n"
          ]
        },
        {
          "output_type": "stream",
          "name": "stderr",
          "text": [
            "\r 57%|█████▋    | 306/541 [12:06<02:55,  1.34it/s]"
          ]
        },
        {
          "output_type": "stream",
          "name": "stdout",
          "text": [
            "1/1 [==============================] - 1s 576ms/step\n"
          ]
        },
        {
          "output_type": "stream",
          "name": "stderr",
          "text": [
            "\r 57%|█████▋    | 307/541 [12:06<02:54,  1.34it/s]"
          ]
        },
        {
          "output_type": "stream",
          "name": "stdout",
          "text": [
            "1/1 [==============================] - 1s 591ms/step\n"
          ]
        },
        {
          "output_type": "stream",
          "name": "stderr",
          "text": [
            "\r 57%|█████▋    | 308/541 [12:07<02:51,  1.36it/s]"
          ]
        },
        {
          "output_type": "stream",
          "name": "stdout",
          "text": [
            "1/1 [==============================] - 1s 557ms/step\n"
          ]
        },
        {
          "output_type": "stream",
          "name": "stderr",
          "text": [
            "\r 57%|█████▋    | 309/541 [12:08<02:48,  1.37it/s]"
          ]
        },
        {
          "output_type": "stream",
          "name": "stdout",
          "text": [
            "1/1 [==============================] - 1s 566ms/step\n"
          ]
        },
        {
          "output_type": "stream",
          "name": "stderr",
          "text": [
            "\r 57%|█████▋    | 310/541 [12:08<02:49,  1.36it/s]"
          ]
        },
        {
          "output_type": "stream",
          "name": "stdout",
          "text": [
            "1/1 [==============================] - 1s 564ms/step\n"
          ]
        },
        {
          "output_type": "stream",
          "name": "stderr",
          "text": [
            "\r 57%|█████▋    | 311/541 [12:09<02:49,  1.36it/s]"
          ]
        },
        {
          "output_type": "stream",
          "name": "stdout",
          "text": [
            "1/1 [==============================] - 1s 556ms/step\n"
          ]
        },
        {
          "output_type": "stream",
          "name": "stderr",
          "text": [
            "\r 58%|█████▊    | 312/541 [12:10<02:49,  1.35it/s]"
          ]
        },
        {
          "output_type": "stream",
          "name": "stdout",
          "text": [
            "1/1 [==============================] - 1s 569ms/step\n"
          ]
        },
        {
          "output_type": "stream",
          "name": "stderr",
          "text": [
            "\r 58%|█████▊    | 313/541 [12:11<02:47,  1.36it/s]"
          ]
        },
        {
          "output_type": "stream",
          "name": "stdout",
          "text": [
            "1/1 [==============================] - 1s 570ms/step\n"
          ]
        },
        {
          "output_type": "stream",
          "name": "stderr",
          "text": [
            "\r 58%|█████▊    | 314/541 [12:11<02:47,  1.35it/s]"
          ]
        },
        {
          "output_type": "stream",
          "name": "stdout",
          "text": [
            "1/1 [==============================] - 1s 597ms/step\n"
          ]
        },
        {
          "output_type": "stream",
          "name": "stderr",
          "text": [
            "\r 58%|█████▊    | 315/541 [12:12<02:47,  1.35it/s]"
          ]
        },
        {
          "output_type": "stream",
          "name": "stdout",
          "text": [
            "1/1 [==============================] - 1s 589ms/step\n"
          ]
        },
        {
          "output_type": "stream",
          "name": "stderr",
          "text": [
            "\r 58%|█████▊    | 316/541 [12:13<02:49,  1.33it/s]"
          ]
        },
        {
          "output_type": "stream",
          "name": "stdout",
          "text": [
            "1/1 [==============================] - 1s 561ms/step\n"
          ]
        },
        {
          "output_type": "stream",
          "name": "stderr",
          "text": [
            "\r 59%|█████▊    | 317/541 [12:14<02:45,  1.35it/s]"
          ]
        },
        {
          "output_type": "stream",
          "name": "stdout",
          "text": [
            "1/1 [==============================] - 1s 586ms/step\n"
          ]
        },
        {
          "output_type": "stream",
          "name": "stderr",
          "text": [
            "\r 59%|█████▉    | 318/541 [12:14<02:46,  1.34it/s]"
          ]
        },
        {
          "output_type": "stream",
          "name": "stdout",
          "text": [
            "1/1 [==============================] - 1s 562ms/step\n"
          ]
        },
        {
          "output_type": "stream",
          "name": "stderr",
          "text": [
            "\r 59%|█████▉    | 319/541 [12:15<02:42,  1.37it/s]"
          ]
        },
        {
          "output_type": "stream",
          "name": "stdout",
          "text": [
            "1/1 [==============================] - 1s 581ms/step\n"
          ]
        },
        {
          "output_type": "stream",
          "name": "stderr",
          "text": [
            "\r 59%|█████▉    | 320/541 [12:16<02:42,  1.36it/s]"
          ]
        },
        {
          "output_type": "stream",
          "name": "stdout",
          "text": [
            "1/1 [==============================] - 1s 569ms/step\n"
          ]
        },
        {
          "output_type": "stream",
          "name": "stderr",
          "text": [
            "\r 59%|█████▉    | 321/541 [12:17<02:39,  1.38it/s]"
          ]
        },
        {
          "output_type": "stream",
          "name": "stdout",
          "text": [
            "1/1 [==============================] - 1s 553ms/step\n"
          ]
        },
        {
          "output_type": "stream",
          "name": "stderr",
          "text": [
            "\r 60%|█████▉    | 322/541 [12:17<02:39,  1.37it/s]"
          ]
        },
        {
          "output_type": "stream",
          "name": "stdout",
          "text": [
            "1/1 [==============================] - 1s 566ms/step\n"
          ]
        },
        {
          "output_type": "stream",
          "name": "stderr",
          "text": [
            "\r 60%|█████▉    | 323/541 [12:18<02:36,  1.39it/s]"
          ]
        },
        {
          "output_type": "stream",
          "name": "stdout",
          "text": [
            "1/1 [==============================] - 1s 556ms/step\n"
          ]
        },
        {
          "output_type": "stream",
          "name": "stderr",
          "text": [
            "\r 60%|█████▉    | 324/541 [12:19<02:33,  1.42it/s]"
          ]
        },
        {
          "output_type": "stream",
          "name": "stdout",
          "text": [
            "1/1 [==============================] - 1s 560ms/step\n"
          ]
        },
        {
          "output_type": "stream",
          "name": "stderr",
          "text": [
            "\r 60%|██████    | 325/541 [12:19<02:33,  1.41it/s]"
          ]
        },
        {
          "output_type": "stream",
          "name": "stdout",
          "text": [
            "1/1 [==============================] - 1s 563ms/step\n"
          ]
        },
        {
          "output_type": "stream",
          "name": "stderr",
          "text": [
            "\r 60%|██████    | 326/541 [12:20<02:31,  1.42it/s]"
          ]
        },
        {
          "output_type": "stream",
          "name": "stdout",
          "text": [
            "1/1 [==============================] - 1s 572ms/step\n"
          ]
        },
        {
          "output_type": "stream",
          "name": "stderr",
          "text": [
            "\r 60%|██████    | 327/541 [12:21<02:33,  1.40it/s]"
          ]
        },
        {
          "output_type": "stream",
          "name": "stdout",
          "text": [
            "1/1 [==============================] - 1s 560ms/step\n"
          ]
        },
        {
          "output_type": "stream",
          "name": "stderr",
          "text": [
            "\r 61%|██████    | 328/541 [12:22<02:30,  1.41it/s]"
          ]
        },
        {
          "output_type": "stream",
          "name": "stdout",
          "text": [
            "1/1 [==============================] - 1s 565ms/step\n"
          ]
        },
        {
          "output_type": "stream",
          "name": "stderr",
          "text": [
            "\r 61%|██████    | 329/541 [12:22<02:31,  1.40it/s]"
          ]
        },
        {
          "output_type": "stream",
          "name": "stdout",
          "text": [
            "1/1 [==============================] - 1s 573ms/step\n"
          ]
        },
        {
          "output_type": "stream",
          "name": "stderr",
          "text": [
            "\r 61%|██████    | 330/541 [12:23<02:30,  1.41it/s]"
          ]
        },
        {
          "output_type": "stream",
          "name": "stdout",
          "text": [
            "1/1 [==============================] - 1s 572ms/step\n"
          ]
        },
        {
          "output_type": "stream",
          "name": "stderr",
          "text": [
            "\r 61%|██████    | 331/541 [12:24<02:30,  1.39it/s]"
          ]
        },
        {
          "output_type": "stream",
          "name": "stdout",
          "text": [
            "1/1 [==============================] - 1s 573ms/step\n"
          ]
        },
        {
          "output_type": "stream",
          "name": "stderr",
          "text": [
            "\r 61%|██████▏   | 332/541 [12:24<02:29,  1.40it/s]"
          ]
        },
        {
          "output_type": "stream",
          "name": "stdout",
          "text": [
            "1/1 [==============================] - 1s 583ms/step\n"
          ]
        },
        {
          "output_type": "stream",
          "name": "stderr",
          "text": [
            "\r 62%|██████▏   | 333/541 [12:25<02:30,  1.38it/s]"
          ]
        },
        {
          "output_type": "stream",
          "name": "stdout",
          "text": [
            "1/1 [==============================] - 1s 561ms/step\n"
          ]
        },
        {
          "output_type": "stream",
          "name": "stderr",
          "text": [
            "\r 62%|██████▏   | 334/541 [12:26<02:27,  1.40it/s]"
          ]
        },
        {
          "output_type": "stream",
          "name": "stdout",
          "text": [
            "1/1 [==============================] - 1s 580ms/step\n"
          ]
        },
        {
          "output_type": "stream",
          "name": "stderr",
          "text": [
            "\r 62%|██████▏   | 335/541 [12:27<02:28,  1.38it/s]"
          ]
        },
        {
          "output_type": "stream",
          "name": "stdout",
          "text": [
            "1/1 [==============================] - 1s 574ms/step\n"
          ]
        },
        {
          "output_type": "stream",
          "name": "stderr",
          "text": [
            "\r 62%|██████▏   | 336/541 [12:27<02:27,  1.39it/s]"
          ]
        },
        {
          "output_type": "stream",
          "name": "stdout",
          "text": [
            "1/1 [==============================] - 1s 566ms/step\n"
          ]
        },
        {
          "output_type": "stream",
          "name": "stderr",
          "text": [
            "\r 62%|██████▏   | 337/541 [12:28<02:25,  1.40it/s]"
          ]
        },
        {
          "output_type": "stream",
          "name": "stdout",
          "text": [
            "1/1 [==============================] - 1s 593ms/step\n"
          ]
        },
        {
          "output_type": "stream",
          "name": "stderr",
          "text": [
            "\r 62%|██████▏   | 338/541 [12:29<02:25,  1.40it/s]"
          ]
        },
        {
          "output_type": "stream",
          "name": "stdout",
          "text": [
            "1/1 [==============================] - 1s 574ms/step\n"
          ]
        },
        {
          "output_type": "stream",
          "name": "stderr",
          "text": [
            "\r 63%|██████▎   | 339/541 [12:29<02:23,  1.41it/s]"
          ]
        },
        {
          "output_type": "stream",
          "name": "stdout",
          "text": [
            "1/1 [==============================] - 1s 567ms/step\n"
          ]
        },
        {
          "output_type": "stream",
          "name": "stderr",
          "text": [
            "\r 63%|██████▎   | 340/541 [12:30<02:24,  1.40it/s]"
          ]
        },
        {
          "output_type": "stream",
          "name": "stdout",
          "text": [
            "1/1 [==============================] - 1s 559ms/step\n"
          ]
        },
        {
          "output_type": "stream",
          "name": "stderr",
          "text": [
            "\r 63%|██████▎   | 341/541 [12:31<02:22,  1.40it/s]"
          ]
        },
        {
          "output_type": "stream",
          "name": "stdout",
          "text": [
            "1/1 [==============================] - 1s 570ms/step\n"
          ]
        },
        {
          "output_type": "stream",
          "name": "stderr",
          "text": [
            "\r 63%|██████▎   | 342/541 [12:32<02:22,  1.39it/s]"
          ]
        },
        {
          "output_type": "stream",
          "name": "stdout",
          "text": [
            "1/1 [==============================] - 1s 559ms/step\n"
          ]
        },
        {
          "output_type": "stream",
          "name": "stderr",
          "text": [
            "\r 63%|██████▎   | 343/541 [12:32<02:20,  1.41it/s]"
          ]
        },
        {
          "output_type": "stream",
          "name": "stdout",
          "text": [
            "1/1 [==============================] - 1s 570ms/step\n"
          ]
        },
        {
          "output_type": "stream",
          "name": "stderr",
          "text": [
            "\r 64%|██████▎   | 344/541 [12:33<02:20,  1.40it/s]"
          ]
        },
        {
          "output_type": "stream",
          "name": "stdout",
          "text": [
            "1/1 [==============================] - 1s 588ms/step\n"
          ]
        },
        {
          "output_type": "stream",
          "name": "stderr",
          "text": [
            "\r 64%|██████▍   | 345/541 [12:34<02:19,  1.40it/s]"
          ]
        },
        {
          "output_type": "stream",
          "name": "stdout",
          "text": [
            "1/1 [==============================] - 1s 597ms/step\n"
          ]
        },
        {
          "output_type": "stream",
          "name": "stderr",
          "text": [
            "\r 64%|██████▍   | 346/541 [12:34<02:21,  1.38it/s]"
          ]
        },
        {
          "output_type": "stream",
          "name": "stdout",
          "text": [
            "1/1 [==============================] - 1s 567ms/step\n"
          ]
        },
        {
          "output_type": "stream",
          "name": "stderr",
          "text": [
            "\r 64%|██████▍   | 347/541 [12:35<02:19,  1.39it/s]"
          ]
        },
        {
          "output_type": "stream",
          "name": "stdout",
          "text": [
            "1/1 [==============================] - 1s 613ms/step\n"
          ]
        },
        {
          "output_type": "stream",
          "name": "stderr",
          "text": [
            "\r 64%|██████▍   | 348/541 [12:36<02:21,  1.36it/s]"
          ]
        },
        {
          "output_type": "stream",
          "name": "stdout",
          "text": [
            "1/1 [==============================] - 1s 614ms/step\n"
          ]
        },
        {
          "output_type": "stream",
          "name": "stderr",
          "text": [
            "\r 65%|██████▍   | 349/541 [12:37<02:21,  1.36it/s]"
          ]
        },
        {
          "output_type": "stream",
          "name": "stdout",
          "text": [
            "1/1 [==============================] - 1s 582ms/step\n"
          ]
        },
        {
          "output_type": "stream",
          "name": "stderr",
          "text": [
            "\r 65%|██████▍   | 350/541 [12:37<02:21,  1.35it/s]"
          ]
        },
        {
          "output_type": "stream",
          "name": "stdout",
          "text": [
            "1/1 [==============================] - 1s 558ms/step\n"
          ]
        },
        {
          "output_type": "stream",
          "name": "stderr",
          "text": [
            "\r 65%|██████▍   | 351/541 [12:38<02:17,  1.38it/s]"
          ]
        },
        {
          "output_type": "stream",
          "name": "stdout",
          "text": [
            "1/1 [==============================] - 1s 565ms/step\n"
          ]
        },
        {
          "output_type": "stream",
          "name": "stderr",
          "text": [
            "\r 65%|██████▌   | 352/541 [12:39<02:18,  1.37it/s]"
          ]
        },
        {
          "output_type": "stream",
          "name": "stdout",
          "text": [
            "1/1 [==============================] - 1s 622ms/step\n"
          ]
        },
        {
          "output_type": "stream",
          "name": "stderr",
          "text": [
            "\r 65%|██████▌   | 353/541 [12:40<02:46,  1.13it/s]"
          ]
        },
        {
          "output_type": "stream",
          "name": "stdout",
          "text": [
            "1/1 [==============================] - 1s 624ms/step\n"
          ]
        },
        {
          "output_type": "stream",
          "name": "stderr",
          "text": [
            "\r 65%|██████▌   | 354/541 [12:41<02:44,  1.13it/s]"
          ]
        },
        {
          "output_type": "stream",
          "name": "stdout",
          "text": [
            "1/1 [==============================] - 1s 604ms/step\n"
          ]
        },
        {
          "output_type": "stream",
          "name": "stderr",
          "text": [
            "\r 66%|██████▌   | 355/541 [12:42<02:46,  1.12it/s]"
          ]
        },
        {
          "output_type": "stream",
          "name": "stdout",
          "text": [
            "1/1 [==============================] - 1s 642ms/step\n"
          ]
        },
        {
          "output_type": "stream",
          "name": "stderr",
          "text": [
            "\r 66%|██████▌   | 356/541 [12:43<02:48,  1.10it/s]"
          ]
        },
        {
          "output_type": "stream",
          "name": "stdout",
          "text": [
            "1/1 [==============================] - 1s 601ms/step\n"
          ]
        },
        {
          "output_type": "stream",
          "name": "stderr",
          "text": [
            "\r 66%|██████▌   | 357/541 [12:44<02:46,  1.11it/s]"
          ]
        },
        {
          "output_type": "stream",
          "name": "stdout",
          "text": [
            "1/1 [==============================] - 1s 599ms/step\n"
          ]
        },
        {
          "output_type": "stream",
          "name": "stderr",
          "text": [
            "\r 66%|██████▌   | 358/541 [12:45<02:42,  1.12it/s]"
          ]
        },
        {
          "output_type": "stream",
          "name": "stdout",
          "text": [
            "1/1 [==============================] - 1s 564ms/step\n"
          ]
        },
        {
          "output_type": "stream",
          "name": "stderr",
          "text": [
            "\r 66%|██████▋   | 359/541 [12:45<02:37,  1.15it/s]"
          ]
        },
        {
          "output_type": "stream",
          "name": "stdout",
          "text": [
            "1/1 [==============================] - 1s 570ms/step\n"
          ]
        },
        {
          "output_type": "stream",
          "name": "stderr",
          "text": [
            "\r 67%|██████▋   | 360/541 [12:46<02:34,  1.17it/s]"
          ]
        },
        {
          "output_type": "stream",
          "name": "stdout",
          "text": [
            "1/1 [==============================] - 1s 614ms/step\n"
          ]
        },
        {
          "output_type": "stream",
          "name": "stderr",
          "text": [
            "\r 67%|██████▋   | 361/541 [12:47<02:30,  1.19it/s]"
          ]
        },
        {
          "output_type": "stream",
          "name": "stdout",
          "text": [
            "1/1 [==============================] - 1s 564ms/step\n"
          ]
        },
        {
          "output_type": "stream",
          "name": "stderr",
          "text": [
            "\r 67%|██████▋   | 362/541 [12:48<02:23,  1.25it/s]"
          ]
        },
        {
          "output_type": "stream",
          "name": "stdout",
          "text": [
            "1/1 [==============================] - 1s 563ms/step\n"
          ]
        },
        {
          "output_type": "stream",
          "name": "stderr",
          "text": [
            "\r 67%|██████▋   | 363/541 [12:48<02:19,  1.28it/s]"
          ]
        },
        {
          "output_type": "stream",
          "name": "stdout",
          "text": [
            "1/1 [==============================] - 1s 570ms/step\n"
          ]
        },
        {
          "output_type": "stream",
          "name": "stderr",
          "text": [
            "\r 67%|██████▋   | 364/541 [12:49<02:14,  1.31it/s]"
          ]
        },
        {
          "output_type": "stream",
          "name": "stdout",
          "text": [
            "1/1 [==============================] - 1s 564ms/step\n"
          ]
        },
        {
          "output_type": "stream",
          "name": "stderr",
          "text": [
            "\r 67%|██████▋   | 365/541 [12:50<02:11,  1.34it/s]"
          ]
        },
        {
          "output_type": "stream",
          "name": "stdout",
          "text": [
            "1/1 [==============================] - 1s 559ms/step\n"
          ]
        },
        {
          "output_type": "stream",
          "name": "stderr",
          "text": [
            "\r 68%|██████▊   | 366/541 [12:51<02:09,  1.35it/s]"
          ]
        },
        {
          "output_type": "stream",
          "name": "stdout",
          "text": [
            "1/1 [==============================] - 1s 575ms/step\n"
          ]
        },
        {
          "output_type": "stream",
          "name": "stderr",
          "text": [
            "\r 68%|██████▊   | 367/541 [12:51<02:07,  1.36it/s]"
          ]
        },
        {
          "output_type": "stream",
          "name": "stdout",
          "text": [
            "1/1 [==============================] - 1s 569ms/step\n"
          ]
        },
        {
          "output_type": "stream",
          "name": "stderr",
          "text": [
            "\r 68%|██████▊   | 368/541 [12:52<02:07,  1.35it/s]"
          ]
        },
        {
          "output_type": "stream",
          "name": "stdout",
          "text": [
            "1/1 [==============================] - 1s 576ms/step\n"
          ]
        },
        {
          "output_type": "stream",
          "name": "stderr",
          "text": [
            "\r 68%|██████▊   | 369/541 [12:53<02:06,  1.36it/s]"
          ]
        },
        {
          "output_type": "stream",
          "name": "stdout",
          "text": [
            "1/1 [==============================] - 1s 571ms/step\n"
          ]
        },
        {
          "output_type": "stream",
          "name": "stderr",
          "text": [
            "\r 68%|██████▊   | 370/541 [12:54<02:07,  1.34it/s]"
          ]
        },
        {
          "output_type": "stream",
          "name": "stdout",
          "text": [
            "1/1 [==============================] - 1s 572ms/step\n"
          ]
        },
        {
          "output_type": "stream",
          "name": "stderr",
          "text": [
            "\r 69%|██████▊   | 371/541 [12:54<02:06,  1.34it/s]"
          ]
        },
        {
          "output_type": "stream",
          "name": "stdout",
          "text": [
            "1/1 [==============================] - 1s 565ms/step\n"
          ]
        },
        {
          "output_type": "stream",
          "name": "stderr",
          "text": [
            "\r 69%|██████▉   | 372/541 [12:55<02:06,  1.33it/s]"
          ]
        },
        {
          "output_type": "stream",
          "name": "stdout",
          "text": [
            "1/1 [==============================] - 1s 571ms/step\n"
          ]
        },
        {
          "output_type": "stream",
          "name": "stderr",
          "text": [
            "\r 69%|██████▉   | 373/541 [12:56<02:03,  1.36it/s]"
          ]
        },
        {
          "output_type": "stream",
          "name": "stdout",
          "text": [
            "1/1 [==============================] - 1s 563ms/step\n"
          ]
        },
        {
          "output_type": "stream",
          "name": "stderr",
          "text": [
            "\r 69%|██████▉   | 374/541 [12:57<02:03,  1.36it/s]"
          ]
        },
        {
          "output_type": "stream",
          "name": "stdout",
          "text": [
            "1/1 [==============================] - 1s 562ms/step\n"
          ]
        },
        {
          "output_type": "stream",
          "name": "stderr",
          "text": [
            "\r 69%|██████▉   | 375/541 [12:57<02:00,  1.38it/s]"
          ]
        },
        {
          "output_type": "stream",
          "name": "stdout",
          "text": [
            "1/1 [==============================] - 1s 572ms/step\n"
          ]
        },
        {
          "output_type": "stream",
          "name": "stderr",
          "text": [
            "\r 70%|██████▉   | 376/541 [12:58<02:00,  1.37it/s]"
          ]
        },
        {
          "output_type": "stream",
          "name": "stdout",
          "text": [
            "1/1 [==============================] - 1s 566ms/step\n"
          ]
        },
        {
          "output_type": "stream",
          "name": "stderr",
          "text": [
            "\r 70%|██████▉   | 377/541 [12:59<02:00,  1.37it/s]"
          ]
        },
        {
          "output_type": "stream",
          "name": "stdout",
          "text": [
            "1/1 [==============================] - 1s 570ms/step\n"
          ]
        },
        {
          "output_type": "stream",
          "name": "stderr",
          "text": [
            "\r 70%|██████▉   | 378/541 [12:59<02:00,  1.36it/s]"
          ]
        },
        {
          "output_type": "stream",
          "name": "stdout",
          "text": [
            "1/1 [==============================] - 1s 567ms/step\n"
          ]
        },
        {
          "output_type": "stream",
          "name": "stderr",
          "text": [
            "\r 70%|███████   | 379/541 [13:00<01:57,  1.38it/s]"
          ]
        },
        {
          "output_type": "stream",
          "name": "stdout",
          "text": [
            "1/1 [==============================] - 1s 565ms/step\n"
          ]
        },
        {
          "output_type": "stream",
          "name": "stderr",
          "text": [
            "\r 70%|███████   | 380/541 [13:01<01:57,  1.37it/s]"
          ]
        },
        {
          "output_type": "stream",
          "name": "stdout",
          "text": [
            "1/1 [==============================] - 1s 584ms/step\n"
          ]
        },
        {
          "output_type": "stream",
          "name": "stderr",
          "text": [
            "\r 70%|███████   | 381/541 [13:02<01:56,  1.37it/s]"
          ]
        },
        {
          "output_type": "stream",
          "name": "stdout",
          "text": [
            "1/1 [==============================] - 1s 557ms/step\n"
          ]
        },
        {
          "output_type": "stream",
          "name": "stderr",
          "text": [
            "\r 71%|███████   | 382/541 [13:02<01:54,  1.38it/s]"
          ]
        },
        {
          "output_type": "stream",
          "name": "stdout",
          "text": [
            "1/1 [==============================] - 1s 562ms/step\n"
          ]
        },
        {
          "output_type": "stream",
          "name": "stderr",
          "text": [
            "\r 71%|███████   | 383/541 [13:03<01:54,  1.38it/s]"
          ]
        },
        {
          "output_type": "stream",
          "name": "stdout",
          "text": [
            "1/1 [==============================] - 1s 572ms/step\n"
          ]
        },
        {
          "output_type": "stream",
          "name": "stderr",
          "text": [
            "\r 71%|███████   | 384/541 [13:04<01:53,  1.38it/s]"
          ]
        },
        {
          "output_type": "stream",
          "name": "stdout",
          "text": [
            "1/1 [==============================] - 1s 597ms/step\n"
          ]
        },
        {
          "output_type": "stream",
          "name": "stderr",
          "text": [
            "\r 71%|███████   | 385/541 [13:05<01:55,  1.35it/s]"
          ]
        },
        {
          "output_type": "stream",
          "name": "stdout",
          "text": [
            "1/1 [==============================] - 1s 535ms/step\n"
          ]
        },
        {
          "output_type": "stream",
          "name": "stderr",
          "text": [
            "\r 71%|███████▏  | 386/541 [13:05<01:51,  1.39it/s]"
          ]
        },
        {
          "output_type": "stream",
          "name": "stdout",
          "text": [
            "1/1 [==============================] - 1s 562ms/step\n"
          ]
        },
        {
          "output_type": "stream",
          "name": "stderr",
          "text": [
            "\r 72%|███████▏  | 387/541 [13:06<01:51,  1.39it/s]"
          ]
        },
        {
          "output_type": "stream",
          "name": "stdout",
          "text": [
            "1/1 [==============================] - 1s 577ms/step\n"
          ]
        },
        {
          "output_type": "stream",
          "name": "stderr",
          "text": [
            "\r 72%|███████▏  | 388/541 [13:07<01:50,  1.39it/s]"
          ]
        },
        {
          "output_type": "stream",
          "name": "stdout",
          "text": [
            "1/1 [==============================] - 1s 543ms/step\n"
          ]
        },
        {
          "output_type": "stream",
          "name": "stderr",
          "text": [
            "\r 72%|███████▏  | 389/541 [13:07<01:49,  1.39it/s]"
          ]
        },
        {
          "output_type": "stream",
          "name": "stdout",
          "text": [
            "1/1 [==============================] - 1s 547ms/step\n"
          ]
        },
        {
          "output_type": "stream",
          "name": "stderr",
          "text": [
            "\r 72%|███████▏  | 390/541 [13:08<01:47,  1.41it/s]"
          ]
        },
        {
          "output_type": "stream",
          "name": "stdout",
          "text": [
            "1/1 [==============================] - 1s 539ms/step\n"
          ]
        },
        {
          "output_type": "stream",
          "name": "stderr",
          "text": [
            "\r 72%|███████▏  | 391/541 [13:09<01:47,  1.39it/s]"
          ]
        },
        {
          "output_type": "stream",
          "name": "stdout",
          "text": [
            "1/1 [==============================] - 1s 550ms/step\n"
          ]
        },
        {
          "output_type": "stream",
          "name": "stderr",
          "text": [
            "\r 72%|███████▏  | 392/541 [13:10<01:46,  1.41it/s]"
          ]
        },
        {
          "output_type": "stream",
          "name": "stdout",
          "text": [
            "1/1 [==============================] - 1s 554ms/step\n"
          ]
        },
        {
          "output_type": "stream",
          "name": "stderr",
          "text": [
            "\r 73%|███████▎  | 393/541 [13:10<01:45,  1.40it/s]"
          ]
        },
        {
          "output_type": "stream",
          "name": "stdout",
          "text": [
            "1/1 [==============================] - 1s 560ms/step\n"
          ]
        },
        {
          "output_type": "stream",
          "name": "stderr",
          "text": [
            "\r 73%|███████▎  | 394/541 [13:11<01:44,  1.41it/s]"
          ]
        },
        {
          "output_type": "stream",
          "name": "stdout",
          "text": [
            "1/1 [==============================] - 1s 549ms/step\n"
          ]
        },
        {
          "output_type": "stream",
          "name": "stderr",
          "text": [
            "\r 73%|███████▎  | 395/541 [13:12<01:44,  1.40it/s]"
          ]
        },
        {
          "output_type": "stream",
          "name": "stdout",
          "text": [
            "1/1 [==============================] - 1s 536ms/step\n"
          ]
        },
        {
          "output_type": "stream",
          "name": "stderr",
          "text": [
            "\r 73%|███████▎  | 396/541 [13:12<01:42,  1.42it/s]"
          ]
        },
        {
          "output_type": "stream",
          "name": "stdout",
          "text": [
            "1/1 [==============================] - 1s 516ms/step\n"
          ]
        },
        {
          "output_type": "stream",
          "name": "stderr",
          "text": [
            "\r 73%|███████▎  | 397/541 [13:13<01:40,  1.43it/s]"
          ]
        },
        {
          "output_type": "stream",
          "name": "stdout",
          "text": [
            "1/1 [==============================] - 1s 555ms/step\n"
          ]
        },
        {
          "output_type": "stream",
          "name": "stderr",
          "text": [
            "\r 74%|███████▎  | 398/541 [13:14<01:40,  1.43it/s]"
          ]
        },
        {
          "output_type": "stream",
          "name": "stdout",
          "text": [
            "1/1 [==============================] - 1s 571ms/step\n"
          ]
        },
        {
          "output_type": "stream",
          "name": "stderr",
          "text": [
            "\r 74%|███████▍  | 399/541 [13:14<01:39,  1.42it/s]"
          ]
        },
        {
          "output_type": "stream",
          "name": "stdout",
          "text": [
            "1/1 [==============================] - 1s 563ms/step\n"
          ]
        },
        {
          "output_type": "stream",
          "name": "stderr",
          "text": [
            "\r 74%|███████▍  | 400/541 [13:15<01:40,  1.40it/s]"
          ]
        },
        {
          "output_type": "stream",
          "name": "stdout",
          "text": [
            "1/1 [==============================] - 1s 542ms/step\n"
          ]
        },
        {
          "output_type": "stream",
          "name": "stderr",
          "text": [
            "\r 74%|███████▍  | 401/541 [13:16<01:38,  1.42it/s]"
          ]
        },
        {
          "output_type": "stream",
          "name": "stdout",
          "text": [
            "1/1 [==============================] - 1s 539ms/step\n"
          ]
        },
        {
          "output_type": "stream",
          "name": "stderr",
          "text": [
            "\r 74%|███████▍  | 402/541 [13:17<01:38,  1.42it/s]"
          ]
        },
        {
          "output_type": "stream",
          "name": "stdout",
          "text": [
            "1/1 [==============================] - 1s 541ms/step\n"
          ]
        },
        {
          "output_type": "stream",
          "name": "stderr",
          "text": [
            "\r 74%|███████▍  | 403/541 [13:17<01:36,  1.44it/s]"
          ]
        },
        {
          "output_type": "stream",
          "name": "stdout",
          "text": [
            "1/1 [==============================] - 1s 553ms/step\n"
          ]
        },
        {
          "output_type": "stream",
          "name": "stderr",
          "text": [
            "\r 75%|███████▍  | 404/541 [13:18<01:36,  1.42it/s]"
          ]
        },
        {
          "output_type": "stream",
          "name": "stdout",
          "text": [
            "1/1 [==============================] - 1s 556ms/step\n"
          ]
        },
        {
          "output_type": "stream",
          "name": "stderr",
          "text": [
            "\r 75%|███████▍  | 405/541 [13:19<01:35,  1.43it/s]"
          ]
        },
        {
          "output_type": "stream",
          "name": "stdout",
          "text": [
            "1/1 [==============================] - 1s 573ms/step\n"
          ]
        },
        {
          "output_type": "stream",
          "name": "stderr",
          "text": [
            "\r 75%|███████▌  | 406/541 [13:19<01:37,  1.39it/s]"
          ]
        },
        {
          "output_type": "stream",
          "name": "stdout",
          "text": [
            "1/1 [==============================] - 1s 568ms/step\n"
          ]
        },
        {
          "output_type": "stream",
          "name": "stderr",
          "text": [
            "\r 75%|███████▌  | 407/541 [13:20<01:36,  1.39it/s]"
          ]
        },
        {
          "output_type": "stream",
          "name": "stdout",
          "text": [
            "1/1 [==============================] - 1s 553ms/step\n"
          ]
        },
        {
          "output_type": "stream",
          "name": "stderr",
          "text": [
            "\r 75%|███████▌  | 408/541 [13:21<01:37,  1.37it/s]"
          ]
        },
        {
          "output_type": "stream",
          "name": "stdout",
          "text": [
            "1/1 [==============================] - 1s 579ms/step\n"
          ]
        },
        {
          "output_type": "stream",
          "name": "stderr",
          "text": [
            "\r 76%|███████▌  | 409/541 [13:22<01:35,  1.38it/s]"
          ]
        },
        {
          "output_type": "stream",
          "name": "stdout",
          "text": [
            "1/1 [==============================] - 1s 574ms/step\n"
          ]
        },
        {
          "output_type": "stream",
          "name": "stderr",
          "text": [
            "\r 76%|███████▌  | 410/541 [13:22<01:35,  1.37it/s]"
          ]
        },
        {
          "output_type": "stream",
          "name": "stdout",
          "text": [
            "1/1 [==============================] - 1s 568ms/step\n"
          ]
        },
        {
          "output_type": "stream",
          "name": "stderr",
          "text": [
            "\r 76%|███████▌  | 411/541 [13:23<01:35,  1.36it/s]"
          ]
        },
        {
          "output_type": "stream",
          "name": "stdout",
          "text": [
            "1/1 [==============================] - 1s 553ms/step\n"
          ]
        },
        {
          "output_type": "stream",
          "name": "stderr",
          "text": [
            "\r 76%|███████▌  | 412/541 [13:24<01:34,  1.37it/s]"
          ]
        },
        {
          "output_type": "stream",
          "name": "stdout",
          "text": [
            "1/1 [==============================] - 1s 631ms/step\n"
          ]
        },
        {
          "output_type": "stream",
          "name": "stderr",
          "text": [
            "\r 76%|███████▋  | 413/541 [13:25<01:35,  1.34it/s]"
          ]
        },
        {
          "output_type": "stream",
          "name": "stdout",
          "text": [
            "1/1 [==============================] - 1s 601ms/step\n"
          ]
        },
        {
          "output_type": "stream",
          "name": "stderr",
          "text": [
            "\r 77%|███████▋  | 414/541 [13:25<01:34,  1.35it/s]"
          ]
        },
        {
          "output_type": "stream",
          "name": "stdout",
          "text": [
            "1/1 [==============================] - 1s 619ms/step\n"
          ]
        },
        {
          "output_type": "stream",
          "name": "stderr",
          "text": [
            "\r 77%|███████▋  | 415/541 [13:26<01:35,  1.32it/s]"
          ]
        },
        {
          "output_type": "stream",
          "name": "stdout",
          "text": [
            "1/1 [==============================] - 1s 566ms/step\n"
          ]
        },
        {
          "output_type": "stream",
          "name": "stderr",
          "text": [
            "\r 77%|███████▋  | 416/541 [13:27<01:32,  1.35it/s]"
          ]
        },
        {
          "output_type": "stream",
          "name": "stdout",
          "text": [
            "1/1 [==============================] - 1s 603ms/step\n"
          ]
        },
        {
          "output_type": "stream",
          "name": "stderr",
          "text": [
            "\r 77%|███████▋  | 417/541 [13:28<01:57,  1.05it/s]"
          ]
        },
        {
          "output_type": "stream",
          "name": "stdout",
          "text": [
            "1/1 [==============================] - 1s 589ms/step\n"
          ]
        },
        {
          "output_type": "stream",
          "name": "stderr",
          "text": [
            "\r 77%|███████▋  | 418/541 [13:29<01:53,  1.08it/s]"
          ]
        },
        {
          "output_type": "stream",
          "name": "stdout",
          "text": [
            "1/1 [==============================] - 1s 587ms/step\n"
          ]
        },
        {
          "output_type": "stream",
          "name": "stderr",
          "text": [
            "\r 77%|███████▋  | 419/541 [13:30<01:50,  1.11it/s]"
          ]
        },
        {
          "output_type": "stream",
          "name": "stdout",
          "text": [
            "1/1 [==============================] - 1s 623ms/step\n"
          ]
        },
        {
          "output_type": "stream",
          "name": "stderr",
          "text": [
            "\r 78%|███████▊  | 420/541 [13:31<01:49,  1.11it/s]"
          ]
        },
        {
          "output_type": "stream",
          "name": "stdout",
          "text": [
            "1/1 [==============================] - 1s 562ms/step\n"
          ]
        },
        {
          "output_type": "stream",
          "name": "stderr",
          "text": [
            "\r 78%|███████▊  | 421/541 [13:32<01:47,  1.12it/s]"
          ]
        },
        {
          "output_type": "stream",
          "name": "stdout",
          "text": [
            "1/1 [==============================] - 1s 571ms/step\n"
          ]
        },
        {
          "output_type": "stream",
          "name": "stderr",
          "text": [
            "\r 78%|███████▊  | 422/541 [13:33<01:45,  1.13it/s]"
          ]
        },
        {
          "output_type": "stream",
          "name": "stdout",
          "text": [
            "1/1 [==============================] - 1s 593ms/step\n"
          ]
        },
        {
          "output_type": "stream",
          "name": "stderr",
          "text": [
            "\r 78%|███████▊  | 423/541 [13:34<01:44,  1.13it/s]"
          ]
        },
        {
          "output_type": "stream",
          "name": "stdout",
          "text": [
            "1/1 [==============================] - 1s 587ms/step\n"
          ]
        },
        {
          "output_type": "stream",
          "name": "stderr",
          "text": [
            "\r 78%|███████▊  | 424/541 [13:34<01:44,  1.12it/s]"
          ]
        },
        {
          "output_type": "stream",
          "name": "stdout",
          "text": [
            "1/1 [==============================] - 1s 613ms/step\n"
          ]
        },
        {
          "output_type": "stream",
          "name": "stderr",
          "text": [
            "\r 79%|███████▊  | 425/541 [13:35<01:44,  1.11it/s]"
          ]
        },
        {
          "output_type": "stream",
          "name": "stdout",
          "text": [
            "1/1 [==============================] - 1s 548ms/step\n"
          ]
        },
        {
          "output_type": "stream",
          "name": "stderr",
          "text": [
            "\r 79%|███████▊  | 426/541 [13:36<01:41,  1.14it/s]"
          ]
        },
        {
          "output_type": "stream",
          "name": "stdout",
          "text": [
            "1/1 [==============================] - 1s 557ms/step\n"
          ]
        },
        {
          "output_type": "stream",
          "name": "stderr",
          "text": [
            "\r 79%|███████▉  | 427/541 [13:37<01:38,  1.15it/s]"
          ]
        },
        {
          "output_type": "stream",
          "name": "stdout",
          "text": [
            "1/1 [==============================] - 1s 543ms/step\n"
          ]
        },
        {
          "output_type": "stream",
          "name": "stderr",
          "text": [
            "\r 79%|███████▉  | 428/541 [13:38<01:35,  1.18it/s]"
          ]
        },
        {
          "output_type": "stream",
          "name": "stdout",
          "text": [
            "1/1 [==============================] - 1s 538ms/step\n"
          ]
        },
        {
          "output_type": "stream",
          "name": "stderr",
          "text": [
            "\r 79%|███████▉  | 429/541 [13:39<01:33,  1.20it/s]"
          ]
        },
        {
          "output_type": "stream",
          "name": "stdout",
          "text": [
            "1/1 [==============================] - 1s 576ms/step\n"
          ]
        },
        {
          "output_type": "stream",
          "name": "stderr",
          "text": [
            "\r 79%|███████▉  | 430/541 [13:39<01:29,  1.24it/s]"
          ]
        },
        {
          "output_type": "stream",
          "name": "stdout",
          "text": [
            "1/1 [==============================] - 1s 534ms/step\n"
          ]
        },
        {
          "output_type": "stream",
          "name": "stderr",
          "text": [
            "\r 80%|███████▉  | 431/541 [13:40<01:24,  1.30it/s]"
          ]
        },
        {
          "output_type": "stream",
          "name": "stdout",
          "text": [
            "1/1 [==============================] - 1s 538ms/step\n"
          ]
        },
        {
          "output_type": "stream",
          "name": "stderr",
          "text": [
            "\r 80%|███████▉  | 432/541 [13:41<01:20,  1.35it/s]"
          ]
        },
        {
          "output_type": "stream",
          "name": "stdout",
          "text": [
            "1/1 [==============================] - 1s 545ms/step\n"
          ]
        },
        {
          "output_type": "stream",
          "name": "stderr",
          "text": [
            "\r 80%|████████  | 433/541 [13:41<01:18,  1.37it/s]"
          ]
        },
        {
          "output_type": "stream",
          "name": "stdout",
          "text": [
            "1/1 [==============================] - 1s 555ms/step\n"
          ]
        },
        {
          "output_type": "stream",
          "name": "stderr",
          "text": [
            "\r 80%|████████  | 434/541 [13:42<01:16,  1.39it/s]"
          ]
        },
        {
          "output_type": "stream",
          "name": "stdout",
          "text": [
            "1/1 [==============================] - 1s 539ms/step\n"
          ]
        },
        {
          "output_type": "stream",
          "name": "stderr",
          "text": [
            "\r 80%|████████  | 435/541 [13:43<01:15,  1.40it/s]"
          ]
        },
        {
          "output_type": "stream",
          "name": "stdout",
          "text": [
            "1/1 [==============================] - 1s 535ms/step\n"
          ]
        },
        {
          "output_type": "stream",
          "name": "stderr",
          "text": [
            "\r 81%|████████  | 436/541 [13:43<01:13,  1.43it/s]"
          ]
        },
        {
          "output_type": "stream",
          "name": "stdout",
          "text": [
            "1/1 [==============================] - 1s 547ms/step\n"
          ]
        },
        {
          "output_type": "stream",
          "name": "stderr",
          "text": [
            "\r 81%|████████  | 437/541 [13:44<01:12,  1.43it/s]"
          ]
        },
        {
          "output_type": "stream",
          "name": "stdout",
          "text": [
            "1/1 [==============================] - 1s 550ms/step\n"
          ]
        },
        {
          "output_type": "stream",
          "name": "stderr",
          "text": [
            "\r 81%|████████  | 438/541 [13:45<01:11,  1.44it/s]"
          ]
        },
        {
          "output_type": "stream",
          "name": "stdout",
          "text": [
            "1/1 [==============================] - 1s 589ms/step\n"
          ]
        },
        {
          "output_type": "stream",
          "name": "stderr",
          "text": [
            "\r 81%|████████  | 439/541 [13:46<01:12,  1.40it/s]"
          ]
        },
        {
          "output_type": "stream",
          "name": "stdout",
          "text": [
            "1/1 [==============================] - 1s 562ms/step\n"
          ]
        },
        {
          "output_type": "stream",
          "name": "stderr",
          "text": [
            "\r 81%|████████▏ | 440/541 [13:46<01:11,  1.40it/s]"
          ]
        },
        {
          "output_type": "stream",
          "name": "stdout",
          "text": [
            "1/1 [==============================] - 1s 548ms/step\n"
          ]
        },
        {
          "output_type": "stream",
          "name": "stderr",
          "text": [
            "\r 82%|████████▏ | 441/541 [13:47<01:12,  1.39it/s]"
          ]
        },
        {
          "output_type": "stream",
          "name": "stdout",
          "text": [
            "1/1 [==============================] - 1s 555ms/step\n"
          ]
        },
        {
          "output_type": "stream",
          "name": "stderr",
          "text": [
            "\r 82%|████████▏ | 442/541 [13:48<01:10,  1.41it/s]"
          ]
        },
        {
          "output_type": "stream",
          "name": "stdout",
          "text": [
            "1/1 [==============================] - 1s 554ms/step\n"
          ]
        },
        {
          "output_type": "stream",
          "name": "stderr",
          "text": [
            "\r 82%|████████▏ | 443/541 [13:48<01:09,  1.40it/s]"
          ]
        },
        {
          "output_type": "stream",
          "name": "stdout",
          "text": [
            "1/1 [==============================] - 1s 562ms/step\n"
          ]
        },
        {
          "output_type": "stream",
          "name": "stderr",
          "text": [
            "\r 82%|████████▏ | 444/541 [13:49<01:09,  1.40it/s]"
          ]
        },
        {
          "output_type": "stream",
          "name": "stdout",
          "text": [
            "1/1 [==============================] - 1s 547ms/step\n"
          ]
        },
        {
          "output_type": "stream",
          "name": "stderr",
          "text": [
            "\r 82%|████████▏ | 445/541 [13:50<01:07,  1.41it/s]"
          ]
        },
        {
          "output_type": "stream",
          "name": "stdout",
          "text": [
            "1/1 [==============================] - 1s 539ms/step\n"
          ]
        },
        {
          "output_type": "stream",
          "name": "stderr",
          "text": [
            "\r 82%|████████▏ | 446/541 [13:51<01:07,  1.41it/s]"
          ]
        },
        {
          "output_type": "stream",
          "name": "stdout",
          "text": [
            "1/1 [==============================] - 1s 546ms/step\n"
          ]
        },
        {
          "output_type": "stream",
          "name": "stderr",
          "text": [
            "\r 83%|████████▎ | 447/541 [13:51<01:05,  1.43it/s]"
          ]
        },
        {
          "output_type": "stream",
          "name": "stdout",
          "text": [
            "1/1 [==============================] - 1s 545ms/step\n"
          ]
        },
        {
          "output_type": "stream",
          "name": "stderr",
          "text": [
            "\r 83%|████████▎ | 448/541 [13:52<01:05,  1.43it/s]"
          ]
        },
        {
          "output_type": "stream",
          "name": "stdout",
          "text": [
            "1/1 [==============================] - 1s 539ms/step\n"
          ]
        },
        {
          "output_type": "stream",
          "name": "stderr",
          "text": [
            "\r 83%|████████▎ | 449/541 [13:53<01:07,  1.37it/s]"
          ]
        },
        {
          "output_type": "stream",
          "name": "stdout",
          "text": [
            "1/1 [==============================] - 1s 566ms/step\n"
          ]
        },
        {
          "output_type": "stream",
          "name": "stderr",
          "text": [
            "\r 83%|████████▎ | 450/541 [13:54<01:09,  1.31it/s]"
          ]
        },
        {
          "output_type": "stream",
          "name": "stdout",
          "text": [
            "1/1 [==============================] - 1s 552ms/step\n"
          ]
        },
        {
          "output_type": "stream",
          "name": "stderr",
          "text": [
            "\r 83%|████████▎ | 451/541 [13:54<01:11,  1.27it/s]"
          ]
        },
        {
          "output_type": "stream",
          "name": "stdout",
          "text": [
            "1/1 [==============================] - 1s 558ms/step\n"
          ]
        },
        {
          "output_type": "stream",
          "name": "stderr",
          "text": [
            "\r 84%|████████▎ | 452/541 [13:55<01:12,  1.23it/s]"
          ]
        },
        {
          "output_type": "stream",
          "name": "stdout",
          "text": [
            "1/1 [==============================] - 1s 557ms/step\n"
          ]
        },
        {
          "output_type": "stream",
          "name": "stderr",
          "text": [
            "\r 84%|████████▎ | 453/541 [13:56<01:12,  1.22it/s]"
          ]
        },
        {
          "output_type": "stream",
          "name": "stdout",
          "text": [
            "1/1 [==============================] - 1s 549ms/step\n"
          ]
        },
        {
          "output_type": "stream",
          "name": "stderr",
          "text": [
            "\r 84%|████████▍ | 454/541 [13:57<01:09,  1.25it/s]"
          ]
        },
        {
          "output_type": "stream",
          "name": "stdout",
          "text": [
            "1/1 [==============================] - 1s 549ms/step\n"
          ]
        },
        {
          "output_type": "stream",
          "name": "stderr",
          "text": [
            "\r 84%|████████▍ | 455/541 [13:58<01:06,  1.28it/s]"
          ]
        },
        {
          "output_type": "stream",
          "name": "stdout",
          "text": [
            "1/1 [==============================] - 1s 543ms/step\n"
          ]
        },
        {
          "output_type": "stream",
          "name": "stderr",
          "text": [
            "\r 84%|████████▍ | 456/541 [13:58<01:03,  1.34it/s]"
          ]
        },
        {
          "output_type": "stream",
          "name": "stdout",
          "text": [
            "1/1 [==============================] - 1s 565ms/step\n"
          ]
        },
        {
          "output_type": "stream",
          "name": "stderr",
          "text": [
            "\r 84%|████████▍ | 457/541 [13:59<01:02,  1.35it/s]"
          ]
        },
        {
          "output_type": "stream",
          "name": "stdout",
          "text": [
            "1/1 [==============================] - 1s 550ms/step\n"
          ]
        },
        {
          "output_type": "stream",
          "name": "stderr",
          "text": [
            "\r 85%|████████▍ | 458/541 [14:00<01:00,  1.38it/s]"
          ]
        },
        {
          "output_type": "stream",
          "name": "stdout",
          "text": [
            "1/1 [==============================] - 1s 596ms/step\n"
          ]
        },
        {
          "output_type": "stream",
          "name": "stderr",
          "text": [
            "\r 85%|████████▍ | 459/541 [14:01<01:00,  1.35it/s]"
          ]
        },
        {
          "output_type": "stream",
          "name": "stdout",
          "text": [
            "1/1 [==============================] - 1s 588ms/step\n"
          ]
        },
        {
          "output_type": "stream",
          "name": "stderr",
          "text": [
            "\r 85%|████████▌ | 460/541 [14:01<00:59,  1.36it/s]"
          ]
        },
        {
          "output_type": "stream",
          "name": "stdout",
          "text": [
            "1/1 [==============================] - 1s 560ms/step\n"
          ]
        },
        {
          "output_type": "stream",
          "name": "stderr",
          "text": [
            "\r 85%|████████▌ | 461/541 [14:02<00:59,  1.35it/s]"
          ]
        },
        {
          "output_type": "stream",
          "name": "stdout",
          "text": [
            "1/1 [==============================] - 1s 552ms/step\n"
          ]
        },
        {
          "output_type": "stream",
          "name": "stderr",
          "text": [
            "\r 85%|████████▌ | 462/541 [14:03<00:57,  1.38it/s]"
          ]
        },
        {
          "output_type": "stream",
          "name": "stdout",
          "text": [
            "1/1 [==============================] - 1s 573ms/step\n"
          ]
        },
        {
          "output_type": "stream",
          "name": "stderr",
          "text": [
            "\r 86%|████████▌ | 463/541 [14:03<00:56,  1.37it/s]"
          ]
        },
        {
          "output_type": "stream",
          "name": "stdout",
          "text": [
            "1/1 [==============================] - 1s 544ms/step\n"
          ]
        },
        {
          "output_type": "stream",
          "name": "stderr",
          "text": [
            "\r 86%|████████▌ | 464/541 [14:04<00:55,  1.40it/s]"
          ]
        },
        {
          "output_type": "stream",
          "name": "stdout",
          "text": [
            "1/1 [==============================] - 1s 584ms/step\n"
          ]
        },
        {
          "output_type": "stream",
          "name": "stderr",
          "text": [
            "\r 86%|████████▌ | 465/541 [14:05<00:55,  1.38it/s]"
          ]
        },
        {
          "output_type": "stream",
          "name": "stdout",
          "text": [
            "1/1 [==============================] - 1s 580ms/step\n"
          ]
        },
        {
          "output_type": "stream",
          "name": "stderr",
          "text": [
            "\r 86%|████████▌ | 466/541 [14:06<00:54,  1.39it/s]"
          ]
        },
        {
          "output_type": "stream",
          "name": "stdout",
          "text": [
            "1/1 [==============================] - 1s 534ms/step\n"
          ]
        },
        {
          "output_type": "stream",
          "name": "stderr",
          "text": [
            "\r 86%|████████▋ | 467/541 [14:06<00:52,  1.42it/s]"
          ]
        },
        {
          "output_type": "stream",
          "name": "stdout",
          "text": [
            "1/1 [==============================] - 1s 557ms/step\n"
          ]
        },
        {
          "output_type": "stream",
          "name": "stderr",
          "text": [
            "\r 87%|████████▋ | 468/541 [14:07<00:51,  1.41it/s]"
          ]
        },
        {
          "output_type": "stream",
          "name": "stdout",
          "text": [
            "1/1 [==============================] - 1s 551ms/step\n"
          ]
        },
        {
          "output_type": "stream",
          "name": "stderr",
          "text": [
            "\r 87%|████████▋ | 469/541 [14:08<00:50,  1.43it/s]"
          ]
        },
        {
          "output_type": "stream",
          "name": "stdout",
          "text": [
            "1/1 [==============================] - 1s 532ms/step\n"
          ]
        },
        {
          "output_type": "stream",
          "name": "stderr",
          "text": [
            "\r 87%|████████▋ | 470/541 [14:08<00:49,  1.42it/s]"
          ]
        },
        {
          "output_type": "stream",
          "name": "stdout",
          "text": [
            "1/1 [==============================] - 1s 545ms/step\n"
          ]
        },
        {
          "output_type": "stream",
          "name": "stderr",
          "text": [
            "\r 87%|████████▋ | 471/541 [14:09<00:48,  1.44it/s]"
          ]
        },
        {
          "output_type": "stream",
          "name": "stdout",
          "text": [
            "1/1 [==============================] - 1s 538ms/step\n"
          ]
        },
        {
          "output_type": "stream",
          "name": "stderr",
          "text": [
            "\r 87%|████████▋ | 472/541 [14:10<00:48,  1.44it/s]"
          ]
        },
        {
          "output_type": "stream",
          "name": "stdout",
          "text": [
            "1/1 [==============================] - 1s 543ms/step\n"
          ]
        },
        {
          "output_type": "stream",
          "name": "stderr",
          "text": [
            "\r 87%|████████▋ | 473/541 [14:10<00:46,  1.45it/s]"
          ]
        },
        {
          "output_type": "stream",
          "name": "stdout",
          "text": [
            "1/1 [==============================] - 1s 543ms/step\n"
          ]
        },
        {
          "output_type": "stream",
          "name": "stderr",
          "text": [
            "\r 88%|████████▊ | 474/541 [14:11<00:46,  1.43it/s]"
          ]
        },
        {
          "output_type": "stream",
          "name": "stdout",
          "text": [
            "1/1 [==============================] - 1s 535ms/step\n"
          ]
        },
        {
          "output_type": "stream",
          "name": "stderr",
          "text": [
            "\r 88%|████████▊ | 475/541 [14:12<00:45,  1.44it/s]"
          ]
        },
        {
          "output_type": "stream",
          "name": "stdout",
          "text": [
            "1/1 [==============================] - 1s 540ms/step\n"
          ]
        },
        {
          "output_type": "stream",
          "name": "stderr",
          "text": [
            "\r 88%|████████▊ | 476/541 [14:13<00:45,  1.43it/s]"
          ]
        },
        {
          "output_type": "stream",
          "name": "stdout",
          "text": [
            "1/1 [==============================] - 1s 540ms/step\n"
          ]
        },
        {
          "output_type": "stream",
          "name": "stderr",
          "text": [
            "\r 88%|████████▊ | 477/541 [14:13<00:44,  1.44it/s]"
          ]
        },
        {
          "output_type": "stream",
          "name": "stdout",
          "text": [
            "1/1 [==============================] - 1s 592ms/step\n"
          ]
        },
        {
          "output_type": "stream",
          "name": "stderr",
          "text": [
            "\r 88%|████████▊ | 478/541 [14:14<00:44,  1.40it/s]"
          ]
        },
        {
          "output_type": "stream",
          "name": "stdout",
          "text": [
            "1/1 [==============================] - 1s 587ms/step\n"
          ]
        },
        {
          "output_type": "stream",
          "name": "stderr",
          "text": [
            "\r 89%|████████▊ | 479/541 [14:15<00:44,  1.40it/s]"
          ]
        },
        {
          "output_type": "stream",
          "name": "stdout",
          "text": [
            "1/1 [==============================] - 1s 572ms/step\n"
          ]
        },
        {
          "output_type": "stream",
          "name": "stderr",
          "text": [
            "\r 89%|████████▊ | 480/541 [14:15<00:44,  1.37it/s]"
          ]
        },
        {
          "output_type": "stream",
          "name": "stdout",
          "text": [
            "1/1 [==============================] - 1s 553ms/step\n"
          ]
        },
        {
          "output_type": "stream",
          "name": "stderr",
          "text": [
            "\r 89%|████████▉ | 481/541 [14:16<00:42,  1.40it/s]"
          ]
        },
        {
          "output_type": "stream",
          "name": "stdout",
          "text": [
            "1/1 [==============================] - 1s 560ms/step\n"
          ]
        },
        {
          "output_type": "stream",
          "name": "stderr",
          "text": [
            "\r 89%|████████▉ | 482/541 [14:17<00:41,  1.42it/s]"
          ]
        },
        {
          "output_type": "stream",
          "name": "stdout",
          "text": [
            "1/1 [==============================] - 1s 570ms/step\n"
          ]
        },
        {
          "output_type": "stream",
          "name": "stderr",
          "text": [
            "\r 89%|████████▉ | 483/541 [14:18<00:41,  1.41it/s]"
          ]
        },
        {
          "output_type": "stream",
          "name": "stdout",
          "text": [
            "1/1 [==============================] - 1s 566ms/step\n"
          ]
        },
        {
          "output_type": "stream",
          "name": "stderr",
          "text": [
            "\r 89%|████████▉ | 484/541 [14:18<00:40,  1.42it/s]"
          ]
        },
        {
          "output_type": "stream",
          "name": "stdout",
          "text": [
            "1/1 [==============================] - 1s 551ms/step\n"
          ]
        },
        {
          "output_type": "stream",
          "name": "stderr",
          "text": [
            "\r 90%|████████▉ | 485/541 [14:19<00:39,  1.42it/s]"
          ]
        },
        {
          "output_type": "stream",
          "name": "stdout",
          "text": [
            "1/1 [==============================] - 1s 578ms/step\n"
          ]
        },
        {
          "output_type": "stream",
          "name": "stderr",
          "text": [
            "\r 90%|████████▉ | 486/541 [14:20<00:38,  1.42it/s]"
          ]
        },
        {
          "output_type": "stream",
          "name": "stdout",
          "text": [
            "1/1 [==============================] - 1s 570ms/step\n"
          ]
        },
        {
          "output_type": "stream",
          "name": "stderr",
          "text": [
            "\r 90%|█████████ | 487/541 [14:20<00:38,  1.40it/s]"
          ]
        },
        {
          "output_type": "stream",
          "name": "stdout",
          "text": [
            "1/1 [==============================] - 1s 578ms/step\n"
          ]
        },
        {
          "output_type": "stream",
          "name": "stderr",
          "text": [
            "\r 90%|█████████ | 488/541 [14:21<00:37,  1.41it/s]"
          ]
        },
        {
          "output_type": "stream",
          "name": "stdout",
          "text": [
            "1/1 [==============================] - 1s 529ms/step\n"
          ]
        },
        {
          "output_type": "stream",
          "name": "stderr",
          "text": [
            "\r 90%|█████████ | 489/541 [14:22<00:36,  1.41it/s]"
          ]
        },
        {
          "output_type": "stream",
          "name": "stdout",
          "text": [
            "1/1 [==============================] - 1s 529ms/step\n"
          ]
        },
        {
          "output_type": "stream",
          "name": "stderr",
          "text": [
            "\r 91%|█████████ | 490/541 [14:22<00:35,  1.44it/s]"
          ]
        },
        {
          "output_type": "stream",
          "name": "stdout",
          "text": [
            "1/1 [==============================] - 1s 551ms/step\n"
          ]
        },
        {
          "output_type": "stream",
          "name": "stderr",
          "text": [
            "\r 91%|█████████ | 491/541 [14:23<00:35,  1.43it/s]"
          ]
        },
        {
          "output_type": "stream",
          "name": "stdout",
          "text": [
            "1/1 [==============================] - 1s 553ms/step\n"
          ]
        },
        {
          "output_type": "stream",
          "name": "stderr",
          "text": [
            "\r 91%|█████████ | 492/541 [14:24<00:33,  1.44it/s]"
          ]
        },
        {
          "output_type": "stream",
          "name": "stdout",
          "text": [
            "1/1 [==============================] - 1s 543ms/step\n"
          ]
        },
        {
          "output_type": "stream",
          "name": "stderr",
          "text": [
            "\r 91%|█████████ | 493/541 [14:25<00:33,  1.44it/s]"
          ]
        },
        {
          "output_type": "stream",
          "name": "stdout",
          "text": [
            "1/1 [==============================] - 1s 541ms/step\n"
          ]
        },
        {
          "output_type": "stream",
          "name": "stderr",
          "text": [
            "\r 91%|█████████▏| 494/541 [14:25<00:32,  1.45it/s]"
          ]
        },
        {
          "output_type": "stream",
          "name": "stdout",
          "text": [
            "1/1 [==============================] - 1s 554ms/step\n"
          ]
        },
        {
          "output_type": "stream",
          "name": "stderr",
          "text": [
            "\r 91%|█████████▏| 495/541 [14:26<00:32,  1.43it/s]"
          ]
        },
        {
          "output_type": "stream",
          "name": "stdout",
          "text": [
            "1/1 [==============================] - 1s 558ms/step\n"
          ]
        },
        {
          "output_type": "stream",
          "name": "stderr",
          "text": [
            "\r 92%|█████████▏| 496/541 [14:27<00:31,  1.44it/s]"
          ]
        },
        {
          "output_type": "stream",
          "name": "stdout",
          "text": [
            "1/1 [==============================] - 1s 590ms/step\n"
          ]
        },
        {
          "output_type": "stream",
          "name": "stderr",
          "text": [
            "\r 92%|█████████▏| 497/541 [14:27<00:31,  1.40it/s]"
          ]
        },
        {
          "output_type": "stream",
          "name": "stdout",
          "text": [
            "1/1 [==============================] - 1s 583ms/step\n"
          ]
        },
        {
          "output_type": "stream",
          "name": "stderr",
          "text": [
            "\r 92%|█████████▏| 498/541 [14:28<00:30,  1.40it/s]"
          ]
        },
        {
          "output_type": "stream",
          "name": "stdout",
          "text": [
            "1/1 [==============================] - 1s 568ms/step\n"
          ]
        },
        {
          "output_type": "stream",
          "name": "stderr",
          "text": [
            "\r 92%|█████████▏| 499/541 [14:29<00:29,  1.42it/s]"
          ]
        },
        {
          "output_type": "stream",
          "name": "stdout",
          "text": [
            "1/1 [==============================] - 1s 568ms/step\n"
          ]
        },
        {
          "output_type": "stream",
          "name": "stderr",
          "text": [
            "\r 92%|█████████▏| 500/541 [14:29<00:28,  1.42it/s]"
          ]
        },
        {
          "output_type": "stream",
          "name": "stdout",
          "text": [
            "1/1 [==============================] - 1s 565ms/step\n"
          ]
        },
        {
          "output_type": "stream",
          "name": "stderr",
          "text": [
            "\r 93%|█████████▎| 501/541 [14:30<00:28,  1.42it/s]"
          ]
        },
        {
          "output_type": "stream",
          "name": "stdout",
          "text": [
            "1/1 [==============================] - 1s 555ms/step\n"
          ]
        },
        {
          "output_type": "stream",
          "name": "stderr",
          "text": [
            "\r 93%|█████████▎| 502/541 [14:31<00:27,  1.41it/s]"
          ]
        },
        {
          "output_type": "stream",
          "name": "stdout",
          "text": [
            "1/1 [==============================] - 1s 562ms/step\n"
          ]
        },
        {
          "output_type": "stream",
          "name": "stderr",
          "text": [
            "\r 93%|█████████▎| 503/541 [14:32<00:26,  1.42it/s]"
          ]
        },
        {
          "output_type": "stream",
          "name": "stdout",
          "text": [
            "1/1 [==============================] - 1s 546ms/step\n"
          ]
        },
        {
          "output_type": "stream",
          "name": "stderr",
          "text": [
            "\r 93%|█████████▎| 504/541 [14:32<00:26,  1.42it/s]"
          ]
        },
        {
          "output_type": "stream",
          "name": "stdout",
          "text": [
            "1/1 [==============================] - 1s 564ms/step\n"
          ]
        },
        {
          "output_type": "stream",
          "name": "stderr",
          "text": [
            "\r 93%|█████████▎| 505/541 [14:33<00:25,  1.41it/s]"
          ]
        },
        {
          "output_type": "stream",
          "name": "stdout",
          "text": [
            "1/1 [==============================] - 1s 567ms/step\n"
          ]
        },
        {
          "output_type": "stream",
          "name": "stderr",
          "text": [
            "\r 94%|█████████▎| 506/541 [14:34<00:25,  1.39it/s]"
          ]
        },
        {
          "output_type": "stream",
          "name": "stdout",
          "text": [
            "1/1 [==============================] - 1s 549ms/step\n"
          ]
        },
        {
          "output_type": "stream",
          "name": "stderr",
          "text": [
            "\r 94%|█████████▎| 507/541 [14:34<00:24,  1.41it/s]"
          ]
        },
        {
          "output_type": "stream",
          "name": "stdout",
          "text": [
            "1/1 [==============================] - 1s 562ms/step\n"
          ]
        },
        {
          "output_type": "stream",
          "name": "stderr",
          "text": [
            "\r 94%|█████████▍| 508/541 [14:35<00:23,  1.40it/s]"
          ]
        },
        {
          "output_type": "stream",
          "name": "stdout",
          "text": [
            "1/1 [==============================] - 1s 575ms/step\n"
          ]
        },
        {
          "output_type": "stream",
          "name": "stderr",
          "text": [
            "\r 94%|█████████▍| 509/541 [14:36<00:22,  1.40it/s]"
          ]
        },
        {
          "output_type": "stream",
          "name": "stdout",
          "text": [
            "1/1 [==============================] - 1s 547ms/step\n"
          ]
        },
        {
          "output_type": "stream",
          "name": "stderr",
          "text": [
            "\r 94%|█████████▍| 510/541 [14:37<00:22,  1.38it/s]"
          ]
        },
        {
          "output_type": "stream",
          "name": "stdout",
          "text": [
            "1/1 [==============================] - 1s 551ms/step\n"
          ]
        },
        {
          "output_type": "stream",
          "name": "stderr",
          "text": [
            "\r 94%|█████████▍| 511/541 [14:37<00:21,  1.41it/s]"
          ]
        },
        {
          "output_type": "stream",
          "name": "stdout",
          "text": [
            "1/1 [==============================] - 1s 543ms/step\n"
          ]
        },
        {
          "output_type": "stream",
          "name": "stderr",
          "text": [
            "\r 95%|█████████▍| 512/541 [14:38<00:20,  1.42it/s]"
          ]
        },
        {
          "output_type": "stream",
          "name": "stdout",
          "text": [
            "1/1 [==============================] - 1s 569ms/step\n"
          ]
        },
        {
          "output_type": "stream",
          "name": "stderr",
          "text": [
            "\r 95%|█████████▍| 513/541 [14:39<00:19,  1.42it/s]"
          ]
        },
        {
          "output_type": "stream",
          "name": "stdout",
          "text": [
            "1/1 [==============================] - 1s 556ms/step\n"
          ]
        },
        {
          "output_type": "stream",
          "name": "stderr",
          "text": [
            "\r 95%|█████████▌| 514/541 [14:40<00:20,  1.29it/s]"
          ]
        },
        {
          "output_type": "stream",
          "name": "stdout",
          "text": [
            "1/1 [==============================] - 1s 560ms/step\n"
          ]
        },
        {
          "output_type": "stream",
          "name": "stderr",
          "text": [
            "\r 95%|█████████▌| 515/541 [14:41<00:20,  1.24it/s]"
          ]
        },
        {
          "output_type": "stream",
          "name": "stdout",
          "text": [
            "1/1 [==============================] - 1s 590ms/step\n"
          ]
        },
        {
          "output_type": "stream",
          "name": "stderr",
          "text": [
            "\r 95%|█████████▌| 516/541 [14:41<00:20,  1.21it/s]"
          ]
        },
        {
          "output_type": "stream",
          "name": "stdout",
          "text": [
            "1/1 [==============================] - 1s 587ms/step\n"
          ]
        },
        {
          "output_type": "stream",
          "name": "stderr",
          "text": [
            "\r 96%|█████████▌| 517/541 [14:42<00:19,  1.20it/s]"
          ]
        },
        {
          "output_type": "stream",
          "name": "stdout",
          "text": [
            "1/1 [==============================] - 1s 583ms/step\n"
          ]
        },
        {
          "output_type": "stream",
          "name": "stderr",
          "text": [
            "\r 96%|█████████▌| 518/541 [14:43<00:19,  1.18it/s]"
          ]
        },
        {
          "output_type": "stream",
          "name": "stdout",
          "text": [
            "1/1 [==============================] - 1s 584ms/step\n"
          ]
        },
        {
          "output_type": "stream",
          "name": "stderr",
          "text": [
            "\r 96%|█████████▌| 519/541 [14:44<00:18,  1.17it/s]"
          ]
        },
        {
          "output_type": "stream",
          "name": "stdout",
          "text": [
            "1/1 [==============================] - 1s 569ms/step\n"
          ]
        },
        {
          "output_type": "stream",
          "name": "stderr",
          "text": [
            "\r 96%|█████████▌| 520/541 [14:45<00:18,  1.14it/s]"
          ]
        },
        {
          "output_type": "stream",
          "name": "stdout",
          "text": [
            "1/1 [==============================] - 1s 608ms/step\n"
          ]
        },
        {
          "output_type": "stream",
          "name": "stderr",
          "text": [
            "\r 96%|█████████▋| 521/541 [14:46<00:17,  1.14it/s]"
          ]
        },
        {
          "output_type": "stream",
          "name": "stdout",
          "text": [
            "1/1 [==============================] - 1s 558ms/step\n"
          ]
        },
        {
          "output_type": "stream",
          "name": "stderr",
          "text": [
            "\r 96%|█████████▋| 522/541 [14:47<00:16,  1.17it/s]"
          ]
        },
        {
          "output_type": "stream",
          "name": "stdout",
          "text": [
            "1/1 [==============================] - 1s 554ms/step\n"
          ]
        },
        {
          "output_type": "stream",
          "name": "stderr",
          "text": [
            "\r 97%|█████████▋| 523/541 [14:47<00:15,  1.19it/s]"
          ]
        },
        {
          "output_type": "stream",
          "name": "stdout",
          "text": [
            "1/1 [==============================] - 1s 548ms/step\n"
          ]
        },
        {
          "output_type": "stream",
          "name": "stderr",
          "text": [
            "\r 97%|█████████▋| 524/541 [14:48<00:13,  1.25it/s]"
          ]
        },
        {
          "output_type": "stream",
          "name": "stdout",
          "text": [
            "1/1 [==============================] - 1s 544ms/step\n"
          ]
        },
        {
          "output_type": "stream",
          "name": "stderr",
          "text": [
            "\r 97%|█████████▋| 525/541 [14:49<00:12,  1.31it/s]"
          ]
        },
        {
          "output_type": "stream",
          "name": "stdout",
          "text": [
            "1/1 [==============================] - 1s 552ms/step\n"
          ]
        },
        {
          "output_type": "stream",
          "name": "stderr",
          "text": [
            "\r 97%|█████████▋| 526/541 [14:50<00:11,  1.33it/s]"
          ]
        },
        {
          "output_type": "stream",
          "name": "stdout",
          "text": [
            "1/1 [==============================] - 1s 570ms/step\n"
          ]
        },
        {
          "output_type": "stream",
          "name": "stderr",
          "text": [
            "\r 97%|█████████▋| 527/541 [14:50<00:10,  1.36it/s]"
          ]
        },
        {
          "output_type": "stream",
          "name": "stdout",
          "text": [
            "1/1 [==============================] - 1s 569ms/step\n"
          ]
        },
        {
          "output_type": "stream",
          "name": "stderr",
          "text": [
            "\r 98%|█████████▊| 528/541 [14:51<00:09,  1.38it/s]"
          ]
        },
        {
          "output_type": "stream",
          "name": "stdout",
          "text": [
            "1/1 [==============================] - 1s 554ms/step\n"
          ]
        },
        {
          "output_type": "stream",
          "name": "stderr",
          "text": [
            "\r 98%|█████████▊| 529/541 [14:52<00:08,  1.38it/s]"
          ]
        },
        {
          "output_type": "stream",
          "name": "stdout",
          "text": [
            "1/1 [==============================] - 1s 544ms/step\n"
          ]
        },
        {
          "output_type": "stream",
          "name": "stderr",
          "text": [
            "\r 98%|█████████▊| 530/541 [14:52<00:07,  1.40it/s]"
          ]
        },
        {
          "output_type": "stream",
          "name": "stdout",
          "text": [
            "1/1 [==============================] - 1s 540ms/step\n"
          ]
        },
        {
          "output_type": "stream",
          "name": "stderr",
          "text": [
            "\r 98%|█████████▊| 531/541 [14:53<00:07,  1.40it/s]"
          ]
        },
        {
          "output_type": "stream",
          "name": "stdout",
          "text": [
            "1/1 [==============================] - 1s 554ms/step\n"
          ]
        },
        {
          "output_type": "stream",
          "name": "stderr",
          "text": [
            "\r 98%|█████████▊| 532/541 [14:54<00:06,  1.42it/s]"
          ]
        },
        {
          "output_type": "stream",
          "name": "stdout",
          "text": [
            "1/1 [==============================] - 1s 561ms/step\n"
          ]
        },
        {
          "output_type": "stream",
          "name": "stderr",
          "text": [
            "\r 99%|█████████▊| 533/541 [14:54<00:05,  1.39it/s]"
          ]
        },
        {
          "output_type": "stream",
          "name": "stdout",
          "text": [
            "1/1 [==============================] - 1s 561ms/step\n"
          ]
        },
        {
          "output_type": "stream",
          "name": "stderr",
          "text": [
            "\r 99%|█████████▊| 534/541 [14:55<00:05,  1.38it/s]"
          ]
        },
        {
          "output_type": "stream",
          "name": "stdout",
          "text": [
            "1/1 [==============================] - 1s 564ms/step\n"
          ]
        },
        {
          "output_type": "stream",
          "name": "stderr",
          "text": [
            "\r 99%|█████████▉| 535/541 [14:56<00:04,  1.37it/s]"
          ]
        },
        {
          "output_type": "stream",
          "name": "stdout",
          "text": [
            "1/1 [==============================] - 1s 560ms/step\n"
          ]
        },
        {
          "output_type": "stream",
          "name": "stderr",
          "text": [
            "\r 99%|█████████▉| 536/541 [14:57<00:03,  1.38it/s]"
          ]
        },
        {
          "output_type": "stream",
          "name": "stdout",
          "text": [
            "1/1 [==============================] - 1s 569ms/step\n"
          ]
        },
        {
          "output_type": "stream",
          "name": "stderr",
          "text": [
            "\r 99%|█████████▉| 537/541 [14:57<00:02,  1.37it/s]"
          ]
        },
        {
          "output_type": "stream",
          "name": "stdout",
          "text": [
            "1/1 [==============================] - 1s 567ms/step\n"
          ]
        },
        {
          "output_type": "stream",
          "name": "stderr",
          "text": [
            "\r 99%|█████████▉| 538/541 [14:58<00:02,  1.38it/s]"
          ]
        },
        {
          "output_type": "stream",
          "name": "stdout",
          "text": [
            "1/1 [==============================] - 1s 569ms/step\n"
          ]
        },
        {
          "output_type": "stream",
          "name": "stderr",
          "text": [
            "\r100%|█████████▉| 539/541 [14:59<00:01,  1.37it/s]"
          ]
        },
        {
          "output_type": "stream",
          "name": "stdout",
          "text": [
            "1/1 [==============================] - 1s 553ms/step\n"
          ]
        },
        {
          "output_type": "stream",
          "name": "stderr",
          "text": [
            "\r100%|█████████▉| 540/541 [15:00<00:00,  1.38it/s]"
          ]
        },
        {
          "output_type": "stream",
          "name": "stdout",
          "text": [
            "1/1 [==============================] - 1s 1s/step\n"
          ]
        },
        {
          "output_type": "stream",
          "name": "stderr",
          "text": [
            "100%|██████████| 541/541 [15:01<00:00,  1.67s/it]\n"
          ]
        },
        {
          "output_type": "error",
          "ename": "OSError",
          "evalue": "[Errno 95] Operation not supported: 'embeddings.pkl'",
          "traceback": [
            "\u001b[0;31m---------------------------------------------------------------------------\u001b[0m",
            "\u001b[0;31mOSError\u001b[0m                                   Traceback (most recent call last)",
            "\u001b[0;32m<ipython-input-5-aacbc9461ac6>\u001b[0m in \u001b[0;36m<cell line: 80>\u001b[0;34m()\u001b[0m\n\u001b[1;32m     78\u001b[0m \u001b[0;34m\u001b[0m\u001b[0m\n\u001b[1;32m     79\u001b[0m \u001b[0;31m# Save features and filenames\u001b[0m\u001b[0;34m\u001b[0m\u001b[0;34m\u001b[0m\u001b[0m\n\u001b[0;32m---> 80\u001b[0;31m \u001b[0;32mwith\u001b[0m \u001b[0mopen\u001b[0m\u001b[0;34m(\u001b[0m\u001b[0;34m'embeddings.pkl'\u001b[0m\u001b[0;34m,\u001b[0m \u001b[0;34m'wb'\u001b[0m\u001b[0;34m)\u001b[0m \u001b[0;32mas\u001b[0m \u001b[0mf\u001b[0m\u001b[0;34m:\u001b[0m\u001b[0;34m\u001b[0m\u001b[0;34m\u001b[0m\u001b[0m\n\u001b[0m\u001b[1;32m     81\u001b[0m     \u001b[0mpickle\u001b[0m\u001b[0;34m.\u001b[0m\u001b[0mdump\u001b[0m\u001b[0;34m(\u001b[0m\u001b[0mfeature_list\u001b[0m\u001b[0;34m,\u001b[0m \u001b[0mf\u001b[0m\u001b[0;34m)\u001b[0m\u001b[0;34m\u001b[0m\u001b[0;34m\u001b[0m\u001b[0m\n\u001b[1;32m     82\u001b[0m \u001b[0;34m\u001b[0m\u001b[0m\n",
            "\u001b[0;31mOSError\u001b[0m: [Errno 95] Operation not supported: 'embeddings.pkl'"
          ]
        }
      ],
      "source": [
        "import os\n",
        "import numpy as np\n",
        "import tensorflow as tf\n",
        "from tensorflow.keras.preprocessing.image import load_img, img_to_array\n",
        "from tensorflow.keras.applications.resnet50 import ResNet50, preprocess_input\n",
        "from tensorflow.keras.layers import GlobalMaxPooling2D, Dense, Dropout, Input\n",
        "from tensorflow.keras.models import Model\n",
        "import pickle\n",
        "from tqdm import tqdm\n",
        "\n",
        "# Define the input shape\n",
        "input_shape = (224, 224, 3)\n",
        "\n",
        "# Load the base model with pre-trained weights\n",
        "base_model = ResNet50(weights='imagenet', include_top=False, input_shape=input_shape)\n",
        "\n",
        "# Freeze all layers except the last 10 layers\n",
        "for layer in base_model.layers[:-10]:\n",
        "    layer.trainable = False\n",
        "\n",
        "# Build the model using the Functional API\n",
        "inputs = Input(shape=input_shape)\n",
        "x = base_model(inputs, training=False)  # Pass inputs through the base model\n",
        "x = GlobalMaxPooling2D()(x)  # Apply pooling\n",
        "x = Dense(512, activation='relu')(x)  # Add a Dense layer\n",
        "x = Dropout(0.5)(x)  # Add Dropout\n",
        "\n",
        "# Define the output layer (if you need a specific output layer, adjust here)\n",
        "outputs = Dense(10, activation='softmax')(x)  # Example for classification\n",
        "\n",
        "# Create the model\n",
        "model = Model(inputs, outputs)\n",
        "\n",
        "# Summary of the model\n",
        "model.summary()\n",
        "\n",
        "# Image directory and batch size\n",
        "image_directory = 'images'  # Replace with your image directory\n",
        "batch_size = 32\n",
        "\n",
        "# Custom image generator without augmentation for feature extraction\n",
        "def custom_image_generator(directory, batch_size=32, target_size=(224, 224)):\n",
        "    files = [os.path.join(directory, f) for f in os.listdir(directory) if os.path.isfile(os.path.join(directory, f))]\n",
        "    num_files = len(files)\n",
        "\n",
        "    while True:\n",
        "        for offset in range(0, num_files, batch_size):\n",
        "            batch_files = files[offset:offset + batch_size]\n",
        "            batch_images = []\n",
        "\n",
        "            for file in batch_files:\n",
        "                img = load_img(file, target_size=target_size)\n",
        "                img_array = img_to_array(img)\n",
        "                img_array = preprocess_input(img_array)\n",
        "                batch_images.append(img_array)\n",
        "\n",
        "            batch_images = np.array(batch_images)\n",
        "            yield batch_images, batch_files\n",
        "\n",
        "# Generator initialization\n",
        "generator = custom_image_generator(image_directory, batch_size=batch_size)\n",
        "\n",
        "# Calculate number of batches\n",
        "num_images = len([name for name in os.listdir(image_directory) if os.path.isfile(os.path.join(image_directory, name))])\n",
        "num_batches = np.ceil(num_images / batch_size)\n",
        "\n",
        "# Initialize lists to store features and filenames\n",
        "feature_list = []\n",
        "filenames = []\n",
        "\n",
        "# Extract features in batches\n",
        "for _ in tqdm(range(int(num_batches))):\n",
        "    batch_images, batch_files = next(generator)\n",
        "    batch_features = model.predict(batch_images)\n",
        "    batch_features = [feature.flatten() for feature in batch_features]  # Flatten features\n",
        "    feature_list.extend(batch_features)\n",
        "    filenames.extend(batch_files)\n",
        "\n",
        "# Save features and filenames\n",
        "with open('embeddings.pkl', 'wb') as f:\n",
        "    pickle.dump(feature_list, f)\n",
        "\n",
        "with open('filenames.pkl', 'wb') as f:\n",
        "    pickle.dump(filenames, f)\n"
      ]
    },
    {
      "cell_type": "code",
      "source": [
        "# Create the output directory if it doesn't exist\n",
        "output_directory = 'output'  # Choose an appropriate directory\n",
        "if not os.path.exists(output_directory):\n",
        "    os.makedirs(output_directory)\n",
        "\n",
        "# Save features and filenames in the output directory\n",
        "with open(os.path.join(output_directory, 'embeddings.pkl'), 'wb') as f:\n",
        "    pickle.dump(feature_list, f)\n",
        "\n",
        "with open(os.path.join(output_directory, 'filenames.pkl'), 'wb') as f:\n",
        "    pickle.dump(filenames, f)"
      ],
      "metadata": {
        "id": "QumQFMmWfbj6"
      },
      "execution_count": null,
      "outputs": []
    },
    {
      "cell_type": "code",
      "execution_count": null,
      "metadata": {
        "id": "C0czFwdg3fQ0",
        "colab": {
          "base_uri": "https://localhost:8080/",
          "height": 803
        },
        "outputId": "f75f2009-6f88-4add-bd3b-42c29d31fe73"
      },
      "outputs": [
        {
          "output_type": "stream",
          "name": "stdout",
          "text": [
            "Collecting flask\n",
            "  Using cached flask-3.0.3-py3-none-any.whl.metadata (3.2 kB)\n",
            "Collecting flask-cors\n",
            "  Using cached Flask_Cors-4.0.1-py2.py3-none-any.whl.metadata (5.5 kB)\n",
            "Requirement already satisfied: pyngrok in /usr/local/lib/python3.10/dist-packages (7.2.0)\n",
            "Requirement already satisfied: Werkzeug>=3.0.0 in /usr/local/lib/python3.10/dist-packages (from flask) (3.0.3)\n",
            "Requirement already satisfied: Jinja2>=3.1.2 in /usr/local/lib/python3.10/dist-packages (from flask) (3.1.4)\n",
            "Requirement already satisfied: itsdangerous>=2.1.2 in /usr/local/lib/python3.10/dist-packages (from flask) (2.2.0)\n",
            "Requirement already satisfied: click>=8.1.3 in /usr/local/lib/python3.10/dist-packages (from flask) (8.1.7)\n",
            "Collecting blinker>=1.6.2 (from flask)\n",
            "  Using cached blinker-1.8.2-py3-none-any.whl.metadata (1.6 kB)\n",
            "Requirement already satisfied: PyYAML>=5.1 in /usr/local/lib/python3.10/dist-packages (from pyngrok) (6.0.2)\n",
            "Requirement already satisfied: MarkupSafe>=2.0 in /usr/local/lib/python3.10/dist-packages (from Jinja2>=3.1.2->flask) (2.1.5)\n",
            "Using cached flask-3.0.3-py3-none-any.whl (101 kB)\n",
            "Using cached Flask_Cors-4.0.1-py2.py3-none-any.whl (14 kB)\n",
            "Using cached blinker-1.8.2-py3-none-any.whl (9.5 kB)\n",
            "Installing collected packages: blinker, flask, flask-cors\n",
            "  Attempting uninstall: blinker\n",
            "    Found existing installation: blinker 1.4\n",
            "\u001b[1;31merror\u001b[0m: \u001b[1muninstall-distutils-installed-package\u001b[0m\n",
            "\n",
            "\u001b[31m×\u001b[0m Cannot uninstall blinker 1.4\n",
            "\u001b[31m╰─>\u001b[0m It is a distutils installed project and thus we cannot accurately determine which files belong to it which would lead to only a partial uninstall.\n"
          ]
        },
        {
          "output_type": "error",
          "ename": "ModuleNotFoundError",
          "evalue": "No module named 'flask'",
          "traceback": [
            "\u001b[0;31m---------------------------------------------------------------------------\u001b[0m",
            "\u001b[0;31mModuleNotFoundError\u001b[0m                       Traceback (most recent call last)",
            "\u001b[0;32m<ipython-input-18-e45b935f4fea>\u001b[0m in \u001b[0;36m<cell line: 3>\u001b[0;34m()\u001b[0m\n\u001b[1;32m      1\u001b[0m \u001b[0mget_ipython\u001b[0m\u001b[0;34m(\u001b[0m\u001b[0;34m)\u001b[0m\u001b[0;34m.\u001b[0m\u001b[0msystem\u001b[0m\u001b[0;34m(\u001b[0m\u001b[0;34m'pip install flask flask-cors pyngrok'\u001b[0m\u001b[0;34m)\u001b[0m\u001b[0;34m\u001b[0m\u001b[0;34m\u001b[0m\u001b[0m\n\u001b[1;32m      2\u001b[0m \u001b[0;34m\u001b[0m\u001b[0m\n\u001b[0;32m----> 3\u001b[0;31m \u001b[0;32mfrom\u001b[0m \u001b[0mflask\u001b[0m \u001b[0;32mimport\u001b[0m \u001b[0mFlask\u001b[0m\u001b[0;34m,\u001b[0m \u001b[0mrequest\u001b[0m\u001b[0;34m,\u001b[0m \u001b[0mjsonify\u001b[0m\u001b[0;34m\u001b[0m\u001b[0;34m\u001b[0m\u001b[0m\n\u001b[0m\u001b[1;32m      4\u001b[0m \u001b[0;32mimport\u001b[0m \u001b[0mnumpy\u001b[0m \u001b[0;32mas\u001b[0m \u001b[0mnp\u001b[0m\u001b[0;34m\u001b[0m\u001b[0;34m\u001b[0m\u001b[0m\n\u001b[1;32m      5\u001b[0m \u001b[0;32mimport\u001b[0m \u001b[0mtensorflow\u001b[0m \u001b[0;32mas\u001b[0m \u001b[0mtf\u001b[0m\u001b[0;34m\u001b[0m\u001b[0;34m\u001b[0m\u001b[0m\n",
            "\u001b[0;31mModuleNotFoundError\u001b[0m: No module named 'flask'",
            "",
            "\u001b[0;31m---------------------------------------------------------------------------\u001b[0;32m\nNOTE: If your import is failing due to a missing package, you can\nmanually install dependencies using either !pip or !apt.\n\nTo view examples of installing some common dependencies, click the\n\"Open Examples\" button below.\n\u001b[0;31m---------------------------------------------------------------------------\u001b[0m\n"
          ],
          "errorDetails": {
            "actions": [
              {
                "action": "open_url",
                "actionText": "Open Examples",
                "url": "/notebooks/snippets/importing_libraries.ipynb"
              }
            ]
          }
        }
      ],
      "source": [
        "!pip install flask flask-cors pyngrok\n",
        "\n",
        "from flask import Flask, request, jsonify\n",
        "import numpy as np\n",
        "import tensorflow as tf\n",
        "from tensorflow.keras.preprocessing.image import load_img, img_to_array\n",
        "from tensorflow.keras.applications.resnet50 import ResNet50, preprocess_input\n",
        "from tensorflow.keras.layers import GlobalMaxPooling2D, Dense, Dropout\n",
        "from tensorflow.keras.models import Sequential\n",
        "from sklearn.neighbors import NearestNeighbors\n",
        "import pickle\n",
        "import os\n",
        "from sklearn.metrics.pairwise import cosine_similarity\n",
        "\n",
        "app = Flask(__name__)\n",
        "\n",
        "# Load precomputed features and filenames\n",
        "with open('./output/embeddings.pkl', 'rb') as f:\n",
        "    feature_list = pickle.load(f)\n",
        "with open('./output/filenames.pkl', 'rb') as f:\n",
        "    filenames = pickle.load(f)\n",
        "\n",
        "feature_array = np.array(feature_list)\n",
        "\n",
        "# Model setup\n",
        "base_model = ResNet50(weights='imagenet', include_top=False, input_shape=(224, 224, 3))\n",
        "for layer in base_model.layers[:-10]:\n",
        "    layer.trainable = False\n",
        "\n",
        "model = Sequential([\n",
        "    base_model,\n",
        "    GlobalMaxPooling2D(),\n",
        "    Dense(512, activation='relu'),\n",
        "    Dropout(0.5)\n",
        "])\n",
        "\n",
        "# Fit the Nearest Neighbors model\n",
        "nn_model = NearestNeighbors(n_neighbors=6, algorithm='brute', metric='euclidean')\n",
        "nn_model.fit(feature_array)\n",
        "\n",
        "# Define the function to get top 5 recommendations using Nearest Neighbors\n",
        "def get_top_5_recommendations_nn(image_features, nn_model, filenames):\n",
        "    distances, indices = nn_model.kneighbors([image_features])\n",
        "    similar_files = [filenames[i] for i in indices[0][1:6]]\n",
        "    return similar_files\n",
        "\n",
        "# Define feature extraction function\n",
        "def extract_features(image_path):\n",
        "    img = load_img(image_path, target_size=(224, 224))\n",
        "    img_array = img_to_array(img)\n",
        "    img_array = np.expand_dims(img_array, axis=0)\n",
        "    img_array = preprocess_input(img_array)\n",
        "    features = model.predict(img_array)\n",
        "    return features.flatten()\n",
        "\n",
        "# Define similarity function\n",
        "def get_top_5_recommendations(image_features):\n",
        "    # Compute cosine similarity between the input image features and precomputed features\n",
        "    similarities = cosine_similarity([image_features], feature_array)\n",
        "    # Get indices of top 5 most similar images\n",
        "    top_indices = similarities[0].argsort()[-5:][::-1]\n",
        "    return [filenames[i] for i in top_indices]\n",
        "\n",
        "# Define API endpoint for recommendation\n",
        "@app.route('/recommend', methods=['POST'])\n",
        "def recommend():\n",
        "    if 'file' not in request.files:\n",
        "        return jsonify({'error': 'No file provided'}), 400\n",
        "\n",
        "    file = request.files['file']\n",
        "    if file.filename == '':\n",
        "        return jsonify({'error': 'No file selected'}), 400\n",
        "\n",
        "    # Save the uploaded file\n",
        "    file_path = 'temp_image.jpg'\n",
        "    file.save(file_path)\n",
        "\n",
        "    # Extract features from the uploaded image\n",
        "    uploaded_image_features = extract_features(file_path)\n",
        "\n",
        "    # Remove the temporary file\n",
        "    os.remove(file_path)\n",
        "\n",
        "    # Check for query parameter to choose the recommendation method\n",
        "    method = request.args.get('method', 'cosine')\n",
        "\n",
        "    if method == 'nn':\n",
        "        # Get top 5 recommendations using Nearest Neighbors\n",
        "        recommendations = get_top_5_recommendations_nn(uploaded_image_features, nn_model, filenames)\n",
        "    else:\n",
        "        # Default to cosine similarity\n",
        "        recommendations = get_top_5_recommendations(uploaded_image_features)\n",
        "\n",
        "    return jsonify({'recommendations': recommendations})\n",
        "\n",
        "if __name__ == '__main__':\n",
        "    app.run(debug=True)\n"
      ]
    },
    {
      "cell_type": "code",
      "source": [
        "# Read the Ngrok token from the file\n",
        "with open(\"/content/drive/MyDrive/ngrok-creds.txt\", \"r\") as token_file:\n",
        "    ngrok_token = token_file.read().strip()"
      ],
      "metadata": {
        "id": "GYW6k7Gof8YV"
      },
      "execution_count": null,
      "outputs": []
    },
    {
      "cell_type": "code",
      "source": [
        "!pip install flask-ngrok\n",
        "!pip install pyngrok\n",
        "!pip install flask-cors\n",
        "!pip install flask\n",
        "\n",
        "from pyngrok import ngrok\n",
        "\n",
        "# Authenticate Ngrok using the token from the file\n",
        "ngrok.set_auth_token(ngrok_token)\n",
        "\n",
        "# Start the tunnel\n",
        "public_url = ngrok.connect(5000)\n",
        "print(f\"Public URL: {public_url}\")\n"
      ],
      "metadata": {
        "colab": {
          "base_uri": "https://localhost:8080/"
        },
        "id": "SYtjK4ePk7tY",
        "outputId": "2e2c7e67-0c9f-4a64-d999-c50122a0e508"
      },
      "execution_count": null,
      "outputs": [
        {
          "output_type": "stream",
          "name": "stdout",
          "text": [
            "Collecting flask-ngrok\n",
            "  Using cached flask_ngrok-0.0.25-py3-none-any.whl.metadata (1.8 kB)\n",
            "Collecting Flask>=0.8 (from flask-ngrok)\n",
            "  Using cached flask-3.0.3-py3-none-any.whl.metadata (3.2 kB)\n",
            "Requirement already satisfied: requests in /usr/local/lib/python3.10/dist-packages (from flask-ngrok) (2.32.3)\n",
            "Requirement already satisfied: Werkzeug>=3.0.0 in /usr/local/lib/python3.10/dist-packages (from Flask>=0.8->flask-ngrok) (3.0.3)\n",
            "Requirement already satisfied: Jinja2>=3.1.2 in /usr/local/lib/python3.10/dist-packages (from Flask>=0.8->flask-ngrok) (3.1.4)\n",
            "Requirement already satisfied: itsdangerous>=2.1.2 in /usr/local/lib/python3.10/dist-packages (from Flask>=0.8->flask-ngrok) (2.2.0)\n",
            "Requirement already satisfied: click>=8.1.3 in /usr/local/lib/python3.10/dist-packages (from Flask>=0.8->flask-ngrok) (8.1.7)\n",
            "Collecting blinker>=1.6.2 (from Flask>=0.8->flask-ngrok)\n",
            "  Using cached blinker-1.8.2-py3-none-any.whl.metadata (1.6 kB)\n",
            "Requirement already satisfied: charset-normalizer<4,>=2 in /usr/local/lib/python3.10/dist-packages (from requests->flask-ngrok) (3.3.2)\n",
            "Requirement already satisfied: idna<4,>=2.5 in /usr/local/lib/python3.10/dist-packages (from requests->flask-ngrok) (3.7)\n",
            "Requirement already satisfied: urllib3<3,>=1.21.1 in /usr/local/lib/python3.10/dist-packages (from requests->flask-ngrok) (2.0.7)\n",
            "Requirement already satisfied: certifi>=2017.4.17 in /usr/local/lib/python3.10/dist-packages (from requests->flask-ngrok) (2024.7.4)\n",
            "Requirement already satisfied: MarkupSafe>=2.0 in /usr/local/lib/python3.10/dist-packages (from Jinja2>=3.1.2->Flask>=0.8->flask-ngrok) (2.1.5)\n",
            "Using cached flask_ngrok-0.0.25-py3-none-any.whl (3.1 kB)\n",
            "Using cached flask-3.0.3-py3-none-any.whl (101 kB)\n",
            "Using cached blinker-1.8.2-py3-none-any.whl (9.5 kB)\n",
            "Installing collected packages: blinker, Flask, flask-ngrok\n",
            "  Attempting uninstall: blinker\n",
            "    Found existing installation: blinker 1.4\n",
            "\u001b[1;31merror\u001b[0m: \u001b[1muninstall-distutils-installed-package\u001b[0m\n",
            "\n",
            "\u001b[31m×\u001b[0m Cannot uninstall blinker 1.4\n",
            "\u001b[31m╰─>\u001b[0m It is a distutils installed project and thus we cannot accurately determine which files belong to it which would lead to only a partial uninstall.\n",
            "Requirement already satisfied: pyngrok in /usr/local/lib/python3.10/dist-packages (7.2.0)\n",
            "Requirement already satisfied: PyYAML>=5.1 in /usr/local/lib/python3.10/dist-packages (from pyngrok) (6.0.2)\n",
            "Collecting flask-cors\n",
            "  Using cached Flask_Cors-4.0.1-py2.py3-none-any.whl.metadata (5.5 kB)\n",
            "Collecting Flask>=0.9 (from flask-cors)\n",
            "  Using cached flask-3.0.3-py3-none-any.whl.metadata (3.2 kB)\n",
            "Requirement already satisfied: Werkzeug>=3.0.0 in /usr/local/lib/python3.10/dist-packages (from Flask>=0.9->flask-cors) (3.0.3)\n",
            "Requirement already satisfied: Jinja2>=3.1.2 in /usr/local/lib/python3.10/dist-packages (from Flask>=0.9->flask-cors) (3.1.4)\n",
            "Requirement already satisfied: itsdangerous>=2.1.2 in /usr/local/lib/python3.10/dist-packages (from Flask>=0.9->flask-cors) (2.2.0)\n",
            "Requirement already satisfied: click>=8.1.3 in /usr/local/lib/python3.10/dist-packages (from Flask>=0.9->flask-cors) (8.1.7)\n",
            "Collecting blinker>=1.6.2 (from Flask>=0.9->flask-cors)\n",
            "  Using cached blinker-1.8.2-py3-none-any.whl.metadata (1.6 kB)\n",
            "Requirement already satisfied: MarkupSafe>=2.0 in /usr/local/lib/python3.10/dist-packages (from Jinja2>=3.1.2->Flask>=0.9->flask-cors) (2.1.5)\n",
            "Using cached Flask_Cors-4.0.1-py2.py3-none-any.whl (14 kB)\n",
            "Using cached flask-3.0.3-py3-none-any.whl (101 kB)\n",
            "Using cached blinker-1.8.2-py3-none-any.whl (9.5 kB)\n",
            "Installing collected packages: blinker, Flask, flask-cors\n",
            "  Attempting uninstall: blinker\n",
            "    Found existing installation: blinker 1.4\n",
            "\u001b[1;31merror\u001b[0m: \u001b[1muninstall-distutils-installed-package\u001b[0m\n",
            "\n",
            "\u001b[31m×\u001b[0m Cannot uninstall blinker 1.4\n",
            "\u001b[31m╰─>\u001b[0m It is a distutils installed project and thus we cannot accurately determine which files belong to it which would lead to only a partial uninstall.\n",
            "Collecting flask\n",
            "  Using cached flask-3.0.3-py3-none-any.whl.metadata (3.2 kB)\n",
            "Requirement already satisfied: Werkzeug>=3.0.0 in /usr/local/lib/python3.10/dist-packages (from flask) (3.0.3)\n",
            "Requirement already satisfied: Jinja2>=3.1.2 in /usr/local/lib/python3.10/dist-packages (from flask) (3.1.4)\n",
            "Requirement already satisfied: itsdangerous>=2.1.2 in /usr/local/lib/python3.10/dist-packages (from flask) (2.2.0)\n",
            "Requirement already satisfied: click>=8.1.3 in /usr/local/lib/python3.10/dist-packages (from flask) (8.1.7)\n",
            "Collecting blinker>=1.6.2 (from flask)\n",
            "  Using cached blinker-1.8.2-py3-none-any.whl.metadata (1.6 kB)\n",
            "Requirement already satisfied: MarkupSafe>=2.0 in /usr/local/lib/python3.10/dist-packages (from Jinja2>=3.1.2->flask) (2.1.5)\n",
            "Using cached flask-3.0.3-py3-none-any.whl (101 kB)\n",
            "Using cached blinker-1.8.2-py3-none-any.whl (9.5 kB)\n",
            "Installing collected packages: blinker, flask\n",
            "  Attempting uninstall: blinker\n",
            "    Found existing installation: blinker 1.4\n",
            "\u001b[1;31merror\u001b[0m: \u001b[1muninstall-distutils-installed-package\u001b[0m\n",
            "\n",
            "\u001b[31m×\u001b[0m Cannot uninstall blinker 1.4\n",
            "\u001b[31m╰─>\u001b[0m It is a distutils installed project and thus we cannot accurately determine which files belong to it which would lead to only a partial uninstall.\n",
            "Public URL: NgrokTunnel: \"https://05c1-34-72-21-238.ngrok-free.app\" -> \"http://localhost:5000\"\n"
          ]
        }
      ]
    },
    {
      "cell_type": "code",
      "source": [],
      "metadata": {
        "id": "wvpvrCzOlulO"
      },
      "execution_count": null,
      "outputs": []
    }
  ],
  "metadata": {
    "accelerator": "TPU",
    "colab": {
      "gpuType": "V28",
      "provenance": []
    },
    "kernelspec": {
      "display_name": "Python 3",
      "name": "python3"
    },
    "language_info": {
      "name": "python"
    }
  },
  "nbformat": 4,
  "nbformat_minor": 0
}