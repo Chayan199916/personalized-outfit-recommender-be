{
  "cells": [
    {
      "cell_type": "code",
      "execution_count": 1,
      "metadata": {
        "colab": {
          "base_uri": "https://localhost:8080/"
        },
        "id": "P-OC5aa-jqki",
        "outputId": "bfe4c810-63f0-49e2-dfcf-388380298754"
      },
      "outputs": [
        {
          "output_type": "stream",
          "name": "stdout",
          "text": [
            "Mounted at /content/drive\n"
          ]
        }
      ],
      "source": [
        "from google.colab import drive\n",
        "drive.mount('/content/drive')"
      ]
    },
    {
      "cell_type": "code",
      "execution_count": 2,
      "metadata": {
        "colab": {
          "base_uri": "https://localhost:8080/"
        },
        "id": "sROaI0J7H36y",
        "outputId": "880502db-b3c9-4409-d530-a13df1ebe471"
      },
      "outputs": [
        {
          "output_type": "stream",
          "name": "stdout",
          "text": [
            "/content/drive/MyDrive/Kaggle/fashion_product_images\n"
          ]
        }
      ],
      "source": [
        "import os\n",
        "os.environ[\"KAGGLE_CONFIG_DIR\"] = \"/content/drive/MyDrive/Kaggle/fashion_product_images\"\n",
        "%cd \"/content/drive/MyDrive/Kaggle/fashion_product_images\""
      ]
    },
    {
      "cell_type": "code",
      "execution_count": null,
      "metadata": {
        "colab": {
          "base_uri": "https://localhost:8080/"
        },
        "id": "Zw1pzZtwIDhC",
        "outputId": "abca8cf2-7497-4e3f-c296-0f5c42b89f2a"
      },
      "outputs": [
        {
          "name": "stdout",
          "output_type": "stream",
          "text": [
            "Dataset URL: https://www.kaggle.com/datasets/paramaggarwal/fashion-product-images-small\n",
            "License(s): copyright-authors\n",
            "fashion-product-images-small.zip: Skipping, found more recently modified local copy (use --force to force download)\n"
          ]
        }
      ],
      "source": [
        "!kaggle datasets download -d paramaggarwal/fashion-product-images-small"
      ]
    },
    {
      "cell_type": "code",
      "execution_count": null,
      "metadata": {
        "colab": {
          "base_uri": "https://localhost:8080/"
        },
        "id": "w8wRjucEYYJZ",
        "outputId": "5cb1658c-1401-4cba-c719-6f969be93d83"
      },
      "outputs": [
        {
          "name": "stdout",
          "output_type": "stream",
          "text": [
            "\u001b[1;30;43mStreaming output truncated to the last 5000 lines.\u001b[0m\n",
            "  inflating: myntradataset/images/5813.jpg  \n",
            "  inflating: myntradataset/images/58131.jpg  \n",
            "  inflating: myntradataset/images/58132.jpg  \n",
            "  inflating: myntradataset/images/58133.jpg  \n",
            "  inflating: myntradataset/images/58135.jpg  \n",
            "  inflating: myntradataset/images/58136.jpg  \n",
            "  inflating: myntradataset/images/58137.jpg  \n",
            "  inflating: myntradataset/images/58138.jpg  \n",
            "  inflating: myntradataset/images/58139.jpg  \n",
            "  inflating: myntradataset/images/5814.jpg  \n",
            "  inflating: myntradataset/images/58140.jpg  \n",
            "  inflating: myntradataset/images/58141.jpg  \n",
            "  inflating: myntradataset/images/58143.jpg  \n",
            "  inflating: myntradataset/images/58144.jpg  \n",
            "  inflating: myntradataset/images/58145.jpg  \n",
            "  inflating: myntradataset/images/58146.jpg  \n",
            "  inflating: myntradataset/images/58147.jpg  \n",
            "  inflating: myntradataset/images/58148.jpg  \n",
            "  inflating: myntradataset/images/58149.jpg  \n",
            "  inflating: myntradataset/images/5815.jpg  \n",
            "  inflating: myntradataset/images/58150.jpg  \n",
            "  inflating: myntradataset/images/58151.jpg  \n",
            "  inflating: myntradataset/images/58152.jpg  \n",
            "  inflating: myntradataset/images/58153.jpg  \n",
            "  inflating: myntradataset/images/58154.jpg  \n",
            "  inflating: myntradataset/images/58155.jpg  \n",
            "  inflating: myntradataset/images/58156.jpg  \n",
            "  inflating: myntradataset/images/58157.jpg  \n",
            "  inflating: myntradataset/images/58158.jpg  \n",
            "  inflating: myntradataset/images/58159.jpg  \n",
            "  inflating: myntradataset/images/5816.jpg  \n",
            "  inflating: myntradataset/images/58160.jpg  \n",
            "  inflating: myntradataset/images/58161.jpg  \n",
            "  inflating: myntradataset/images/58162.jpg  \n",
            "  inflating: myntradataset/images/58163.jpg  \n",
            "  inflating: myntradataset/images/58164.jpg  \n",
            "  inflating: myntradataset/images/58165.jpg  \n",
            "  inflating: myntradataset/images/58166.jpg  \n",
            "  inflating: myntradataset/images/58167.jpg  \n",
            "  inflating: myntradataset/images/58168.jpg  \n",
            "  inflating: myntradataset/images/58169.jpg  \n",
            "  inflating: myntradataset/images/5817.jpg  \n",
            "  inflating: myntradataset/images/58170.jpg  \n",
            "  inflating: myntradataset/images/58171.jpg  \n",
            "  inflating: myntradataset/images/58172.jpg  \n",
            "  inflating: myntradataset/images/58173.jpg  \n",
            "  inflating: myntradataset/images/58174.jpg  \n",
            "  inflating: myntradataset/images/58175.jpg  \n",
            "  inflating: myntradataset/images/58176.jpg  \n",
            "  inflating: myntradataset/images/58177.jpg  \n",
            "  inflating: myntradataset/images/58178.jpg  \n",
            "  inflating: myntradataset/images/58179.jpg  \n",
            "  inflating: myntradataset/images/5818.jpg  \n",
            "  inflating: myntradataset/images/58180.jpg  \n",
            "  inflating: myntradataset/images/58181.jpg  \n",
            "  inflating: myntradataset/images/58182.jpg  \n",
            "  inflating: myntradataset/images/58183.jpg  \n",
            "  inflating: myntradataset/images/58184.jpg  \n",
            "  inflating: myntradataset/images/58185.jpg  \n",
            "  inflating: myntradataset/images/58186.jpg  \n",
            "  inflating: myntradataset/images/58187.jpg  \n",
            "  inflating: myntradataset/images/58188.jpg  \n",
            "  inflating: myntradataset/images/58189.jpg  \n",
            "  inflating: myntradataset/images/5819.jpg  \n",
            "  inflating: myntradataset/images/58190.jpg  \n",
            "  inflating: myntradataset/images/58191.jpg  \n",
            "  inflating: myntradataset/images/58194.jpg  \n",
            "  inflating: myntradataset/images/58195.jpg  \n",
            "  inflating: myntradataset/images/58196.jpg  \n",
            "  inflating: myntradataset/images/5820.jpg  \n",
            "  inflating: myntradataset/images/58200.jpg  \n",
            "  inflating: myntradataset/images/58201.jpg  \n",
            "  inflating: myntradataset/images/58202.jpg  \n",
            "  inflating: myntradataset/images/58203.jpg  \n",
            "  inflating: myntradataset/images/58204.jpg  \n",
            "  inflating: myntradataset/images/58205.jpg  \n",
            "  inflating: myntradataset/images/58206.jpg  \n",
            "  inflating: myntradataset/images/58207.jpg  \n",
            "  inflating: myntradataset/images/58208.jpg  \n",
            "  inflating: myntradataset/images/58209.jpg  \n",
            "  inflating: myntradataset/images/5821.jpg  \n",
            "  inflating: myntradataset/images/58210.jpg  \n",
            "  inflating: myntradataset/images/58211.jpg  \n",
            "  inflating: myntradataset/images/58212.jpg  \n",
            "  inflating: myntradataset/images/58213.jpg  \n",
            "  inflating: myntradataset/images/58214.jpg  \n",
            "  inflating: myntradataset/images/58215.jpg  \n",
            "  inflating: myntradataset/images/58216.jpg  \n",
            "  inflating: myntradataset/images/58218.jpg  \n",
            "  inflating: myntradataset/images/5822.jpg  \n",
            "  inflating: myntradataset/images/58220.jpg  \n",
            "  inflating: myntradataset/images/58222.jpg  \n",
            "  inflating: myntradataset/images/58225.jpg  \n",
            "  inflating: myntradataset/images/58226.jpg  \n",
            "  inflating: myntradataset/images/58227.jpg  \n",
            "  inflating: myntradataset/images/58229.jpg  \n",
            "  inflating: myntradataset/images/5823.jpg  \n",
            "  inflating: myntradataset/images/58231.jpg  \n",
            "  inflating: myntradataset/images/58232.jpg  \n",
            "  inflating: myntradataset/images/58233.jpg  \n",
            "  inflating: myntradataset/images/58234.jpg  \n",
            "  inflating: myntradataset/images/58235.jpg  \n",
            "  inflating: myntradataset/images/58236.jpg  \n",
            "  inflating: myntradataset/images/58237.jpg  \n",
            "  inflating: myntradataset/images/58238.jpg  \n",
            "  inflating: myntradataset/images/58239.jpg  \n",
            "  inflating: myntradataset/images/5824.jpg  \n",
            "  inflating: myntradataset/images/58240.jpg  \n",
            "  inflating: myntradataset/images/58241.jpg  \n",
            "  inflating: myntradataset/images/58242.jpg  \n",
            "  inflating: myntradataset/images/58243.jpg  \n",
            "  inflating: myntradataset/images/58244.jpg  \n",
            "  inflating: myntradataset/images/58245.jpg  \n",
            "  inflating: myntradataset/images/58246.jpg  \n",
            "  inflating: myntradataset/images/58247.jpg  \n",
            "  inflating: myntradataset/images/58248.jpg  \n",
            "  inflating: myntradataset/images/58249.jpg  \n",
            "  inflating: myntradataset/images/5825.jpg  \n",
            "  inflating: myntradataset/images/58250.jpg  \n",
            "  inflating: myntradataset/images/58251.jpg  \n",
            "  inflating: myntradataset/images/58252.jpg  \n",
            "  inflating: myntradataset/images/58253.jpg  \n",
            "  inflating: myntradataset/images/58254.jpg  \n",
            "  inflating: myntradataset/images/58255.jpg  \n",
            "  inflating: myntradataset/images/58256.jpg  \n",
            "  inflating: myntradataset/images/58257.jpg  \n",
            "  inflating: myntradataset/images/58258.jpg  \n",
            "  inflating: myntradataset/images/58259.jpg  \n",
            "  inflating: myntradataset/images/5826.jpg  \n",
            "  inflating: myntradataset/images/58260.jpg  \n",
            "  inflating: myntradataset/images/58261.jpg  \n",
            "  inflating: myntradataset/images/58262.jpg  \n",
            "  inflating: myntradataset/images/58263.jpg  \n",
            "  inflating: myntradataset/images/58264.jpg  \n",
            "  inflating: myntradataset/images/58265.jpg  \n",
            "  inflating: myntradataset/images/58266.jpg  \n",
            "  inflating: myntradataset/images/58267.jpg  \n",
            "  inflating: myntradataset/images/58268.jpg  \n",
            "  inflating: myntradataset/images/58269.jpg  \n",
            "  inflating: myntradataset/images/5827.jpg  \n",
            "  inflating: myntradataset/images/58270.jpg  \n",
            "  inflating: myntradataset/images/58271.jpg  \n",
            "  inflating: myntradataset/images/58272.jpg  \n",
            "  inflating: myntradataset/images/58273.jpg  \n",
            "  inflating: myntradataset/images/58274.jpg  \n",
            "  inflating: myntradataset/images/58275.jpg  \n",
            "  inflating: myntradataset/images/58276.jpg  \n",
            "  inflating: myntradataset/images/58277.jpg  \n",
            "  inflating: myntradataset/images/58278.jpg  \n",
            "  inflating: myntradataset/images/58279.jpg  \n",
            "  inflating: myntradataset/images/5828.jpg  \n",
            "  inflating: myntradataset/images/58280.jpg  \n",
            "  inflating: myntradataset/images/58281.jpg  \n",
            "  inflating: myntradataset/images/58282.jpg  \n",
            "  inflating: myntradataset/images/58283.jpg  \n",
            "  inflating: myntradataset/images/58284.jpg  \n",
            "  inflating: myntradataset/images/58286.jpg  \n",
            "  inflating: myntradataset/images/5829.jpg  \n",
            "  inflating: myntradataset/images/58291.jpg  \n",
            "  inflating: myntradataset/images/58292.jpg  \n",
            "  inflating: myntradataset/images/58293.jpg  \n",
            "  inflating: myntradataset/images/58294.jpg  \n",
            "  inflating: myntradataset/images/58295.jpg  \n",
            "  inflating: myntradataset/images/58296.jpg  \n",
            "  inflating: myntradataset/images/58297.jpg  \n",
            "  inflating: myntradataset/images/58298.jpg  \n",
            "  inflating: myntradataset/images/58299.jpg  \n",
            "  inflating: myntradataset/images/5830.jpg  \n",
            "  inflating: myntradataset/images/58300.jpg  \n",
            "  inflating: myntradataset/images/58301.jpg  \n",
            "  inflating: myntradataset/images/58304.jpg  \n",
            "  inflating: myntradataset/images/58305.jpg  \n",
            "  inflating: myntradataset/images/58306.jpg  \n",
            "  inflating: myntradataset/images/58307.jpg  \n",
            "  inflating: myntradataset/images/58308.jpg  \n",
            "  inflating: myntradataset/images/58309.jpg  \n",
            "  inflating: myntradataset/images/5831.jpg  \n",
            "  inflating: myntradataset/images/58310.jpg  \n",
            "  inflating: myntradataset/images/58311.jpg  \n",
            "  inflating: myntradataset/images/58312.jpg  \n",
            "  inflating: myntradataset/images/58313.jpg  \n",
            "  inflating: myntradataset/images/58314.jpg  \n",
            "  inflating: myntradataset/images/58315.jpg  \n",
            "  inflating: myntradataset/images/58316.jpg  \n",
            "  inflating: myntradataset/images/58317.jpg  \n",
            "  inflating: myntradataset/images/58318.jpg  \n",
            "  inflating: myntradataset/images/58319.jpg  \n",
            "  inflating: myntradataset/images/5832.jpg  \n",
            "  inflating: myntradataset/images/58320.jpg  \n",
            "  inflating: myntradataset/images/58321.jpg  \n",
            "  inflating: myntradataset/images/58322.jpg  \n",
            "  inflating: myntradataset/images/58323.jpg  \n",
            "  inflating: myntradataset/images/58324.jpg  \n",
            "  inflating: myntradataset/images/58325.jpg  \n",
            "  inflating: myntradataset/images/58326.jpg  \n",
            "  inflating: myntradataset/images/58327.jpg  \n",
            "  inflating: myntradataset/images/58328.jpg  \n",
            "  inflating: myntradataset/images/58329.jpg  \n",
            "  inflating: myntradataset/images/5833.jpg  \n",
            "  inflating: myntradataset/images/58330.jpg  \n",
            "  inflating: myntradataset/images/58331.jpg  \n",
            "  inflating: myntradataset/images/58332.jpg  \n",
            "  inflating: myntradataset/images/58333.jpg  \n",
            "  inflating: myntradataset/images/58334.jpg  \n",
            "  inflating: myntradataset/images/58335.jpg  \n",
            "  inflating: myntradataset/images/58336.jpg  \n",
            "  inflating: myntradataset/images/58337.jpg  \n",
            "  inflating: myntradataset/images/58338.jpg  \n",
            "  inflating: myntradataset/images/58339.jpg  \n",
            "  inflating: myntradataset/images/5834.jpg  \n",
            "  inflating: myntradataset/images/58340.jpg  \n",
            "  inflating: myntradataset/images/58349.jpg  \n",
            "  inflating: myntradataset/images/5835.jpg  \n",
            "  inflating: myntradataset/images/58351.jpg  \n",
            "  inflating: myntradataset/images/58357.jpg  \n",
            "  inflating: myntradataset/images/58358.jpg  \n",
            "  inflating: myntradataset/images/5836.jpg  \n",
            "  inflating: myntradataset/images/5837.jpg  \n",
            "  inflating: myntradataset/images/58372.jpg  \n",
            "  inflating: myntradataset/images/58375.jpg  \n",
            "  inflating: myntradataset/images/5838.jpg  \n",
            "  inflating: myntradataset/images/58381.jpg  \n",
            "  inflating: myntradataset/images/58385.jpg  \n",
            "  inflating: myntradataset/images/5839.jpg  \n",
            "  inflating: myntradataset/images/58394.jpg  \n",
            "  inflating: myntradataset/images/58395.jpg  \n",
            "  inflating: myntradataset/images/5840.jpg  \n",
            "  inflating: myntradataset/images/5841.jpg  \n",
            "  inflating: myntradataset/images/58411.jpg  \n",
            "  inflating: myntradataset/images/58418.jpg  \n",
            "  inflating: myntradataset/images/5842.jpg  \n",
            "  inflating: myntradataset/images/58425.jpg  \n",
            "  inflating: myntradataset/images/5843.jpg  \n",
            "  inflating: myntradataset/images/58439.jpg  \n",
            "  inflating: myntradataset/images/5844.jpg  \n",
            "  inflating: myntradataset/images/58444.jpg  \n",
            "  inflating: myntradataset/images/58445.jpg  \n",
            "  inflating: myntradataset/images/58446.jpg  \n",
            "  inflating: myntradataset/images/58447.jpg  \n",
            "  inflating: myntradataset/images/58448.jpg  \n",
            "  inflating: myntradataset/images/58449.jpg  \n",
            "  inflating: myntradataset/images/5845.jpg  \n",
            "  inflating: myntradataset/images/58450.jpg  \n",
            "  inflating: myntradataset/images/58451.jpg  \n",
            "  inflating: myntradataset/images/58452.jpg  \n",
            "  inflating: myntradataset/images/58453.jpg  \n",
            "  inflating: myntradataset/images/58454.jpg  \n",
            "  inflating: myntradataset/images/58455.jpg  \n",
            "  inflating: myntradataset/images/58456.jpg  \n",
            "  inflating: myntradataset/images/58458.jpg  \n",
            "  inflating: myntradataset/images/58459.jpg  \n",
            "  inflating: myntradataset/images/5846.jpg  \n",
            "  inflating: myntradataset/images/58460.jpg  \n",
            "  inflating: myntradataset/images/58463.jpg  \n",
            "  inflating: myntradataset/images/58464.jpg  \n",
            "  inflating: myntradataset/images/58465.jpg  \n",
            "  inflating: myntradataset/images/58466.jpg  \n",
            "  inflating: myntradataset/images/58467.jpg  \n",
            "  inflating: myntradataset/images/58468.jpg  \n",
            "  inflating: myntradataset/images/5847.jpg  \n",
            "  inflating: myntradataset/images/58470.jpg  \n",
            "  inflating: myntradataset/images/58471.jpg  \n",
            "  inflating: myntradataset/images/58472.jpg  \n",
            "  inflating: myntradataset/images/58473.jpg  \n",
            "  inflating: myntradataset/images/58474.jpg  \n",
            "  inflating: myntradataset/images/58475.jpg  \n",
            "  inflating: myntradataset/images/58476.jpg  \n",
            "  inflating: myntradataset/images/58477.jpg  \n",
            "  inflating: myntradataset/images/58478.jpg  \n",
            "  inflating: myntradataset/images/58479.jpg  \n",
            "  inflating: myntradataset/images/5848.jpg  \n",
            "  inflating: myntradataset/images/58480.jpg  \n",
            "  inflating: myntradataset/images/58481.jpg  \n",
            "  inflating: myntradataset/images/58482.jpg  \n",
            "  inflating: myntradataset/images/58483.jpg  \n",
            "  inflating: myntradataset/images/58484.jpg  \n",
            "  inflating: myntradataset/images/58485.jpg  \n",
            "  inflating: myntradataset/images/58486.jpg  \n",
            "  inflating: myntradataset/images/58487.jpg  \n",
            "  inflating: myntradataset/images/58488.jpg  \n",
            "  inflating: myntradataset/images/58489.jpg  \n",
            "  inflating: myntradataset/images/5849.jpg  \n",
            "  inflating: myntradataset/images/58490.jpg  \n",
            "  inflating: myntradataset/images/58491.jpg  \n",
            "  inflating: myntradataset/images/58492.jpg  \n",
            "  inflating: myntradataset/images/58493.jpg  \n",
            "  inflating: myntradataset/images/58494.jpg  \n",
            "  inflating: myntradataset/images/58495.jpg  \n",
            "  inflating: myntradataset/images/58496.jpg  \n",
            "  inflating: myntradataset/images/58497.jpg  \n",
            "  inflating: myntradataset/images/58498.jpg  \n",
            "  inflating: myntradataset/images/58499.jpg  \n",
            "  inflating: myntradataset/images/5850.jpg  \n",
            "  inflating: myntradataset/images/58500.jpg  \n",
            "  inflating: myntradataset/images/58501.jpg  \n",
            "  inflating: myntradataset/images/58502.jpg  \n",
            "  inflating: myntradataset/images/58503.jpg  \n",
            "  inflating: myntradataset/images/58504.jpg  \n",
            "  inflating: myntradataset/images/58505.jpg  \n",
            "  inflating: myntradataset/images/58506.jpg  \n",
            "  inflating: myntradataset/images/58507.jpg  \n",
            "  inflating: myntradataset/images/58508.jpg  \n",
            "  inflating: myntradataset/images/58509.jpg  \n",
            "  inflating: myntradataset/images/5851.jpg  \n",
            "  inflating: myntradataset/images/58510.jpg  \n",
            "  inflating: myntradataset/images/58511.jpg  \n",
            "  inflating: myntradataset/images/58512.jpg  \n",
            "  inflating: myntradataset/images/58513.jpg  \n",
            "  inflating: myntradataset/images/58514.jpg  \n",
            "  inflating: myntradataset/images/58515.jpg  \n",
            "  inflating: myntradataset/images/58516.jpg  \n",
            "  inflating: myntradataset/images/58517.jpg  \n",
            "  inflating: myntradataset/images/58518.jpg  \n",
            "  inflating: myntradataset/images/58519.jpg  \n",
            "  inflating: myntradataset/images/5852.jpg  \n",
            "  inflating: myntradataset/images/58520.jpg  \n",
            "  inflating: myntradataset/images/58521.jpg  \n",
            "  inflating: myntradataset/images/58522.jpg  \n",
            "  inflating: myntradataset/images/58523.jpg  \n",
            "  inflating: myntradataset/images/58524.jpg  \n",
            "  inflating: myntradataset/images/58525.jpg  \n",
            "  inflating: myntradataset/images/58526.jpg  \n",
            "  inflating: myntradataset/images/58527.jpg  \n",
            "  inflating: myntradataset/images/58528.jpg  \n",
            "  inflating: myntradataset/images/58529.jpg  \n",
            "  inflating: myntradataset/images/5853.jpg  \n",
            "  inflating: myntradataset/images/58530.jpg  \n",
            "  inflating: myntradataset/images/58531.jpg  \n",
            "  inflating: myntradataset/images/58532.jpg  \n",
            "  inflating: myntradataset/images/58533.jpg  \n",
            "  inflating: myntradataset/images/58534.jpg  \n",
            "  inflating: myntradataset/images/58535.jpg  \n",
            "  inflating: myntradataset/images/58536.jpg  \n",
            "  inflating: myntradataset/images/58537.jpg  \n",
            "  inflating: myntradataset/images/58538.jpg  \n",
            "  inflating: myntradataset/images/58539.jpg  \n",
            "  inflating: myntradataset/images/5854.jpg  \n",
            "  inflating: myntradataset/images/58540.jpg  \n",
            "  inflating: myntradataset/images/58541.jpg  \n",
            "  inflating: myntradataset/images/58542.jpg  \n",
            "  inflating: myntradataset/images/58543.jpg  \n",
            "  inflating: myntradataset/images/58544.jpg  \n",
            "  inflating: myntradataset/images/58545.jpg  \n",
            "  inflating: myntradataset/images/58546.jpg  \n",
            "  inflating: myntradataset/images/58547.jpg  \n",
            "  inflating: myntradataset/images/58548.jpg  \n",
            "  inflating: myntradataset/images/58549.jpg  \n",
            "  inflating: myntradataset/images/5855.jpg  \n",
            "  inflating: myntradataset/images/58550.jpg  \n",
            "  inflating: myntradataset/images/58551.jpg  \n",
            "  inflating: myntradataset/images/58552.jpg  \n",
            "  inflating: myntradataset/images/58553.jpg  \n",
            "  inflating: myntradataset/images/58555.jpg  \n",
            "  inflating: myntradataset/images/58559.jpg  \n",
            "  inflating: myntradataset/images/5856.jpg  \n",
            "  inflating: myntradataset/images/58560.jpg  \n",
            "  inflating: myntradataset/images/58561.jpg  \n",
            "  inflating: myntradataset/images/58562.jpg  \n",
            "  inflating: myntradataset/images/58563.jpg  \n",
            "  inflating: myntradataset/images/58565.jpg  \n",
            "  inflating: myntradataset/images/58566.jpg  \n",
            "  inflating: myntradataset/images/58567.jpg  \n",
            "  inflating: myntradataset/images/58569.jpg  \n",
            "  inflating: myntradataset/images/5857.jpg  \n",
            "  inflating: myntradataset/images/58570.jpg  \n",
            "  inflating: myntradataset/images/58571.jpg  \n",
            "  inflating: myntradataset/images/58573.jpg  \n",
            "  inflating: myntradataset/images/58574.jpg  \n",
            "  inflating: myntradataset/images/58576.jpg  \n",
            "  inflating: myntradataset/images/58577.jpg  \n",
            "  inflating: myntradataset/images/5858.jpg  \n",
            "  inflating: myntradataset/images/58581.jpg  \n",
            "  inflating: myntradataset/images/58586.jpg  \n",
            "  inflating: myntradataset/images/58588.jpg  \n",
            "  inflating: myntradataset/images/58589.jpg  \n",
            "  inflating: myntradataset/images/5859.jpg  \n",
            "  inflating: myntradataset/images/58590.jpg  \n",
            "  inflating: myntradataset/images/58591.jpg  \n",
            "  inflating: myntradataset/images/5860.jpg  \n",
            "  inflating: myntradataset/images/58600.jpg  \n",
            "  inflating: myntradataset/images/58603.jpg  \n",
            "  inflating: myntradataset/images/58605.jpg  \n",
            "  inflating: myntradataset/images/58606.jpg  \n",
            "  inflating: myntradataset/images/58607.jpg  \n",
            "  inflating: myntradataset/images/58608.jpg  \n",
            "  inflating: myntradataset/images/58609.jpg  \n",
            "  inflating: myntradataset/images/5861.jpg  \n",
            "  inflating: myntradataset/images/58610.jpg  \n",
            "  inflating: myntradataset/images/58611.jpg  \n",
            "  inflating: myntradataset/images/58612.jpg  \n",
            "  inflating: myntradataset/images/58614.jpg  \n",
            "  inflating: myntradataset/images/58615.jpg  \n",
            "  inflating: myntradataset/images/58616.jpg  \n",
            "  inflating: myntradataset/images/58618.jpg  \n",
            "  inflating: myntradataset/images/58619.jpg  \n",
            "  inflating: myntradataset/images/5862.jpg  \n",
            "  inflating: myntradataset/images/58620.jpg  \n",
            "  inflating: myntradataset/images/58621.jpg  \n",
            "  inflating: myntradataset/images/58622.jpg  \n",
            "  inflating: myntradataset/images/58624.jpg  \n",
            "  inflating: myntradataset/images/58625.jpg  \n",
            "  inflating: myntradataset/images/58626.jpg  \n",
            "  inflating: myntradataset/images/58627.jpg  \n",
            "  inflating: myntradataset/images/58628.jpg  \n",
            "  inflating: myntradataset/images/58629.jpg  \n",
            "  inflating: myntradataset/images/5863.jpg  \n",
            "  inflating: myntradataset/images/58634.jpg  \n",
            "  inflating: myntradataset/images/58635.jpg  \n",
            "  inflating: myntradataset/images/58636.jpg  \n",
            "  inflating: myntradataset/images/58637.jpg  \n",
            "  inflating: myntradataset/images/58638.jpg  \n",
            "  inflating: myntradataset/images/58639.jpg  \n",
            "  inflating: myntradataset/images/5864.jpg  \n",
            "  inflating: myntradataset/images/58640.jpg  \n",
            "  inflating: myntradataset/images/58641.jpg  \n",
            "  inflating: myntradataset/images/58642.jpg  \n",
            "  inflating: myntradataset/images/58643.jpg  \n",
            "  inflating: myntradataset/images/58644.jpg  \n",
            "  inflating: myntradataset/images/58645.jpg  \n",
            "  inflating: myntradataset/images/58646.jpg  \n",
            "  inflating: myntradataset/images/58647.jpg  \n",
            "  inflating: myntradataset/images/58648.jpg  \n",
            "  inflating: myntradataset/images/5865.jpg  \n",
            "  inflating: myntradataset/images/58652.jpg  \n",
            "  inflating: myntradataset/images/58653.jpg  \n",
            "  inflating: myntradataset/images/58654.jpg  \n",
            "  inflating: myntradataset/images/58655.jpg  \n",
            "  inflating: myntradataset/images/58656.jpg  \n",
            "  inflating: myntradataset/images/58657.jpg  \n",
            "  inflating: myntradataset/images/58658.jpg  \n",
            "  inflating: myntradataset/images/58659.jpg  \n",
            "  inflating: myntradataset/images/5866.jpg  \n",
            "  inflating: myntradataset/images/58660.jpg  \n",
            "  inflating: myntradataset/images/58661.jpg  \n",
            "  inflating: myntradataset/images/58662.jpg  \n",
            "  inflating: myntradataset/images/58663.jpg  \n",
            "  inflating: myntradataset/images/58664.jpg  \n",
            "  inflating: myntradataset/images/58666.jpg  \n",
            "  inflating: myntradataset/images/58667.jpg  \n",
            "  inflating: myntradataset/images/58668.jpg  \n",
            "  inflating: myntradataset/images/58669.jpg  \n",
            "  inflating: myntradataset/images/5867.jpg  \n",
            "  inflating: myntradataset/images/58670.jpg  \n",
            "  inflating: myntradataset/images/58671.jpg  \n",
            "  inflating: myntradataset/images/58672.jpg  \n",
            "  inflating: myntradataset/images/58673.jpg  \n",
            "  inflating: myntradataset/images/58674.jpg  \n",
            "  inflating: myntradataset/images/58675.jpg  \n",
            "  inflating: myntradataset/images/58676.jpg  \n",
            "  inflating: myntradataset/images/58677.jpg  \n",
            "  inflating: myntradataset/images/58678.jpg  \n",
            "  inflating: myntradataset/images/5868.jpg  \n",
            "  inflating: myntradataset/images/58680.jpg  \n",
            "  inflating: myntradataset/images/58681.jpg  \n",
            "  inflating: myntradataset/images/58682.jpg  \n",
            "  inflating: myntradataset/images/58683.jpg  \n",
            "  inflating: myntradataset/images/58684.jpg  \n",
            "  inflating: myntradataset/images/58685.jpg  \n",
            "  inflating: myntradataset/images/58686.jpg  \n",
            "  inflating: myntradataset/images/58687.jpg  \n",
            "  inflating: myntradataset/images/58689.jpg  \n",
            "  inflating: myntradataset/images/5869.jpg  \n",
            "  inflating: myntradataset/images/58690.jpg  \n",
            "  inflating: myntradataset/images/58691.jpg  \n",
            "  inflating: myntradataset/images/58692.jpg  \n",
            "  inflating: myntradataset/images/58693.jpg  \n",
            "  inflating: myntradataset/images/58694.jpg  \n",
            "  inflating: myntradataset/images/58695.jpg  \n",
            "  inflating: myntradataset/images/58696.jpg  \n",
            "  inflating: myntradataset/images/58698.jpg  \n",
            "  inflating: myntradataset/images/5870.jpg  \n",
            "  inflating: myntradataset/images/58700.jpg  \n",
            "  inflating: myntradataset/images/58701.jpg  \n",
            "  inflating: myntradataset/images/58702.jpg  \n",
            "  inflating: myntradataset/images/58703.jpg  \n",
            "  inflating: myntradataset/images/5871.jpg  \n",
            "  inflating: myntradataset/images/58718.jpg  \n",
            "  inflating: myntradataset/images/58719.jpg  \n",
            "  inflating: myntradataset/images/58720.jpg  \n",
            "  inflating: myntradataset/images/58722.jpg  \n",
            "  inflating: myntradataset/images/58723.jpg  \n",
            "  inflating: myntradataset/images/58724.jpg  \n",
            "  inflating: myntradataset/images/58725.jpg  \n",
            "  inflating: myntradataset/images/58726.jpg  \n",
            "  inflating: myntradataset/images/58727.jpg  \n",
            "  inflating: myntradataset/images/58728.jpg  \n",
            "  inflating: myntradataset/images/58729.jpg  \n",
            "  inflating: myntradataset/images/5873.jpg  \n",
            "  inflating: myntradataset/images/58730.jpg  \n",
            "  inflating: myntradataset/images/58731.jpg  \n",
            "  inflating: myntradataset/images/58732.jpg  \n",
            "  inflating: myntradataset/images/58734.jpg  \n",
            "  inflating: myntradataset/images/58735.jpg  \n",
            "  inflating: myntradataset/images/58736.jpg  \n",
            "  inflating: myntradataset/images/58737.jpg  \n",
            "  inflating: myntradataset/images/58738.jpg  \n",
            "  inflating: myntradataset/images/5874.jpg  \n",
            "  inflating: myntradataset/images/58740.jpg  \n",
            "  inflating: myntradataset/images/58741.jpg  \n",
            "  inflating: myntradataset/images/58742.jpg  \n",
            "  inflating: myntradataset/images/58743.jpg  \n",
            "  inflating: myntradataset/images/58744.jpg  \n",
            "  inflating: myntradataset/images/58745.jpg  \n",
            "  inflating: myntradataset/images/5875.jpg  \n",
            "  inflating: myntradataset/images/5876.jpg  \n",
            "  inflating: myntradataset/images/58765.jpg  \n",
            "  inflating: myntradataset/images/5877.jpg  \n",
            "  inflating: myntradataset/images/58770.jpg  \n",
            "  inflating: myntradataset/images/5878.jpg  \n",
            "  inflating: myntradataset/images/5879.jpg  \n",
            "  inflating: myntradataset/images/58793.jpg  \n",
            "  inflating: myntradataset/images/58794.jpg  \n",
            "  inflating: myntradataset/images/58795.jpg  \n",
            "  inflating: myntradataset/images/58796.jpg  \n",
            "  inflating: myntradataset/images/58797.jpg  \n",
            "  inflating: myntradataset/images/58798.jpg  \n",
            "  inflating: myntradataset/images/58800.jpg  \n",
            "  inflating: myntradataset/images/58801.jpg  \n",
            "  inflating: myntradataset/images/58802.jpg  \n",
            "  inflating: myntradataset/images/58805.jpg  \n",
            "  inflating: myntradataset/images/58807.jpg  \n",
            "  inflating: myntradataset/images/58808.jpg  \n",
            "  inflating: myntradataset/images/58809.jpg  \n",
            "  inflating: myntradataset/images/5881.jpg  \n",
            "  inflating: myntradataset/images/58810.jpg  \n",
            "  inflating: myntradataset/images/58815.jpg  \n",
            "  inflating: myntradataset/images/58816.jpg  \n",
            "  inflating: myntradataset/images/58817.jpg  \n",
            "  inflating: myntradataset/images/58818.jpg  \n",
            "  inflating: myntradataset/images/58819.jpg  \n",
            "  inflating: myntradataset/images/5882.jpg  \n",
            "  inflating: myntradataset/images/58820.jpg  \n",
            "  inflating: myntradataset/images/58821.jpg  \n",
            "  inflating: myntradataset/images/58822.jpg  \n",
            "  inflating: myntradataset/images/58823.jpg  \n",
            "  inflating: myntradataset/images/58825.jpg  \n",
            "  inflating: myntradataset/images/58827.jpg  \n",
            "  inflating: myntradataset/images/58828.jpg  \n",
            "  inflating: myntradataset/images/58829.jpg  \n",
            "  inflating: myntradataset/images/5883.jpg  \n",
            "  inflating: myntradataset/images/58830.jpg  \n",
            "  inflating: myntradataset/images/58831.jpg  \n",
            "  inflating: myntradataset/images/58832.jpg  \n",
            "  inflating: myntradataset/images/58833.jpg  \n",
            "  inflating: myntradataset/images/58834.jpg  \n",
            "  inflating: myntradataset/images/58835.jpg  \n",
            "  inflating: myntradataset/images/58836.jpg  \n",
            "  inflating: myntradataset/images/58837.jpg  \n",
            "  inflating: myntradataset/images/58838.jpg  \n",
            "  inflating: myntradataset/images/58839.jpg  \n",
            "  inflating: myntradataset/images/5884.jpg  \n",
            "  inflating: myntradataset/images/58840.jpg  \n",
            "  inflating: myntradataset/images/58841.jpg  \n",
            "  inflating: myntradataset/images/58842.jpg  \n",
            "  inflating: myntradataset/images/58843.jpg  \n",
            "  inflating: myntradataset/images/58844.jpg  \n",
            "  inflating: myntradataset/images/58845.jpg  \n",
            "  inflating: myntradataset/images/58846.jpg  \n",
            "  inflating: myntradataset/images/58847.jpg  \n",
            "  inflating: myntradataset/images/58848.jpg  \n",
            "  inflating: myntradataset/images/58849.jpg  \n",
            "  inflating: myntradataset/images/5885.jpg  \n",
            "  inflating: myntradataset/images/58850.jpg  \n",
            "  inflating: myntradataset/images/58851.jpg  \n",
            "  inflating: myntradataset/images/58852.jpg  \n",
            "  inflating: myntradataset/images/58853.jpg  \n",
            "  inflating: myntradataset/images/58854.jpg  \n",
            "  inflating: myntradataset/images/58855.jpg  \n",
            "  inflating: myntradataset/images/58856.jpg  \n",
            "  inflating: myntradataset/images/58857.jpg  \n",
            "  inflating: myntradataset/images/58858.jpg  \n",
            "  inflating: myntradataset/images/58859.jpg  \n",
            "  inflating: myntradataset/images/5886.jpg  \n",
            "  inflating: myntradataset/images/58860.jpg  \n",
            "  inflating: myntradataset/images/58861.jpg  \n",
            "  inflating: myntradataset/images/58862.jpg  \n",
            "  inflating: myntradataset/images/58863.jpg  \n",
            "  inflating: myntradataset/images/58864.jpg  \n",
            "  inflating: myntradataset/images/58865.jpg  \n",
            "  inflating: myntradataset/images/58867.jpg  \n",
            "  inflating: myntradataset/images/58868.jpg  \n",
            "  inflating: myntradataset/images/58869.jpg  \n",
            "  inflating: myntradataset/images/5887.jpg  \n",
            "  inflating: myntradataset/images/58870.jpg  \n",
            "  inflating: myntradataset/images/58871.jpg  \n",
            "  inflating: myntradataset/images/58872.jpg  \n",
            "  inflating: myntradataset/images/58873.jpg  \n",
            "  inflating: myntradataset/images/58874.jpg  \n",
            "  inflating: myntradataset/images/58875.jpg  \n",
            "  inflating: myntradataset/images/58876.jpg  \n",
            "  inflating: myntradataset/images/58877.jpg  \n",
            "  inflating: myntradataset/images/58878.jpg  \n",
            "  inflating: myntradataset/images/58879.jpg  \n",
            "  inflating: myntradataset/images/5888.jpg  \n",
            "  inflating: myntradataset/images/58880.jpg  \n",
            "  inflating: myntradataset/images/58881.jpg  \n",
            "  inflating: myntradataset/images/58882.jpg  \n",
            "  inflating: myntradataset/images/58883.jpg  \n",
            "  inflating: myntradataset/images/58884.jpg  \n",
            "  inflating: myntradataset/images/58885.jpg  \n",
            "  inflating: myntradataset/images/58886.jpg  \n",
            "  inflating: myntradataset/images/58887.jpg  \n",
            "  inflating: myntradataset/images/58888.jpg  \n",
            "  inflating: myntradataset/images/58889.jpg  \n",
            "  inflating: myntradataset/images/5889.jpg  \n",
            "  inflating: myntradataset/images/58890.jpg  \n",
            "  inflating: myntradataset/images/58891.jpg  \n",
            "  inflating: myntradataset/images/58892.jpg  \n",
            "  inflating: myntradataset/images/58893.jpg  \n",
            "  inflating: myntradataset/images/58894.jpg  \n",
            "  inflating: myntradataset/images/58895.jpg  \n",
            "  inflating: myntradataset/images/58896.jpg  \n",
            "  inflating: myntradataset/images/58897.jpg  \n",
            "  inflating: myntradataset/images/58898.jpg  \n",
            "  inflating: myntradataset/images/58899.jpg  \n",
            "  inflating: myntradataset/images/5890.jpg  \n",
            "  inflating: myntradataset/images/58900.jpg  \n",
            "  inflating: myntradataset/images/58901.jpg  \n",
            "  inflating: myntradataset/images/58902.jpg  \n",
            "  inflating: myntradataset/images/58903.jpg  \n",
            "  inflating: myntradataset/images/58904.jpg  \n",
            "  inflating: myntradataset/images/58905.jpg  \n",
            "  inflating: myntradataset/images/58906.jpg  \n",
            "  inflating: myntradataset/images/58907.jpg  \n",
            "  inflating: myntradataset/images/58908.jpg  \n",
            "  inflating: myntradataset/images/58909.jpg  \n",
            "  inflating: myntradataset/images/5891.jpg  \n",
            "  inflating: myntradataset/images/58910.jpg  \n",
            "  inflating: myntradataset/images/58911.jpg  \n",
            "  inflating: myntradataset/images/58912.jpg  \n",
            "  inflating: myntradataset/images/58913.jpg  \n",
            "  inflating: myntradataset/images/58914.jpg  \n",
            "  inflating: myntradataset/images/58915.jpg  \n",
            "  inflating: myntradataset/images/58916.jpg  \n",
            "  inflating: myntradataset/images/58917.jpg  \n",
            "  inflating: myntradataset/images/58918.jpg  \n",
            "  inflating: myntradataset/images/58919.jpg  \n",
            "  inflating: myntradataset/images/5892.jpg  \n",
            "  inflating: myntradataset/images/58920.jpg  \n",
            "  inflating: myntradataset/images/58921.jpg  \n",
            "  inflating: myntradataset/images/58922.jpg  \n",
            "  inflating: myntradataset/images/58923.jpg  \n",
            "  inflating: myntradataset/images/58924.jpg  \n",
            "  inflating: myntradataset/images/58925.jpg  \n",
            "  inflating: myntradataset/images/58926.jpg  \n",
            "  inflating: myntradataset/images/58928.jpg  \n",
            "  inflating: myntradataset/images/5893.jpg  \n",
            "  inflating: myntradataset/images/58931.jpg  \n",
            "  inflating: myntradataset/images/58932.jpg  \n",
            "  inflating: myntradataset/images/58934.jpg  \n",
            "  inflating: myntradataset/images/58935.jpg  \n",
            "  inflating: myntradataset/images/58937.jpg  \n",
            "  inflating: myntradataset/images/58939.jpg  \n",
            "  inflating: myntradataset/images/5894.jpg  \n",
            "  inflating: myntradataset/images/58940.jpg  \n",
            "  inflating: myntradataset/images/58941.jpg  \n",
            "  inflating: myntradataset/images/58942.jpg  \n",
            "  inflating: myntradataset/images/58943.jpg  \n",
            "  inflating: myntradataset/images/58944.jpg  \n",
            "  inflating: myntradataset/images/58945.jpg  \n",
            "  inflating: myntradataset/images/58946.jpg  \n",
            "  inflating: myntradataset/images/58947.jpg  \n",
            "  inflating: myntradataset/images/58948.jpg  \n",
            "  inflating: myntradataset/images/58949.jpg  \n",
            "  inflating: myntradataset/images/5895.jpg  \n",
            "  inflating: myntradataset/images/58950.jpg  \n",
            "  inflating: myntradataset/images/58951.jpg  \n",
            "  inflating: myntradataset/images/58952.jpg  \n",
            "  inflating: myntradataset/images/58954.jpg  \n",
            "  inflating: myntradataset/images/58955.jpg  \n",
            "  inflating: myntradataset/images/58956.jpg  \n",
            "  inflating: myntradataset/images/58958.jpg  \n",
            "  inflating: myntradataset/images/58959.jpg  \n",
            "  inflating: myntradataset/images/5896.jpg  \n",
            "  inflating: myntradataset/images/58960.jpg  \n",
            "  inflating: myntradataset/images/58961.jpg  \n",
            "  inflating: myntradataset/images/58962.jpg  \n",
            "  inflating: myntradataset/images/58963.jpg  \n",
            "  inflating: myntradataset/images/58964.jpg  \n",
            "  inflating: myntradataset/images/58965.jpg  \n",
            "  inflating: myntradataset/images/58966.jpg  \n",
            "  inflating: myntradataset/images/58967.jpg  \n",
            "  inflating: myntradataset/images/58968.jpg  \n",
            "  inflating: myntradataset/images/58969.jpg  \n",
            "  inflating: myntradataset/images/5897.jpg  \n",
            "  inflating: myntradataset/images/58970.jpg  \n",
            "  inflating: myntradataset/images/58971.jpg  \n",
            "  inflating: myntradataset/images/58972.jpg  \n",
            "  inflating: myntradataset/images/58973.jpg  \n",
            "  inflating: myntradataset/images/58974.jpg  \n",
            "  inflating: myntradataset/images/58975.jpg  \n",
            "  inflating: myntradataset/images/58976.jpg  \n",
            "  inflating: myntradataset/images/58977.jpg  \n",
            "  inflating: myntradataset/images/58978.jpg  \n",
            "  inflating: myntradataset/images/58979.jpg  \n",
            "  inflating: myntradataset/images/5898.jpg  \n",
            "  inflating: myntradataset/images/58980.jpg  \n",
            "  inflating: myntradataset/images/58981.jpg  \n",
            "  inflating: myntradataset/images/58982.jpg  \n",
            "  inflating: myntradataset/images/58983.jpg  \n",
            "  inflating: myntradataset/images/58984.jpg  \n",
            "  inflating: myntradataset/images/58985.jpg  \n",
            "  inflating: myntradataset/images/58986.jpg  \n",
            "  inflating: myntradataset/images/58987.jpg  \n",
            "  inflating: myntradataset/images/58988.jpg  \n",
            "  inflating: myntradataset/images/58989.jpg  \n",
            "  inflating: myntradataset/images/5899.jpg  \n",
            "  inflating: myntradataset/images/58990.jpg  \n",
            "  inflating: myntradataset/images/58991.jpg  \n",
            "  inflating: myntradataset/images/58992.jpg  \n",
            "  inflating: myntradataset/images/5900.jpg  \n",
            "  inflating: myntradataset/images/59002.jpg  \n",
            "  inflating: myntradataset/images/59003.jpg  \n",
            "  inflating: myntradataset/images/59004.jpg  \n",
            "  inflating: myntradataset/images/59005.jpg  \n",
            "  inflating: myntradataset/images/59006.jpg  \n",
            "  inflating: myntradataset/images/59008.jpg  \n",
            "  inflating: myntradataset/images/5901.jpg  \n",
            "  inflating: myntradataset/images/59010.jpg  \n",
            "  inflating: myntradataset/images/59011.jpg  \n",
            "  inflating: myntradataset/images/59012.jpg  \n",
            "  inflating: myntradataset/images/59013.jpg  \n",
            "  inflating: myntradataset/images/59014.jpg  \n",
            "  inflating: myntradataset/images/59015.jpg  \n",
            "  inflating: myntradataset/images/59016.jpg  \n",
            "  inflating: myntradataset/images/59017.jpg  \n",
            "  inflating: myntradataset/images/59018.jpg  \n",
            "  inflating: myntradataset/images/59019.jpg  \n",
            "  inflating: myntradataset/images/5902.jpg  \n",
            "  inflating: myntradataset/images/59020.jpg  \n",
            "  inflating: myntradataset/images/59021.jpg  \n",
            "  inflating: myntradataset/images/59022.jpg  \n",
            "  inflating: myntradataset/images/59023.jpg  \n",
            "  inflating: myntradataset/images/59024.jpg  \n",
            "  inflating: myntradataset/images/59025.jpg  \n",
            "  inflating: myntradataset/images/59026.jpg  \n",
            "  inflating: myntradataset/images/59027.jpg  \n",
            "  inflating: myntradataset/images/59028.jpg  \n",
            "  inflating: myntradataset/images/59029.jpg  \n",
            "  inflating: myntradataset/images/5903.jpg  \n",
            "  inflating: myntradataset/images/59030.jpg  \n",
            "  inflating: myntradataset/images/59031.jpg  \n",
            "  inflating: myntradataset/images/59032.jpg  \n",
            "  inflating: myntradataset/images/59033.jpg  \n",
            "  inflating: myntradataset/images/59034.jpg  \n",
            "  inflating: myntradataset/images/59035.jpg  \n",
            "  inflating: myntradataset/images/59036.jpg  \n",
            "  inflating: myntradataset/images/59037.jpg  \n",
            "  inflating: myntradataset/images/59038.jpg  \n",
            "  inflating: myntradataset/images/59039.jpg  \n",
            "  inflating: myntradataset/images/5904.jpg  \n",
            "  inflating: myntradataset/images/59040.jpg  \n",
            "  inflating: myntradataset/images/59042.jpg  \n",
            "  inflating: myntradataset/images/59043.jpg  \n",
            "  inflating: myntradataset/images/59044.jpg  \n",
            "  inflating: myntradataset/images/59045.jpg  \n",
            "  inflating: myntradataset/images/59046.jpg  \n",
            "  inflating: myntradataset/images/59047.jpg  \n",
            "  inflating: myntradataset/images/59048.jpg  \n",
            "  inflating: myntradataset/images/59049.jpg  \n",
            "  inflating: myntradataset/images/5905.jpg  \n",
            "  inflating: myntradataset/images/59050.jpg  \n",
            "  inflating: myntradataset/images/59051.jpg  \n",
            "  inflating: myntradataset/images/59052.jpg  \n",
            "  inflating: myntradataset/images/59053.jpg  \n",
            "  inflating: myntradataset/images/59054.jpg  \n",
            "  inflating: myntradataset/images/59055.jpg  \n",
            "  inflating: myntradataset/images/59056.jpg  \n",
            "  inflating: myntradataset/images/59058.jpg  \n",
            "  inflating: myntradataset/images/59059.jpg  \n",
            "  inflating: myntradataset/images/5906.jpg  \n",
            "  inflating: myntradataset/images/59060.jpg  \n",
            "  inflating: myntradataset/images/59061.jpg  \n",
            "  inflating: myntradataset/images/59062.jpg  \n",
            "  inflating: myntradataset/images/59063.jpg  \n",
            "  inflating: myntradataset/images/59064.jpg  \n",
            "  inflating: myntradataset/images/59065.jpg  \n",
            "  inflating: myntradataset/images/59066.jpg  \n",
            "  inflating: myntradataset/images/59067.jpg  \n",
            "  inflating: myntradataset/images/59068.jpg  \n",
            "  inflating: myntradataset/images/59069.jpg  \n",
            "  inflating: myntradataset/images/5907.jpg  \n",
            "  inflating: myntradataset/images/59070.jpg  \n",
            "  inflating: myntradataset/images/59071.jpg  \n",
            "  inflating: myntradataset/images/59072.jpg  \n",
            "  inflating: myntradataset/images/59073.jpg  \n",
            "  inflating: myntradataset/images/59074.jpg  \n",
            "  inflating: myntradataset/images/59075.jpg  \n",
            "  inflating: myntradataset/images/59076.jpg  \n",
            "  inflating: myntradataset/images/59077.jpg  \n",
            "  inflating: myntradataset/images/59078.jpg  \n",
            "  inflating: myntradataset/images/59079.jpg  \n",
            "  inflating: myntradataset/images/5908.jpg  \n",
            "  inflating: myntradataset/images/59080.jpg  \n",
            "  inflating: myntradataset/images/59081.jpg  \n",
            "  inflating: myntradataset/images/59082.jpg  \n",
            "  inflating: myntradataset/images/59083.jpg  \n",
            "  inflating: myntradataset/images/59084.jpg  \n",
            "  inflating: myntradataset/images/59085.jpg  \n",
            "  inflating: myntradataset/images/59086.jpg  \n",
            "  inflating: myntradataset/images/59087.jpg  \n",
            "  inflating: myntradataset/images/59088.jpg  \n",
            "  inflating: myntradataset/images/59089.jpg  \n",
            "  inflating: myntradataset/images/5909.jpg  \n",
            "  inflating: myntradataset/images/59090.jpg  \n",
            "  inflating: myntradataset/images/59091.jpg  \n",
            "  inflating: myntradataset/images/59092.jpg  \n",
            "  inflating: myntradataset/images/59093.jpg  \n",
            "  inflating: myntradataset/images/59094.jpg  \n",
            "  inflating: myntradataset/images/59095.jpg  \n",
            "  inflating: myntradataset/images/59096.jpg  \n",
            "  inflating: myntradataset/images/59097.jpg  \n",
            "  inflating: myntradataset/images/59098.jpg  \n",
            "  inflating: myntradataset/images/59099.jpg  \n",
            "  inflating: myntradataset/images/5910.jpg  \n",
            "  inflating: myntradataset/images/59100.jpg  \n",
            "  inflating: myntradataset/images/59101.jpg  \n",
            "  inflating: myntradataset/images/59102.jpg  \n",
            "  inflating: myntradataset/images/59103.jpg  \n",
            "  inflating: myntradataset/images/59104.jpg  \n",
            "  inflating: myntradataset/images/59105.jpg  \n",
            "  inflating: myntradataset/images/59106.jpg  \n",
            "  inflating: myntradataset/images/5911.jpg  \n",
            "  inflating: myntradataset/images/59112.jpg  \n",
            "  inflating: myntradataset/images/59115.jpg  \n",
            "  inflating: myntradataset/images/59116.jpg  \n",
            "  inflating: myntradataset/images/59117.jpg  \n",
            "  inflating: myntradataset/images/59118.jpg  \n",
            "  inflating: myntradataset/images/59119.jpg  \n",
            "  inflating: myntradataset/images/5912.jpg  \n",
            "  inflating: myntradataset/images/59120.jpg  \n",
            "  inflating: myntradataset/images/59121.jpg  \n",
            "  inflating: myntradataset/images/59122.jpg  \n",
            "  inflating: myntradataset/images/59123.jpg  \n",
            "  inflating: myntradataset/images/59124.jpg  \n",
            "  inflating: myntradataset/images/59126.jpg  \n",
            "  inflating: myntradataset/images/59127.jpg  \n",
            "  inflating: myntradataset/images/59128.jpg  \n",
            "  inflating: myntradataset/images/59129.jpg  \n",
            "  inflating: myntradataset/images/59130.jpg  \n",
            "  inflating: myntradataset/images/59131.jpg  \n",
            "  inflating: myntradataset/images/59132.jpg  \n",
            "  inflating: myntradataset/images/59133.jpg  \n",
            "  inflating: myntradataset/images/59142.jpg  \n",
            "  inflating: myntradataset/images/59143.jpg  \n",
            "  inflating: myntradataset/images/59144.jpg  \n",
            "  inflating: myntradataset/images/59145.jpg  \n",
            "  inflating: myntradataset/images/59146.jpg  \n",
            "  inflating: myntradataset/images/59147.jpg  \n",
            "  inflating: myntradataset/images/59149.jpg  \n",
            "  inflating: myntradataset/images/5915.jpg  \n",
            "  inflating: myntradataset/images/5916.jpg  \n",
            "  inflating: myntradataset/images/59160.jpg  \n",
            "  inflating: myntradataset/images/59161.jpg  \n",
            "  inflating: myntradataset/images/59165.jpg  \n",
            "  inflating: myntradataset/images/59166.jpg  \n",
            "  inflating: myntradataset/images/59167.jpg  \n",
            "  inflating: myntradataset/images/5917.jpg  \n",
            "  inflating: myntradataset/images/59172.jpg  \n",
            "  inflating: myntradataset/images/59173.jpg  \n",
            "  inflating: myntradataset/images/59174.jpg  \n",
            "  inflating: myntradataset/images/59175.jpg  \n",
            "  inflating: myntradataset/images/59176.jpg  \n",
            "  inflating: myntradataset/images/59177.jpg  \n",
            "  inflating: myntradataset/images/59178.jpg  \n",
            "  inflating: myntradataset/images/59181.jpg  \n",
            "  inflating: myntradataset/images/59185.jpg  \n",
            "  inflating: myntradataset/images/59187.jpg  \n",
            "  inflating: myntradataset/images/59188.jpg  \n",
            "  inflating: myntradataset/images/5919.jpg  \n",
            "  inflating: myntradataset/images/59190.jpg  \n",
            "  inflating: myntradataset/images/5920.jpg  \n",
            "  inflating: myntradataset/images/5921.jpg  \n",
            "  inflating: myntradataset/images/59212.jpg  \n",
            "  inflating: myntradataset/images/59213.jpg  \n",
            "  inflating: myntradataset/images/59214.jpg  \n",
            "  inflating: myntradataset/images/59215.jpg  \n",
            "  inflating: myntradataset/images/59216.jpg  \n",
            "  inflating: myntradataset/images/59217.jpg  \n",
            "  inflating: myntradataset/images/59218.jpg  \n",
            "  inflating: myntradataset/images/59219.jpg  \n",
            "  inflating: myntradataset/images/5922.jpg  \n",
            "  inflating: myntradataset/images/59220.jpg  \n",
            "  inflating: myntradataset/images/59221.jpg  \n",
            "  inflating: myntradataset/images/59222.jpg  \n",
            "  inflating: myntradataset/images/59223.jpg  \n",
            "  inflating: myntradataset/images/59224.jpg  \n",
            "  inflating: myntradataset/images/59225.jpg  \n",
            "  inflating: myntradataset/images/59226.jpg  \n",
            "  inflating: myntradataset/images/59227.jpg  \n",
            "  inflating: myntradataset/images/59228.jpg  \n",
            "  inflating: myntradataset/images/59229.jpg  \n",
            "  inflating: myntradataset/images/5923.jpg  \n",
            "  inflating: myntradataset/images/59230.jpg  \n",
            "  inflating: myntradataset/images/59231.jpg  \n",
            "  inflating: myntradataset/images/59232.jpg  \n",
            "  inflating: myntradataset/images/59233.jpg  \n",
            "  inflating: myntradataset/images/59235.jpg  \n",
            "  inflating: myntradataset/images/59236.jpg  \n",
            "  inflating: myntradataset/images/59237.jpg  \n",
            "  inflating: myntradataset/images/59238.jpg  \n",
            "  inflating: myntradataset/images/59239.jpg  \n",
            "  inflating: myntradataset/images/5924.jpg  \n",
            "  inflating: myntradataset/images/59240.jpg  \n",
            "  inflating: myntradataset/images/59241.jpg  \n",
            "  inflating: myntradataset/images/59242.jpg  \n",
            "  inflating: myntradataset/images/59243.jpg  \n",
            "  inflating: myntradataset/images/59244.jpg  \n",
            "  inflating: myntradataset/images/59245.jpg  \n",
            "  inflating: myntradataset/images/59246.jpg  \n",
            "  inflating: myntradataset/images/59247.jpg  \n",
            "  inflating: myntradataset/images/59248.jpg  \n",
            "  inflating: myntradataset/images/59249.jpg  \n",
            "  inflating: myntradataset/images/5925.jpg  \n",
            "  inflating: myntradataset/images/59250.jpg  \n",
            "  inflating: myntradataset/images/59251.jpg  \n",
            "  inflating: myntradataset/images/59252.jpg  \n",
            "  inflating: myntradataset/images/59253.jpg  \n",
            "  inflating: myntradataset/images/59254.jpg  \n",
            "  inflating: myntradataset/images/59255.jpg  \n",
            "  inflating: myntradataset/images/59256.jpg  \n",
            "  inflating: myntradataset/images/59257.jpg  \n",
            "  inflating: myntradataset/images/59258.jpg  \n",
            "  inflating: myntradataset/images/59259.jpg  \n",
            "  inflating: myntradataset/images/5926.jpg  \n",
            "  inflating: myntradataset/images/59260.jpg  \n",
            "  inflating: myntradataset/images/59261.jpg  \n",
            "  inflating: myntradataset/images/59262.jpg  \n",
            "  inflating: myntradataset/images/59263.jpg  \n",
            "  inflating: myntradataset/images/59264.jpg  \n",
            "  inflating: myntradataset/images/59265.jpg  \n",
            "  inflating: myntradataset/images/59266.jpg  \n",
            "  inflating: myntradataset/images/59267.jpg  \n",
            "  inflating: myntradataset/images/59268.jpg  \n",
            "  inflating: myntradataset/images/59269.jpg  \n",
            "  inflating: myntradataset/images/5927.jpg  \n",
            "  inflating: myntradataset/images/59270.jpg  \n",
            "  inflating: myntradataset/images/59271.jpg  \n",
            "  inflating: myntradataset/images/59272.jpg  \n",
            "  inflating: myntradataset/images/59273.jpg  \n",
            "  inflating: myntradataset/images/59274.jpg  \n",
            "  inflating: myntradataset/images/59275.jpg  \n",
            "  inflating: myntradataset/images/59276.jpg  \n",
            "  inflating: myntradataset/images/59277.jpg  \n",
            "  inflating: myntradataset/images/59278.jpg  \n",
            "  inflating: myntradataset/images/59279.jpg  \n",
            "  inflating: myntradataset/images/5928.jpg  \n",
            "  inflating: myntradataset/images/59280.jpg  \n",
            "  inflating: myntradataset/images/59281.jpg  \n",
            "  inflating: myntradataset/images/59282.jpg  \n",
            "  inflating: myntradataset/images/59283.jpg  \n",
            "  inflating: myntradataset/images/59284.jpg  \n",
            "  inflating: myntradataset/images/59286.jpg  \n",
            "  inflating: myntradataset/images/59287.jpg  \n",
            "  inflating: myntradataset/images/5929.jpg  \n",
            "  inflating: myntradataset/images/59290.jpg  \n",
            "  inflating: myntradataset/images/59291.jpg  \n",
            "  inflating: myntradataset/images/59292.jpg  \n",
            "  inflating: myntradataset/images/59293.jpg  \n",
            "  inflating: myntradataset/images/59294.jpg  \n",
            "  inflating: myntradataset/images/59295.jpg  \n",
            "  inflating: myntradataset/images/59296.jpg  \n",
            "  inflating: myntradataset/images/59297.jpg  \n",
            "  inflating: myntradataset/images/59298.jpg  \n",
            "  inflating: myntradataset/images/59299.jpg  \n",
            "  inflating: myntradataset/images/5930.jpg  \n",
            "  inflating: myntradataset/images/59300.jpg  \n",
            "  inflating: myntradataset/images/59301.jpg  \n",
            "  inflating: myntradataset/images/59302.jpg  \n",
            "  inflating: myntradataset/images/59303.jpg  \n",
            "  inflating: myntradataset/images/59304.jpg  \n",
            "  inflating: myntradataset/images/59305.jpg  \n",
            "  inflating: myntradataset/images/59306.jpg  \n",
            "  inflating: myntradataset/images/5931.jpg  \n",
            "  inflating: myntradataset/images/59311.jpg  \n",
            "  inflating: myntradataset/images/59312.jpg  \n",
            "  inflating: myntradataset/images/59315.jpg  \n",
            "  inflating: myntradataset/images/5932.jpg  \n",
            "  inflating: myntradataset/images/59323.jpg  \n",
            "  inflating: myntradataset/images/59324.jpg  \n",
            "  inflating: myntradataset/images/59326.jpg  \n",
            "  inflating: myntradataset/images/59329.jpg  \n",
            "  inflating: myntradataset/images/5933.jpg  \n",
            "  inflating: myntradataset/images/59330.jpg  \n",
            "  inflating: myntradataset/images/59338.jpg  \n",
            "  inflating: myntradataset/images/5934.jpg  \n",
            "  inflating: myntradataset/images/59342.jpg  \n",
            "  inflating: myntradataset/images/59349.jpg  \n",
            "  inflating: myntradataset/images/5935.jpg  \n",
            "  inflating: myntradataset/images/59352.jpg  \n",
            "  inflating: myntradataset/images/59353.jpg  \n",
            "  inflating: myntradataset/images/59354.jpg  \n",
            "  inflating: myntradataset/images/59355.jpg  \n",
            "  inflating: myntradataset/images/59356.jpg  \n",
            "  inflating: myntradataset/images/59357.jpg  \n",
            "  inflating: myntradataset/images/59358.jpg  \n",
            "  inflating: myntradataset/images/59359.jpg  \n",
            "  inflating: myntradataset/images/5936.jpg  \n",
            "  inflating: myntradataset/images/59360.jpg  \n",
            "  inflating: myntradataset/images/59361.jpg  \n",
            "  inflating: myntradataset/images/59362.jpg  \n",
            "  inflating: myntradataset/images/59363.jpg  \n",
            "  inflating: myntradataset/images/59364.jpg  \n",
            "  inflating: myntradataset/images/59365.jpg  \n",
            "  inflating: myntradataset/images/59366.jpg  \n",
            "  inflating: myntradataset/images/59367.jpg  \n",
            "  inflating: myntradataset/images/59368.jpg  \n",
            "  inflating: myntradataset/images/59369.jpg  \n",
            "  inflating: myntradataset/images/5937.jpg  \n",
            "  inflating: myntradataset/images/59370.jpg  \n",
            "  inflating: myntradataset/images/59371.jpg  \n",
            "  inflating: myntradataset/images/59372.jpg  \n",
            "  inflating: myntradataset/images/59373.jpg  \n",
            "  inflating: myntradataset/images/59374.jpg  \n",
            "  inflating: myntradataset/images/59375.jpg  \n",
            "  inflating: myntradataset/images/59376.jpg  \n",
            "  inflating: myntradataset/images/59377.jpg  \n",
            "  inflating: myntradataset/images/59378.jpg  \n",
            "  inflating: myntradataset/images/59379.jpg  \n",
            "  inflating: myntradataset/images/5938.jpg  \n",
            "  inflating: myntradataset/images/59380.jpg  \n",
            "  inflating: myntradataset/images/59381.jpg  \n",
            "  inflating: myntradataset/images/59382.jpg  \n",
            "  inflating: myntradataset/images/59383.jpg  \n",
            "  inflating: myntradataset/images/59387.jpg  \n",
            "  inflating: myntradataset/images/59388.jpg  \n",
            "  inflating: myntradataset/images/5939.jpg  \n",
            "  inflating: myntradataset/images/59390.jpg  \n",
            "  inflating: myntradataset/images/59396.jpg  \n",
            "  inflating: myntradataset/images/59399.jpg  \n",
            "  inflating: myntradataset/images/5940.jpg  \n",
            "  inflating: myntradataset/images/59400.jpg  \n",
            "  inflating: myntradataset/images/59403.jpg  \n",
            "  inflating: myntradataset/images/59404.jpg  \n",
            "  inflating: myntradataset/images/59405.jpg  \n",
            "  inflating: myntradataset/images/59407.jpg  \n",
            "  inflating: myntradataset/images/5941.jpg  \n",
            "  inflating: myntradataset/images/59410.jpg  \n",
            "  inflating: myntradataset/images/59413.jpg  \n",
            "  inflating: myntradataset/images/59418.jpg  \n",
            "  inflating: myntradataset/images/5942.jpg  \n",
            "  inflating: myntradataset/images/59421.jpg  \n",
            "  inflating: myntradataset/images/59422.jpg  \n",
            "  inflating: myntradataset/images/59428.jpg  \n",
            "  inflating: myntradataset/images/5943.jpg  \n",
            "  inflating: myntradataset/images/59430.jpg  \n",
            "  inflating: myntradataset/images/59432.jpg  \n",
            "  inflating: myntradataset/images/59433.jpg  \n",
            "  inflating: myntradataset/images/59435.jpg  \n",
            "  inflating: myntradataset/images/59436.jpg  \n",
            "  inflating: myntradataset/images/59437.jpg  \n",
            "  inflating: myntradataset/images/59439.jpg  \n",
            "  inflating: myntradataset/images/5944.jpg  \n",
            "  inflating: myntradataset/images/59440.jpg  \n",
            "  inflating: myntradataset/images/59441.jpg  \n",
            "  inflating: myntradataset/images/59442.jpg  \n",
            "  inflating: myntradataset/images/59443.jpg  \n",
            "  inflating: myntradataset/images/59444.jpg  \n",
            "  inflating: myntradataset/images/59445.jpg  \n",
            "  inflating: myntradataset/images/59446.jpg  \n",
            "  inflating: myntradataset/images/59448.jpg  \n",
            "  inflating: myntradataset/images/5945.jpg  \n",
            "  inflating: myntradataset/images/59451.jpg  \n",
            "  inflating: myntradataset/images/59452.jpg  \n",
            "  inflating: myntradataset/images/59453.jpg  \n",
            "  inflating: myntradataset/images/59454.jpg  \n",
            "  inflating: myntradataset/images/59455.jpg  \n",
            "  inflating: myntradataset/images/59456.jpg  \n",
            "  inflating: myntradataset/images/59457.jpg  \n",
            "  inflating: myntradataset/images/59458.jpg  \n",
            "  inflating: myntradataset/images/59459.jpg  \n",
            "  inflating: myntradataset/images/5946.jpg  \n",
            "  inflating: myntradataset/images/59460.jpg  \n",
            "  inflating: myntradataset/images/59461.jpg  \n",
            "  inflating: myntradataset/images/59462.jpg  \n",
            "  inflating: myntradataset/images/59463.jpg  \n",
            "  inflating: myntradataset/images/59464.jpg  \n",
            "  inflating: myntradataset/images/59465.jpg  \n",
            "  inflating: myntradataset/images/59466.jpg  \n",
            "  inflating: myntradataset/images/59467.jpg  \n",
            "  inflating: myntradataset/images/59468.jpg  \n",
            "  inflating: myntradataset/images/59469.jpg  \n",
            "  inflating: myntradataset/images/5947.jpg  \n",
            "  inflating: myntradataset/images/59470.jpg  \n",
            "  inflating: myntradataset/images/59471.jpg  \n",
            "  inflating: myntradataset/images/59474.jpg  \n",
            "  inflating: myntradataset/images/5948.jpg  \n",
            "  inflating: myntradataset/images/59481.jpg  \n",
            "  inflating: myntradataset/images/59484.jpg  \n",
            "  inflating: myntradataset/images/5949.jpg  \n",
            "  inflating: myntradataset/images/59498.jpg  \n",
            "  inflating: myntradataset/images/59499.jpg  \n",
            "  inflating: myntradataset/images/59501.jpg  \n",
            "  inflating: myntradataset/images/59502.jpg  \n",
            "  inflating: myntradataset/images/59503.jpg  \n",
            "  inflating: myntradataset/images/59504.jpg  \n",
            "  inflating: myntradataset/images/59505.jpg  \n",
            "  inflating: myntradataset/images/59507.jpg  \n",
            "  inflating: myntradataset/images/59508.jpg  \n",
            "  inflating: myntradataset/images/59509.jpg  \n",
            "  inflating: myntradataset/images/5951.jpg  \n",
            "  inflating: myntradataset/images/59510.jpg  \n",
            "  inflating: myntradataset/images/59511.jpg  \n",
            "  inflating: myntradataset/images/59512.jpg  \n",
            "  inflating: myntradataset/images/59513.jpg  \n",
            "  inflating: myntradataset/images/59514.jpg  \n",
            "  inflating: myntradataset/images/59515.jpg  \n",
            "  inflating: myntradataset/images/59516.jpg  \n",
            "  inflating: myntradataset/images/59518.jpg  \n",
            "  inflating: myntradataset/images/59519.jpg  \n",
            "  inflating: myntradataset/images/5952.jpg  \n",
            "  inflating: myntradataset/images/59520.jpg  \n",
            "  inflating: myntradataset/images/59521.jpg  \n",
            "  inflating: myntradataset/images/59522.jpg  \n",
            "  inflating: myntradataset/images/59523.jpg  \n",
            "  inflating: myntradataset/images/59524.jpg  \n",
            "  inflating: myntradataset/images/59525.jpg  \n",
            "  inflating: myntradataset/images/59526.jpg  \n",
            "  inflating: myntradataset/images/59527.jpg  \n",
            "  inflating: myntradataset/images/59528.jpg  \n",
            "  inflating: myntradataset/images/59529.jpg  \n",
            "  inflating: myntradataset/images/5953.jpg  \n",
            "  inflating: myntradataset/images/59530.jpg  \n",
            "  inflating: myntradataset/images/59531.jpg  \n",
            "  inflating: myntradataset/images/59532.jpg  \n",
            "  inflating: myntradataset/images/59533.jpg  \n",
            "  inflating: myntradataset/images/59534.jpg  \n",
            "  inflating: myntradataset/images/59535.jpg  \n",
            "  inflating: myntradataset/images/59537.jpg  \n",
            "  inflating: myntradataset/images/5954.jpg  \n",
            "  inflating: myntradataset/images/59541.jpg  \n",
            "  inflating: myntradataset/images/59543.jpg  \n",
            "  inflating: myntradataset/images/59544.jpg  \n",
            "  inflating: myntradataset/images/59545.jpg  \n",
            "  inflating: myntradataset/images/59546.jpg  \n",
            "  inflating: myntradataset/images/59547.jpg  \n",
            "  inflating: myntradataset/images/5955.jpg  \n",
            "  inflating: myntradataset/images/59550.jpg  \n",
            "  inflating: myntradataset/images/59551.jpg  \n",
            "  inflating: myntradataset/images/59552.jpg  \n",
            "  inflating: myntradataset/images/59553.jpg  \n",
            "  inflating: myntradataset/images/59554.jpg  \n",
            "  inflating: myntradataset/images/59555.jpg  \n",
            "  inflating: myntradataset/images/59556.jpg  \n",
            "  inflating: myntradataset/images/59557.jpg  \n",
            "  inflating: myntradataset/images/59558.jpg  \n",
            "  inflating: myntradataset/images/59559.jpg  \n",
            "  inflating: myntradataset/images/5956.jpg  \n",
            "  inflating: myntradataset/images/59560.jpg  \n",
            "  inflating: myntradataset/images/59561.jpg  \n",
            "  inflating: myntradataset/images/59563.jpg  \n",
            "  inflating: myntradataset/images/59564.jpg  \n",
            "  inflating: myntradataset/images/59565.jpg  \n",
            "  inflating: myntradataset/images/59566.jpg  \n",
            "  inflating: myntradataset/images/59567.jpg  \n",
            "  inflating: myntradataset/images/59568.jpg  \n",
            "  inflating: myntradataset/images/59569.jpg  \n",
            "  inflating: myntradataset/images/5957.jpg  \n",
            "  inflating: myntradataset/images/59570.jpg  \n",
            "  inflating: myntradataset/images/59571.jpg  \n",
            "  inflating: myntradataset/images/59572.jpg  \n",
            "  inflating: myntradataset/images/59573.jpg  \n",
            "  inflating: myntradataset/images/59574.jpg  \n",
            "  inflating: myntradataset/images/59575.jpg  \n",
            "  inflating: myntradataset/images/59576.jpg  \n",
            "  inflating: myntradataset/images/59577.jpg  \n",
            "  inflating: myntradataset/images/59578.jpg  \n",
            "  inflating: myntradataset/images/59579.jpg  \n",
            "  inflating: myntradataset/images/5958.jpg  \n",
            "  inflating: myntradataset/images/59580.jpg  \n",
            "  inflating: myntradataset/images/59581.jpg  \n",
            "  inflating: myntradataset/images/59582.jpg  \n",
            "  inflating: myntradataset/images/59583.jpg  \n",
            "  inflating: myntradataset/images/59584.jpg  \n",
            "  inflating: myntradataset/images/59585.jpg  \n",
            "  inflating: myntradataset/images/59586.jpg  \n",
            "  inflating: myntradataset/images/59587.jpg  \n",
            "  inflating: myntradataset/images/59589.jpg  \n",
            "  inflating: myntradataset/images/5959.jpg  \n",
            "  inflating: myntradataset/images/59590.jpg  \n",
            "  inflating: myntradataset/images/59591.jpg  \n",
            "  inflating: myntradataset/images/59592.jpg  \n",
            "  inflating: myntradataset/images/59593.jpg  \n",
            "  inflating: myntradataset/images/59594.jpg  \n",
            "  inflating: myntradataset/images/59595.jpg  \n",
            "  inflating: myntradataset/images/59596.jpg  \n",
            "  inflating: myntradataset/images/59597.jpg  \n",
            "  inflating: myntradataset/images/59598.jpg  \n",
            "  inflating: myntradataset/images/59599.jpg  \n",
            "  inflating: myntradataset/images/5960.jpg  \n",
            "  inflating: myntradataset/images/59600.jpg  \n",
            "  inflating: myntradataset/images/59601.jpg  \n",
            "  inflating: myntradataset/images/59603.jpg  \n",
            "  inflating: myntradataset/images/59604.jpg  \n",
            "  inflating: myntradataset/images/59606.jpg  \n",
            "  inflating: myntradataset/images/59607.jpg  \n",
            "  inflating: myntradataset/images/59608.jpg  \n",
            "  inflating: myntradataset/images/59609.jpg  \n",
            "  inflating: myntradataset/images/59610.jpg  \n",
            "  inflating: myntradataset/images/59611.jpg  \n",
            "  inflating: myntradataset/images/59612.jpg  \n",
            "  inflating: myntradataset/images/59613.jpg  \n",
            "  inflating: myntradataset/images/59614.jpg  \n",
            "  inflating: myntradataset/images/59615.jpg  \n",
            "  inflating: myntradataset/images/59616.jpg  \n",
            "  inflating: myntradataset/images/59618.jpg  \n",
            "  inflating: myntradataset/images/59619.jpg  \n",
            "  inflating: myntradataset/images/5962.jpg  \n",
            "  inflating: myntradataset/images/59620.jpg  \n",
            "  inflating: myntradataset/images/59621.jpg  \n",
            "  inflating: myntradataset/images/59622.jpg  \n",
            "  inflating: myntradataset/images/59623.jpg  \n",
            "  inflating: myntradataset/images/59624.jpg  \n",
            "  inflating: myntradataset/images/59625.jpg  \n",
            "  inflating: myntradataset/images/59626.jpg  \n",
            "  inflating: myntradataset/images/59628.jpg  \n",
            "  inflating: myntradataset/images/5963.jpg  \n",
            "  inflating: myntradataset/images/59630.jpg  \n",
            "  inflating: myntradataset/images/59631.jpg  \n",
            "  inflating: myntradataset/images/59632.jpg  \n",
            "  inflating: myntradataset/images/59633.jpg  \n",
            "  inflating: myntradataset/images/59634.jpg  \n",
            "  inflating: myntradataset/images/59635.jpg  \n",
            "  inflating: myntradataset/images/59636.jpg  \n",
            "  inflating: myntradataset/images/59637.jpg  \n",
            "  inflating: myntradataset/images/59638.jpg  \n",
            "  inflating: myntradataset/images/59639.jpg  \n",
            "  inflating: myntradataset/images/5964.jpg  \n",
            "  inflating: myntradataset/images/59640.jpg  \n",
            "  inflating: myntradataset/images/59641.jpg  \n",
            "  inflating: myntradataset/images/59642.jpg  \n",
            "  inflating: myntradataset/images/59643.jpg  \n",
            "  inflating: myntradataset/images/59644.jpg  \n",
            "  inflating: myntradataset/images/59645.jpg  \n",
            "  inflating: myntradataset/images/59646.jpg  \n",
            "  inflating: myntradataset/images/59647.jpg  \n",
            "  inflating: myntradataset/images/59648.jpg  \n",
            "  inflating: myntradataset/images/59649.jpg  \n",
            "  inflating: myntradataset/images/59650.jpg  \n",
            "  inflating: myntradataset/images/59651.jpg  \n",
            "  inflating: myntradataset/images/59652.jpg  \n",
            "  inflating: myntradataset/images/59653.jpg  \n",
            "  inflating: myntradataset/images/59654.jpg  \n",
            "  inflating: myntradataset/images/59655.jpg  \n",
            "  inflating: myntradataset/images/59656.jpg  \n",
            "  inflating: myntradataset/images/59657.jpg  \n",
            "  inflating: myntradataset/images/59658.jpg  \n",
            "  inflating: myntradataset/images/59659.jpg  \n",
            "  inflating: myntradataset/images/5966.jpg  \n",
            "  inflating: myntradataset/images/59660.jpg  \n",
            "  inflating: myntradataset/images/59661.jpg  \n",
            "  inflating: myntradataset/images/59662.jpg  \n",
            "  inflating: myntradataset/images/59663.jpg  \n",
            "  inflating: myntradataset/images/59664.jpg  \n",
            "  inflating: myntradataset/images/59665.jpg  \n",
            "  inflating: myntradataset/images/59666.jpg  \n",
            "  inflating: myntradataset/images/59667.jpg  \n",
            "  inflating: myntradataset/images/59668.jpg  \n",
            "  inflating: myntradataset/images/59669.jpg  \n",
            "  inflating: myntradataset/images/5967.jpg  \n",
            "  inflating: myntradataset/images/59670.jpg  \n",
            "  inflating: myntradataset/images/59672.jpg  \n",
            "  inflating: myntradataset/images/59673.jpg  \n",
            "  inflating: myntradataset/images/59674.jpg  \n",
            "  inflating: myntradataset/images/59675.jpg  \n",
            "  inflating: myntradataset/images/59676.jpg  \n",
            "  inflating: myntradataset/images/59677.jpg  \n",
            "  inflating: myntradataset/images/59678.jpg  \n",
            "  inflating: myntradataset/images/59679.jpg  \n",
            "  inflating: myntradataset/images/59680.jpg  \n",
            "  inflating: myntradataset/images/59681.jpg  \n",
            "  inflating: myntradataset/images/59682.jpg  \n",
            "  inflating: myntradataset/images/59683.jpg  \n",
            "  inflating: myntradataset/images/59684.jpg  \n",
            "  inflating: myntradataset/images/59685.jpg  \n",
            "  inflating: myntradataset/images/59686.jpg  \n",
            "  inflating: myntradataset/images/59687.jpg  \n",
            "  inflating: myntradataset/images/59688.jpg  \n",
            "  inflating: myntradataset/images/59689.jpg  \n",
            "  inflating: myntradataset/images/5969.jpg  \n",
            "  inflating: myntradataset/images/59690.jpg  \n",
            "  inflating: myntradataset/images/59691.jpg  \n",
            "  inflating: myntradataset/images/59692.jpg  \n",
            "  inflating: myntradataset/images/59693.jpg  \n",
            "  inflating: myntradataset/images/59694.jpg  \n",
            "  inflating: myntradataset/images/59695.jpg  \n",
            "  inflating: myntradataset/images/59696.jpg  \n",
            "  inflating: myntradataset/images/59697.jpg  \n",
            "  inflating: myntradataset/images/59698.jpg  \n",
            "  inflating: myntradataset/images/59699.jpg  \n",
            "  inflating: myntradataset/images/5970.jpg  \n",
            "  inflating: myntradataset/images/59700.jpg  \n",
            "  inflating: myntradataset/images/59701.jpg  \n",
            "  inflating: myntradataset/images/59702.jpg  \n",
            "  inflating: myntradataset/images/59703.jpg  \n",
            "  inflating: myntradataset/images/59704.jpg  \n",
            "  inflating: myntradataset/images/59705.jpg  \n",
            "  inflating: myntradataset/images/59706.jpg  \n",
            "  inflating: myntradataset/images/59707.jpg  \n",
            "  inflating: myntradataset/images/59708.jpg  \n",
            "  inflating: myntradataset/images/59709.jpg  \n",
            "  inflating: myntradataset/images/5971.jpg  \n",
            "  inflating: myntradataset/images/59710.jpg  \n",
            "  inflating: myntradataset/images/59711.jpg  \n",
            "  inflating: myntradataset/images/59712.jpg  \n",
            "  inflating: myntradataset/images/59713.jpg  \n",
            "  inflating: myntradataset/images/59714.jpg  \n",
            "  inflating: myntradataset/images/59715.jpg  \n",
            "  inflating: myntradataset/images/59716.jpg  \n",
            "  inflating: myntradataset/images/59717.jpg  \n",
            "  inflating: myntradataset/images/59718.jpg  \n",
            "  inflating: myntradataset/images/59719.jpg  \n",
            "  inflating: myntradataset/images/5972.jpg  \n",
            "  inflating: myntradataset/images/59720.jpg  \n",
            "  inflating: myntradataset/images/59721.jpg  \n",
            "  inflating: myntradataset/images/59722.jpg  \n",
            "  inflating: myntradataset/images/59723.jpg  \n",
            "  inflating: myntradataset/images/59724.jpg  \n",
            "  inflating: myntradataset/images/59725.jpg  \n",
            "  inflating: myntradataset/images/59726.jpg  \n",
            "  inflating: myntradataset/images/59727.jpg  \n",
            "  inflating: myntradataset/images/59728.jpg  \n",
            "  inflating: myntradataset/images/59729.jpg  \n",
            "  inflating: myntradataset/images/5973.jpg  \n",
            "  inflating: myntradataset/images/59730.jpg  \n",
            "  inflating: myntradataset/images/59731.jpg  \n",
            "  inflating: myntradataset/images/59732.jpg  \n",
            "  inflating: myntradataset/images/59733.jpg  \n",
            "  inflating: myntradataset/images/59734.jpg  \n",
            "  inflating: myntradataset/images/59735.jpg  \n",
            "  inflating: myntradataset/images/59736.jpg  \n",
            "  inflating: myntradataset/images/59739.jpg  \n",
            "  inflating: myntradataset/images/5974.jpg  \n",
            "  inflating: myntradataset/images/59740.jpg  \n",
            "  inflating: myntradataset/images/59741.jpg  \n",
            "  inflating: myntradataset/images/59742.jpg  \n",
            "  inflating: myntradataset/images/59743.jpg  \n",
            "  inflating: myntradataset/images/59744.jpg  \n",
            "  inflating: myntradataset/images/59745.jpg  \n",
            "  inflating: myntradataset/images/59746.jpg  \n",
            "  inflating: myntradataset/images/59747.jpg  \n",
            "  inflating: myntradataset/images/59748.jpg  \n",
            "  inflating: myntradataset/images/59749.jpg  \n",
            "  inflating: myntradataset/images/5975.jpg  \n",
            "  inflating: myntradataset/images/59750.jpg  \n",
            "  inflating: myntradataset/images/59751.jpg  \n",
            "  inflating: myntradataset/images/59752.jpg  \n",
            "  inflating: myntradataset/images/59753.jpg  \n",
            "  inflating: myntradataset/images/59754.jpg  \n",
            "  inflating: myntradataset/images/59755.jpg  \n",
            "  inflating: myntradataset/images/59756.jpg  \n",
            "  inflating: myntradataset/images/59757.jpg  \n",
            "  inflating: myntradataset/images/59758.jpg  \n",
            "  inflating: myntradataset/images/59759.jpg  \n",
            "  inflating: myntradataset/images/5976.jpg  \n",
            "  inflating: myntradataset/images/59760.jpg  \n",
            "  inflating: myntradataset/images/59761.jpg  \n",
            "  inflating: myntradataset/images/59762.jpg  \n",
            "  inflating: myntradataset/images/59763.jpg  \n",
            "  inflating: myntradataset/images/59764.jpg  \n",
            "  inflating: myntradataset/images/59765.jpg  \n",
            "  inflating: myntradataset/images/59766.jpg  \n",
            "  inflating: myntradataset/images/59767.jpg  \n",
            "  inflating: myntradataset/images/59768.jpg  \n",
            "  inflating: myntradataset/images/59769.jpg  \n",
            "  inflating: myntradataset/images/59770.jpg  \n",
            "  inflating: myntradataset/images/59771.jpg  \n",
            "  inflating: myntradataset/images/59772.jpg  \n",
            "  inflating: myntradataset/images/59773.jpg  \n",
            "  inflating: myntradataset/images/59774.jpg  \n",
            "  inflating: myntradataset/images/59775.jpg  \n",
            "  inflating: myntradataset/images/59776.jpg  \n",
            "  inflating: myntradataset/images/59777.jpg  \n",
            "  inflating: myntradataset/images/59778.jpg  \n",
            "  inflating: myntradataset/images/59779.jpg  \n",
            "  inflating: myntradataset/images/5978.jpg  \n",
            "  inflating: myntradataset/images/59780.jpg  \n",
            "  inflating: myntradataset/images/59781.jpg  \n",
            "  inflating: myntradataset/images/59782.jpg  \n",
            "  inflating: myntradataset/images/59783.jpg  \n",
            "  inflating: myntradataset/images/59784.jpg  \n",
            "  inflating: myntradataset/images/5979.jpg  \n",
            "  inflating: myntradataset/images/59794.jpg  \n",
            "  inflating: myntradataset/images/59795.jpg  \n",
            "  inflating: myntradataset/images/59796.jpg  \n",
            "  inflating: myntradataset/images/59797.jpg  \n",
            "  inflating: myntradataset/images/5980.jpg  \n",
            "  inflating: myntradataset/images/5981.jpg  \n",
            "  inflating: myntradataset/images/59810.jpg  \n",
            "  inflating: myntradataset/images/59811.jpg  \n",
            "  inflating: myntradataset/images/59813.jpg  \n",
            "  inflating: myntradataset/images/59814.jpg  \n",
            "  inflating: myntradataset/images/59819.jpg  \n",
            "  inflating: myntradataset/images/5982.jpg  \n",
            "  inflating: myntradataset/images/59824.jpg  \n",
            "  inflating: myntradataset/images/59826.jpg  \n",
            "  inflating: myntradataset/images/59827.jpg  \n",
            "  inflating: myntradataset/images/5983.jpg  \n",
            "  inflating: myntradataset/images/59832.jpg  \n",
            "  inflating: myntradataset/images/59833.jpg  \n",
            "  inflating: myntradataset/images/59834.jpg  \n",
            "  inflating: myntradataset/images/59838.jpg  \n",
            "  inflating: myntradataset/images/59839.jpg  \n",
            "  inflating: myntradataset/images/5984.jpg  \n",
            "  inflating: myntradataset/images/5985.jpg  \n",
            "  inflating: myntradataset/images/59851.jpg  \n",
            "  inflating: myntradataset/images/59853.jpg  \n",
            "  inflating: myntradataset/images/59856.jpg  \n",
            "  inflating: myntradataset/images/59858.jpg  \n",
            "  inflating: myntradataset/images/59859.jpg  \n",
            "  inflating: myntradataset/images/5986.jpg  \n",
            "  inflating: myntradataset/images/59860.jpg  \n",
            "  inflating: myntradataset/images/59862.jpg  \n",
            "  inflating: myntradataset/images/59863.jpg  \n",
            "  inflating: myntradataset/images/59866.jpg  \n",
            "  inflating: myntradataset/images/5987.jpg  \n",
            "  inflating: myntradataset/images/59872.jpg  \n",
            "  inflating: myntradataset/images/59873.jpg  \n",
            "  inflating: myntradataset/images/59874.jpg  \n",
            "  inflating: myntradataset/images/59875.jpg  \n",
            "  inflating: myntradataset/images/59876.jpg  \n",
            "  inflating: myntradataset/images/59877.jpg  \n",
            "  inflating: myntradataset/images/59878.jpg  \n",
            "  inflating: myntradataset/images/59879.jpg  \n",
            "  inflating: myntradataset/images/5988.jpg  \n",
            "  inflating: myntradataset/images/59880.jpg  \n",
            "  inflating: myntradataset/images/59881.jpg  \n",
            "  inflating: myntradataset/images/59882.jpg  \n",
            "  inflating: myntradataset/images/59883.jpg  \n",
            "  inflating: myntradataset/images/59884.jpg  \n",
            "  inflating: myntradataset/images/59885.jpg  \n",
            "  inflating: myntradataset/images/59886.jpg  \n",
            "  inflating: myntradataset/images/59887.jpg  \n",
            "  inflating: myntradataset/images/59888.jpg  \n",
            "  inflating: myntradataset/images/59889.jpg  \n",
            "  inflating: myntradataset/images/59890.jpg  \n",
            "  inflating: myntradataset/images/59891.jpg  \n",
            "  inflating: myntradataset/images/59892.jpg  \n",
            "  inflating: myntradataset/images/59893.jpg  \n",
            "  inflating: myntradataset/images/59894.jpg  \n",
            "  inflating: myntradataset/images/59895.jpg  \n",
            "  inflating: myntradataset/images/59896.jpg  \n",
            "  inflating: myntradataset/images/59897.jpg  \n",
            "  inflating: myntradataset/images/59898.jpg  \n",
            "  inflating: myntradataset/images/5990.jpg  \n",
            "  inflating: myntradataset/images/59900.jpg  \n",
            "  inflating: myntradataset/images/59901.jpg  \n",
            "  inflating: myntradataset/images/59902.jpg  \n",
            "  inflating: myntradataset/images/59903.jpg  \n",
            "  inflating: myntradataset/images/59904.jpg  \n",
            "  inflating: myntradataset/images/59905.jpg  \n",
            "  inflating: myntradataset/images/59906.jpg  \n",
            "  inflating: myntradataset/images/59907.jpg  \n",
            "  inflating: myntradataset/images/59908.jpg  \n",
            "  inflating: myntradataset/images/59909.jpg  \n",
            "  inflating: myntradataset/images/5991.jpg  \n",
            "  inflating: myntradataset/images/59910.jpg  \n",
            "  inflating: myntradataset/images/59911.jpg  \n",
            "  inflating: myntradataset/images/59912.jpg  \n",
            "  inflating: myntradataset/images/59914.jpg  \n",
            "  inflating: myntradataset/images/59915.jpg  \n",
            "  inflating: myntradataset/images/59916.jpg  \n",
            "  inflating: myntradataset/images/59917.jpg  \n",
            "  inflating: myntradataset/images/59918.jpg  \n",
            "  inflating: myntradataset/images/59919.jpg  \n",
            "  inflating: myntradataset/images/5992.jpg  \n",
            "  inflating: myntradataset/images/59920.jpg  \n",
            "  inflating: myntradataset/images/59921.jpg  \n",
            "  inflating: myntradataset/images/59922.jpg  \n",
            "  inflating: myntradataset/images/59923.jpg  \n",
            "  inflating: myntradataset/images/59924.jpg  \n",
            "  inflating: myntradataset/images/59925.jpg  \n",
            "  inflating: myntradataset/images/59926.jpg  \n",
            "  inflating: myntradataset/images/59927.jpg  \n",
            "  inflating: myntradataset/images/59928.jpg  \n",
            "  inflating: myntradataset/images/59929.jpg  \n",
            "  inflating: myntradataset/images/5993.jpg  \n",
            "  inflating: myntradataset/images/59930.jpg  \n",
            "  inflating: myntradataset/images/59931.jpg  \n",
            "  inflating: myntradataset/images/59932.jpg  \n",
            "  inflating: myntradataset/images/59933.jpg  \n",
            "  inflating: myntradataset/images/59934.jpg  \n",
            "  inflating: myntradataset/images/59935.jpg  \n",
            "  inflating: myntradataset/images/59936.jpg  \n",
            "  inflating: myntradataset/images/59937.jpg  \n",
            "  inflating: myntradataset/images/59938.jpg  \n",
            "  inflating: myntradataset/images/59939.jpg  \n",
            "  inflating: myntradataset/images/5994.jpg  \n",
            "  inflating: myntradataset/images/59940.jpg  \n",
            "  inflating: myntradataset/images/59941.jpg  \n",
            "  inflating: myntradataset/images/59942.jpg  \n",
            "  inflating: myntradataset/images/59943.jpg  \n",
            "  inflating: myntradataset/images/59944.jpg  \n",
            "  inflating: myntradataset/images/59945.jpg  \n",
            "  inflating: myntradataset/images/59946.jpg  \n",
            "  inflating: myntradataset/images/59947.jpg  \n",
            "  inflating: myntradataset/images/59948.jpg  \n",
            "  inflating: myntradataset/images/59949.jpg  \n",
            "  inflating: myntradataset/images/5995.jpg  \n",
            "  inflating: myntradataset/images/59950.jpg  \n",
            "  inflating: myntradataset/images/59951.jpg  \n",
            "  inflating: myntradataset/images/5996.jpg  \n",
            "  inflating: myntradataset/images/59961.jpg  \n",
            "  inflating: myntradataset/images/59962.jpg  \n",
            "  inflating: myntradataset/images/59963.jpg  \n",
            "  inflating: myntradataset/images/59964.jpg  \n",
            "  inflating: myntradataset/images/59965.jpg  \n",
            "  inflating: myntradataset/images/59966.jpg  \n",
            "  inflating: myntradataset/images/59967.jpg  \n",
            "  inflating: myntradataset/images/59968.jpg  \n",
            "  inflating: myntradataset/images/59969.jpg  \n",
            "  inflating: myntradataset/images/59970.jpg  \n",
            "  inflating: myntradataset/images/59971.jpg  \n",
            "  inflating: myntradataset/images/59972.jpg  \n",
            "  inflating: myntradataset/images/59973.jpg  \n",
            "  inflating: myntradataset/images/59974.jpg  \n",
            "  inflating: myntradataset/images/59975.jpg  \n",
            "  inflating: myntradataset/images/59976.jpg  \n",
            "  inflating: myntradataset/images/59977.jpg  \n",
            "  inflating: myntradataset/images/59978.jpg  \n",
            "  inflating: myntradataset/images/59979.jpg  \n",
            "  inflating: myntradataset/images/5998.jpg  \n",
            "  inflating: myntradataset/images/59980.jpg  \n",
            "  inflating: myntradataset/images/59981.jpg  \n",
            "  inflating: myntradataset/images/59982.jpg  \n",
            "  inflating: myntradataset/images/59983.jpg  \n",
            "  inflating: myntradataset/images/59984.jpg  \n",
            "  inflating: myntradataset/images/59985.jpg  \n",
            "  inflating: myntradataset/images/59986.jpg  \n",
            "  inflating: myntradataset/images/59987.jpg  \n",
            "  inflating: myntradataset/images/59988.jpg  \n",
            "  inflating: myntradataset/images/59989.jpg  \n",
            "  inflating: myntradataset/images/5999.jpg  \n",
            "  inflating: myntradataset/images/59990.jpg  \n",
            "  inflating: myntradataset/images/59991.jpg  \n",
            "  inflating: myntradataset/images/59992.jpg  \n",
            "  inflating: myntradataset/images/59993.jpg  \n",
            "  inflating: myntradataset/images/59994.jpg  \n",
            "  inflating: myntradataset/images/59995.jpg  \n",
            "  inflating: myntradataset/images/59996.jpg  \n",
            "  inflating: myntradataset/images/59998.jpg  \n",
            "  inflating: myntradataset/images/59999.jpg  \n",
            "  inflating: myntradataset/images/60000.jpg  \n",
            "  inflating: myntradataset/images/6001.jpg  \n",
            "  inflating: myntradataset/images/6002.jpg  \n",
            "  inflating: myntradataset/images/6003.jpg  \n",
            "  inflating: myntradataset/images/6004.jpg  \n",
            "  inflating: myntradataset/images/6005.jpg  \n",
            "  inflating: myntradataset/images/6006.jpg  \n",
            "  inflating: myntradataset/images/6007.jpg  \n",
            "  inflating: myntradataset/images/6008.jpg  \n",
            "  inflating: myntradataset/images/6009.jpg  \n",
            "  inflating: myntradataset/images/6010.jpg  \n",
            "  inflating: myntradataset/images/6011.jpg  \n",
            "  inflating: myntradataset/images/6012.jpg  \n",
            "  inflating: myntradataset/images/6013.jpg  \n",
            "  inflating: myntradataset/images/6014.jpg  \n",
            "  inflating: myntradataset/images/6015.jpg  \n",
            "  inflating: myntradataset/images/6016.jpg  \n",
            "  inflating: myntradataset/images/6017.jpg  \n",
            "  inflating: myntradataset/images/6020.jpg  \n",
            "  inflating: myntradataset/images/6021.jpg  \n",
            "  inflating: myntradataset/images/6022.jpg  \n",
            "  inflating: myntradataset/images/6023.jpg  \n",
            "  inflating: myntradataset/images/6024.jpg  \n",
            "  inflating: myntradataset/images/6025.jpg  \n",
            "  inflating: myntradataset/images/6026.jpg  \n",
            "  inflating: myntradataset/images/6027.jpg  \n",
            "  inflating: myntradataset/images/6029.jpg  \n",
            "  inflating: myntradataset/images/6030.jpg  \n",
            "  inflating: myntradataset/images/6031.jpg  \n",
            "  inflating: myntradataset/images/6032.jpg  \n",
            "  inflating: myntradataset/images/6033.jpg  \n",
            "  inflating: myntradataset/images/6035.jpg  \n",
            "  inflating: myntradataset/images/6036.jpg  \n",
            "  inflating: myntradataset/images/6037.jpg  \n",
            "  inflating: myntradataset/images/6038.jpg  \n",
            "  inflating: myntradataset/images/6039.jpg  \n",
            "  inflating: myntradataset/images/6040.jpg  \n",
            "  inflating: myntradataset/images/6041.jpg  \n",
            "  inflating: myntradataset/images/6042.jpg  \n",
            "  inflating: myntradataset/images/6043.jpg  \n",
            "  inflating: myntradataset/images/6044.jpg  \n",
            "  inflating: myntradataset/images/6046.jpg  \n",
            "  inflating: myntradataset/images/6048.jpg  \n",
            "  inflating: myntradataset/images/6049.jpg  \n",
            "  inflating: myntradataset/images/6052.jpg  \n",
            "  inflating: myntradataset/images/6053.jpg  \n",
            "  inflating: myntradataset/images/6054.jpg  \n",
            "  inflating: myntradataset/images/6055.jpg  \n",
            "  inflating: myntradataset/images/6057.jpg  \n",
            "  inflating: myntradataset/images/6059.jpg  \n",
            "  inflating: myntradataset/images/6060.jpg  \n",
            "  inflating: myntradataset/images/6061.jpg  \n",
            "  inflating: myntradataset/images/6062.jpg  \n",
            "  inflating: myntradataset/images/6063.jpg  \n",
            "  inflating: myntradataset/images/6064.jpg  \n",
            "  inflating: myntradataset/images/6065.jpg  \n",
            "  inflating: myntradataset/images/6066.jpg  \n",
            "  inflating: myntradataset/images/6067.jpg  \n",
            "  inflating: myntradataset/images/6068.jpg  \n",
            "  inflating: myntradataset/images/6069.jpg  \n",
            "  inflating: myntradataset/images/6070.jpg  \n",
            "  inflating: myntradataset/images/6071.jpg  \n",
            "  inflating: myntradataset/images/6073.jpg  \n",
            "  inflating: myntradataset/images/6076.jpg  \n",
            "  inflating: myntradataset/images/6079.jpg  \n",
            "  inflating: myntradataset/images/6080.jpg  \n",
            "  inflating: myntradataset/images/6082.jpg  \n",
            "  inflating: myntradataset/images/6083.jpg  \n",
            "  inflating: myntradataset/images/6084.jpg  \n",
            "  inflating: myntradataset/images/6085.jpg  \n",
            "  inflating: myntradataset/images/6086.jpg  \n",
            "  inflating: myntradataset/images/6087.jpg  \n",
            "  inflating: myntradataset/images/6088.jpg  \n",
            "  inflating: myntradataset/images/6089.jpg  \n",
            "  inflating: myntradataset/images/6090.jpg  \n",
            "  inflating: myntradataset/images/6091.jpg  \n",
            "  inflating: myntradataset/images/6092.jpg  \n",
            "  inflating: myntradataset/images/6093.jpg  \n",
            "  inflating: myntradataset/images/6094.jpg  \n",
            "  inflating: myntradataset/images/6095.jpg  \n",
            "  inflating: myntradataset/images/6097.jpg  \n",
            "  inflating: myntradataset/images/6099.jpg  \n",
            "  inflating: myntradataset/images/6100.jpg  \n",
            "  inflating: myntradataset/images/6101.jpg  \n",
            "  inflating: myntradataset/images/6102.jpg  \n",
            "  inflating: myntradataset/images/6103.jpg  \n",
            "  inflating: myntradataset/images/6104.jpg  \n",
            "  inflating: myntradataset/images/6105.jpg  \n",
            "  inflating: myntradataset/images/6106.jpg  \n",
            "  inflating: myntradataset/images/6107.jpg  \n",
            "  inflating: myntradataset/images/6108.jpg  \n",
            "  inflating: myntradataset/images/6109.jpg  \n",
            "  inflating: myntradataset/images/6110.jpg  \n",
            "  inflating: myntradataset/images/6111.jpg  \n",
            "  inflating: myntradataset/images/6112.jpg  \n",
            "  inflating: myntradataset/images/6113.jpg  \n",
            "  inflating: myntradataset/images/6114.jpg  \n",
            "  inflating: myntradataset/images/6115.jpg  \n",
            "  inflating: myntradataset/images/6116.jpg  \n",
            "  inflating: myntradataset/images/6117.jpg  \n",
            "  inflating: myntradataset/images/6118.jpg  \n",
            "  inflating: myntradataset/images/6119.jpg  \n",
            "  inflating: myntradataset/images/6120.jpg  \n",
            "  inflating: myntradataset/images/6121.jpg  \n",
            "  inflating: myntradataset/images/6122.jpg  \n",
            "  inflating: myntradataset/images/6123.jpg  \n",
            "  inflating: myntradataset/images/6124.jpg  \n",
            "  inflating: myntradataset/images/6125.jpg  \n",
            "  inflating: myntradataset/images/6126.jpg  \n",
            "  inflating: myntradataset/images/6127.jpg  \n",
            "  inflating: myntradataset/images/6128.jpg  \n",
            "  inflating: myntradataset/images/6129.jpg  \n",
            "  inflating: myntradataset/images/6130.jpg  \n",
            "  inflating: myntradataset/images/6131.jpg  \n",
            "  inflating: myntradataset/images/6132.jpg  \n",
            "  inflating: myntradataset/images/6133.jpg  \n",
            "  inflating: myntradataset/images/6134.jpg  \n",
            "  inflating: myntradataset/images/6135.jpg  \n",
            "  inflating: myntradataset/images/6136.jpg  \n",
            "  inflating: myntradataset/images/6137.jpg  \n",
            "  inflating: myntradataset/images/6138.jpg  \n",
            "  inflating: myntradataset/images/6139.jpg  \n",
            "  inflating: myntradataset/images/6140.jpg  \n",
            "  inflating: myntradataset/images/6141.jpg  \n",
            "  inflating: myntradataset/images/6142.jpg  \n",
            "  inflating: myntradataset/images/6143.jpg  \n",
            "  inflating: myntradataset/images/6144.jpg  \n",
            "  inflating: myntradataset/images/6145.jpg  \n",
            "  inflating: myntradataset/images/6146.jpg  \n",
            "  inflating: myntradataset/images/6147.jpg  \n",
            "  inflating: myntradataset/images/6148.jpg  \n",
            "  inflating: myntradataset/images/6149.jpg  \n",
            "  inflating: myntradataset/images/6150.jpg  \n",
            "  inflating: myntradataset/images/6151.jpg  \n",
            "  inflating: myntradataset/images/6152.jpg  \n",
            "  inflating: myntradataset/images/6153.jpg  \n",
            "  inflating: myntradataset/images/6154.jpg  \n",
            "  inflating: myntradataset/images/6155.jpg  \n",
            "  inflating: myntradataset/images/6156.jpg  \n",
            "  inflating: myntradataset/images/6157.jpg  \n",
            "  inflating: myntradataset/images/6158.jpg  \n",
            "  inflating: myntradataset/images/6159.jpg  \n",
            "  inflating: myntradataset/images/6160.jpg  \n",
            "  inflating: myntradataset/images/6161.jpg  \n",
            "  inflating: myntradataset/images/6162.jpg  \n",
            "  inflating: myntradataset/images/6163.jpg  \n",
            "  inflating: myntradataset/images/6164.jpg  \n",
            "  inflating: myntradataset/images/6165.jpg  \n",
            "  inflating: myntradataset/images/6166.jpg  \n",
            "  inflating: myntradataset/images/6167.jpg  \n",
            "  inflating: myntradataset/images/6168.jpg  \n",
            "  inflating: myntradataset/images/6169.jpg  \n",
            "  inflating: myntradataset/images/6170.jpg  \n",
            "  inflating: myntradataset/images/6171.jpg  \n",
            "  inflating: myntradataset/images/6172.jpg  \n",
            "  inflating: myntradataset/images/6173.jpg  \n",
            "  inflating: myntradataset/images/6174.jpg  \n",
            "  inflating: myntradataset/images/6175.jpg  \n",
            "  inflating: myntradataset/images/6176.jpg  \n",
            "  inflating: myntradataset/images/6177.jpg  \n",
            "  inflating: myntradataset/images/6178.jpg  \n",
            "  inflating: myntradataset/images/6180.jpg  \n",
            "  inflating: myntradataset/images/6181.jpg  \n",
            "  inflating: myntradataset/images/6182.jpg  \n",
            "  inflating: myntradataset/images/6183.jpg  \n",
            "  inflating: myntradataset/images/6184.jpg  \n",
            "  inflating: myntradataset/images/6185.jpg  \n",
            "  inflating: myntradataset/images/6187.jpg  \n",
            "  inflating: myntradataset/images/6188.jpg  \n",
            "  inflating: myntradataset/images/6189.jpg  \n",
            "  inflating: myntradataset/images/6190.jpg  \n",
            "  inflating: myntradataset/images/6191.jpg  \n",
            "  inflating: myntradataset/images/6192.jpg  \n",
            "  inflating: myntradataset/images/6194.jpg  \n",
            "  inflating: myntradataset/images/6195.jpg  \n",
            "  inflating: myntradataset/images/6196.jpg  \n",
            "  inflating: myntradataset/images/6197.jpg  \n",
            "  inflating: myntradataset/images/6198.jpg  \n",
            "  inflating: myntradataset/images/6199.jpg  \n",
            "  inflating: myntradataset/images/6200.jpg  \n",
            "  inflating: myntradataset/images/6201.jpg  \n",
            "  inflating: myntradataset/images/6202.jpg  \n",
            "  inflating: myntradataset/images/6203.jpg  \n",
            "  inflating: myntradataset/images/6204.jpg  \n",
            "  inflating: myntradataset/images/6205.jpg  \n",
            "  inflating: myntradataset/images/6206.jpg  \n",
            "  inflating: myntradataset/images/6207.jpg  \n",
            "  inflating: myntradataset/images/6208.jpg  \n",
            "  inflating: myntradataset/images/6209.jpg  \n",
            "  inflating: myntradataset/images/6211.jpg  \n",
            "  inflating: myntradataset/images/6212.jpg  \n",
            "  inflating: myntradataset/images/6213.jpg  \n",
            "  inflating: myntradataset/images/6214.jpg  \n",
            "  inflating: myntradataset/images/6215.jpg  \n",
            "  inflating: myntradataset/images/6216.jpg  \n",
            "  inflating: myntradataset/images/6217.jpg  \n",
            "  inflating: myntradataset/images/6219.jpg  \n",
            "  inflating: myntradataset/images/6220.jpg  \n",
            "  inflating: myntradataset/images/6222.jpg  \n",
            "  inflating: myntradataset/images/6223.jpg  \n",
            "  inflating: myntradataset/images/6224.jpg  \n",
            "  inflating: myntradataset/images/6225.jpg  \n",
            "  inflating: myntradataset/images/6226.jpg  \n",
            "  inflating: myntradataset/images/6227.jpg  \n",
            "  inflating: myntradataset/images/6228.jpg  \n",
            "  inflating: myntradataset/images/6229.jpg  \n",
            "  inflating: myntradataset/images/6230.jpg  \n",
            "  inflating: myntradataset/images/6231.jpg  \n",
            "  inflating: myntradataset/images/6232.jpg  \n",
            "  inflating: myntradataset/images/6233.jpg  \n",
            "  inflating: myntradataset/images/6234.jpg  \n",
            "  inflating: myntradataset/images/6235.jpg  \n",
            "  inflating: myntradataset/images/6236.jpg  \n",
            "  inflating: myntradataset/images/6237.jpg  \n",
            "  inflating: myntradataset/images/6238.jpg  \n",
            "  inflating: myntradataset/images/6239.jpg  \n",
            "  inflating: myntradataset/images/6240.jpg  \n",
            "  inflating: myntradataset/images/6241.jpg  \n",
            "  inflating: myntradataset/images/6242.jpg  \n",
            "  inflating: myntradataset/images/6243.jpg  \n",
            "  inflating: myntradataset/images/6244.jpg  \n",
            "  inflating: myntradataset/images/6245.jpg  \n",
            "  inflating: myntradataset/images/6246.jpg  \n",
            "  inflating: myntradataset/images/6247.jpg  \n",
            "  inflating: myntradataset/images/6248.jpg  \n",
            "  inflating: myntradataset/images/6249.jpg  \n",
            "  inflating: myntradataset/images/6251.jpg  \n",
            "  inflating: myntradataset/images/6252.jpg  \n",
            "  inflating: myntradataset/images/6253.jpg  \n",
            "  inflating: myntradataset/images/6254.jpg  \n",
            "  inflating: myntradataset/images/6255.jpg  \n",
            "  inflating: myntradataset/images/6257.jpg  \n",
            "  inflating: myntradataset/images/6258.jpg  \n",
            "  inflating: myntradataset/images/6259.jpg  \n",
            "  inflating: myntradataset/images/6264.jpg  \n",
            "  inflating: myntradataset/images/6266.jpg  \n",
            "  inflating: myntradataset/images/6267.jpg  \n",
            "  inflating: myntradataset/images/6268.jpg  \n",
            "  inflating: myntradataset/images/6269.jpg  \n",
            "  inflating: myntradataset/images/6271.jpg  \n",
            "  inflating: myntradataset/images/6272.jpg  \n",
            "  inflating: myntradataset/images/6274.jpg  \n",
            "  inflating: myntradataset/images/6275.jpg  \n",
            "  inflating: myntradataset/images/6277.jpg  \n",
            "  inflating: myntradataset/images/6278.jpg  \n",
            "  inflating: myntradataset/images/6279.jpg  \n",
            "  inflating: myntradataset/images/6280.jpg  \n",
            "  inflating: myntradataset/images/6282.jpg  \n",
            "  inflating: myntradataset/images/6283.jpg  \n",
            "  inflating: myntradataset/images/6285.jpg  \n",
            "  inflating: myntradataset/images/6286.jpg  \n",
            "  inflating: myntradataset/images/6287.jpg  \n",
            "  inflating: myntradataset/images/6288.jpg  \n",
            "  inflating: myntradataset/images/6289.jpg  \n",
            "  inflating: myntradataset/images/6291.jpg  \n",
            "  inflating: myntradataset/images/6292.jpg  \n",
            "  inflating: myntradataset/images/6293.jpg  \n",
            "  inflating: myntradataset/images/6294.jpg  \n",
            "  inflating: myntradataset/images/6295.jpg  \n",
            "  inflating: myntradataset/images/6297.jpg  \n",
            "  inflating: myntradataset/images/6298.jpg  \n",
            "  inflating: myntradataset/images/6300.jpg  \n",
            "  inflating: myntradataset/images/6301.jpg  \n",
            "  inflating: myntradataset/images/6302.jpg  \n",
            "  inflating: myntradataset/images/6303.jpg  \n",
            "  inflating: myntradataset/images/6304.jpg  \n",
            "  inflating: myntradataset/images/6306.jpg  \n",
            "  inflating: myntradataset/images/6307.jpg  \n",
            "  inflating: myntradataset/images/6308.jpg  \n",
            "  inflating: myntradataset/images/6310.jpg  \n",
            "  inflating: myntradataset/images/6311.jpg  \n",
            "  inflating: myntradataset/images/6312.jpg  \n",
            "  inflating: myntradataset/images/6313.jpg  \n",
            "  inflating: myntradataset/images/6314.jpg  \n",
            "  inflating: myntradataset/images/6315.jpg  \n",
            "  inflating: myntradataset/images/6317.jpg  \n",
            "  inflating: myntradataset/images/6318.jpg  \n",
            "  inflating: myntradataset/images/6319.jpg  \n",
            "  inflating: myntradataset/images/6320.jpg  \n",
            "  inflating: myntradataset/images/6321.jpg  \n",
            "  inflating: myntradataset/images/6323.jpg  \n",
            "  inflating: myntradataset/images/6325.jpg  \n",
            "  inflating: myntradataset/images/6326.jpg  \n",
            "  inflating: myntradataset/images/6327.jpg  \n",
            "  inflating: myntradataset/images/6328.jpg  \n",
            "  inflating: myntradataset/images/6329.jpg  \n",
            "  inflating: myntradataset/images/6331.jpg  \n",
            "  inflating: myntradataset/images/6332.jpg  \n",
            "  inflating: myntradataset/images/6334.jpg  \n",
            "  inflating: myntradataset/images/6338.jpg  \n",
            "  inflating: myntradataset/images/6339.jpg  \n",
            "  inflating: myntradataset/images/6341.jpg  \n",
            "  inflating: myntradataset/images/6342.jpg  \n",
            "  inflating: myntradataset/images/6343.jpg  \n",
            "  inflating: myntradataset/images/6344.jpg  \n",
            "  inflating: myntradataset/images/6345.jpg  \n",
            "  inflating: myntradataset/images/6347.jpg  \n",
            "  inflating: myntradataset/images/6348.jpg  \n",
            "  inflating: myntradataset/images/6349.jpg  \n",
            "  inflating: myntradataset/images/6350.jpg  \n",
            "  inflating: myntradataset/images/6351.jpg  \n",
            "  inflating: myntradataset/images/6352.jpg  \n",
            "  inflating: myntradataset/images/6353.jpg  \n",
            "  inflating: myntradataset/images/6356.jpg  \n",
            "  inflating: myntradataset/images/6357.jpg  \n",
            "  inflating: myntradataset/images/6359.jpg  \n",
            "  inflating: myntradataset/images/6360.jpg  \n",
            "  inflating: myntradataset/images/6361.jpg  \n",
            "  inflating: myntradataset/images/6362.jpg  \n",
            "  inflating: myntradataset/images/6363.jpg  \n",
            "  inflating: myntradataset/images/6366.jpg  \n",
            "  inflating: myntradataset/images/6368.jpg  \n",
            "  inflating: myntradataset/images/6370.jpg  \n",
            "  inflating: myntradataset/images/6371.jpg  \n",
            "  inflating: myntradataset/images/6372.jpg  \n",
            "  inflating: myntradataset/images/6373.jpg  \n",
            "  inflating: myntradataset/images/6374.jpg  \n",
            "  inflating: myntradataset/images/6376.jpg  \n",
            "  inflating: myntradataset/images/6377.jpg  \n",
            "  inflating: myntradataset/images/6378.jpg  \n",
            "  inflating: myntradataset/images/6379.jpg  \n",
            "  inflating: myntradataset/images/6380.jpg  \n",
            "  inflating: myntradataset/images/6381.jpg  \n",
            "  inflating: myntradataset/images/6382.jpg  \n",
            "  inflating: myntradataset/images/6383.jpg  \n",
            "  inflating: myntradataset/images/6385.jpg  \n",
            "  inflating: myntradataset/images/6386.jpg  \n",
            "  inflating: myntradataset/images/6387.jpg  \n",
            "  inflating: myntradataset/images/6388.jpg  \n",
            "  inflating: myntradataset/images/6389.jpg  \n",
            "  inflating: myntradataset/images/6390.jpg  \n",
            "  inflating: myntradataset/images/6391.jpg  \n",
            "  inflating: myntradataset/images/6392.jpg  \n",
            "  inflating: myntradataset/images/6393.jpg  \n",
            "  inflating: myntradataset/images/6394.jpg  \n",
            "  inflating: myntradataset/images/6395.jpg  \n",
            "  inflating: myntradataset/images/6396.jpg  \n",
            "  inflating: myntradataset/images/6397.jpg  \n",
            "  inflating: myntradataset/images/6398.jpg  \n",
            "  inflating: myntradataset/images/6399.jpg  \n",
            "  inflating: myntradataset/images/6400.jpg  \n",
            "  inflating: myntradataset/images/6401.jpg  \n",
            "  inflating: myntradataset/images/6402.jpg  \n",
            "  inflating: myntradataset/images/6403.jpg  \n",
            "  inflating: myntradataset/images/6404.jpg  \n",
            "  inflating: myntradataset/images/6405.jpg  \n",
            "  inflating: myntradataset/images/6406.jpg  \n",
            "  inflating: myntradataset/images/6407.jpg  \n",
            "  inflating: myntradataset/images/6408.jpg  \n",
            "  inflating: myntradataset/images/6409.jpg  \n",
            "  inflating: myntradataset/images/6410.jpg  \n",
            "  inflating: myntradataset/images/6411.jpg  \n",
            "  inflating: myntradataset/images/6412.jpg  \n",
            "  inflating: myntradataset/images/6413.jpg  \n",
            "  inflating: myntradataset/images/6414.jpg  \n",
            "  inflating: myntradataset/images/6415.jpg  \n",
            "  inflating: myntradataset/images/6416.jpg  \n",
            "  inflating: myntradataset/images/6417.jpg  \n",
            "  inflating: myntradataset/images/6418.jpg  \n",
            "  inflating: myntradataset/images/6419.jpg  \n",
            "  inflating: myntradataset/images/6420.jpg  \n",
            "  inflating: myntradataset/images/6421.jpg  \n",
            "  inflating: myntradataset/images/6422.jpg  \n",
            "  inflating: myntradataset/images/6423.jpg  \n",
            "  inflating: myntradataset/images/6424.jpg  \n",
            "  inflating: myntradataset/images/6425.jpg  \n",
            "  inflating: myntradataset/images/6426.jpg  \n",
            "  inflating: myntradataset/images/6427.jpg  \n",
            "  inflating: myntradataset/images/6428.jpg  \n",
            "  inflating: myntradataset/images/6429.jpg  \n",
            "  inflating: myntradataset/images/6430.jpg  \n",
            "  inflating: myntradataset/images/6431.jpg  \n",
            "  inflating: myntradataset/images/6432.jpg  \n",
            "  inflating: myntradataset/images/6433.jpg  \n",
            "  inflating: myntradataset/images/6434.jpg  \n",
            "  inflating: myntradataset/images/6435.jpg  \n",
            "  inflating: myntradataset/images/6436.jpg  \n",
            "  inflating: myntradataset/images/6437.jpg  \n",
            "  inflating: myntradataset/images/6438.jpg  \n",
            "  inflating: myntradataset/images/6439.jpg  \n",
            "  inflating: myntradataset/images/6440.jpg  \n",
            "  inflating: myntradataset/images/6441.jpg  \n",
            "  inflating: myntradataset/images/6442.jpg  \n",
            "  inflating: myntradataset/images/6443.jpg  \n",
            "  inflating: myntradataset/images/6444.jpg  \n",
            "  inflating: myntradataset/images/6445.jpg  \n",
            "  inflating: myntradataset/images/6446.jpg  \n",
            "  inflating: myntradataset/images/6447.jpg  \n",
            "  inflating: myntradataset/images/6448.jpg  \n",
            "  inflating: myntradataset/images/6449.jpg  \n",
            "  inflating: myntradataset/images/6450.jpg  \n",
            "  inflating: myntradataset/images/6451.jpg  \n",
            "  inflating: myntradataset/images/6452.jpg  \n",
            "  inflating: myntradataset/images/6453.jpg  \n",
            "  inflating: myntradataset/images/6454.jpg  \n",
            "  inflating: myntradataset/images/6455.jpg  \n",
            "  inflating: myntradataset/images/6456.jpg  \n",
            "  inflating: myntradataset/images/6457.jpg  \n",
            "  inflating: myntradataset/images/6458.jpg  \n",
            "  inflating: myntradataset/images/6459.jpg  \n",
            "  inflating: myntradataset/images/6460.jpg  \n",
            "  inflating: myntradataset/images/6461.jpg  \n",
            "  inflating: myntradataset/images/6462.jpg  \n",
            "  inflating: myntradataset/images/6463.jpg  \n",
            "  inflating: myntradataset/images/6464.jpg  \n",
            "  inflating: myntradataset/images/6465.jpg  \n",
            "  inflating: myntradataset/images/6466.jpg  \n",
            "  inflating: myntradataset/images/6467.jpg  \n",
            "  inflating: myntradataset/images/6468.jpg  \n",
            "  inflating: myntradataset/images/6469.jpg  \n",
            "  inflating: myntradataset/images/6470.jpg  \n",
            "  inflating: myntradataset/images/6471.jpg  \n",
            "  inflating: myntradataset/images/6472.jpg  \n",
            "  inflating: myntradataset/images/6473.jpg  \n",
            "  inflating: myntradataset/images/6474.jpg  \n",
            "  inflating: myntradataset/images/6475.jpg  \n",
            "  inflating: myntradataset/images/6476.jpg  \n",
            "  inflating: myntradataset/images/6477.jpg  \n",
            "  inflating: myntradataset/images/6478.jpg  \n",
            "  inflating: myntradataset/images/6479.jpg  \n",
            "  inflating: myntradataset/images/6480.jpg  \n",
            "  inflating: myntradataset/images/6481.jpg  \n",
            "  inflating: myntradataset/images/6482.jpg  \n",
            "  inflating: myntradataset/images/6483.jpg  \n",
            "  inflating: myntradataset/images/6484.jpg  \n",
            "  inflating: myntradataset/images/6485.jpg  \n",
            "  inflating: myntradataset/images/6486.jpg  \n",
            "  inflating: myntradataset/images/6487.jpg  \n",
            "  inflating: myntradataset/images/6488.jpg  \n",
            "  inflating: myntradataset/images/6489.jpg  \n",
            "  inflating: myntradataset/images/6490.jpg  \n",
            "  inflating: myntradataset/images/6491.jpg  \n",
            "  inflating: myntradataset/images/6492.jpg  \n",
            "  inflating: myntradataset/images/6493.jpg  \n",
            "  inflating: myntradataset/images/6494.jpg  \n",
            "  inflating: myntradataset/images/6495.jpg  \n",
            "  inflating: myntradataset/images/6496.jpg  \n",
            "  inflating: myntradataset/images/6497.jpg  \n",
            "  inflating: myntradataset/images/6498.jpg  \n",
            "  inflating: myntradataset/images/6499.jpg  \n",
            "  inflating: myntradataset/images/6500.jpg  \n",
            "  inflating: myntradataset/images/6501.jpg  \n",
            "  inflating: myntradataset/images/6502.jpg  \n",
            "  inflating: myntradataset/images/6503.jpg  \n",
            "  inflating: myntradataset/images/6504.jpg  \n",
            "  inflating: myntradataset/images/6505.jpg  \n",
            "  inflating: myntradataset/images/6506.jpg  \n",
            "  inflating: myntradataset/images/6507.jpg  \n",
            "  inflating: myntradataset/images/6508.jpg  \n",
            "  inflating: myntradataset/images/6509.jpg  \n",
            "  inflating: myntradataset/images/6510.jpg  \n",
            "  inflating: myntradataset/images/6511.jpg  \n",
            "  inflating: myntradataset/images/6512.jpg  \n",
            "  inflating: myntradataset/images/6513.jpg  \n",
            "  inflating: myntradataset/images/6514.jpg  \n",
            "  inflating: myntradataset/images/6515.jpg  \n",
            "  inflating: myntradataset/images/6516.jpg  \n",
            "  inflating: myntradataset/images/6517.jpg  \n",
            "  inflating: myntradataset/images/6518.jpg  \n",
            "  inflating: myntradataset/images/6519.jpg  \n",
            "  inflating: myntradataset/images/6520.jpg  \n",
            "  inflating: myntradataset/images/6521.jpg  \n",
            "  inflating: myntradataset/images/6522.jpg  \n",
            "  inflating: myntradataset/images/6523.jpg  \n",
            "  inflating: myntradataset/images/6524.jpg  \n",
            "  inflating: myntradataset/images/6525.jpg  \n",
            "  inflating: myntradataset/images/6526.jpg  \n",
            "  inflating: myntradataset/images/6527.jpg  \n",
            "  inflating: myntradataset/images/6528.jpg  \n",
            "  inflating: myntradataset/images/6529.jpg  \n",
            "  inflating: myntradataset/images/6530.jpg  \n",
            "  inflating: myntradataset/images/6531.jpg  \n",
            "  inflating: myntradataset/images/6532.jpg  \n",
            "  inflating: myntradataset/images/6533.jpg  \n",
            "  inflating: myntradataset/images/6534.jpg  \n",
            "  inflating: myntradataset/images/6535.jpg  \n",
            "  inflating: myntradataset/images/6536.jpg  \n",
            "  inflating: myntradataset/images/6537.jpg  \n",
            "  inflating: myntradataset/images/6538.jpg  \n",
            "  inflating: myntradataset/images/6539.jpg  \n",
            "  inflating: myntradataset/images/6540.jpg  \n",
            "  inflating: myntradataset/images/6541.jpg  \n",
            "  inflating: myntradataset/images/6542.jpg  \n",
            "  inflating: myntradataset/images/6543.jpg  \n",
            "  inflating: myntradataset/images/6544.jpg  \n",
            "  inflating: myntradataset/images/6545.jpg  \n",
            "  inflating: myntradataset/images/6546.jpg  \n",
            "  inflating: myntradataset/images/6547.jpg  \n",
            "  inflating: myntradataset/images/6548.jpg  \n",
            "  inflating: myntradataset/images/6549.jpg  \n",
            "  inflating: myntradataset/images/6550.jpg  \n",
            "  inflating: myntradataset/images/6551.jpg  \n",
            "  inflating: myntradataset/images/6552.jpg  \n",
            "  inflating: myntradataset/images/6553.jpg  \n",
            "  inflating: myntradataset/images/6554.jpg  \n",
            "  inflating: myntradataset/images/6555.jpg  \n",
            "  inflating: myntradataset/images/6556.jpg  \n",
            "  inflating: myntradataset/images/6557.jpg  \n",
            "  inflating: myntradataset/images/6558.jpg  \n",
            "  inflating: myntradataset/images/6559.jpg  \n",
            "  inflating: myntradataset/images/6560.jpg  \n",
            "  inflating: myntradataset/images/6561.jpg  \n",
            "  inflating: myntradataset/images/6562.jpg  \n",
            "  inflating: myntradataset/images/6563.jpg  \n",
            "  inflating: myntradataset/images/6564.jpg  \n",
            "  inflating: myntradataset/images/6565.jpg  \n",
            "  inflating: myntradataset/images/6566.jpg  \n",
            "  inflating: myntradataset/images/6567.jpg  \n",
            "  inflating: myntradataset/images/6568.jpg  \n",
            "  inflating: myntradataset/images/6569.jpg  \n",
            "  inflating: myntradataset/images/6570.jpg  \n",
            "  inflating: myntradataset/images/6571.jpg  \n",
            "  inflating: myntradataset/images/6572.jpg  \n",
            "  inflating: myntradataset/images/6574.jpg  \n",
            "  inflating: myntradataset/images/6575.jpg  \n",
            "  inflating: myntradataset/images/6576.jpg  \n",
            "  inflating: myntradataset/images/6577.jpg  \n",
            "  inflating: myntradataset/images/6578.jpg  \n",
            "  inflating: myntradataset/images/6579.jpg  \n",
            "  inflating: myntradataset/images/6581.jpg  \n",
            "  inflating: myntradataset/images/6582.jpg  \n",
            "  inflating: myntradataset/images/6583.jpg  \n",
            "  inflating: myntradataset/images/6584.jpg  \n",
            "  inflating: myntradataset/images/6585.jpg  \n",
            "  inflating: myntradataset/images/6586.jpg  \n",
            "  inflating: myntradataset/images/6587.jpg  \n",
            "  inflating: myntradataset/images/6588.jpg  \n",
            "  inflating: myntradataset/images/6589.jpg  \n",
            "  inflating: myntradataset/images/6590.jpg  \n",
            "  inflating: myntradataset/images/6591.jpg  \n",
            "  inflating: myntradataset/images/6592.jpg  \n",
            "  inflating: myntradataset/images/6593.jpg  \n",
            "  inflating: myntradataset/images/6594.jpg  \n",
            "  inflating: myntradataset/images/6595.jpg  \n",
            "  inflating: myntradataset/images/6596.jpg  \n",
            "  inflating: myntradataset/images/6597.jpg  \n",
            "  inflating: myntradataset/images/6598.jpg  \n",
            "  inflating: myntradataset/images/6599.jpg  \n",
            "  inflating: myntradataset/images/6600.jpg  \n",
            "  inflating: myntradataset/images/6601.jpg  \n",
            "  inflating: myntradataset/images/6602.jpg  \n",
            "  inflating: myntradataset/images/6603.jpg  \n",
            "  inflating: myntradataset/images/6604.jpg  \n",
            "  inflating: myntradataset/images/6605.jpg  \n",
            "  inflating: myntradataset/images/6606.jpg  \n",
            "  inflating: myntradataset/images/6607.jpg  \n",
            "  inflating: myntradataset/images/6608.jpg  \n",
            "  inflating: myntradataset/images/6609.jpg  \n",
            "  inflating: myntradataset/images/6610.jpg  \n",
            "  inflating: myntradataset/images/6611.jpg  \n",
            "  inflating: myntradataset/images/6612.jpg  \n",
            "  inflating: myntradataset/images/6613.jpg  \n",
            "  inflating: myntradataset/images/6614.jpg  \n",
            "  inflating: myntradataset/images/6615.jpg  \n",
            "  inflating: myntradataset/images/6616.jpg  \n",
            "  inflating: myntradataset/images/6617.jpg  \n",
            "  inflating: myntradataset/images/6618.jpg  \n",
            "  inflating: myntradataset/images/6619.jpg  \n",
            "  inflating: myntradataset/images/6620.jpg  \n",
            "  inflating: myntradataset/images/6621.jpg  \n",
            "  inflating: myntradataset/images/6622.jpg  \n",
            "  inflating: myntradataset/images/6623.jpg  \n",
            "  inflating: myntradataset/images/6624.jpg  \n",
            "  inflating: myntradataset/images/6625.jpg  \n",
            "  inflating: myntradataset/images/6626.jpg  \n",
            "  inflating: myntradataset/images/6627.jpg  \n",
            "  inflating: myntradataset/images/6628.jpg  \n",
            "  inflating: myntradataset/images/6629.jpg  \n",
            "  inflating: myntradataset/images/6630.jpg  \n",
            "  inflating: myntradataset/images/6631.jpg  \n",
            "  inflating: myntradataset/images/6632.jpg  \n",
            "  inflating: myntradataset/images/6633.jpg  \n",
            "  inflating: myntradataset/images/6634.jpg  \n",
            "  inflating: myntradataset/images/6635.jpg  \n",
            "  inflating: myntradataset/images/6636.jpg  \n",
            "  inflating: myntradataset/images/6637.jpg  \n",
            "  inflating: myntradataset/images/6638.jpg  \n",
            "  inflating: myntradataset/images/6639.jpg  \n",
            "  inflating: myntradataset/images/6640.jpg  \n",
            "  inflating: myntradataset/images/6641.jpg  \n",
            "  inflating: myntradataset/images/6642.jpg  \n",
            "  inflating: myntradataset/images/6643.jpg  \n",
            "  inflating: myntradataset/images/6644.jpg  \n",
            "  inflating: myntradataset/images/6645.jpg  \n",
            "  inflating: myntradataset/images/6646.jpg  \n",
            "  inflating: myntradataset/images/6647.jpg  \n",
            "  inflating: myntradataset/images/6648.jpg  \n",
            "  inflating: myntradataset/images/6649.jpg  \n",
            "  inflating: myntradataset/images/6650.jpg  \n",
            "  inflating: myntradataset/images/6651.jpg  \n",
            "  inflating: myntradataset/images/6652.jpg  \n",
            "  inflating: myntradataset/images/6653.jpg  \n",
            "  inflating: myntradataset/images/6654.jpg  \n",
            "  inflating: myntradataset/images/6655.jpg  \n",
            "  inflating: myntradataset/images/6656.jpg  \n",
            "  inflating: myntradataset/images/6657.jpg  \n",
            "  inflating: myntradataset/images/6658.jpg  \n",
            "  inflating: myntradataset/images/6659.jpg  \n",
            "  inflating: myntradataset/images/6660.jpg  \n",
            "  inflating: myntradataset/images/6661.jpg  \n",
            "  inflating: myntradataset/images/6662.jpg  \n",
            "  inflating: myntradataset/images/6663.jpg  \n",
            "  inflating: myntradataset/images/6664.jpg  \n",
            "  inflating: myntradataset/images/6665.jpg  \n",
            "  inflating: myntradataset/images/6666.jpg  \n",
            "  inflating: myntradataset/images/6667.jpg  \n",
            "  inflating: myntradataset/images/6668.jpg  \n",
            "  inflating: myntradataset/images/6669.jpg  \n",
            "  inflating: myntradataset/images/6670.jpg  \n",
            "  inflating: myntradataset/images/6671.jpg  \n",
            "  inflating: myntradataset/images/6672.jpg  \n",
            "  inflating: myntradataset/images/6673.jpg  \n",
            "  inflating: myntradataset/images/6674.jpg  \n",
            "  inflating: myntradataset/images/6675.jpg  \n",
            "  inflating: myntradataset/images/6676.jpg  \n",
            "  inflating: myntradataset/images/6677.jpg  \n",
            "  inflating: myntradataset/images/6678.jpg  \n",
            "  inflating: myntradataset/images/6679.jpg  \n",
            "  inflating: myntradataset/images/6680.jpg  \n",
            "  inflating: myntradataset/images/6681.jpg  \n",
            "  inflating: myntradataset/images/6682.jpg  \n",
            "  inflating: myntradataset/images/6683.jpg  \n",
            "  inflating: myntradataset/images/6684.jpg  \n",
            "  inflating: myntradataset/images/6685.jpg  \n",
            "  inflating: myntradataset/images/6686.jpg  \n",
            "  inflating: myntradataset/images/6687.jpg  \n",
            "  inflating: myntradataset/images/6688.jpg  \n",
            "  inflating: myntradataset/images/6689.jpg  \n",
            "  inflating: myntradataset/images/6690.jpg  \n",
            "  inflating: myntradataset/images/6691.jpg  \n",
            "  inflating: myntradataset/images/6692.jpg  \n",
            "  inflating: myntradataset/images/6693.jpg  \n",
            "  inflating: myntradataset/images/6694.jpg  \n",
            "  inflating: myntradataset/images/6695.jpg  \n",
            "  inflating: myntradataset/images/6696.jpg  \n",
            "  inflating: myntradataset/images/6697.jpg  \n",
            "  inflating: myntradataset/images/6698.jpg  \n",
            "  inflating: myntradataset/images/6699.jpg  \n",
            "  inflating: myntradataset/images/6700.jpg  \n",
            "  inflating: myntradataset/images/6701.jpg  \n",
            "  inflating: myntradataset/images/6703.jpg  \n",
            "  inflating: myntradataset/images/6704.jpg  \n",
            "  inflating: myntradataset/images/6705.jpg  \n",
            "  inflating: myntradataset/images/6706.jpg  \n",
            "  inflating: myntradataset/images/6707.jpg  \n",
            "  inflating: myntradataset/images/6708.jpg  \n",
            "  inflating: myntradataset/images/6709.jpg  \n",
            "  inflating: myntradataset/images/6710.jpg  \n",
            "  inflating: myntradataset/images/6711.jpg  \n",
            "  inflating: myntradataset/images/6712.jpg  \n",
            "  inflating: myntradataset/images/6713.jpg  \n",
            "  inflating: myntradataset/images/6714.jpg  \n",
            "  inflating: myntradataset/images/6715.jpg  \n",
            "  inflating: myntradataset/images/6716.jpg  \n",
            "  inflating: myntradataset/images/6717.jpg  \n",
            "  inflating: myntradataset/images/6718.jpg  \n",
            "  inflating: myntradataset/images/6720.jpg  \n",
            "  inflating: myntradataset/images/6721.jpg  \n",
            "  inflating: myntradataset/images/6722.jpg  \n",
            "  inflating: myntradataset/images/6724.jpg  \n",
            "  inflating: myntradataset/images/6725.jpg  \n",
            "  inflating: myntradataset/images/6726.jpg  \n",
            "  inflating: myntradataset/images/6727.jpg  \n",
            "  inflating: myntradataset/images/6728.jpg  \n",
            "  inflating: myntradataset/images/6729.jpg  \n",
            "  inflating: myntradataset/images/6731.jpg  \n",
            "  inflating: myntradataset/images/6732.jpg  \n",
            "  inflating: myntradataset/images/6733.jpg  \n",
            "  inflating: myntradataset/images/6734.jpg  \n",
            "  inflating: myntradataset/images/6735.jpg  \n",
            "  inflating: myntradataset/images/6736.jpg  \n",
            "  inflating: myntradataset/images/6738.jpg  \n",
            "  inflating: myntradataset/images/6739.jpg  \n",
            "  inflating: myntradataset/images/6740.jpg  \n",
            "  inflating: myntradataset/images/6741.jpg  \n",
            "  inflating: myntradataset/images/6742.jpg  \n",
            "  inflating: myntradataset/images/6743.jpg  \n",
            "  inflating: myntradataset/images/6744.jpg  \n",
            "  inflating: myntradataset/images/6745.jpg  \n",
            "  inflating: myntradataset/images/6746.jpg  \n",
            "  inflating: myntradataset/images/6747.jpg  \n",
            "  inflating: myntradataset/images/6748.jpg  \n",
            "  inflating: myntradataset/images/6751.jpg  \n",
            "  inflating: myntradataset/images/6752.jpg  \n",
            "  inflating: myntradataset/images/6753.jpg  \n",
            "  inflating: myntradataset/images/6754.jpg  \n",
            "  inflating: myntradataset/images/6755.jpg  \n",
            "  inflating: myntradataset/images/6756.jpg  \n",
            "  inflating: myntradataset/images/6757.jpg  \n",
            "  inflating: myntradataset/images/6758.jpg  \n",
            "  inflating: myntradataset/images/6759.jpg  \n",
            "  inflating: myntradataset/images/6760.jpg  \n",
            "  inflating: myntradataset/images/6761.jpg  \n",
            "  inflating: myntradataset/images/6762.jpg  \n",
            "  inflating: myntradataset/images/6763.jpg  \n",
            "  inflating: myntradataset/images/6764.jpg  \n",
            "  inflating: myntradataset/images/6765.jpg  \n",
            "  inflating: myntradataset/images/6766.jpg  \n",
            "  inflating: myntradataset/images/6767.jpg  \n",
            "  inflating: myntradataset/images/6768.jpg  \n",
            "  inflating: myntradataset/images/6769.jpg  \n",
            "  inflating: myntradataset/images/6770.jpg  \n",
            "  inflating: myntradataset/images/6771.jpg  \n",
            "  inflating: myntradataset/images/6772.jpg  \n",
            "  inflating: myntradataset/images/6773.jpg  \n",
            "  inflating: myntradataset/images/6774.jpg  \n",
            "  inflating: myntradataset/images/6775.jpg  \n",
            "  inflating: myntradataset/images/6776.jpg  \n",
            "  inflating: myntradataset/images/6777.jpg  \n",
            "  inflating: myntradataset/images/6778.jpg  \n",
            "  inflating: myntradataset/images/6779.jpg  \n",
            "  inflating: myntradataset/images/6780.jpg  \n",
            "  inflating: myntradataset/images/6781.jpg  \n",
            "  inflating: myntradataset/images/6782.jpg  \n",
            "  inflating: myntradataset/images/6783.jpg  \n",
            "  inflating: myntradataset/images/6784.jpg  \n",
            "  inflating: myntradataset/images/6785.jpg  \n",
            "  inflating: myntradataset/images/6786.jpg  \n",
            "  inflating: myntradataset/images/6787.jpg  \n",
            "  inflating: myntradataset/images/6788.jpg  \n",
            "  inflating: myntradataset/images/6789.jpg  \n",
            "  inflating: myntradataset/images/6790.jpg  \n",
            "  inflating: myntradataset/images/6791.jpg  \n",
            "  inflating: myntradataset/images/6792.jpg  \n",
            "  inflating: myntradataset/images/6793.jpg  \n",
            "  inflating: myntradataset/images/6794.jpg  \n",
            "  inflating: myntradataset/images/6795.jpg  \n",
            "  inflating: myntradataset/images/6796.jpg  \n",
            "  inflating: myntradataset/images/6797.jpg  \n",
            "  inflating: myntradataset/images/6798.jpg  \n",
            "  inflating: myntradataset/images/6799.jpg  \n",
            "  inflating: myntradataset/images/6800.jpg  \n",
            "  inflating: myntradataset/images/6801.jpg  \n",
            "  inflating: myntradataset/images/6802.jpg  \n",
            "  inflating: myntradataset/images/6803.jpg  \n",
            "  inflating: myntradataset/images/6804.jpg  \n",
            "  inflating: myntradataset/images/6805.jpg  \n",
            "  inflating: myntradataset/images/6806.jpg  \n",
            "  inflating: myntradataset/images/6807.jpg  \n",
            "  inflating: myntradataset/images/6808.jpg  \n",
            "  inflating: myntradataset/images/6809.jpg  \n",
            "  inflating: myntradataset/images/6810.jpg  \n",
            "  inflating: myntradataset/images/6811.jpg  \n",
            "  inflating: myntradataset/images/6812.jpg  \n",
            "  inflating: myntradataset/images/6813.jpg  \n",
            "  inflating: myntradataset/images/6814.jpg  \n",
            "  inflating: myntradataset/images/6815.jpg  \n",
            "  inflating: myntradataset/images/6816.jpg  \n",
            "  inflating: myntradataset/images/6817.jpg  \n",
            "  inflating: myntradataset/images/6818.jpg  \n",
            "  inflating: myntradataset/images/6819.jpg  \n",
            "  inflating: myntradataset/images/6820.jpg  \n",
            "  inflating: myntradataset/images/6821.jpg  \n",
            "  inflating: myntradataset/images/6822.jpg  \n",
            "  inflating: myntradataset/images/6823.jpg  \n",
            "  inflating: myntradataset/images/6824.jpg  \n",
            "  inflating: myntradataset/images/6825.jpg  \n",
            "  inflating: myntradataset/images/6826.jpg  \n",
            "  inflating: myntradataset/images/6827.jpg  \n",
            "  inflating: myntradataset/images/6829.jpg  \n",
            "  inflating: myntradataset/images/6830.jpg  \n",
            "  inflating: myntradataset/images/6831.jpg  \n",
            "  inflating: myntradataset/images/6832.jpg  \n",
            "  inflating: myntradataset/images/6833.jpg  \n",
            "  inflating: myntradataset/images/6834.jpg  \n",
            "  inflating: myntradataset/images/6835.jpg  \n",
            "  inflating: myntradataset/images/6836.jpg  \n",
            "  inflating: myntradataset/images/6837.jpg  \n",
            "  inflating: myntradataset/images/6838.jpg  \n",
            "  inflating: myntradataset/images/6839.jpg  \n",
            "  inflating: myntradataset/images/6840.jpg  \n",
            "  inflating: myntradataset/images/6841.jpg  \n",
            "  inflating: myntradataset/images/6842.jpg  \n",
            "  inflating: myntradataset/images/6843.jpg  \n",
            "  inflating: myntradataset/images/6844.jpg  \n",
            "  inflating: myntradataset/images/6845.jpg  \n",
            "  inflating: myntradataset/images/6848.jpg  \n",
            "  inflating: myntradataset/images/6852.jpg  \n",
            "  inflating: myntradataset/images/6853.jpg  \n",
            "  inflating: myntradataset/images/6854.jpg  \n",
            "  inflating: myntradataset/images/6855.jpg  \n",
            "  inflating: myntradataset/images/6856.jpg  \n",
            "  inflating: myntradataset/images/6857.jpg  \n",
            "  inflating: myntradataset/images/6859.jpg  \n",
            "  inflating: myntradataset/images/6860.jpg  \n",
            "  inflating: myntradataset/images/6861.jpg  \n",
            "  inflating: myntradataset/images/6862.jpg  \n",
            "  inflating: myntradataset/images/6863.jpg  \n",
            "  inflating: myntradataset/images/6864.jpg  \n",
            "  inflating: myntradataset/images/6865.jpg  \n",
            "  inflating: myntradataset/images/6866.jpg  \n",
            "  inflating: myntradataset/images/6867.jpg  \n",
            "  inflating: myntradataset/images/6868.jpg  \n",
            "  inflating: myntradataset/images/6869.jpg  \n",
            "  inflating: myntradataset/images/6870.jpg  \n",
            "  inflating: myntradataset/images/6871.jpg  \n",
            "  inflating: myntradataset/images/6872.jpg  \n",
            "  inflating: myntradataset/images/6873.jpg  \n",
            "  inflating: myntradataset/images/6874.jpg  \n",
            "  inflating: myntradataset/images/6875.jpg  \n",
            "  inflating: myntradataset/images/6876.jpg  \n",
            "  inflating: myntradataset/images/6877.jpg  \n",
            "  inflating: myntradataset/images/6878.jpg  \n",
            "  inflating: myntradataset/images/6879.jpg  \n",
            "  inflating: myntradataset/images/6880.jpg  \n",
            "  inflating: myntradataset/images/6881.jpg  \n",
            "  inflating: myntradataset/images/6882.jpg  \n",
            "  inflating: myntradataset/images/6883.jpg  \n",
            "  inflating: myntradataset/images/6884.jpg  \n",
            "  inflating: myntradataset/images/6885.jpg  \n",
            "  inflating: myntradataset/images/6886.jpg  \n",
            "  inflating: myntradataset/images/6887.jpg  \n",
            "  inflating: myntradataset/images/6888.jpg  \n",
            "  inflating: myntradataset/images/6889.jpg  \n",
            "  inflating: myntradataset/images/6890.jpg  \n",
            "  inflating: myntradataset/images/6891.jpg  \n",
            "  inflating: myntradataset/images/6892.jpg  \n",
            "  inflating: myntradataset/images/6893.jpg  \n",
            "  inflating: myntradataset/images/6894.jpg  \n",
            "  inflating: myntradataset/images/6895.jpg  \n",
            "  inflating: myntradataset/images/6896.jpg  \n",
            "  inflating: myntradataset/images/6897.jpg  \n",
            "  inflating: myntradataset/images/6898.jpg  \n",
            "  inflating: myntradataset/images/6899.jpg  \n",
            "  inflating: myntradataset/images/6900.jpg  \n",
            "  inflating: myntradataset/images/6901.jpg  \n",
            "  inflating: myntradataset/images/6902.jpg  \n",
            "  inflating: myntradataset/images/6903.jpg  \n",
            "  inflating: myntradataset/images/6904.jpg  \n",
            "  inflating: myntradataset/images/6905.jpg  \n",
            "  inflating: myntradataset/images/6906.jpg  \n",
            "  inflating: myntradataset/images/6907.jpg  \n",
            "  inflating: myntradataset/images/6908.jpg  \n",
            "  inflating: myntradataset/images/6909.jpg  \n",
            "  inflating: myntradataset/images/6910.jpg  \n",
            "  inflating: myntradataset/images/6911.jpg  \n",
            "  inflating: myntradataset/images/6912.jpg  \n",
            "  inflating: myntradataset/images/6913.jpg  \n",
            "  inflating: myntradataset/images/6914.jpg  \n",
            "  inflating: myntradataset/images/6915.jpg  \n",
            "  inflating: myntradataset/images/6918.jpg  \n",
            "  inflating: myntradataset/images/6924.jpg  \n",
            "  inflating: myntradataset/images/6926.jpg  \n",
            "  inflating: myntradataset/images/6928.jpg  \n",
            "  inflating: myntradataset/images/6929.jpg  \n",
            "  inflating: myntradataset/images/6930.jpg  \n",
            "  inflating: myntradataset/images/6931.jpg  \n",
            "  inflating: myntradataset/images/6932.jpg  \n",
            "  inflating: myntradataset/images/6933.jpg  \n",
            "  inflating: myntradataset/images/6934.jpg  \n",
            "  inflating: myntradataset/images/6935.jpg  \n",
            "  inflating: myntradataset/images/6936.jpg  \n",
            "  inflating: myntradataset/images/6937.jpg  \n",
            "  inflating: myntradataset/images/6938.jpg  \n",
            "  inflating: myntradataset/images/6939.jpg  \n",
            "  inflating: myntradataset/images/6940.jpg  \n",
            "  inflating: myntradataset/images/6941.jpg  \n",
            "  inflating: myntradataset/images/6943.jpg  \n",
            "  inflating: myntradataset/images/6944.jpg  \n",
            "  inflating: myntradataset/images/6945.jpg  \n",
            "  inflating: myntradataset/images/6946.jpg  \n",
            "  inflating: myntradataset/images/6947.jpg  \n",
            "  inflating: myntradataset/images/6948.jpg  \n",
            "  inflating: myntradataset/images/6949.jpg  \n",
            "  inflating: myntradataset/images/6950.jpg  \n",
            "  inflating: myntradataset/images/6951.jpg  \n",
            "  inflating: myntradataset/images/6952.jpg  \n",
            "  inflating: myntradataset/images/6953.jpg  \n",
            "  inflating: myntradataset/images/6954.jpg  \n",
            "  inflating: myntradataset/images/6956.jpg  \n",
            "  inflating: myntradataset/images/6958.jpg  \n",
            "  inflating: myntradataset/images/6961.jpg  \n",
            "  inflating: myntradataset/images/6962.jpg  \n",
            "  inflating: myntradataset/images/6963.jpg  \n",
            "  inflating: myntradataset/images/6965.jpg  \n",
            "  inflating: myntradataset/images/6966.jpg  \n",
            "  inflating: myntradataset/images/6967.jpg  \n",
            "  inflating: myntradataset/images/6969.jpg  \n",
            "  inflating: myntradataset/images/6971.jpg  \n",
            "  inflating: myntradataset/images/6972.jpg  \n",
            "  inflating: myntradataset/images/6973.jpg  \n",
            "  inflating: myntradataset/images/6974.jpg  \n",
            "  inflating: myntradataset/images/6977.jpg  \n",
            "  inflating: myntradataset/images/6979.jpg  \n",
            "  inflating: myntradataset/images/6980.jpg  \n",
            "  inflating: myntradataset/images/6981.jpg  \n",
            "  inflating: myntradataset/images/6982.jpg  \n",
            "  inflating: myntradataset/images/6983.jpg  \n",
            "  inflating: myntradataset/images/6984.jpg  \n",
            "  inflating: myntradataset/images/6985.jpg  \n",
            "  inflating: myntradataset/images/6986.jpg  \n",
            "  inflating: myntradataset/images/6987.jpg  \n",
            "  inflating: myntradataset/images/6988.jpg  \n",
            "  inflating: myntradataset/images/6990.jpg  \n",
            "  inflating: myntradataset/images/6991.jpg  \n",
            "  inflating: myntradataset/images/6994.jpg  \n",
            "  inflating: myntradataset/images/6995.jpg  \n",
            "  inflating: myntradataset/images/6996.jpg  \n",
            "  inflating: myntradataset/images/6997.jpg  \n",
            "  inflating: myntradataset/images/6998.jpg  \n",
            "  inflating: myntradataset/images/6999.jpg  \n",
            "  inflating: myntradataset/images/7000.jpg  \n",
            "  inflating: myntradataset/images/7001.jpg  \n",
            "  inflating: myntradataset/images/7002.jpg  \n",
            "  inflating: myntradataset/images/7003.jpg  \n",
            "  inflating: myntradataset/images/7004.jpg  \n",
            "  inflating: myntradataset/images/7005.jpg  \n",
            "  inflating: myntradataset/images/7006.jpg  \n",
            "  inflating: myntradataset/images/7007.jpg  \n",
            "  inflating: myntradataset/images/7008.jpg  \n",
            "  inflating: myntradataset/images/7009.jpg  \n",
            "  inflating: myntradataset/images/7010.jpg  \n",
            "  inflating: myntradataset/images/7011.jpg  \n",
            "  inflating: myntradataset/images/7012.jpg  \n",
            "  inflating: myntradataset/images/7013.jpg  \n",
            "  inflating: myntradataset/images/7015.jpg  \n",
            "  inflating: myntradataset/images/7017.jpg  \n",
            "  inflating: myntradataset/images/7019.jpg  \n",
            "  inflating: myntradataset/images/7020.jpg  \n",
            "  inflating: myntradataset/images/7021.jpg  \n",
            "  inflating: myntradataset/images/7023.jpg  \n",
            "  inflating: myntradataset/images/7025.jpg  \n",
            "  inflating: myntradataset/images/7026.jpg  \n",
            "  inflating: myntradataset/images/7027.jpg  \n",
            "  inflating: myntradataset/images/7028.jpg  \n",
            "  inflating: myntradataset/images/7029.jpg  \n",
            "  inflating: myntradataset/images/7030.jpg  \n",
            "  inflating: myntradataset/images/7031.jpg  \n",
            "  inflating: myntradataset/images/7032.jpg  \n",
            "  inflating: myntradataset/images/7035.jpg  \n",
            "  inflating: myntradataset/images/7036.jpg  \n",
            "  inflating: myntradataset/images/7037.jpg  \n",
            "  inflating: myntradataset/images/7038.jpg  \n",
            "  inflating: myntradataset/images/7039.jpg  \n",
            "  inflating: myntradataset/images/7040.jpg  \n",
            "  inflating: myntradataset/images/7041.jpg  \n",
            "  inflating: myntradataset/images/7042.jpg  \n",
            "  inflating: myntradataset/images/7043.jpg  \n",
            "  inflating: myntradataset/images/7044.jpg  \n",
            "  inflating: myntradataset/images/7045.jpg  \n",
            "  inflating: myntradataset/images/7046.jpg  \n",
            "  inflating: myntradataset/images/7047.jpg  \n",
            "  inflating: myntradataset/images/7048.jpg  \n",
            "  inflating: myntradataset/images/7049.jpg  \n",
            "  inflating: myntradataset/images/7051.jpg  \n",
            "  inflating: myntradataset/images/7053.jpg  \n",
            "  inflating: myntradataset/images/7054.jpg  \n",
            "  inflating: myntradataset/images/7055.jpg  \n",
            "  inflating: myntradataset/images/7056.jpg  \n",
            "  inflating: myntradataset/images/7057.jpg  \n",
            "  inflating: myntradataset/images/7058.jpg  \n",
            "  inflating: myntradataset/images/7059.jpg  \n",
            "  inflating: myntradataset/images/7060.jpg  \n",
            "  inflating: myntradataset/images/7061.jpg  \n",
            "  inflating: myntradataset/images/7062.jpg  \n",
            "  inflating: myntradataset/images/7063.jpg  \n",
            "  inflating: myntradataset/images/7064.jpg  \n",
            "  inflating: myntradataset/images/7065.jpg  \n",
            "  inflating: myntradataset/images/7066.jpg  \n",
            "  inflating: myntradataset/images/7067.jpg  \n",
            "  inflating: myntradataset/images/7068.jpg  \n",
            "  inflating: myntradataset/images/7069.jpg  \n",
            "  inflating: myntradataset/images/7070.jpg  \n",
            "  inflating: myntradataset/images/7071.jpg  \n",
            "  inflating: myntradataset/images/7072.jpg  \n",
            "  inflating: myntradataset/images/7073.jpg  \n",
            "  inflating: myntradataset/images/7074.jpg  \n",
            "  inflating: myntradataset/images/7075.jpg  \n",
            "  inflating: myntradataset/images/7076.jpg  \n",
            "  inflating: myntradataset/images/7077.jpg  \n",
            "  inflating: myntradataset/images/7078.jpg  \n",
            "  inflating: myntradataset/images/7079.jpg  \n",
            "  inflating: myntradataset/images/7080.jpg  \n",
            "  inflating: myntradataset/images/7081.jpg  \n",
            "  inflating: myntradataset/images/7082.jpg  \n",
            "  inflating: myntradataset/images/7083.jpg  \n",
            "  inflating: myntradataset/images/7084.jpg  \n",
            "  inflating: myntradataset/images/7085.jpg  \n",
            "  inflating: myntradataset/images/7086.jpg  \n",
            "  inflating: myntradataset/images/7087.jpg  \n",
            "  inflating: myntradataset/images/7088.jpg  \n",
            "  inflating: myntradataset/images/7089.jpg  \n",
            "  inflating: myntradataset/images/7090.jpg  \n",
            "  inflating: myntradataset/images/7091.jpg  \n",
            "  inflating: myntradataset/images/7092.jpg  \n",
            "  inflating: myntradataset/images/7093.jpg  \n",
            "  inflating: myntradataset/images/7096.jpg  \n",
            "  inflating: myntradataset/images/7097.jpg  \n",
            "  inflating: myntradataset/images/7098.jpg  \n",
            "  inflating: myntradataset/images/7099.jpg  \n",
            "  inflating: myntradataset/images/7100.jpg  \n",
            "  inflating: myntradataset/images/7101.jpg  \n",
            "  inflating: myntradataset/images/7102.jpg  \n",
            "  inflating: myntradataset/images/7103.jpg  \n",
            "  inflating: myntradataset/images/7104.jpg  \n",
            "  inflating: myntradataset/images/7105.jpg  \n",
            "  inflating: myntradataset/images/7106.jpg  \n",
            "  inflating: myntradataset/images/7107.jpg  \n",
            "  inflating: myntradataset/images/7108.jpg  \n",
            "  inflating: myntradataset/images/7109.jpg  \n",
            "  inflating: myntradataset/images/7110.jpg  \n",
            "  inflating: myntradataset/images/7111.jpg  \n",
            "  inflating: myntradataset/images/7112.jpg  \n",
            "  inflating: myntradataset/images/7113.jpg  \n",
            "  inflating: myntradataset/images/7114.jpg  \n",
            "  inflating: myntradataset/images/7115.jpg  \n",
            "  inflating: myntradataset/images/7116.jpg  \n",
            "  inflating: myntradataset/images/7117.jpg  \n",
            "  inflating: myntradataset/images/7118.jpg  \n",
            "  inflating: myntradataset/images/7119.jpg  \n",
            "  inflating: myntradataset/images/7120.jpg  \n",
            "  inflating: myntradataset/images/7121.jpg  \n",
            "  inflating: myntradataset/images/7122.jpg  \n",
            "  inflating: myntradataset/images/7123.jpg  \n",
            "  inflating: myntradataset/images/7124.jpg  \n",
            "  inflating: myntradataset/images/7126.jpg  \n",
            "  inflating: myntradataset/images/7127.jpg  \n",
            "  inflating: myntradataset/images/7128.jpg  \n",
            "  inflating: myntradataset/images/7129.jpg  \n",
            "  inflating: myntradataset/images/7130.jpg  \n",
            "  inflating: myntradataset/images/7131.jpg  \n",
            "  inflating: myntradataset/images/7132.jpg  \n",
            "  inflating: myntradataset/images/7133.jpg  \n",
            "  inflating: myntradataset/images/7134.jpg  \n",
            "  inflating: myntradataset/images/7135.jpg  \n",
            "  inflating: myntradataset/images/7136.jpg  \n",
            "  inflating: myntradataset/images/7137.jpg  \n",
            "  inflating: myntradataset/images/7138.jpg  \n",
            "  inflating: myntradataset/images/7139.jpg  \n",
            "  inflating: myntradataset/images/7140.jpg  \n",
            "  inflating: myntradataset/images/7141.jpg  \n",
            "  inflating: myntradataset/images/7142.jpg  \n",
            "  inflating: myntradataset/images/7143.jpg  \n",
            "  inflating: myntradataset/images/7144.jpg  \n",
            "  inflating: myntradataset/images/7145.jpg  \n",
            "  inflating: myntradataset/images/7146.jpg  \n",
            "  inflating: myntradataset/images/7147.jpg  \n",
            "  inflating: myntradataset/images/7148.jpg  \n",
            "  inflating: myntradataset/images/7149.jpg  \n",
            "  inflating: myntradataset/images/7150.jpg  \n",
            "  inflating: myntradataset/images/7151.jpg  \n",
            "  inflating: myntradataset/images/7152.jpg  \n",
            "  inflating: myntradataset/images/7153.jpg  \n",
            "  inflating: myntradataset/images/7154.jpg  \n",
            "  inflating: myntradataset/images/7155.jpg  \n",
            "  inflating: myntradataset/images/7156.jpg  \n",
            "  inflating: myntradataset/images/7157.jpg  \n",
            "  inflating: myntradataset/images/7158.jpg  \n",
            "  inflating: myntradataset/images/7160.jpg  \n",
            "  inflating: myntradataset/images/7162.jpg  \n",
            "  inflating: myntradataset/images/7163.jpg  \n",
            "  inflating: myntradataset/images/7164.jpg  \n",
            "  inflating: myntradataset/images/7165.jpg  \n",
            "  inflating: myntradataset/images/7166.jpg  \n",
            "  inflating: myntradataset/images/7167.jpg  \n",
            "  inflating: myntradataset/images/7168.jpg  \n",
            "  inflating: myntradataset/images/7169.jpg  \n",
            "  inflating: myntradataset/images/7170.jpg  \n",
            "  inflating: myntradataset/images/7171.jpg  \n",
            "  inflating: myntradataset/images/7172.jpg  \n",
            "  inflating: myntradataset/images/7173.jpg  \n",
            "  inflating: myntradataset/images/7174.jpg  \n",
            "  inflating: myntradataset/images/7175.jpg  \n",
            "  inflating: myntradataset/images/7176.jpg  \n",
            "  inflating: myntradataset/images/7177.jpg  \n",
            "  inflating: myntradataset/images/7178.jpg  \n",
            "  inflating: myntradataset/images/7179.jpg  \n",
            "  inflating: myntradataset/images/7180.jpg  \n",
            "  inflating: myntradataset/images/7181.jpg  \n",
            "  inflating: myntradataset/images/7182.jpg  \n",
            "  inflating: myntradataset/images/7183.jpg  \n",
            "  inflating: myntradataset/images/7184.jpg  \n",
            "  inflating: myntradataset/images/7185.jpg  \n",
            "  inflating: myntradataset/images/7186.jpg  \n",
            "  inflating: myntradataset/images/7187.jpg  \n",
            "  inflating: myntradataset/images/7188.jpg  \n",
            "  inflating: myntradataset/images/7189.jpg  \n",
            "  inflating: myntradataset/images/7190.jpg  \n",
            "  inflating: myntradataset/images/7191.jpg  \n",
            "  inflating: myntradataset/images/7192.jpg  \n",
            "  inflating: myntradataset/images/7193.jpg  \n",
            "  inflating: myntradataset/images/7194.jpg  \n",
            "  inflating: myntradataset/images/7195.jpg  \n",
            "  inflating: myntradataset/images/7196.jpg  \n",
            "  inflating: myntradataset/images/7197.jpg  \n",
            "  inflating: myntradataset/images/7198.jpg  \n",
            "  inflating: myntradataset/images/7199.jpg  \n",
            "  inflating: myntradataset/images/7200.jpg  \n",
            "  inflating: myntradataset/images/7201.jpg  \n",
            "  inflating: myntradataset/images/7202.jpg  \n",
            "  inflating: myntradataset/images/7203.jpg  \n",
            "  inflating: myntradataset/images/7204.jpg  \n",
            "  inflating: myntradataset/images/7205.jpg  \n",
            "  inflating: myntradataset/images/7206.jpg  \n",
            "  inflating: myntradataset/images/7207.jpg  \n",
            "  inflating: myntradataset/images/7208.jpg  \n",
            "  inflating: myntradataset/images/7209.jpg  \n",
            "  inflating: myntradataset/images/7210.jpg  \n",
            "  inflating: myntradataset/images/7211.jpg  \n",
            "  inflating: myntradataset/images/7212.jpg  \n",
            "  inflating: myntradataset/images/7213.jpg  \n",
            "  inflating: myntradataset/images/7214.jpg  \n",
            "  inflating: myntradataset/images/7215.jpg  \n",
            "  inflating: myntradataset/images/7216.jpg  \n",
            "  inflating: myntradataset/images/7217.jpg  \n",
            "  inflating: myntradataset/images/7218.jpg  \n",
            "  inflating: myntradataset/images/7219.jpg  \n",
            "  inflating: myntradataset/images/7220.jpg  \n",
            "  inflating: myntradataset/images/7221.jpg  \n",
            "  inflating: myntradataset/images/7222.jpg  \n",
            "  inflating: myntradataset/images/7223.jpg  \n",
            "  inflating: myntradataset/images/7224.jpg  \n",
            "  inflating: myntradataset/images/7226.jpg  \n",
            "  inflating: myntradataset/images/7227.jpg  \n",
            "  inflating: myntradataset/images/7228.jpg  \n",
            "  inflating: myntradataset/images/7230.jpg  \n",
            "  inflating: myntradataset/images/7231.jpg  \n",
            "  inflating: myntradataset/images/7232.jpg  \n",
            "  inflating: myntradataset/images/7233.jpg  \n",
            "  inflating: myntradataset/images/7234.jpg  \n",
            "  inflating: myntradataset/images/7235.jpg  \n",
            "  inflating: myntradataset/images/7236.jpg  \n",
            "  inflating: myntradataset/images/7237.jpg  \n",
            "  inflating: myntradataset/images/7238.jpg  \n",
            "  inflating: myntradataset/images/7239.jpg  \n",
            "  inflating: myntradataset/images/7240.jpg  \n",
            "  inflating: myntradataset/images/7241.jpg  \n",
            "  inflating: myntradataset/images/7242.jpg  \n",
            "  inflating: myntradataset/images/7243.jpg  \n",
            "  inflating: myntradataset/images/7244.jpg  \n",
            "  inflating: myntradataset/images/7246.jpg  \n",
            "  inflating: myntradataset/images/7247.jpg  \n",
            "  inflating: myntradataset/images/7248.jpg  \n",
            "  inflating: myntradataset/images/7249.jpg  \n",
            "  inflating: myntradataset/images/7250.jpg  \n",
            "  inflating: myntradataset/images/7251.jpg  \n",
            "  inflating: myntradataset/images/7252.jpg  \n",
            "  inflating: myntradataset/images/7253.jpg  \n",
            "  inflating: myntradataset/images/7254.jpg  \n",
            "  inflating: myntradataset/images/7255.jpg  \n",
            "  inflating: myntradataset/images/7256.jpg  \n",
            "  inflating: myntradataset/images/7257.jpg  \n",
            "  inflating: myntradataset/images/7258.jpg  \n",
            "  inflating: myntradataset/images/7259.jpg  \n",
            "  inflating: myntradataset/images/7260.jpg  \n",
            "  inflating: myntradataset/images/7261.jpg  \n",
            "  inflating: myntradataset/images/7262.jpg  \n",
            "  inflating: myntradataset/images/7263.jpg  \n",
            "  inflating: myntradataset/images/7265.jpg  \n",
            "  inflating: myntradataset/images/7266.jpg  \n",
            "  inflating: myntradataset/images/7267.jpg  \n",
            "  inflating: myntradataset/images/7268.jpg  \n",
            "  inflating: myntradataset/images/7269.jpg  \n",
            "  inflating: myntradataset/images/7270.jpg  \n",
            "  inflating: myntradataset/images/7271.jpg  \n",
            "  inflating: myntradataset/images/7272.jpg  \n",
            "  inflating: myntradataset/images/7273.jpg  \n",
            "  inflating: myntradataset/images/7275.jpg  \n",
            "  inflating: myntradataset/images/7276.jpg  \n",
            "  inflating: myntradataset/images/7277.jpg  \n",
            "  inflating: myntradataset/images/7278.jpg  \n",
            "  inflating: myntradataset/images/7281.jpg  \n",
            "  inflating: myntradataset/images/7282.jpg  \n",
            "  inflating: myntradataset/images/7283.jpg  \n",
            "  inflating: myntradataset/images/7284.jpg  \n",
            "  inflating: myntradataset/images/7285.jpg  \n",
            "  inflating: myntradataset/images/7286.jpg  \n",
            "  inflating: myntradataset/images/7287.jpg  \n",
            "  inflating: myntradataset/images/7288.jpg  \n",
            "  inflating: myntradataset/images/7289.jpg  \n",
            "  inflating: myntradataset/images/7290.jpg  \n",
            "  inflating: myntradataset/images/7291.jpg  \n",
            "  inflating: myntradataset/images/7292.jpg  \n",
            "  inflating: myntradataset/images/7293.jpg  \n",
            "  inflating: myntradataset/images/7294.jpg  \n",
            "  inflating: myntradataset/images/7295.jpg  \n",
            "  inflating: myntradataset/images/7296.jpg  \n",
            "  inflating: myntradataset/images/7297.jpg  \n",
            "  inflating: myntradataset/images/7298.jpg  \n",
            "  inflating: myntradataset/images/7299.jpg  \n",
            "  inflating: myntradataset/images/7300.jpg  \n",
            "  inflating: myntradataset/images/7301.jpg  \n",
            "  inflating: myntradataset/images/7302.jpg  \n",
            "  inflating: myntradataset/images/7303.jpg  \n",
            "  inflating: myntradataset/images/7304.jpg  \n",
            "  inflating: myntradataset/images/7305.jpg  \n",
            "  inflating: myntradataset/images/7306.jpg  \n",
            "  inflating: myntradataset/images/7307.jpg  \n",
            "  inflating: myntradataset/images/7308.jpg  \n",
            "  inflating: myntradataset/images/7309.jpg  \n",
            "  inflating: myntradataset/images/7310.jpg  \n",
            "  inflating: myntradataset/images/7311.jpg  \n",
            "  inflating: myntradataset/images/7312.jpg  \n",
            "  inflating: myntradataset/images/7313.jpg  \n",
            "  inflating: myntradataset/images/7314.jpg  \n",
            "  inflating: myntradataset/images/7315.jpg  \n",
            "  inflating: myntradataset/images/7316.jpg  \n",
            "  inflating: myntradataset/images/7317.jpg  \n",
            "  inflating: myntradataset/images/7319.jpg  \n",
            "  inflating: myntradataset/images/7320.jpg  \n",
            "  inflating: myntradataset/images/7321.jpg  \n",
            "  inflating: myntradataset/images/7322.jpg  \n",
            "  inflating: myntradataset/images/7323.jpg  \n",
            "  inflating: myntradataset/images/7324.jpg  \n",
            "  inflating: myntradataset/images/7325.jpg  \n",
            "  inflating: myntradataset/images/7326.jpg  \n",
            "  inflating: myntradataset/images/7327.jpg  \n",
            "  inflating: myntradataset/images/7328.jpg  \n",
            "  inflating: myntradataset/images/7329.jpg  \n",
            "  inflating: myntradataset/images/7330.jpg  \n",
            "  inflating: myntradataset/images/7331.jpg  \n",
            "  inflating: myntradataset/images/7332.jpg  \n",
            "  inflating: myntradataset/images/7340.jpg  \n",
            "  inflating: myntradataset/images/7341.jpg  \n",
            "  inflating: myntradataset/images/7342.jpg  \n",
            "  inflating: myntradataset/images/7343.jpg  \n",
            "  inflating: myntradataset/images/7345.jpg  \n",
            "  inflating: myntradataset/images/7346.jpg  \n",
            "  inflating: myntradataset/images/7347.jpg  \n",
            "  inflating: myntradataset/images/7348.jpg  \n",
            "  inflating: myntradataset/images/7349.jpg  \n",
            "  inflating: myntradataset/images/7350.jpg  \n",
            "  inflating: myntradataset/images/7351.jpg  \n",
            "  inflating: myntradataset/images/7352.jpg  \n",
            "  inflating: myntradataset/images/7353.jpg  \n",
            "  inflating: myntradataset/images/7355.jpg  \n",
            "  inflating: myntradataset/images/7357.jpg  \n",
            "  inflating: myntradataset/images/7359.jpg  \n",
            "  inflating: myntradataset/images/7362.jpg  \n",
            "  inflating: myntradataset/images/7363.jpg  \n",
            "  inflating: myntradataset/images/7364.jpg  \n",
            "  inflating: myntradataset/images/7365.jpg  \n",
            "  inflating: myntradataset/images/7366.jpg  \n",
            "  inflating: myntradataset/images/7367.jpg  \n",
            "  inflating: myntradataset/images/7368.jpg  \n",
            "  inflating: myntradataset/images/7369.jpg  \n",
            "  inflating: myntradataset/images/7370.jpg  \n",
            "  inflating: myntradataset/images/7371.jpg  \n",
            "  inflating: myntradataset/images/7372.jpg  \n",
            "  inflating: myntradataset/images/7373.jpg  \n",
            "  inflating: myntradataset/images/7374.jpg  \n",
            "  inflating: myntradataset/images/7375.jpg  \n",
            "  inflating: myntradataset/images/7376.jpg  \n",
            "  inflating: myntradataset/images/7377.jpg  \n",
            "  inflating: myntradataset/images/7378.jpg  \n",
            "  inflating: myntradataset/images/7379.jpg  \n",
            "  inflating: myntradataset/images/7380.jpg  \n",
            "  inflating: myntradataset/images/7381.jpg  \n",
            "  inflating: myntradataset/images/7382.jpg  \n",
            "  inflating: myntradataset/images/7383.jpg  \n",
            "  inflating: myntradataset/images/7384.jpg  \n",
            "  inflating: myntradataset/images/7385.jpg  \n",
            "  inflating: myntradataset/images/7386.jpg  \n",
            "  inflating: myntradataset/images/7387.jpg  \n",
            "  inflating: myntradataset/images/7388.jpg  \n",
            "  inflating: myntradataset/images/7389.jpg  \n",
            "  inflating: myntradataset/images/7390.jpg  \n",
            "  inflating: myntradataset/images/7391.jpg  \n",
            "  inflating: myntradataset/images/7392.jpg  \n",
            "  inflating: myntradataset/images/7393.jpg  \n",
            "  inflating: myntradataset/images/7394.jpg  \n",
            "  inflating: myntradataset/images/7395.jpg  \n",
            "  inflating: myntradataset/images/7396.jpg  \n",
            "  inflating: myntradataset/images/7397.jpg  \n",
            "  inflating: myntradataset/images/7398.jpg  \n",
            "  inflating: myntradataset/images/7399.jpg  \n",
            "  inflating: myntradataset/images/7400.jpg  \n",
            "  inflating: myntradataset/images/7401.jpg  \n",
            "  inflating: myntradataset/images/7402.jpg  \n",
            "  inflating: myntradataset/images/7403.jpg  \n",
            "  inflating: myntradataset/images/7404.jpg  \n",
            "  inflating: myntradataset/images/7405.jpg  \n",
            "  inflating: myntradataset/images/7406.jpg  \n",
            "  inflating: myntradataset/images/7407.jpg  \n",
            "  inflating: myntradataset/images/7408.jpg  \n",
            "  inflating: myntradataset/images/7409.jpg  \n",
            "  inflating: myntradataset/images/7410.jpg  \n",
            "  inflating: myntradataset/images/7411.jpg  \n",
            "  inflating: myntradataset/images/7412.jpg  \n",
            "  inflating: myntradataset/images/7413.jpg  \n",
            "  inflating: myntradataset/images/7414.jpg  \n",
            "  inflating: myntradataset/images/7415.jpg  \n",
            "  inflating: myntradataset/images/7416.jpg  \n",
            "  inflating: myntradataset/images/7417.jpg  \n",
            "  inflating: myntradataset/images/7418.jpg  \n",
            "  inflating: myntradataset/images/7419.jpg  \n",
            "  inflating: myntradataset/images/7420.jpg  \n",
            "  inflating: myntradataset/images/7421.jpg  \n",
            "  inflating: myntradataset/images/7422.jpg  \n",
            "  inflating: myntradataset/images/7423.jpg  \n",
            "  inflating: myntradataset/images/7424.jpg  \n",
            "  inflating: myntradataset/images/7425.jpg  \n",
            "  inflating: myntradataset/images/7426.jpg  \n",
            "  inflating: myntradataset/images/7427.jpg  \n",
            "  inflating: myntradataset/images/7428.jpg  \n",
            "  inflating: myntradataset/images/7429.jpg  \n",
            "  inflating: myntradataset/images/7430.jpg  \n",
            "  inflating: myntradataset/images/7431.jpg  \n",
            "  inflating: myntradataset/images/7432.jpg  \n",
            "  inflating: myntradataset/images/7433.jpg  \n",
            "  inflating: myntradataset/images/7434.jpg  \n",
            "  inflating: myntradataset/images/7435.jpg  \n",
            "  inflating: myntradataset/images/7436.jpg  \n",
            "  inflating: myntradataset/images/7437.jpg  \n",
            "  inflating: myntradataset/images/7438.jpg  \n",
            "  inflating: myntradataset/images/7439.jpg  \n",
            "  inflating: myntradataset/images/7440.jpg  \n",
            "  inflating: myntradataset/images/7441.jpg  \n",
            "  inflating: myntradataset/images/7442.jpg  \n",
            "  inflating: myntradataset/images/7443.jpg  \n",
            "  inflating: myntradataset/images/7445.jpg  \n",
            "  inflating: myntradataset/images/7446.jpg  \n",
            "  inflating: myntradataset/images/7447.jpg  \n",
            "  inflating: myntradataset/images/7449.jpg  \n",
            "  inflating: myntradataset/images/7450.jpg  \n",
            "  inflating: myntradataset/images/7451.jpg  \n",
            "  inflating: myntradataset/images/7452.jpg  \n",
            "  inflating: myntradataset/images/7453.jpg  \n",
            "  inflating: myntradataset/images/7454.jpg  \n",
            "  inflating: myntradataset/images/7455.jpg  \n",
            "  inflating: myntradataset/images/7456.jpg  \n",
            "  inflating: myntradataset/images/7457.jpg  \n",
            "  inflating: myntradataset/images/7458.jpg  \n",
            "  inflating: myntradataset/images/7459.jpg  \n",
            "  inflating: myntradataset/images/7460.jpg  \n",
            "  inflating: myntradataset/images/7462.jpg  \n",
            "  inflating: myntradataset/images/7463.jpg  \n",
            "  inflating: myntradataset/images/7465.jpg  \n",
            "  inflating: myntradataset/images/7467.jpg  \n",
            "  inflating: myntradataset/images/7468.jpg  \n",
            "  inflating: myntradataset/images/7469.jpg  \n",
            "  inflating: myntradataset/images/7470.jpg  \n",
            "  inflating: myntradataset/images/7471.jpg  \n",
            "  inflating: myntradataset/images/7472.jpg  \n",
            "  inflating: myntradataset/images/7473.jpg  \n",
            "  inflating: myntradataset/images/7475.jpg  \n",
            "  inflating: myntradataset/images/7476.jpg  \n",
            "  inflating: myntradataset/images/7479.jpg  \n",
            "  inflating: myntradataset/images/7480.jpg  \n",
            "  inflating: myntradataset/images/7481.jpg  \n",
            "  inflating: myntradataset/images/7482.jpg  \n",
            "  inflating: myntradataset/images/7483.jpg  \n",
            "  inflating: myntradataset/images/7484.jpg  \n",
            "  inflating: myntradataset/images/7486.jpg  \n",
            "  inflating: myntradataset/images/7487.jpg  \n",
            "  inflating: myntradataset/images/7488.jpg  \n",
            "  inflating: myntradataset/images/7489.jpg  \n",
            "  inflating: myntradataset/images/7490.jpg  \n",
            "  inflating: myntradataset/images/7491.jpg  \n",
            "  inflating: myntradataset/images/7492.jpg  \n",
            "  inflating: myntradataset/images/7493.jpg  \n",
            "  inflating: myntradataset/images/7494.jpg  \n",
            "  inflating: myntradataset/images/7495.jpg  \n",
            "  inflating: myntradataset/images/7496.jpg  \n",
            "  inflating: myntradataset/images/7497.jpg  \n",
            "  inflating: myntradataset/images/7498.jpg  \n",
            "  inflating: myntradataset/images/7499.jpg  \n",
            "  inflating: myntradataset/images/7500.jpg  \n",
            "  inflating: myntradataset/images/7501.jpg  \n",
            "  inflating: myntradataset/images/7502.jpg  \n",
            "  inflating: myntradataset/images/7503.jpg  \n",
            "  inflating: myntradataset/images/7504.jpg  \n",
            "  inflating: myntradataset/images/7505.jpg  \n",
            "  inflating: myntradataset/images/7506.jpg  \n",
            "  inflating: myntradataset/images/7507.jpg  \n",
            "  inflating: myntradataset/images/7508.jpg  \n",
            "  inflating: myntradataset/images/7509.jpg  \n",
            "  inflating: myntradataset/images/7510.jpg  \n",
            "  inflating: myntradataset/images/7511.jpg  \n",
            "  inflating: myntradataset/images/7512.jpg  \n",
            "  inflating: myntradataset/images/7513.jpg  \n",
            "  inflating: myntradataset/images/7514.jpg  \n",
            "  inflating: myntradataset/images/7515.jpg  \n",
            "  inflating: myntradataset/images/7516.jpg  \n",
            "  inflating: myntradataset/images/7517.jpg  \n",
            "  inflating: myntradataset/images/7518.jpg  \n",
            "  inflating: myntradataset/images/7519.jpg  \n",
            "  inflating: myntradataset/images/7520.jpg  \n",
            "  inflating: myntradataset/images/7521.jpg  \n",
            "  inflating: myntradataset/images/7522.jpg  \n",
            "  inflating: myntradataset/images/7523.jpg  \n",
            "  inflating: myntradataset/images/7524.jpg  \n",
            "  inflating: myntradataset/images/7525.jpg  \n",
            "  inflating: myntradataset/images/7526.jpg  \n",
            "  inflating: myntradataset/images/7527.jpg  \n",
            "  inflating: myntradataset/images/7528.jpg  \n",
            "  inflating: myntradataset/images/7529.jpg  \n",
            "  inflating: myntradataset/images/7530.jpg  \n",
            "  inflating: myntradataset/images/7531.jpg  \n",
            "  inflating: myntradataset/images/7532.jpg  \n",
            "  inflating: myntradataset/images/7533.jpg  \n",
            "  inflating: myntradataset/images/7534.jpg  \n",
            "  inflating: myntradataset/images/7535.jpg  \n",
            "  inflating: myntradataset/images/7536.jpg  \n",
            "  inflating: myntradataset/images/7537.jpg  \n",
            "  inflating: myntradataset/images/7538.jpg  \n",
            "  inflating: myntradataset/images/7539.jpg  \n",
            "  inflating: myntradataset/images/7540.jpg  \n",
            "  inflating: myntradataset/images/7541.jpg  \n",
            "  inflating: myntradataset/images/7542.jpg  \n",
            "  inflating: myntradataset/images/7543.jpg  \n",
            "  inflating: myntradataset/images/7544.jpg  \n",
            "  inflating: myntradataset/images/7545.jpg  \n",
            "  inflating: myntradataset/images/7546.jpg  \n",
            "  inflating: myntradataset/images/7547.jpg  \n",
            "  inflating: myntradataset/images/7548.jpg  \n",
            "  inflating: myntradataset/images/7549.jpg  \n",
            "  inflating: myntradataset/images/7550.jpg  \n",
            "  inflating: myntradataset/images/7551.jpg  \n",
            "  inflating: myntradataset/images/7552.jpg  \n",
            "  inflating: myntradataset/images/7553.jpg  \n",
            "  inflating: myntradataset/images/7554.jpg  \n",
            "  inflating: myntradataset/images/7555.jpg  \n",
            "  inflating: myntradataset/images/7556.jpg  \n",
            "  inflating: myntradataset/images/7557.jpg  \n",
            "  inflating: myntradataset/images/7558.jpg  \n",
            "  inflating: myntradataset/images/7559.jpg  \n",
            "  inflating: myntradataset/images/7560.jpg  \n",
            "  inflating: myntradataset/images/7561.jpg  \n",
            "  inflating: myntradataset/images/7562.jpg  \n",
            "  inflating: myntradataset/images/7563.jpg  \n",
            "  inflating: myntradataset/images/7564.jpg  \n",
            "  inflating: myntradataset/images/7565.jpg  \n",
            "  inflating: myntradataset/images/7566.jpg  \n",
            "  inflating: myntradataset/images/7567.jpg  \n",
            "  inflating: myntradataset/images/7568.jpg  \n",
            "  inflating: myntradataset/images/7569.jpg  \n",
            "  inflating: myntradataset/images/7570.jpg  \n",
            "  inflating: myntradataset/images/7571.jpg  \n",
            "  inflating: myntradataset/images/7572.jpg  \n",
            "  inflating: myntradataset/images/7573.jpg  \n",
            "  inflating: myntradataset/images/7574.jpg  \n",
            "  inflating: myntradataset/images/7575.jpg  \n",
            "  inflating: myntradataset/images/7576.jpg  \n",
            "  inflating: myntradataset/images/7577.jpg  \n",
            "  inflating: myntradataset/images/7578.jpg  \n",
            "  inflating: myntradataset/images/7579.jpg  \n",
            "  inflating: myntradataset/images/7580.jpg  \n",
            "  inflating: myntradataset/images/7581.jpg  \n",
            "  inflating: myntradataset/images/7582.jpg  \n",
            "  inflating: myntradataset/images/7583.jpg  \n",
            "  inflating: myntradataset/images/7584.jpg  \n",
            "  inflating: myntradataset/images/7585.jpg  \n",
            "  inflating: myntradataset/images/7586.jpg  \n",
            "  inflating: myntradataset/images/7587.jpg  \n",
            "  inflating: myntradataset/images/7588.jpg  \n",
            "  inflating: myntradataset/images/7589.jpg  \n",
            "  inflating: myntradataset/images/7590.jpg  \n",
            "  inflating: myntradataset/images/7591.jpg  \n",
            "  inflating: myntradataset/images/7592.jpg  \n",
            "  inflating: myntradataset/images/7593.jpg  \n",
            "  inflating: myntradataset/images/7594.jpg  \n",
            "  inflating: myntradataset/images/7595.jpg  \n",
            "  inflating: myntradataset/images/7596.jpg  \n",
            "  inflating: myntradataset/images/7597.jpg  \n",
            "  inflating: myntradataset/images/7598.jpg  \n",
            "  inflating: myntradataset/images/7599.jpg  \n",
            "  inflating: myntradataset/images/7600.jpg  \n",
            "  inflating: myntradataset/images/7601.jpg  \n",
            "  inflating: myntradataset/images/7602.jpg  \n",
            "  inflating: myntradataset/images/7603.jpg  \n",
            "  inflating: myntradataset/images/7604.jpg  \n",
            "  inflating: myntradataset/images/7605.jpg  \n",
            "  inflating: myntradataset/images/7606.jpg  \n",
            "  inflating: myntradataset/images/7607.jpg  \n",
            "  inflating: myntradataset/images/7608.jpg  \n",
            "  inflating: myntradataset/images/7609.jpg  \n",
            "  inflating: myntradataset/images/7610.jpg  \n",
            "  inflating: myntradataset/images/7611.jpg  \n",
            "  inflating: myntradataset/images/7612.jpg  \n",
            "  inflating: myntradataset/images/7613.jpg  \n",
            "  inflating: myntradataset/images/7614.jpg  \n",
            "  inflating: myntradataset/images/7615.jpg  \n",
            "  inflating: myntradataset/images/7616.jpg  \n",
            "  inflating: myntradataset/images/7617.jpg  \n",
            "  inflating: myntradataset/images/7618.jpg  \n",
            "  inflating: myntradataset/images/7619.jpg  \n",
            "  inflating: myntradataset/images/7621.jpg  \n",
            "  inflating: myntradataset/images/7622.jpg  \n",
            "  inflating: myntradataset/images/7623.jpg  \n",
            "  inflating: myntradataset/images/7624.jpg  \n",
            "  inflating: myntradataset/images/7625.jpg  \n",
            "  inflating: myntradataset/images/7626.jpg  \n",
            "  inflating: myntradataset/images/7629.jpg  \n",
            "  inflating: myntradataset/images/7630.jpg  \n",
            "  inflating: myntradataset/images/7631.jpg  \n",
            "  inflating: myntradataset/images/7632.jpg  \n",
            "  inflating: myntradataset/images/7633.jpg  \n",
            "  inflating: myntradataset/images/7634.jpg  \n",
            "  inflating: myntradataset/images/7635.jpg  \n",
            "  inflating: myntradataset/images/7636.jpg  \n",
            "  inflating: myntradataset/images/7637.jpg  \n",
            "  inflating: myntradataset/images/7638.jpg  \n",
            "  inflating: myntradataset/images/7639.jpg  \n",
            "  inflating: myntradataset/images/7640.jpg  \n",
            "  inflating: myntradataset/images/7641.jpg  \n",
            "  inflating: myntradataset/images/7642.jpg  \n",
            "  inflating: myntradataset/images/7643.jpg  \n",
            "  inflating: myntradataset/images/7644.jpg  \n",
            "  inflating: myntradataset/images/7645.jpg  \n",
            "  inflating: myntradataset/images/7646.jpg  \n",
            "  inflating: myntradataset/images/7647.jpg  \n",
            "  inflating: myntradataset/images/7648.jpg  \n",
            "  inflating: myntradataset/images/7649.jpg  \n",
            "  inflating: myntradataset/images/7650.jpg  \n",
            "  inflating: myntradataset/images/7651.jpg  \n",
            "  inflating: myntradataset/images/7652.jpg  \n",
            "  inflating: myntradataset/images/7653.jpg  \n",
            "  inflating: myntradataset/images/7654.jpg  \n",
            "  inflating: myntradataset/images/7655.jpg  \n",
            "  inflating: myntradataset/images/7656.jpg  \n",
            "  inflating: myntradataset/images/7657.jpg  \n",
            "  inflating: myntradataset/images/7658.jpg  \n",
            "  inflating: myntradataset/images/7659.jpg  \n",
            "  inflating: myntradataset/images/7660.jpg  \n",
            "  inflating: myntradataset/images/7661.jpg  \n",
            "  inflating: myntradataset/images/7662.jpg  \n",
            "  inflating: myntradataset/images/7663.jpg  \n",
            "  inflating: myntradataset/images/7664.jpg  \n",
            "  inflating: myntradataset/images/7665.jpg  \n",
            "  inflating: myntradataset/images/7666.jpg  \n",
            "  inflating: myntradataset/images/7667.jpg  \n",
            "  inflating: myntradataset/images/7668.jpg  \n",
            "  inflating: myntradataset/images/7669.jpg  \n",
            "  inflating: myntradataset/images/7670.jpg  \n",
            "  inflating: myntradataset/images/7671.jpg  \n",
            "  inflating: myntradataset/images/7672.jpg  \n",
            "  inflating: myntradataset/images/7673.jpg  \n",
            "  inflating: myntradataset/images/7674.jpg  \n",
            "  inflating: myntradataset/images/7675.jpg  \n",
            "  inflating: myntradataset/images/7676.jpg  \n",
            "  inflating: myntradataset/images/7677.jpg  \n",
            "  inflating: myntradataset/images/7678.jpg  \n",
            "  inflating: myntradataset/images/7679.jpg  \n",
            "  inflating: myntradataset/images/7680.jpg  \n",
            "  inflating: myntradataset/images/7681.jpg  \n",
            "  inflating: myntradataset/images/7682.jpg  \n",
            "  inflating: myntradataset/images/7683.jpg  \n",
            "  inflating: myntradataset/images/7684.jpg  \n",
            "  inflating: myntradataset/images/7685.jpg  \n",
            "  inflating: myntradataset/images/7686.jpg  \n",
            "  inflating: myntradataset/images/7687.jpg  \n",
            "  inflating: myntradataset/images/7688.jpg  \n",
            "  inflating: myntradataset/images/7689.jpg  \n",
            "  inflating: myntradataset/images/7690.jpg  \n",
            "  inflating: myntradataset/images/7691.jpg  \n",
            "  inflating: myntradataset/images/7692.jpg  \n",
            "  inflating: myntradataset/images/7693.jpg  \n",
            "  inflating: myntradataset/images/7694.jpg  \n",
            "  inflating: myntradataset/images/7695.jpg  \n",
            "  inflating: myntradataset/images/7696.jpg  \n",
            "  inflating: myntradataset/images/7697.jpg  \n",
            "  inflating: myntradataset/images/7698.jpg  \n",
            "  inflating: myntradataset/images/7699.jpg  \n",
            "  inflating: myntradataset/images/7700.jpg  \n",
            "  inflating: myntradataset/images/7701.jpg  \n",
            "  inflating: myntradataset/images/7702.jpg  \n",
            "  inflating: myntradataset/images/7703.jpg  \n",
            "  inflating: myntradataset/images/7704.jpg  \n",
            "  inflating: myntradataset/images/7705.jpg  \n",
            "  inflating: myntradataset/images/7706.jpg  \n",
            "  inflating: myntradataset/images/7707.jpg  \n",
            "  inflating: myntradataset/images/7708.jpg  \n",
            "  inflating: myntradataset/images/7709.jpg  \n",
            "  inflating: myntradataset/images/7710.jpg  \n",
            "  inflating: myntradataset/images/7712.jpg  \n",
            "  inflating: myntradataset/images/7713.jpg  \n",
            "  inflating: myntradataset/images/7714.jpg  \n",
            "  inflating: myntradataset/images/7715.jpg  \n",
            "  inflating: myntradataset/images/7716.jpg  \n",
            "  inflating: myntradataset/images/7717.jpg  \n",
            "  inflating: myntradataset/images/7719.jpg  \n",
            "  inflating: myntradataset/images/7721.jpg  \n",
            "  inflating: myntradataset/images/7722.jpg  \n",
            "  inflating: myntradataset/images/7723.jpg  \n",
            "  inflating: myntradataset/images/7724.jpg  \n",
            "  inflating: myntradataset/images/7726.jpg  \n",
            "  inflating: myntradataset/images/7727.jpg  \n",
            "  inflating: myntradataset/images/7728.jpg  \n",
            "  inflating: myntradataset/images/7729.jpg  \n",
            "  inflating: myntradataset/images/7730.jpg  \n",
            "  inflating: myntradataset/images/7731.jpg  \n",
            "  inflating: myntradataset/images/7732.jpg  \n",
            "  inflating: myntradataset/images/7733.jpg  \n",
            "  inflating: myntradataset/images/7734.jpg  \n",
            "  inflating: myntradataset/images/7735.jpg  \n",
            "  inflating: myntradataset/images/7736.jpg  \n",
            "  inflating: myntradataset/images/7737.jpg  \n",
            "  inflating: myntradataset/images/7739.jpg  \n",
            "  inflating: myntradataset/images/7741.jpg  \n",
            "  inflating: myntradataset/images/7742.jpg  \n",
            "  inflating: myntradataset/images/7743.jpg  \n",
            "  inflating: myntradataset/images/7744.jpg  \n",
            "  inflating: myntradataset/images/7745.jpg  \n",
            "  inflating: myntradataset/images/7746.jpg  \n",
            "  inflating: myntradataset/images/7747.jpg  \n",
            "  inflating: myntradataset/images/7748.jpg  \n",
            "  inflating: myntradataset/images/7749.jpg  \n",
            "  inflating: myntradataset/images/7751.jpg  \n",
            "  inflating: myntradataset/images/7752.jpg  \n",
            "  inflating: myntradataset/images/7753.jpg  \n",
            "  inflating: myntradataset/images/7754.jpg  \n",
            "  inflating: myntradataset/images/7755.jpg  \n",
            "  inflating: myntradataset/images/7756.jpg  \n",
            "  inflating: myntradataset/images/7758.jpg  \n",
            "  inflating: myntradataset/images/7761.jpg  \n",
            "  inflating: myntradataset/images/7763.jpg  \n",
            "  inflating: myntradataset/images/7764.jpg  \n",
            "  inflating: myntradataset/images/7766.jpg  \n",
            "  inflating: myntradataset/images/7767.jpg  \n",
            "  inflating: myntradataset/images/7768.jpg  \n",
            "  inflating: myntradataset/images/7769.jpg  \n",
            "  inflating: myntradataset/images/7770.jpg  \n",
            "  inflating: myntradataset/images/7771.jpg  \n",
            "  inflating: myntradataset/images/7772.jpg  \n",
            "  inflating: myntradataset/images/7773.jpg  \n",
            "  inflating: myntradataset/images/7774.jpg  \n",
            "  inflating: myntradataset/images/7775.jpg  \n",
            "  inflating: myntradataset/images/7776.jpg  \n",
            "  inflating: myntradataset/images/7777.jpg  \n",
            "  inflating: myntradataset/images/7778.jpg  \n",
            "  inflating: myntradataset/images/7779.jpg  \n",
            "  inflating: myntradataset/images/7780.jpg  \n",
            "  inflating: myntradataset/images/7781.jpg  \n",
            "  inflating: myntradataset/images/7782.jpg  \n",
            "  inflating: myntradataset/images/7783.jpg  \n",
            "  inflating: myntradataset/images/7784.jpg  \n",
            "  inflating: myntradataset/images/7785.jpg  \n",
            "  inflating: myntradataset/images/7787.jpg  \n",
            "  inflating: myntradataset/images/7788.jpg  \n",
            "  inflating: myntradataset/images/7789.jpg  \n",
            "  inflating: myntradataset/images/7790.jpg  \n",
            "  inflating: myntradataset/images/7791.jpg  \n",
            "  inflating: myntradataset/images/7792.jpg  \n",
            "  inflating: myntradataset/images/7793.jpg  \n",
            "  inflating: myntradataset/images/7794.jpg  \n",
            "  inflating: myntradataset/images/7795.jpg  \n",
            "  inflating: myntradataset/images/7796.jpg  \n",
            "  inflating: myntradataset/images/7797.jpg  \n",
            "  inflating: myntradataset/images/7798.jpg  \n",
            "  inflating: myntradataset/images/7799.jpg  \n",
            "  inflating: myntradataset/images/7800.jpg  \n",
            "  inflating: myntradataset/images/7801.jpg  \n",
            "  inflating: myntradataset/images/7802.jpg  \n",
            "  inflating: myntradataset/images/7803.jpg  \n",
            "  inflating: myntradataset/images/7804.jpg  \n",
            "  inflating: myntradataset/images/7805.jpg  \n",
            "  inflating: myntradataset/images/7806.jpg  \n",
            "  inflating: myntradataset/images/7807.jpg  \n",
            "  inflating: myntradataset/images/7808.jpg  \n",
            "  inflating: myntradataset/images/7809.jpg  \n",
            "  inflating: myntradataset/images/7810.jpg  \n",
            "  inflating: myntradataset/images/7811.jpg  \n",
            "  inflating: myntradataset/images/7812.jpg  \n",
            "  inflating: myntradataset/images/7813.jpg  \n",
            "  inflating: myntradataset/images/7814.jpg  \n",
            "  inflating: myntradataset/images/7815.jpg  \n",
            "  inflating: myntradataset/images/7816.jpg  \n",
            "  inflating: myntradataset/images/7817.jpg  \n",
            "  inflating: myntradataset/images/7818.jpg  \n",
            "  inflating: myntradataset/images/7819.jpg  \n",
            "  inflating: myntradataset/images/7820.jpg  \n",
            "  inflating: myntradataset/images/7822.jpg  \n",
            "  inflating: myntradataset/images/7823.jpg  \n",
            "  inflating: myntradataset/images/7824.jpg  \n",
            "  inflating: myntradataset/images/7826.jpg  \n",
            "  inflating: myntradataset/images/7827.jpg  \n",
            "  inflating: myntradataset/images/7828.jpg  \n",
            "  inflating: myntradataset/images/7829.jpg  \n",
            "  inflating: myntradataset/images/7830.jpg  \n",
            "  inflating: myntradataset/images/7831.jpg  \n",
            "  inflating: myntradataset/images/7832.jpg  \n",
            "  inflating: myntradataset/images/7833.jpg  \n",
            "  inflating: myntradataset/images/7834.jpg  \n",
            "  inflating: myntradataset/images/7835.jpg  \n",
            "  inflating: myntradataset/images/7836.jpg  \n",
            "  inflating: myntradataset/images/7837.jpg  \n",
            "  inflating: myntradataset/images/7838.jpg  \n",
            "  inflating: myntradataset/images/7840.jpg  \n",
            "  inflating: myntradataset/images/7841.jpg  \n",
            "  inflating: myntradataset/images/7842.jpg  \n",
            "  inflating: myntradataset/images/7843.jpg  \n",
            "  inflating: myntradataset/images/7844.jpg  \n",
            "  inflating: myntradataset/images/7845.jpg  \n",
            "  inflating: myntradataset/images/7846.jpg  \n",
            "  inflating: myntradataset/images/7847.jpg  \n",
            "  inflating: myntradataset/images/7848.jpg  \n",
            "  inflating: myntradataset/images/7850.jpg  \n",
            "  inflating: myntradataset/images/7851.jpg  \n",
            "  inflating: myntradataset/images/7852.jpg  \n",
            "  inflating: myntradataset/images/7853.jpg  \n",
            "  inflating: myntradataset/images/7854.jpg  \n",
            "  inflating: myntradataset/images/7855.jpg  \n",
            "  inflating: myntradataset/images/7856.jpg  \n",
            "  inflating: myntradataset/images/7857.jpg  \n",
            "  inflating: myntradataset/images/7858.jpg  \n",
            "  inflating: myntradataset/images/7859.jpg  \n",
            "  inflating: myntradataset/images/7860.jpg  \n",
            "  inflating: myntradataset/images/7861.jpg  \n",
            "  inflating: myntradataset/images/7862.jpg  \n",
            "  inflating: myntradataset/images/7863.jpg  \n",
            "  inflating: myntradataset/images/7864.jpg  \n",
            "  inflating: myntradataset/images/7865.jpg  \n",
            "  inflating: myntradataset/images/7866.jpg  \n",
            "  inflating: myntradataset/images/7867.jpg  \n",
            "  inflating: myntradataset/images/7868.jpg  \n",
            "  inflating: myntradataset/images/7869.jpg  \n",
            "  inflating: myntradataset/images/7870.jpg  \n",
            "  inflating: myntradataset/images/7871.jpg  \n",
            "  inflating: myntradataset/images/7873.jpg  \n",
            "  inflating: myntradataset/images/7874.jpg  \n",
            "  inflating: myntradataset/images/7875.jpg  \n",
            "  inflating: myntradataset/images/7876.jpg  \n",
            "  inflating: myntradataset/images/7877.jpg  \n",
            "  inflating: myntradataset/images/7878.jpg  \n",
            "  inflating: myntradataset/images/7879.jpg  \n",
            "  inflating: myntradataset/images/7880.jpg  \n",
            "  inflating: myntradataset/images/7881.jpg  \n",
            "  inflating: myntradataset/images/7882.jpg  \n",
            "  inflating: myntradataset/images/7883.jpg  \n",
            "  inflating: myntradataset/images/7884.jpg  \n",
            "  inflating: myntradataset/images/7885.jpg  \n",
            "  inflating: myntradataset/images/7887.jpg  \n",
            "  inflating: myntradataset/images/7888.jpg  \n",
            "  inflating: myntradataset/images/7889.jpg  \n",
            "  inflating: myntradataset/images/7890.jpg  \n",
            "  inflating: myntradataset/images/7891.jpg  \n",
            "  inflating: myntradataset/images/7892.jpg  \n",
            "  inflating: myntradataset/images/7895.jpg  \n",
            "  inflating: myntradataset/images/7896.jpg  \n",
            "  inflating: myntradataset/images/7898.jpg  \n",
            "  inflating: myntradataset/images/7901.jpg  \n",
            "  inflating: myntradataset/images/7902.jpg  \n",
            "  inflating: myntradataset/images/7903.jpg  \n",
            "  inflating: myntradataset/images/7904.jpg  \n",
            "  inflating: myntradataset/images/7905.jpg  \n",
            "  inflating: myntradataset/images/7906.jpg  \n",
            "  inflating: myntradataset/images/7907.jpg  \n",
            "  inflating: myntradataset/images/7908.jpg  \n",
            "  inflating: myntradataset/images/7909.jpg  \n",
            "  inflating: myntradataset/images/7910.jpg  \n",
            "  inflating: myntradataset/images/7911.jpg  \n",
            "  inflating: myntradataset/images/7913.jpg  \n",
            "  inflating: myntradataset/images/7914.jpg  \n",
            "  inflating: myntradataset/images/7915.jpg  \n",
            "  inflating: myntradataset/images/7916.jpg  \n",
            "  inflating: myntradataset/images/7917.jpg  \n",
            "  inflating: myntradataset/images/7918.jpg  \n",
            "  inflating: myntradataset/images/7920.jpg  \n",
            "  inflating: myntradataset/images/7921.jpg  \n",
            "  inflating: myntradataset/images/7922.jpg  \n",
            "  inflating: myntradataset/images/7923.jpg  \n",
            "  inflating: myntradataset/images/7924.jpg  \n",
            "  inflating: myntradataset/images/7925.jpg  \n",
            "  inflating: myntradataset/images/7926.jpg  \n",
            "  inflating: myntradataset/images/7927.jpg  \n",
            "  inflating: myntradataset/images/7928.jpg  \n",
            "  inflating: myntradataset/images/7930.jpg  \n",
            "  inflating: myntradataset/images/7931.jpg  \n",
            "  inflating: myntradataset/images/7932.jpg  \n",
            "  inflating: myntradataset/images/7933.jpg  \n",
            "  inflating: myntradataset/images/7934.jpg  \n",
            "  inflating: myntradataset/images/7935.jpg  \n",
            "  inflating: myntradataset/images/7936.jpg  \n",
            "  inflating: myntradataset/images/7937.jpg  \n",
            "  inflating: myntradataset/images/7938.jpg  \n",
            "  inflating: myntradataset/images/7939.jpg  \n",
            "  inflating: myntradataset/images/7940.jpg  \n",
            "  inflating: myntradataset/images/7941.jpg  \n",
            "  inflating: myntradataset/images/7942.jpg  \n",
            "  inflating: myntradataset/images/7943.jpg  \n",
            "  inflating: myntradataset/images/7944.jpg  \n",
            "  inflating: myntradataset/images/7945.jpg  \n",
            "  inflating: myntradataset/images/7946.jpg  \n",
            "  inflating: myntradataset/images/7947.jpg  \n",
            "  inflating: myntradataset/images/7948.jpg  \n",
            "  inflating: myntradataset/images/7949.jpg  \n",
            "  inflating: myntradataset/images/7950.jpg  \n",
            "  inflating: myntradataset/images/7951.jpg  \n",
            "  inflating: myntradataset/images/7952.jpg  \n",
            "  inflating: myntradataset/images/7953.jpg  \n",
            "  inflating: myntradataset/images/7954.jpg  \n",
            "  inflating: myntradataset/images/7955.jpg  \n",
            "  inflating: myntradataset/images/7956.jpg  \n",
            "  inflating: myntradataset/images/7957.jpg  \n",
            "  inflating: myntradataset/images/7958.jpg  \n",
            "  inflating: myntradataset/images/7959.jpg  \n",
            "  inflating: myntradataset/images/7960.jpg  \n",
            "  inflating: myntradataset/images/7961.jpg  \n",
            "  inflating: myntradataset/images/7962.jpg  \n",
            "  inflating: myntradataset/images/7963.jpg  \n",
            "  inflating: myntradataset/images/7964.jpg  \n",
            "  inflating: myntradataset/images/7965.jpg  \n",
            "  inflating: myntradataset/images/7966.jpg  \n",
            "  inflating: myntradataset/images/7968.jpg  \n",
            "  inflating: myntradataset/images/7969.jpg  \n",
            "  inflating: myntradataset/images/7970.jpg  \n",
            "  inflating: myntradataset/images/7971.jpg  \n",
            "  inflating: myntradataset/images/7979.jpg  \n",
            "  inflating: myntradataset/images/7980.jpg  \n",
            "  inflating: myntradataset/images/7985.jpg  \n",
            "  inflating: myntradataset/images/7987.jpg  \n",
            "  inflating: myntradataset/images/7988.jpg  \n",
            "  inflating: myntradataset/images/7990.jpg  \n",
            "  inflating: myntradataset/images/7996.jpg  \n",
            "  inflating: myntradataset/images/8002.jpg  \n",
            "  inflating: myntradataset/images/8003.jpg  \n",
            "  inflating: myntradataset/images/8004.jpg  \n",
            "  inflating: myntradataset/images/8011.jpg  \n",
            "  inflating: myntradataset/images/8012.jpg  \n",
            "  inflating: myntradataset/images/8014.jpg  \n",
            "  inflating: myntradataset/images/8017.jpg  \n",
            "  inflating: myntradataset/images/8018.jpg  \n",
            "  inflating: myntradataset/images/8020.jpg  \n",
            "  inflating: myntradataset/images/8022.jpg  \n",
            "  inflating: myntradataset/images/8026.jpg  \n",
            "  inflating: myntradataset/images/8030.jpg  \n",
            "  inflating: myntradataset/images/8040.jpg  \n",
            "  inflating: myntradataset/images/8047.jpg  \n",
            "  inflating: myntradataset/images/8050.jpg  \n",
            "  inflating: myntradataset/images/8056.jpg  \n",
            "  inflating: myntradataset/images/8063.jpg  \n",
            "  inflating: myntradataset/images/8064.jpg  \n",
            "  inflating: myntradataset/images/8065.jpg  \n",
            "  inflating: myntradataset/images/8066.jpg  \n",
            "  inflating: myntradataset/images/8067.jpg  \n",
            "  inflating: myntradataset/images/8068.jpg  \n",
            "  inflating: myntradataset/images/8071.jpg  \n",
            "  inflating: myntradataset/images/8072.jpg  \n",
            "  inflating: myntradataset/images/8073.jpg  \n",
            "  inflating: myntradataset/images/8074.jpg  \n",
            "  inflating: myntradataset/images/8075.jpg  \n",
            "  inflating: myntradataset/images/8076.jpg  \n",
            "  inflating: myntradataset/images/8077.jpg  \n",
            "  inflating: myntradataset/images/8078.jpg  \n",
            "  inflating: myntradataset/images/8079.jpg  \n",
            "  inflating: myntradataset/images/8080.jpg  \n",
            "  inflating: myntradataset/images/8081.jpg  \n",
            "  inflating: myntradataset/images/8082.jpg  \n",
            "  inflating: myntradataset/images/8083.jpg  \n",
            "  inflating: myntradataset/images/8084.jpg  \n",
            "  inflating: myntradataset/images/8085.jpg  \n",
            "  inflating: myntradataset/images/8086.jpg  \n",
            "  inflating: myntradataset/images/8087.jpg  \n",
            "  inflating: myntradataset/images/8088.jpg  \n",
            "  inflating: myntradataset/images/8089.jpg  \n",
            "  inflating: myntradataset/images/8090.jpg  \n",
            "  inflating: myntradataset/images/8091.jpg  \n",
            "  inflating: myntradataset/images/8092.jpg  \n",
            "  inflating: myntradataset/images/8093.jpg  \n",
            "  inflating: myntradataset/images/8094.jpg  \n",
            "  inflating: myntradataset/images/8095.jpg  \n",
            "  inflating: myntradataset/images/8096.jpg  \n",
            "  inflating: myntradataset/images/8098.jpg  \n",
            "  inflating: myntradataset/images/8099.jpg  \n",
            "  inflating: myntradataset/images/8100.jpg  \n",
            "  inflating: myntradataset/images/8101.jpg  \n",
            "  inflating: myntradataset/images/8102.jpg  \n",
            "  inflating: myntradataset/images/8103.jpg  \n",
            "  inflating: myntradataset/images/8104.jpg  \n",
            "  inflating: myntradataset/images/8106.jpg  \n",
            "  inflating: myntradataset/images/8107.jpg  \n",
            "  inflating: myntradataset/images/8108.jpg  \n",
            "  inflating: myntradataset/images/8109.jpg  \n",
            "  inflating: myntradataset/images/8110.jpg  \n",
            "  inflating: myntradataset/images/8111.jpg  \n",
            "  inflating: myntradataset/images/8112.jpg  \n",
            "  inflating: myntradataset/images/8113.jpg  \n",
            "  inflating: myntradataset/images/8114.jpg  \n",
            "  inflating: myntradataset/images/8115.jpg  \n",
            "  inflating: myntradataset/images/8116.jpg  \n",
            "  inflating: myntradataset/images/8117.jpg  \n",
            "  inflating: myntradataset/images/8118.jpg  \n",
            "  inflating: myntradataset/images/8119.jpg  \n",
            "  inflating: myntradataset/images/8120.jpg  \n",
            "  inflating: myntradataset/images/8121.jpg  \n",
            "  inflating: myntradataset/images/8122.jpg  \n",
            "  inflating: myntradataset/images/8123.jpg  \n",
            "  inflating: myntradataset/images/8124.jpg  \n",
            "  inflating: myntradataset/images/8125.jpg  \n",
            "  inflating: myntradataset/images/8126.jpg  \n",
            "  inflating: myntradataset/images/8129.jpg  \n",
            "  inflating: myntradataset/images/8130.jpg  \n",
            "  inflating: myntradataset/images/8131.jpg  \n",
            "  inflating: myntradataset/images/8132.jpg  \n",
            "  inflating: myntradataset/images/8133.jpg  \n",
            "  inflating: myntradataset/images/8134.jpg  \n",
            "  inflating: myntradataset/images/8135.jpg  \n",
            "  inflating: myntradataset/images/8136.jpg  \n",
            "  inflating: myntradataset/images/8137.jpg  \n",
            "  inflating: myntradataset/images/8138.jpg  \n",
            "  inflating: myntradataset/images/8139.jpg  \n",
            "  inflating: myntradataset/images/8140.jpg  \n",
            "  inflating: myntradataset/images/8141.jpg  \n",
            "  inflating: myntradataset/images/8142.jpg  \n",
            "  inflating: myntradataset/images/8143.jpg  \n",
            "  inflating: myntradataset/images/8144.jpg  \n",
            "  inflating: myntradataset/images/8145.jpg  \n",
            "  inflating: myntradataset/images/8146.jpg  \n",
            "  inflating: myntradataset/images/8147.jpg  \n",
            "  inflating: myntradataset/images/8148.jpg  \n",
            "  inflating: myntradataset/images/8149.jpg  \n",
            "  inflating: myntradataset/images/8150.jpg  \n",
            "  inflating: myntradataset/images/8151.jpg  \n",
            "  inflating: myntradataset/images/8152.jpg  \n",
            "  inflating: myntradataset/images/8153.jpg  \n",
            "  inflating: myntradataset/images/8154.jpg  \n",
            "  inflating: myntradataset/images/8155.jpg  \n",
            "  inflating: myntradataset/images/8156.jpg  \n",
            "  inflating: myntradataset/images/8157.jpg  \n",
            "  inflating: myntradataset/images/8159.jpg  \n",
            "  inflating: myntradataset/images/8160.jpg  \n",
            "  inflating: myntradataset/images/8161.jpg  \n",
            "  inflating: myntradataset/images/8162.jpg  \n",
            "  inflating: myntradataset/images/8163.jpg  \n",
            "  inflating: myntradataset/images/8164.jpg  \n",
            "  inflating: myntradataset/images/8165.jpg  \n",
            "  inflating: myntradataset/images/8166.jpg  \n",
            "  inflating: myntradataset/images/8167.jpg  \n",
            "  inflating: myntradataset/images/8169.jpg  \n",
            "  inflating: myntradataset/images/8172.jpg  \n",
            "  inflating: myntradataset/images/8175.jpg  \n",
            "  inflating: myntradataset/images/8180.jpg  \n",
            "  inflating: myntradataset/images/8181.jpg  \n",
            "  inflating: myntradataset/images/8182.jpg  \n",
            "  inflating: myntradataset/images/8183.jpg  \n",
            "  inflating: myntradataset/images/8184.jpg  \n",
            "  inflating: myntradataset/images/8185.jpg  \n",
            "  inflating: myntradataset/images/8186.jpg  \n",
            "  inflating: myntradataset/images/8187.jpg  \n",
            "  inflating: myntradataset/images/8188.jpg  \n",
            "  inflating: myntradataset/images/8189.jpg  \n",
            "  inflating: myntradataset/images/8190.jpg  \n",
            "  inflating: myntradataset/images/8191.jpg  \n",
            "  inflating: myntradataset/images/8192.jpg  \n",
            "  inflating: myntradataset/images/8193.jpg  \n",
            "  inflating: myntradataset/images/8194.jpg  \n",
            "  inflating: myntradataset/images/8195.jpg  \n",
            "  inflating: myntradataset/images/8196.jpg  \n",
            "  inflating: myntradataset/images/8197.jpg  \n",
            "  inflating: myntradataset/images/8199.jpg  \n",
            "  inflating: myntradataset/images/8200.jpg  \n",
            "  inflating: myntradataset/images/8202.jpg  \n",
            "  inflating: myntradataset/images/8204.jpg  \n",
            "  inflating: myntradataset/images/8205.jpg  \n",
            "  inflating: myntradataset/images/8206.jpg  \n",
            "  inflating: myntradataset/images/8207.jpg  \n",
            "  inflating: myntradataset/images/8208.jpg  \n",
            "  inflating: myntradataset/images/8209.jpg  \n",
            "  inflating: myntradataset/images/8210.jpg  \n",
            "  inflating: myntradataset/images/8211.jpg  \n",
            "  inflating: myntradataset/images/8212.jpg  \n",
            "  inflating: myntradataset/images/8214.jpg  \n",
            "  inflating: myntradataset/images/8215.jpg  \n",
            "  inflating: myntradataset/images/8216.jpg  \n",
            "  inflating: myntradataset/images/8217.jpg  \n",
            "  inflating: myntradataset/images/8218.jpg  \n",
            "  inflating: myntradataset/images/8219.jpg  \n",
            "  inflating: myntradataset/images/8220.jpg  \n",
            "  inflating: myntradataset/images/8221.jpg  \n",
            "  inflating: myntradataset/images/8222.jpg  \n",
            "  inflating: myntradataset/images/8223.jpg  \n",
            "  inflating: myntradataset/images/8224.jpg  \n",
            "  inflating: myntradataset/images/8227.jpg  \n",
            "  inflating: myntradataset/images/8228.jpg  \n",
            "  inflating: myntradataset/images/8229.jpg  \n",
            "  inflating: myntradataset/images/8231.jpg  \n",
            "  inflating: myntradataset/images/8232.jpg  \n",
            "  inflating: myntradataset/images/8234.jpg  \n",
            "  inflating: myntradataset/images/8235.jpg  \n",
            "  inflating: myntradataset/images/8236.jpg  \n",
            "  inflating: myntradataset/images/8237.jpg  \n",
            "  inflating: myntradataset/images/8238.jpg  \n",
            "  inflating: myntradataset/images/8239.jpg  \n",
            "  inflating: myntradataset/images/8240.jpg  \n",
            "  inflating: myntradataset/images/8242.jpg  \n",
            "  inflating: myntradataset/images/8243.jpg  \n",
            "  inflating: myntradataset/images/8244.jpg  \n",
            "  inflating: myntradataset/images/8245.jpg  \n",
            "  inflating: myntradataset/images/8246.jpg  \n",
            "  inflating: myntradataset/images/8247.jpg  \n",
            "  inflating: myntradataset/images/8248.jpg  \n",
            "  inflating: myntradataset/images/8249.jpg  \n",
            "  inflating: myntradataset/images/8250.jpg  \n",
            "  inflating: myntradataset/images/8251.jpg  \n",
            "  inflating: myntradataset/images/8252.jpg  \n",
            "  inflating: myntradataset/images/8253.jpg  \n",
            "  inflating: myntradataset/images/8254.jpg  \n",
            "  inflating: myntradataset/images/8255.jpg  \n",
            "  inflating: myntradataset/images/8256.jpg  \n",
            "  inflating: myntradataset/images/8257.jpg  \n",
            "  inflating: myntradataset/images/8258.jpg  \n",
            "  inflating: myntradataset/images/8259.jpg  \n",
            "  inflating: myntradataset/images/8260.jpg  \n",
            "  inflating: myntradataset/images/8262.jpg  \n",
            "  inflating: myntradataset/images/8264.jpg  \n",
            "  inflating: myntradataset/images/8265.jpg  \n",
            "  inflating: myntradataset/images/8266.jpg  \n",
            "  inflating: myntradataset/images/8267.jpg  \n",
            "  inflating: myntradataset/images/8268.jpg  \n",
            "  inflating: myntradataset/images/8269.jpg  \n",
            "  inflating: myntradataset/images/8270.jpg  \n",
            "  inflating: myntradataset/images/8271.jpg  \n",
            "  inflating: myntradataset/images/8272.jpg  \n",
            "  inflating: myntradataset/images/8273.jpg  \n",
            "  inflating: myntradataset/images/8274.jpg  \n",
            "  inflating: myntradataset/images/8275.jpg  \n",
            "  inflating: myntradataset/images/8276.jpg  \n",
            "  inflating: myntradataset/images/8277.jpg  \n",
            "  inflating: myntradataset/images/8278.jpg  \n",
            "  inflating: myntradataset/images/8279.jpg  \n",
            "  inflating: myntradataset/images/8280.jpg  \n",
            "  inflating: myntradataset/images/8281.jpg  \n",
            "  inflating: myntradataset/images/8282.jpg  \n",
            "  inflating: myntradataset/images/8284.jpg  \n",
            "  inflating: myntradataset/images/8285.jpg  \n",
            "  inflating: myntradataset/images/8288.jpg  \n",
            "  inflating: myntradataset/images/8289.jpg  \n",
            "  inflating: myntradataset/images/8290.jpg  \n",
            "  inflating: myntradataset/images/8291.jpg  \n",
            "  inflating: myntradataset/images/8292.jpg  \n",
            "  inflating: myntradataset/images/8293.jpg  \n",
            "  inflating: myntradataset/images/8295.jpg  \n",
            "  inflating: myntradataset/images/8298.jpg  \n",
            "  inflating: myntradataset/images/8299.jpg  \n",
            "  inflating: myntradataset/images/8300.jpg  \n",
            "  inflating: myntradataset/images/8302.jpg  \n",
            "  inflating: myntradataset/images/8303.jpg  \n",
            "  inflating: myntradataset/images/8304.jpg  \n",
            "  inflating: myntradataset/images/8306.jpg  \n",
            "  inflating: myntradataset/images/8307.jpg  \n",
            "  inflating: myntradataset/images/8308.jpg  \n",
            "  inflating: myntradataset/images/8309.jpg  \n",
            "  inflating: myntradataset/images/8310.jpg  \n",
            "  inflating: myntradataset/images/8311.jpg  \n",
            "  inflating: myntradataset/images/8312.jpg  \n",
            "  inflating: myntradataset/images/8313.jpg  \n",
            "  inflating: myntradataset/images/8314.jpg  \n",
            "  inflating: myntradataset/images/8315.jpg  \n",
            "  inflating: myntradataset/images/8316.jpg  \n",
            "  inflating: myntradataset/images/8317.jpg  \n",
            "  inflating: myntradataset/images/8318.jpg  \n",
            "  inflating: myntradataset/images/8319.jpg  \n",
            "  inflating: myntradataset/images/8320.jpg  \n",
            "  inflating: myntradataset/images/8321.jpg  \n",
            "  inflating: myntradataset/images/8322.jpg  \n",
            "  inflating: myntradataset/images/8323.jpg  \n",
            "  inflating: myntradataset/images/8324.jpg  \n",
            "  inflating: myntradataset/images/8325.jpg  \n",
            "  inflating: myntradataset/images/8326.jpg  \n",
            "  inflating: myntradataset/images/8327.jpg  \n",
            "  inflating: myntradataset/images/8328.jpg  \n",
            "  inflating: myntradataset/images/8330.jpg  \n",
            "  inflating: myntradataset/images/8331.jpg  \n",
            "  inflating: myntradataset/images/8332.jpg  \n",
            "  inflating: myntradataset/images/8333.jpg  \n",
            "  inflating: myntradataset/images/8334.jpg  \n",
            "  inflating: myntradataset/images/8335.jpg  \n",
            "  inflating: myntradataset/images/8336.jpg  \n",
            "  inflating: myntradataset/images/8337.jpg  \n",
            "  inflating: myntradataset/images/8338.jpg  \n",
            "  inflating: myntradataset/images/8339.jpg  \n",
            "  inflating: myntradataset/images/8340.jpg  \n",
            "  inflating: myntradataset/images/8341.jpg  \n",
            "  inflating: myntradataset/images/8342.jpg  \n",
            "  inflating: myntradataset/images/8343.jpg  \n",
            "  inflating: myntradataset/images/8344.jpg  \n",
            "  inflating: myntradataset/images/8345.jpg  \n",
            "  inflating: myntradataset/images/8346.jpg  \n",
            "  inflating: myntradataset/images/8348.jpg  \n",
            "  inflating: myntradataset/images/8349.jpg  \n",
            "  inflating: myntradataset/images/8350.jpg  \n",
            "  inflating: myntradataset/images/8351.jpg  \n",
            "  inflating: myntradataset/images/8352.jpg  \n",
            "  inflating: myntradataset/images/8353.jpg  \n",
            "  inflating: myntradataset/images/8354.jpg  \n",
            "  inflating: myntradataset/images/8355.jpg  \n",
            "  inflating: myntradataset/images/8356.jpg  \n",
            "  inflating: myntradataset/images/8357.jpg  \n",
            "  inflating: myntradataset/images/8358.jpg  \n",
            "  inflating: myntradataset/images/8359.jpg  \n",
            "  inflating: myntradataset/images/8360.jpg  \n",
            "  inflating: myntradataset/images/8361.jpg  \n",
            "  inflating: myntradataset/images/8364.jpg  \n",
            "  inflating: myntradataset/images/8365.jpg  \n",
            "  inflating: myntradataset/images/8366.jpg  \n",
            "  inflating: myntradataset/images/8367.jpg  \n",
            "  inflating: myntradataset/images/8368.jpg  \n",
            "  inflating: myntradataset/images/8369.jpg  \n",
            "  inflating: myntradataset/images/8371.jpg  \n",
            "  inflating: myntradataset/images/8372.jpg  \n",
            "  inflating: myntradataset/images/8373.jpg  \n",
            "  inflating: myntradataset/images/8374.jpg  \n",
            "  inflating: myntradataset/images/8375.jpg  \n",
            "  inflating: myntradataset/images/8376.jpg  \n",
            "  inflating: myntradataset/images/8377.jpg  \n",
            "  inflating: myntradataset/images/8378.jpg  \n",
            "  inflating: myntradataset/images/8379.jpg  \n",
            "  inflating: myntradataset/images/8380.jpg  \n",
            "  inflating: myntradataset/images/8381.jpg  \n",
            "  inflating: myntradataset/images/8382.jpg  \n",
            "  inflating: myntradataset/images/8383.jpg  \n",
            "  inflating: myntradataset/images/8384.jpg  \n",
            "  inflating: myntradataset/images/8385.jpg  \n",
            "  inflating: myntradataset/images/8386.jpg  \n",
            "  inflating: myntradataset/images/8387.jpg  \n",
            "  inflating: myntradataset/images/8388.jpg  \n",
            "  inflating: myntradataset/images/8389.jpg  \n",
            "  inflating: myntradataset/images/8390.jpg  \n",
            "  inflating: myntradataset/images/8391.jpg  \n",
            "  inflating: myntradataset/images/8392.jpg  \n",
            "  inflating: myntradataset/images/8393.jpg  \n",
            "  inflating: myntradataset/images/8394.jpg  \n",
            "  inflating: myntradataset/images/8395.jpg  \n",
            "  inflating: myntradataset/images/8396.jpg  \n",
            "  inflating: myntradataset/images/8397.jpg  \n",
            "  inflating: myntradataset/images/8398.jpg  \n",
            "  inflating: myntradataset/images/8399.jpg  \n",
            "  inflating: myntradataset/images/8400.jpg  \n",
            "  inflating: myntradataset/images/8401.jpg  \n",
            "  inflating: myntradataset/images/8402.jpg  \n",
            "  inflating: myntradataset/images/8403.jpg  \n",
            "  inflating: myntradataset/images/8404.jpg  \n",
            "  inflating: myntradataset/images/8405.jpg  \n",
            "  inflating: myntradataset/images/8406.jpg  \n",
            "  inflating: myntradataset/images/8407.jpg  \n",
            "  inflating: myntradataset/images/8408.jpg  \n",
            "  inflating: myntradataset/images/8409.jpg  \n",
            "  inflating: myntradataset/images/8410.jpg  \n",
            "  inflating: myntradataset/images/8411.jpg  \n",
            "  inflating: myntradataset/images/8412.jpg  \n",
            "  inflating: myntradataset/images/8413.jpg  \n",
            "  inflating: myntradataset/images/8414.jpg  \n",
            "  inflating: myntradataset/images/8415.jpg  \n",
            "  inflating: myntradataset/images/8417.jpg  \n",
            "  inflating: myntradataset/images/8418.jpg  \n",
            "  inflating: myntradataset/images/8419.jpg  \n",
            "  inflating: myntradataset/images/8420.jpg  \n",
            "  inflating: myntradataset/images/8422.jpg  \n",
            "  inflating: myntradataset/images/8426.jpg  \n",
            "  inflating: myntradataset/images/8427.jpg  \n",
            "  inflating: myntradataset/images/8432.jpg  \n",
            "  inflating: myntradataset/images/8433.jpg  \n",
            "  inflating: myntradataset/images/8434.jpg  \n",
            "  inflating: myntradataset/images/8435.jpg  \n",
            "  inflating: myntradataset/images/8436.jpg  \n",
            "  inflating: myntradataset/images/8437.jpg  \n",
            "  inflating: myntradataset/images/8438.jpg  \n",
            "  inflating: myntradataset/images/8439.jpg  \n",
            "  inflating: myntradataset/images/8440.jpg  \n",
            "  inflating: myntradataset/images/8441.jpg  \n",
            "  inflating: myntradataset/images/8442.jpg  \n",
            "  inflating: myntradataset/images/8443.jpg  \n",
            "  inflating: myntradataset/images/8444.jpg  \n",
            "  inflating: myntradataset/images/8445.jpg  \n",
            "  inflating: myntradataset/images/8446.jpg  \n",
            "  inflating: myntradataset/images/8447.jpg  \n",
            "  inflating: myntradataset/images/8448.jpg  \n",
            "  inflating: myntradataset/images/8449.jpg  \n",
            "  inflating: myntradataset/images/8450.jpg  \n",
            "  inflating: myntradataset/images/8451.jpg  \n",
            "  inflating: myntradataset/images/8452.jpg  \n",
            "  inflating: myntradataset/images/8453.jpg  \n",
            "  inflating: myntradataset/images/8454.jpg  \n",
            "  inflating: myntradataset/images/8455.jpg  \n",
            "  inflating: myntradataset/images/8456.jpg  \n",
            "  inflating: myntradataset/images/8457.jpg  \n",
            "  inflating: myntradataset/images/8458.jpg  \n",
            "  inflating: myntradataset/images/8459.jpg  \n",
            "  inflating: myntradataset/images/8460.jpg  \n",
            "  inflating: myntradataset/images/8461.jpg  \n",
            "  inflating: myntradataset/images/8462.jpg  \n",
            "  inflating: myntradataset/images/8463.jpg  \n",
            "  inflating: myntradataset/images/8465.jpg  \n",
            "  inflating: myntradataset/images/8466.jpg  \n",
            "  inflating: myntradataset/images/8467.jpg  \n",
            "  inflating: myntradataset/images/8468.jpg  \n",
            "  inflating: myntradataset/images/8469.jpg  \n",
            "  inflating: myntradataset/images/8470.jpg  \n",
            "  inflating: myntradataset/images/8471.jpg  \n",
            "  inflating: myntradataset/images/8472.jpg  \n",
            "  inflating: myntradataset/images/8473.jpg  \n",
            "  inflating: myntradataset/images/8474.jpg  \n",
            "  inflating: myntradataset/images/8475.jpg  \n",
            "  inflating: myntradataset/images/8476.jpg  \n",
            "  inflating: myntradataset/images/8477.jpg  \n",
            "  inflating: myntradataset/images/8478.jpg  \n",
            "  inflating: myntradataset/images/8479.jpg  \n",
            "  inflating: myntradataset/images/8480.jpg  \n",
            "  inflating: myntradataset/images/8481.jpg  \n",
            "  inflating: myntradataset/images/8482.jpg  \n",
            "  inflating: myntradataset/images/8483.jpg  \n",
            "  inflating: myntradataset/images/8484.jpg  \n",
            "  inflating: myntradataset/images/8485.jpg  \n",
            "  inflating: myntradataset/images/8486.jpg  \n",
            "  inflating: myntradataset/images/8487.jpg  \n",
            "  inflating: myntradataset/images/8488.jpg  \n",
            "  inflating: myntradataset/images/8489.jpg  \n",
            "  inflating: myntradataset/images/8490.jpg  \n",
            "  inflating: myntradataset/images/8491.jpg  \n",
            "  inflating: myntradataset/images/8492.jpg  \n",
            "  inflating: myntradataset/images/8493.jpg  \n",
            "  inflating: myntradataset/images/8494.jpg  \n",
            "  inflating: myntradataset/images/8495.jpg  \n",
            "  inflating: myntradataset/images/8496.jpg  \n",
            "  inflating: myntradataset/images/8497.jpg  \n",
            "  inflating: myntradataset/images/8498.jpg  \n",
            "  inflating: myntradataset/images/8499.jpg  \n",
            "  inflating: myntradataset/images/8500.jpg  \n",
            "  inflating: myntradataset/images/8501.jpg  \n",
            "  inflating: myntradataset/images/8503.jpg  \n",
            "  inflating: myntradataset/images/8505.jpg  \n",
            "  inflating: myntradataset/images/8506.jpg  \n",
            "  inflating: myntradataset/images/8507.jpg  \n",
            "  inflating: myntradataset/images/8512.jpg  \n",
            "  inflating: myntradataset/images/8513.jpg  \n",
            "  inflating: myntradataset/images/8514.jpg  \n",
            "  inflating: myntradataset/images/8515.jpg  \n",
            "  inflating: myntradataset/images/8516.jpg  \n",
            "  inflating: myntradataset/images/8517.jpg  \n",
            "  inflating: myntradataset/images/8518.jpg  \n",
            "  inflating: myntradataset/images/8519.jpg  \n",
            "  inflating: myntradataset/images/8520.jpg  \n",
            "  inflating: myntradataset/images/8521.jpg  \n",
            "  inflating: myntradataset/images/8522.jpg  \n",
            "  inflating: myntradataset/images/8523.jpg  \n",
            "  inflating: myntradataset/images/8524.jpg  \n",
            "  inflating: myntradataset/images/8525.jpg  \n",
            "  inflating: myntradataset/images/8526.jpg  \n",
            "  inflating: myntradataset/images/8527.jpg  \n",
            "  inflating: myntradataset/images/8528.jpg  \n",
            "  inflating: myntradataset/images/8529.jpg  \n",
            "  inflating: myntradataset/images/8530.jpg  \n",
            "  inflating: myntradataset/images/8531.jpg  \n",
            "  inflating: myntradataset/images/8532.jpg  \n",
            "  inflating: myntradataset/images/8535.jpg  \n",
            "  inflating: myntradataset/images/8539.jpg  \n",
            "  inflating: myntradataset/images/8542.jpg  \n",
            "  inflating: myntradataset/images/8546.jpg  \n",
            "  inflating: myntradataset/images/8549.jpg  \n",
            "  inflating: myntradataset/images/8550.jpg  \n",
            "  inflating: myntradataset/images/8551.jpg  \n",
            "  inflating: myntradataset/images/8552.jpg  \n",
            "  inflating: myntradataset/images/8553.jpg  \n",
            "  inflating: myntradataset/images/8554.jpg  \n",
            "  inflating: myntradataset/images/8555.jpg  \n",
            "  inflating: myntradataset/images/8556.jpg  \n",
            "  inflating: myntradataset/images/8557.jpg  \n",
            "  inflating: myntradataset/images/8558.jpg  \n",
            "  inflating: myntradataset/images/8574.jpg  \n",
            "  inflating: myntradataset/images/8580.jpg  \n",
            "  inflating: myntradataset/images/8581.jpg  \n",
            "  inflating: myntradataset/images/8582.jpg  \n",
            "  inflating: myntradataset/images/8583.jpg  \n",
            "  inflating: myntradataset/images/8584.jpg  \n",
            "  inflating: myntradataset/images/8585.jpg  \n",
            "  inflating: myntradataset/images/8586.jpg  \n",
            "  inflating: myntradataset/images/8587.jpg  \n",
            "  inflating: myntradataset/images/8588.jpg  \n",
            "  inflating: myntradataset/images/8589.jpg  \n",
            "  inflating: myntradataset/images/8590.jpg  \n",
            "  inflating: myntradataset/images/8591.jpg  \n",
            "  inflating: myntradataset/images/8593.jpg  \n",
            "  inflating: myntradataset/images/8594.jpg  \n",
            "  inflating: myntradataset/images/8595.jpg  \n",
            "  inflating: myntradataset/images/8596.jpg  \n",
            "  inflating: myntradataset/images/8597.jpg  \n",
            "  inflating: myntradataset/images/8598.jpg  \n",
            "  inflating: myntradataset/images/8600.jpg  \n",
            "  inflating: myntradataset/images/8603.jpg  \n",
            "  inflating: myntradataset/images/8605.jpg  \n",
            "  inflating: myntradataset/images/8606.jpg  \n",
            "  inflating: myntradataset/images/8607.jpg  \n",
            "  inflating: myntradataset/images/8608.jpg  \n",
            "  inflating: myntradataset/images/8610.jpg  \n",
            "  inflating: myntradataset/images/8611.jpg  \n",
            "  inflating: myntradataset/images/8612.jpg  \n",
            "  inflating: myntradataset/images/8613.jpg  \n",
            "  inflating: myntradataset/images/8614.jpg  \n",
            "  inflating: myntradataset/images/8616.jpg  \n",
            "  inflating: myntradataset/images/8617.jpg  \n",
            "  inflating: myntradataset/images/8619.jpg  \n",
            "  inflating: myntradataset/images/8620.jpg  \n",
            "  inflating: myntradataset/images/8622.jpg  \n",
            "  inflating: myntradataset/images/8623.jpg  \n",
            "  inflating: myntradataset/images/8625.jpg  \n",
            "  inflating: myntradataset/images/8626.jpg  \n",
            "  inflating: myntradataset/images/8627.jpg  \n",
            "  inflating: myntradataset/images/8631.jpg  \n",
            "  inflating: myntradataset/images/8634.jpg  \n",
            "  inflating: myntradataset/images/8635.jpg  \n",
            "  inflating: myntradataset/images/8636.jpg  \n",
            "  inflating: myntradataset/images/8638.jpg  \n",
            "  inflating: myntradataset/images/8639.jpg  \n",
            "  inflating: myntradataset/images/8640.jpg  \n",
            "  inflating: myntradataset/images/8641.jpg  \n",
            "  inflating: myntradataset/images/8642.jpg  \n",
            "  inflating: myntradataset/images/8643.jpg  \n",
            "  inflating: myntradataset/images/8646.jpg  \n",
            "  inflating: myntradataset/images/8647.jpg  \n",
            "  inflating: myntradataset/images/8648.jpg  \n",
            "  inflating: myntradataset/images/8649.jpg  \n",
            "  inflating: myntradataset/images/8650.jpg  \n",
            "  inflating: myntradataset/images/8651.jpg  \n",
            "  inflating: myntradataset/images/8653.jpg  \n",
            "  inflating: myntradataset/images/8654.jpg  \n",
            "  inflating: myntradataset/images/8655.jpg  \n",
            "  inflating: myntradataset/images/8658.jpg  \n",
            "  inflating: myntradataset/images/8659.jpg  \n",
            "  inflating: myntradataset/images/8660.jpg  \n",
            "  inflating: myntradataset/images/8661.jpg  \n",
            "  inflating: myntradataset/images/8662.jpg  \n",
            "  inflating: myntradataset/images/8663.jpg  \n",
            "  inflating: myntradataset/images/8664.jpg  \n",
            "  inflating: myntradataset/images/8665.jpg  \n",
            "  inflating: myntradataset/images/8666.jpg  \n",
            "  inflating: myntradataset/images/8667.jpg  \n",
            "  inflating: myntradataset/images/8668.jpg  \n",
            "  inflating: myntradataset/images/8669.jpg  \n",
            "  inflating: myntradataset/images/8670.jpg  \n",
            "  inflating: myntradataset/images/8671.jpg  \n",
            "  inflating: myntradataset/images/8672.jpg  \n",
            "  inflating: myntradataset/images/8673.jpg  \n",
            "  inflating: myntradataset/images/8674.jpg  \n",
            "  inflating: myntradataset/images/8675.jpg  \n",
            "  inflating: myntradataset/images/8676.jpg  \n",
            "  inflating: myntradataset/images/8677.jpg  \n",
            "  inflating: myntradataset/images/8678.jpg  \n",
            "  inflating: myntradataset/images/8679.jpg  \n",
            "  inflating: myntradataset/images/8680.jpg  \n",
            "  inflating: myntradataset/images/8681.jpg  \n",
            "  inflating: myntradataset/images/8682.jpg  \n",
            "  inflating: myntradataset/images/8683.jpg  \n",
            "  inflating: myntradataset/images/8684.jpg  \n",
            "  inflating: myntradataset/images/8685.jpg  \n",
            "  inflating: myntradataset/images/8686.jpg  \n",
            "  inflating: myntradataset/images/8687.jpg  \n",
            "  inflating: myntradataset/images/8688.jpg  \n",
            "  inflating: myntradataset/images/8689.jpg  \n",
            "  inflating: myntradataset/images/8690.jpg  \n",
            "  inflating: myntradataset/images/8691.jpg  \n",
            "  inflating: myntradataset/images/8692.jpg  \n",
            "  inflating: myntradataset/images/8693.jpg  \n",
            "  inflating: myntradataset/images/8694.jpg  \n",
            "  inflating: myntradataset/images/8695.jpg  \n",
            "  inflating: myntradataset/images/8696.jpg  \n",
            "  inflating: myntradataset/images/8697.jpg  \n",
            "  inflating: myntradataset/images/8698.jpg  \n",
            "  inflating: myntradataset/images/8699.jpg  \n",
            "  inflating: myntradataset/images/8700.jpg  \n",
            "  inflating: myntradataset/images/8701.jpg  \n",
            "  inflating: myntradataset/images/8702.jpg  \n",
            "  inflating: myntradataset/images/8703.jpg  \n",
            "  inflating: myntradataset/images/8704.jpg  \n",
            "  inflating: myntradataset/images/8705.jpg  \n",
            "  inflating: myntradataset/images/8706.jpg  \n",
            "  inflating: myntradataset/images/8707.jpg  \n",
            "  inflating: myntradataset/images/8708.jpg  \n",
            "  inflating: myntradataset/images/8709.jpg  \n",
            "  inflating: myntradataset/images/8710.jpg  \n",
            "  inflating: myntradataset/images/8711.jpg  \n",
            "  inflating: myntradataset/images/8712.jpg  \n",
            "  inflating: myntradataset/images/8713.jpg  \n",
            "  inflating: myntradataset/images/8714.jpg  \n",
            "  inflating: myntradataset/images/8716.jpg  \n",
            "  inflating: myntradataset/images/8718.jpg  \n",
            "  inflating: myntradataset/images/8719.jpg  \n",
            "  inflating: myntradataset/images/8720.jpg  \n",
            "  inflating: myntradataset/images/8721.jpg  \n",
            "  inflating: myntradataset/images/8722.jpg  \n",
            "  inflating: myntradataset/images/8723.jpg  \n",
            "  inflating: myntradataset/images/8724.jpg  \n",
            "  inflating: myntradataset/images/8725.jpg  \n",
            "  inflating: myntradataset/images/8727.jpg  \n",
            "  inflating: myntradataset/images/8728.jpg  \n",
            "  inflating: myntradataset/images/8729.jpg  \n",
            "  inflating: myntradataset/images/8730.jpg  \n",
            "  inflating: myntradataset/images/8731.jpg  \n",
            "  inflating: myntradataset/images/8734.jpg  \n",
            "  inflating: myntradataset/images/8735.jpg  \n",
            "  inflating: myntradataset/images/8736.jpg  \n",
            "  inflating: myntradataset/images/8737.jpg  \n",
            "  inflating: myntradataset/images/8738.jpg  \n",
            "  inflating: myntradataset/images/8739.jpg  \n",
            "  inflating: myntradataset/images/8740.jpg  \n",
            "  inflating: myntradataset/images/8741.jpg  \n",
            "  inflating: myntradataset/images/8742.jpg  \n",
            "  inflating: myntradataset/images/8743.jpg  \n",
            "  inflating: myntradataset/images/8746.jpg  \n",
            "  inflating: myntradataset/images/8748.jpg  \n",
            "  inflating: myntradataset/images/8749.jpg  \n",
            "  inflating: myntradataset/images/8750.jpg  \n",
            "  inflating: myntradataset/images/8751.jpg  \n",
            "  inflating: myntradataset/images/8752.jpg  \n",
            "  inflating: myntradataset/images/8754.jpg  \n",
            "  inflating: myntradataset/images/8758.jpg  \n",
            "  inflating: myntradataset/images/8759.jpg  \n",
            "  inflating: myntradataset/images/8760.jpg  \n",
            "  inflating: myntradataset/images/8761.jpg  \n",
            "  inflating: myntradataset/images/8762.jpg  \n",
            "  inflating: myntradataset/images/8763.jpg  \n",
            "  inflating: myntradataset/images/8764.jpg  \n",
            "  inflating: myntradataset/images/8765.jpg  \n",
            "  inflating: myntradataset/images/8768.jpg  \n",
            "  inflating: myntradataset/images/8771.jpg  \n",
            "  inflating: myntradataset/images/8773.jpg  \n",
            "  inflating: myntradataset/images/8774.jpg  \n",
            "  inflating: myntradataset/images/8775.jpg  \n",
            "  inflating: myntradataset/images/8776.jpg  \n",
            "  inflating: myntradataset/images/8777.jpg  \n",
            "  inflating: myntradataset/images/8778.jpg  \n",
            "  inflating: myntradataset/images/8779.jpg  \n",
            "  inflating: myntradataset/images/8780.jpg  \n",
            "  inflating: myntradataset/images/8781.jpg  \n",
            "  inflating: myntradataset/images/8782.jpg  \n",
            "  inflating: myntradataset/images/8783.jpg  \n",
            "  inflating: myntradataset/images/8784.jpg  \n",
            "  inflating: myntradataset/images/8785.jpg  \n",
            "  inflating: myntradataset/images/8786.jpg  \n",
            "  inflating: myntradataset/images/8787.jpg  \n",
            "  inflating: myntradataset/images/8788.jpg  \n",
            "  inflating: myntradataset/images/8789.jpg  \n",
            "  inflating: myntradataset/images/8790.jpg  \n",
            "  inflating: myntradataset/images/8791.jpg  \n",
            "  inflating: myntradataset/images/8792.jpg  \n",
            "  inflating: myntradataset/images/8793.jpg  \n",
            "  inflating: myntradataset/images/8795.jpg  \n",
            "  inflating: myntradataset/images/8796.jpg  \n",
            "  inflating: myntradataset/images/8797.jpg  \n",
            "  inflating: myntradataset/images/8798.jpg  \n",
            "  inflating: myntradataset/images/8799.jpg  \n",
            "  inflating: myntradataset/images/8800.jpg  \n",
            "  inflating: myntradataset/images/8801.jpg  \n",
            "  inflating: myntradataset/images/8802.jpg  \n",
            "  inflating: myntradataset/images/8803.jpg  \n",
            "  inflating: myntradataset/images/8804.jpg  \n",
            "  inflating: myntradataset/images/8805.jpg  \n",
            "  inflating: myntradataset/images/8806.jpg  \n",
            "  inflating: myntradataset/images/8807.jpg  \n",
            "  inflating: myntradataset/images/8808.jpg  \n",
            "  inflating: myntradataset/images/8809.jpg  \n",
            "  inflating: myntradataset/images/8810.jpg  \n",
            "  inflating: myntradataset/images/8811.jpg  \n",
            "  inflating: myntradataset/images/8812.jpg  \n",
            "  inflating: myntradataset/images/8813.jpg  \n",
            "  inflating: myntradataset/images/8814.jpg  \n",
            "  inflating: myntradataset/images/8815.jpg  \n",
            "  inflating: myntradataset/images/8816.jpg  \n",
            "  inflating: myntradataset/images/8817.jpg  \n",
            "  inflating: myntradataset/images/8818.jpg  \n",
            "  inflating: myntradataset/images/8819.jpg  \n",
            "  inflating: myntradataset/images/8820.jpg  \n",
            "  inflating: myntradataset/images/8821.jpg  \n",
            "  inflating: myntradataset/images/8823.jpg  \n",
            "  inflating: myntradataset/images/8824.jpg  \n",
            "  inflating: myntradataset/images/8825.jpg  \n",
            "  inflating: myntradataset/images/8826.jpg  \n",
            "  inflating: myntradataset/images/8827.jpg  \n",
            "  inflating: myntradataset/images/8828.jpg  \n",
            "  inflating: myntradataset/images/8829.jpg  \n",
            "  inflating: myntradataset/images/8830.jpg  \n",
            "  inflating: myntradataset/images/8831.jpg  \n",
            "  inflating: myntradataset/images/8832.jpg  \n",
            "  inflating: myntradataset/images/8833.jpg  \n",
            "  inflating: myntradataset/images/8834.jpg  \n",
            "  inflating: myntradataset/images/8835.jpg  \n",
            "  inflating: myntradataset/images/8837.jpg  \n",
            "  inflating: myntradataset/images/8838.jpg  \n",
            "  inflating: myntradataset/images/8839.jpg  \n",
            "  inflating: myntradataset/images/8840.jpg  \n",
            "  inflating: myntradataset/images/8841.jpg  \n",
            "  inflating: myntradataset/images/8842.jpg  \n",
            "  inflating: myntradataset/images/8843.jpg  \n",
            "  inflating: myntradataset/images/8844.jpg  \n",
            "  inflating: myntradataset/images/8845.jpg  \n",
            "  inflating: myntradataset/images/8846.jpg  \n",
            "  inflating: myntradataset/images/8847.jpg  \n",
            "  inflating: myntradataset/images/8848.jpg  \n",
            "  inflating: myntradataset/images/8851.jpg  \n",
            "  inflating: myntradataset/images/8852.jpg  \n",
            "  inflating: myntradataset/images/8853.jpg  \n",
            "  inflating: myntradataset/images/8854.jpg  \n",
            "  inflating: myntradataset/images/8855.jpg  \n",
            "  inflating: myntradataset/images/8856.jpg  \n",
            "  inflating: myntradataset/images/8857.jpg  \n",
            "  inflating: myntradataset/images/8858.jpg  \n",
            "  inflating: myntradataset/images/8859.jpg  \n",
            "  inflating: myntradataset/images/8860.jpg  \n",
            "  inflating: myntradataset/images/8861.jpg  \n",
            "  inflating: myntradataset/images/8862.jpg  \n",
            "  inflating: myntradataset/images/8863.jpg  \n",
            "  inflating: myntradataset/images/8864.jpg  \n",
            "  inflating: myntradataset/images/8865.jpg  \n",
            "  inflating: myntradataset/images/8866.jpg  \n",
            "  inflating: myntradataset/images/8867.jpg  \n",
            "  inflating: myntradataset/images/8868.jpg  \n",
            "  inflating: myntradataset/images/8869.jpg  \n",
            "  inflating: myntradataset/images/8871.jpg  \n",
            "  inflating: myntradataset/images/8872.jpg  \n",
            "  inflating: myntradataset/images/8877.jpg  \n",
            "  inflating: myntradataset/images/8879.jpg  \n",
            "  inflating: myntradataset/images/8880.jpg  \n",
            "  inflating: myntradataset/images/8881.jpg  \n",
            "  inflating: myntradataset/images/8882.jpg  \n",
            "  inflating: myntradataset/images/8883.jpg  \n",
            "  inflating: myntradataset/images/8884.jpg  \n",
            "  inflating: myntradataset/images/8885.jpg  \n",
            "  inflating: myntradataset/images/8887.jpg  \n",
            "  inflating: myntradataset/images/8888.jpg  \n",
            "  inflating: myntradataset/images/8889.jpg  \n",
            "  inflating: myntradataset/images/8890.jpg  \n",
            "  inflating: myntradataset/images/8891.jpg  \n",
            "  inflating: myntradataset/images/8892.jpg  \n",
            "  inflating: myntradataset/images/8895.jpg  \n",
            "  inflating: myntradataset/images/8896.jpg  \n",
            "  inflating: myntradataset/images/8897.jpg  \n",
            "  inflating: myntradataset/images/8898.jpg  \n",
            "  inflating: myntradataset/images/8899.jpg  \n",
            "  inflating: myntradataset/images/8900.jpg  \n",
            "  inflating: myntradataset/images/8901.jpg  \n",
            "  inflating: myntradataset/images/8903.jpg  \n",
            "  inflating: myntradataset/images/8904.jpg  \n",
            "  inflating: myntradataset/images/8905.jpg  \n",
            "  inflating: myntradataset/images/8907.jpg  \n",
            "  inflating: myntradataset/images/8908.jpg  \n",
            "  inflating: myntradataset/images/8909.jpg  \n",
            "  inflating: myntradataset/images/8910.jpg  \n",
            "  inflating: myntradataset/images/8911.jpg  \n",
            "  inflating: myntradataset/images/8912.jpg  \n",
            "  inflating: myntradataset/images/8913.jpg  \n",
            "  inflating: myntradataset/images/8914.jpg  \n",
            "  inflating: myntradataset/images/8915.jpg  \n",
            "  inflating: myntradataset/images/8916.jpg  \n",
            "  inflating: myntradataset/images/8917.jpg  \n",
            "  inflating: myntradataset/images/8918.jpg  \n",
            "  inflating: myntradataset/images/8919.jpg  \n",
            "  inflating: myntradataset/images/8920.jpg  \n",
            "  inflating: myntradataset/images/8921.jpg  \n",
            "  inflating: myntradataset/images/8922.jpg  \n",
            "  inflating: myntradataset/images/8923.jpg  \n",
            "  inflating: myntradataset/images/8924.jpg  \n",
            "  inflating: myntradataset/images/8925.jpg  \n",
            "  inflating: myntradataset/images/8926.jpg  \n",
            "  inflating: myntradataset/images/8927.jpg  \n",
            "  inflating: myntradataset/images/8928.jpg  \n",
            "  inflating: myntradataset/images/8929.jpg  \n",
            "  inflating: myntradataset/images/8930.jpg  \n",
            "  inflating: myntradataset/images/8931.jpg  \n",
            "  inflating: myntradataset/images/8932.jpg  \n",
            "  inflating: myntradataset/images/8933.jpg  \n",
            "  inflating: myntradataset/images/8934.jpg  \n",
            "  inflating: myntradataset/images/8935.jpg  \n",
            "  inflating: myntradataset/images/8936.jpg  \n",
            "  inflating: myntradataset/images/8937.jpg  \n",
            "  inflating: myntradataset/images/8938.jpg  \n",
            "  inflating: myntradataset/images/8939.jpg  \n",
            "  inflating: myntradataset/images/8940.jpg  \n",
            "  inflating: myntradataset/images/8941.jpg  \n",
            "  inflating: myntradataset/images/8942.jpg  \n",
            "  inflating: myntradataset/images/8943.jpg  \n",
            "  inflating: myntradataset/images/8944.jpg  \n",
            "  inflating: myntradataset/images/8946.jpg  \n",
            "  inflating: myntradataset/images/8947.jpg  \n",
            "  inflating: myntradataset/images/8948.jpg  \n",
            "  inflating: myntradataset/images/8949.jpg  \n",
            "  inflating: myntradataset/images/8950.jpg  \n",
            "  inflating: myntradataset/images/8951.jpg  \n",
            "  inflating: myntradataset/images/8952.jpg  \n",
            "  inflating: myntradataset/images/8954.jpg  \n",
            "  inflating: myntradataset/images/8955.jpg  \n",
            "  inflating: myntradataset/images/8956.jpg  \n",
            "  inflating: myntradataset/images/8957.jpg  \n",
            "  inflating: myntradataset/images/8958.jpg  \n",
            "  inflating: myntradataset/images/8959.jpg  \n",
            "  inflating: myntradataset/images/8960.jpg  \n",
            "  inflating: myntradataset/images/8961.jpg  \n",
            "  inflating: myntradataset/images/8962.jpg  \n",
            "  inflating: myntradataset/images/8963.jpg  \n",
            "  inflating: myntradataset/images/8964.jpg  \n",
            "  inflating: myntradataset/images/8965.jpg  \n",
            "  inflating: myntradataset/images/8966.jpg  \n",
            "  inflating: myntradataset/images/8967.jpg  \n",
            "  inflating: myntradataset/images/8968.jpg  \n",
            "  inflating: myntradataset/images/8969.jpg  \n",
            "  inflating: myntradataset/images/8970.jpg  \n",
            "  inflating: myntradataset/images/8971.jpg  \n",
            "  inflating: myntradataset/images/8972.jpg  \n",
            "  inflating: myntradataset/images/8973.jpg  \n",
            "  inflating: myntradataset/images/8974.jpg  \n",
            "  inflating: myntradataset/images/8975.jpg  \n",
            "  inflating: myntradataset/images/8976.jpg  \n",
            "  inflating: myntradataset/images/8977.jpg  \n",
            "  inflating: myntradataset/images/8978.jpg  \n",
            "  inflating: myntradataset/images/8979.jpg  \n",
            "  inflating: myntradataset/images/8980.jpg  \n",
            "  inflating: myntradataset/images/8981.jpg  \n",
            "  inflating: myntradataset/images/8982.jpg  \n",
            "  inflating: myntradataset/images/8983.jpg  \n",
            "  inflating: myntradataset/images/8984.jpg  \n",
            "  inflating: myntradataset/images/8986.jpg  \n",
            "  inflating: myntradataset/images/8987.jpg  \n",
            "  inflating: myntradataset/images/8988.jpg  \n",
            "  inflating: myntradataset/images/8989.jpg  \n",
            "  inflating: myntradataset/images/8990.jpg  \n",
            "  inflating: myntradataset/images/8991.jpg  \n",
            "  inflating: myntradataset/images/8992.jpg  \n",
            "  inflating: myntradataset/images/8993.jpg  \n",
            "  inflating: myntradataset/images/8994.jpg  \n",
            "  inflating: myntradataset/images/8995.jpg  \n",
            "  inflating: myntradataset/images/8996.jpg  \n",
            "  inflating: myntradataset/images/8997.jpg  \n",
            "  inflating: myntradataset/images/8998.jpg  \n",
            "  inflating: myntradataset/images/8999.jpg  \n",
            "  inflating: myntradataset/images/9000.jpg  \n",
            "  inflating: myntradataset/images/9001.jpg  \n",
            "  inflating: myntradataset/images/9002.jpg  \n",
            "  inflating: myntradataset/images/9003.jpg  \n",
            "  inflating: myntradataset/images/9004.jpg  \n",
            "  inflating: myntradataset/images/9005.jpg  \n",
            "  inflating: myntradataset/images/9007.jpg  \n",
            "  inflating: myntradataset/images/9008.jpg  \n",
            "  inflating: myntradataset/images/9009.jpg  \n",
            "  inflating: myntradataset/images/9010.jpg  \n",
            "  inflating: myntradataset/images/9011.jpg  \n",
            "  inflating: myntradataset/images/9012.jpg  \n",
            "  inflating: myntradataset/images/9013.jpg  \n",
            "  inflating: myntradataset/images/9014.jpg  \n",
            "  inflating: myntradataset/images/9015.jpg  \n",
            "  inflating: myntradataset/images/9016.jpg  \n",
            "  inflating: myntradataset/images/9017.jpg  \n",
            "  inflating: myntradataset/images/9018.jpg  \n",
            "  inflating: myntradataset/images/9019.jpg  \n",
            "  inflating: myntradataset/images/9020.jpg  \n",
            "  inflating: myntradataset/images/9022.jpg  \n",
            "  inflating: myntradataset/images/9023.jpg  \n",
            "  inflating: myntradataset/images/9024.jpg  \n",
            "  inflating: myntradataset/images/9025.jpg  \n",
            "  inflating: myntradataset/images/9026.jpg  \n",
            "  inflating: myntradataset/images/9027.jpg  \n",
            "  inflating: myntradataset/images/9028.jpg  \n",
            "  inflating: myntradataset/images/9029.jpg  \n",
            "  inflating: myntradataset/images/9030.jpg  \n",
            "  inflating: myntradataset/images/9031.jpg  \n",
            "  inflating: myntradataset/images/9032.jpg  \n",
            "  inflating: myntradataset/images/9033.jpg  \n",
            "  inflating: myntradataset/images/9034.jpg  \n",
            "  inflating: myntradataset/images/9035.jpg  \n",
            "  inflating: myntradataset/images/9036.jpg  \n",
            "  inflating: myntradataset/images/9037.jpg  \n",
            "  inflating: myntradataset/images/9038.jpg  \n",
            "  inflating: myntradataset/images/9039.jpg  \n",
            "  inflating: myntradataset/images/9040.jpg  \n",
            "  inflating: myntradataset/images/9041.jpg  \n",
            "  inflating: myntradataset/images/9042.jpg  \n",
            "  inflating: myntradataset/images/9043.jpg  \n",
            "  inflating: myntradataset/images/9044.jpg  \n",
            "  inflating: myntradataset/images/9045.jpg  \n",
            "  inflating: myntradataset/images/9046.jpg  \n",
            "  inflating: myntradataset/images/9047.jpg  \n",
            "  inflating: myntradataset/images/9048.jpg  \n",
            "  inflating: myntradataset/images/9049.jpg  \n",
            "  inflating: myntradataset/images/9050.jpg  \n",
            "  inflating: myntradataset/images/9051.jpg  \n",
            "  inflating: myntradataset/images/9052.jpg  \n",
            "  inflating: myntradataset/images/9053.jpg  \n",
            "  inflating: myntradataset/images/9054.jpg  \n",
            "  inflating: myntradataset/images/9055.jpg  \n",
            "  inflating: myntradataset/images/9056.jpg  \n",
            "  inflating: myntradataset/images/9057.jpg  \n",
            "  inflating: myntradataset/images/9058.jpg  \n",
            "  inflating: myntradataset/images/9059.jpg  \n",
            "  inflating: myntradataset/images/9060.jpg  \n",
            "  inflating: myntradataset/images/9061.jpg  \n",
            "  inflating: myntradataset/images/9062.jpg  \n",
            "  inflating: myntradataset/images/9063.jpg  \n",
            "  inflating: myntradataset/images/9064.jpg  \n",
            "  inflating: myntradataset/images/9065.jpg  \n",
            "  inflating: myntradataset/images/9066.jpg  \n",
            "  inflating: myntradataset/images/9067.jpg  \n",
            "  inflating: myntradataset/images/9069.jpg  \n",
            "  inflating: myntradataset/images/9070.jpg  \n",
            "  inflating: myntradataset/images/9071.jpg  \n",
            "  inflating: myntradataset/images/9072.jpg  \n",
            "  inflating: myntradataset/images/9073.jpg  \n",
            "  inflating: myntradataset/images/9074.jpg  \n",
            "  inflating: myntradataset/images/9075.jpg  \n",
            "  inflating: myntradataset/images/9076.jpg  \n",
            "  inflating: myntradataset/images/9077.jpg  \n",
            "  inflating: myntradataset/images/9078.jpg  \n",
            "  inflating: myntradataset/images/9079.jpg  \n",
            "  inflating: myntradataset/images/9080.jpg  \n",
            "  inflating: myntradataset/images/9081.jpg  \n",
            "  inflating: myntradataset/images/9082.jpg  \n",
            "  inflating: myntradataset/images/9083.jpg  \n",
            "  inflating: myntradataset/images/9084.jpg  \n",
            "  inflating: myntradataset/images/9085.jpg  \n",
            "  inflating: myntradataset/images/9086.jpg  \n",
            "  inflating: myntradataset/images/9087.jpg  \n",
            "  inflating: myntradataset/images/9088.jpg  \n",
            "  inflating: myntradataset/images/9089.jpg  \n",
            "  inflating: myntradataset/images/9090.jpg  \n",
            "  inflating: myntradataset/images/9091.jpg  \n",
            "  inflating: myntradataset/images/9092.jpg  \n",
            "  inflating: myntradataset/images/9093.jpg  \n",
            "  inflating: myntradataset/images/9094.jpg  \n",
            "  inflating: myntradataset/images/9095.jpg  \n",
            "  inflating: myntradataset/images/9096.jpg  \n",
            "  inflating: myntradataset/images/9097.jpg  \n",
            "  inflating: myntradataset/images/9099.jpg  \n",
            "  inflating: myntradataset/images/9100.jpg  \n",
            "  inflating: myntradataset/images/9101.jpg  \n",
            "  inflating: myntradataset/images/9102.jpg  \n",
            "  inflating: myntradataset/images/9103.jpg  \n",
            "  inflating: myntradataset/images/9104.jpg  \n",
            "  inflating: myntradataset/images/9105.jpg  \n",
            "  inflating: myntradataset/images/9106.jpg  \n",
            "  inflating: myntradataset/images/9107.jpg  \n",
            "  inflating: myntradataset/images/9108.jpg  \n",
            "  inflating: myntradataset/images/9109.jpg  \n",
            "  inflating: myntradataset/images/9110.jpg  \n",
            "  inflating: myntradataset/images/9111.jpg  \n",
            "  inflating: myntradataset/images/9112.jpg  \n",
            "  inflating: myntradataset/images/9113.jpg  \n",
            "  inflating: myntradataset/images/9114.jpg  \n",
            "  inflating: myntradataset/images/9115.jpg  \n",
            "  inflating: myntradataset/images/9116.jpg  \n",
            "  inflating: myntradataset/images/9117.jpg  \n",
            "  inflating: myntradataset/images/9118.jpg  \n",
            "  inflating: myntradataset/images/9119.jpg  \n",
            "  inflating: myntradataset/images/9120.jpg  \n",
            "  inflating: myntradataset/images/9121.jpg  \n",
            "  inflating: myntradataset/images/9122.jpg  \n",
            "  inflating: myntradataset/images/9123.jpg  \n",
            "  inflating: myntradataset/images/9124.jpg  \n",
            "  inflating: myntradataset/images/9125.jpg  \n",
            "  inflating: myntradataset/images/9126.jpg  \n",
            "  inflating: myntradataset/images/9127.jpg  \n",
            "  inflating: myntradataset/images/9128.jpg  \n",
            "  inflating: myntradataset/images/9129.jpg  \n",
            "  inflating: myntradataset/images/9130.jpg  \n",
            "  inflating: myntradataset/images/9131.jpg  \n",
            "  inflating: myntradataset/images/9132.jpg  \n",
            "  inflating: myntradataset/images/9133.jpg  \n",
            "  inflating: myntradataset/images/9134.jpg  \n",
            "  inflating: myntradataset/images/9135.jpg  \n",
            "  inflating: myntradataset/images/9136.jpg  \n",
            "  inflating: myntradataset/images/9137.jpg  \n",
            "  inflating: myntradataset/images/9138.jpg  \n",
            "  inflating: myntradataset/images/9139.jpg  \n",
            "  inflating: myntradataset/images/9140.jpg  \n",
            "  inflating: myntradataset/images/9141.jpg  \n",
            "  inflating: myntradataset/images/9142.jpg  \n",
            "  inflating: myntradataset/images/9143.jpg  \n",
            "  inflating: myntradataset/images/9144.jpg  \n",
            "  inflating: myntradataset/images/9145.jpg  \n",
            "  inflating: myntradataset/images/9146.jpg  \n",
            "  inflating: myntradataset/images/9147.jpg  \n",
            "  inflating: myntradataset/images/9148.jpg  \n",
            "  inflating: myntradataset/images/9149.jpg  \n",
            "  inflating: myntradataset/images/9150.jpg  \n",
            "  inflating: myntradataset/images/9151.jpg  \n",
            "  inflating: myntradataset/images/9152.jpg  \n",
            "  inflating: myntradataset/images/9153.jpg  \n",
            "  inflating: myntradataset/images/9154.jpg  \n",
            "  inflating: myntradataset/images/9155.jpg  \n",
            "  inflating: myntradataset/images/9156.jpg  \n",
            "  inflating: myntradataset/images/9157.jpg  \n",
            "  inflating: myntradataset/images/9158.jpg  \n",
            "  inflating: myntradataset/images/9160.jpg  \n",
            "  inflating: myntradataset/images/9161.jpg  \n",
            "  inflating: myntradataset/images/9162.jpg  \n",
            "  inflating: myntradataset/images/9163.jpg  \n",
            "  inflating: myntradataset/images/9164.jpg  \n",
            "  inflating: myntradataset/images/9166.jpg  \n",
            "  inflating: myntradataset/images/9167.jpg  \n",
            "  inflating: myntradataset/images/9168.jpg  \n",
            "  inflating: myntradataset/images/9169.jpg  \n",
            "  inflating: myntradataset/images/9170.jpg  \n",
            "  inflating: myntradataset/images/9171.jpg  \n",
            "  inflating: myntradataset/images/9173.jpg  \n",
            "  inflating: myntradataset/images/9174.jpg  \n",
            "  inflating: myntradataset/images/9175.jpg  \n",
            "  inflating: myntradataset/images/9176.jpg  \n",
            "  inflating: myntradataset/images/9177.jpg  \n",
            "  inflating: myntradataset/images/9178.jpg  \n",
            "  inflating: myntradataset/images/9179.jpg  \n",
            "  inflating: myntradataset/images/9180.jpg  \n",
            "  inflating: myntradataset/images/9181.jpg  \n",
            "  inflating: myntradataset/images/9182.jpg  \n",
            "  inflating: myntradataset/images/9186.jpg  \n",
            "  inflating: myntradataset/images/9187.jpg  \n",
            "  inflating: myntradataset/images/9189.jpg  \n",
            "  inflating: myntradataset/images/9191.jpg  \n",
            "  inflating: myntradataset/images/9195.jpg  \n",
            "  inflating: myntradataset/images/9196.jpg  \n",
            "  inflating: myntradataset/images/9197.jpg  \n",
            "  inflating: myntradataset/images/9198.jpg  \n",
            "  inflating: myntradataset/images/9199.jpg  \n",
            "  inflating: myntradataset/images/9200.jpg  \n",
            "  inflating: myntradataset/images/9201.jpg  \n",
            "  inflating: myntradataset/images/9202.jpg  \n",
            "  inflating: myntradataset/images/9203.jpg  \n",
            "  inflating: myntradataset/images/9204.jpg  \n",
            "  inflating: myntradataset/images/9205.jpg  \n",
            "  inflating: myntradataset/images/9206.jpg  \n",
            "  inflating: myntradataset/images/9207.jpg  \n",
            "  inflating: myntradataset/images/9208.jpg  \n",
            "  inflating: myntradataset/images/9209.jpg  \n",
            "  inflating: myntradataset/images/9210.jpg  \n",
            "  inflating: myntradataset/images/9211.jpg  \n",
            "  inflating: myntradataset/images/9212.jpg  \n",
            "  inflating: myntradataset/images/9213.jpg  \n",
            "  inflating: myntradataset/images/9214.jpg  \n",
            "  inflating: myntradataset/images/9215.jpg  \n",
            "  inflating: myntradataset/images/9216.jpg  \n",
            "  inflating: myntradataset/images/9217.jpg  \n",
            "  inflating: myntradataset/images/9218.jpg  \n",
            "  inflating: myntradataset/images/9219.jpg  \n",
            "  inflating: myntradataset/images/9220.jpg  \n",
            "  inflating: myntradataset/images/9221.jpg  \n",
            "  inflating: myntradataset/images/9222.jpg  \n",
            "  inflating: myntradataset/images/9223.jpg  \n",
            "  inflating: myntradataset/images/9225.jpg  \n",
            "  inflating: myntradataset/images/9226.jpg  \n",
            "  inflating: myntradataset/images/9227.jpg  \n",
            "  inflating: myntradataset/images/9229.jpg  \n",
            "  inflating: myntradataset/images/9230.jpg  \n",
            "  inflating: myntradataset/images/9231.jpg  \n",
            "  inflating: myntradataset/images/9233.jpg  \n",
            "  inflating: myntradataset/images/9235.jpg  \n",
            "  inflating: myntradataset/images/9236.jpg  \n",
            "  inflating: myntradataset/images/9237.jpg  \n",
            "  inflating: myntradataset/images/9239.jpg  \n",
            "  inflating: myntradataset/images/9240.jpg  \n",
            "  inflating: myntradataset/images/9241.jpg  \n",
            "  inflating: myntradataset/images/9242.jpg  \n",
            "  inflating: myntradataset/images/9243.jpg  \n",
            "  inflating: myntradataset/images/9244.jpg  \n",
            "  inflating: myntradataset/images/9245.jpg  \n",
            "  inflating: myntradataset/images/9246.jpg  \n",
            "  inflating: myntradataset/images/9247.jpg  \n",
            "  inflating: myntradataset/images/9248.jpg  \n",
            "  inflating: myntradataset/images/9249.jpg  \n",
            "  inflating: myntradataset/images/9250.jpg  \n",
            "  inflating: myntradataset/images/9251.jpg  \n",
            "  inflating: myntradataset/images/9252.jpg  \n",
            "  inflating: myntradataset/images/9253.jpg  \n",
            "  inflating: myntradataset/images/9254.jpg  \n",
            "  inflating: myntradataset/images/9255.jpg  \n",
            "  inflating: myntradataset/images/9256.jpg  \n",
            "  inflating: myntradataset/images/9257.jpg  \n",
            "  inflating: myntradataset/images/9258.jpg  \n",
            "  inflating: myntradataset/images/9259.jpg  \n",
            "  inflating: myntradataset/images/9260.jpg  \n",
            "  inflating: myntradataset/images/9261.jpg  \n",
            "  inflating: myntradataset/images/9262.jpg  \n",
            "  inflating: myntradataset/images/9263.jpg  \n",
            "  inflating: myntradataset/images/9264.jpg  \n",
            "  inflating: myntradataset/images/9265.jpg  \n",
            "  inflating: myntradataset/images/9266.jpg  \n",
            "  inflating: myntradataset/images/9267.jpg  \n",
            "  inflating: myntradataset/images/9268.jpg  \n",
            "  inflating: myntradataset/images/9269.jpg  \n",
            "  inflating: myntradataset/images/9270.jpg  \n",
            "  inflating: myntradataset/images/9271.jpg  \n",
            "  inflating: myntradataset/images/9272.jpg  \n",
            "  inflating: myntradataset/images/9273.jpg  \n",
            "  inflating: myntradataset/images/9274.jpg  \n",
            "  inflating: myntradataset/images/9289.jpg  \n",
            "  inflating: myntradataset/images/9305.jpg  \n",
            "  inflating: myntradataset/images/9309.jpg  \n",
            "  inflating: myntradataset/images/9310.jpg  \n",
            "  inflating: myntradataset/images/9321.jpg  \n",
            "  inflating: myntradataset/images/9323.jpg  \n",
            "  inflating: myntradataset/images/9330.jpg  \n",
            "  inflating: myntradataset/images/9331.jpg  \n",
            "  inflating: myntradataset/images/9332.jpg  \n",
            "  inflating: myntradataset/images/9333.jpg  \n",
            "  inflating: myntradataset/images/9334.jpg  \n",
            "  inflating: myntradataset/images/9335.jpg  \n",
            "  inflating: myntradataset/images/9336.jpg  \n",
            "  inflating: myntradataset/images/9337.jpg  \n",
            "  inflating: myntradataset/images/9338.jpg  \n",
            "  inflating: myntradataset/images/9339.jpg  \n",
            "  inflating: myntradataset/images/9340.jpg  \n",
            "  inflating: myntradataset/images/9341.jpg  \n",
            "  inflating: myntradataset/images/9342.jpg  \n",
            "  inflating: myntradataset/images/9343.jpg  \n",
            "  inflating: myntradataset/images/9344.jpg  \n",
            "  inflating: myntradataset/images/9345.jpg  \n",
            "  inflating: myntradataset/images/9346.jpg  \n",
            "  inflating: myntradataset/images/9347.jpg  \n",
            "  inflating: myntradataset/images/9348.jpg  \n",
            "  inflating: myntradataset/images/9350.jpg  \n",
            "  inflating: myntradataset/images/9351.jpg  \n",
            "  inflating: myntradataset/images/9352.jpg  \n",
            "  inflating: myntradataset/images/9354.jpg  \n",
            "  inflating: myntradataset/images/9355.jpg  \n",
            "  inflating: myntradataset/images/9356.jpg  \n",
            "  inflating: myntradataset/images/9357.jpg  \n",
            "  inflating: myntradataset/images/9358.jpg  \n",
            "  inflating: myntradataset/images/9359.jpg  \n",
            "  inflating: myntradataset/images/9360.jpg  \n",
            "  inflating: myntradataset/images/9361.jpg  \n",
            "  inflating: myntradataset/images/9362.jpg  \n",
            "  inflating: myntradataset/images/9363.jpg  \n",
            "  inflating: myntradataset/images/9364.jpg  \n",
            "  inflating: myntradataset/images/9365.jpg  \n",
            "  inflating: myntradataset/images/9366.jpg  \n",
            "  inflating: myntradataset/images/9367.jpg  \n",
            "  inflating: myntradataset/images/9368.jpg  \n",
            "  inflating: myntradataset/images/9369.jpg  \n",
            "  inflating: myntradataset/images/9370.jpg  \n",
            "  inflating: myntradataset/images/9371.jpg  \n",
            "  inflating: myntradataset/images/9372.jpg  \n",
            "  inflating: myntradataset/images/9373.jpg  \n",
            "  inflating: myntradataset/images/9374.jpg  \n",
            "  inflating: myntradataset/images/9375.jpg  \n",
            "  inflating: myntradataset/images/9376.jpg  \n",
            "  inflating: myntradataset/images/9377.jpg  \n",
            "  inflating: myntradataset/images/9378.jpg  \n",
            "  inflating: myntradataset/images/9379.jpg  \n",
            "  inflating: myntradataset/images/9380.jpg  \n",
            "  inflating: myntradataset/images/9381.jpg  \n",
            "  inflating: myntradataset/images/9382.jpg  \n",
            "  inflating: myntradataset/images/9383.jpg  \n",
            "  inflating: myntradataset/images/9384.jpg  \n",
            "  inflating: myntradataset/images/9385.jpg  \n",
            "  inflating: myntradataset/images/9386.jpg  \n",
            "  inflating: myntradataset/images/9387.jpg  \n",
            "  inflating: myntradataset/images/9389.jpg  \n",
            "  inflating: myntradataset/images/9390.jpg  \n",
            "  inflating: myntradataset/images/9391.jpg  \n",
            "  inflating: myntradataset/images/9392.jpg  \n",
            "  inflating: myntradataset/images/9393.jpg  \n",
            "  inflating: myntradataset/images/9394.jpg  \n",
            "  inflating: myntradataset/images/9395.jpg  \n",
            "  inflating: myntradataset/images/9396.jpg  \n",
            "  inflating: myntradataset/images/9397.jpg  \n",
            "  inflating: myntradataset/images/9398.jpg  \n",
            "  inflating: myntradataset/images/9399.jpg  \n",
            "  inflating: myntradataset/images/9400.jpg  \n",
            "  inflating: myntradataset/images/9401.jpg  \n",
            "  inflating: myntradataset/images/9402.jpg  \n",
            "  inflating: myntradataset/images/9403.jpg  \n",
            "  inflating: myntradataset/images/9404.jpg  \n",
            "  inflating: myntradataset/images/9405.jpg  \n",
            "  inflating: myntradataset/images/9406.jpg  \n",
            "  inflating: myntradataset/images/9407.jpg  \n",
            "  inflating: myntradataset/images/9408.jpg  \n",
            "  inflating: myntradataset/images/9409.jpg  \n",
            "  inflating: myntradataset/images/9410.jpg  \n",
            "  inflating: myntradataset/images/9411.jpg  \n",
            "  inflating: myntradataset/images/9412.jpg  \n",
            "  inflating: myntradataset/images/9413.jpg  \n",
            "  inflating: myntradataset/images/9415.jpg  \n",
            "  inflating: myntradataset/images/9416.jpg  \n",
            "  inflating: myntradataset/images/9417.jpg  \n",
            "  inflating: myntradataset/images/9418.jpg  \n",
            "  inflating: myntradataset/images/9419.jpg  \n",
            "  inflating: myntradataset/images/9420.jpg  \n",
            "  inflating: myntradataset/images/9421.jpg  \n",
            "  inflating: myntradataset/images/9422.jpg  \n",
            "  inflating: myntradataset/images/9423.jpg  \n",
            "  inflating: myntradataset/images/9424.jpg  \n",
            "  inflating: myntradataset/images/9425.jpg  \n",
            "  inflating: myntradataset/images/9426.jpg  \n",
            "  inflating: myntradataset/images/9427.jpg  \n",
            "  inflating: myntradataset/images/9428.jpg  \n",
            "  inflating: myntradataset/images/9430.jpg  \n",
            "  inflating: myntradataset/images/9431.jpg  \n",
            "  inflating: myntradataset/images/9432.jpg  \n",
            "  inflating: myntradataset/images/9433.jpg  \n",
            "  inflating: myntradataset/images/9434.jpg  \n",
            "  inflating: myntradataset/images/9435.jpg  \n",
            "  inflating: myntradataset/images/9436.jpg  \n",
            "  inflating: myntradataset/images/9437.jpg  \n",
            "  inflating: myntradataset/images/9438.jpg  \n",
            "  inflating: myntradataset/images/9439.jpg  \n",
            "  inflating: myntradataset/images/9440.jpg  \n",
            "  inflating: myntradataset/images/9441.jpg  \n",
            "  inflating: myntradataset/images/9442.jpg  \n",
            "  inflating: myntradataset/images/9443.jpg  \n",
            "  inflating: myntradataset/images/9444.jpg  \n",
            "  inflating: myntradataset/images/9445.jpg  \n",
            "  inflating: myntradataset/images/9447.jpg  \n",
            "  inflating: myntradataset/images/9449.jpg  \n",
            "  inflating: myntradataset/images/9450.jpg  \n",
            "  inflating: myntradataset/images/9451.jpg  \n",
            "  inflating: myntradataset/images/9452.jpg  \n",
            "  inflating: myntradataset/images/9453.jpg  \n",
            "  inflating: myntradataset/images/9454.jpg  \n",
            "  inflating: myntradataset/images/9455.jpg  \n",
            "  inflating: myntradataset/images/9456.jpg  \n",
            "  inflating: myntradataset/images/9457.jpg  \n",
            "  inflating: myntradataset/images/9458.jpg  \n",
            "  inflating: myntradataset/images/9460.jpg  \n",
            "  inflating: myntradataset/images/9461.jpg  \n",
            "  inflating: myntradataset/images/9462.jpg  \n",
            "  inflating: myntradataset/images/9463.jpg  \n",
            "  inflating: myntradataset/images/9464.jpg  \n",
            "  inflating: myntradataset/images/9465.jpg  \n",
            "  inflating: myntradataset/images/9466.jpg  \n",
            "  inflating: myntradataset/images/9469.jpg  \n",
            "  inflating: myntradataset/images/9470.jpg  \n",
            "  inflating: myntradataset/images/9471.jpg  \n",
            "  inflating: myntradataset/images/9472.jpg  \n",
            "  inflating: myntradataset/images/9473.jpg  \n",
            "  inflating: myntradataset/images/9474.jpg  \n",
            "  inflating: myntradataset/images/9475.jpg  \n",
            "  inflating: myntradataset/images/9476.jpg  \n",
            "  inflating: myntradataset/images/9477.jpg  \n",
            "  inflating: myntradataset/images/9478.jpg  \n",
            "  inflating: myntradataset/images/9479.jpg  \n",
            "  inflating: myntradataset/images/9480.jpg  \n",
            "  inflating: myntradataset/images/9481.jpg  \n",
            "  inflating: myntradataset/images/9482.jpg  \n",
            "  inflating: myntradataset/images/9483.jpg  \n",
            "  inflating: myntradataset/images/9484.jpg  \n",
            "  inflating: myntradataset/images/9485.jpg  \n",
            "  inflating: myntradataset/images/9486.jpg  \n",
            "  inflating: myntradataset/images/9487.jpg  \n",
            "  inflating: myntradataset/images/9488.jpg  \n",
            "  inflating: myntradataset/images/9489.jpg  \n",
            "  inflating: myntradataset/images/9490.jpg  \n",
            "  inflating: myntradataset/images/9491.jpg  \n",
            "  inflating: myntradataset/images/9492.jpg  \n",
            "  inflating: myntradataset/images/9493.jpg  \n",
            "  inflating: myntradataset/images/9494.jpg  \n",
            "  inflating: myntradataset/images/9495.jpg  \n",
            "  inflating: myntradataset/images/9496.jpg  \n",
            "  inflating: myntradataset/images/9497.jpg  \n",
            "  inflating: myntradataset/images/9498.jpg  \n",
            "  inflating: myntradataset/images/9500.jpg  \n",
            "  inflating: myntradataset/images/9501.jpg  \n",
            "  inflating: myntradataset/images/9502.jpg  \n",
            "  inflating: myntradataset/images/9503.jpg  \n",
            "  inflating: myntradataset/images/9504.jpg  \n",
            "  inflating: myntradataset/images/9506.jpg  \n",
            "  inflating: myntradataset/images/9507.jpg  \n",
            "  inflating: myntradataset/images/9508.jpg  \n",
            "  inflating: myntradataset/images/9509.jpg  \n",
            "  inflating: myntradataset/images/9510.jpg  \n",
            "  inflating: myntradataset/images/9511.jpg  \n",
            "  inflating: myntradataset/images/9512.jpg  \n",
            "  inflating: myntradataset/images/9514.jpg  \n",
            "  inflating: myntradataset/images/9517.jpg  \n",
            "  inflating: myntradataset/images/9519.jpg  \n",
            "  inflating: myntradataset/images/9520.jpg  \n",
            "  inflating: myntradataset/images/9521.jpg  \n",
            "  inflating: myntradataset/images/9522.jpg  \n",
            "  inflating: myntradataset/images/9523.jpg  \n",
            "  inflating: myntradataset/images/9524.jpg  \n",
            "  inflating: myntradataset/images/9525.jpg  \n",
            "  inflating: myntradataset/images/9526.jpg  \n",
            "  inflating: myntradataset/images/9527.jpg  \n",
            "  inflating: myntradataset/images/9528.jpg  \n",
            "  inflating: myntradataset/images/9529.jpg  \n",
            "  inflating: myntradataset/images/9530.jpg  \n",
            "  inflating: myntradataset/images/9531.jpg  \n",
            "  inflating: myntradataset/images/9532.jpg  \n",
            "  inflating: myntradataset/images/9533.jpg  \n",
            "  inflating: myntradataset/images/9534.jpg  \n",
            "  inflating: myntradataset/images/9535.jpg  \n",
            "  inflating: myntradataset/images/9536.jpg  \n",
            "  inflating: myntradataset/images/9537.jpg  \n",
            "  inflating: myntradataset/images/9538.jpg  \n",
            "  inflating: myntradataset/images/9539.jpg  \n",
            "  inflating: myntradataset/images/9540.jpg  \n",
            "  inflating: myntradataset/images/9541.jpg  \n",
            "  inflating: myntradataset/images/9542.jpg  \n",
            "  inflating: myntradataset/images/9543.jpg  \n",
            "  inflating: myntradataset/images/9545.jpg  \n",
            "  inflating: myntradataset/images/9546.jpg  \n",
            "  inflating: myntradataset/images/9547.jpg  \n",
            "  inflating: myntradataset/images/9548.jpg  \n",
            "  inflating: myntradataset/images/9549.jpg  \n",
            "  inflating: myntradataset/images/9550.jpg  \n",
            "  inflating: myntradataset/images/9551.jpg  \n",
            "  inflating: myntradataset/images/9552.jpg  \n",
            "  inflating: myntradataset/images/9553.jpg  \n",
            "  inflating: myntradataset/images/9554.jpg  \n",
            "  inflating: myntradataset/images/9555.jpg  \n",
            "  inflating: myntradataset/images/9556.jpg  \n",
            "  inflating: myntradataset/images/9557.jpg  \n",
            "  inflating: myntradataset/images/9558.jpg  \n",
            "  inflating: myntradataset/images/9559.jpg  \n",
            "  inflating: myntradataset/images/9560.jpg  \n",
            "  inflating: myntradataset/images/9562.jpg  \n",
            "  inflating: myntradataset/images/9563.jpg  \n",
            "  inflating: myntradataset/images/9565.jpg  \n",
            "  inflating: myntradataset/images/9566.jpg  \n",
            "  inflating: myntradataset/images/9567.jpg  \n",
            "  inflating: myntradataset/images/9569.jpg  \n",
            "  inflating: myntradataset/images/9570.jpg  \n",
            "  inflating: myntradataset/images/9571.jpg  \n",
            "  inflating: myntradataset/images/9572.jpg  \n",
            "  inflating: myntradataset/images/9573.jpg  \n",
            "  inflating: myntradataset/images/9574.jpg  \n",
            "  inflating: myntradataset/images/9575.jpg  \n",
            "  inflating: myntradataset/images/9576.jpg  \n",
            "  inflating: myntradataset/images/9577.jpg  \n",
            "  inflating: myntradataset/images/9578.jpg  \n",
            "  inflating: myntradataset/images/9579.jpg  \n",
            "  inflating: myntradataset/images/9580.jpg  \n",
            "  inflating: myntradataset/images/9581.jpg  \n",
            "  inflating: myntradataset/images/9582.jpg  \n",
            "  inflating: myntradataset/images/9583.jpg  \n",
            "  inflating: myntradataset/images/9584.jpg  \n",
            "  inflating: myntradataset/images/9585.jpg  \n",
            "  inflating: myntradataset/images/9586.jpg  \n",
            "  inflating: myntradataset/images/9587.jpg  \n",
            "  inflating: myntradataset/images/9588.jpg  \n",
            "  inflating: myntradataset/images/9589.jpg  \n",
            "  inflating: myntradataset/images/9590.jpg  \n",
            "  inflating: myntradataset/images/9591.jpg  \n",
            "  inflating: myntradataset/images/9592.jpg  \n",
            "  inflating: myntradataset/images/9593.jpg  \n",
            "  inflating: myntradataset/images/9594.jpg  \n",
            "  inflating: myntradataset/images/9595.jpg  \n",
            "  inflating: myntradataset/images/9596.jpg  \n",
            "  inflating: myntradataset/images/9597.jpg  \n",
            "  inflating: myntradataset/images/9598.jpg  \n",
            "  inflating: myntradataset/images/9599.jpg  \n",
            "  inflating: myntradataset/images/9600.jpg  \n",
            "  inflating: myntradataset/images/9601.jpg  \n",
            "  inflating: myntradataset/images/9602.jpg  \n",
            "  inflating: myntradataset/images/9603.jpg  \n",
            "  inflating: myntradataset/images/9604.jpg  \n",
            "  inflating: myntradataset/images/9605.jpg  \n",
            "  inflating: myntradataset/images/9606.jpg  \n",
            "  inflating: myntradataset/images/9607.jpg  \n",
            "  inflating: myntradataset/images/9608.jpg  \n",
            "  inflating: myntradataset/images/9609.jpg  \n",
            "  inflating: myntradataset/images/9610.jpg  \n",
            "  inflating: myntradataset/images/9611.jpg  \n",
            "  inflating: myntradataset/images/9612.jpg  \n",
            "  inflating: myntradataset/images/9613.jpg  \n",
            "  inflating: myntradataset/images/9614.jpg  \n",
            "  inflating: myntradataset/images/9615.jpg  \n",
            "  inflating: myntradataset/images/9616.jpg  \n",
            "  inflating: myntradataset/images/9617.jpg  \n",
            "  inflating: myntradataset/images/9618.jpg  \n",
            "  inflating: myntradataset/images/9619.jpg  \n",
            "  inflating: myntradataset/images/9620.jpg  \n",
            "  inflating: myntradataset/images/9621.jpg  \n",
            "  inflating: myntradataset/images/9622.jpg  \n",
            "  inflating: myntradataset/images/9623.jpg  \n",
            "  inflating: myntradataset/images/9624.jpg  \n",
            "  inflating: myntradataset/images/9627.jpg  \n",
            "  inflating: myntradataset/images/9628.jpg  \n",
            "  inflating: myntradataset/images/9630.jpg  \n",
            "  inflating: myntradataset/images/9631.jpg  \n",
            "  inflating: myntradataset/images/9632.jpg  \n",
            "  inflating: myntradataset/images/9633.jpg  \n",
            "  inflating: myntradataset/images/9634.jpg  \n",
            "  inflating: myntradataset/images/9635.jpg  \n",
            "  inflating: myntradataset/images/9636.jpg  \n",
            "  inflating: myntradataset/images/9637.jpg  \n",
            "  inflating: myntradataset/images/9638.jpg  \n",
            "  inflating: myntradataset/images/9639.jpg  \n",
            "  inflating: myntradataset/images/9640.jpg  \n",
            "  inflating: myntradataset/images/9641.jpg  \n",
            "  inflating: myntradataset/images/9642.jpg  \n",
            "  inflating: myntradataset/images/9643.jpg  \n",
            "  inflating: myntradataset/images/9644.jpg  \n",
            "  inflating: myntradataset/images/9645.jpg  \n",
            "  inflating: myntradataset/images/9646.jpg  \n",
            "  inflating: myntradataset/images/9647.jpg  \n",
            "  inflating: myntradataset/images/9648.jpg  \n",
            "  inflating: myntradataset/images/9649.jpg  \n",
            "  inflating: myntradataset/images/9650.jpg  \n",
            "  inflating: myntradataset/images/9651.jpg  \n",
            "  inflating: myntradataset/images/9652.jpg  \n",
            "  inflating: myntradataset/images/9653.jpg  \n",
            "  inflating: myntradataset/images/9654.jpg  \n",
            "  inflating: myntradataset/images/9655.jpg  \n",
            "  inflating: myntradataset/images/9656.jpg  \n",
            "  inflating: myntradataset/images/9657.jpg  \n",
            "  inflating: myntradataset/images/9658.jpg  \n",
            "  inflating: myntradataset/images/9659.jpg  \n",
            "  inflating: myntradataset/images/9660.jpg  \n",
            "  inflating: myntradataset/images/9661.jpg  \n",
            "  inflating: myntradataset/images/9662.jpg  \n",
            "  inflating: myntradataset/images/9664.jpg  \n",
            "  inflating: myntradataset/images/9665.jpg  \n",
            "  inflating: myntradataset/images/9666.jpg  \n",
            "  inflating: myntradataset/images/9667.jpg  \n",
            "  inflating: myntradataset/images/9669.jpg  \n",
            "  inflating: myntradataset/images/9670.jpg  \n",
            "  inflating: myntradataset/images/9671.jpg  \n",
            "  inflating: myntradataset/images/9672.jpg  \n",
            "  inflating: myntradataset/images/9673.jpg  \n",
            "  inflating: myntradataset/images/9674.jpg  \n",
            "  inflating: myntradataset/images/9675.jpg  \n",
            "  inflating: myntradataset/images/9676.jpg  \n",
            "  inflating: myntradataset/images/9677.jpg  \n",
            "  inflating: myntradataset/images/9678.jpg  \n",
            "  inflating: myntradataset/images/9679.jpg  \n",
            "  inflating: myntradataset/images/9680.jpg  \n",
            "  inflating: myntradataset/images/9681.jpg  \n",
            "  inflating: myntradataset/images/9682.jpg  \n",
            "  inflating: myntradataset/images/9683.jpg  \n",
            "  inflating: myntradataset/images/9684.jpg  \n",
            "  inflating: myntradataset/images/9685.jpg  \n",
            "  inflating: myntradataset/images/9686.jpg  \n",
            "  inflating: myntradataset/images/9687.jpg  \n",
            "  inflating: myntradataset/images/9688.jpg  \n",
            "  inflating: myntradataset/images/9689.jpg  \n",
            "  inflating: myntradataset/images/9690.jpg  \n",
            "  inflating: myntradataset/images/9691.jpg  \n",
            "  inflating: myntradataset/images/9692.jpg  \n",
            "  inflating: myntradataset/images/9694.jpg  \n",
            "  inflating: myntradataset/images/9695.jpg  \n",
            "  inflating: myntradataset/images/9696.jpg  \n",
            "  inflating: myntradataset/images/9697.jpg  \n",
            "  inflating: myntradataset/images/9698.jpg  \n",
            "  inflating: myntradataset/images/9699.jpg  \n",
            "  inflating: myntradataset/images/9700.jpg  \n",
            "  inflating: myntradataset/images/9701.jpg  \n",
            "  inflating: myntradataset/images/9702.jpg  \n",
            "  inflating: myntradataset/images/9703.jpg  \n",
            "  inflating: myntradataset/images/9704.jpg  \n",
            "  inflating: myntradataset/images/9705.jpg  \n",
            "  inflating: myntradataset/images/9706.jpg  \n",
            "  inflating: myntradataset/images/9707.jpg  \n",
            "  inflating: myntradataset/images/9708.jpg  \n",
            "  inflating: myntradataset/images/9709.jpg  \n",
            "  inflating: myntradataset/images/9710.jpg  \n",
            "  inflating: myntradataset/images/9711.jpg  \n",
            "  inflating: myntradataset/images/9712.jpg  \n",
            "  inflating: myntradataset/images/9713.jpg  \n",
            "  inflating: myntradataset/images/9714.jpg  \n",
            "  inflating: myntradataset/images/9715.jpg  \n",
            "  inflating: myntradataset/images/9716.jpg  \n",
            "  inflating: myntradataset/images/9717.jpg  \n",
            "  inflating: myntradataset/images/9718.jpg  \n",
            "  inflating: myntradataset/images/9719.jpg  \n",
            "  inflating: myntradataset/images/9720.jpg  \n",
            "  inflating: myntradataset/images/9722.jpg  \n",
            "  inflating: myntradataset/images/9726.jpg  \n",
            "  inflating: myntradataset/images/9729.jpg  \n",
            "  inflating: myntradataset/images/9730.jpg  \n",
            "  inflating: myntradataset/images/9732.jpg  \n",
            "  inflating: myntradataset/images/9733.jpg  \n",
            "  inflating: myntradataset/images/9738.jpg  \n",
            "  inflating: myntradataset/images/9748.jpg  \n",
            "  inflating: myntradataset/images/9752.jpg  \n",
            "  inflating: myntradataset/images/9754.jpg  \n",
            "  inflating: myntradataset/images/9755.jpg  \n",
            "  inflating: myntradataset/images/9756.jpg  \n",
            "  inflating: myntradataset/images/9757.jpg  \n",
            "  inflating: myntradataset/images/9758.jpg  \n",
            "  inflating: myntradataset/images/9759.jpg  \n",
            "  inflating: myntradataset/images/9760.jpg  \n",
            "  inflating: myntradataset/images/9761.jpg  \n",
            "  inflating: myntradataset/images/9762.jpg  \n",
            "  inflating: myntradataset/images/9763.jpg  \n",
            "  inflating: myntradataset/images/9764.jpg  \n",
            "  inflating: myntradataset/images/9765.jpg  \n",
            "  inflating: myntradataset/images/9766.jpg  \n",
            "  inflating: myntradataset/images/9767.jpg  \n",
            "  inflating: myntradataset/images/9768.jpg  \n",
            "  inflating: myntradataset/images/9769.jpg  \n",
            "  inflating: myntradataset/images/9770.jpg  \n",
            "  inflating: myntradataset/images/9771.jpg  \n",
            "  inflating: myntradataset/images/9772.jpg  \n",
            "  inflating: myntradataset/images/9773.jpg  \n",
            "  inflating: myntradataset/images/9774.jpg  \n",
            "  inflating: myntradataset/images/9775.jpg  \n",
            "  inflating: myntradataset/images/9776.jpg  \n",
            "  inflating: myntradataset/images/9777.jpg  \n",
            "  inflating: myntradataset/images/9778.jpg  \n",
            "  inflating: myntradataset/images/9779.jpg  \n",
            "  inflating: myntradataset/images/9780.jpg  \n",
            "  inflating: myntradataset/images/9781.jpg  \n",
            "  inflating: myntradataset/images/9782.jpg  \n",
            "  inflating: myntradataset/images/9783.jpg  \n",
            "  inflating: myntradataset/images/9784.jpg  \n",
            "  inflating: myntradataset/images/9785.jpg  \n",
            "  inflating: myntradataset/images/9788.jpg  \n",
            "  inflating: myntradataset/images/9789.jpg  \n",
            "  inflating: myntradataset/images/9790.jpg  \n",
            "  inflating: myntradataset/images/9791.jpg  \n",
            "  inflating: myntradataset/images/9792.jpg  \n",
            "  inflating: myntradataset/images/9793.jpg  \n",
            "  inflating: myntradataset/images/9794.jpg  \n",
            "  inflating: myntradataset/images/9795.jpg  \n",
            "  inflating: myntradataset/images/9796.jpg  \n",
            "  inflating: myntradataset/images/9797.jpg  \n",
            "  inflating: myntradataset/images/9798.jpg  \n",
            "  inflating: myntradataset/images/9799.jpg  \n",
            "  inflating: myntradataset/images/9800.jpg  \n",
            "  inflating: myntradataset/images/9801.jpg  \n",
            "  inflating: myntradataset/images/9802.jpg  \n",
            "  inflating: myntradataset/images/9803.jpg  \n",
            "  inflating: myntradataset/images/9804.jpg  \n",
            "  inflating: myntradataset/images/9805.jpg  \n",
            "  inflating: myntradataset/images/9806.jpg  \n",
            "  inflating: myntradataset/images/9807.jpg  \n",
            "  inflating: myntradataset/images/9808.jpg  \n",
            "  inflating: myntradataset/images/9809.jpg  \n",
            "  inflating: myntradataset/images/9810.jpg  \n",
            "  inflating: myntradataset/images/9812.jpg  \n",
            "  inflating: myntradataset/images/9814.jpg  \n",
            "  inflating: myntradataset/images/9815.jpg  \n",
            "  inflating: myntradataset/images/9816.jpg  \n",
            "  inflating: myntradataset/images/9817.jpg  \n",
            "  inflating: myntradataset/images/9818.jpg  \n",
            "  inflating: myntradataset/images/9819.jpg  \n",
            "  inflating: myntradataset/images/9820.jpg  \n",
            "  inflating: myntradataset/images/9821.jpg  \n",
            "  inflating: myntradataset/images/9822.jpg  \n",
            "  inflating: myntradataset/images/9823.jpg  \n",
            "  inflating: myntradataset/images/9824.jpg  \n",
            "  inflating: myntradataset/images/9825.jpg  \n",
            "  inflating: myntradataset/images/9826.jpg  \n",
            "  inflating: myntradataset/images/9827.jpg  \n",
            "  inflating: myntradataset/images/9828.jpg  \n",
            "  inflating: myntradataset/images/9829.jpg  \n",
            "  inflating: myntradataset/images/9830.jpg  \n",
            "  inflating: myntradataset/images/9831.jpg  \n",
            "  inflating: myntradataset/images/9832.jpg  \n",
            "  inflating: myntradataset/images/9833.jpg  \n",
            "  inflating: myntradataset/images/9834.jpg  \n",
            "  inflating: myntradataset/images/9835.jpg  \n",
            "  inflating: myntradataset/images/9836.jpg  \n",
            "  inflating: myntradataset/images/9839.jpg  \n",
            "  inflating: myntradataset/images/9840.jpg  \n",
            "  inflating: myntradataset/images/9841.jpg  \n",
            "  inflating: myntradataset/images/9842.jpg  \n",
            "  inflating: myntradataset/images/9852.jpg  \n",
            "  inflating: myntradataset/images/9854.jpg  \n",
            "  inflating: myntradataset/images/9856.jpg  \n",
            "  inflating: myntradataset/images/9857.jpg  \n",
            "  inflating: myntradataset/images/9858.jpg  \n",
            "  inflating: myntradataset/images/9859.jpg  \n",
            "  inflating: myntradataset/images/9860.jpg  \n",
            "  inflating: myntradataset/images/9862.jpg  \n",
            "  inflating: myntradataset/images/9863.jpg  \n",
            "  inflating: myntradataset/images/9864.jpg  \n",
            "  inflating: myntradataset/images/9865.jpg  \n",
            "  inflating: myntradataset/images/9866.jpg  \n",
            "  inflating: myntradataset/images/9867.jpg  \n",
            "  inflating: myntradataset/images/9868.jpg  \n",
            "  inflating: myntradataset/images/9869.jpg  \n",
            "  inflating: myntradataset/images/9870.jpg  \n",
            "  inflating: myntradataset/images/9871.jpg  \n",
            "  inflating: myntradataset/images/9874.jpg  \n",
            "  inflating: myntradataset/images/9875.jpg  \n",
            "  inflating: myntradataset/images/9876.jpg  \n",
            "  inflating: myntradataset/images/9877.jpg  \n",
            "  inflating: myntradataset/images/9878.jpg  \n",
            "  inflating: myntradataset/images/9879.jpg  \n",
            "  inflating: myntradataset/images/9880.jpg  \n",
            "  inflating: myntradataset/images/9881.jpg  \n",
            "  inflating: myntradataset/images/9882.jpg  \n",
            "  inflating: myntradataset/images/9883.jpg  \n",
            "  inflating: myntradataset/images/9884.jpg  \n",
            "  inflating: myntradataset/images/9885.jpg  \n",
            "  inflating: myntradataset/images/9892.jpg  \n",
            "  inflating: myntradataset/images/9894.jpg  \n",
            "  inflating: myntradataset/images/9900.jpg  \n",
            "  inflating: myntradataset/images/9901.jpg  \n",
            "  inflating: myntradataset/images/9902.jpg  \n",
            "  inflating: myntradataset/images/9903.jpg  \n",
            "  inflating: myntradataset/images/9904.jpg  \n",
            "  inflating: myntradataset/images/9906.jpg  \n",
            "  inflating: myntradataset/images/9907.jpg  \n",
            "  inflating: myntradataset/images/9908.jpg  \n",
            "  inflating: myntradataset/images/9909.jpg  \n",
            "  inflating: myntradataset/images/9910.jpg  \n",
            "  inflating: myntradataset/images/9911.jpg  \n",
            "  inflating: myntradataset/images/9912.jpg  \n",
            "  inflating: myntradataset/images/9913.jpg  \n",
            "  inflating: myntradataset/images/9914.jpg  \n",
            "  inflating: myntradataset/images/9915.jpg  \n",
            "  inflating: myntradataset/images/9916.jpg  \n",
            "  inflating: myntradataset/images/9917.jpg  \n",
            "  inflating: myntradataset/images/9918.jpg  \n",
            "  inflating: myntradataset/images/9919.jpg  \n",
            "  inflating: myntradataset/images/9920.jpg  \n",
            "  inflating: myntradataset/images/9921.jpg  \n",
            "  inflating: myntradataset/images/9922.jpg  \n",
            "  inflating: myntradataset/images/9923.jpg  \n",
            "  inflating: myntradataset/images/9924.jpg  \n",
            "  inflating: myntradataset/images/9925.jpg  \n",
            "  inflating: myntradataset/images/9926.jpg  \n",
            "  inflating: myntradataset/images/9927.jpg  \n",
            "  inflating: myntradataset/images/9929.jpg  \n",
            "  inflating: myntradataset/images/9931.jpg  \n",
            "  inflating: myntradataset/images/9932.jpg  \n",
            "  inflating: myntradataset/images/9933.jpg  \n",
            "  inflating: myntradataset/images/9934.jpg  \n",
            "  inflating: myntradataset/images/9935.jpg  \n",
            "  inflating: myntradataset/images/9937.jpg  \n",
            "  inflating: myntradataset/images/9938.jpg  \n",
            "  inflating: myntradataset/images/9940.jpg  \n",
            "  inflating: myntradataset/images/9941.jpg  \n",
            "  inflating: myntradataset/images/9942.jpg  \n",
            "  inflating: myntradataset/images/9943.jpg  \n",
            "  inflating: myntradataset/images/9944.jpg  \n",
            "  inflating: myntradataset/images/9945.jpg  \n",
            "  inflating: myntradataset/images/9946.jpg  \n",
            "  inflating: myntradataset/images/9947.jpg  \n",
            "  inflating: myntradataset/images/9948.jpg  \n",
            "  inflating: myntradataset/images/9949.jpg  \n",
            "  inflating: myntradataset/images/9950.jpg  \n",
            "  inflating: myntradataset/images/9951.jpg  \n",
            "  inflating: myntradataset/images/9952.jpg  \n",
            "  inflating: myntradataset/images/9953.jpg  \n",
            "  inflating: myntradataset/images/9954.jpg  \n",
            "  inflating: myntradataset/images/9955.jpg  \n",
            "  inflating: myntradataset/images/9956.jpg  \n",
            "  inflating: myntradataset/images/9957.jpg  \n",
            "  inflating: myntradataset/images/9958.jpg  \n",
            "  inflating: myntradataset/images/9959.jpg  \n",
            "  inflating: myntradataset/images/9960.jpg  \n",
            "  inflating: myntradataset/images/9961.jpg  \n",
            "  inflating: myntradataset/images/9962.jpg  \n",
            "  inflating: myntradataset/images/9963.jpg  \n",
            "  inflating: myntradataset/images/9964.jpg  \n",
            "  inflating: myntradataset/images/9965.jpg  \n",
            "  inflating: myntradataset/images/9966.jpg  \n",
            "  inflating: myntradataset/images/9967.jpg  \n",
            "  inflating: myntradataset/images/9968.jpg  \n",
            "  inflating: myntradataset/images/9969.jpg  \n",
            "  inflating: myntradataset/images/9970.jpg  \n",
            "  inflating: myntradataset/images/9971.jpg  \n",
            "  inflating: myntradataset/images/9972.jpg  \n",
            "  inflating: myntradataset/images/9973.jpg  \n",
            "  inflating: myntradataset/images/9974.jpg  \n",
            "  inflating: myntradataset/images/9975.jpg  \n",
            "  inflating: myntradataset/images/9976.jpg  \n",
            "  inflating: myntradataset/images/9977.jpg  \n",
            "  inflating: myntradataset/images/9978.jpg  \n",
            "  inflating: myntradataset/images/9980.jpg  \n",
            "  inflating: myntradataset/images/9981.jpg  \n",
            "  inflating: myntradataset/images/9982.jpg  \n",
            "  inflating: myntradataset/images/9983.jpg  \n",
            "  inflating: myntradataset/images/9984.jpg  \n",
            "  inflating: myntradataset/images/9985.jpg  \n",
            "  inflating: myntradataset/images/9986.jpg  \n",
            "  inflating: myntradataset/images/9987.jpg  \n",
            "  inflating: myntradataset/images/9988.jpg  \n",
            "  inflating: myntradataset/images/9989.jpg  \n",
            "  inflating: myntradataset/images/9990.jpg  \n",
            "  inflating: myntradataset/images/9991.jpg  \n",
            "  inflating: myntradataset/images/9992.jpg  \n",
            "  inflating: myntradataset/images/9993.jpg  \n",
            "  inflating: myntradataset/images/9994.jpg  \n",
            "  inflating: myntradataset/images/9995.jpg  \n",
            "  inflating: myntradataset/images/9996.jpg  \n",
            "  inflating: myntradataset/images/9997.jpg  \n",
            "  inflating: myntradataset/images/9998.jpg  \n",
            "  inflating: myntradataset/images/9999.jpg  \n",
            "  inflating: myntradataset/styles.csv  \n",
            "  inflating: styles.csv              \n"
          ]
        }
      ],
      "source": [
        "!unzip \\*.zip && rm *.zip"
      ]
    },
    {
      "cell_type": "code",
      "execution_count": null,
      "metadata": {
        "id": "Cv_vb8YXa8Ci"
      },
      "outputs": [],
      "source": [
        "# Import necessary libraries\n",
        "from flask import Flask, request, jsonify\n",
        "from flask_cors import CORS\n",
        "import base64\n",
        "from sklearn.neighbors import NearestNeighbors\n",
        "\n",
        "# Initialize Flask app\n",
        "app = Flask(__name__)\n",
        "CORS(app)\n",
        "\n",
        "# Load the model and precomputed features\n",
        "with open('embeddings.pkl', 'rb') as f:\n",
        "    feature_list = pickle.load(f)\n",
        "\n",
        "with open('filenames.pkl', 'rb') as f:\n",
        "    filenames = pickle.load(f)\n",
        "\n",
        "feature_list = np.array(feature_list)\n",
        "neighbors = NearestNeighbors(n_neighbors=6, algorithm='brute', metric='euclidean')\n",
        "neighbors.fit(feature_list)\n",
        "\n",
        "def extract_features(img_path, model):\n",
        "    img = load_img(img_path, target_size=(224, 224))\n",
        "    img_array = img_to_array(img)\n",
        "    expanded_img_array = np.expand_dims(img_array, axis=0)\n",
        "    preprocessed_img = preprocess_input(expanded_img_array)\n",
        "    result = model.predict(preprocessed_img).flatten()\n",
        "    return result\n",
        "\n",
        "@app.route('/', methods=['GET'])\n",
        "def home():\n",
        "    return 'success', 200\n",
        "\n",
        "@app.route('/find_similar', methods=['POST'])\n",
        "def find_similar():\n",
        "    if 'file' not in request.files:\n",
        "        return 'No file part', 400\n",
        "\n",
        "    file = request.files['file']\n",
        "    if file.filename == '':\n",
        "        return 'No selected file', 400\n",
        "\n",
        "    if file:\n",
        "        # Ensure 'uploads' directory exists\n",
        "        if not os.path.exists('uploads'):\n",
        "            os.makedirs('uploads')\n",
        "\n",
        "        filepath = os.path.join('uploads', file.filename)\n",
        "        file.save(filepath)\n",
        "\n",
        "        feature = extract_features(filepath, model)\n",
        "        distances, indices = neighbors.kneighbors([feature])\n",
        "\n",
        "        similar_files = [filenames[i] for i in indices[0][1:6]]\n",
        "        print(similar_files)\n",
        "        # Convert images to base64\n",
        "        similar_images_base64 = []\n",
        "        for filename in similar_files:\n",
        "            with open(filename, \"rb\") as image_file:\n",
        "                encoded_string = base64.b64encode(image_file.read()).decode('utf-8')\n",
        "                similar_images_base64.append(encoded_string)\n",
        "\n",
        "        return jsonify(similar_images_base64)\n",
        "\n",
        "# Run Flask app with ngrok\n",
        "app.run(port=80)"
      ]
    },
    {
      "cell_type": "code",
      "execution_count": null,
      "metadata": {
        "colab": {
          "base_uri": "https://localhost:8080/"
        },
        "id": "TU9-RTqScWRT",
        "outputId": "6a14c75a-9bcc-4f82-e8d9-0db9adf2207d"
      },
      "outputs": [
        {
          "name": "stdout",
          "output_type": "stream",
          "text": [
            "Requirement already satisfied: flask in /usr/local/lib/python3.10/dist-packages (2.2.5)\n",
            "Collecting flask-cors\n",
            "  Downloading Flask_Cors-4.0.1-py2.py3-none-any.whl (14 kB)\n",
            "Collecting pyngrok\n",
            "  Downloading pyngrok-7.1.6-py3-none-any.whl (22 kB)\n",
            "Requirement already satisfied: Werkzeug>=2.2.2 in /usr/local/lib/python3.10/dist-packages (from flask) (3.0.3)\n",
            "Requirement already satisfied: Jinja2>=3.0 in /usr/local/lib/python3.10/dist-packages (from flask) (3.1.4)\n",
            "Requirement already satisfied: itsdangerous>=2.0 in /usr/local/lib/python3.10/dist-packages (from flask) (2.2.0)\n",
            "Requirement already satisfied: click>=8.0 in /usr/local/lib/python3.10/dist-packages (from flask) (8.1.7)\n",
            "Requirement already satisfied: PyYAML>=5.1 in /usr/local/lib/python3.10/dist-packages (from pyngrok) (6.0.1)\n",
            "Requirement already satisfied: MarkupSafe>=2.0 in /usr/local/lib/python3.10/dist-packages (from Jinja2>=3.0->flask) (2.1.5)\n",
            "Installing collected packages: pyngrok, flask-cors\n",
            "Successfully installed flask-cors-4.0.1 pyngrok-7.1.6\n"
          ]
        }
      ],
      "source": [
        "!pip install flask flask-cors pyngrok"
      ]
    },
    {
      "cell_type": "code",
      "execution_count": null,
      "metadata": {
        "colab": {
          "background_save": true,
          "base_uri": "https://localhost:8080/"
        },
        "id": "-vRFoJaNt8ul",
        "outputId": "661266be-1855-45bb-f647-979f4865b1aa"
      },
      "outputs": [
        {
          "output_type": "stream",
          "name": "stdout",
          "text": [
            "Model: \"sequential_1\"\n",
            "_________________________________________________________________\n",
            " Layer (type)                Output Shape              Param #   \n",
            "=================================================================\n",
            " resnet50 (Functional)       (None, 7, 7, 2048)        23587712  \n",
            "                                                                 \n",
            " global_max_pooling2d_1 (Gl  (None, 2048)              0         \n",
            " obalMaxPooling2D)                                               \n",
            "                                                                 \n",
            " dense_2 (Dense)             (None, 512)               1049088   \n",
            "                                                                 \n",
            " dropout_1 (Dropout)         (None, 512)               0         \n",
            "                                                                 \n",
            "=================================================================\n",
            "Total params: 24636800 (93.98 MB)\n",
            "Trainable params: 5514752 (21.04 MB)\n",
            "Non-trainable params: 19122048 (72.94 MB)\n",
            "_________________________________________________________________\n"
          ]
        },
        {
          "output_type": "stream",
          "name": "stderr",
          "text": [
            "\r  0%|          | 0/1389 [00:00<?, ?it/s]"
          ]
        },
        {
          "output_type": "stream",
          "name": "stdout",
          "text": [
            "1/1 [==============================] - 2s 2s/step\n"
          ]
        },
        {
          "output_type": "stream",
          "name": "stderr",
          "text": [
            "\r  0%|          | 1/1389 [01:13<28:19:22, 73.46s/it]"
          ]
        },
        {
          "output_type": "stream",
          "name": "stdout",
          "text": [
            "1/1 [==============================] - 1s 541ms/step\n"
          ]
        },
        {
          "output_type": "stream",
          "name": "stderr",
          "text": [
            "\r  0%|          | 2/1389 [01:24<14:06:58, 36.64s/it]"
          ]
        },
        {
          "output_type": "stream",
          "name": "stdout",
          "text": [
            "1/1 [==============================] - 1s 556ms/step\n"
          ]
        },
        {
          "output_type": "stream",
          "name": "stderr",
          "text": [
            "\r  0%|          | 3/1389 [01:34<9:23:23, 24.39s/it] "
          ]
        },
        {
          "output_type": "stream",
          "name": "stdout",
          "text": [
            "1/1 [==============================] - 1s 559ms/step\n"
          ]
        },
        {
          "output_type": "stream",
          "name": "stderr",
          "text": [
            "\r  0%|          | 4/1389 [01:44<7:14:47, 18.84s/it]"
          ]
        },
        {
          "output_type": "stream",
          "name": "stdout",
          "text": [
            "1/1 [==============================] - 1s 535ms/step\n"
          ]
        },
        {
          "output_type": "stream",
          "name": "stderr",
          "text": [
            "\r  0%|          | 5/1389 [01:54<5:58:31, 15.54s/it]"
          ]
        },
        {
          "output_type": "stream",
          "name": "stdout",
          "text": [
            "1/1 [==============================] - 1s 542ms/step\n"
          ]
        },
        {
          "output_type": "stream",
          "name": "stderr",
          "text": [
            "\r  0%|          | 6/1389 [02:03<5:12:26, 13.56s/it]"
          ]
        },
        {
          "output_type": "stream",
          "name": "stdout",
          "text": [
            "1/1 [==============================] - 1s 531ms/step\n"
          ]
        },
        {
          "output_type": "stream",
          "name": "stderr",
          "text": [
            "\r  1%|          | 7/1389 [02:14<4:47:39, 12.49s/it]"
          ]
        },
        {
          "output_type": "stream",
          "name": "stdout",
          "text": [
            "1/1 [==============================] - 1s 528ms/step\n"
          ]
        },
        {
          "output_type": "stream",
          "name": "stderr",
          "text": [
            "\r  1%|          | 8/1389 [02:23<4:27:09, 11.61s/it]"
          ]
        },
        {
          "output_type": "stream",
          "name": "stdout",
          "text": [
            "1/1 [==============================] - 1s 547ms/step\n"
          ]
        },
        {
          "output_type": "stream",
          "name": "stderr",
          "text": [
            "\r  1%|          | 9/1389 [02:33<4:15:33, 11.11s/it]"
          ]
        },
        {
          "output_type": "stream",
          "name": "stdout",
          "text": [
            "1/1 [==============================] - 1s 532ms/step\n"
          ]
        },
        {
          "output_type": "stream",
          "name": "stderr",
          "text": [
            "\r  1%|          | 10/1389 [02:43<4:05:07, 10.67s/it]"
          ]
        },
        {
          "output_type": "stream",
          "name": "stdout",
          "text": [
            "1/1 [==============================] - 1s 545ms/step\n"
          ]
        },
        {
          "output_type": "stream",
          "name": "stderr",
          "text": [
            "\r  1%|          | 11/1389 [02:52<3:54:11, 10.20s/it]"
          ]
        },
        {
          "output_type": "stream",
          "name": "stdout",
          "text": [
            "1/1 [==============================] - 1s 550ms/step\n"
          ]
        },
        {
          "output_type": "stream",
          "name": "stderr",
          "text": [
            "\r  1%|          | 12/1389 [03:02<3:50:28, 10.04s/it]"
          ]
        },
        {
          "output_type": "stream",
          "name": "stdout",
          "text": [
            "1/1 [==============================] - 1s 568ms/step\n"
          ]
        },
        {
          "output_type": "stream",
          "name": "stderr",
          "text": [
            "\r  1%|          | 13/1389 [03:12<3:50:32, 10.05s/it]"
          ]
        },
        {
          "output_type": "stream",
          "name": "stdout",
          "text": [
            "1/1 [==============================] - 1s 557ms/step\n"
          ]
        },
        {
          "output_type": "stream",
          "name": "stderr",
          "text": [
            "\r  1%|          | 14/1389 [03:22<3:50:00, 10.04s/it]"
          ]
        },
        {
          "output_type": "stream",
          "name": "stdout",
          "text": [
            "1/1 [==============================] - 1s 550ms/step\n"
          ]
        },
        {
          "output_type": "stream",
          "name": "stderr",
          "text": [
            "\r  1%|          | 15/1389 [03:31<3:44:30,  9.80s/it]"
          ]
        },
        {
          "output_type": "stream",
          "name": "stdout",
          "text": [
            "1/1 [==============================] - 1s 546ms/step\n"
          ]
        },
        {
          "output_type": "stream",
          "name": "stderr",
          "text": [
            "\r  1%|          | 16/1389 [03:41<3:41:52,  9.70s/it]"
          ]
        },
        {
          "output_type": "stream",
          "name": "stdout",
          "text": [
            "1/1 [==============================] - 1s 538ms/step\n"
          ]
        },
        {
          "output_type": "stream",
          "name": "stderr",
          "text": [
            "\r  1%|          | 17/1389 [03:50<3:39:35,  9.60s/it]"
          ]
        },
        {
          "output_type": "stream",
          "name": "stdout",
          "text": [
            "1/1 [==============================] - 1s 524ms/step\n"
          ]
        },
        {
          "output_type": "stream",
          "name": "stderr",
          "text": [
            "\r  1%|▏         | 18/1389 [03:59<3:37:00,  9.50s/it]"
          ]
        },
        {
          "output_type": "stream",
          "name": "stdout",
          "text": [
            "1/1 [==============================] - 1s 582ms/step\n"
          ]
        },
        {
          "output_type": "stream",
          "name": "stderr",
          "text": [
            "\r  1%|▏         | 19/1389 [04:09<3:40:17,  9.65s/it]"
          ]
        },
        {
          "output_type": "stream",
          "name": "stdout",
          "text": [
            "1/1 [==============================] - 1s 535ms/step\n"
          ]
        },
        {
          "output_type": "stream",
          "name": "stderr",
          "text": [
            "\r  1%|▏         | 20/1389 [04:19<3:38:09,  9.56s/it]"
          ]
        },
        {
          "output_type": "stream",
          "name": "stdout",
          "text": [
            "1/1 [==============================] - 1s 523ms/step\n"
          ]
        },
        {
          "output_type": "stream",
          "name": "stderr",
          "text": [
            "\r  2%|▏         | 21/1389 [04:28<3:38:09,  9.57s/it]"
          ]
        },
        {
          "output_type": "stream",
          "name": "stdout",
          "text": [
            "1/1 [==============================] - 1s 552ms/step\n"
          ]
        },
        {
          "output_type": "stream",
          "name": "stderr",
          "text": [
            "\r  2%|▏         | 22/1389 [04:37<3:34:09,  9.40s/it]"
          ]
        },
        {
          "output_type": "stream",
          "name": "stdout",
          "text": [
            "1/1 [==============================] - 1s 546ms/step\n"
          ]
        },
        {
          "output_type": "stream",
          "name": "stderr",
          "text": [
            "\r  2%|▏         | 23/1389 [04:46<3:29:51,  9.22s/it]"
          ]
        },
        {
          "output_type": "stream",
          "name": "stdout",
          "text": [
            "1/1 [==============================] - 1s 576ms/step\n"
          ]
        },
        {
          "output_type": "stream",
          "name": "stderr",
          "text": [
            "\r  2%|▏         | 24/1389 [04:56<3:35:41,  9.48s/it]"
          ]
        },
        {
          "output_type": "stream",
          "name": "stdout",
          "text": [
            "1/1 [==============================] - 1s 580ms/step\n"
          ]
        },
        {
          "output_type": "stream",
          "name": "stderr",
          "text": [
            "\r  2%|▏         | 25/1389 [05:06<3:36:35,  9.53s/it]"
          ]
        },
        {
          "output_type": "stream",
          "name": "stdout",
          "text": [
            "1/1 [==============================] - 1s 537ms/step\n"
          ]
        },
        {
          "output_type": "stream",
          "name": "stderr",
          "text": [
            "\r  2%|▏         | 26/1389 [05:15<3:37:27,  9.57s/it]"
          ]
        },
        {
          "output_type": "stream",
          "name": "stdout",
          "text": [
            "1/1 [==============================] - 1s 541ms/step\n"
          ]
        },
        {
          "output_type": "stream",
          "name": "stderr",
          "text": [
            "\r  2%|▏         | 27/1389 [05:24<3:32:32,  9.36s/it]"
          ]
        },
        {
          "output_type": "stream",
          "name": "stdout",
          "text": [
            "1/1 [==============================] - 1s 534ms/step\n"
          ]
        },
        {
          "output_type": "stream",
          "name": "stderr",
          "text": [
            "\r  2%|▏         | 28/1389 [05:34<3:34:41,  9.46s/it]"
          ]
        },
        {
          "output_type": "stream",
          "name": "stdout",
          "text": [
            "1/1 [==============================] - 1s 557ms/step\n"
          ]
        },
        {
          "output_type": "stream",
          "name": "stderr",
          "text": [
            "\r  2%|▏         | 29/1389 [05:44<3:36:29,  9.55s/it]"
          ]
        },
        {
          "output_type": "stream",
          "name": "stdout",
          "text": [
            "1/1 [==============================] - 1s 564ms/step\n"
          ]
        },
        {
          "output_type": "stream",
          "name": "stderr",
          "text": [
            "\r  2%|▏         | 30/1389 [05:53<3:32:31,  9.38s/it]"
          ]
        },
        {
          "output_type": "stream",
          "name": "stdout",
          "text": [
            "1/1 [==============================] - 1s 567ms/step\n"
          ]
        },
        {
          "output_type": "stream",
          "name": "stderr",
          "text": [
            "\r  2%|▏         | 31/1389 [06:02<3:30:54,  9.32s/it]"
          ]
        },
        {
          "output_type": "stream",
          "name": "stdout",
          "text": [
            "1/1 [==============================] - 1s 551ms/step\n"
          ]
        },
        {
          "output_type": "stream",
          "name": "stderr",
          "text": [
            "\r  2%|▏         | 32/1389 [06:11<3:29:32,  9.26s/it]"
          ]
        },
        {
          "output_type": "stream",
          "name": "stdout",
          "text": [
            "1/1 [==============================] - 1s 576ms/step\n"
          ]
        },
        {
          "output_type": "stream",
          "name": "stderr",
          "text": [
            "\r  2%|▏         | 33/1389 [06:21<3:35:25,  9.53s/it]"
          ]
        },
        {
          "output_type": "stream",
          "name": "stdout",
          "text": [
            "1/1 [==============================] - 1s 559ms/step\n"
          ]
        },
        {
          "output_type": "stream",
          "name": "stderr",
          "text": [
            "\r  2%|▏         | 34/1389 [06:31<3:34:26,  9.50s/it]"
          ]
        },
        {
          "output_type": "stream",
          "name": "stdout",
          "text": [
            "1/1 [==============================] - 1s 602ms/step\n"
          ]
        },
        {
          "output_type": "stream",
          "name": "stderr",
          "text": [
            "\r  3%|▎         | 35/1389 [06:40<3:35:49,  9.56s/it]"
          ]
        },
        {
          "output_type": "stream",
          "name": "stdout",
          "text": [
            "1/1 [==============================] - 1s 562ms/step\n"
          ]
        },
        {
          "output_type": "stream",
          "name": "stderr",
          "text": [
            "\r  3%|▎         | 36/1389 [06:50<3:33:32,  9.47s/it]"
          ]
        },
        {
          "output_type": "stream",
          "name": "stdout",
          "text": [
            "1/1 [==============================] - 1s 592ms/step\n"
          ]
        },
        {
          "output_type": "stream",
          "name": "stderr",
          "text": [
            "\r  3%|▎         | 37/1389 [06:59<3:30:55,  9.36s/it]"
          ]
        },
        {
          "output_type": "stream",
          "name": "stdout",
          "text": [
            "1/1 [==============================] - 1s 540ms/step\n"
          ]
        },
        {
          "output_type": "stream",
          "name": "stderr",
          "text": [
            "\r  3%|▎         | 38/1389 [07:08<3:31:08,  9.38s/it]"
          ]
        },
        {
          "output_type": "stream",
          "name": "stdout",
          "text": [
            "1/1 [==============================] - 1s 537ms/step\n"
          ]
        },
        {
          "output_type": "stream",
          "name": "stderr",
          "text": [
            "\r  3%|▎         | 39/1389 [07:18<3:31:20,  9.39s/it]"
          ]
        },
        {
          "output_type": "stream",
          "name": "stdout",
          "text": [
            "1/1 [==============================] - 1s 536ms/step\n"
          ]
        },
        {
          "output_type": "stream",
          "name": "stderr",
          "text": [
            "\r  3%|▎         | 40/1389 [07:28<3:36:34,  9.63s/it]"
          ]
        },
        {
          "output_type": "stream",
          "name": "stdout",
          "text": [
            "1/1 [==============================] - 1s 543ms/step\n"
          ]
        },
        {
          "output_type": "stream",
          "name": "stderr",
          "text": [
            "\r  3%|▎         | 41/1389 [07:37<3:36:51,  9.65s/it]"
          ]
        },
        {
          "output_type": "stream",
          "name": "stdout",
          "text": [
            "1/1 [==============================] - 1s 540ms/step\n"
          ]
        },
        {
          "output_type": "stream",
          "name": "stderr",
          "text": [
            "\r  3%|▎         | 42/1389 [07:47<3:34:22,  9.55s/it]"
          ]
        },
        {
          "output_type": "stream",
          "name": "stdout",
          "text": [
            "1/1 [==============================] - 1s 564ms/step\n"
          ]
        },
        {
          "output_type": "stream",
          "name": "stderr",
          "text": [
            "\r  3%|▎         | 43/1389 [07:56<3:31:36,  9.43s/it]"
          ]
        },
        {
          "output_type": "stream",
          "name": "stdout",
          "text": [
            "1/1 [==============================] - 1s 536ms/step\n"
          ]
        },
        {
          "output_type": "stream",
          "name": "stderr",
          "text": [
            "\r  3%|▎         | 44/1389 [08:06<3:34:16,  9.56s/it]"
          ]
        },
        {
          "output_type": "stream",
          "name": "stdout",
          "text": [
            "1/1 [==============================] - 1s 556ms/step\n"
          ]
        },
        {
          "output_type": "stream",
          "name": "stderr",
          "text": [
            "\r  3%|▎         | 45/1389 [08:15<3:33:28,  9.53s/it]"
          ]
        },
        {
          "output_type": "stream",
          "name": "stdout",
          "text": [
            "1/1 [==============================] - 1s 535ms/step\n"
          ]
        },
        {
          "output_type": "stream",
          "name": "stderr",
          "text": [
            "\r  3%|▎         | 46/1389 [08:24<3:30:20,  9.40s/it]"
          ]
        },
        {
          "output_type": "stream",
          "name": "stdout",
          "text": [
            "1/1 [==============================] - 1s 541ms/step\n"
          ]
        },
        {
          "output_type": "stream",
          "name": "stderr",
          "text": [
            "\r  3%|▎         | 47/1389 [08:34<3:30:37,  9.42s/it]"
          ]
        },
        {
          "output_type": "stream",
          "name": "stdout",
          "text": [
            "1/1 [==============================] - 1s 535ms/step\n"
          ]
        },
        {
          "output_type": "stream",
          "name": "stderr",
          "text": [
            "\r  3%|▎         | 48/1389 [08:44<3:35:10,  9.63s/it]"
          ]
        },
        {
          "output_type": "stream",
          "name": "stdout",
          "text": [
            "1/1 [==============================] - 1s 570ms/step\n"
          ]
        },
        {
          "output_type": "stream",
          "name": "stderr",
          "text": [
            "\r  4%|▎         | 49/1389 [08:53<3:32:52,  9.53s/it]"
          ]
        },
        {
          "output_type": "stream",
          "name": "stdout",
          "text": [
            "1/1 [==============================] - 1s 546ms/step\n"
          ]
        },
        {
          "output_type": "stream",
          "name": "stderr",
          "text": [
            "\r  4%|▎         | 50/1389 [09:04<3:39:01,  9.81s/it]"
          ]
        },
        {
          "output_type": "stream",
          "name": "stdout",
          "text": [
            "1/1 [==============================] - 1s 523ms/step\n"
          ]
        },
        {
          "output_type": "stream",
          "name": "stderr",
          "text": [
            "\r  4%|▎         | 51/1389 [09:13<3:35:01,  9.64s/it]"
          ]
        },
        {
          "output_type": "stream",
          "name": "stdout",
          "text": [
            "1/1 [==============================] - 1s 543ms/step\n"
          ]
        },
        {
          "output_type": "stream",
          "name": "stderr",
          "text": [
            "\r  4%|▎         | 52/1389 [09:23<3:35:41,  9.68s/it]"
          ]
        },
        {
          "output_type": "stream",
          "name": "stdout",
          "text": [
            "1/1 [==============================] - 1s 549ms/step\n"
          ]
        },
        {
          "output_type": "stream",
          "name": "stderr",
          "text": [
            "\r  4%|▍         | 53/1389 [09:32<3:34:18,  9.62s/it]"
          ]
        },
        {
          "output_type": "stream",
          "name": "stdout",
          "text": [
            "1/1 [==============================] - 1s 568ms/step\n"
          ]
        },
        {
          "output_type": "stream",
          "name": "stderr",
          "text": [
            "\r  4%|▍         | 54/1389 [09:42<3:35:59,  9.71s/it]"
          ]
        },
        {
          "output_type": "stream",
          "name": "stdout",
          "text": [
            "1/1 [==============================] - 1s 575ms/step\n"
          ]
        },
        {
          "output_type": "stream",
          "name": "stderr",
          "text": [
            "\r  4%|▍         | 55/1389 [09:51<3:31:53,  9.53s/it]"
          ]
        },
        {
          "output_type": "stream",
          "name": "stdout",
          "text": [
            "1/1 [==============================] - 1s 515ms/step\n"
          ]
        },
        {
          "output_type": "stream",
          "name": "stderr",
          "text": [
            "\r  4%|▍         | 56/1389 [10:04<3:55:55, 10.62s/it]"
          ]
        },
        {
          "output_type": "stream",
          "name": "stdout",
          "text": [
            "1/1 [==============================] - 1s 531ms/step\n"
          ]
        },
        {
          "output_type": "stream",
          "name": "stderr",
          "text": [
            "\r  4%|▍         | 57/1389 [10:15<3:52:24, 10.47s/it]"
          ]
        },
        {
          "output_type": "stream",
          "name": "stdout",
          "text": [
            "1/1 [==============================] - 1s 531ms/step\n"
          ]
        },
        {
          "output_type": "stream",
          "name": "stderr",
          "text": [
            "\r  4%|▍         | 58/1389 [10:23<3:40:05,  9.92s/it]"
          ]
        },
        {
          "output_type": "stream",
          "name": "stdout",
          "text": [
            "1/1 [==============================] - 1s 541ms/step\n"
          ]
        },
        {
          "output_type": "stream",
          "name": "stderr",
          "text": [
            "\r  4%|▍         | 59/1389 [10:32<3:36:04,  9.75s/it]"
          ]
        },
        {
          "output_type": "stream",
          "name": "stdout",
          "text": [
            "1/1 [==============================] - 1s 528ms/step\n"
          ]
        },
        {
          "output_type": "stream",
          "name": "stderr",
          "text": [
            "\r  4%|▍         | 60/1389 [10:42<3:37:18,  9.81s/it]"
          ]
        },
        {
          "output_type": "stream",
          "name": "stdout",
          "text": [
            "1/1 [==============================] - 1s 554ms/step\n"
          ]
        },
        {
          "output_type": "stream",
          "name": "stderr",
          "text": [
            "\r  4%|▍         | 61/1389 [10:52<3:37:30,  9.83s/it]"
          ]
        },
        {
          "output_type": "stream",
          "name": "stdout",
          "text": [
            "1/1 [==============================] - 1s 563ms/step\n"
          ]
        },
        {
          "output_type": "stream",
          "name": "stderr",
          "text": [
            "\r  4%|▍         | 62/1389 [11:02<3:38:04,  9.86s/it]"
          ]
        },
        {
          "output_type": "stream",
          "name": "stdout",
          "text": [
            "1/1 [==============================] - 1s 553ms/step\n"
          ]
        },
        {
          "output_type": "stream",
          "name": "stderr",
          "text": [
            "\r  5%|▍         | 63/1389 [11:12<3:36:25,  9.79s/it]"
          ]
        },
        {
          "output_type": "stream",
          "name": "stdout",
          "text": [
            "1/1 [==============================] - 1s 563ms/step\n"
          ]
        },
        {
          "output_type": "stream",
          "name": "stderr",
          "text": [
            "\r  5%|▍         | 64/1389 [11:22<3:36:19,  9.80s/it]"
          ]
        },
        {
          "output_type": "stream",
          "name": "stdout",
          "text": [
            "1/1 [==============================] - 1s 551ms/step\n"
          ]
        },
        {
          "output_type": "stream",
          "name": "stderr",
          "text": [
            "\r  5%|▍         | 65/1389 [11:32<3:36:38,  9.82s/it]"
          ]
        },
        {
          "output_type": "stream",
          "name": "stdout",
          "text": [
            "1/1 [==============================] - 1s 537ms/step\n"
          ]
        },
        {
          "output_type": "stream",
          "name": "stderr",
          "text": [
            "\r  5%|▍         | 66/1389 [11:42<3:37:50,  9.88s/it]"
          ]
        },
        {
          "output_type": "stream",
          "name": "stdout",
          "text": [
            "1/1 [==============================] - 1s 545ms/step\n"
          ]
        },
        {
          "output_type": "stream",
          "name": "stderr",
          "text": [
            "\r  5%|▍         | 67/1389 [11:51<3:35:32,  9.78s/it]"
          ]
        },
        {
          "output_type": "stream",
          "name": "stdout",
          "text": [
            "1/1 [==============================] - 1s 536ms/step\n"
          ]
        },
        {
          "output_type": "stream",
          "name": "stderr",
          "text": [
            "\r  5%|▍         | 68/1389 [12:01<3:38:17,  9.91s/it]"
          ]
        },
        {
          "output_type": "stream",
          "name": "stdout",
          "text": [
            "1/1 [==============================] - 1s 529ms/step\n"
          ]
        },
        {
          "output_type": "stream",
          "name": "stderr",
          "text": [
            "\r  5%|▍         | 69/1389 [12:11<3:34:24,  9.75s/it]"
          ]
        },
        {
          "output_type": "stream",
          "name": "stdout",
          "text": [
            "1/1 [==============================] - 1s 590ms/step\n"
          ]
        },
        {
          "output_type": "stream",
          "name": "stderr",
          "text": [
            "\r  5%|▌         | 70/1389 [12:21<3:37:54,  9.91s/it]"
          ]
        },
        {
          "output_type": "stream",
          "name": "stdout",
          "text": [
            "1/1 [==============================] - 1s 565ms/step\n"
          ]
        },
        {
          "output_type": "stream",
          "name": "stderr",
          "text": [
            "\r  5%|▌         | 71/1389 [12:30<3:33:37,  9.72s/it]"
          ]
        },
        {
          "output_type": "stream",
          "name": "stdout",
          "text": [
            "1/1 [==============================] - 1s 563ms/step\n"
          ]
        },
        {
          "output_type": "stream",
          "name": "stderr",
          "text": [
            "\r  5%|▌         | 72/1389 [12:40<3:33:39,  9.73s/it]"
          ]
        },
        {
          "output_type": "stream",
          "name": "stdout",
          "text": [
            "1/1 [==============================] - 1s 588ms/step\n"
          ]
        },
        {
          "output_type": "stream",
          "name": "stderr",
          "text": [
            "\r  5%|▌         | 73/1389 [12:49<3:30:35,  9.60s/it]"
          ]
        },
        {
          "output_type": "stream",
          "name": "stdout",
          "text": [
            "1/1 [==============================] - 1s 567ms/step\n"
          ]
        },
        {
          "output_type": "stream",
          "name": "stderr",
          "text": [
            "\r  5%|▌         | 74/1389 [13:00<3:35:09,  9.82s/it]"
          ]
        },
        {
          "output_type": "stream",
          "name": "stdout",
          "text": [
            "1/1 [==============================] - 1s 572ms/step\n"
          ]
        },
        {
          "output_type": "stream",
          "name": "stderr",
          "text": [
            "\r  5%|▌         | 75/1389 [13:09<3:32:17,  9.69s/it]"
          ]
        },
        {
          "output_type": "stream",
          "name": "stdout",
          "text": [
            "1/1 [==============================] - 1s 538ms/step\n"
          ]
        },
        {
          "output_type": "stream",
          "name": "stderr",
          "text": [
            "\r  5%|▌         | 76/1389 [13:19<3:36:36,  9.90s/it]"
          ]
        },
        {
          "output_type": "stream",
          "name": "stdout",
          "text": [
            "1/1 [==============================] - 1s 545ms/step\n"
          ]
        },
        {
          "output_type": "stream",
          "name": "stderr",
          "text": [
            "\r  6%|▌         | 77/1389 [13:30<3:38:01,  9.97s/it]"
          ]
        },
        {
          "output_type": "stream",
          "name": "stdout",
          "text": [
            "1/1 [==============================] - 1s 539ms/step\n"
          ]
        },
        {
          "output_type": "stream",
          "name": "stderr",
          "text": [
            "\r  6%|▌         | 78/1389 [13:40<3:43:22, 10.22s/it]"
          ]
        },
        {
          "output_type": "stream",
          "name": "stdout",
          "text": [
            "1/1 [==============================] - 1s 558ms/step\n"
          ]
        },
        {
          "output_type": "stream",
          "name": "stderr",
          "text": [
            "\r  6%|▌         | 79/1389 [13:51<3:46:27, 10.37s/it]"
          ]
        },
        {
          "output_type": "stream",
          "name": "stdout",
          "text": [
            "1/1 [==============================] - 1s 563ms/step\n"
          ]
        },
        {
          "output_type": "stream",
          "name": "stderr",
          "text": [
            "\r  6%|▌         | 80/1389 [14:01<3:44:21, 10.28s/it]"
          ]
        },
        {
          "output_type": "stream",
          "name": "stdout",
          "text": [
            "1/1 [==============================] - 1s 554ms/step\n"
          ]
        },
        {
          "output_type": "stream",
          "name": "stderr",
          "text": [
            "\r  6%|▌         | 81/1389 [14:12<3:45:55, 10.36s/it]"
          ]
        },
        {
          "output_type": "stream",
          "name": "stdout",
          "text": [
            "1/1 [==============================] - 1s 562ms/step\n"
          ]
        },
        {
          "output_type": "stream",
          "name": "stderr",
          "text": [
            "\r  6%|▌         | 82/1389 [14:21<3:39:38, 10.08s/it]"
          ]
        },
        {
          "output_type": "stream",
          "name": "stdout",
          "text": [
            "1/1 [==============================] - 1s 558ms/step\n"
          ]
        },
        {
          "output_type": "stream",
          "name": "stderr",
          "text": [
            "\r  6%|▌         | 83/1389 [14:31<3:34:57,  9.88s/it]"
          ]
        },
        {
          "output_type": "stream",
          "name": "stdout",
          "text": [
            "1/1 [==============================] - 1s 562ms/step\n"
          ]
        },
        {
          "output_type": "stream",
          "name": "stderr",
          "text": [
            "\r  6%|▌         | 84/1389 [14:40<3:31:05,  9.71s/it]"
          ]
        },
        {
          "output_type": "stream",
          "name": "stdout",
          "text": [
            "1/1 [==============================] - 1s 589ms/step\n"
          ]
        },
        {
          "output_type": "stream",
          "name": "stderr",
          "text": [
            "\r  6%|▌         | 85/1389 [14:50<3:33:05,  9.80s/it]"
          ]
        },
        {
          "output_type": "stream",
          "name": "stdout",
          "text": [
            "1/1 [==============================] - 1s 543ms/step\n"
          ]
        },
        {
          "output_type": "stream",
          "name": "stderr",
          "text": [
            "\r  6%|▌         | 86/1389 [15:00<3:33:09,  9.82s/it]"
          ]
        },
        {
          "output_type": "stream",
          "name": "stdout",
          "text": [
            "1/1 [==============================] - 1s 543ms/step\n"
          ]
        },
        {
          "output_type": "stream",
          "name": "stderr",
          "text": [
            "\r  6%|▋         | 87/1389 [15:10<3:33:06,  9.82s/it]"
          ]
        },
        {
          "output_type": "stream",
          "name": "stdout",
          "text": [
            "1/1 [==============================] - 1s 542ms/step\n"
          ]
        },
        {
          "output_type": "stream",
          "name": "stderr",
          "text": [
            "\r  6%|▋         | 88/1389 [15:19<3:31:11,  9.74s/it]"
          ]
        },
        {
          "output_type": "stream",
          "name": "stdout",
          "text": [
            "1/1 [==============================] - 1s 554ms/step\n"
          ]
        },
        {
          "output_type": "stream",
          "name": "stderr",
          "text": [
            "\r  6%|▋         | 89/1389 [15:29<3:33:19,  9.85s/it]"
          ]
        },
        {
          "output_type": "stream",
          "name": "stdout",
          "text": [
            "1/1 [==============================] - 1s 545ms/step\n"
          ]
        },
        {
          "output_type": "stream",
          "name": "stderr",
          "text": [
            "\r  6%|▋         | 90/1389 [15:39<3:34:00,  9.89s/it]"
          ]
        },
        {
          "output_type": "stream",
          "name": "stdout",
          "text": [
            "1/1 [==============================] - 1s 567ms/step\n"
          ]
        },
        {
          "output_type": "stream",
          "name": "stderr",
          "text": [
            "\r  7%|▋         | 91/1389 [15:50<3:37:15, 10.04s/it]"
          ]
        },
        {
          "output_type": "stream",
          "name": "stdout",
          "text": [
            "1/1 [==============================] - 1s 681ms/step\n"
          ]
        },
        {
          "output_type": "stream",
          "name": "stderr",
          "text": [
            "\r  7%|▋         | 92/1389 [15:59<3:35:54,  9.99s/it]"
          ]
        },
        {
          "output_type": "stream",
          "name": "stdout",
          "text": [
            "1/1 [==============================] - 1s 558ms/step\n"
          ]
        },
        {
          "output_type": "stream",
          "name": "stderr",
          "text": [
            "\r  7%|▋         | 93/1389 [16:10<3:36:56, 10.04s/it]"
          ]
        },
        {
          "output_type": "stream",
          "name": "stdout",
          "text": [
            "1/1 [==============================] - 1s 567ms/step\n"
          ]
        },
        {
          "output_type": "stream",
          "name": "stderr",
          "text": [
            "\r  7%|▋         | 94/1389 [16:20<3:38:09, 10.11s/it]"
          ]
        },
        {
          "output_type": "stream",
          "name": "stdout",
          "text": [
            "1/1 [==============================] - 1s 566ms/step\n"
          ]
        },
        {
          "output_type": "stream",
          "name": "stderr",
          "text": [
            "\r  7%|▋         | 95/1389 [16:29<3:34:22,  9.94s/it]"
          ]
        },
        {
          "output_type": "stream",
          "name": "stdout",
          "text": [
            "1/1 [==============================] - 1s 548ms/step\n"
          ]
        },
        {
          "output_type": "stream",
          "name": "stderr",
          "text": [
            "\r  7%|▋         | 96/1389 [16:39<3:32:47,  9.87s/it]"
          ]
        },
        {
          "output_type": "stream",
          "name": "stdout",
          "text": [
            "1/1 [==============================] - 1s 560ms/step\n"
          ]
        },
        {
          "output_type": "stream",
          "name": "stderr",
          "text": [
            "\r  7%|▋         | 97/1389 [16:49<3:30:53,  9.79s/it]"
          ]
        },
        {
          "output_type": "stream",
          "name": "stdout",
          "text": [
            "1/1 [==============================] - 1s 541ms/step\n"
          ]
        },
        {
          "output_type": "stream",
          "name": "stderr",
          "text": [
            "\r  7%|▋         | 98/1389 [16:59<3:31:01,  9.81s/it]"
          ]
        },
        {
          "output_type": "stream",
          "name": "stdout",
          "text": [
            "1/1 [==============================] - 1s 553ms/step\n"
          ]
        },
        {
          "output_type": "stream",
          "name": "stderr",
          "text": [
            "\r  7%|▋         | 99/1389 [17:09<3:33:54,  9.95s/it]"
          ]
        },
        {
          "output_type": "stream",
          "name": "stdout",
          "text": [
            "1/1 [==============================] - 1s 549ms/step\n"
          ]
        },
        {
          "output_type": "stream",
          "name": "stderr",
          "text": [
            "\r  7%|▋         | 100/1389 [17:19<3:32:45,  9.90s/it]"
          ]
        },
        {
          "output_type": "stream",
          "name": "stdout",
          "text": [
            "1/1 [==============================] - 1s 552ms/step\n"
          ]
        },
        {
          "output_type": "stream",
          "name": "stderr",
          "text": [
            "\r  7%|▋         | 101/1389 [17:29<3:33:05,  9.93s/it]"
          ]
        },
        {
          "output_type": "stream",
          "name": "stdout",
          "text": [
            "1/1 [==============================] - 1s 565ms/step\n"
          ]
        },
        {
          "output_type": "stream",
          "name": "stderr",
          "text": [
            "\r  7%|▋         | 102/1389 [17:39<3:33:12,  9.94s/it]"
          ]
        },
        {
          "output_type": "stream",
          "name": "stdout",
          "text": [
            "1/1 [==============================] - 1s 556ms/step\n"
          ]
        },
        {
          "output_type": "stream",
          "name": "stderr",
          "text": [
            "\r  7%|▋         | 103/1389 [17:48<3:32:18,  9.91s/it]"
          ]
        },
        {
          "output_type": "stream",
          "name": "stdout",
          "text": [
            "1/1 [==============================] - 1s 597ms/step\n"
          ]
        },
        {
          "output_type": "stream",
          "name": "stderr",
          "text": [
            "\r  7%|▋         | 104/1389 [17:58<3:31:12,  9.86s/it]"
          ]
        },
        {
          "output_type": "stream",
          "name": "stdout",
          "text": [
            "1/1 [==============================] - 1s 596ms/step\n"
          ]
        },
        {
          "output_type": "stream",
          "name": "stderr",
          "text": [
            "\r  8%|▊         | 105/1389 [18:08<3:30:42,  9.85s/it]"
          ]
        },
        {
          "output_type": "stream",
          "name": "stdout",
          "text": [
            "1/1 [==============================] - 1s 537ms/step\n"
          ]
        },
        {
          "output_type": "stream",
          "name": "stderr",
          "text": [
            "\r  8%|▊         | 106/1389 [18:18<3:32:00,  9.92s/it]"
          ]
        },
        {
          "output_type": "stream",
          "name": "stdout",
          "text": [
            "1/1 [==============================] - 1s 537ms/step\n"
          ]
        },
        {
          "output_type": "stream",
          "name": "stderr",
          "text": [
            "\r  8%|▊         | 107/1389 [18:28<3:34:40, 10.05s/it]"
          ]
        },
        {
          "output_type": "stream",
          "name": "stdout",
          "text": [
            "1/1 [==============================] - 1s 544ms/step\n"
          ]
        },
        {
          "output_type": "stream",
          "name": "stderr",
          "text": [
            "\r  8%|▊         | 108/1389 [18:37<3:27:36,  9.72s/it]"
          ]
        },
        {
          "output_type": "stream",
          "name": "stdout",
          "text": [
            "1/1 [==============================] - 1s 541ms/step\n"
          ]
        },
        {
          "output_type": "stream",
          "name": "stderr",
          "text": [
            "\r  8%|▊         | 109/1389 [18:47<3:25:48,  9.65s/it]"
          ]
        },
        {
          "output_type": "stream",
          "name": "stdout",
          "text": [
            "1/1 [==============================] - 1s 535ms/step\n"
          ]
        },
        {
          "output_type": "stream",
          "name": "stderr",
          "text": [
            "\r  8%|▊         | 110/1389 [18:57<3:25:59,  9.66s/it]"
          ]
        },
        {
          "output_type": "stream",
          "name": "stdout",
          "text": [
            "1/1 [==============================] - 1s 550ms/step\n"
          ]
        },
        {
          "output_type": "stream",
          "name": "stderr",
          "text": [
            "\r  8%|▊         | 111/1389 [19:06<3:23:20,  9.55s/it]"
          ]
        },
        {
          "output_type": "stream",
          "name": "stdout",
          "text": [
            "1/1 [==============================] - 1s 567ms/step\n"
          ]
        },
        {
          "output_type": "stream",
          "name": "stderr",
          "text": [
            "\r  8%|▊         | 112/1389 [19:15<3:23:24,  9.56s/it]"
          ]
        },
        {
          "output_type": "stream",
          "name": "stdout",
          "text": [
            "1/1 [==============================] - 1s 578ms/step\n"
          ]
        },
        {
          "output_type": "stream",
          "name": "stderr",
          "text": [
            "\r  8%|▊         | 113/1389 [19:25<3:23:53,  9.59s/it]"
          ]
        },
        {
          "output_type": "stream",
          "name": "stdout",
          "text": [
            "1/1 [==============================] - 1s 562ms/step\n"
          ]
        },
        {
          "output_type": "stream",
          "name": "stderr",
          "text": [
            "\r  8%|▊         | 114/1389 [19:35<3:24:43,  9.63s/it]"
          ]
        },
        {
          "output_type": "stream",
          "name": "stdout",
          "text": [
            "1/1 [==============================] - 1s 540ms/step\n"
          ]
        },
        {
          "output_type": "stream",
          "name": "stderr",
          "text": [
            "\r  8%|▊         | 115/1389 [19:45<3:24:57,  9.65s/it]"
          ]
        },
        {
          "output_type": "stream",
          "name": "stdout",
          "text": [
            "1/1 [==============================] - 1s 544ms/step\n"
          ]
        },
        {
          "output_type": "stream",
          "name": "stderr",
          "text": [
            "\r  8%|▊         | 116/1389 [19:54<3:20:16,  9.44s/it]"
          ]
        },
        {
          "output_type": "stream",
          "name": "stdout",
          "text": [
            "1/1 [==============================] - 1s 537ms/step\n"
          ]
        },
        {
          "output_type": "stream",
          "name": "stderr",
          "text": [
            "\r  8%|▊         | 117/1389 [20:04<3:25:46,  9.71s/it]"
          ]
        },
        {
          "output_type": "stream",
          "name": "stdout",
          "text": [
            "1/1 [==============================] - 1s 537ms/step\n"
          ]
        },
        {
          "output_type": "stream",
          "name": "stderr",
          "text": [
            "\r  8%|▊         | 118/1389 [20:14<3:27:32,  9.80s/it]"
          ]
        },
        {
          "output_type": "stream",
          "name": "stdout",
          "text": [
            "1/1 [==============================] - 1s 543ms/step\n"
          ]
        },
        {
          "output_type": "stream",
          "name": "stderr",
          "text": [
            "\r  9%|▊         | 119/1389 [20:24<3:31:52, 10.01s/it]"
          ]
        },
        {
          "output_type": "stream",
          "name": "stdout",
          "text": [
            "1/1 [==============================] - 1s 522ms/step\n"
          ]
        },
        {
          "output_type": "stream",
          "name": "stderr",
          "text": [
            "\r  9%|▊         | 120/1389 [20:34<3:29:04,  9.89s/it]"
          ]
        },
        {
          "output_type": "stream",
          "name": "stdout",
          "text": [
            "1/1 [==============================] - 1s 535ms/step\n"
          ]
        },
        {
          "output_type": "stream",
          "name": "stderr",
          "text": [
            "\r  9%|▊         | 121/1389 [20:43<3:25:20,  9.72s/it]"
          ]
        },
        {
          "output_type": "stream",
          "name": "stdout",
          "text": [
            "1/1 [==============================] - 1s 535ms/step\n"
          ]
        },
        {
          "output_type": "stream",
          "name": "stderr",
          "text": [
            "\r  9%|▉         | 122/1389 [20:53<3:27:51,  9.84s/it]"
          ]
        },
        {
          "output_type": "stream",
          "name": "stdout",
          "text": [
            "1/1 [==============================] - 1s 542ms/step\n"
          ]
        },
        {
          "output_type": "stream",
          "name": "stderr",
          "text": [
            "\r  9%|▉         | 123/1389 [21:02<3:21:07,  9.53s/it]"
          ]
        },
        {
          "output_type": "stream",
          "name": "stdout",
          "text": [
            "1/1 [==============================] - 1s 564ms/step\n"
          ]
        },
        {
          "output_type": "stream",
          "name": "stderr",
          "text": [
            "\r  9%|▉         | 124/1389 [21:12<3:23:06,  9.63s/it]"
          ]
        },
        {
          "output_type": "stream",
          "name": "stdout",
          "text": [
            "1/1 [==============================] - 1s 544ms/step\n"
          ]
        },
        {
          "output_type": "stream",
          "name": "stderr",
          "text": [
            "\r  9%|▉         | 125/1389 [21:21<3:18:08,  9.41s/it]"
          ]
        },
        {
          "output_type": "stream",
          "name": "stdout",
          "text": [
            "1/1 [==============================] - 1s 535ms/step\n"
          ]
        },
        {
          "output_type": "stream",
          "name": "stderr",
          "text": [
            "\r  9%|▉         | 126/1389 [21:31<3:22:19,  9.61s/it]"
          ]
        },
        {
          "output_type": "stream",
          "name": "stdout",
          "text": [
            "1/1 [==============================] - 1s 529ms/step\n"
          ]
        },
        {
          "output_type": "stream",
          "name": "stderr",
          "text": [
            "\r  9%|▉         | 127/1389 [21:40<3:20:57,  9.55s/it]"
          ]
        },
        {
          "output_type": "stream",
          "name": "stdout",
          "text": [
            "1/1 [==============================] - 1s 532ms/step\n"
          ]
        },
        {
          "output_type": "stream",
          "name": "stderr",
          "text": [
            "\r  9%|▉         | 128/1389 [21:50<3:21:48,  9.60s/it]"
          ]
        },
        {
          "output_type": "stream",
          "name": "stdout",
          "text": [
            "1/1 [==============================] - 1s 551ms/step\n"
          ]
        },
        {
          "output_type": "stream",
          "name": "stderr",
          "text": [
            "\r  9%|▉         | 129/1389 [22:00<3:23:59,  9.71s/it]"
          ]
        },
        {
          "output_type": "stream",
          "name": "stdout",
          "text": [
            "1/1 [==============================] - 1s 531ms/step\n"
          ]
        },
        {
          "output_type": "stream",
          "name": "stderr",
          "text": [
            "\r  9%|▉         | 130/1389 [22:10<3:22:00,  9.63s/it]"
          ]
        },
        {
          "output_type": "stream",
          "name": "stdout",
          "text": [
            "1/1 [==============================] - 1s 523ms/step\n"
          ]
        },
        {
          "output_type": "stream",
          "name": "stderr",
          "text": [
            "\r  9%|▉         | 131/1389 [22:19<3:23:13,  9.69s/it]"
          ]
        },
        {
          "output_type": "stream",
          "name": "stdout",
          "text": [
            "1/1 [==============================] - 1s 540ms/step\n"
          ]
        },
        {
          "output_type": "stream",
          "name": "stderr",
          "text": [
            "\r 10%|▉         | 132/1389 [22:29<3:21:31,  9.62s/it]"
          ]
        },
        {
          "output_type": "stream",
          "name": "stdout",
          "text": [
            "1/1 [==============================] - 1s 533ms/step\n"
          ]
        },
        {
          "output_type": "stream",
          "name": "stderr",
          "text": [
            "\r 10%|▉         | 133/1389 [22:39<3:25:01,  9.79s/it]"
          ]
        },
        {
          "output_type": "stream",
          "name": "stdout",
          "text": [
            "1/1 [==============================] - 1s 549ms/step\n"
          ]
        },
        {
          "output_type": "stream",
          "name": "stderr",
          "text": [
            "\r 10%|▉         | 134/1389 [22:48<3:19:52,  9.56s/it]"
          ]
        },
        {
          "output_type": "stream",
          "name": "stdout",
          "text": [
            "1/1 [==============================] - 1s 537ms/step\n"
          ]
        },
        {
          "output_type": "stream",
          "name": "stderr",
          "text": [
            "\r 10%|▉         | 135/1389 [22:58<3:19:53,  9.56s/it]"
          ]
        },
        {
          "output_type": "stream",
          "name": "stdout",
          "text": [
            "1/1 [==============================] - 1s 540ms/step\n"
          ]
        },
        {
          "output_type": "stream",
          "name": "stderr",
          "text": [
            "\r 10%|▉         | 136/1389 [23:07<3:18:08,  9.49s/it]"
          ]
        },
        {
          "output_type": "stream",
          "name": "stdout",
          "text": [
            "1/1 [==============================] - 1s 533ms/step\n"
          ]
        },
        {
          "output_type": "stream",
          "name": "stderr",
          "text": [
            "\r 10%|▉         | 137/1389 [23:16<3:14:57,  9.34s/it]"
          ]
        },
        {
          "output_type": "stream",
          "name": "stdout",
          "text": [
            "1/1 [==============================] - 1s 546ms/step\n"
          ]
        },
        {
          "output_type": "stream",
          "name": "stderr",
          "text": [
            "\r 10%|▉         | 138/1389 [23:26<3:18:18,  9.51s/it]"
          ]
        },
        {
          "output_type": "stream",
          "name": "stdout",
          "text": [
            "1/1 [==============================] - 1s 537ms/step\n"
          ]
        },
        {
          "output_type": "stream",
          "name": "stderr",
          "text": [
            "\r 10%|█         | 139/1389 [23:36<3:20:47,  9.64s/it]"
          ]
        },
        {
          "output_type": "stream",
          "name": "stdout",
          "text": [
            "1/1 [==============================] - 1s 544ms/step\n"
          ]
        },
        {
          "output_type": "stream",
          "name": "stderr",
          "text": [
            "\r 10%|█         | 140/1389 [23:46<3:23:51,  9.79s/it]"
          ]
        },
        {
          "output_type": "stream",
          "name": "stdout",
          "text": [
            "1/1 [==============================] - 1s 552ms/step\n"
          ]
        },
        {
          "output_type": "stream",
          "name": "stderr",
          "text": [
            "\r 10%|█         | 141/1389 [23:56<3:27:36,  9.98s/it]"
          ]
        },
        {
          "output_type": "stream",
          "name": "stdout",
          "text": [
            "1/1 [==============================] - 1s 549ms/step\n"
          ]
        },
        {
          "output_type": "stream",
          "name": "stderr",
          "text": [
            "\r 10%|█         | 142/1389 [24:06<3:22:33,  9.75s/it]"
          ]
        },
        {
          "output_type": "stream",
          "name": "stdout",
          "text": [
            "1/1 [==============================] - 1s 582ms/step\n"
          ]
        },
        {
          "output_type": "stream",
          "name": "stderr",
          "text": [
            "\r 10%|█         | 143/1389 [24:17<3:31:18, 10.18s/it]"
          ]
        },
        {
          "output_type": "stream",
          "name": "stdout",
          "text": [
            "1/1 [==============================] - 1s 546ms/step\n"
          ]
        },
        {
          "output_type": "stream",
          "name": "stderr",
          "text": [
            "\r 10%|█         | 144/1389 [24:27<3:34:34, 10.34s/it]"
          ]
        },
        {
          "output_type": "stream",
          "name": "stdout",
          "text": [
            "1/1 [==============================] - 1s 536ms/step\n"
          ]
        },
        {
          "output_type": "stream",
          "name": "stderr",
          "text": [
            "\r 10%|█         | 145/1389 [24:38<3:32:47, 10.26s/it]"
          ]
        },
        {
          "output_type": "stream",
          "name": "stdout",
          "text": [
            "1/1 [==============================] - 1s 530ms/step\n"
          ]
        },
        {
          "output_type": "stream",
          "name": "stderr",
          "text": [
            "\r 11%|█         | 146/1389 [24:47<3:26:43,  9.98s/it]"
          ]
        },
        {
          "output_type": "stream",
          "name": "stdout",
          "text": [
            "1/1 [==============================] - 1s 538ms/step\n"
          ]
        },
        {
          "output_type": "stream",
          "name": "stderr",
          "text": [
            "\r 11%|█         | 147/1389 [24:57<3:28:02, 10.05s/it]"
          ]
        },
        {
          "output_type": "stream",
          "name": "stdout",
          "text": [
            "1/1 [==============================] - 1s 541ms/step\n"
          ]
        },
        {
          "output_type": "stream",
          "name": "stderr",
          "text": [
            "\r 11%|█         | 148/1389 [25:07<3:23:54,  9.86s/it]"
          ]
        },
        {
          "output_type": "stream",
          "name": "stdout",
          "text": [
            "1/1 [==============================] - 1s 529ms/step\n"
          ]
        },
        {
          "output_type": "stream",
          "name": "stderr",
          "text": [
            "\r 11%|█         | 149/1389 [25:16<3:21:12,  9.74s/it]"
          ]
        },
        {
          "output_type": "stream",
          "name": "stdout",
          "text": [
            "1/1 [==============================] - 1s 538ms/step\n"
          ]
        },
        {
          "output_type": "stream",
          "name": "stderr",
          "text": [
            "\r 11%|█         | 150/1389 [25:26<3:22:46,  9.82s/it]"
          ]
        },
        {
          "output_type": "stream",
          "name": "stdout",
          "text": [
            "1/1 [==============================] - 1s 556ms/step\n"
          ]
        },
        {
          "output_type": "stream",
          "name": "stderr",
          "text": [
            "\r 11%|█         | 151/1389 [25:35<3:19:46,  9.68s/it]"
          ]
        },
        {
          "output_type": "stream",
          "name": "stdout",
          "text": [
            "1/1 [==============================] - 1s 562ms/step\n"
          ]
        },
        {
          "output_type": "stream",
          "name": "stderr",
          "text": [
            "\r 11%|█         | 152/1389 [25:45<3:19:51,  9.69s/it]"
          ]
        },
        {
          "output_type": "stream",
          "name": "stdout",
          "text": [
            "1/1 [==============================] - 1s 532ms/step\n"
          ]
        },
        {
          "output_type": "stream",
          "name": "stderr",
          "text": [
            "\r 11%|█         | 153/1389 [25:54<3:17:16,  9.58s/it]"
          ]
        },
        {
          "output_type": "stream",
          "name": "stdout",
          "text": [
            "1/1 [==============================] - 1s 531ms/step\n"
          ]
        },
        {
          "output_type": "stream",
          "name": "stderr",
          "text": [
            "\r 11%|█         | 154/1389 [26:04<3:18:03,  9.62s/it]"
          ]
        },
        {
          "output_type": "stream",
          "name": "stdout",
          "text": [
            "1/1 [==============================] - 1s 518ms/step\n"
          ]
        },
        {
          "output_type": "stream",
          "name": "stderr",
          "text": [
            "\r 11%|█         | 155/1389 [26:14<3:19:05,  9.68s/it]"
          ]
        },
        {
          "output_type": "stream",
          "name": "stdout",
          "text": [
            "1/1 [==============================] - 1s 539ms/step\n"
          ]
        },
        {
          "output_type": "stream",
          "name": "stderr",
          "text": [
            "\r 11%|█         | 156/1389 [26:23<3:17:20,  9.60s/it]"
          ]
        },
        {
          "output_type": "stream",
          "name": "stdout",
          "text": [
            "1/1 [==============================] - 1s 535ms/step\n"
          ]
        },
        {
          "output_type": "stream",
          "name": "stderr",
          "text": [
            "\r 11%|█▏        | 157/1389 [26:33<3:15:56,  9.54s/it]"
          ]
        },
        {
          "output_type": "stream",
          "name": "stdout",
          "text": [
            "1/1 [==============================] - 1s 531ms/step\n"
          ]
        },
        {
          "output_type": "stream",
          "name": "stderr",
          "text": [
            "\r 11%|█▏        | 158/1389 [26:42<3:13:54,  9.45s/it]"
          ]
        },
        {
          "output_type": "stream",
          "name": "stdout",
          "text": [
            "1/1 [==============================] - 1s 540ms/step\n"
          ]
        },
        {
          "output_type": "stream",
          "name": "stderr",
          "text": [
            "\r 11%|█▏        | 159/1389 [26:52<3:19:54,  9.75s/it]"
          ]
        },
        {
          "output_type": "stream",
          "name": "stdout",
          "text": [
            "1/1 [==============================] - 1s 543ms/step\n"
          ]
        },
        {
          "output_type": "stream",
          "name": "stderr",
          "text": [
            "\r 12%|█▏        | 160/1389 [27:02<3:16:58,  9.62s/it]"
          ]
        },
        {
          "output_type": "stream",
          "name": "stdout",
          "text": [
            "1/1 [==============================] - 1s 541ms/step\n"
          ]
        },
        {
          "output_type": "stream",
          "name": "stderr",
          "text": [
            "\r 12%|█▏        | 161/1389 [27:12<3:19:18,  9.74s/it]"
          ]
        },
        {
          "output_type": "stream",
          "name": "stdout",
          "text": [
            "1/1 [==============================] - 1s 534ms/step\n"
          ]
        },
        {
          "output_type": "stream",
          "name": "stderr",
          "text": [
            "\r 12%|█▏        | 162/1389 [27:22<3:19:50,  9.77s/it]"
          ]
        },
        {
          "output_type": "stream",
          "name": "stdout",
          "text": [
            "1/1 [==============================] - 1s 553ms/step\n"
          ]
        },
        {
          "output_type": "stream",
          "name": "stderr",
          "text": [
            "\r 12%|█▏        | 163/1389 [27:31<3:18:05,  9.69s/it]"
          ]
        },
        {
          "output_type": "stream",
          "name": "stdout",
          "text": [
            "1/1 [==============================] - 1s 557ms/step\n"
          ]
        },
        {
          "output_type": "stream",
          "name": "stderr",
          "text": [
            "\r 12%|█▏        | 164/1389 [27:41<3:16:09,  9.61s/it]"
          ]
        },
        {
          "output_type": "stream",
          "name": "stdout",
          "text": [
            "1/1 [==============================] - 1s 536ms/step\n"
          ]
        },
        {
          "output_type": "stream",
          "name": "stderr",
          "text": [
            "\r 12%|█▏        | 165/1389 [27:50<3:14:29,  9.53s/it]"
          ]
        },
        {
          "output_type": "stream",
          "name": "stdout",
          "text": [
            "1/1 [==============================] - 1s 530ms/step\n"
          ]
        },
        {
          "output_type": "stream",
          "name": "stderr",
          "text": [
            "\r 12%|█▏        | 166/1389 [27:59<3:14:23,  9.54s/it]"
          ]
        },
        {
          "output_type": "stream",
          "name": "stdout",
          "text": [
            "1/1 [==============================] - 1s 529ms/step\n"
          ]
        },
        {
          "output_type": "stream",
          "name": "stderr",
          "text": [
            "\r 12%|█▏        | 167/1389 [28:09<3:14:00,  9.53s/it]"
          ]
        },
        {
          "output_type": "stream",
          "name": "stdout",
          "text": [
            "1/1 [==============================] - 1s 539ms/step\n"
          ]
        },
        {
          "output_type": "stream",
          "name": "stderr",
          "text": [
            "\r 12%|█▏        | 168/1389 [28:18<3:11:17,  9.40s/it]"
          ]
        },
        {
          "output_type": "stream",
          "name": "stdout",
          "text": [
            "1/1 [==============================] - 1s 544ms/step\n"
          ]
        },
        {
          "output_type": "stream",
          "name": "stderr",
          "text": [
            "\r 12%|█▏        | 169/1389 [28:28<3:14:14,  9.55s/it]"
          ]
        },
        {
          "output_type": "stream",
          "name": "stdout",
          "text": [
            "1/1 [==============================] - 1s 540ms/step\n"
          ]
        },
        {
          "output_type": "stream",
          "name": "stderr",
          "text": [
            "\r 12%|█▏        | 170/1389 [28:38<3:15:43,  9.63s/it]"
          ]
        },
        {
          "output_type": "stream",
          "name": "stdout",
          "text": [
            "1/1 [==============================] - 1s 535ms/step\n"
          ]
        },
        {
          "output_type": "stream",
          "name": "stderr",
          "text": [
            "\r 12%|█▏        | 171/1389 [28:47<3:15:17,  9.62s/it]"
          ]
        },
        {
          "output_type": "stream",
          "name": "stdout",
          "text": [
            "1/1 [==============================] - 1s 534ms/step\n"
          ]
        },
        {
          "output_type": "stream",
          "name": "stderr",
          "text": [
            "\r 12%|█▏        | 172/1389 [28:57<3:16:15,  9.68s/it]"
          ]
        },
        {
          "output_type": "stream",
          "name": "stdout",
          "text": [
            "1/1 [==============================] - 1s 568ms/step\n"
          ]
        },
        {
          "output_type": "stream",
          "name": "stderr",
          "text": [
            "\r 12%|█▏        | 173/1389 [29:07<3:16:48,  9.71s/it]"
          ]
        },
        {
          "output_type": "stream",
          "name": "stdout",
          "text": [
            "1/1 [==============================] - 1s 554ms/step\n"
          ]
        },
        {
          "output_type": "stream",
          "name": "stderr",
          "text": [
            "\r 13%|█▎        | 174/1389 [29:17<3:17:21,  9.75s/it]"
          ]
        },
        {
          "output_type": "stream",
          "name": "stdout",
          "text": [
            "1/1 [==============================] - 1s 541ms/step\n"
          ]
        },
        {
          "output_type": "stream",
          "name": "stderr",
          "text": [
            "\r 13%|█▎        | 175/1389 [29:30<3:36:29, 10.70s/it]"
          ]
        },
        {
          "output_type": "stream",
          "name": "stdout",
          "text": [
            "1/1 [==============================] - 1s 530ms/step\n"
          ]
        },
        {
          "output_type": "stream",
          "name": "stderr",
          "text": [
            "\r 13%|█▎        | 176/1389 [29:40<3:30:58, 10.44s/it]"
          ]
        },
        {
          "output_type": "stream",
          "name": "stdout",
          "text": [
            "1/1 [==============================] - 1s 544ms/step\n"
          ]
        },
        {
          "output_type": "stream",
          "name": "stderr",
          "text": [
            "\r 13%|█▎        | 177/1389 [29:49<3:23:56, 10.10s/it]"
          ]
        },
        {
          "output_type": "stream",
          "name": "stdout",
          "text": [
            "1/1 [==============================] - 1s 537ms/step\n"
          ]
        },
        {
          "output_type": "stream",
          "name": "stderr",
          "text": [
            "\r 13%|█▎        | 178/1389 [29:58<3:21:08,  9.97s/it]"
          ]
        },
        {
          "output_type": "stream",
          "name": "stdout",
          "text": [
            "1/1 [==============================] - 1s 541ms/step\n"
          ]
        },
        {
          "output_type": "stream",
          "name": "stderr",
          "text": [
            "\r 13%|█▎        | 179/1389 [30:08<3:17:29,  9.79s/it]"
          ]
        },
        {
          "output_type": "stream",
          "name": "stdout",
          "text": [
            "1/1 [==============================] - 1s 533ms/step\n"
          ]
        },
        {
          "output_type": "stream",
          "name": "stderr",
          "text": [
            "\r 13%|█▎        | 180/1389 [30:17<3:15:11,  9.69s/it]"
          ]
        },
        {
          "output_type": "stream",
          "name": "stdout",
          "text": [
            "1/1 [==============================] - 1s 541ms/step\n"
          ]
        },
        {
          "output_type": "stream",
          "name": "stderr",
          "text": [
            "\r 13%|█▎        | 181/1389 [30:27<3:14:23,  9.66s/it]"
          ]
        },
        {
          "output_type": "stream",
          "name": "stdout",
          "text": [
            "1/1 [==============================] - 1s 567ms/step\n"
          ]
        },
        {
          "output_type": "stream",
          "name": "stderr",
          "text": [
            "\r 13%|█▎        | 182/1389 [30:36<3:12:46,  9.58s/it]"
          ]
        },
        {
          "output_type": "stream",
          "name": "stdout",
          "text": [
            "1/1 [==============================] - 1s 569ms/step\n"
          ]
        },
        {
          "output_type": "stream",
          "name": "stderr",
          "text": [
            "\r 13%|█▎        | 183/1389 [30:46<3:15:13,  9.71s/it]"
          ]
        },
        {
          "output_type": "stream",
          "name": "stdout",
          "text": [
            "1/1 [==============================] - 1s 539ms/step\n"
          ]
        },
        {
          "output_type": "stream",
          "name": "stderr",
          "text": [
            "\r 13%|█▎        | 184/1389 [30:56<3:12:30,  9.59s/it]"
          ]
        },
        {
          "output_type": "stream",
          "name": "stdout",
          "text": [
            "1/1 [==============================] - 1s 526ms/step\n"
          ]
        },
        {
          "output_type": "stream",
          "name": "stderr",
          "text": [
            "\r 13%|█▎        | 185/1389 [31:06<3:14:22,  9.69s/it]"
          ]
        },
        {
          "output_type": "stream",
          "name": "stdout",
          "text": [
            "1/1 [==============================] - 1s 531ms/step\n"
          ]
        },
        {
          "output_type": "stream",
          "name": "stderr",
          "text": [
            "\r 13%|█▎        | 186/1389 [31:15<3:13:40,  9.66s/it]"
          ]
        },
        {
          "output_type": "stream",
          "name": "stdout",
          "text": [
            "1/1 [==============================] - 1s 550ms/step\n"
          ]
        },
        {
          "output_type": "stream",
          "name": "stderr",
          "text": [
            "\r 13%|█▎        | 187/1389 [31:25<3:11:49,  9.57s/it]"
          ]
        },
        {
          "output_type": "stream",
          "name": "stdout",
          "text": [
            "1/1 [==============================] - 1s 542ms/step\n"
          ]
        },
        {
          "output_type": "stream",
          "name": "stderr",
          "text": [
            "\r 14%|█▎        | 188/1389 [31:34<3:09:24,  9.46s/it]"
          ]
        },
        {
          "output_type": "stream",
          "name": "stdout",
          "text": [
            "1/1 [==============================] - 1s 534ms/step\n"
          ]
        },
        {
          "output_type": "stream",
          "name": "stderr",
          "text": [
            "\r 14%|█▎        | 189/1389 [31:43<3:06:40,  9.33s/it]"
          ]
        },
        {
          "output_type": "stream",
          "name": "stdout",
          "text": [
            "1/1 [==============================] - 1s 547ms/step\n"
          ]
        },
        {
          "output_type": "stream",
          "name": "stderr",
          "text": [
            "\r 14%|█▎        | 190/1389 [31:51<3:02:49,  9.15s/it]"
          ]
        },
        {
          "output_type": "stream",
          "name": "stdout",
          "text": [
            "1/1 [==============================] - 1s 543ms/step\n"
          ]
        },
        {
          "output_type": "stream",
          "name": "stderr",
          "text": [
            "\r 14%|█▍        | 191/1389 [32:01<3:02:35,  9.14s/it]"
          ]
        },
        {
          "output_type": "stream",
          "name": "stdout",
          "text": [
            "1/1 [==============================] - 1s 552ms/step\n"
          ]
        },
        {
          "output_type": "stream",
          "name": "stderr",
          "text": [
            "\r 14%|█▍        | 192/1389 [32:10<3:02:14,  9.13s/it]"
          ]
        },
        {
          "output_type": "stream",
          "name": "stdout",
          "text": [
            "1/1 [==============================] - 1s 555ms/step\n"
          ]
        },
        {
          "output_type": "stream",
          "name": "stderr",
          "text": [
            "\r 14%|█▍        | 193/1389 [32:19<3:01:51,  9.12s/it]"
          ]
        },
        {
          "output_type": "stream",
          "name": "stdout",
          "text": [
            "1/1 [==============================] - 1s 548ms/step\n"
          ]
        },
        {
          "output_type": "stream",
          "name": "stderr",
          "text": [
            "\r 14%|█▍        | 194/1389 [32:28<3:02:55,  9.18s/it]"
          ]
        },
        {
          "output_type": "stream",
          "name": "stdout",
          "text": [
            "1/1 [==============================] - 1s 531ms/step\n"
          ]
        },
        {
          "output_type": "stream",
          "name": "stderr",
          "text": [
            "\r 14%|█▍        | 195/1389 [32:37<3:03:39,  9.23s/it]"
          ]
        },
        {
          "output_type": "stream",
          "name": "stdout",
          "text": [
            "1/1 [==============================] - 1s 542ms/step\n"
          ]
        },
        {
          "output_type": "stream",
          "name": "stderr",
          "text": [
            "\r 14%|█▍        | 196/1389 [32:47<3:02:54,  9.20s/it]"
          ]
        },
        {
          "output_type": "stream",
          "name": "stdout",
          "text": [
            "1/1 [==============================] - 1s 531ms/step\n"
          ]
        },
        {
          "output_type": "stream",
          "name": "stderr",
          "text": [
            "\r 14%|█▍        | 197/1389 [32:56<3:03:35,  9.24s/it]"
          ]
        },
        {
          "output_type": "stream",
          "name": "stdout",
          "text": [
            "1/1 [==============================] - 1s 553ms/step\n"
          ]
        },
        {
          "output_type": "stream",
          "name": "stderr",
          "text": [
            "\r 14%|█▍        | 198/1389 [33:06<3:07:44,  9.46s/it]"
          ]
        },
        {
          "output_type": "stream",
          "name": "stdout",
          "text": [
            "1/1 [==============================] - 1s 529ms/step\n"
          ]
        },
        {
          "output_type": "stream",
          "name": "stderr",
          "text": [
            "\r 14%|█▍        | 199/1389 [33:16<3:09:46,  9.57s/it]"
          ]
        },
        {
          "output_type": "stream",
          "name": "stdout",
          "text": [
            "1/1 [==============================] - 1s 528ms/step\n"
          ]
        },
        {
          "output_type": "stream",
          "name": "stderr",
          "text": [
            "\r 14%|█▍        | 200/1389 [33:26<3:11:58,  9.69s/it]"
          ]
        },
        {
          "output_type": "stream",
          "name": "stdout",
          "text": [
            "1/1 [==============================] - 1s 624ms/step\n"
          ]
        },
        {
          "output_type": "stream",
          "name": "stderr",
          "text": [
            "\r 14%|█▍        | 201/1389 [33:35<3:10:15,  9.61s/it]"
          ]
        },
        {
          "output_type": "stream",
          "name": "stdout",
          "text": [
            "1/1 [==============================] - 1s 549ms/step\n"
          ]
        },
        {
          "output_type": "stream",
          "name": "stderr",
          "text": [
            "\r 15%|█▍        | 202/1389 [33:44<3:06:05,  9.41s/it]"
          ]
        },
        {
          "output_type": "stream",
          "name": "stdout",
          "text": [
            "1/1 [==============================] - 1s 550ms/step\n"
          ]
        },
        {
          "output_type": "stream",
          "name": "stderr",
          "text": [
            "\r 15%|█▍        | 203/1389 [33:54<3:09:30,  9.59s/it]"
          ]
        },
        {
          "output_type": "stream",
          "name": "stdout",
          "text": [
            "1/1 [==============================] - 1s 573ms/step\n"
          ]
        },
        {
          "output_type": "stream",
          "name": "stderr",
          "text": [
            "\r 15%|█▍        | 204/1389 [34:04<3:13:45,  9.81s/it]"
          ]
        },
        {
          "output_type": "stream",
          "name": "stdout",
          "text": [
            "1/1 [==============================] - 1s 539ms/step\n"
          ]
        },
        {
          "output_type": "stream",
          "name": "stderr",
          "text": [
            "\r 15%|█▍        | 205/1389 [34:14<3:13:06,  9.79s/it]"
          ]
        },
        {
          "output_type": "stream",
          "name": "stdout",
          "text": [
            "1/1 [==============================] - 1s 549ms/step\n"
          ]
        },
        {
          "output_type": "stream",
          "name": "stderr",
          "text": [
            "\r 15%|█▍        | 206/1389 [34:23<3:10:16,  9.65s/it]"
          ]
        },
        {
          "output_type": "stream",
          "name": "stdout",
          "text": [
            "1/1 [==============================] - 1s 542ms/step\n"
          ]
        },
        {
          "output_type": "stream",
          "name": "stderr",
          "text": [
            "\r 15%|█▍        | 207/1389 [34:33<3:06:35,  9.47s/it]"
          ]
        },
        {
          "output_type": "stream",
          "name": "stdout",
          "text": [
            "1/1 [==============================] - 1s 532ms/step\n"
          ]
        },
        {
          "output_type": "stream",
          "name": "stderr",
          "text": [
            "\r 15%|█▍        | 208/1389 [34:43<3:11:14,  9.72s/it]"
          ]
        },
        {
          "output_type": "stream",
          "name": "stdout",
          "text": [
            "1/1 [==============================] - 1s 531ms/step\n"
          ]
        },
        {
          "output_type": "stream",
          "name": "stderr",
          "text": [
            "\r 15%|█▌        | 209/1389 [34:53<3:12:16,  9.78s/it]"
          ]
        },
        {
          "output_type": "stream",
          "name": "stdout",
          "text": [
            "1/1 [==============================] - 1s 528ms/step\n"
          ]
        },
        {
          "output_type": "stream",
          "name": "stderr",
          "text": [
            "\r 15%|█▌        | 210/1389 [35:02<3:11:10,  9.73s/it]"
          ]
        },
        {
          "output_type": "stream",
          "name": "stdout",
          "text": [
            "1/1 [==============================] - 1s 545ms/step\n"
          ]
        },
        {
          "output_type": "stream",
          "name": "stderr",
          "text": [
            "\r 15%|█▌        | 211/1389 [35:12<3:08:32,  9.60s/it]"
          ]
        },
        {
          "output_type": "stream",
          "name": "stdout",
          "text": [
            "1/1 [==============================] - 1s 566ms/step\n"
          ]
        },
        {
          "output_type": "stream",
          "name": "stderr",
          "text": [
            "\r 15%|█▌        | 212/1389 [35:21<3:08:00,  9.58s/it]"
          ]
        },
        {
          "output_type": "stream",
          "name": "stdout",
          "text": [
            "1/1 [==============================] - 1s 570ms/step\n"
          ]
        },
        {
          "output_type": "stream",
          "name": "stderr",
          "text": [
            "\r 15%|█▌        | 213/1389 [35:30<3:05:25,  9.46s/it]"
          ]
        },
        {
          "output_type": "stream",
          "name": "stdout",
          "text": [
            "1/1 [==============================] - 1s 555ms/step\n"
          ]
        },
        {
          "output_type": "stream",
          "name": "stderr",
          "text": [
            "\r 15%|█▌        | 214/1389 [35:40<3:07:25,  9.57s/it]"
          ]
        },
        {
          "output_type": "stream",
          "name": "stdout",
          "text": [
            "1/1 [==============================] - 1s 575ms/step\n"
          ]
        },
        {
          "output_type": "stream",
          "name": "stderr",
          "text": [
            "\r 15%|█▌        | 215/1389 [35:50<3:06:00,  9.51s/it]"
          ]
        },
        {
          "output_type": "stream",
          "name": "stdout",
          "text": [
            "1/1 [==============================] - 1s 543ms/step\n"
          ]
        },
        {
          "output_type": "stream",
          "name": "stderr",
          "text": [
            "\r 16%|█▌        | 216/1389 [35:59<3:06:20,  9.53s/it]"
          ]
        },
        {
          "output_type": "stream",
          "name": "stdout",
          "text": [
            "1/1 [==============================] - 1s 543ms/step\n"
          ]
        },
        {
          "output_type": "stream",
          "name": "stderr",
          "text": [
            "\r 16%|█▌        | 217/1389 [36:09<3:05:49,  9.51s/it]"
          ]
        },
        {
          "output_type": "stream",
          "name": "stdout",
          "text": [
            "1/1 [==============================] - 1s 541ms/step\n"
          ]
        },
        {
          "output_type": "stream",
          "name": "stderr",
          "text": [
            "\r 16%|█▌        | 218/1389 [36:18<3:07:26,  9.60s/it]"
          ]
        },
        {
          "output_type": "stream",
          "name": "stdout",
          "text": [
            "1/1 [==============================] - 1s 543ms/step\n"
          ]
        },
        {
          "output_type": "stream",
          "name": "stderr",
          "text": [
            "\r 16%|█▌        | 219/1389 [36:28<3:05:03,  9.49s/it]"
          ]
        },
        {
          "output_type": "stream",
          "name": "stdout",
          "text": [
            "1/1 [==============================] - 1s 535ms/step\n"
          ]
        },
        {
          "output_type": "stream",
          "name": "stderr",
          "text": [
            "\r 16%|█▌        | 220/1389 [36:37<3:03:59,  9.44s/it]"
          ]
        },
        {
          "output_type": "stream",
          "name": "stdout",
          "text": [
            "1/1 [==============================] - 1s 542ms/step\n"
          ]
        },
        {
          "output_type": "stream",
          "name": "stderr",
          "text": [
            "\r 16%|█▌        | 221/1389 [36:47<3:05:51,  9.55s/it]"
          ]
        },
        {
          "output_type": "stream",
          "name": "stdout",
          "text": [
            "1/1 [==============================] - 1s 530ms/step\n"
          ]
        },
        {
          "output_type": "stream",
          "name": "stderr",
          "text": [
            "\r 16%|█▌        | 222/1389 [36:56<3:02:55,  9.40s/it]"
          ]
        },
        {
          "output_type": "stream",
          "name": "stdout",
          "text": [
            "1/1 [==============================] - 1s 550ms/step\n"
          ]
        },
        {
          "output_type": "stream",
          "name": "stderr",
          "text": [
            "\r 16%|█▌        | 223/1389 [37:05<3:03:24,  9.44s/it]"
          ]
        },
        {
          "output_type": "stream",
          "name": "stdout",
          "text": [
            "1/1 [==============================] - 1s 531ms/step\n"
          ]
        },
        {
          "output_type": "stream",
          "name": "stderr",
          "text": [
            "\r 16%|█▌        | 224/1389 [37:15<3:04:11,  9.49s/it]"
          ]
        },
        {
          "output_type": "stream",
          "name": "stdout",
          "text": [
            "1/1 [==============================] - 1s 548ms/step\n"
          ]
        },
        {
          "output_type": "stream",
          "name": "stderr",
          "text": [
            "\r 16%|█▌        | 225/1389 [37:24<3:03:44,  9.47s/it]"
          ]
        },
        {
          "output_type": "stream",
          "name": "stdout",
          "text": [
            "1/1 [==============================] - 1s 543ms/step\n"
          ]
        },
        {
          "output_type": "stream",
          "name": "stderr",
          "text": [
            "\r 16%|█▋        | 226/1389 [37:34<3:05:16,  9.56s/it]"
          ]
        },
        {
          "output_type": "stream",
          "name": "stdout",
          "text": [
            "1/1 [==============================] - 1s 546ms/step\n"
          ]
        },
        {
          "output_type": "stream",
          "name": "stderr",
          "text": [
            "\r 16%|█▋        | 227/1389 [37:44<3:06:11,  9.61s/it]"
          ]
        },
        {
          "output_type": "stream",
          "name": "stdout",
          "text": [
            "1/1 [==============================] - 1s 538ms/step\n"
          ]
        },
        {
          "output_type": "stream",
          "name": "stderr",
          "text": [
            "\r 16%|█▋        | 228/1389 [37:53<3:03:35,  9.49s/it]"
          ]
        },
        {
          "output_type": "stream",
          "name": "stdout",
          "text": [
            "1/1 [==============================] - 1s 550ms/step\n"
          ]
        },
        {
          "output_type": "stream",
          "name": "stderr",
          "text": [
            "\r 16%|█▋        | 229/1389 [38:04<3:08:59,  9.78s/it]"
          ]
        },
        {
          "output_type": "stream",
          "name": "stdout",
          "text": [
            "1/1 [==============================] - 1s 559ms/step\n"
          ]
        },
        {
          "output_type": "stream",
          "name": "stderr",
          "text": [
            "\r 17%|█▋        | 230/1389 [38:13<3:09:14,  9.80s/it]"
          ]
        },
        {
          "output_type": "stream",
          "name": "stdout",
          "text": [
            "1/1 [==============================] - 1s 568ms/step\n"
          ]
        },
        {
          "output_type": "stream",
          "name": "stderr",
          "text": [
            "\r 17%|█▋        | 231/1389 [38:23<3:07:37,  9.72s/it]"
          ]
        },
        {
          "output_type": "stream",
          "name": "stdout",
          "text": [
            "1/1 [==============================] - 1s 548ms/step\n"
          ]
        },
        {
          "output_type": "stream",
          "name": "stderr",
          "text": [
            "\r 17%|█▋        | 232/1389 [38:33<3:10:01,  9.85s/it]"
          ]
        },
        {
          "output_type": "stream",
          "name": "stdout",
          "text": [
            "1/1 [==============================] - 1s 555ms/step\n"
          ]
        },
        {
          "output_type": "stream",
          "name": "stderr",
          "text": [
            "\r 17%|█▋        | 233/1389 [38:43<3:07:52,  9.75s/it]"
          ]
        },
        {
          "output_type": "stream",
          "name": "stdout",
          "text": [
            "1/1 [==============================] - 1s 524ms/step\n"
          ]
        },
        {
          "output_type": "stream",
          "name": "stderr",
          "text": [
            "\r 17%|█▋        | 234/1389 [38:52<3:05:16,  9.62s/it]"
          ]
        },
        {
          "output_type": "stream",
          "name": "stdout",
          "text": [
            "1/1 [==============================] - 1s 526ms/step\n"
          ]
        },
        {
          "output_type": "stream",
          "name": "stderr",
          "text": [
            "\r 17%|█▋        | 235/1389 [39:02<3:04:55,  9.61s/it]"
          ]
        },
        {
          "output_type": "stream",
          "name": "stdout",
          "text": [
            "1/1 [==============================] - 1s 540ms/step\n"
          ]
        },
        {
          "output_type": "stream",
          "name": "stderr",
          "text": [
            "\r 17%|█▋        | 236/1389 [39:11<3:02:04,  9.47s/it]"
          ]
        },
        {
          "output_type": "stream",
          "name": "stdout",
          "text": [
            "1/1 [==============================] - 1s 530ms/step\n"
          ]
        },
        {
          "output_type": "stream",
          "name": "stderr",
          "text": [
            "\r 17%|█▋        | 237/1389 [39:20<3:02:43,  9.52s/it]"
          ]
        },
        {
          "output_type": "stream",
          "name": "stdout",
          "text": [
            "1/1 [==============================] - 1s 529ms/step\n"
          ]
        },
        {
          "output_type": "stream",
          "name": "stderr",
          "text": [
            "\r 17%|█▋        | 238/1389 [39:30<3:03:31,  9.57s/it]"
          ]
        },
        {
          "output_type": "stream",
          "name": "stdout",
          "text": [
            "1/1 [==============================] - 1s 536ms/step\n"
          ]
        },
        {
          "output_type": "stream",
          "name": "stderr",
          "text": [
            "\r 17%|█▋        | 239/1389 [39:40<3:07:30,  9.78s/it]"
          ]
        },
        {
          "output_type": "stream",
          "name": "stdout",
          "text": [
            "1/1 [==============================] - 1s 557ms/step\n"
          ]
        },
        {
          "output_type": "stream",
          "name": "stderr",
          "text": [
            "\r 17%|█▋        | 240/1389 [39:50<3:08:00,  9.82s/it]"
          ]
        },
        {
          "output_type": "stream",
          "name": "stdout",
          "text": [
            "1/1 [==============================] - 1s 517ms/step\n"
          ]
        },
        {
          "output_type": "stream",
          "name": "stderr",
          "text": [
            "\r 17%|█▋        | 241/1389 [40:00<3:06:18,  9.74s/it]"
          ]
        },
        {
          "output_type": "stream",
          "name": "stdout",
          "text": [
            "1/1 [==============================] - 1s 566ms/step\n"
          ]
        },
        {
          "output_type": "stream",
          "name": "stderr",
          "text": [
            "\r 17%|█▋        | 242/1389 [40:10<3:07:39,  9.82s/it]"
          ]
        },
        {
          "output_type": "stream",
          "name": "stdout",
          "text": [
            "1/1 [==============================] - 1s 560ms/step\n"
          ]
        },
        {
          "output_type": "stream",
          "name": "stderr",
          "text": [
            "\r 17%|█▋        | 243/1389 [40:19<3:07:15,  9.80s/it]"
          ]
        },
        {
          "output_type": "stream",
          "name": "stdout",
          "text": [
            "1/1 [==============================] - 1s 552ms/step\n"
          ]
        },
        {
          "output_type": "stream",
          "name": "stderr",
          "text": [
            "\r 18%|█▊        | 244/1389 [40:29<3:05:34,  9.72s/it]"
          ]
        },
        {
          "output_type": "stream",
          "name": "stdout",
          "text": [
            "1/1 [==============================] - 1s 537ms/step\n"
          ]
        },
        {
          "output_type": "stream",
          "name": "stderr",
          "text": [
            "\r 18%|█▊        | 245/1389 [40:39<3:05:39,  9.74s/it]"
          ]
        },
        {
          "output_type": "stream",
          "name": "stdout",
          "text": [
            "1/1 [==============================] - 1s 539ms/step\n"
          ]
        },
        {
          "output_type": "stream",
          "name": "stderr",
          "text": [
            "\r 18%|█▊        | 246/1389 [40:49<3:05:37,  9.74s/it]"
          ]
        },
        {
          "output_type": "stream",
          "name": "stdout",
          "text": [
            "1/1 [==============================] - 1s 542ms/step\n"
          ]
        },
        {
          "output_type": "stream",
          "name": "stderr",
          "text": [
            "\r 18%|█▊        | 247/1389 [40:57<2:59:21,  9.42s/it]"
          ]
        },
        {
          "output_type": "stream",
          "name": "stdout",
          "text": [
            "1/1 [==============================] - 1s 553ms/step\n"
          ]
        },
        {
          "output_type": "stream",
          "name": "stderr",
          "text": [
            "\r 18%|█▊        | 248/1389 [41:07<2:59:39,  9.45s/it]"
          ]
        },
        {
          "output_type": "stream",
          "name": "stdout",
          "text": [
            "1/1 [==============================] - 1s 538ms/step\n"
          ]
        },
        {
          "output_type": "stream",
          "name": "stderr",
          "text": [
            "\r 18%|█▊        | 249/1389 [41:16<2:58:29,  9.39s/it]"
          ]
        },
        {
          "output_type": "stream",
          "name": "stdout",
          "text": [
            "1/1 [==============================] - 1s 533ms/step\n"
          ]
        },
        {
          "output_type": "stream",
          "name": "stderr",
          "text": [
            "\r 18%|█▊        | 250/1389 [41:26<3:01:50,  9.58s/it]"
          ]
        },
        {
          "output_type": "stream",
          "name": "stdout",
          "text": [
            "1/1 [==============================] - 1s 549ms/step\n"
          ]
        },
        {
          "output_type": "stream",
          "name": "stderr",
          "text": [
            "\r 18%|█▊        | 251/1389 [41:35<2:57:58,  9.38s/it]"
          ]
        },
        {
          "output_type": "stream",
          "name": "stdout",
          "text": [
            "1/1 [==============================] - 1s 564ms/step\n"
          ]
        },
        {
          "output_type": "stream",
          "name": "stderr",
          "text": [
            "\r 18%|█▊        | 252/1389 [41:45<3:01:09,  9.56s/it]"
          ]
        },
        {
          "output_type": "stream",
          "name": "stdout",
          "text": [
            "1/1 [==============================] - 1s 570ms/step\n"
          ]
        },
        {
          "output_type": "stream",
          "name": "stderr",
          "text": [
            "\r 18%|█▊        | 253/1389 [41:54<2:58:45,  9.44s/it]"
          ]
        },
        {
          "output_type": "stream",
          "name": "stdout",
          "text": [
            "1/1 [==============================] - 1s 530ms/step\n"
          ]
        },
        {
          "output_type": "stream",
          "name": "stderr",
          "text": [
            "\r 18%|█▊        | 254/1389 [42:04<2:59:08,  9.47s/it]"
          ]
        },
        {
          "output_type": "stream",
          "name": "stdout",
          "text": [
            "1/1 [==============================] - 1s 535ms/step\n"
          ]
        },
        {
          "output_type": "stream",
          "name": "stderr",
          "text": [
            "\r 18%|█▊        | 255/1389 [42:12<2:55:04,  9.26s/it]"
          ]
        },
        {
          "output_type": "stream",
          "name": "stdout",
          "text": [
            "1/1 [==============================] - 1s 557ms/step\n"
          ]
        },
        {
          "output_type": "stream",
          "name": "stderr",
          "text": [
            "\r 18%|█▊        | 256/1389 [42:22<2:54:56,  9.26s/it]"
          ]
        },
        {
          "output_type": "stream",
          "name": "stdout",
          "text": [
            "1/1 [==============================] - 1s 537ms/step\n"
          ]
        },
        {
          "output_type": "stream",
          "name": "stderr",
          "text": [
            "\r 19%|█▊        | 257/1389 [42:31<2:55:09,  9.28s/it]"
          ]
        },
        {
          "output_type": "stream",
          "name": "stdout",
          "text": [
            "1/1 [==============================] - 1s 540ms/step\n"
          ]
        },
        {
          "output_type": "stream",
          "name": "stderr",
          "text": [
            "\r 19%|█▊        | 258/1389 [42:41<2:58:55,  9.49s/it]"
          ]
        },
        {
          "output_type": "stream",
          "name": "stdout",
          "text": [
            "1/1 [==============================] - 1s 539ms/step\n"
          ]
        },
        {
          "output_type": "stream",
          "name": "stderr",
          "text": [
            "\r 19%|█▊        | 259/1389 [42:50<2:58:33,  9.48s/it]"
          ]
        },
        {
          "output_type": "stream",
          "name": "stdout",
          "text": [
            "1/1 [==============================] - 1s 550ms/step\n"
          ]
        },
        {
          "output_type": "stream",
          "name": "stderr",
          "text": [
            "\r 19%|█▊        | 260/1389 [42:59<2:54:18,  9.26s/it]"
          ]
        },
        {
          "output_type": "stream",
          "name": "stdout",
          "text": [
            "1/1 [==============================] - 1s 553ms/step\n"
          ]
        },
        {
          "output_type": "stream",
          "name": "stderr",
          "text": [
            "\r 19%|█▉        | 261/1389 [43:09<2:54:45,  9.30s/it]"
          ]
        },
        {
          "output_type": "stream",
          "name": "stdout",
          "text": [
            "1/1 [==============================] - 1s 533ms/step\n"
          ]
        },
        {
          "output_type": "stream",
          "name": "stderr",
          "text": [
            "\r 19%|█▉        | 262/1389 [43:18<2:54:12,  9.28s/it]"
          ]
        },
        {
          "output_type": "stream",
          "name": "stdout",
          "text": [
            "1/1 [==============================] - 1s 542ms/step\n"
          ]
        },
        {
          "output_type": "stream",
          "name": "stderr",
          "text": [
            "\r 19%|█▉        | 263/1389 [43:27<2:53:31,  9.25s/it]"
          ]
        },
        {
          "output_type": "stream",
          "name": "stdout",
          "text": [
            "1/1 [==============================] - 1s 557ms/step\n"
          ]
        },
        {
          "output_type": "stream",
          "name": "stderr",
          "text": [
            "\r 19%|█▉        | 264/1389 [43:36<2:54:08,  9.29s/it]"
          ]
        },
        {
          "output_type": "stream",
          "name": "stdout",
          "text": [
            "1/1 [==============================] - 1s 528ms/step\n"
          ]
        },
        {
          "output_type": "stream",
          "name": "stderr",
          "text": [
            "\r 19%|█▉        | 265/1389 [43:46<2:53:46,  9.28s/it]"
          ]
        },
        {
          "output_type": "stream",
          "name": "stdout",
          "text": [
            "1/1 [==============================] - 1s 537ms/step\n"
          ]
        },
        {
          "output_type": "stream",
          "name": "stderr",
          "text": [
            "\r 19%|█▉        | 266/1389 [43:55<2:52:09,  9.20s/it]"
          ]
        },
        {
          "output_type": "stream",
          "name": "stdout",
          "text": [
            "1/1 [==============================] - 1s 538ms/step\n"
          ]
        },
        {
          "output_type": "stream",
          "name": "stderr",
          "text": [
            "\r 19%|█▉        | 267/1389 [44:04<2:55:12,  9.37s/it]"
          ]
        },
        {
          "output_type": "stream",
          "name": "stdout",
          "text": [
            "1/1 [==============================] - 1s 539ms/step\n"
          ]
        },
        {
          "output_type": "stream",
          "name": "stderr",
          "text": [
            "\r 19%|█▉        | 268/1389 [44:15<2:59:26,  9.60s/it]"
          ]
        },
        {
          "output_type": "stream",
          "name": "stdout",
          "text": [
            "1/1 [==============================] - 1s 538ms/step\n"
          ]
        },
        {
          "output_type": "stream",
          "name": "stderr",
          "text": [
            "\r 19%|█▉        | 269/1389 [44:24<3:00:09,  9.65s/it]"
          ]
        },
        {
          "output_type": "stream",
          "name": "stdout",
          "text": [
            "1/1 [==============================] - 1s 548ms/step\n"
          ]
        },
        {
          "output_type": "stream",
          "name": "stderr",
          "text": [
            "\r 19%|█▉        | 270/1389 [44:33<2:53:26,  9.30s/it]"
          ]
        },
        {
          "output_type": "stream",
          "name": "stdout",
          "text": [
            "1/1 [==============================] - 1s 552ms/step\n"
          ]
        },
        {
          "output_type": "stream",
          "name": "stderr",
          "text": [
            "\r 20%|█▉        | 271/1389 [44:42<2:51:21,  9.20s/it]"
          ]
        },
        {
          "output_type": "stream",
          "name": "stdout",
          "text": [
            "1/1 [==============================] - 1s 541ms/step\n"
          ]
        },
        {
          "output_type": "stream",
          "name": "stderr",
          "text": [
            "\r 20%|█▉        | 272/1389 [44:51<2:53:13,  9.31s/it]"
          ]
        },
        {
          "output_type": "stream",
          "name": "stdout",
          "text": [
            "1/1 [==============================] - 1s 580ms/step\n"
          ]
        },
        {
          "output_type": "stream",
          "name": "stderr",
          "text": [
            "\r 20%|█▉        | 273/1389 [45:02<2:58:13,  9.58s/it]"
          ]
        },
        {
          "output_type": "stream",
          "name": "stdout",
          "text": [
            "1/1 [==============================] - 1s 550ms/step\n"
          ]
        },
        {
          "output_type": "stream",
          "name": "stderr",
          "text": [
            "\r 20%|█▉        | 274/1389 [45:11<2:57:07,  9.53s/it]"
          ]
        },
        {
          "output_type": "stream",
          "name": "stdout",
          "text": [
            "1/1 [==============================] - 1s 543ms/step\n"
          ]
        },
        {
          "output_type": "stream",
          "name": "stderr",
          "text": [
            "\r 20%|█▉        | 275/1389 [45:21<3:00:07,  9.70s/it]"
          ]
        },
        {
          "output_type": "stream",
          "name": "stdout",
          "text": [
            "1/1 [==============================] - 1s 558ms/step\n"
          ]
        },
        {
          "output_type": "stream",
          "name": "stderr",
          "text": [
            "\r 20%|█▉        | 276/1389 [45:31<3:00:44,  9.74s/it]"
          ]
        },
        {
          "output_type": "stream",
          "name": "stdout",
          "text": [
            "1/1 [==============================] - 1s 542ms/step\n"
          ]
        },
        {
          "output_type": "stream",
          "name": "stderr",
          "text": [
            "\r 20%|█▉        | 277/1389 [45:42<3:06:03, 10.04s/it]"
          ]
        },
        {
          "output_type": "stream",
          "name": "stdout",
          "text": [
            "1/1 [==============================] - 1s 536ms/step\n"
          ]
        },
        {
          "output_type": "stream",
          "name": "stderr",
          "text": [
            "\r 20%|██        | 278/1389 [45:51<3:00:58,  9.77s/it]"
          ]
        },
        {
          "output_type": "stream",
          "name": "stdout",
          "text": [
            "1/1 [==============================] - 1s 539ms/step\n"
          ]
        },
        {
          "output_type": "stream",
          "name": "stderr",
          "text": [
            "\r 20%|██        | 279/1389 [46:00<2:57:28,  9.59s/it]"
          ]
        },
        {
          "output_type": "stream",
          "name": "stdout",
          "text": [
            "1/1 [==============================] - 1s 579ms/step\n"
          ]
        },
        {
          "output_type": "stream",
          "name": "stderr",
          "text": [
            "\r 20%|██        | 280/1389 [46:10<2:58:55,  9.68s/it]"
          ]
        },
        {
          "output_type": "stream",
          "name": "stdout",
          "text": [
            "1/1 [==============================] - 1s 580ms/step\n"
          ]
        },
        {
          "output_type": "stream",
          "name": "stderr",
          "text": [
            "\r 20%|██        | 281/1389 [46:20<3:03:52,  9.96s/it]"
          ]
        },
        {
          "output_type": "stream",
          "name": "stdout",
          "text": [
            "1/1 [==============================] - 1s 564ms/step\n"
          ]
        },
        {
          "output_type": "stream",
          "name": "stderr",
          "text": [
            "\r 20%|██        | 282/1389 [46:30<3:04:19,  9.99s/it]"
          ]
        },
        {
          "output_type": "stream",
          "name": "stdout",
          "text": [
            "1/1 [==============================] - 1s 549ms/step\n"
          ]
        },
        {
          "output_type": "stream",
          "name": "stderr",
          "text": [
            "\r 20%|██        | 283/1389 [46:40<2:59:27,  9.74s/it]"
          ]
        },
        {
          "output_type": "stream",
          "name": "stdout",
          "text": [
            "1/1 [==============================] - 1s 545ms/step\n"
          ]
        },
        {
          "output_type": "stream",
          "name": "stderr",
          "text": [
            "\r 20%|██        | 284/1389 [46:49<2:57:29,  9.64s/it]"
          ]
        },
        {
          "output_type": "stream",
          "name": "stdout",
          "text": [
            "1/1 [==============================] - 1s 538ms/step\n"
          ]
        },
        {
          "output_type": "stream",
          "name": "stderr",
          "text": [
            "\r 21%|██        | 285/1389 [46:58<2:53:09,  9.41s/it]"
          ]
        },
        {
          "output_type": "stream",
          "name": "stdout",
          "text": [
            "1/1 [==============================] - 1s 543ms/step\n"
          ]
        },
        {
          "output_type": "stream",
          "name": "stderr",
          "text": [
            "\r 21%|██        | 286/1389 [47:08<2:58:23,  9.70s/it]"
          ]
        },
        {
          "output_type": "stream",
          "name": "stdout",
          "text": [
            "1/1 [==============================] - 1s 541ms/step\n"
          ]
        },
        {
          "output_type": "stream",
          "name": "stderr",
          "text": [
            "\r 21%|██        | 287/1389 [47:17<2:55:26,  9.55s/it]"
          ]
        },
        {
          "output_type": "stream",
          "name": "stdout",
          "text": [
            "1/1 [==============================] - 1s 548ms/step\n"
          ]
        },
        {
          "output_type": "stream",
          "name": "stderr",
          "text": [
            "\r 21%|██        | 288/1389 [47:27<2:55:15,  9.55s/it]"
          ]
        },
        {
          "output_type": "stream",
          "name": "stdout",
          "text": [
            "1/1 [==============================] - 1s 545ms/step\n"
          ]
        },
        {
          "output_type": "stream",
          "name": "stderr",
          "text": [
            "\r 21%|██        | 289/1389 [47:37<2:57:56,  9.71s/it]"
          ]
        },
        {
          "output_type": "stream",
          "name": "stdout",
          "text": [
            "1/1 [==============================] - 1s 560ms/step\n"
          ]
        },
        {
          "output_type": "stream",
          "name": "stderr",
          "text": [
            "\r 21%|██        | 290/1389 [47:47<2:59:44,  9.81s/it]"
          ]
        },
        {
          "output_type": "stream",
          "name": "stdout",
          "text": [
            "1/1 [==============================] - 1s 539ms/step\n"
          ]
        },
        {
          "output_type": "stream",
          "name": "stderr",
          "text": [
            "\r 21%|██        | 291/1389 [47:57<3:00:51,  9.88s/it]"
          ]
        },
        {
          "output_type": "stream",
          "name": "stdout",
          "text": [
            "1/1 [==============================] - 1s 569ms/step\n"
          ]
        },
        {
          "output_type": "stream",
          "name": "stderr",
          "text": [
            "\r 21%|██        | 292/1389 [48:07<3:00:20,  9.86s/it]"
          ]
        },
        {
          "output_type": "stream",
          "name": "stdout",
          "text": [
            "1/1 [==============================] - 1s 554ms/step\n"
          ]
        },
        {
          "output_type": "stream",
          "name": "stderr",
          "text": [
            "\r 21%|██        | 293/1389 [48:17<3:01:10,  9.92s/it]"
          ]
        },
        {
          "output_type": "stream",
          "name": "stdout",
          "text": [
            "1/1 [==============================] - 1s 547ms/step\n"
          ]
        },
        {
          "output_type": "stream",
          "name": "stderr",
          "text": [
            "\r 21%|██        | 294/1389 [48:27<2:58:36,  9.79s/it]"
          ]
        },
        {
          "output_type": "stream",
          "name": "stdout",
          "text": [
            "1/1 [==============================] - 1s 526ms/step\n"
          ]
        },
        {
          "output_type": "stream",
          "name": "stderr",
          "text": [
            "\r 21%|██        | 295/1389 [48:37<2:59:58,  9.87s/it]"
          ]
        },
        {
          "output_type": "stream",
          "name": "stdout",
          "text": [
            "1/1 [==============================] - 1s 527ms/step\n"
          ]
        },
        {
          "output_type": "stream",
          "name": "stderr",
          "text": [
            "\r 21%|██▏       | 296/1389 [48:46<2:56:51,  9.71s/it]"
          ]
        },
        {
          "output_type": "stream",
          "name": "stdout",
          "text": [
            "1/1 [==============================] - 1s 530ms/step\n"
          ]
        },
        {
          "output_type": "stream",
          "name": "stderr",
          "text": [
            "\r 21%|██▏       | 297/1389 [48:56<2:56:55,  9.72s/it]"
          ]
        },
        {
          "output_type": "stream",
          "name": "stdout",
          "text": [
            "1/1 [==============================] - 1s 543ms/step\n"
          ]
        },
        {
          "output_type": "stream",
          "name": "stderr",
          "text": [
            "\r 21%|██▏       | 298/1389 [49:05<2:54:59,  9.62s/it]"
          ]
        },
        {
          "output_type": "stream",
          "name": "stdout",
          "text": [
            "1/1 [==============================] - 1s 541ms/step\n"
          ]
        },
        {
          "output_type": "stream",
          "name": "stderr",
          "text": [
            "\r 22%|██▏       | 299/1389 [49:15<2:57:33,  9.77s/it]"
          ]
        },
        {
          "output_type": "stream",
          "name": "stdout",
          "text": [
            "1/1 [==============================] - 1s 549ms/step\n"
          ]
        },
        {
          "output_type": "stream",
          "name": "stderr",
          "text": [
            "\r 22%|██▏       | 300/1389 [49:25<2:59:14,  9.88s/it]"
          ]
        },
        {
          "output_type": "stream",
          "name": "stdout",
          "text": [
            "1/1 [==============================] - 1s 528ms/step\n"
          ]
        },
        {
          "output_type": "stream",
          "name": "stderr",
          "text": [
            "\r 22%|██▏       | 301/1389 [49:34<2:54:46,  9.64s/it]"
          ]
        },
        {
          "output_type": "stream",
          "name": "stdout",
          "text": [
            "1/1 [==============================] - 1s 538ms/step\n"
          ]
        },
        {
          "output_type": "stream",
          "name": "stderr",
          "text": [
            "\r 22%|██▏       | 302/1389 [49:44<2:56:38,  9.75s/it]"
          ]
        },
        {
          "output_type": "stream",
          "name": "stdout",
          "text": [
            "1/1 [==============================] - 1s 529ms/step\n"
          ]
        },
        {
          "output_type": "stream",
          "name": "stderr",
          "text": [
            "\r 22%|██▏       | 303/1389 [49:55<3:00:07,  9.95s/it]"
          ]
        },
        {
          "output_type": "stream",
          "name": "stdout",
          "text": [
            "1/1 [==============================] - 1s 537ms/step\n"
          ]
        },
        {
          "output_type": "stream",
          "name": "stderr",
          "text": [
            "\r 22%|██▏       | 304/1389 [50:05<3:00:10,  9.96s/it]"
          ]
        },
        {
          "output_type": "stream",
          "name": "stdout",
          "text": [
            "1/1 [==============================] - 1s 533ms/step\n"
          ]
        },
        {
          "output_type": "stream",
          "name": "stderr",
          "text": [
            "\r 22%|██▏       | 305/1389 [50:15<2:58:46,  9.90s/it]"
          ]
        },
        {
          "output_type": "stream",
          "name": "stdout",
          "text": [
            "1/1 [==============================] - 1s 541ms/step\n"
          ]
        },
        {
          "output_type": "stream",
          "name": "stderr",
          "text": [
            "\r 22%|██▏       | 306/1389 [50:24<2:58:42,  9.90s/it]"
          ]
        },
        {
          "output_type": "stream",
          "name": "stdout",
          "text": [
            "1/1 [==============================] - 1s 538ms/step\n"
          ]
        },
        {
          "output_type": "stream",
          "name": "stderr",
          "text": [
            "\r 22%|██▏       | 307/1389 [50:34<2:55:43,  9.74s/it]"
          ]
        },
        {
          "output_type": "stream",
          "name": "stdout",
          "text": [
            "1/1 [==============================] - 1s 537ms/step\n"
          ]
        },
        {
          "output_type": "stream",
          "name": "stderr",
          "text": [
            "\r 22%|██▏       | 308/1389 [50:44<2:56:50,  9.82s/it]"
          ]
        },
        {
          "output_type": "stream",
          "name": "stdout",
          "text": [
            "1/1 [==============================] - 1s 565ms/step\n"
          ]
        },
        {
          "output_type": "stream",
          "name": "stderr",
          "text": [
            "\r 22%|██▏       | 309/1389 [50:53<2:54:02,  9.67s/it]"
          ]
        },
        {
          "output_type": "stream",
          "name": "stdout",
          "text": [
            "1/1 [==============================] - 1s 570ms/step\n"
          ]
        },
        {
          "output_type": "stream",
          "name": "stderr",
          "text": [
            "\r 22%|██▏       | 310/1389 [51:03<2:56:40,  9.82s/it]"
          ]
        },
        {
          "output_type": "stream",
          "name": "stdout",
          "text": [
            "1/1 [==============================] - 1s 557ms/step\n"
          ]
        },
        {
          "output_type": "stream",
          "name": "stderr",
          "text": [
            "\r 22%|██▏       | 311/1389 [51:13<2:55:46,  9.78s/it]"
          ]
        },
        {
          "output_type": "stream",
          "name": "stdout",
          "text": [
            "1/1 [==============================] - 1s 554ms/step\n"
          ]
        },
        {
          "output_type": "stream",
          "name": "stderr",
          "text": [
            "\r 22%|██▏       | 312/1389 [51:23<2:56:55,  9.86s/it]"
          ]
        },
        {
          "output_type": "stream",
          "name": "stdout",
          "text": [
            "1/1 [==============================] - 1s 533ms/step\n"
          ]
        },
        {
          "output_type": "stream",
          "name": "stderr",
          "text": [
            "\r 23%|██▎       | 313/1389 [51:33<2:55:30,  9.79s/it]"
          ]
        },
        {
          "output_type": "stream",
          "name": "stdout",
          "text": [
            "1/1 [==============================] - 1s 534ms/step\n"
          ]
        },
        {
          "output_type": "stream",
          "name": "stderr",
          "text": [
            "\r 23%|██▎       | 314/1389 [51:43<2:57:52,  9.93s/it]"
          ]
        },
        {
          "output_type": "stream",
          "name": "stdout",
          "text": [
            "1/1 [==============================] - 1s 541ms/step\n"
          ]
        },
        {
          "output_type": "stream",
          "name": "stderr",
          "text": [
            "\r 23%|██▎       | 315/1389 [51:52<2:54:57,  9.77s/it]"
          ]
        },
        {
          "output_type": "stream",
          "name": "stdout",
          "text": [
            "1/1 [==============================] - 1s 547ms/step\n"
          ]
        },
        {
          "output_type": "stream",
          "name": "stderr",
          "text": [
            "\r 23%|██▎       | 316/1389 [52:02<2:54:58,  9.78s/it]"
          ]
        },
        {
          "output_type": "stream",
          "name": "stdout",
          "text": [
            "1/1 [==============================] - 1s 542ms/step\n"
          ]
        },
        {
          "output_type": "stream",
          "name": "stderr",
          "text": [
            "\r 23%|██▎       | 317/1389 [52:12<2:52:19,  9.65s/it]"
          ]
        },
        {
          "output_type": "stream",
          "name": "stdout",
          "text": [
            "1/1 [==============================] - 1s 539ms/step\n"
          ]
        },
        {
          "output_type": "stream",
          "name": "stderr",
          "text": [
            "\r 23%|██▎       | 318/1389 [52:21<2:50:51,  9.57s/it]"
          ]
        },
        {
          "output_type": "stream",
          "name": "stdout",
          "text": [
            "1/1 [==============================] - 1s 550ms/step\n"
          ]
        },
        {
          "output_type": "stream",
          "name": "stderr",
          "text": [
            "\r 23%|██▎       | 319/1389 [52:30<2:49:05,  9.48s/it]"
          ]
        },
        {
          "output_type": "stream",
          "name": "stdout",
          "text": [
            "1/1 [==============================] - 1s 555ms/step\n"
          ]
        },
        {
          "output_type": "stream",
          "name": "stderr",
          "text": [
            "\r 23%|██▎       | 320/1389 [52:39<2:47:34,  9.41s/it]"
          ]
        },
        {
          "output_type": "stream",
          "name": "stdout",
          "text": [
            "1/1 [==============================] - 1s 550ms/step\n"
          ]
        },
        {
          "output_type": "stream",
          "name": "stderr",
          "text": [
            "\r 23%|██▎       | 321/1389 [52:48<2:45:00,  9.27s/it]"
          ]
        },
        {
          "output_type": "stream",
          "name": "stdout",
          "text": [
            "1/1 [==============================] - 1s 587ms/step\n"
          ]
        },
        {
          "output_type": "stream",
          "name": "stderr",
          "text": [
            "\r 23%|██▎       | 322/1389 [52:58<2:47:30,  9.42s/it]"
          ]
        },
        {
          "output_type": "stream",
          "name": "stdout",
          "text": [
            "1/1 [==============================] - 1s 557ms/step\n"
          ]
        },
        {
          "output_type": "stream",
          "name": "stderr",
          "text": [
            "\r 23%|██▎       | 323/1389 [53:08<2:48:04,  9.46s/it]"
          ]
        },
        {
          "output_type": "stream",
          "name": "stdout",
          "text": [
            "1/1 [==============================] - 1s 536ms/step\n"
          ]
        },
        {
          "output_type": "stream",
          "name": "stderr",
          "text": [
            "\r 23%|██▎       | 324/1389 [53:18<2:53:12,  9.76s/it]"
          ]
        },
        {
          "output_type": "stream",
          "name": "stdout",
          "text": [
            "1/1 [==============================] - 1s 535ms/step\n"
          ]
        },
        {
          "output_type": "stream",
          "name": "stderr",
          "text": [
            "\r 23%|██▎       | 325/1389 [53:28<2:51:58,  9.70s/it]"
          ]
        },
        {
          "output_type": "stream",
          "name": "stdout",
          "text": [
            "1/1 [==============================] - 1s 529ms/step\n"
          ]
        },
        {
          "output_type": "stream",
          "name": "stderr",
          "text": [
            "\r 23%|██▎       | 326/1389 [53:37<2:48:06,  9.49s/it]"
          ]
        },
        {
          "output_type": "stream",
          "name": "stdout",
          "text": [
            "1/1 [==============================] - 1s 553ms/step\n"
          ]
        },
        {
          "output_type": "stream",
          "name": "stderr",
          "text": [
            "\r 24%|██▎       | 327/1389 [53:46<2:45:40,  9.36s/it]"
          ]
        },
        {
          "output_type": "stream",
          "name": "stdout",
          "text": [
            "1/1 [==============================] - 1s 535ms/step\n"
          ]
        },
        {
          "output_type": "stream",
          "name": "stderr",
          "text": [
            "\r 24%|██▎       | 328/1389 [53:55<2:44:00,  9.27s/it]"
          ]
        },
        {
          "output_type": "stream",
          "name": "stdout",
          "text": [
            "1/1 [==============================] - 1s 545ms/step\n"
          ]
        },
        {
          "output_type": "stream",
          "name": "stderr",
          "text": [
            "\r 24%|██▎       | 329/1389 [54:05<2:47:47,  9.50s/it]"
          ]
        },
        {
          "output_type": "stream",
          "name": "stdout",
          "text": [
            "1/1 [==============================] - 1s 535ms/step\n"
          ]
        },
        {
          "output_type": "stream",
          "name": "stderr",
          "text": [
            "\r 24%|██▍       | 330/1389 [54:15<2:51:02,  9.69s/it]"
          ]
        },
        {
          "output_type": "stream",
          "name": "stdout",
          "text": [
            "1/1 [==============================] - 1s 584ms/step\n"
          ]
        },
        {
          "output_type": "stream",
          "name": "stderr",
          "text": [
            "\r 24%|██▍       | 331/1389 [54:24<2:48:38,  9.56s/it]"
          ]
        },
        {
          "output_type": "stream",
          "name": "stdout",
          "text": [
            "1/1 [==============================] - 1s 572ms/step\n"
          ]
        },
        {
          "output_type": "stream",
          "name": "stderr",
          "text": [
            "\r 24%|██▍       | 332/1389 [54:34<2:47:33,  9.51s/it]"
          ]
        },
        {
          "output_type": "stream",
          "name": "stdout",
          "text": [
            "1/1 [==============================] - 1s 570ms/step\n"
          ]
        },
        {
          "output_type": "stream",
          "name": "stderr",
          "text": [
            "\r 24%|██▍       | 333/1389 [54:43<2:47:59,  9.54s/it]"
          ]
        },
        {
          "output_type": "stream",
          "name": "stdout",
          "text": [
            "1/1 [==============================] - 1s 527ms/step\n"
          ]
        },
        {
          "output_type": "stream",
          "name": "stderr",
          "text": [
            "\r 24%|██▍       | 334/1389 [54:54<2:51:39,  9.76s/it]"
          ]
        },
        {
          "output_type": "stream",
          "name": "stdout",
          "text": [
            "1/1 [==============================] - 1s 536ms/step\n"
          ]
        },
        {
          "output_type": "stream",
          "name": "stderr",
          "text": [
            "\r 24%|██▍       | 335/1389 [55:03<2:50:59,  9.73s/it]"
          ]
        },
        {
          "output_type": "stream",
          "name": "stdout",
          "text": [
            "1/1 [==============================] - 1s 538ms/step\n"
          ]
        },
        {
          "output_type": "stream",
          "name": "stderr",
          "text": [
            "\r 24%|██▍       | 336/1389 [55:13<2:49:34,  9.66s/it]"
          ]
        },
        {
          "output_type": "stream",
          "name": "stdout",
          "text": [
            "1/1 [==============================] - 1s 552ms/step\n"
          ]
        },
        {
          "output_type": "stream",
          "name": "stderr",
          "text": [
            "\r 24%|██▍       | 337/1389 [55:23<2:51:11,  9.76s/it]"
          ]
        },
        {
          "output_type": "stream",
          "name": "stdout",
          "text": [
            "1/1 [==============================] - 1s 548ms/step\n"
          ]
        },
        {
          "output_type": "stream",
          "name": "stderr",
          "text": [
            "\r 24%|██▍       | 338/1389 [55:32<2:50:34,  9.74s/it]"
          ]
        },
        {
          "output_type": "stream",
          "name": "stdout",
          "text": [
            "1/1 [==============================] - 1s 546ms/step\n"
          ]
        },
        {
          "output_type": "stream",
          "name": "stderr",
          "text": [
            "\r 24%|██▍       | 339/1389 [55:42<2:49:07,  9.66s/it]"
          ]
        },
        {
          "output_type": "stream",
          "name": "stdout",
          "text": [
            "1/1 [==============================] - 1s 566ms/step\n"
          ]
        },
        {
          "output_type": "stream",
          "name": "stderr",
          "text": [
            "\r 24%|██▍       | 340/1389 [55:51<2:48:22,  9.63s/it]"
          ]
        },
        {
          "output_type": "stream",
          "name": "stdout",
          "text": [
            "1/1 [==============================] - 1s 558ms/step\n"
          ]
        },
        {
          "output_type": "stream",
          "name": "stderr",
          "text": [
            "\r 25%|██▍       | 341/1389 [56:01<2:46:55,  9.56s/it]"
          ]
        },
        {
          "output_type": "stream",
          "name": "stdout",
          "text": [
            "1/1 [==============================] - 1s 546ms/step\n"
          ]
        },
        {
          "output_type": "stream",
          "name": "stderr",
          "text": [
            "\r 25%|██▍       | 342/1389 [56:10<2:46:27,  9.54s/it]"
          ]
        },
        {
          "output_type": "stream",
          "name": "stdout",
          "text": [
            "1/1 [==============================] - 1s 518ms/step\n"
          ]
        },
        {
          "output_type": "stream",
          "name": "stderr",
          "text": [
            "\r 25%|██▍       | 343/1389 [56:20<2:48:27,  9.66s/it]"
          ]
        },
        {
          "output_type": "stream",
          "name": "stdout",
          "text": [
            "1/1 [==============================] - 1s 556ms/step\n"
          ]
        },
        {
          "output_type": "stream",
          "name": "stderr",
          "text": [
            "\r 25%|██▍       | 344/1389 [56:30<2:48:10,  9.66s/it]"
          ]
        },
        {
          "output_type": "stream",
          "name": "stdout",
          "text": [
            "1/1 [==============================] - 1s 537ms/step\n"
          ]
        },
        {
          "output_type": "stream",
          "name": "stderr",
          "text": [
            "\r 25%|██▍       | 345/1389 [56:39<2:47:00,  9.60s/it]"
          ]
        },
        {
          "output_type": "stream",
          "name": "stdout",
          "text": [
            "1/1 [==============================] - 1s 540ms/step\n"
          ]
        },
        {
          "output_type": "stream",
          "name": "stderr",
          "text": [
            "\r 25%|██▍       | 346/1389 [56:48<2:43:04,  9.38s/it]"
          ]
        },
        {
          "output_type": "stream",
          "name": "stdout",
          "text": [
            "1/1 [==============================] - 1s 536ms/step\n"
          ]
        },
        {
          "output_type": "stream",
          "name": "stderr",
          "text": [
            "\r 25%|██▍       | 347/1389 [56:57<2:39:43,  9.20s/it]"
          ]
        },
        {
          "output_type": "stream",
          "name": "stdout",
          "text": [
            "1/1 [==============================] - 1s 552ms/step\n"
          ]
        },
        {
          "output_type": "stream",
          "name": "stderr",
          "text": [
            "\r 25%|██▌       | 348/1389 [57:06<2:38:17,  9.12s/it]"
          ]
        },
        {
          "output_type": "stream",
          "name": "stdout",
          "text": [
            "1/1 [==============================] - 1s 543ms/step\n"
          ]
        },
        {
          "output_type": "stream",
          "name": "stderr",
          "text": [
            "\r 25%|██▌       | 349/1389 [57:16<2:42:40,  9.38s/it]"
          ]
        },
        {
          "output_type": "stream",
          "name": "stdout",
          "text": [
            "1/1 [==============================] - 1s 536ms/step\n"
          ]
        },
        {
          "output_type": "stream",
          "name": "stderr",
          "text": [
            "\r 25%|██▌       | 350/1389 [57:25<2:40:58,  9.30s/it]"
          ]
        },
        {
          "output_type": "stream",
          "name": "stdout",
          "text": [
            "1/1 [==============================] - 1s 548ms/step\n"
          ]
        },
        {
          "output_type": "stream",
          "name": "stderr",
          "text": [
            "\r 25%|██▌       | 351/1389 [57:34<2:41:01,  9.31s/it]"
          ]
        },
        {
          "output_type": "stream",
          "name": "stdout",
          "text": [
            "1/1 [==============================] - 1s 547ms/step\n"
          ]
        },
        {
          "output_type": "stream",
          "name": "stderr",
          "text": [
            "\r 25%|██▌       | 352/1389 [57:43<2:38:38,  9.18s/it]"
          ]
        },
        {
          "output_type": "stream",
          "name": "stdout",
          "text": [
            "1/1 [==============================] - 1s 552ms/step\n"
          ]
        },
        {
          "output_type": "stream",
          "name": "stderr",
          "text": [
            "\r 25%|██▌       | 353/1389 [57:53<2:43:22,  9.46s/it]"
          ]
        },
        {
          "output_type": "stream",
          "name": "stdout",
          "text": [
            "1/1 [==============================] - 1s 542ms/step\n"
          ]
        },
        {
          "output_type": "stream",
          "name": "stderr",
          "text": [
            "\r 25%|██▌       | 354/1389 [58:03<2:42:53,  9.44s/it]"
          ]
        },
        {
          "output_type": "stream",
          "name": "stdout",
          "text": [
            "1/1 [==============================] - 1s 550ms/step\n"
          ]
        },
        {
          "output_type": "stream",
          "name": "stderr",
          "text": [
            "\r 26%|██▌       | 355/1389 [58:12<2:40:55,  9.34s/it]"
          ]
        },
        {
          "output_type": "stream",
          "name": "stdout",
          "text": [
            "1/1 [==============================] - 1s 542ms/step\n"
          ]
        },
        {
          "output_type": "stream",
          "name": "stderr",
          "text": [
            "\r 26%|██▌       | 356/1389 [58:21<2:37:30,  9.15s/it]"
          ]
        },
        {
          "output_type": "stream",
          "name": "stdout",
          "text": [
            "1/1 [==============================] - 1s 544ms/step\n"
          ]
        },
        {
          "output_type": "stream",
          "name": "stderr",
          "text": [
            "\r 26%|██▌       | 357/1389 [58:29<2:35:10,  9.02s/it]"
          ]
        },
        {
          "output_type": "stream",
          "name": "stdout",
          "text": [
            "1/1 [==============================] - 1s 547ms/step\n"
          ]
        },
        {
          "output_type": "stream",
          "name": "stderr",
          "text": [
            "\r 26%|██▌       | 358/1389 [58:39<2:39:09,  9.26s/it]"
          ]
        },
        {
          "output_type": "stream",
          "name": "stdout",
          "text": [
            "1/1 [==============================] - 1s 547ms/step\n"
          ]
        },
        {
          "output_type": "stream",
          "name": "stderr",
          "text": [
            "\r 26%|██▌       | 359/1389 [58:48<2:36:36,  9.12s/it]"
          ]
        },
        {
          "output_type": "stream",
          "name": "stdout",
          "text": [
            "1/1 [==============================] - 1s 541ms/step\n"
          ]
        },
        {
          "output_type": "stream",
          "name": "stderr",
          "text": [
            "\r 26%|██▌       | 360/1389 [58:58<2:39:58,  9.33s/it]"
          ]
        },
        {
          "output_type": "stream",
          "name": "stdout",
          "text": [
            "1/1 [==============================] - 1s 559ms/step\n"
          ]
        },
        {
          "output_type": "stream",
          "name": "stderr",
          "text": [
            "\r 26%|██▌       | 361/1389 [59:07<2:41:58,  9.45s/it]"
          ]
        },
        {
          "output_type": "stream",
          "name": "stdout",
          "text": [
            "1/1 [==============================] - 1s 546ms/step\n"
          ]
        },
        {
          "output_type": "stream",
          "name": "stderr",
          "text": [
            "\r 26%|██▌       | 362/1389 [59:17<2:39:55,  9.34s/it]"
          ]
        },
        {
          "output_type": "stream",
          "name": "stdout",
          "text": [
            "1/1 [==============================] - 1s 540ms/step\n"
          ]
        },
        {
          "output_type": "stream",
          "name": "stderr",
          "text": [
            "\r 26%|██▌       | 363/1389 [59:26<2:41:38,  9.45s/it]"
          ]
        },
        {
          "output_type": "stream",
          "name": "stdout",
          "text": [
            "1/1 [==============================] - 1s 537ms/step\n"
          ]
        },
        {
          "output_type": "stream",
          "name": "stderr",
          "text": [
            "\r 26%|██▌       | 364/1389 [59:36<2:40:54,  9.42s/it]"
          ]
        },
        {
          "output_type": "stream",
          "name": "stdout",
          "text": [
            "1/1 [==============================] - 1s 558ms/step\n"
          ]
        },
        {
          "output_type": "stream",
          "name": "stderr",
          "text": [
            "\r 26%|██▋       | 365/1389 [59:45<2:40:58,  9.43s/it]"
          ]
        },
        {
          "output_type": "stream",
          "name": "stdout",
          "text": [
            "1/1 [==============================] - 1s 549ms/step\n"
          ]
        },
        {
          "output_type": "stream",
          "name": "stderr",
          "text": [
            "\r 26%|██▋       | 366/1389 [59:55<2:41:33,  9.48s/it]"
          ]
        },
        {
          "output_type": "stream",
          "name": "stdout",
          "text": [
            "1/1 [==============================] - 1s 563ms/step\n"
          ]
        },
        {
          "output_type": "stream",
          "name": "stderr",
          "text": [
            "\r 26%|██▋       | 367/1389 [1:00:04<2:40:05,  9.40s/it]"
          ]
        },
        {
          "output_type": "stream",
          "name": "stdout",
          "text": [
            "1/1 [==============================] - 1s 558ms/step\n"
          ]
        },
        {
          "output_type": "stream",
          "name": "stderr",
          "text": [
            "\r 26%|██▋       | 368/1389 [1:00:13<2:39:43,  9.39s/it]"
          ]
        },
        {
          "output_type": "stream",
          "name": "stdout",
          "text": [
            "1/1 [==============================] - 1s 566ms/step\n"
          ]
        },
        {
          "output_type": "stream",
          "name": "stderr",
          "text": [
            "\r 27%|██▋       | 369/1389 [1:00:23<2:39:37,  9.39s/it]"
          ]
        }
      ],
      "source": [
        "import os\n",
        "import numpy as np\n",
        "import tensorflow as tf\n",
        "from tensorflow.keras.preprocessing.image import load_img, img_to_array\n",
        "from tensorflow.keras.applications.resnet50 import ResNet50, preprocess_input\n",
        "from tensorflow.keras.layers import GlobalMaxPooling2D, Dense, Dropout\n",
        "from tensorflow.keras.models import Sequential\n",
        "import pickle\n",
        "from tqdm import tqdm\n",
        "\n",
        "# Model setup\n",
        "base_model = ResNet50(weights='imagenet', include_top=False, input_shape=(224, 224, 3))\n",
        "\n",
        "# Fine-tune the model\n",
        "for layer in base_model.layers[:-10]:  # Freeze all layers except the last 10 layers\n",
        "    layer.trainable = False\n",
        "\n",
        "# Build the model by adding custom layers on top of the ResNet50 base\n",
        "model = Sequential([\n",
        "    base_model,\n",
        "    GlobalMaxPooling2D(),  # Pooling layer to flatten the output from ResNet50\n",
        "    Dense(512, activation='relu'),  # Optional Dense layer for fine-tuning\n",
        "    Dropout(0.5)  # Dropout to prevent overfitting\n",
        "])\n",
        "\n",
        "# No need to compile the model for feature extraction\n",
        "# model.compile(optimizer=Adam(1e-5), loss='categorical_crossentropy', metrics=['accuracy'])\n",
        "\n",
        "# Summary of the model\n",
        "model.summary()\n",
        "\n",
        "# Image directory and batch size\n",
        "image_directory = 'images'  # Replace with your image directory\n",
        "batch_size = 32\n",
        "\n",
        "# Custom image generator without augmentation for feature extraction\n",
        "def custom_image_generator(directory, batch_size=32, target_size=(224, 224)):\n",
        "    files = [os.path.join(directory, f) for f in os.listdir(directory) if os.path.isfile(os.path.join(directory, f))]\n",
        "    num_files = len(files)\n",
        "\n",
        "    while True:\n",
        "        for offset in range(0, num_files, batch_size):\n",
        "            batch_files = files[offset:offset + batch_size]\n",
        "            batch_images = []\n",
        "\n",
        "            for file in batch_files:\n",
        "                img = load_img(file, target_size=target_size)\n",
        "                img_array = img_to_array(img)\n",
        "                img_array = preprocess_input(img_array)\n",
        "                batch_images.append(img_array)\n",
        "\n",
        "            batch_images = np.array(batch_images)\n",
        "            yield batch_images, batch_files\n",
        "\n",
        "# Generator initialization\n",
        "generator = custom_image_generator(image_directory, batch_size=batch_size)\n",
        "\n",
        "# Calculate number of batches\n",
        "num_images = len([name for name in os.listdir(image_directory) if os.path.isfile(os.path.join(image_directory, name))])\n",
        "num_batches = np.ceil(num_images / batch_size)\n",
        "\n",
        "# Initialize lists to store features and filenames\n",
        "feature_list = []\n",
        "filenames = []\n",
        "\n",
        "# Extract features in batches\n",
        "for _ in tqdm(range(int(num_batches))):\n",
        "    batch_images, batch_files = next(generator)\n",
        "    batch_features = model.predict(batch_images)\n",
        "    batch_features = [feature.flatten() for feature in batch_features]  # Flatten features\n",
        "    feature_list.extend(batch_features)\n",
        "    filenames.extend(batch_files)\n",
        "\n",
        "# Save features and filenames\n",
        "with open('embeddings.pkl', 'wb') as f:\n",
        "    pickle.dump(feature_list, f)\n",
        "\n",
        "with open('filenames.pkl', 'wb') as f:\n",
        "    pickle.dump(filenames, f)\n"
      ]
    },
    {
      "cell_type": "code",
      "execution_count": null,
      "metadata": {
        "id": "C0czFwdg3fQ0"
      },
      "outputs": [],
      "source": [
        "from flask import Flask, request, jsonify\n",
        "import numpy as np\n",
        "import tensorflow as tf\n",
        "from tensorflow.keras.preprocessing.image import load_img, img_to_array\n",
        "from tensorflow.keras.applications.resnet50 import ResNet50, preprocess_input\n",
        "from tensorflow.keras.layers import GlobalMaxPooling2D, Dense, Dropout\n",
        "from tensorflow.keras.models import Sequential\n",
        "import pickle\n",
        "import os\n",
        "from sklearn.metrics.pairwise import cosine_similarity\n",
        "\n",
        "app = Flask(__name__)\n",
        "\n",
        "# Load precomputed features and filenames\n",
        "with open('embeddings.pkl', 'rb') as f:\n",
        "    feature_list = pickle.load(f)\n",
        "with open('filenames.pkl', 'rb') as f:\n",
        "    filenames = pickle.load(f)\n",
        "\n",
        "# Convert list of features to numpy array\n",
        "feature_array = np.array(feature_list)\n",
        "\n",
        "# Model setup\n",
        "base_model = ResNet50(weights='imagenet', include_top=False, input_shape=(224, 224, 3))\n",
        "for layer in base_model.layers[:-10]:\n",
        "    layer.trainable = False\n",
        "\n",
        "model = Sequential([\n",
        "    base_model,\n",
        "    GlobalMaxPooling2D(),\n",
        "    Dense(512, activation='relu'),\n",
        "    Dropout(0.5)\n",
        "])\n",
        "\n",
        "# Define feature extraction function\n",
        "def extract_features(image_path):\n",
        "    img = load_img(image_path, target_size=(224, 224))\n",
        "    img_array = img_to_array(img)\n",
        "    img_array = np.expand_dims(img_array, axis=0)\n",
        "    img_array = preprocess_input(img_array)\n",
        "    features = model.predict(img_array)\n",
        "    return features.flatten()\n",
        "\n",
        "# Define similarity function\n",
        "def get_top_5_recommendations(image_features):\n",
        "    # Compute cosine similarity between the input image features and precomputed features\n",
        "    similarities = cosine_similarity([image_features], feature_array)\n",
        "    # Get indices of top 5 most similar images\n",
        "    top_indices = similarities[0].argsort()[-5:][::-1]\n",
        "    return [filenames[i] for i in top_indices]\n",
        "\n",
        "# Define API endpoint for recommendation\n",
        "@app.route('/recommend', methods=['POST'])\n",
        "def recommend():\n",
        "    if 'file' not in request.files:\n",
        "        return jsonify({'error': 'No file provided'}), 400\n",
        "\n",
        "    file = request.files['file']\n",
        "    if file.filename == '':\n",
        "        return jsonify({'error': 'No file selected'}), 400\n",
        "\n",
        "    # Save the uploaded file\n",
        "    file_path = 'temp_image.jpg'\n",
        "    file.save(file_path)\n",
        "\n",
        "    # Extract features from the uploaded image\n",
        "    uploaded_image_features = extract_features(file_path)\n",
        "\n",
        "    # Get top 5 recommendations\n",
        "    recommendations = get_top_5_recommendations(uploaded_image_features)\n",
        "\n",
        "    # Remove the temporary file\n",
        "    os.remove(file_path)\n",
        "\n",
        "    return jsonify({'recommendations': recommendations})\n",
        "\n",
        "if __name__ == '__main__':\n",
        "    app.run(debug=True)\n"
      ]
    },
    {
      "cell_type": "code",
      "source": [],
      "metadata": {
        "id": "GYW6k7Gof8YV"
      },
      "execution_count": null,
      "outputs": []
    }
  ],
  "metadata": {
    "accelerator": "TPU",
    "colab": {
      "gpuType": "V28",
      "provenance": []
    },
    "kernelspec": {
      "display_name": "Python 3",
      "name": "python3"
    },
    "language_info": {
      "name": "python"
    }
  },
  "nbformat": 4,
  "nbformat_minor": 0
}